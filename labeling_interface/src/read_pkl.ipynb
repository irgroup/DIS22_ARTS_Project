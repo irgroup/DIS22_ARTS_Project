{
 "cells": [
  {
   "cell_type": "code",
   "execution_count": 1,
   "id": "initial_id",
   "metadata": {
    "collapsed": true,
    "ExecuteTime": {
     "end_time": "2024-05-31T07:29:57.224620Z",
     "start_time": "2024-05-31T07:29:42.323602Z"
    }
   },
   "outputs": [
    {
     "name": "stdout",
     "output_type": "stream",
     "text": [
      "Loaded object type: <class 'dict'>\n"
     ]
    }
   ],
   "source": [
    "import pandas as pd\n",
    "import pickle\n",
    "import subprocess\n",
    "import platform\n",
    "import os\n",
    "\n",
    "def open_file(file_path):\n",
    "    if platform.system() == 'Windows':\n",
    "        os.startfile(file_path)\n",
    "    elif platform.system() == 'Darwin':  # macOS\n",
    "        subprocess.call(['open', file_path])\n",
    "    else:  # Linux and other Unix-like systems\n",
    "        subprocess.call(['xdg-open', file_path])\n",
    "\n",
    "def convert_pkl_to_csv(pkl_file_path, csv_file_path):\n",
    "    # Load the object from the pickle file\n",
    "    with open(pkl_file_path, 'rb') as file:\n",
    "        obj = pickle.load(file)\n",
    "    \n",
    "    # Print the type of the loaded object\n",
    "    print(f\"Loaded object type: {type(obj)}\")\n",
    "    \n",
    "    # Check the object type and convert to DataFrame if possible\n",
    "    if isinstance(obj, pd.DataFrame):\n",
    "        df = obj\n",
    "    elif isinstance(obj, dict):\n",
    "        # Convert dictionary of lists to DataFrame\n",
    "        df = pd.DataFrame(obj)\n",
    "    elif isinstance(obj, list):\n",
    "        if all(isinstance(item, dict) for item in obj):\n",
    "            df = pd.DataFrame(obj)\n",
    "        elif all(isinstance(item, tuple) for item in obj):\n",
    "            df = pd.DataFrame(obj)\n",
    "        elif all(isinstance(item, list) for item in obj):\n",
    "            df = pd.DataFrame(obj)\n",
    "        else:\n",
    "            raise ValueError(\"The list contains unsupported types for conversion to DataFrame.\")\n",
    "    else:\n",
    "        raise ValueError(\"The loaded object is not a pandas DataFrame, a dictionary of lists, or a list of supported types. It is of type: {}\".format(type(obj)))\n",
    "\n",
    "    # Save the DataFrame to a CSV file\n",
    "    df.to_csv(csv_file_path, index=False)\n",
    "    \n",
    "    # Open the CSV file with the default application\n",
    "    open_file(csv_file_path)\n",
    "\n",
    "# Example usage\n",
    "pkl_file_path = 'histories/Testen-94_history.pkl'\n",
    "csv_file_path = 'histories/Testen-94_history.csv'\n",
    "\n",
    "convert_pkl_to_csv(pkl_file_path, csv_file_path)\n"
   ]
  },
  {
   "cell_type": "code",
   "outputs": [],
   "source": [],
   "metadata": {
    "collapsed": false
   },
   "id": "8f3895f41c764a2b"
  }
 ],
 "metadata": {
  "kernelspec": {
   "display_name": "Python 3",
   "language": "python",
   "name": "python3"
  },
  "language_info": {
   "codemirror_mode": {
    "name": "ipython",
    "version": 2
   },
   "file_extension": ".py",
   "mimetype": "text/x-python",
   "name": "python",
   "nbconvert_exporter": "python",
   "pygments_lexer": "ipython2",
   "version": "2.7.6"
  }
 },
 "nbformat": 4,
 "nbformat_minor": 5
}
