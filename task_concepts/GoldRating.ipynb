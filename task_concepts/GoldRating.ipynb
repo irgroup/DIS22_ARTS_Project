{
 "cells": [
  {
   "cell_type": "markdown",
   "metadata": {},
   "source": [
    " This file creates three Gold DataFrames from three different groups, which are later used in InterraterAgreement.ipynb"
   ]
  },
  {
   "cell_type": "code",
   "execution_count": 1,
   "metadata": {},
   "outputs": [],
   "source": [
    "import pandas as pd\n",
    "import os"
   ]
  },
  {
   "cell_type": "code",
   "execution_count": 2,
   "metadata": {},
   "outputs": [],
   "source": [
    "# Create DataFrame from Pickle files\n",
    "def iterator(filename):\n",
    "    obj = pd.read_pickle(\"./export/\"+ filename)\n",
    "    data = pd.DataFrame(obj).T\n",
    "    return data"
   ]
  },
  {
   "cell_type": "markdown",
   "metadata": {},
   "source": [
    "# 1. Gruppe"
   ]
  },
  {
   "cell_type": "code",
   "execution_count": 3,
   "metadata": {},
   "outputs": [],
   "source": [
    "obj = pd.read_pickle(\"./export/ArthMa-160_history.pkl\") # Use a DataFrame as reference for the Group\n",
    "df = pd.DataFrame(obj).T\n",
    "df.drop([2], axis=1, inplace=True) # Drop unnessecary file\n",
    "\n",
    "# Choose files from the Group, albeit I could have coded it simpler\n",
    "csv_files = [f for f in os.listdir('./export') if f.endswith('_history.pkl') and not f.startswith(\"aab\") and not f.startswith(\"ghost\") and not f.startswith(\"vikoooy\") and not f.startswith(\"Kaffe\") and not f.startswith(\"marigg\") and not f.startswith(\"Power\")]\n",
    "\n",
    "final_df1 = pd.DataFrame()\n",
    "\n",
    "for filename in csv_files:\n",
    "    file_data = iterator(filename)\n",
    "    winner_col = file_data.get(1, None)\n",
    "    new_col_name = filename.split(\"/\")[-1].split(\".\")[0]  # Get filename without extension\n",
    "    file_data[new_col_name] = winner_col\n",
    "    new_col_name = filename.split(\"/\")[-1].split(\".\")[0]\n",
    "    \n",
    "    final_df1[new_col_name] = winner_col\n",
    "# Print the final DataFrame\n",
    "\n",
    "first_row = []\n",
    "for index, row in final_df1.iterrows():\n",
    "    row = final_df1.iloc[index]\n",
    "\n",
    "    # Count occurrences using value_counts\n",
    "    value_counts = row.value_counts().idxmax()\n",
    "    first_row.append(value_counts)\n",
    "\n",
    "df[1] = first_row"
   ]
  },
  {
   "cell_type": "code",
   "execution_count": 125,
   "metadata": {},
   "outputs": [],
   "source": [
    "csv_files = [f for f in os.listdir('./export') if f.endswith('_history.pkl') and not f.startswith(\"aab\") and not f.startswith(\"ghost\") and not f.startswith(\"vikoooy\") and not f.startswith(\"Kaffe\") and not f.startswith(\"marigg\") and not f.startswith(\"Power\")]\n",
    "\n",
    "final_df1 = pd.DataFrame()\n",
    "\n",
    "for filename in csv_files:\n",
    "    file_data = iterator(filename)\n",
    "    winner_col = file_data.get(3, None)\n",
    "    new_col_name = filename.split(\"/\")[-1].split(\".\")[0]  # Get filename without extension\n",
    "    file_data[new_col_name] = winner_col\n",
    "    new_col_name = filename.split(\"/\")[-1].split(\".\")[0]\n",
    "    \n",
    "    final_df1[new_col_name] = winner_col\n",
    "# Print the final DataFrame\n",
    "\n",
    "third_row = []\n",
    "for index, row in final_df1.iterrows():\n",
    "    row = final_df1.iloc[index]\n",
    "\n",
    "    # Count occurrences using value_counts\n",
    "    value_counts = row.value_counts().idxmax()\n",
    "    third_row.append(value_counts)\n",
    "\n",
    "\n",
    "df[3] = first_row\n",
    "df.to_csv(\"gold1-160_history.csv\", index=False)"
   ]
  },
  {
   "cell_type": "markdown",
   "metadata": {},
   "source": [
    "# 2. Gruppe"
   ]
  },
  {
   "cell_type": "code",
   "execution_count": 126,
   "metadata": {},
   "outputs": [],
   "source": [
    "obj = pd.read_pickle(\"./export/aab-160_history.pkl\")\n",
    "df = pd.DataFrame(obj).T\n",
    "df.drop([2], axis=1, inplace=True)\n",
    "\n",
    "csv_files = [f for f in os.listdir('./export') if f.endswith('_history.pkl') and not f.startswith(\"ArthMa\") and not f.startswith(\"DisRating\") and not f.startswith(\"Peter\") and not f.startswith(\"Casomoto\") and not f.startswith(\"Kaffe\") and not f.startswith(\"marigg\") and not f.startswith(\"Power\")]\n",
    "\n",
    "final_df2 = pd.DataFrame()\n",
    "all_dfs = []\n",
    "for filename in csv_files:\n",
    "    file_data = iterator(filename)\n",
    "    winner_col = file_data.get(1, None)\n",
    "    new_col_name = filename.split(\"/\")[-1].split(\".\")[0]  # Get filename without extension\n",
    "    file_data[new_col_name] = winner_col\n",
    "    new_col_name = filename.split(\"/\")[-1].split(\".\")[0]\n",
    "    \n",
    "    final_df2[new_col_name] = winner_col\n",
    "    \n",
    "# Print the final DataFrame\n",
    "first_row = []\n",
    "for index, row in final_df2.iterrows():\n",
    "    row = final_df2.iloc[index]\n",
    "\n",
    "    # Count occurrences using value_counts\n",
    "    value_counts = row.value_counts().idxmax()\n",
    "    first_row.append(value_counts)\n",
    "\n",
    "df[1] = first_row"
   ]
  },
  {
   "cell_type": "code",
   "execution_count": 127,
   "metadata": {},
   "outputs": [],
   "source": [
    "csv_files = [f for f in os.listdir('./export') if f.endswith('_history.pkl') and not f.startswith(\"ArthMa\") and not f.startswith(\"DisRating\") and not f.startswith(\"Peter\") and not f.startswith(\"Casomoto\") and not f.startswith(\"Kaffe\") and not f.startswith(\"marigg\") and not f.startswith(\"Power\")]\n",
    "\n",
    "final_df2 = pd.DataFrame()\n",
    "\n",
    "for filename in csv_files:\n",
    "    file_data = iterator(filename)\n",
    "    winner_col = file_data.get(3, None)\n",
    "    new_col_name = filename.split(\"/\")[-1].split(\".\")[0]  # Get filename without extension\n",
    "    file_data[new_col_name] = winner_col\n",
    "    new_col_name = filename.split(\"/\")[-1].split(\".\")[0]\n",
    "    \n",
    "    final_df2[new_col_name] = winner_col\n",
    "# Print the final DataFrame\n",
    "\n",
    "third_row = []\n",
    "for index, row in final_df2.iterrows():\n",
    "    row = final_df2.iloc[index]\n",
    "\n",
    "    # Count occurrences using value_counts\n",
    "    value_counts = row.value_counts().idxmax()\n",
    "    third_row.append(value_counts)\n",
    "\n",
    "\n",
    "df[3] = third_row\n",
    "df.to_csv(\"gold2-160_history.csv\", index=False)"
   ]
  },
  {
   "cell_type": "markdown",
   "metadata": {},
   "source": [
    "# 3. Gruppe"
   ]
  },
  {
   "cell_type": "code",
   "execution_count": 128,
   "metadata": {},
   "outputs": [],
   "source": [
    "obj = pd.read_pickle(\"./export/Kaffeetrinker-160_history.pkl\")\n",
    "df = pd.DataFrame(obj).T\n",
    "df.drop([2], axis=1, inplace=True)\n",
    "\n",
    "\n",
    "csv_files = [f for f in os.listdir('./export') if f.endswith('_history.pkl') and not f.startswith(\"aab\") and not f.startswith(\"ghost\") and not f.startswith(\"vikoooy\") and not f.startswith(\"ArthMa\") and not f.startswith(\"DisRating\") and not f.startswith(\"Peter\") and not f.startswith(\"Casomoto\")]\n",
    "\n",
    "final_df3 = pd.DataFrame()\n",
    "all_dfs = []\n",
    "for filename in csv_files:\n",
    "    file_data = iterator(filename)\n",
    "    winner_col = file_data.get(1, None)\n",
    "    new_col_name = filename.split(\"/\")[-1].split(\".\")[0]  # Get filename without extension\n",
    "    file_data[new_col_name] = winner_col\n",
    "    new_col_name = filename.split(\"/\")[-1].split(\".\")[0]\n",
    "    \n",
    "    final_df3[new_col_name] = winner_col\n",
    "\n",
    "\n",
    "# Print the final DataFrame\n",
    "first_row = []\n",
    "for index, row in final_df3.iterrows():\n",
    "    row = final_df3.iloc[index]\n",
    "\n",
    "    # Count occurrences using value_counts\n",
    "    value_counts = row.value_counts().idxmax()\n",
    "    first_row.append(value_counts)\n",
    "\n",
    "df[1] = first_row"
   ]
  },
  {
   "cell_type": "code",
   "execution_count": 129,
   "metadata": {},
   "outputs": [],
   "source": [
    "csv_files = [f for f in os.listdir('./export') if f.endswith('_history.pkl') and not f.startswith(\"aab\") and not f.startswith(\"ghost\") and not f.startswith(\"vikoooy\") and not f.startswith(\"ArthMa\") and not f.startswith(\"DisRating\") and not f.startswith(\"Peter\") and not f.startswith(\"Casomoto\")]\n",
    "\n",
    "final_df3 = pd.DataFrame()\n",
    "\n",
    "for filename in csv_files:\n",
    "    file_data = iterator(filename)\n",
    "    winner_col = file_data.get(3, None)\n",
    "    new_col_name = filename.split(\"/\")[-1].split(\".\")[0]  # Get filename without extension\n",
    "    file_data[new_col_name] = winner_col\n",
    "    new_col_name = filename.split(\"/\")[-1].split(\".\")[0]\n",
    "    \n",
    "    final_df3[new_col_name] = winner_col\n",
    "# Print the final DataFrame\n",
    "\n",
    "third_row = []\n",
    "for index, row in final_df3.iterrows():\n",
    "    row = final_df3.iloc[index]\n",
    "\n",
    "    # Count occurrences using value_counts\n",
    "    value_counts = row.value_counts().idxmax()\n",
    "    third_row.append(value_counts)\n",
    "\n",
    "\n",
    "df[3] = third_row\n",
    "df.to_csv(\"gold3-160_history.csv\", index=False)"
   ]
  }
 ],
 "metadata": {
  "kernelspec": {
   "display_name": "iry",
   "language": "python",
   "name": "python3"
  },
  "language_info": {
   "codemirror_mode": {
    "name": "ipython",
    "version": 3
   },
   "file_extension": ".py",
   "mimetype": "text/x-python",
   "name": "python",
   "nbconvert_exporter": "python",
   "pygments_lexer": "ipython3",
   "version": "3.12.3"
  }
 },
 "nbformat": 4,
 "nbformat_minor": 2
}
