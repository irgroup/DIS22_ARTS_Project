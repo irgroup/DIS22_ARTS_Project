{
 "cells": [
  {
   "cell_type": "markdown",
   "metadata": {},
   "source": [
    "Arthur"
   ]
  },
  {
   "cell_type": "code",
   "execution_count": 1,
   "metadata": {},
   "outputs": [],
   "source": [
    "import pandas as pd\n",
    "import os\n",
    "from sklearn.metrics import cohen_kappa_score"
   ]
  },
  {
   "cell_type": "code",
   "execution_count": 2,
   "metadata": {},
   "outputs": [],
   "source": [
    "agreement = {}\n",
    "slider_agreement = {}\n",
    "cohen_dictonary = dict()"
   ]
  },
  {
   "cell_type": "markdown",
   "metadata": {},
   "source": [
    "### For the first group"
   ]
  },
  {
   "cell_type": "code",
   "execution_count": 3,
   "metadata": {},
   "outputs": [
    {
     "name": "stdout",
     "output_type": "stream",
     "text": [
      "Agreement Percentage ArthMa-160_history.pkl: 0.884375\n",
      "Agreement Percentage Casomoto-160_history.pkl: 0.853125\n",
      "Agreement Percentage DisRating-160_history.pkl: 0.8296875\n",
      "Agreement Percentage Peter-160_history.pkl: 0.79375\n"
     ]
    }
   ],
   "source": [
    "df_gold = pd.read_csv(\"./gold1-160_history.csv\")\n",
    "df_gold.rename(columns={0: \"Q\"}, inplace=True) # Renaming, because of getting error\n",
    "\n",
    "# For the first group\n",
    "csv_files = [f for f in os.listdir('./export') if f.endswith('_history.pkl') and not f.startswith(\"aab\") and not f.startswith(\"ghost\") and not f.startswith(\"vikoooy\") and not f.startswith(\"Kaffe\") and not f.startswith(\"marigg\") and not f.startswith(\"Power\")]\n",
    "\n",
    "for file in csv_files:\n",
    "    obj = pd.read_pickle(\"./export/\"+ file)\n",
    "    df_rate = pd.DataFrame(obj).T\n",
    "    df_rate.rename(columns={0: \"Q\", 1: \"winner\", 3: \"question_winner\"}, inplace=True)\n",
    "    df_rate[\"Q\"] = df_rate[\"Q\"].astype(str)\n",
    "\n",
    "    # Merge the dataframes on `left` and `right` and add suffixes\n",
    "    merged_df = df_gold.merge(df_rate, on=[\"Q\"], suffixes=('_gold', '_rate'))\n",
    "\n",
    "    merged_df['agreement'] = (merged_df[\"winner_gold\"] == merged_df[\"winner_rate\"]).astype(int)\n",
    "    merged_df[\"question_winner_gold\"] = merged_df[\"question_winner_gold\"].str.extract(r'(\\d)')\n",
    "    merged_df[\"question_winner_rate\"] = merged_df[\"question_winner_rate\"].astype(str).str.extract(r'(\\d+)', expand=True)\n",
    "    merged_df['quizagreement'] = (merged_df[\"question_winner_gold\"] == merged_df[\"question_winner_rate\"])\n",
    "\n",
    "    print(f'Agreement Percentage {file}: {merged_df[\"agreement\"].sum()/len(merged_df)}') # Check if everything went alright\n",
    "    iaa = merged_df[\"agreement\"].sum()/len(merged_df)\n",
    "    choice = merged_df[\"quizagreement\"].sum()/len(merged_df)\n",
    "    x = {file.split('.')[0]: iaa} # The Key is the filename without the ending and the value is the Agreement Percentage\n",
    "    y = {file.split('.')[0]:choice} # The Key is the filename without the ending and the value is the Agreement of the Slider\n",
    "    agreement.update(x)\n",
    "    slider_agreement.update(y)"
   ]
  },
  {
   "cell_type": "markdown",
   "metadata": {
    "vscode": {
     "languageId": "bat"
    }
   },
   "source": [
    "### For the second group"
   ]
  },
  {
   "cell_type": "code",
   "execution_count": 234,
   "metadata": {},
   "outputs": [
    {
     "name": "stdout",
     "output_type": "stream",
     "text": [
      "Agreement Percentage aab-160_history.pkl: 0.8953125\n"
     ]
    },
    {
     "name": "stdout",
     "output_type": "stream",
     "text": [
      "Agreement Percentage ghost-160_history.pkl: 0.871875\n",
      "Agreement Percentage vikoooy-160_history.pkl: 0.903125\n"
     ]
    }
   ],
   "source": [
    "df_gold = pd.read_csv(\"./gold2-160_history.csv\")\n",
    "df_gold.rename(columns={0: \"Q\"}, inplace=True)\n",
    "\n",
    "# For the first group\n",
    "csv_files = [f for f in os.listdir('./export') if f.endswith('_history.pkl') and not f.startswith(\"ArthMa\") and not f.startswith(\"DisRating\") and not f.startswith(\"Peter\") and not f.startswith(\"Casomoto\") and not f.startswith(\"Kaffe\") and not f.startswith(\"marigg\") and not f.startswith(\"Power\")]\n",
    "\n",
    "for file in csv_files:\n",
    "    obj = pd.read_pickle(\"./export/\"+ file)\n",
    "    df_rate = pd.DataFrame(obj).T\n",
    "    df_rate.rename(columns={0: \"Q\", 1: \"winner\", 3: \"question_winner\"}, inplace=True)\n",
    "    df_rate[\"Q\"] = df_rate[\"Q\"].astype(str)\n",
    "\n",
    "    # Merge the dataframes on `left` and `right`\n",
    "    merged_df = df_gold.merge(df_rate, on=[\"Q\"], suffixes=('_gold', '_rate'))\n",
    "\n",
    "    merged_df['agreement'] = (merged_df[\"winner_gold\"] == merged_df[\"winner_rate\"]).astype(int)\n",
    "    merged_df[\"question_winner_gold\"] = merged_df[\"question_winner_gold\"].str.extract(r'(\\d)')\n",
    "    merged_df[\"question_winner_rate\"] = merged_df[\"question_winner_rate\"].astype(str).str.extract(r'(\\d+)', expand=True)\n",
    "    merged_df['quizagreement'] = (merged_df[\"question_winner_gold\"] == merged_df[\"question_winner_rate\"])\n",
    "\n",
    "    print(f'Agreement Percentage {file}: {merged_df[\"agreement\"].sum()/len(merged_df)}')\n",
    "    iaa = merged_df[\"agreement\"].sum()/len(merged_df)\n",
    "    choice = merged_df[\"quizagreement\"].sum()/len(merged_df)\n",
    "    x = {file.split('.')[0]: iaa}\n",
    "    y = {file.split('.')[0]:choice}\n",
    "    agreement.update(x)\n",
    "    slider_agreement.update(y)"
   ]
  },
  {
   "cell_type": "markdown",
   "metadata": {},
   "source": [
    "### For the third group"
   ]
  },
  {
   "cell_type": "code",
   "execution_count": 235,
   "metadata": {},
   "outputs": [
    {
     "name": "stdout",
     "output_type": "stream",
     "text": [
      "Agreement Percentage Kaffeetrinker-160_history.pkl: 0.8609375\n",
      "Agreement Percentage mariggy23-160_history.pkl: 0.8859375\n",
      "Agreement Percentage Power-160_history.pkl: 0.8421875\n"
     ]
    }
   ],
   "source": [
    "df_gold = pd.read_csv(\"./gold3-160_history.csv\")\n",
    "df_gold.rename(columns={0: \"Q\"}, inplace=True)\n",
    "\n",
    "csv_files = [f for f in os.listdir('./export') if f.endswith('_history.pkl') and not f.startswith(\"aab\") and not f.startswith(\"ghost\") and not f.startswith(\"vikoooy\") and not f.startswith(\"ArthMa\") and not f.startswith(\"DisRating\") and not f.startswith(\"Peter\") and not f.startswith(\"Casomoto\")]\n",
    "\n",
    "for file in csv_files:\n",
    "    obj = pd.read_pickle(\"./export/\"+ file)\n",
    "    df_rate = pd.DataFrame(obj).T\n",
    "    df_rate.rename(columns={0: \"Q\", 1: \"winner\", 3: \"question_winner\"}, inplace=True)\n",
    "    df_rate[\"Q\"] = df_rate[\"Q\"].astype(str)\n",
    "\n",
    "    # Merge the dataframes on `left` and `right`\n",
    "    merged_df = df_gold.merge(df_rate, on=[\"Q\"], suffixes=('_gold', '_rate'))\n",
    "\n",
    "    merged_df['agreement'] = (merged_df[\"winner_gold\"] == merged_df[\"winner_rate\"]).astype(int)\n",
    "    merged_df[\"question_winner_gold\"] = merged_df[\"question_winner_gold\"].str.extract(r'(\\d)')\n",
    "    merged_df[\"question_winner_rate\"] = merged_df[\"question_winner_rate\"].astype(str).str.extract(r'(\\d+)', expand=True)\n",
    "    merged_df['quizagreement'] = (merged_df[\"question_winner_gold\"] == merged_df[\"question_winner_rate\"]).astype(int)\n",
    "\n",
    "    print(f'Agreement Percentage {file}: {merged_df[\"agreement\"].sum()/len(merged_df)}')\n",
    "    iaa = merged_df[\"agreement\"].sum()/len(merged_df)\n",
    "    choice = merged_df[\"quizagreement\"].sum()/len(merged_df)\n",
    "    x = {file.split('.')[0]: iaa}\n",
    "    y = {file.split('.')[0]:choice}\n",
    "    agreement.update(x)\n",
    "    slider_agreement.update(y)"
   ]
  },
  {
   "cell_type": "markdown",
   "metadata": {},
   "source": [
    "### For the first group Cohen Kappa"
   ]
  },
  {
   "cell_type": "code",
   "execution_count": 236,
   "metadata": {},
   "outputs": [
    {
     "name": "stdout",
     "output_type": "stream",
     "text": [
      "ArthMa-160_history: 0.8834281382223284\n",
      "Casomoto-160_history: 0.8518708203244265\n",
      "DisRating-160_history: 0.8282585575294442\n",
      "Peter-160_history: 0.7920604914933838\n"
     ]
    }
   ],
   "source": [
    "df_gold = pd.read_csv(\"./gold1-160_history.csv\")\n",
    "goldList = [i for i in df_gold[\"winner\"]]\n",
    "hilfe = []\n",
    "def iterator(filename):\n",
    "    obj = pd.read_pickle(\"./export/\"+ filename)\n",
    "    df_rate = pd.DataFrame(obj).T\n",
    "    df_rate.rename(columns={0: \"Q\", 1: \"winner\", 3: \"question_winner\"}, inplace=True)\n",
    "    df_rate[\"Q\"] = df_rate[\"Q\"].astype(str)\n",
    "\n",
    "    return df_rate\n",
    "\n",
    "csv_files = [f for f in os.listdir('./export') if f.endswith('_history.pkl') and not f.startswith(\"aab\") and not f.startswith(\"ghost\") and not f.startswith(\"vikoooy\") and not f.startswith(\"Kaffe\") and not f.startswith(\"marigg\") and not f.startswith(\"Power\")]\n",
    "\n",
    "for filename in csv_files:\n",
    "    file_data = iterator(filename)\n",
    "    testList = [i for i in file_data[\"winner\"]]\n",
    "    y = cohen_kappa_score(goldList, testList)\n",
    "    cohen_dictonary.update({filename.split('.')[0]:y})\n",
    "\n",
    "for key, value in cohen_dictonary.items():\n",
    "    print(f'{key}: {value}')"
   ]
  },
  {
   "cell_type": "markdown",
   "metadata": {},
   "source": [
    "### For the second group Cohen Kappa"
   ]
  },
  {
   "cell_type": "code",
   "execution_count": 237,
   "metadata": {},
   "outputs": [
    {
     "name": "stdout",
     "output_type": "stream",
     "text": [
      "ArthMa-160_history: 0.8834281382223284\n",
      "Casomoto-160_history: 0.8518708203244265\n",
      "DisRating-160_history: 0.8282585575294442\n",
      "Peter-160_history: 0.7920604914933838\n",
      "aab-160_history: 0.894414143777009\n",
      "ghost-160_history: 0.870793972026698\n",
      "vikoooy-160_history: 0.9022903169408596\n"
     ]
    }
   ],
   "source": [
    "df_gold = pd.read_csv(\"./gold2-160_history.csv\")\n",
    "goldList = [i for i in df_gold[\"winner\"]]\n",
    "hilfe = []\n",
    "def iterator(filename):\n",
    "    obj = pd.read_pickle(\"./export/\"+ filename)\n",
    "    df_rate = pd.DataFrame(obj).T\n",
    "    df_rate.rename(columns={0: \"Q\", 1: \"winner\", 3: \"question_winner\"}, inplace=True)\n",
    "    df_rate[\"Q\"] = df_rate[\"Q\"].astype(str)\n",
    "\n",
    "    return df_rate\n",
    "\n",
    "csv_files = [f for f in os.listdir('./export') if f.endswith('_history.pkl') and not f.startswith(\"ArthMa\") and not f.startswith(\"DisRating\") and not f.startswith(\"Peter\") and not f.startswith(\"Casomoto\") and not f.startswith(\"Kaffe\") and not f.startswith(\"marigg\") and not f.startswith(\"Power\")]\n",
    "\n",
    "for filename in csv_files:\n",
    "    file_data = iterator(filename)\n",
    "    testList = [i for i in file_data[\"winner\"]]\n",
    "    y = cohen_kappa_score(goldList, testList)\n",
    "    cohen_dictonary.update({filename.split('.')[0]:y})\n",
    "\n",
    "for key, value in cohen_dictonary.items():\n",
    "    print(f'{key}: {value}')"
   ]
  },
  {
   "cell_type": "markdown",
   "metadata": {},
   "source": [
    "### For the third group Cohen Kappa"
   ]
  },
  {
   "cell_type": "code",
   "execution_count": 238,
   "metadata": {},
   "outputs": [
    {
     "name": "stdout",
     "output_type": "stream",
     "text": [
      "ArthMa-160_history: 0.8834281382223284\n",
      "Casomoto-160_history: 0.8518708203244265\n",
      "DisRating-160_history: 0.8282585575294442\n",
      "Peter-160_history: 0.7920604914933838\n",
      "aab-160_history: 0.894414143777009\n",
      "ghost-160_history: 0.870793972026698\n",
      "vikoooy-160_history: 0.9022903169408596\n",
      "Kaffeetrinker-160_history: 0.8597607364530989\n",
      "mariggy23-160_history: 0.8849550113025791\n",
      "Power-160_history: 0.8408802786564427\n"
     ]
    }
   ],
   "source": [
    "df_gold = pd.read_csv(\"./gold3-160_history.csv\")\n",
    "goldList = [i for i in df_gold[\"winner\"]]\n",
    "hilfe = []\n",
    "def iterator(filename):\n",
    "    obj = pd.read_pickle(\"./export/\"+ filename)\n",
    "    df_rate = pd.DataFrame(obj).T\n",
    "    df_rate.rename(columns={0: \"Q\", 1: \"winner\", 3: \"question_winner\"}, inplace=True)\n",
    "    df_rate[\"Q\"] = df_rate[\"Q\"].astype(str)\n",
    "\n",
    "    return df_rate\n",
    "\n",
    "csv_files = [f for f in os.listdir('./export') if f.endswith('_history.pkl') and not f.startswith(\"aab\") and not f.startswith(\"ghost\") and not f.startswith(\"vikoooy\") and not f.startswith(\"ArthMa\") and not f.startswith(\"DisRating\") and not f.startswith(\"Peter\") and not f.startswith(\"Casomoto\")]\n",
    "\n",
    "for filename in csv_files:\n",
    "    file_data = iterator(filename)\n",
    "    testList = [i for i in file_data[\"winner\"]]\n",
    "    y = cohen_kappa_score(goldList, testList)\n",
    "    cohen_dictonary.update({filename.split('.')[0]:y})\n",
    "\n",
    "for key, value in cohen_dictonary.items():\n",
    "    print(f'{key}: {value}')"
   ]
  },
  {
   "cell_type": "markdown",
   "metadata": {},
   "source": [
    "### Create DataFrame based on the dictionaries"
   ]
  },
  {
   "cell_type": "code",
   "execution_count": 244,
   "metadata": {},
   "outputs": [],
   "source": [
    "agreement_df = pd.DataFrame(agreement.items())\n",
    "slider_agreement_df = pd.DataFrame(slider_agreement.items())\n",
    "output = pd.merge(agreement_df, slider_agreement_df, on=0)\n",
    "output.rename(columns={0: \"Rater\", \"1_x\": \"Agreement Percentage\", \"1_y\":\"Quiz_Agreement\"}, inplace=True)\n",
    "output.to_csv(\"IAA.csv\", index=False)"
   ]
  }
 ],
 "metadata": {
  "kernelspec": {
   "display_name": "iry",
   "language": "python",
   "name": "python3"
  },
  "language_info": {
   "codemirror_mode": {
    "name": "ipython",
    "version": 3
   },
   "file_extension": ".py",
   "mimetype": "text/x-python",
   "name": "python",
   "nbconvert_exporter": "python",
   "pygments_lexer": "ipython3",
   "version": "3.12.3"
  }
 },
 "nbformat": 4,
 "nbformat_minor": 2
}
