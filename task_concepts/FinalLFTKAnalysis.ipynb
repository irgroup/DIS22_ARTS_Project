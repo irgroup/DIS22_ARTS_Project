{
 "cells": [
  {
   "cell_type": "markdown",
   "metadata": {},
   "source": [
    "Arthur"
   ]
  },
  {
   "cell_type": "code",
   "execution_count": 2,
   "metadata": {},
   "outputs": [],
   "source": [
    "import spacy\n",
    "import lftk\n",
    "import pandas as pd\n",
    "import plotly.express as px\n",
    "from scipy.stats import pearsonr\n",
    "nlp = spacy.load(\"en_core_web_sm\")\n",
    "import os"
   ]
  },
  {
   "cell_type": "code",
   "execution_count": 2,
   "metadata": {},
   "outputs": [],
   "source": [
    "# Iterate throigh the list with the text\n",
    "def count_pos_tags(text):\n",
    "    doc = nlp(text)\n",
    "\n",
    "    # initiate LFTK extractor by passing in doc\n",
    "    # you can pass in a list of multiple docs\n",
    "    LFTK = lftk.Extractor(docs = doc)\n",
    "\n",
    "    # optionally, you can customize how LFTK extractor calculates handcrafted linguistic features\n",
    "    # for example, include stop word? include puncutaion? maximum decimal digits?\n",
    "    LFTK.customize(round_decimal=3)\n",
    "\n",
    "    # now, extract the handcrafted linguistic features that you need\n",
    "    # refer to them as feature keys\n",
    "    extracted_features = LFTK.extract(features = [\"a_kup_pw\",\"a_kup_ps\",\"t_kup\",\"t_char\", \"t_uword\", \"a_word_ps\", \"n_unoun\", \"n_uverb\", \"n_uadj\", \"t_n_ent\", \"simp_ttr\", \"t_punct\", \"t_stopword\", \"fkre\", \"fkgl\", \"fogi\", \"smog\", \"cole\", \"auto\", \"rt_fast\", \"rt_average\", \"rt_slow\"])\n",
    "\n",
    "    return extracted_features\n",
    "\n",
    "rename_dict = {\"t_char\":\"total_char\", \"t_uword\": \"unique_words\", \"a_word_ps\":\"average_words_sentence\", \"n_unoun\":\"unique_nouns\", \"n_uverb\":\"unique_verbs\", \"n_uadj\":\"unique_adj\",\"t_n_ent\":\"total_entities\" ,\"simp_ttr\":\"type_token_ratio\", \"t_punct\": \"total_punctuation\", \"t_stopword\":\"total_stopwords\" }"
   ]
  },
  {
   "cell_type": "code",
   "execution_count": 3,
   "metadata": {},
   "outputs": [],
   "source": [
    "def renamer(data: list, column_mapping: dict) -> list:\n",
    "    \"\"\"Renames columns within dictionaries inside a list based on a provided mapping.\n",
    "\n",
    "    Args:\n",
    "        data: The list of dictionaries containing the data.\n",
    "        column_mapping: A dictionary where keys are existing column names, and values are the new desired column names.\n",
    "\n",
    "    Returns:\n",
    "        A new list of dictionaries with the columns renamed.\n",
    "    \"\"\"\n",
    "    renamed_data = []\n",
    "    for item in data:\n",
    "        renamed_item = {\n",
    "            column_mapping.get(key, key): value for key, value in item.items()\n",
    "        }\n",
    "        renamed_data.append(renamed_item)\n",
    "    return renamed_data"
   ]
  },
  {
   "cell_type": "code",
   "execution_count": 4,
   "metadata": {},
   "outputs": [],
   "source": [
    "obj = pd.read_pickle(\"./export/gold_160.pkl\")\n",
    "df = pd.DataFrame(obj).T\n",
    "df.rename(columns={0: \"Score\", 1: \"Text\"}, inplace=True)\n",
    "\n",
    "data = [count_pos_tags(i) | {\"Text\": i} for i in df[\"Text\"]] # Die Funktion von count_pos_tags wird auf text-liste angewendet\n",
    "data = renamer(data, rename_dict) # Spalten werden umbenannt\n",
    "\n",
    "data_df = pd.DataFrame(data) \n",
    "df = pd.merge(df, data_df, on=\"Text\") # DataFrame merge\n",
    "df[\"Nr\"] = df.index.astype(str) # Kategorisieren der x-Achse"
   ]
  },
  {
   "cell_type": "code",
   "execution_count": 5,
   "metadata": {},
   "outputs": [],
   "source": [
    "# Diese Funktion gibt eine Bar Chart aus mit den Top x Ergebnissen aus\n",
    "def topResult(metric, num:int):\n",
    "    fig = px.bar(metric.sort_values(by='Score', ascending=False).head(num), x='Nr', y='Score', \n",
    "                title=f'Top 3 Topics by Score', text='Score',\n",
    "                    width=800, height=400)\n",
    "    fig.update_layout(\n",
    "        xaxis_title='Topic',\n",
    "        xaxis_type='category',\n",
    "        yaxis_title=f'Score',\n",
    "    )\n",
    "\n",
    "    fig.show()"
   ]
  },
  {
   "cell_type": "code",
   "execution_count": 6,
   "metadata": {},
   "outputs": [
    {
     "data": {
      "application/vnd.plotly.v1+json": {
       "config": {
        "plotlyServerURL": "https://plot.ly"
       },
       "data": [
        {
         "alignmentgroup": "True",
         "hovertemplate": "Nr=%{x}<br>Score=%{text}<extra></extra>",
         "legendgroup": "",
         "marker": {
          "color": "#636efa",
          "pattern": {
           "shape": ""
          }
         },
         "name": "",
         "offsetgroup": "",
         "orientation": "v",
         "showlegend": false,
         "text": [
          1,
          0.99371,
          0.98742,
          0.98113,
          0.97484,
          0.96855,
          0.96226,
          0.95597,
          0.94969,
          0.9434
         ],
         "textposition": "auto",
         "type": "bar",
         "x": [
          "153",
          "145",
          "135",
          "158",
          "3",
          "127",
          "147",
          "157",
          "140",
          "13"
         ],
         "xaxis": "x",
         "y": [
          1,
          0.99371,
          0.98742,
          0.98113,
          0.97484,
          0.96855,
          0.96226,
          0.95597,
          0.94969,
          0.9434
         ],
         "yaxis": "y"
        }
       ],
       "layout": {
        "barmode": "relative",
        "height": 400,
        "legend": {
         "tracegroupgap": 0
        },
        "template": {
         "data": {
          "bar": [
           {
            "error_x": {
             "color": "#2a3f5f"
            },
            "error_y": {
             "color": "#2a3f5f"
            },
            "marker": {
             "line": {
              "color": "#E5ECF6",
              "width": 0.5
             },
             "pattern": {
              "fillmode": "overlay",
              "size": 10,
              "solidity": 0.2
             }
            },
            "type": "bar"
           }
          ],
          "barpolar": [
           {
            "marker": {
             "line": {
              "color": "#E5ECF6",
              "width": 0.5
             },
             "pattern": {
              "fillmode": "overlay",
              "size": 10,
              "solidity": 0.2
             }
            },
            "type": "barpolar"
           }
          ],
          "carpet": [
           {
            "aaxis": {
             "endlinecolor": "#2a3f5f",
             "gridcolor": "white",
             "linecolor": "white",
             "minorgridcolor": "white",
             "startlinecolor": "#2a3f5f"
            },
            "baxis": {
             "endlinecolor": "#2a3f5f",
             "gridcolor": "white",
             "linecolor": "white",
             "minorgridcolor": "white",
             "startlinecolor": "#2a3f5f"
            },
            "type": "carpet"
           }
          ],
          "choropleth": [
           {
            "colorbar": {
             "outlinewidth": 0,
             "ticks": ""
            },
            "type": "choropleth"
           }
          ],
          "contour": [
           {
            "colorbar": {
             "outlinewidth": 0,
             "ticks": ""
            },
            "colorscale": [
             [
              0,
              "#0d0887"
             ],
             [
              0.1111111111111111,
              "#46039f"
             ],
             [
              0.2222222222222222,
              "#7201a8"
             ],
             [
              0.3333333333333333,
              "#9c179e"
             ],
             [
              0.4444444444444444,
              "#bd3786"
             ],
             [
              0.5555555555555556,
              "#d8576b"
             ],
             [
              0.6666666666666666,
              "#ed7953"
             ],
             [
              0.7777777777777778,
              "#fb9f3a"
             ],
             [
              0.8888888888888888,
              "#fdca26"
             ],
             [
              1,
              "#f0f921"
             ]
            ],
            "type": "contour"
           }
          ],
          "contourcarpet": [
           {
            "colorbar": {
             "outlinewidth": 0,
             "ticks": ""
            },
            "type": "contourcarpet"
           }
          ],
          "heatmap": [
           {
            "colorbar": {
             "outlinewidth": 0,
             "ticks": ""
            },
            "colorscale": [
             [
              0,
              "#0d0887"
             ],
             [
              0.1111111111111111,
              "#46039f"
             ],
             [
              0.2222222222222222,
              "#7201a8"
             ],
             [
              0.3333333333333333,
              "#9c179e"
             ],
             [
              0.4444444444444444,
              "#bd3786"
             ],
             [
              0.5555555555555556,
              "#d8576b"
             ],
             [
              0.6666666666666666,
              "#ed7953"
             ],
             [
              0.7777777777777778,
              "#fb9f3a"
             ],
             [
              0.8888888888888888,
              "#fdca26"
             ],
             [
              1,
              "#f0f921"
             ]
            ],
            "type": "heatmap"
           }
          ],
          "heatmapgl": [
           {
            "colorbar": {
             "outlinewidth": 0,
             "ticks": ""
            },
            "colorscale": [
             [
              0,
              "#0d0887"
             ],
             [
              0.1111111111111111,
              "#46039f"
             ],
             [
              0.2222222222222222,
              "#7201a8"
             ],
             [
              0.3333333333333333,
              "#9c179e"
             ],
             [
              0.4444444444444444,
              "#bd3786"
             ],
             [
              0.5555555555555556,
              "#d8576b"
             ],
             [
              0.6666666666666666,
              "#ed7953"
             ],
             [
              0.7777777777777778,
              "#fb9f3a"
             ],
             [
              0.8888888888888888,
              "#fdca26"
             ],
             [
              1,
              "#f0f921"
             ]
            ],
            "type": "heatmapgl"
           }
          ],
          "histogram": [
           {
            "marker": {
             "pattern": {
              "fillmode": "overlay",
              "size": 10,
              "solidity": 0.2
             }
            },
            "type": "histogram"
           }
          ],
          "histogram2d": [
           {
            "colorbar": {
             "outlinewidth": 0,
             "ticks": ""
            },
            "colorscale": [
             [
              0,
              "#0d0887"
             ],
             [
              0.1111111111111111,
              "#46039f"
             ],
             [
              0.2222222222222222,
              "#7201a8"
             ],
             [
              0.3333333333333333,
              "#9c179e"
             ],
             [
              0.4444444444444444,
              "#bd3786"
             ],
             [
              0.5555555555555556,
              "#d8576b"
             ],
             [
              0.6666666666666666,
              "#ed7953"
             ],
             [
              0.7777777777777778,
              "#fb9f3a"
             ],
             [
              0.8888888888888888,
              "#fdca26"
             ],
             [
              1,
              "#f0f921"
             ]
            ],
            "type": "histogram2d"
           }
          ],
          "histogram2dcontour": [
           {
            "colorbar": {
             "outlinewidth": 0,
             "ticks": ""
            },
            "colorscale": [
             [
              0,
              "#0d0887"
             ],
             [
              0.1111111111111111,
              "#46039f"
             ],
             [
              0.2222222222222222,
              "#7201a8"
             ],
             [
              0.3333333333333333,
              "#9c179e"
             ],
             [
              0.4444444444444444,
              "#bd3786"
             ],
             [
              0.5555555555555556,
              "#d8576b"
             ],
             [
              0.6666666666666666,
              "#ed7953"
             ],
             [
              0.7777777777777778,
              "#fb9f3a"
             ],
             [
              0.8888888888888888,
              "#fdca26"
             ],
             [
              1,
              "#f0f921"
             ]
            ],
            "type": "histogram2dcontour"
           }
          ],
          "mesh3d": [
           {
            "colorbar": {
             "outlinewidth": 0,
             "ticks": ""
            },
            "type": "mesh3d"
           }
          ],
          "parcoords": [
           {
            "line": {
             "colorbar": {
              "outlinewidth": 0,
              "ticks": ""
             }
            },
            "type": "parcoords"
           }
          ],
          "pie": [
           {
            "automargin": true,
            "type": "pie"
           }
          ],
          "scatter": [
           {
            "fillpattern": {
             "fillmode": "overlay",
             "size": 10,
             "solidity": 0.2
            },
            "type": "scatter"
           }
          ],
          "scatter3d": [
           {
            "line": {
             "colorbar": {
              "outlinewidth": 0,
              "ticks": ""
             }
            },
            "marker": {
             "colorbar": {
              "outlinewidth": 0,
              "ticks": ""
             }
            },
            "type": "scatter3d"
           }
          ],
          "scattercarpet": [
           {
            "marker": {
             "colorbar": {
              "outlinewidth": 0,
              "ticks": ""
             }
            },
            "type": "scattercarpet"
           }
          ],
          "scattergeo": [
           {
            "marker": {
             "colorbar": {
              "outlinewidth": 0,
              "ticks": ""
             }
            },
            "type": "scattergeo"
           }
          ],
          "scattergl": [
           {
            "marker": {
             "colorbar": {
              "outlinewidth": 0,
              "ticks": ""
             }
            },
            "type": "scattergl"
           }
          ],
          "scattermapbox": [
           {
            "marker": {
             "colorbar": {
              "outlinewidth": 0,
              "ticks": ""
             }
            },
            "type": "scattermapbox"
           }
          ],
          "scatterpolar": [
           {
            "marker": {
             "colorbar": {
              "outlinewidth": 0,
              "ticks": ""
             }
            },
            "type": "scatterpolar"
           }
          ],
          "scatterpolargl": [
           {
            "marker": {
             "colorbar": {
              "outlinewidth": 0,
              "ticks": ""
             }
            },
            "type": "scatterpolargl"
           }
          ],
          "scatterternary": [
           {
            "marker": {
             "colorbar": {
              "outlinewidth": 0,
              "ticks": ""
             }
            },
            "type": "scatterternary"
           }
          ],
          "surface": [
           {
            "colorbar": {
             "outlinewidth": 0,
             "ticks": ""
            },
            "colorscale": [
             [
              0,
              "#0d0887"
             ],
             [
              0.1111111111111111,
              "#46039f"
             ],
             [
              0.2222222222222222,
              "#7201a8"
             ],
             [
              0.3333333333333333,
              "#9c179e"
             ],
             [
              0.4444444444444444,
              "#bd3786"
             ],
             [
              0.5555555555555556,
              "#d8576b"
             ],
             [
              0.6666666666666666,
              "#ed7953"
             ],
             [
              0.7777777777777778,
              "#fb9f3a"
             ],
             [
              0.8888888888888888,
              "#fdca26"
             ],
             [
              1,
              "#f0f921"
             ]
            ],
            "type": "surface"
           }
          ],
          "table": [
           {
            "cells": {
             "fill": {
              "color": "#EBF0F8"
             },
             "line": {
              "color": "white"
             }
            },
            "header": {
             "fill": {
              "color": "#C8D4E3"
             },
             "line": {
              "color": "white"
             }
            },
            "type": "table"
           }
          ]
         },
         "layout": {
          "annotationdefaults": {
           "arrowcolor": "#2a3f5f",
           "arrowhead": 0,
           "arrowwidth": 1
          },
          "autotypenumbers": "strict",
          "coloraxis": {
           "colorbar": {
            "outlinewidth": 0,
            "ticks": ""
           }
          },
          "colorscale": {
           "diverging": [
            [
             0,
             "#8e0152"
            ],
            [
             0.1,
             "#c51b7d"
            ],
            [
             0.2,
             "#de77ae"
            ],
            [
             0.3,
             "#f1b6da"
            ],
            [
             0.4,
             "#fde0ef"
            ],
            [
             0.5,
             "#f7f7f7"
            ],
            [
             0.6,
             "#e6f5d0"
            ],
            [
             0.7,
             "#b8e186"
            ],
            [
             0.8,
             "#7fbc41"
            ],
            [
             0.9,
             "#4d9221"
            ],
            [
             1,
             "#276419"
            ]
           ],
           "sequential": [
            [
             0,
             "#0d0887"
            ],
            [
             0.1111111111111111,
             "#46039f"
            ],
            [
             0.2222222222222222,
             "#7201a8"
            ],
            [
             0.3333333333333333,
             "#9c179e"
            ],
            [
             0.4444444444444444,
             "#bd3786"
            ],
            [
             0.5555555555555556,
             "#d8576b"
            ],
            [
             0.6666666666666666,
             "#ed7953"
            ],
            [
             0.7777777777777778,
             "#fb9f3a"
            ],
            [
             0.8888888888888888,
             "#fdca26"
            ],
            [
             1,
             "#f0f921"
            ]
           ],
           "sequentialminus": [
            [
             0,
             "#0d0887"
            ],
            [
             0.1111111111111111,
             "#46039f"
            ],
            [
             0.2222222222222222,
             "#7201a8"
            ],
            [
             0.3333333333333333,
             "#9c179e"
            ],
            [
             0.4444444444444444,
             "#bd3786"
            ],
            [
             0.5555555555555556,
             "#d8576b"
            ],
            [
             0.6666666666666666,
             "#ed7953"
            ],
            [
             0.7777777777777778,
             "#fb9f3a"
            ],
            [
             0.8888888888888888,
             "#fdca26"
            ],
            [
             1,
             "#f0f921"
            ]
           ]
          },
          "colorway": [
           "#636efa",
           "#EF553B",
           "#00cc96",
           "#ab63fa",
           "#FFA15A",
           "#19d3f3",
           "#FF6692",
           "#B6E880",
           "#FF97FF",
           "#FECB52"
          ],
          "font": {
           "color": "#2a3f5f"
          },
          "geo": {
           "bgcolor": "white",
           "lakecolor": "white",
           "landcolor": "#E5ECF6",
           "showlakes": true,
           "showland": true,
           "subunitcolor": "white"
          },
          "hoverlabel": {
           "align": "left"
          },
          "hovermode": "closest",
          "mapbox": {
           "style": "light"
          },
          "paper_bgcolor": "white",
          "plot_bgcolor": "#E5ECF6",
          "polar": {
           "angularaxis": {
            "gridcolor": "white",
            "linecolor": "white",
            "ticks": ""
           },
           "bgcolor": "#E5ECF6",
           "radialaxis": {
            "gridcolor": "white",
            "linecolor": "white",
            "ticks": ""
           }
          },
          "scene": {
           "xaxis": {
            "backgroundcolor": "#E5ECF6",
            "gridcolor": "white",
            "gridwidth": 2,
            "linecolor": "white",
            "showbackground": true,
            "ticks": "",
            "zerolinecolor": "white"
           },
           "yaxis": {
            "backgroundcolor": "#E5ECF6",
            "gridcolor": "white",
            "gridwidth": 2,
            "linecolor": "white",
            "showbackground": true,
            "ticks": "",
            "zerolinecolor": "white"
           },
           "zaxis": {
            "backgroundcolor": "#E5ECF6",
            "gridcolor": "white",
            "gridwidth": 2,
            "linecolor": "white",
            "showbackground": true,
            "ticks": "",
            "zerolinecolor": "white"
           }
          },
          "shapedefaults": {
           "line": {
            "color": "#2a3f5f"
           }
          },
          "ternary": {
           "aaxis": {
            "gridcolor": "white",
            "linecolor": "white",
            "ticks": ""
           },
           "baxis": {
            "gridcolor": "white",
            "linecolor": "white",
            "ticks": ""
           },
           "bgcolor": "#E5ECF6",
           "caxis": {
            "gridcolor": "white",
            "linecolor": "white",
            "ticks": ""
           }
          },
          "title": {
           "x": 0.05
          },
          "xaxis": {
           "automargin": true,
           "gridcolor": "white",
           "linecolor": "white",
           "ticks": "",
           "title": {
            "standoff": 15
           },
           "zerolinecolor": "white",
           "zerolinewidth": 2
          },
          "yaxis": {
           "automargin": true,
           "gridcolor": "white",
           "linecolor": "white",
           "ticks": "",
           "title": {
            "standoff": 15
           },
           "zerolinecolor": "white",
           "zerolinewidth": 2
          }
         }
        },
        "title": {
         "text": "Top 3 Topics by Score"
        },
        "width": 800,
        "xaxis": {
         "anchor": "y",
         "domain": [
          0,
          1
         ],
         "title": {
          "text": "Topic"
         },
         "type": "category"
        },
        "yaxis": {
         "anchor": "x",
         "domain": [
          0,
          1
         ],
         "title": {
          "text": "Score"
         }
        }
       }
      }
     },
     "metadata": {},
     "output_type": "display_data"
    }
   ],
   "source": [
    "topResult(df,10)"
   ]
  },
  {
   "cell_type": "code",
   "execution_count": 7,
   "metadata": {},
   "outputs": [],
   "source": [
    "# Diese Funktion gibt eine Bar Chart aus mit den Top x Ergebnissen aus\n",
    "def nomCorrelation(metric):\n",
    "    fig = px.scatter(metric, x='unique_nouns', y='Score', title=f'Correlation between amount of nouns and Score',\n",
    "                     # use Ordinary Least Squares regression to show\n",
    "                     trendline=\"ols\", trendline_scope='overall', color=\"Nr\",\n",
    "                     width=800, height=400)\n",
    "\n",
    "    # measure the Pearson Correlation between those two data points\n",
    "    correlation, p_value = pearsonr(metric['unique_nouns'], metric['Score'])\n",
    "\n",
    "    print(f'The Pearson correlation coefficient between Score and Nomen is: {correlation:.3f}, p: {p_value:.3f}.')\n",
    "\n",
    "    # dont show the legend, beacuse they are just all the topics\n",
    "    fig.update_layout(yaxis_title=f'Score', showlegend=False)\n",
    "    fig.show()"
   ]
  },
  {
   "cell_type": "code",
   "execution_count": 8,
   "metadata": {},
   "outputs": [],
   "source": [
    "# Diese Funktion gibt eine Bar Chart aus mit den Top x Ergebnissen aus\n",
    "def verbCorrelation(metric):\n",
    "    fig = px.scatter(metric, x='unique_verbs', y='Score', title=f'Correlation between amount of verbs and Score',\n",
    "                     # use Ordinary Least Squares regression to show\n",
    "                     trendline=\"ols\", trendline_scope='overall', color=\"Nr\",\n",
    "                     width=800, height=400)\n",
    "\n",
    "    # measure the Pearson Correlation between those two data points\n",
    "    correlation, p_value = pearsonr(metric['unique_verbs'], metric['Score'])\n",
    "\n",
    "    print(f'The Pearson correlation coefficient between Score and Verben is: {correlation:.3f}, p: {p_value:.3f}.')\n",
    "\n",
    "    # dont show the legend, beacuse they are just all the topics\n",
    "    fig.update_layout(yaxis_title=f'Score', showlegend=False)\n",
    "    fig.show()"
   ]
  },
  {
   "cell_type": "code",
   "execution_count": 9,
   "metadata": {},
   "outputs": [],
   "source": [
    "# Diese Funktion gibt eine Bar Chart aus mit den Top x Ergebnissen aus\n",
    "def fkreCorrelation(metric):\n",
    "    fig = px.scatter(metric, x='fkre', y='Score', title=f'Correlation between amount of fkre and Score',\n",
    "                     # use Ordinary Least Squares regression to show\n",
    "                     trendline=\"ols\", trendline_scope='overall', color=\"Nr\",\n",
    "                     width=800, height=400)\n",
    "\n",
    "    # measure the Pearson Correlation between those two data points\n",
    "    correlation, p_value = pearsonr(metric['fkre'], metric['Score'])\n",
    "\n",
    "    print(f'The Pearson correlation coefficient between Score and FKRE is: {correlation:.3f}, p: {p_value:.5f}.')\n",
    "\n",
    "    # dont show the legend, beacuse they are just all the topics\n",
    "    fig.update_layout(yaxis_title=f'Score', showlegend=False)\n",
    "    fig.show()"
   ]
  },
  {
   "cell_type": "code",
   "execution_count": 10,
   "metadata": {},
   "outputs": [],
   "source": [
    "# Diese Funktion gibt eine Bar Chart aus mit den Top x Ergebnissen aus\n",
    "def fkglCorrelation(metric):\n",
    "    fig = px.scatter(metric, x='fkgl', y='Score', title=f'Correlation between amount of fkgl and Score',\n",
    "                     # use Ordinary Least Squares regression to show\n",
    "                     trendline=\"ols\", trendline_scope='overall', color=\"Nr\",\n",
    "                     width=800, height=400)\n",
    "\n",
    "    # measure the Pearson Correlation between those two data points\n",
    "    correlation, p_value = pearsonr(metric['fkgl'], metric['Score'])\n",
    "\n",
    "    print(f'The Pearson correlation coefficient between Score and FKGL is: {correlation:.3f}, p: {p_value:.3f}.')\n",
    "\n",
    "    # dont show the legend, beacuse they are just all the topics\n",
    "    fig.update_layout(yaxis_title=f'Score', showlegend=False)\n",
    "    fig.show()"
   ]
  },
  {
   "cell_type": "code",
   "execution_count": 11,
   "metadata": {},
   "outputs": [],
   "source": [
    "# Diese Funktion gibt eine Bar Chart aus mit den Top x Ergebnissen aus\n",
    "def fogiCorrelation(metric):\n",
    "    fig = px.scatter(metric, x='fogi', y='Score', title=f'Correlation between amount of fogi and Score',\n",
    "                     # use Ordinary Least Squares regression to show\n",
    "                     trendline=\"ols\", trendline_scope='overall', color=\"Nr\",\n",
    "                     width=800, height=400)\n",
    "\n",
    "    # measure the Pearson Correlation between those two data points\n",
    "    correlation, p_value = pearsonr(metric['fogi'], metric['Score'])\n",
    "\n",
    "    print(f'The Pearson correlation coefficient between Score and FOGI is: {correlation:.3f}, p: {p_value:.3f}.')\n",
    "\n",
    "    # dont show the legend, beacuse they are just all the topics\n",
    "    fig.update_layout(yaxis_title=f'Score', showlegend=False)\n",
    "    fig.show()"
   ]
  },
  {
   "cell_type": "code",
   "execution_count": 13,
   "metadata": {},
   "outputs": [],
   "source": [
    "# Diese Funktion gibt eine Bar Chart aus mit den Top x Ergebnissen aus\n",
    "def smogCorrelation(metric):\n",
    "    fig = px.scatter(metric, x='smog', y='Score', title=f'Correlation between amount of smog and Score',\n",
    "                     # use Ordinary Least Squares regression to show\n",
    "                     trendline=\"ols\", trendline_scope='overall', color=\"Nr\",\n",
    "                     width=800, height=400)\n",
    "\n",
    "    # measure the Pearson Correlation between those two data points\n",
    "    correlation, p_value = pearsonr(metric['smog'], metric['Score'])\n",
    "\n",
    "    print(f'The Pearson correlation coefficient between Score and SMOG is: {correlation:.3f}, p: {p_value:.3f}.')\n",
    "\n",
    "    # dont show the legend, beacuse they are just all the topics\n",
    "    fig.update_layout(yaxis_title=f'Score', showlegend=False)\n",
    "    fig.show()"
   ]
  },
  {
   "cell_type": "code",
   "execution_count": 24,
   "metadata": {},
   "outputs": [],
   "source": [
    "# Diese Funktion gibt eine Bar Chart aus mit den Top x Ergebnissen aus\n",
    "def aoaCorrelation2(metric):\n",
    "    fig = px.scatter(metric, x='t_kup', y='Score', title=f'Correlation between Age of Acquisation and Score',\n",
    "                     # use Ordinary Least Squares regression to show\n",
    "                     trendline=\"ols\", trendline_scope='overall', color=\"Nr\",\n",
    "                     width=800, height=400)\n",
    "\n",
    "    # measure the Pearson Correlation between those two data points\n",
    "    correlation, p_value = pearsonr(metric['t_kup'], metric['Score'])\n",
    "    print(f'The Pearson correlation coefficient between Score and Nomen is: {correlation:.3f}, p: {p_value:.3f}.')\n",
    "\n",
    "    # dont show the legend, beacuse they are just all the topics\n",
    "    fig.update_layout(yaxis_title=f'Score', showlegend=False)\n",
    "    fig.show()"
   ]
  },
  {
   "cell_type": "code",
   "execution_count": 15,
   "metadata": {},
   "outputs": [
    {
     "name": "stdout",
     "output_type": "stream",
     "text": [
      "The Pearson correlation coefficient between Score and Nomen is: 0.483, p: 0.00000.\n"
     ]
    },
    {
     "data": {
      "application/vnd.plotly.v1+json": {
       "config": {
        "plotlyServerURL": "https://plot.ly"
       },
       "data": [
        {
         "hovertemplate": "Nr=0<br>fkre=%{x}<br>Score=%{y}<extra></extra>",
         "legendgroup": "0",
         "marker": {
          "color": "#636efa",
          "symbol": "circle"
         },
         "mode": "markers",
         "name": "0",
         "orientation": "h",
         "showlegend": true,
         "type": "scatter",
         "x": [
          59.636
         ],
         "xaxis": "x",
         "y": [
          0.31447
         ],
         "yaxis": "y"
        },
        {
         "hovertemplate": "Nr=1<br>fkre=%{x}<br>Score=%{y}<extra></extra>",
         "legendgroup": "1",
         "marker": {
          "color": "#EF553B",
          "symbol": "circle"
         },
         "mode": "markers",
         "name": "1",
         "orientation": "h",
         "showlegend": true,
         "type": "scatter",
         "x": [
          77.772
         ],
         "xaxis": "x",
         "y": [
          0.30818
         ],
         "yaxis": "y"
        },
        {
         "hovertemplate": "Nr=2<br>fkre=%{x}<br>Score=%{y}<extra></extra>",
         "legendgroup": "2",
         "marker": {
          "color": "#00cc96",
          "symbol": "circle"
         },
         "mode": "markers",
         "name": "2",
         "orientation": "h",
         "showlegend": true,
         "type": "scatter",
         "x": [
          80.098
         ],
         "xaxis": "x",
         "y": [
          0.84906
         ],
         "yaxis": "y"
        },
        {
         "hovertemplate": "Nr=3<br>fkre=%{x}<br>Score=%{y}<extra></extra>",
         "legendgroup": "3",
         "marker": {
          "color": "#ab63fa",
          "symbol": "circle"
         },
         "mode": "markers",
         "name": "3",
         "orientation": "h",
         "showlegend": true,
         "type": "scatter",
         "x": [
          100.004
         ],
         "xaxis": "x",
         "y": [
          0.97484
         ],
         "yaxis": "y"
        },
        {
         "hovertemplate": "Nr=4<br>fkre=%{x}<br>Score=%{y}<extra></extra>",
         "legendgroup": "4",
         "marker": {
          "color": "#FFA15A",
          "symbol": "circle"
         },
         "mode": "markers",
         "name": "4",
         "orientation": "h",
         "showlegend": true,
         "type": "scatter",
         "x": [
          105.399
         ],
         "xaxis": "x",
         "y": [
          0.2956
         ],
         "yaxis": "y"
        },
        {
         "hovertemplate": "Nr=5<br>fkre=%{x}<br>Score=%{y}<extra></extra>",
         "legendgroup": "5",
         "marker": {
          "color": "#19d3f3",
          "symbol": "circle"
         },
         "mode": "markers",
         "name": "5",
         "orientation": "h",
         "showlegend": true,
         "type": "scatter",
         "x": [
          89.896
         ],
         "xaxis": "x",
         "y": [
          0.57233
         ],
         "yaxis": "y"
        },
        {
         "hovertemplate": "Nr=6<br>fkre=%{x}<br>Score=%{y}<extra></extra>",
         "legendgroup": "6",
         "marker": {
          "color": "#FF6692",
          "symbol": "circle"
         },
         "mode": "markers",
         "name": "6",
         "orientation": "h",
         "showlegend": true,
         "type": "scatter",
         "x": [
          67.329
         ],
         "xaxis": "x",
         "y": [
          0.22013
         ],
         "yaxis": "y"
        },
        {
         "hovertemplate": "Nr=7<br>fkre=%{x}<br>Score=%{y}<extra></extra>",
         "legendgroup": "7",
         "marker": {
          "color": "#B6E880",
          "symbol": "circle"
         },
         "mode": "markers",
         "name": "7",
         "orientation": "h",
         "showlegend": true,
         "type": "scatter",
         "x": [
          51.175
         ],
         "xaxis": "x",
         "y": [
          0.32075
         ],
         "yaxis": "y"
        },
        {
         "hovertemplate": "Nr=8<br>fkre=%{x}<br>Score=%{y}<extra></extra>",
         "legendgroup": "8",
         "marker": {
          "color": "#FF97FF",
          "symbol": "circle"
         },
         "mode": "markers",
         "name": "8",
         "orientation": "h",
         "showlegend": true,
         "type": "scatter",
         "x": [
          113.926
         ],
         "xaxis": "x",
         "y": [
          0.1195
         ],
         "yaxis": "y"
        },
        {
         "hovertemplate": "Nr=9<br>fkre=%{x}<br>Score=%{y}<extra></extra>",
         "legendgroup": "9",
         "marker": {
          "color": "#FECB52",
          "symbol": "circle"
         },
         "mode": "markers",
         "name": "9",
         "orientation": "h",
         "showlegend": true,
         "type": "scatter",
         "x": [
          66.15
         ],
         "xaxis": "x",
         "y": [
          0.66038
         ],
         "yaxis": "y"
        },
        {
         "hovertemplate": "Nr=10<br>fkre=%{x}<br>Score=%{y}<extra></extra>",
         "legendgroup": "10",
         "marker": {
          "color": "#636efa",
          "symbol": "circle"
         },
         "mode": "markers",
         "name": "10",
         "orientation": "h",
         "showlegend": true,
         "type": "scatter",
         "x": [
          52.05
         ],
         "xaxis": "x",
         "y": [
          0.4717
         ],
         "yaxis": "y"
        },
        {
         "hovertemplate": "Nr=11<br>fkre=%{x}<br>Score=%{y}<extra></extra>",
         "legendgroup": "11",
         "marker": {
          "color": "#EF553B",
          "symbol": "circle"
         },
         "mode": "markers",
         "name": "11",
         "orientation": "h",
         "showlegend": true,
         "type": "scatter",
         "x": [
          111.975
         ],
         "xaxis": "x",
         "y": [
          0.28302
         ],
         "yaxis": "y"
        },
        {
         "hovertemplate": "Nr=12<br>fkre=%{x}<br>Score=%{y}<extra></extra>",
         "legendgroup": "12",
         "marker": {
          "color": "#00cc96",
          "symbol": "circle"
         },
         "mode": "markers",
         "name": "12",
         "orientation": "h",
         "showlegend": true,
         "type": "scatter",
         "x": [
          92.776
         ],
         "xaxis": "x",
         "y": [
          0.67925
         ],
         "yaxis": "y"
        },
        {
         "hovertemplate": "Nr=13<br>fkre=%{x}<br>Score=%{y}<extra></extra>",
         "legendgroup": "13",
         "marker": {
          "color": "#ab63fa",
          "symbol": "circle"
         },
         "mode": "markers",
         "name": "13",
         "orientation": "h",
         "showlegend": true,
         "type": "scatter",
         "x": [
          96.025
         ],
         "xaxis": "x",
         "y": [
          0.9434
         ],
         "yaxis": "y"
        },
        {
         "hovertemplate": "Nr=14<br>fkre=%{x}<br>Score=%{y}<extra></extra>",
         "legendgroup": "14",
         "marker": {
          "color": "#FFA15A",
          "symbol": "circle"
         },
         "mode": "markers",
         "name": "14",
         "orientation": "h",
         "showlegend": true,
         "type": "scatter",
         "x": [
          95.688
         ],
         "xaxis": "x",
         "y": [
          0.76101
         ],
         "yaxis": "y"
        },
        {
         "hovertemplate": "Nr=15<br>fkre=%{x}<br>Score=%{y}<extra></extra>",
         "legendgroup": "15",
         "marker": {
          "color": "#19d3f3",
          "symbol": "circle"
         },
         "mode": "markers",
         "name": "15",
         "orientation": "h",
         "showlegend": true,
         "type": "scatter",
         "x": [
          47.913
         ],
         "xaxis": "x",
         "y": [
          0.01258
         ],
         "yaxis": "y"
        },
        {
         "hovertemplate": "Nr=16<br>fkre=%{x}<br>Score=%{y}<extra></extra>",
         "legendgroup": "16",
         "marker": {
          "color": "#FF6692",
          "symbol": "circle"
         },
         "mode": "markers",
         "name": "16",
         "orientation": "h",
         "showlegend": true,
         "type": "scatter",
         "x": [
          46.1
         ],
         "xaxis": "x",
         "y": [
          0.09434
         ],
         "yaxis": "y"
        },
        {
         "hovertemplate": "Nr=17<br>fkre=%{x}<br>Score=%{y}<extra></extra>",
         "legendgroup": "17",
         "marker": {
          "color": "#B6E880",
          "symbol": "circle"
         },
         "mode": "markers",
         "name": "17",
         "orientation": "h",
         "showlegend": true,
         "type": "scatter",
         "x": [
          87.406
         ],
         "xaxis": "x",
         "y": [
          0.78616
         ],
         "yaxis": "y"
        },
        {
         "hovertemplate": "Nr=18<br>fkre=%{x}<br>Score=%{y}<extra></extra>",
         "legendgroup": "18",
         "marker": {
          "color": "#FF97FF",
          "symbol": "circle"
         },
         "mode": "markers",
         "name": "18",
         "orientation": "h",
         "showlegend": true,
         "type": "scatter",
         "x": [
          88.563
         ],
         "xaxis": "x",
         "y": [
          0.62264
         ],
         "yaxis": "y"
        },
        {
         "hovertemplate": "Nr=19<br>fkre=%{x}<br>Score=%{y}<extra></extra>",
         "legendgroup": "19",
         "marker": {
          "color": "#FECB52",
          "symbol": "circle"
         },
         "mode": "markers",
         "name": "19",
         "orientation": "h",
         "showlegend": true,
         "type": "scatter",
         "x": [
          88.834
         ],
         "xaxis": "x",
         "y": [
          0.72956
         ],
         "yaxis": "y"
        },
        {
         "hovertemplate": "Nr=20<br>fkre=%{x}<br>Score=%{y}<extra></extra>",
         "legendgroup": "20",
         "marker": {
          "color": "#636efa",
          "symbol": "circle"
         },
         "mode": "markers",
         "name": "20",
         "orientation": "h",
         "showlegend": true,
         "type": "scatter",
         "x": [
          47.942
         ],
         "xaxis": "x",
         "y": [
          0.12579
         ],
         "yaxis": "y"
        },
        {
         "hovertemplate": "Nr=21<br>fkre=%{x}<br>Score=%{y}<extra></extra>",
         "legendgroup": "21",
         "marker": {
          "color": "#EF553B",
          "symbol": "circle"
         },
         "mode": "markers",
         "name": "21",
         "orientation": "h",
         "showlegend": true,
         "type": "scatter",
         "x": [
          100.92
         ],
         "xaxis": "x",
         "y": [
          0.5283
         ],
         "yaxis": "y"
        },
        {
         "hovertemplate": "Nr=22<br>fkre=%{x}<br>Score=%{y}<extra></extra>",
         "legendgroup": "22",
         "marker": {
          "color": "#00cc96",
          "symbol": "circle"
         },
         "mode": "markers",
         "name": "22",
         "orientation": "h",
         "showlegend": true,
         "type": "scatter",
         "x": [
          55.125
         ],
         "xaxis": "x",
         "y": [
          0.19497
         ],
         "yaxis": "y"
        },
        {
         "hovertemplate": "Nr=23<br>fkre=%{x}<br>Score=%{y}<extra></extra>",
         "legendgroup": "23",
         "marker": {
          "color": "#ab63fa",
          "symbol": "circle"
         },
         "mode": "markers",
         "name": "23",
         "orientation": "h",
         "showlegend": true,
         "type": "scatter",
         "x": [
          45.68
         ],
         "xaxis": "x",
         "y": [
          0.00629
         ],
         "yaxis": "y"
        },
        {
         "hovertemplate": "Nr=24<br>fkre=%{x}<br>Score=%{y}<extra></extra>",
         "legendgroup": "24",
         "marker": {
          "color": "#FFA15A",
          "symbol": "circle"
         },
         "mode": "markers",
         "name": "24",
         "orientation": "h",
         "showlegend": true,
         "type": "scatter",
         "x": [
          45.773
         ],
         "xaxis": "x",
         "y": [
          0.40252
         ],
         "yaxis": "y"
        },
        {
         "hovertemplate": "Nr=25<br>fkre=%{x}<br>Score=%{y}<extra></extra>",
         "legendgroup": "25",
         "marker": {
          "color": "#19d3f3",
          "symbol": "circle"
         },
         "mode": "markers",
         "name": "25",
         "orientation": "h",
         "showlegend": true,
         "type": "scatter",
         "x": [
          65.296
         ],
         "xaxis": "x",
         "y": [
          0.10692
         ],
         "yaxis": "y"
        },
        {
         "hovertemplate": "Nr=26<br>fkre=%{x}<br>Score=%{y}<extra></extra>",
         "legendgroup": "26",
         "marker": {
          "color": "#FF6692",
          "symbol": "circle"
         },
         "mode": "markers",
         "name": "26",
         "orientation": "h",
         "showlegend": true,
         "type": "scatter",
         "x": [
          86.71
         ],
         "xaxis": "x",
         "y": [
          0.41509
         ],
         "yaxis": "y"
        },
        {
         "hovertemplate": "Nr=27<br>fkre=%{x}<br>Score=%{y}<extra></extra>",
         "legendgroup": "27",
         "marker": {
          "color": "#B6E880",
          "symbol": "circle"
         },
         "mode": "markers",
         "name": "27",
         "orientation": "h",
         "showlegend": true,
         "type": "scatter",
         "x": [
          35.291
         ],
         "xaxis": "x",
         "y": [
          0.45912
         ],
         "yaxis": "y"
        },
        {
         "hovertemplate": "Nr=28<br>fkre=%{x}<br>Score=%{y}<extra></extra>",
         "legendgroup": "28",
         "marker": {
          "color": "#FF97FF",
          "symbol": "circle"
         },
         "mode": "markers",
         "name": "28",
         "orientation": "h",
         "showlegend": true,
         "type": "scatter",
         "x": [
          98.497
         ],
         "xaxis": "x",
         "y": [
          0.86164
         ],
         "yaxis": "y"
        },
        {
         "hovertemplate": "Nr=29<br>fkre=%{x}<br>Score=%{y}<extra></extra>",
         "legendgroup": "29",
         "marker": {
          "color": "#FECB52",
          "symbol": "circle"
         },
         "mode": "markers",
         "name": "29",
         "orientation": "h",
         "showlegend": true,
         "type": "scatter",
         "x": [
          65.667
         ],
         "xaxis": "x",
         "y": [
          0.80503
         ],
         "yaxis": "y"
        },
        {
         "hovertemplate": "Nr=30<br>fkre=%{x}<br>Score=%{y}<extra></extra>",
         "legendgroup": "30",
         "marker": {
          "color": "#636efa",
          "symbol": "circle"
         },
         "mode": "markers",
         "name": "30",
         "orientation": "h",
         "showlegend": true,
         "type": "scatter",
         "x": [
          64.663
         ],
         "xaxis": "x",
         "y": [
          0.7673
         ],
         "yaxis": "y"
        },
        {
         "hovertemplate": "Nr=31<br>fkre=%{x}<br>Score=%{y}<extra></extra>",
         "legendgroup": "31",
         "marker": {
          "color": "#EF553B",
          "symbol": "circle"
         },
         "mode": "markers",
         "name": "31",
         "orientation": "h",
         "showlegend": true,
         "type": "scatter",
         "x": [
          56.252
         ],
         "xaxis": "x",
         "y": [
          0.51572
         ],
         "yaxis": "y"
        },
        {
         "hovertemplate": "Nr=32<br>fkre=%{x}<br>Score=%{y}<extra></extra>",
         "legendgroup": "32",
         "marker": {
          "color": "#00cc96",
          "symbol": "circle"
         },
         "mode": "markers",
         "name": "32",
         "orientation": "h",
         "showlegend": true,
         "type": "scatter",
         "x": [
          90.133
         ],
         "xaxis": "x",
         "y": [
          0.79874
         ],
         "yaxis": "y"
        },
        {
         "hovertemplate": "Nr=33<br>fkre=%{x}<br>Score=%{y}<extra></extra>",
         "legendgroup": "33",
         "marker": {
          "color": "#ab63fa",
          "symbol": "circle"
         },
         "mode": "markers",
         "name": "33",
         "orientation": "h",
         "showlegend": true,
         "type": "scatter",
         "x": [
          62.049
         ],
         "xaxis": "x",
         "y": [
          0.0566
         ],
         "yaxis": "y"
        },
        {
         "hovertemplate": "Nr=34<br>fkre=%{x}<br>Score=%{y}<extra></extra>",
         "legendgroup": "34",
         "marker": {
          "color": "#FFA15A",
          "symbol": "circle"
         },
         "mode": "markers",
         "name": "34",
         "orientation": "h",
         "showlegend": true,
         "type": "scatter",
         "x": [
          85.089
         ],
         "xaxis": "x",
         "y": [
          0.37107
         ],
         "yaxis": "y"
        },
        {
         "hovertemplate": "Nr=35<br>fkre=%{x}<br>Score=%{y}<extra></extra>",
         "legendgroup": "35",
         "marker": {
          "color": "#19d3f3",
          "symbol": "circle"
         },
         "mode": "markers",
         "name": "35",
         "orientation": "h",
         "showlegend": true,
         "type": "scatter",
         "x": [
          64.38
         ],
         "xaxis": "x",
         "y": [
          0.02516
         ],
         "yaxis": "y"
        },
        {
         "hovertemplate": "Nr=36<br>fkre=%{x}<br>Score=%{y}<extra></extra>",
         "legendgroup": "36",
         "marker": {
          "color": "#FF6692",
          "symbol": "circle"
         },
         "mode": "markers",
         "name": "36",
         "orientation": "h",
         "showlegend": true,
         "type": "scatter",
         "x": [
          87.258
         ],
         "xaxis": "x",
         "y": [
          0.39623
         ],
         "yaxis": "y"
        },
        {
         "hovertemplate": "Nr=37<br>fkre=%{x}<br>Score=%{y}<extra></extra>",
         "legendgroup": "37",
         "marker": {
          "color": "#B6E880",
          "symbol": "circle"
         },
         "mode": "markers",
         "name": "37",
         "orientation": "h",
         "showlegend": true,
         "type": "scatter",
         "x": [
          61.815
         ],
         "xaxis": "x",
         "y": [
          0.03145
         ],
         "yaxis": "y"
        },
        {
         "hovertemplate": "Nr=38<br>fkre=%{x}<br>Score=%{y}<extra></extra>",
         "legendgroup": "38",
         "marker": {
          "color": "#FF97FF",
          "symbol": "circle"
         },
         "mode": "markers",
         "name": "38",
         "orientation": "h",
         "showlegend": true,
         "type": "scatter",
         "x": [
          73.172
         ],
         "xaxis": "x",
         "y": [
          0.59748
         ],
         "yaxis": "y"
        },
        {
         "hovertemplate": "Nr=39<br>fkre=%{x}<br>Score=%{y}<extra></extra>",
         "legendgroup": "39",
         "marker": {
          "color": "#FECB52",
          "symbol": "circle"
         },
         "mode": "markers",
         "name": "39",
         "orientation": "h",
         "showlegend": true,
         "type": "scatter",
         "x": [
          80.75
         ],
         "xaxis": "x",
         "y": [
          0.20755
         ],
         "yaxis": "y"
        },
        {
         "hovertemplate": "Nr=40<br>fkre=%{x}<br>Score=%{y}<extra></extra>",
         "legendgroup": "40",
         "marker": {
          "color": "#636efa",
          "symbol": "circle"
         },
         "mode": "markers",
         "name": "40",
         "orientation": "h",
         "showlegend": true,
         "type": "scatter",
         "x": [
          57.605
         ],
         "xaxis": "x",
         "y": [
          0.61006
         ],
         "yaxis": "y"
        },
        {
         "hovertemplate": "Nr=41<br>fkre=%{x}<br>Score=%{y}<extra></extra>",
         "legendgroup": "41",
         "marker": {
          "color": "#EF553B",
          "symbol": "circle"
         },
         "mode": "markers",
         "name": "41",
         "orientation": "h",
         "showlegend": true,
         "type": "scatter",
         "x": [
          107.518
         ],
         "xaxis": "x",
         "y": [
          0.56604
         ],
         "yaxis": "y"
        },
        {
         "hovertemplate": "Nr=42<br>fkre=%{x}<br>Score=%{y}<extra></extra>",
         "legendgroup": "42",
         "marker": {
          "color": "#00cc96",
          "symbol": "circle"
         },
         "mode": "markers",
         "name": "42",
         "orientation": "h",
         "showlegend": true,
         "type": "scatter",
         "x": [
          54.097
         ],
         "xaxis": "x",
         "y": [
          0.38994
         ],
         "yaxis": "y"
        },
        {
         "hovertemplate": "Nr=43<br>fkre=%{x}<br>Score=%{y}<extra></extra>",
         "legendgroup": "43",
         "marker": {
          "color": "#ab63fa",
          "symbol": "circle"
         },
         "mode": "markers",
         "name": "43",
         "orientation": "h",
         "showlegend": true,
         "type": "scatter",
         "x": [
          60.363
         ],
         "xaxis": "x",
         "y": [
          0.18239
         ],
         "yaxis": "y"
        },
        {
         "hovertemplate": "Nr=44<br>fkre=%{x}<br>Score=%{y}<extra></extra>",
         "legendgroup": "44",
         "marker": {
          "color": "#FFA15A",
          "symbol": "circle"
         },
         "mode": "markers",
         "name": "44",
         "orientation": "h",
         "showlegend": true,
         "type": "scatter",
         "x": [
          45.472
         ],
         "xaxis": "x",
         "y": [
          0.24528
         ],
         "yaxis": "y"
        },
        {
         "hovertemplate": "Nr=45<br>fkre=%{x}<br>Score=%{y}<extra></extra>",
         "legendgroup": "45",
         "marker": {
          "color": "#19d3f3",
          "symbol": "circle"
         },
         "mode": "markers",
         "name": "45",
         "orientation": "h",
         "showlegend": true,
         "type": "scatter",
         "x": [
          88.965
         ],
         "xaxis": "x",
         "y": [
          0.58491
         ],
         "yaxis": "y"
        },
        {
         "hovertemplate": "Nr=46<br>fkre=%{x}<br>Score=%{y}<extra></extra>",
         "legendgroup": "46",
         "marker": {
          "color": "#FF6692",
          "symbol": "circle"
         },
         "mode": "markers",
         "name": "46",
         "orientation": "h",
         "showlegend": true,
         "type": "scatter",
         "x": [
          70.307
         ],
         "xaxis": "x",
         "y": [
          0.13836
         ],
         "yaxis": "y"
        },
        {
         "hovertemplate": "Nr=47<br>fkre=%{x}<br>Score=%{y}<extra></extra>",
         "legendgroup": "47",
         "marker": {
          "color": "#B6E880",
          "symbol": "circle"
         },
         "mode": "markers",
         "name": "47",
         "orientation": "h",
         "showlegend": true,
         "type": "scatter",
         "x": [
          101.615
         ],
         "xaxis": "x",
         "y": [
          0.37736
         ],
         "yaxis": "y"
        },
        {
         "hovertemplate": "Nr=48<br>fkre=%{x}<br>Score=%{y}<extra></extra>",
         "legendgroup": "48",
         "marker": {
          "color": "#FF97FF",
          "symbol": "circle"
         },
         "mode": "markers",
         "name": "48",
         "orientation": "h",
         "showlegend": true,
         "type": "scatter",
         "x": [
          69.788
         ],
         "xaxis": "x",
         "y": [
          0.42767
         ],
         "yaxis": "y"
        },
        {
         "hovertemplate": "Nr=49<br>fkre=%{x}<br>Score=%{y}<extra></extra>",
         "legendgroup": "49",
         "marker": {
          "color": "#FECB52",
          "symbol": "circle"
         },
         "mode": "markers",
         "name": "49",
         "orientation": "h",
         "showlegend": true,
         "type": "scatter",
         "x": [
          66.209
         ],
         "xaxis": "x",
         "y": [
          0.55346
         ],
         "yaxis": "y"
        },
        {
         "hovertemplate": "Nr=50<br>fkre=%{x}<br>Score=%{y}<extra></extra>",
         "legendgroup": "50",
         "marker": {
          "color": "#636efa",
          "symbol": "circle"
         },
         "mode": "markers",
         "name": "50",
         "orientation": "h",
         "showlegend": true,
         "type": "scatter",
         "x": [
          76.322
         ],
         "xaxis": "x",
         "y": [
          0.81761
         ],
         "yaxis": "y"
        },
        {
         "hovertemplate": "Nr=51<br>fkre=%{x}<br>Score=%{y}<extra></extra>",
         "legendgroup": "51",
         "marker": {
          "color": "#EF553B",
          "symbol": "circle"
         },
         "mode": "markers",
         "name": "51",
         "orientation": "h",
         "showlegend": true,
         "type": "scatter",
         "x": [
          78.708
         ],
         "xaxis": "x",
         "y": [
          0.84277
         ],
         "yaxis": "y"
        },
        {
         "hovertemplate": "Nr=52<br>fkre=%{x}<br>Score=%{y}<extra></extra>",
         "legendgroup": "52",
         "marker": {
          "color": "#00cc96",
          "symbol": "circle"
         },
         "mode": "markers",
         "name": "52",
         "orientation": "h",
         "showlegend": true,
         "type": "scatter",
         "x": [
          37.95
         ],
         "xaxis": "x",
         "y": [
          0.52201
         ],
         "yaxis": "y"
        },
        {
         "hovertemplate": "Nr=53<br>fkre=%{x}<br>Score=%{y}<extra></extra>",
         "legendgroup": "53",
         "marker": {
          "color": "#ab63fa",
          "symbol": "circle"
         },
         "mode": "markers",
         "name": "53",
         "orientation": "h",
         "showlegend": true,
         "type": "scatter",
         "x": [
          69.788
         ],
         "xaxis": "x",
         "y": [
          0.66667
         ],
         "yaxis": "y"
        },
        {
         "hovertemplate": "Nr=54<br>fkre=%{x}<br>Score=%{y}<extra></extra>",
         "legendgroup": "54",
         "marker": {
          "color": "#FFA15A",
          "symbol": "circle"
         },
         "mode": "markers",
         "name": "54",
         "orientation": "h",
         "showlegend": true,
         "type": "scatter",
         "x": [
          90.051
         ],
         "xaxis": "x",
         "y": [
          0.55975
         ],
         "yaxis": "y"
        },
        {
         "hovertemplate": "Nr=55<br>fkre=%{x}<br>Score=%{y}<extra></extra>",
         "legendgroup": "55",
         "marker": {
          "color": "#19d3f3",
          "symbol": "circle"
         },
         "mode": "markers",
         "name": "55",
         "orientation": "h",
         "showlegend": true,
         "type": "scatter",
         "x": [
          58.424
         ],
         "xaxis": "x",
         "y": [
          0.1761
         ],
         "yaxis": "y"
        },
        {
         "hovertemplate": "Nr=56<br>fkre=%{x}<br>Score=%{y}<extra></extra>",
         "legendgroup": "56",
         "marker": {
          "color": "#FF6692",
          "symbol": "circle"
         },
         "mode": "markers",
         "name": "56",
         "orientation": "h",
         "showlegend": true,
         "type": "scatter",
         "x": [
          91.327
         ],
         "xaxis": "x",
         "y": [
          0.49686
         ],
         "yaxis": "y"
        },
        {
         "hovertemplate": "Nr=57<br>fkre=%{x}<br>Score=%{y}<extra></extra>",
         "legendgroup": "57",
         "marker": {
          "color": "#B6E880",
          "symbol": "circle"
         },
         "mode": "markers",
         "name": "57",
         "orientation": "h",
         "showlegend": true,
         "type": "scatter",
         "x": [
          62.876
         ],
         "xaxis": "x",
         "y": [
          0.69811
         ],
         "yaxis": "y"
        },
        {
         "hovertemplate": "Nr=58<br>fkre=%{x}<br>Score=%{y}<extra></extra>",
         "legendgroup": "58",
         "marker": {
          "color": "#FF97FF",
          "symbol": "circle"
         },
         "mode": "markers",
         "name": "58",
         "orientation": "h",
         "showlegend": true,
         "type": "scatter",
         "x": [
          57.558
         ],
         "xaxis": "x",
         "y": [
          0.2327
         ],
         "yaxis": "y"
        },
        {
         "hovertemplate": "Nr=59<br>fkre=%{x}<br>Score=%{y}<extra></extra>",
         "legendgroup": "59",
         "marker": {
          "color": "#FECB52",
          "symbol": "circle"
         },
         "mode": "markers",
         "name": "59",
         "orientation": "h",
         "showlegend": true,
         "type": "scatter",
         "x": [
          71.782
         ],
         "xaxis": "x",
         "y": [
          0.43396
         ],
         "yaxis": "y"
        },
        {
         "hovertemplate": "Nr=60<br>fkre=%{x}<br>Score=%{y}<extra></extra>",
         "legendgroup": "60",
         "marker": {
          "color": "#636efa",
          "symbol": "circle"
         },
         "mode": "markers",
         "name": "60",
         "orientation": "h",
         "showlegend": true,
         "type": "scatter",
         "x": [
          75.686
         ],
         "xaxis": "x",
         "y": [
          0.61635
         ],
         "yaxis": "y"
        },
        {
         "hovertemplate": "Nr=61<br>fkre=%{x}<br>Score=%{y}<extra></extra>",
         "legendgroup": "61",
         "marker": {
          "color": "#EF553B",
          "symbol": "circle"
         },
         "mode": "markers",
         "name": "61",
         "orientation": "h",
         "showlegend": true,
         "type": "scatter",
         "x": [
          65.786
         ],
         "xaxis": "x",
         "y": [
          0.69182
         ],
         "yaxis": "y"
        },
        {
         "hovertemplate": "Nr=62<br>fkre=%{x}<br>Score=%{y}<extra></extra>",
         "legendgroup": "62",
         "marker": {
          "color": "#00cc96",
          "symbol": "circle"
         },
         "mode": "markers",
         "name": "62",
         "orientation": "h",
         "showlegend": true,
         "type": "scatter",
         "x": [
          40.038
         ],
         "xaxis": "x",
         "y": [
          0.25157
         ],
         "yaxis": "y"
        },
        {
         "hovertemplate": "Nr=63<br>fkre=%{x}<br>Score=%{y}<extra></extra>",
         "legendgroup": "63",
         "marker": {
          "color": "#ab63fa",
          "symbol": "circle"
         },
         "mode": "markers",
         "name": "63",
         "orientation": "h",
         "showlegend": true,
         "type": "scatter",
         "x": [
          46.124
         ],
         "xaxis": "x",
         "y": [
          0.33333
         ],
         "yaxis": "y"
        },
        {
         "hovertemplate": "Nr=64<br>fkre=%{x}<br>Score=%{y}<extra></extra>",
         "legendgroup": "64",
         "marker": {
          "color": "#FFA15A",
          "symbol": "circle"
         },
         "mode": "markers",
         "name": "64",
         "orientation": "h",
         "showlegend": true,
         "type": "scatter",
         "x": [
          69.644
         ],
         "xaxis": "x",
         "y": [
          0.50943
         ],
         "yaxis": "y"
        },
        {
         "hovertemplate": "Nr=65<br>fkre=%{x}<br>Score=%{y}<extra></extra>",
         "legendgroup": "65",
         "marker": {
          "color": "#19d3f3",
          "symbol": "circle"
         },
         "mode": "markers",
         "name": "65",
         "orientation": "h",
         "showlegend": true,
         "type": "scatter",
         "x": [
          69.464
         ],
         "xaxis": "x",
         "y": [
          0.63522
         ],
         "yaxis": "y"
        },
        {
         "hovertemplate": "Nr=66<br>fkre=%{x}<br>Score=%{y}<extra></extra>",
         "legendgroup": "66",
         "marker": {
          "color": "#FF6692",
          "symbol": "circle"
         },
         "mode": "markers",
         "name": "66",
         "orientation": "h",
         "showlegend": true,
         "type": "scatter",
         "x": [
          66.545
         ],
         "xaxis": "x",
         "y": [
          0.25786
         ],
         "yaxis": "y"
        },
        {
         "hovertemplate": "Nr=67<br>fkre=%{x}<br>Score=%{y}<extra></extra>",
         "legendgroup": "67",
         "marker": {
          "color": "#B6E880",
          "symbol": "circle"
         },
         "mode": "markers",
         "name": "67",
         "orientation": "h",
         "showlegend": true,
         "type": "scatter",
         "x": [
          52.577
         ],
         "xaxis": "x",
         "y": [
          0.14465
         ],
         "yaxis": "y"
        },
        {
         "hovertemplate": "Nr=68<br>fkre=%{x}<br>Score=%{y}<extra></extra>",
         "legendgroup": "68",
         "marker": {
          "color": "#FF97FF",
          "symbol": "circle"
         },
         "mode": "markers",
         "name": "68",
         "orientation": "h",
         "showlegend": true,
         "type": "scatter",
         "x": [
          83.345
         ],
         "xaxis": "x",
         "y": [
          0.36478
         ],
         "yaxis": "y"
        },
        {
         "hovertemplate": "Nr=69<br>fkre=%{x}<br>Score=%{y}<extra></extra>",
         "legendgroup": "69",
         "marker": {
          "color": "#FECB52",
          "symbol": "circle"
         },
         "mode": "markers",
         "name": "69",
         "orientation": "h",
         "showlegend": true,
         "type": "scatter",
         "x": [
          60.053
         ],
         "xaxis": "x",
         "y": [
          0.08805
         ],
         "yaxis": "y"
        },
        {
         "hovertemplate": "Nr=70<br>fkre=%{x}<br>Score=%{y}<extra></extra>",
         "legendgroup": "70",
         "marker": {
          "color": "#636efa",
          "symbol": "circle"
         },
         "mode": "markers",
         "name": "70",
         "orientation": "h",
         "showlegend": true,
         "type": "scatter",
         "x": [
          84.68
         ],
         "xaxis": "x",
         "y": [
          0.53459
         ],
         "yaxis": "y"
        },
        {
         "hovertemplate": "Nr=71<br>fkre=%{x}<br>Score=%{y}<extra></extra>",
         "legendgroup": "71",
         "marker": {
          "color": "#EF553B",
          "symbol": "circle"
         },
         "mode": "markers",
         "name": "71",
         "orientation": "h",
         "showlegend": true,
         "type": "scatter",
         "x": [
          46.069
         ],
         "xaxis": "x",
         "y": [
          0.49057
         ],
         "yaxis": "y"
        },
        {
         "hovertemplate": "Nr=72<br>fkre=%{x}<br>Score=%{y}<extra></extra>",
         "legendgroup": "72",
         "marker": {
          "color": "#00cc96",
          "symbol": "circle"
         },
         "mode": "markers",
         "name": "72",
         "orientation": "h",
         "showlegend": true,
         "type": "scatter",
         "x": [
          76.82
         ],
         "xaxis": "x",
         "y": [
          0.74214
         ],
         "yaxis": "y"
        },
        {
         "hovertemplate": "Nr=73<br>fkre=%{x}<br>Score=%{y}<extra></extra>",
         "legendgroup": "73",
         "marker": {
          "color": "#ab63fa",
          "symbol": "circle"
         },
         "mode": "markers",
         "name": "73",
         "orientation": "h",
         "showlegend": true,
         "type": "scatter",
         "x": [
          76.322
         ],
         "xaxis": "x",
         "y": [
          0.59119
         ],
         "yaxis": "y"
        },
        {
         "hovertemplate": "Nr=74<br>fkre=%{x}<br>Score=%{y}<extra></extra>",
         "legendgroup": "74",
         "marker": {
          "color": "#FFA15A",
          "symbol": "circle"
         },
         "mode": "markers",
         "name": "74",
         "orientation": "h",
         "showlegend": true,
         "type": "scatter",
         "x": [
          46.1
         ],
         "xaxis": "x",
         "y": [
          0.42138
         ],
         "yaxis": "y"
        },
        {
         "hovertemplate": "Nr=75<br>fkre=%{x}<br>Score=%{y}<extra></extra>",
         "legendgroup": "75",
         "marker": {
          "color": "#19d3f3",
          "symbol": "circle"
         },
         "mode": "markers",
         "name": "75",
         "orientation": "h",
         "showlegend": true,
         "type": "scatter",
         "x": [
          53.545
         ],
         "xaxis": "x",
         "y": [
          0.15094
         ],
         "yaxis": "y"
        },
        {
         "hovertemplate": "Nr=76<br>fkre=%{x}<br>Score=%{y}<extra></extra>",
         "legendgroup": "76",
         "marker": {
          "color": "#FF6692",
          "symbol": "circle"
         },
         "mode": "markers",
         "name": "76",
         "orientation": "h",
         "showlegend": true,
         "type": "scatter",
         "x": [
          72.379
         ],
         "xaxis": "x",
         "y": [
          0.3522
         ],
         "yaxis": "y"
        },
        {
         "hovertemplate": "Nr=77<br>fkre=%{x}<br>Score=%{y}<extra></extra>",
         "legendgroup": "77",
         "marker": {
          "color": "#B6E880",
          "symbol": "circle"
         },
         "mode": "markers",
         "name": "77",
         "orientation": "h",
         "showlegend": true,
         "type": "scatter",
         "x": [
          69.464
         ],
         "xaxis": "x",
         "y": [
          0.27044
         ],
         "yaxis": "y"
        },
        {
         "hovertemplate": "Nr=78<br>fkre=%{x}<br>Score=%{y}<extra></extra>",
         "legendgroup": "78",
         "marker": {
          "color": "#FF97FF",
          "symbol": "circle"
         },
         "mode": "markers",
         "name": "78",
         "orientation": "h",
         "showlegend": true,
         "type": "scatter",
         "x": [
          61.45
         ],
         "xaxis": "x",
         "y": [
          0.93711
         ],
         "yaxis": "y"
        },
        {
         "hovertemplate": "Nr=79<br>fkre=%{x}<br>Score=%{y}<extra></extra>",
         "legendgroup": "79",
         "marker": {
          "color": "#FECB52",
          "symbol": "circle"
         },
         "mode": "markers",
         "name": "79",
         "orientation": "h",
         "showlegend": true,
         "type": "scatter",
         "x": [
          85.237
         ],
         "xaxis": "x",
         "y": [
          0.54088
         ],
         "yaxis": "y"
        },
        {
         "hovertemplate": "Nr=80<br>fkre=%{x}<br>Score=%{y}<extra></extra>",
         "legendgroup": "80",
         "marker": {
          "color": "#636efa",
          "symbol": "circle"
         },
         "mode": "markers",
         "name": "80",
         "orientation": "h",
         "showlegend": true,
         "type": "scatter",
         "x": [
          79.854
         ],
         "xaxis": "x",
         "y": [
          0.06289
         ],
         "yaxis": "y"
        },
        {
         "hovertemplate": "Nr=81<br>fkre=%{x}<br>Score=%{y}<extra></extra>",
         "legendgroup": "81",
         "marker": {
          "color": "#EF553B",
          "symbol": "circle"
         },
         "mode": "markers",
         "name": "81",
         "orientation": "h",
         "showlegend": true,
         "type": "scatter",
         "x": [
          45.81
         ],
         "xaxis": "x",
         "y": [
          0.04403
         ],
         "yaxis": "y"
        },
        {
         "hovertemplate": "Nr=82<br>fkre=%{x}<br>Score=%{y}<extra></extra>",
         "legendgroup": "82",
         "marker": {
          "color": "#00cc96",
          "symbol": "circle"
         },
         "mode": "markers",
         "name": "82",
         "orientation": "h",
         "showlegend": true,
         "type": "scatter",
         "x": [
          58.788
         ],
         "xaxis": "x",
         "y": [
          0.05031
         ],
         "yaxis": "y"
        },
        {
         "hovertemplate": "Nr=83<br>fkre=%{x}<br>Score=%{y}<extra></extra>",
         "legendgroup": "83",
         "marker": {
          "color": "#ab63fa",
          "symbol": "circle"
         },
         "mode": "markers",
         "name": "83",
         "orientation": "h",
         "showlegend": true,
         "type": "scatter",
         "x": [
          54.536
         ],
         "xaxis": "x",
         "y": [
          0.13208
         ],
         "yaxis": "y"
        },
        {
         "hovertemplate": "Nr=84<br>fkre=%{x}<br>Score=%{y}<extra></extra>",
         "legendgroup": "84",
         "marker": {
          "color": "#FFA15A",
          "symbol": "circle"
         },
         "mode": "markers",
         "name": "84",
         "orientation": "h",
         "showlegend": true,
         "type": "scatter",
         "x": [
          81.855
         ],
         "xaxis": "x",
         "y": [
          0.7044
         ],
         "yaxis": "y"
        },
        {
         "hovertemplate": "Nr=85<br>fkre=%{x}<br>Score=%{y}<extra></extra>",
         "legendgroup": "85",
         "marker": {
          "color": "#19d3f3",
          "symbol": "circle"
         },
         "mode": "markers",
         "name": "85",
         "orientation": "h",
         "showlegend": true,
         "type": "scatter",
         "x": [
          114.068
         ],
         "xaxis": "x",
         "y": [
          0.88679
         ],
         "yaxis": "y"
        },
        {
         "hovertemplate": "Nr=86<br>fkre=%{x}<br>Score=%{y}<extra></extra>",
         "legendgroup": "86",
         "marker": {
          "color": "#FF6692",
          "symbol": "circle"
         },
         "mode": "markers",
         "name": "86",
         "orientation": "h",
         "showlegend": true,
         "type": "scatter",
         "x": [
          61.815
         ],
         "xaxis": "x",
         "y": [
          0.50314
         ],
         "yaxis": "y"
        },
        {
         "hovertemplate": "Nr=87<br>fkre=%{x}<br>Score=%{y}<extra></extra>",
         "legendgroup": "87",
         "marker": {
          "color": "#B6E880",
          "symbol": "circle"
         },
         "mode": "markers",
         "name": "87",
         "orientation": "h",
         "showlegend": true,
         "type": "scatter",
         "x": [
          77.821
         ],
         "xaxis": "x",
         "y": [
          0.06918
         ],
         "yaxis": "y"
        },
        {
         "hovertemplate": "Nr=88<br>fkre=%{x}<br>Score=%{y}<extra></extra>",
         "legendgroup": "88",
         "marker": {
          "color": "#FF97FF",
          "symbol": "circle"
         },
         "mode": "markers",
         "name": "88",
         "orientation": "h",
         "showlegend": true,
         "type": "scatter",
         "x": [
          45.619
         ],
         "xaxis": "x",
         "y": [
          0.20126
         ],
         "yaxis": "y"
        },
        {
         "hovertemplate": "Nr=89<br>fkre=%{x}<br>Score=%{y}<extra></extra>",
         "legendgroup": "89",
         "marker": {
          "color": "#FECB52",
          "symbol": "circle"
         },
         "mode": "markers",
         "name": "89",
         "orientation": "h",
         "showlegend": true,
         "type": "scatter",
         "x": [
          106.247
         ],
         "xaxis": "x",
         "y": [
          0.40881
         ],
         "yaxis": "y"
        },
        {
         "hovertemplate": "Nr=90<br>fkre=%{x}<br>Score=%{y}<extra></extra>",
         "legendgroup": "90",
         "marker": {
          "color": "#636efa",
          "symbol": "circle"
         },
         "mode": "markers",
         "name": "90",
         "orientation": "h",
         "showlegend": true,
         "type": "scatter",
         "x": [
          68.753
         ],
         "xaxis": "x",
         "y": [
          0.15723
         ],
         "yaxis": "y"
        },
        {
         "hovertemplate": "Nr=91<br>fkre=%{x}<br>Score=%{y}<extra></extra>",
         "legendgroup": "91",
         "marker": {
          "color": "#EF553B",
          "symbol": "circle"
         },
         "mode": "markers",
         "name": "91",
         "orientation": "h",
         "showlegend": true,
         "type": "scatter",
         "x": [
          91.596
         ],
         "xaxis": "x",
         "y": [
          0.38365
         ],
         "yaxis": "y"
        },
        {
         "hovertemplate": "Nr=92<br>fkre=%{x}<br>Score=%{y}<extra></extra>",
         "legendgroup": "92",
         "marker": {
          "color": "#00cc96",
          "symbol": "circle"
         },
         "mode": "markers",
         "name": "92",
         "orientation": "h",
         "showlegend": true,
         "type": "scatter",
         "x": [
          32.79
         ],
         "xaxis": "x",
         "y": [
          0.01887
         ],
         "yaxis": "y"
        },
        {
         "hovertemplate": "Nr=93<br>fkre=%{x}<br>Score=%{y}<extra></extra>",
         "legendgroup": "93",
         "marker": {
          "color": "#ab63fa",
          "symbol": "circle"
         },
         "mode": "markers",
         "name": "93",
         "orientation": "h",
         "showlegend": true,
         "type": "scatter",
         "x": [
          95.955
         ],
         "xaxis": "x",
         "y": [
          0.90566
         ],
         "yaxis": "y"
        },
        {
         "hovertemplate": "Nr=94<br>fkre=%{x}<br>Score=%{y}<extra></extra>",
         "legendgroup": "94",
         "marker": {
          "color": "#FFA15A",
          "symbol": "circle"
         },
         "mode": "markers",
         "name": "94",
         "orientation": "h",
         "showlegend": true,
         "type": "scatter",
         "x": [
          66.405
         ],
         "xaxis": "x",
         "y": [
          0.48428
         ],
         "yaxis": "y"
        },
        {
         "hovertemplate": "Nr=95<br>fkre=%{x}<br>Score=%{y}<extra></extra>",
         "legendgroup": "95",
         "marker": {
          "color": "#19d3f3",
          "symbol": "circle"
         },
         "mode": "markers",
         "name": "95",
         "orientation": "h",
         "showlegend": true,
         "type": "scatter",
         "x": [
          52.89
         ],
         "xaxis": "x",
         "y": [
          0.23899
         ],
         "yaxis": "y"
        },
        {
         "hovertemplate": "Nr=96<br>fkre=%{x}<br>Score=%{y}<extra></extra>",
         "legendgroup": "96",
         "marker": {
          "color": "#FF6692",
          "symbol": "circle"
         },
         "mode": "markers",
         "name": "96",
         "orientation": "h",
         "showlegend": true,
         "type": "scatter",
         "x": [
          79.576
         ],
         "xaxis": "x",
         "y": [
          0.60377
         ],
         "yaxis": "y"
        },
        {
         "hovertemplate": "Nr=97<br>fkre=%{x}<br>Score=%{y}<extra></extra>",
         "legendgroup": "97",
         "marker": {
          "color": "#B6E880",
          "symbol": "circle"
         },
         "mode": "markers",
         "name": "97",
         "orientation": "h",
         "showlegend": true,
         "type": "scatter",
         "x": [
          57.234
         ],
         "xaxis": "x",
         "y": [
          0.65409
         ],
         "yaxis": "y"
        },
        {
         "hovertemplate": "Nr=98<br>fkre=%{x}<br>Score=%{y}<extra></extra>",
         "legendgroup": "98",
         "marker": {
          "color": "#FF97FF",
          "symbol": "circle"
         },
         "mode": "markers",
         "name": "98",
         "orientation": "h",
         "showlegend": true,
         "type": "scatter",
         "x": [
          80.499
         ],
         "xaxis": "x",
         "y": [
          0.74843
         ],
         "yaxis": "y"
        },
        {
         "hovertemplate": "Nr=99<br>fkre=%{x}<br>Score=%{y}<extra></extra>",
         "legendgroup": "99",
         "marker": {
          "color": "#FECB52",
          "symbol": "circle"
         },
         "mode": "markers",
         "name": "99",
         "orientation": "h",
         "showlegend": true,
         "type": "scatter",
         "x": [
          72.045
         ],
         "xaxis": "x",
         "y": [
          0.11321
         ],
         "yaxis": "y"
        },
        {
         "hovertemplate": "Nr=100<br>fkre=%{x}<br>Score=%{y}<extra></extra>",
         "legendgroup": "100",
         "marker": {
          "color": "#636efa",
          "symbol": "circle"
         },
         "mode": "markers",
         "name": "100",
         "orientation": "h",
         "showlegend": true,
         "type": "scatter",
         "x": [
          101.935
         ],
         "xaxis": "x",
         "y": [
          0.72327
         ],
         "yaxis": "y"
        },
        {
         "hovertemplate": "Nr=101<br>fkre=%{x}<br>Score=%{y}<extra></extra>",
         "legendgroup": "101",
         "marker": {
          "color": "#EF553B",
          "symbol": "circle"
         },
         "mode": "markers",
         "name": "101",
         "orientation": "h",
         "showlegend": true,
         "type": "scatter",
         "x": [
          67.961
         ],
         "xaxis": "x",
         "y": [
          0
         ],
         "yaxis": "y"
        },
        {
         "hovertemplate": "Nr=102<br>fkre=%{x}<br>Score=%{y}<extra></extra>",
         "legendgroup": "102",
         "marker": {
          "color": "#00cc96",
          "symbol": "circle"
         },
         "mode": "markers",
         "name": "102",
         "orientation": "h",
         "showlegend": true,
         "type": "scatter",
         "x": [
          68.983
         ],
         "xaxis": "x",
         "y": [
          0.77358
         ],
         "yaxis": "y"
        },
        {
         "hovertemplate": "Nr=103<br>fkre=%{x}<br>Score=%{y}<extra></extra>",
         "legendgroup": "103",
         "marker": {
          "color": "#ab63fa",
          "symbol": "circle"
         },
         "mode": "markers",
         "name": "103",
         "orientation": "h",
         "showlegend": true,
         "type": "scatter",
         "x": [
          56.965
         ],
         "xaxis": "x",
         "y": [
          0.27673
         ],
         "yaxis": "y"
        },
        {
         "hovertemplate": "Nr=104<br>fkre=%{x}<br>Score=%{y}<extra></extra>",
         "legendgroup": "104",
         "marker": {
          "color": "#FFA15A",
          "symbol": "circle"
         },
         "mode": "markers",
         "name": "104",
         "orientation": "h",
         "showlegend": true,
         "type": "scatter",
         "x": [
          76.322
         ],
         "xaxis": "x",
         "y": [
          0.26415
         ],
         "yaxis": "y"
        },
        {
         "hovertemplate": "Nr=105<br>fkre=%{x}<br>Score=%{y}<extra></extra>",
         "legendgroup": "105",
         "marker": {
          "color": "#19d3f3",
          "symbol": "circle"
         },
         "mode": "markers",
         "name": "105",
         "orientation": "h",
         "showlegend": true,
         "type": "scatter",
         "x": [
          88.563
         ],
         "xaxis": "x",
         "y": [
          0.16981
         ],
         "yaxis": "y"
        },
        {
         "hovertemplate": "Nr=106<br>fkre=%{x}<br>Score=%{y}<extra></extra>",
         "legendgroup": "106",
         "marker": {
          "color": "#FF6692",
          "symbol": "circle"
         },
         "mode": "markers",
         "name": "106",
         "orientation": "h",
         "showlegend": true,
         "type": "scatter",
         "x": [
          76.832
         ],
         "xaxis": "x",
         "y": [
          0.22642
         ],
         "yaxis": "y"
        },
        {
         "hovertemplate": "Nr=107<br>fkre=%{x}<br>Score=%{y}<extra></extra>",
         "legendgroup": "107",
         "marker": {
          "color": "#B6E880",
          "symbol": "circle"
         },
         "mode": "markers",
         "name": "107",
         "orientation": "h",
         "showlegend": true,
         "type": "scatter",
         "x": [
          84.9
         ],
         "xaxis": "x",
         "y": [
          0.71698
         ],
         "yaxis": "y"
        },
        {
         "hovertemplate": "Nr=108<br>fkre=%{x}<br>Score=%{y}<extra></extra>",
         "legendgroup": "108",
         "marker": {
          "color": "#FF97FF",
          "symbol": "circle"
         },
         "mode": "markers",
         "name": "108",
         "orientation": "h",
         "showlegend": true,
         "type": "scatter",
         "x": [
          47.83
         ],
         "xaxis": "x",
         "y": [
          0.54717
         ],
         "yaxis": "y"
        },
        {
         "hovertemplate": "Nr=109<br>fkre=%{x}<br>Score=%{y}<extra></extra>",
         "legendgroup": "109",
         "marker": {
          "color": "#FECB52",
          "symbol": "circle"
         },
         "mode": "markers",
         "name": "109",
         "orientation": "h",
         "showlegend": true,
         "type": "scatter",
         "x": [
          63.318
         ],
         "xaxis": "x",
         "y": [
          0.07547
         ],
         "yaxis": "y"
        },
        {
         "hovertemplate": "Nr=110<br>fkre=%{x}<br>Score=%{y}<extra></extra>",
         "legendgroup": "110",
         "marker": {
          "color": "#636efa",
          "symbol": "circle"
         },
         "mode": "markers",
         "name": "110",
         "orientation": "h",
         "showlegend": true,
         "type": "scatter",
         "x": [
          72.8
         ],
         "xaxis": "x",
         "y": [
          0.33962
         ],
         "yaxis": "y"
        },
        {
         "hovertemplate": "Nr=111<br>fkre=%{x}<br>Score=%{y}<extra></extra>",
         "legendgroup": "111",
         "marker": {
          "color": "#EF553B",
          "symbol": "circle"
         },
         "mode": "markers",
         "name": "111",
         "orientation": "h",
         "showlegend": true,
         "type": "scatter",
         "x": [
          80.75
         ],
         "xaxis": "x",
         "y": [
          0.08176
         ],
         "yaxis": "y"
        },
        {
         "hovertemplate": "Nr=112<br>fkre=%{x}<br>Score=%{y}<extra></extra>",
         "legendgroup": "112",
         "marker": {
          "color": "#00cc96",
          "symbol": "circle"
         },
         "mode": "markers",
         "name": "112",
         "orientation": "h",
         "showlegend": true,
         "type": "scatter",
         "x": [
          102.055
         ],
         "xaxis": "x",
         "y": [
          0.30189
         ],
         "yaxis": "y"
        },
        {
         "hovertemplate": "Nr=113<br>fkre=%{x}<br>Score=%{y}<extra></extra>",
         "legendgroup": "113",
         "marker": {
          "color": "#ab63fa",
          "symbol": "circle"
         },
         "mode": "markers",
         "name": "113",
         "orientation": "h",
         "showlegend": true,
         "type": "scatter",
         "x": [
          62.107
         ],
         "xaxis": "x",
         "y": [
          0.34591
         ],
         "yaxis": "y"
        },
        {
         "hovertemplate": "Nr=114<br>fkre=%{x}<br>Score=%{y}<extra></extra>",
         "legendgroup": "114",
         "marker": {
          "color": "#FFA15A",
          "symbol": "circle"
         },
         "mode": "markers",
         "name": "114",
         "orientation": "h",
         "showlegend": true,
         "type": "scatter",
         "x": [
          57.558
         ],
         "xaxis": "x",
         "y": [
          0.18868
         ],
         "yaxis": "y"
        },
        {
         "hovertemplate": "Nr=115<br>fkre=%{x}<br>Score=%{y}<extra></extra>",
         "legendgroup": "115",
         "marker": {
          "color": "#19d3f3",
          "symbol": "circle"
         },
         "mode": "markers",
         "name": "115",
         "orientation": "h",
         "showlegend": true,
         "type": "scatter",
         "x": [
          63.695
         ],
         "xaxis": "x",
         "y": [
          0.28931
         ],
         "yaxis": "y"
        },
        {
         "hovertemplate": "Nr=116<br>fkre=%{x}<br>Score=%{y}<extra></extra>",
         "legendgroup": "116",
         "marker": {
          "color": "#FF6692",
          "symbol": "circle"
         },
         "mode": "markers",
         "name": "116",
         "orientation": "h",
         "showlegend": true,
         "type": "scatter",
         "x": [
          85.139
         ],
         "xaxis": "x",
         "y": [
          0.21384
         ],
         "yaxis": "y"
        },
        {
         "hovertemplate": "Nr=117<br>fkre=%{x}<br>Score=%{y}<extra></extra>",
         "legendgroup": "117",
         "marker": {
          "color": "#B6E880",
          "symbol": "circle"
         },
         "mode": "markers",
         "name": "117",
         "orientation": "h",
         "showlegend": true,
         "type": "scatter",
         "x": [
          53.508
         ],
         "xaxis": "x",
         "y": [
          0.16352
         ],
         "yaxis": "y"
        },
        {
         "hovertemplate": "Nr=118<br>fkre=%{x}<br>Score=%{y}<extra></extra>",
         "legendgroup": "118",
         "marker": {
          "color": "#FF97FF",
          "symbol": "circle"
         },
         "mode": "markers",
         "name": "118",
         "orientation": "h",
         "showlegend": true,
         "type": "scatter",
         "x": [
          88.74
         ],
         "xaxis": "x",
         "y": [
          0.62893
         ],
         "yaxis": "y"
        },
        {
         "hovertemplate": "Nr=119<br>fkre=%{x}<br>Score=%{y}<extra></extra>",
         "legendgroup": "119",
         "marker": {
          "color": "#FECB52",
          "symbol": "circle"
         },
         "mode": "markers",
         "name": "119",
         "orientation": "h",
         "showlegend": true,
         "type": "scatter",
         "x": [
          66.63
         ],
         "xaxis": "x",
         "y": [
          0.03774
         ],
         "yaxis": "y"
        },
        {
         "hovertemplate": "Nr=120<br>fkre=%{x}<br>Score=%{y}<extra></extra>",
         "legendgroup": "120",
         "marker": {
          "color": "#636efa",
          "symbol": "circle"
         },
         "mode": "markers",
         "name": "120",
         "orientation": "h",
         "showlegend": true,
         "type": "scatter",
         "x": [
          70.145
         ],
         "xaxis": "x",
         "y": [
          0.87421
         ],
         "yaxis": "y"
        },
        {
         "hovertemplate": "Nr=121<br>fkre=%{x}<br>Score=%{y}<extra></extra>",
         "legendgroup": "121",
         "marker": {
          "color": "#EF553B",
          "symbol": "circle"
         },
         "mode": "markers",
         "name": "121",
         "orientation": "h",
         "showlegend": true,
         "type": "scatter",
         "x": [
          76.556
         ],
         "xaxis": "x",
         "y": [
          0.73585
         ],
         "yaxis": "y"
        },
        {
         "hovertemplate": "Nr=122<br>fkre=%{x}<br>Score=%{y}<extra></extra>",
         "legendgroup": "122",
         "marker": {
          "color": "#00cc96",
          "symbol": "circle"
         },
         "mode": "markers",
         "name": "122",
         "orientation": "h",
         "showlegend": true,
         "type": "scatter",
         "x": [
          87.772
         ],
         "xaxis": "x",
         "y": [
          0.44025
         ],
         "yaxis": "y"
        },
        {
         "hovertemplate": "Nr=123<br>fkre=%{x}<br>Score=%{y}<extra></extra>",
         "legendgroup": "123",
         "marker": {
          "color": "#ab63fa",
          "symbol": "circle"
         },
         "mode": "markers",
         "name": "123",
         "orientation": "h",
         "showlegend": true,
         "type": "scatter",
         "x": [
          80.25
         ],
         "xaxis": "x",
         "y": [
          0.32704
         ],
         "yaxis": "y"
        },
        {
         "hovertemplate": "Nr=124<br>fkre=%{x}<br>Score=%{y}<extra></extra>",
         "legendgroup": "124",
         "marker": {
          "color": "#FFA15A",
          "symbol": "circle"
         },
         "mode": "markers",
         "name": "124",
         "orientation": "h",
         "showlegend": true,
         "type": "scatter",
         "x": [
          75.765
         ],
         "xaxis": "x",
         "y": [
          0.46541
         ],
         "yaxis": "y"
        },
        {
         "hovertemplate": "Nr=125<br>fkre=%{x}<br>Score=%{y}<extra></extra>",
         "legendgroup": "125",
         "marker": {
          "color": "#19d3f3",
          "symbol": "circle"
         },
         "mode": "markers",
         "name": "125",
         "orientation": "h",
         "showlegend": true,
         "type": "scatter",
         "x": [
          105.607
         ],
         "xaxis": "x",
         "y": [
          0.57862
         ],
         "yaxis": "y"
        },
        {
         "hovertemplate": "Nr=126<br>fkre=%{x}<br>Score=%{y}<extra></extra>",
         "legendgroup": "126",
         "marker": {
          "color": "#FF6692",
          "symbol": "circle"
         },
         "mode": "markers",
         "name": "126",
         "orientation": "h",
         "showlegend": true,
         "type": "scatter",
         "x": [
          91.697
         ],
         "xaxis": "x",
         "y": [
          0.8239
         ],
         "yaxis": "y"
        },
        {
         "hovertemplate": "Nr=127<br>fkre=%{x}<br>Score=%{y}<extra></extra>",
         "legendgroup": "127",
         "marker": {
          "color": "#B6E880",
          "symbol": "circle"
         },
         "mode": "markers",
         "name": "127",
         "orientation": "h",
         "showlegend": true,
         "type": "scatter",
         "x": [
          76.03
         ],
         "xaxis": "x",
         "y": [
          0.96855
         ],
         "yaxis": "y"
        },
        {
         "hovertemplate": "Nr=128<br>fkre=%{x}<br>Score=%{y}<extra></extra>",
         "legendgroup": "128",
         "marker": {
          "color": "#FF97FF",
          "symbol": "circle"
         },
         "mode": "markers",
         "name": "128",
         "orientation": "h",
         "showlegend": true,
         "type": "scatter",
         "x": [
          73.142
         ],
         "xaxis": "x",
         "y": [
          0.85535
         ],
         "yaxis": "y"
        },
        {
         "hovertemplate": "Nr=129<br>fkre=%{x}<br>Score=%{y}<extra></extra>",
         "legendgroup": "129",
         "marker": {
          "color": "#FECB52",
          "symbol": "circle"
         },
         "mode": "markers",
         "name": "129",
         "orientation": "h",
         "showlegend": true,
         "type": "scatter",
         "x": [
          79.163
         ],
         "xaxis": "x",
         "y": [
          0.45283
         ],
         "yaxis": "y"
        },
        {
         "hovertemplate": "Nr=130<br>fkre=%{x}<br>Score=%{y}<extra></extra>",
         "legendgroup": "130",
         "marker": {
          "color": "#636efa",
          "symbol": "circle"
         },
         "mode": "markers",
         "name": "130",
         "orientation": "h",
         "showlegend": true,
         "type": "scatter",
         "x": [
          76.749
         ],
         "xaxis": "x",
         "y": [
          0.91824
         ],
         "yaxis": "y"
        },
        {
         "hovertemplate": "Nr=131<br>fkre=%{x}<br>Score=%{y}<extra></extra>",
         "legendgroup": "131",
         "marker": {
          "color": "#EF553B",
          "symbol": "circle"
         },
         "mode": "markers",
         "name": "131",
         "orientation": "h",
         "showlegend": true,
         "type": "scatter",
         "x": [
          69.462
         ],
         "xaxis": "x",
         "y": [
          0.47799
         ],
         "yaxis": "y"
        },
        {
         "hovertemplate": "Nr=132<br>fkre=%{x}<br>Score=%{y}<extra></extra>",
         "legendgroup": "132",
         "marker": {
          "color": "#00cc96",
          "symbol": "circle"
         },
         "mode": "markers",
         "name": "132",
         "orientation": "h",
         "showlegend": true,
         "type": "scatter",
         "x": [
          69.675
         ],
         "xaxis": "x",
         "y": [
          0.67296
         ],
         "yaxis": "y"
        },
        {
         "hovertemplate": "Nr=133<br>fkre=%{x}<br>Score=%{y}<extra></extra>",
         "legendgroup": "133",
         "marker": {
          "color": "#ab63fa",
          "symbol": "circle"
         },
         "mode": "markers",
         "name": "133",
         "orientation": "h",
         "showlegend": true,
         "type": "scatter",
         "x": [
          96.891
         ],
         "xaxis": "x",
         "y": [
          0.6478
         ],
         "yaxis": "y"
        },
        {
         "hovertemplate": "Nr=134<br>fkre=%{x}<br>Score=%{y}<extra></extra>",
         "legendgroup": "134",
         "marker": {
          "color": "#FFA15A",
          "symbol": "circle"
         },
         "mode": "markers",
         "name": "134",
         "orientation": "h",
         "showlegend": true,
         "type": "scatter",
         "x": [
          116.308
         ],
         "xaxis": "x",
         "y": [
          0.83019
         ],
         "yaxis": "y"
        },
        {
         "hovertemplate": "Nr=135<br>fkre=%{x}<br>Score=%{y}<extra></extra>",
         "legendgroup": "135",
         "marker": {
          "color": "#19d3f3",
          "symbol": "circle"
         },
         "mode": "markers",
         "name": "135",
         "orientation": "h",
         "showlegend": true,
         "type": "scatter",
         "x": [
          44.405
         ],
         "xaxis": "x",
         "y": [
          0.98742
         ],
         "yaxis": "y"
        },
        {
         "hovertemplate": "Nr=136<br>fkre=%{x}<br>Score=%{y}<extra></extra>",
         "legendgroup": "136",
         "marker": {
          "color": "#FF6692",
          "symbol": "circle"
         },
         "mode": "markers",
         "name": "136",
         "orientation": "h",
         "showlegend": true,
         "type": "scatter",
         "x": [
          62.876
         ],
         "xaxis": "x",
         "y": [
          0.44654
         ],
         "yaxis": "y"
        },
        {
         "hovertemplate": "Nr=137<br>fkre=%{x}<br>Score=%{y}<extra></extra>",
         "legendgroup": "137",
         "marker": {
          "color": "#B6E880",
          "symbol": "circle"
         },
         "mode": "markers",
         "name": "137",
         "orientation": "h",
         "showlegend": true,
         "type": "scatter",
         "x": [
          52.05
         ],
         "xaxis": "x",
         "y": [
          0.35849
         ],
         "yaxis": "y"
        },
        {
         "hovertemplate": "Nr=138<br>fkre=%{x}<br>Score=%{y}<extra></extra>",
         "legendgroup": "138",
         "marker": {
          "color": "#FF97FF",
          "symbol": "circle"
         },
         "mode": "markers",
         "name": "138",
         "orientation": "h",
         "showlegend": true,
         "type": "scatter",
         "x": [
          83.009
         ],
         "xaxis": "x",
         "y": [
          0.93082
         ],
         "yaxis": "y"
        },
        {
         "hovertemplate": "Nr=139<br>fkre=%{x}<br>Score=%{y}<extra></extra>",
         "legendgroup": "139",
         "marker": {
          "color": "#FECB52",
          "symbol": "circle"
         },
         "mode": "markers",
         "name": "139",
         "orientation": "h",
         "showlegend": true,
         "type": "scatter",
         "x": [
          65.725
         ],
         "xaxis": "x",
         "y": [
          0.75472
         ],
         "yaxis": "y"
        },
        {
         "hovertemplate": "Nr=140<br>fkre=%{x}<br>Score=%{y}<extra></extra>",
         "legendgroup": "140",
         "marker": {
          "color": "#636efa",
          "symbol": "circle"
         },
         "mode": "markers",
         "name": "140",
         "orientation": "h",
         "showlegend": true,
         "type": "scatter",
         "x": [
          100.004
         ],
         "xaxis": "x",
         "y": [
          0.94969
         ],
         "yaxis": "y"
        },
        {
         "hovertemplate": "Nr=141<br>fkre=%{x}<br>Score=%{y}<extra></extra>",
         "legendgroup": "141",
         "marker": {
          "color": "#EF553B",
          "symbol": "circle"
         },
         "mode": "markers",
         "name": "141",
         "orientation": "h",
         "showlegend": true,
         "type": "scatter",
         "x": [
          92.214
         ],
         "xaxis": "x",
         "y": [
          0.89308
         ],
         "yaxis": "y"
        },
        {
         "hovertemplate": "Nr=142<br>fkre=%{x}<br>Score=%{y}<extra></extra>",
         "legendgroup": "142",
         "marker": {
          "color": "#00cc96",
          "symbol": "circle"
         },
         "mode": "markers",
         "name": "142",
         "orientation": "h",
         "showlegend": true,
         "type": "scatter",
         "x": [
          58.424
         ],
         "xaxis": "x",
         "y": [
          0.10063
         ],
         "yaxis": "y"
        },
        {
         "hovertemplate": "Nr=143<br>fkre=%{x}<br>Score=%{y}<extra></extra>",
         "legendgroup": "143",
         "marker": {
          "color": "#ab63fa",
          "symbol": "circle"
         },
         "mode": "markers",
         "name": "143",
         "orientation": "h",
         "showlegend": true,
         "type": "scatter",
         "x": [
          129.666
         ],
         "xaxis": "x",
         "y": [
          0.71069
         ],
         "yaxis": "y"
        },
        {
         "hovertemplate": "Nr=144<br>fkre=%{x}<br>Score=%{y}<extra></extra>",
         "legendgroup": "144",
         "marker": {
          "color": "#FFA15A",
          "symbol": "circle"
         },
         "mode": "markers",
         "name": "144",
         "orientation": "h",
         "showlegend": true,
         "type": "scatter",
         "x": [
          73.17
         ],
         "xaxis": "x",
         "y": [
          0.81132
         ],
         "yaxis": "y"
        },
        {
         "hovertemplate": "Nr=145<br>fkre=%{x}<br>Score=%{y}<extra></extra>",
         "legendgroup": "145",
         "marker": {
          "color": "#19d3f3",
          "symbol": "circle"
         },
         "mode": "markers",
         "name": "145",
         "orientation": "h",
         "showlegend": true,
         "type": "scatter",
         "x": [
          94.3
         ],
         "xaxis": "x",
         "y": [
          0.99371
         ],
         "yaxis": "y"
        },
        {
         "hovertemplate": "Nr=146<br>fkre=%{x}<br>Score=%{y}<extra></extra>",
         "legendgroup": "146",
         "marker": {
          "color": "#FF6692",
          "symbol": "circle"
         },
         "mode": "markers",
         "name": "146",
         "orientation": "h",
         "showlegend": true,
         "type": "scatter",
         "x": [
          110.395
         ],
         "xaxis": "x",
         "y": [
          0.8805
         ],
         "yaxis": "y"
        },
        {
         "hovertemplate": "Nr=147<br>fkre=%{x}<br>Score=%{y}<extra></extra>",
         "legendgroup": "147",
         "marker": {
          "color": "#B6E880",
          "symbol": "circle"
         },
         "mode": "markers",
         "name": "147",
         "orientation": "h",
         "showlegend": true,
         "type": "scatter",
         "x": [
          90.133
         ],
         "xaxis": "x",
         "y": [
          0.96226
         ],
         "yaxis": "y"
        },
        {
         "hovertemplate": "Nr=148<br>fkre=%{x}<br>Score=%{y}<extra></extra>",
         "legendgroup": "148",
         "marker": {
          "color": "#FF97FF",
          "symbol": "circle"
         },
         "mode": "markers",
         "name": "148",
         "orientation": "h",
         "showlegend": true,
         "type": "scatter",
         "x": [
          84.523
         ],
         "xaxis": "x",
         "y": [
          0.79245
         ],
         "yaxis": "y"
        },
        {
         "hovertemplate": "Nr=149<br>fkre=%{x}<br>Score=%{y}<extra></extra>",
         "legendgroup": "149",
         "marker": {
          "color": "#FECB52",
          "symbol": "circle"
         },
         "mode": "markers",
         "name": "149",
         "orientation": "h",
         "showlegend": true,
         "type": "scatter",
         "x": [
          96.891
         ],
         "xaxis": "x",
         "y": [
          0.89937
         ],
         "yaxis": "y"
        },
        {
         "hovertemplate": "Nr=150<br>fkre=%{x}<br>Score=%{y}<extra></extra>",
         "legendgroup": "150",
         "marker": {
          "color": "#636efa",
          "symbol": "circle"
         },
         "mode": "markers",
         "name": "150",
         "orientation": "h",
         "showlegend": true,
         "type": "scatter",
         "x": [
          95.955
         ],
         "xaxis": "x",
         "y": [
          0.86792
         ],
         "yaxis": "y"
        },
        {
         "hovertemplate": "Nr=151<br>fkre=%{x}<br>Score=%{y}<extra></extra>",
         "legendgroup": "151",
         "marker": {
          "color": "#EF553B",
          "symbol": "circle"
         },
         "mode": "markers",
         "name": "151",
         "orientation": "h",
         "showlegend": true,
         "type": "scatter",
         "x": [
          65.168
         ],
         "xaxis": "x",
         "y": [
          0.64151
         ],
         "yaxis": "y"
        },
        {
         "hovertemplate": "Nr=152<br>fkre=%{x}<br>Score=%{y}<extra></extra>",
         "legendgroup": "152",
         "marker": {
          "color": "#00cc96",
          "symbol": "circle"
         },
         "mode": "markers",
         "name": "152",
         "orientation": "h",
         "showlegend": true,
         "type": "scatter",
         "x": [
          90.09
         ],
         "xaxis": "x",
         "y": [
          0.92453
         ],
         "yaxis": "y"
        },
        {
         "hovertemplate": "Nr=153<br>fkre=%{x}<br>Score=%{y}<extra></extra>",
         "legendgroup": "153",
         "marker": {
          "color": "#ab63fa",
          "symbol": "circle"
         },
         "mode": "markers",
         "name": "153",
         "orientation": "h",
         "showlegend": true,
         "type": "scatter",
         "x": [
          113.1
         ],
         "xaxis": "x",
         "y": [
          1
         ],
         "yaxis": "y"
        },
        {
         "hovertemplate": "Nr=154<br>fkre=%{x}<br>Score=%{y}<extra></extra>",
         "legendgroup": "154",
         "marker": {
          "color": "#FFA15A",
          "symbol": "circle"
         },
         "mode": "markers",
         "name": "154",
         "orientation": "h",
         "showlegend": true,
         "type": "scatter",
         "x": [
          98.497
         ],
         "xaxis": "x",
         "y": [
          0.83648
         ],
         "yaxis": "y"
        },
        {
         "hovertemplate": "Nr=155<br>fkre=%{x}<br>Score=%{y}<extra></extra>",
         "legendgroup": "155",
         "marker": {
          "color": "#19d3f3",
          "symbol": "circle"
         },
         "mode": "markers",
         "name": "155",
         "orientation": "h",
         "showlegend": true,
         "type": "scatter",
         "x": [
          98.497
         ],
         "xaxis": "x",
         "y": [
          0.68553
         ],
         "yaxis": "y"
        },
        {
         "hovertemplate": "Nr=156<br>fkre=%{x}<br>Score=%{y}<extra></extra>",
         "legendgroup": "156",
         "marker": {
          "color": "#FF6692",
          "symbol": "circle"
         },
         "mode": "markers",
         "name": "156",
         "orientation": "h",
         "showlegend": true,
         "type": "scatter",
         "x": [
          98.89
         ],
         "xaxis": "x",
         "y": [
          0.77987
         ],
         "yaxis": "y"
        },
        {
         "hovertemplate": "Nr=157<br>fkre=%{x}<br>Score=%{y}<extra></extra>",
         "legendgroup": "157",
         "marker": {
          "color": "#B6E880",
          "symbol": "circle"
         },
         "mode": "markers",
         "name": "157",
         "orientation": "h",
         "showlegend": true,
         "type": "scatter",
         "x": [
          84.845
         ],
         "xaxis": "x",
         "y": [
          0.95597
         ],
         "yaxis": "y"
        },
        {
         "hovertemplate": "Nr=158<br>fkre=%{x}<br>Score=%{y}<extra></extra>",
         "legendgroup": "158",
         "marker": {
          "color": "#FF97FF",
          "symbol": "circle"
         },
         "mode": "markers",
         "name": "158",
         "orientation": "h",
         "showlegend": true,
         "type": "scatter",
         "x": [
          122.055
         ],
         "xaxis": "x",
         "y": [
          0.98113
         ],
         "yaxis": "y"
        },
        {
         "hovertemplate": "Nr=159<br>fkre=%{x}<br>Score=%{y}<extra></extra>",
         "legendgroup": "159",
         "marker": {
          "color": "#FECB52",
          "symbol": "circle"
         },
         "mode": "markers",
         "name": "159",
         "orientation": "h",
         "showlegend": true,
         "type": "scatter",
         "x": [
          84.845
         ],
         "xaxis": "x",
         "y": [
          0.91195
         ],
         "yaxis": "y"
        },
        {
         "hovertemplate": "<b>OLS trendline</b><br>Score = 0.00721774 * fkre + -0.0429053<br>R<sup>2</sup>=0.233420<br><br>fkre=%{x}<br>Score=%{y} <b>(trend)</b><extra></extra>",
         "legendgroup": "Overall Trendline",
         "line": {
          "color": "#636efa"
         },
         "mode": "lines",
         "name": "Overall Trendline",
         "showlegend": true,
         "type": "scatter",
         "x": [
          32.79,
          35.291,
          37.95,
          40.038,
          44.405,
          45.472,
          45.619,
          45.68,
          45.773,
          45.81,
          46.069,
          46.1,
          46.1,
          46.124,
          47.83,
          47.913,
          47.942,
          51.175,
          52.05,
          52.05,
          52.577,
          52.89,
          53.508,
          53.545,
          54.097,
          54.536,
          55.125,
          56.252,
          56.965,
          57.234,
          57.558,
          57.558,
          57.605,
          58.424,
          58.424,
          58.788,
          59.636,
          60.053,
          60.363,
          61.45,
          61.815,
          61.815,
          62.049,
          62.107,
          62.876,
          62.876,
          63.318,
          63.695,
          64.38,
          64.663,
          65.168,
          65.296,
          65.667,
          65.725,
          65.786,
          66.15,
          66.209,
          66.405,
          66.545,
          66.63,
          67.329,
          67.961,
          68.753,
          68.983,
          69.462,
          69.464,
          69.464,
          69.644,
          69.675,
          69.788,
          69.788,
          70.145,
          70.307,
          71.782,
          72.045,
          72.379,
          72.8,
          73.142,
          73.17,
          73.172,
          75.686,
          75.765,
          76.03,
          76.322,
          76.322,
          76.322,
          76.556,
          76.749,
          76.82,
          76.832,
          77.772,
          77.821,
          78.708,
          79.163,
          79.576,
          79.854,
          80.098,
          80.25,
          80.499,
          80.75,
          80.75,
          81.855,
          83.009,
          83.345,
          84.523,
          84.68,
          84.845,
          84.845,
          84.9,
          85.089,
          85.139,
          85.237,
          86.71,
          87.258,
          87.406,
          87.772,
          88.563,
          88.563,
          88.74,
          88.834,
          88.965,
          89.896,
          90.051,
          90.09,
          90.133,
          90.133,
          91.327,
          91.596,
          91.697,
          92.214,
          92.776,
          94.3,
          95.688,
          95.955,
          95.955,
          96.025,
          96.891,
          96.891,
          98.497,
          98.497,
          98.497,
          98.89,
          100.004,
          100.004,
          100.92,
          101.615,
          101.935,
          102.055,
          105.399,
          105.607,
          106.247,
          107.518,
          110.395,
          111.975,
          113.1,
          113.926,
          114.068,
          116.308,
          122.055,
          129.666
         ],
         "xaxis": "x",
         "y": [
          0.19376425712058837,
          0.21181581579270836,
          0.2310077768119675,
          0.24607841036150224,
          0.27759826510806285,
          0.2852995898194391,
          0.28636059706646094,
          0.2868008789852931,
          0.2874721284681029,
          0.28773918471395193,
          0.2896085784348952,
          0.28983232826249844,
          0.28983232826249844,
          0.29000555393548155,
          0.30231901219003443,
          0.30291808430910117,
          0.3031273986639558,
          0.3264623403620621,
          0.33277785968957313,
          0.33277785968957313,
          0.3365816067588283,
          0.3388407582439837,
          0.34330131932330005,
          0.34356837556914904,
          0.3475525660477617,
          0.35072115231607864,
          0.35497239904054034,
          0.3631067879343745,
          0.3682530339692492,
          0.37019460505393537,
          0.372533151639208,
          0.372533151639208,
          0.3728723852488,
          0.37878371133935035,
          0.37878371133935035,
          0.3814109673795949,
          0.38753160782499985,
          0.3905414038930822,
          0.39277890216911465,
          0.4006245816079769,
          0.4032590553845958,
          0.4032590553845958,
          0.40494800569618156,
          0.4053666344058909,
          0.41091707367772623,
          0.41091707367772623,
          0.4141073131551661,
          0.4168283997682765,
          0.42177254918467083,
          0.42381516857859725,
          0.4274601254476179,
          0.4283839957035281,
          0.43106177589839273,
          0.431480404608102,
          0.4319206865269342,
          0.4345479425671788,
          0.4349737890132624,
          0.4363884653426249,
          0.43739894843502664,
          0.4380124560268419,
          0.4430576537524764,
          0.44761926314103295,
          0.4533357103494772,
          0.4549957897155658,
          0.45845308543885466,
          0.45846752091160325,
          0.45846752091160325,
          0.459766713458977,
          0.4599904632865802,
          0.4608060674968759,
          0.4608060674968759,
          0.4633827993825004,
          0.46455207267513676,
          0.4751982338272266,
          0.4770964984936671,
          0.47950722244268273,
          0.4825458894562623,
          0.48501435529627224,
          0.4852164519147527,
          0.4852308873875012,
          0.5033762766324872,
          0.5039464778060567,
          0.5058591779452457,
          0.5079667569665408,
          0.5079667569665408,
          0.5079667569665408,
          0.5096557072781266,
          0.5110487303983662,
          0.5115611896809413,
          0.5116478025174329,
          0.5184324747092733,
          0.5187861437916139,
          0.5251882759556165,
          0.5284723460059222,
          0.5314532711285074,
          0.5334598018405623,
          0.5352209295158911,
          0.5363180254447845,
          0.5381152418019847,
          0.5399268936319336,
          0.5399268936319336,
          0.5479024923255332,
          0.5562317601014733,
          0.5586569195232376,
          0.567159412972161,
          0.5682925975829258,
          0.569483524084685,
          0.569483524084685,
          0.5698804995852714,
          0.5712446517600138,
          0.5716055385787286,
          0.5723128767434099,
          0.5829446024227513,
          0.5868999219558667,
          0.5879681469392629,
          0.5906098384522561,
          0.596319067924326,
          0.596319067924326,
          0.5975966072625768,
          0.5982750744817609,
          0.5992205979467939,
          0.6059403105112656,
          0.6070590596492819,
          0.6073405513678795,
          0.6076509140319742,
          0.6076509140319742,
          0.6162688912628864,
          0.6182104623475727,
          0.6189394537213768,
          0.622671023426889,
          0.6267273912692446,
          0.6377272215036752,
          0.6477454395912012,
          0.6496725752031388,
          0.6496725752031388,
          0.6501778167493397,
          0.656428376449482,
          0.656428376449482,
          0.668020061066605,
          0.668020061066605,
          0.668020061066605,
          0.6708566314617043,
          0.6788971897826725,
          0.6788971897826725,
          0.6855086363015298,
          0.690524963081667,
          0.6928346387214426,
          0.6937007670863583,
          0.7178368775220118,
          0.7193381666878658,
          0.7239575179674167,
          0.7331312608991498,
          0.7538966884480058,
          0.7653007119193971,
          0.7734206653404827,
          0.7793825155856531,
          0.7804074341508035,
          0.7965751636292316,
          0.8380554945723239,
          0.8929896861171079
         ],
         "yaxis": "y"
        }
       ],
       "layout": {
        "height": 400,
        "legend": {
         "title": {
          "text": "Nr"
         },
         "tracegroupgap": 0
        },
        "showlegend": false,
        "template": {
         "data": {
          "bar": [
           {
            "error_x": {
             "color": "#2a3f5f"
            },
            "error_y": {
             "color": "#2a3f5f"
            },
            "marker": {
             "line": {
              "color": "#E5ECF6",
              "width": 0.5
             },
             "pattern": {
              "fillmode": "overlay",
              "size": 10,
              "solidity": 0.2
             }
            },
            "type": "bar"
           }
          ],
          "barpolar": [
           {
            "marker": {
             "line": {
              "color": "#E5ECF6",
              "width": 0.5
             },
             "pattern": {
              "fillmode": "overlay",
              "size": 10,
              "solidity": 0.2
             }
            },
            "type": "barpolar"
           }
          ],
          "carpet": [
           {
            "aaxis": {
             "endlinecolor": "#2a3f5f",
             "gridcolor": "white",
             "linecolor": "white",
             "minorgridcolor": "white",
             "startlinecolor": "#2a3f5f"
            },
            "baxis": {
             "endlinecolor": "#2a3f5f",
             "gridcolor": "white",
             "linecolor": "white",
             "minorgridcolor": "white",
             "startlinecolor": "#2a3f5f"
            },
            "type": "carpet"
           }
          ],
          "choropleth": [
           {
            "colorbar": {
             "outlinewidth": 0,
             "ticks": ""
            },
            "type": "choropleth"
           }
          ],
          "contour": [
           {
            "colorbar": {
             "outlinewidth": 0,
             "ticks": ""
            },
            "colorscale": [
             [
              0,
              "#0d0887"
             ],
             [
              0.1111111111111111,
              "#46039f"
             ],
             [
              0.2222222222222222,
              "#7201a8"
             ],
             [
              0.3333333333333333,
              "#9c179e"
             ],
             [
              0.4444444444444444,
              "#bd3786"
             ],
             [
              0.5555555555555556,
              "#d8576b"
             ],
             [
              0.6666666666666666,
              "#ed7953"
             ],
             [
              0.7777777777777778,
              "#fb9f3a"
             ],
             [
              0.8888888888888888,
              "#fdca26"
             ],
             [
              1,
              "#f0f921"
             ]
            ],
            "type": "contour"
           }
          ],
          "contourcarpet": [
           {
            "colorbar": {
             "outlinewidth": 0,
             "ticks": ""
            },
            "type": "contourcarpet"
           }
          ],
          "heatmap": [
           {
            "colorbar": {
             "outlinewidth": 0,
             "ticks": ""
            },
            "colorscale": [
             [
              0,
              "#0d0887"
             ],
             [
              0.1111111111111111,
              "#46039f"
             ],
             [
              0.2222222222222222,
              "#7201a8"
             ],
             [
              0.3333333333333333,
              "#9c179e"
             ],
             [
              0.4444444444444444,
              "#bd3786"
             ],
             [
              0.5555555555555556,
              "#d8576b"
             ],
             [
              0.6666666666666666,
              "#ed7953"
             ],
             [
              0.7777777777777778,
              "#fb9f3a"
             ],
             [
              0.8888888888888888,
              "#fdca26"
             ],
             [
              1,
              "#f0f921"
             ]
            ],
            "type": "heatmap"
           }
          ],
          "heatmapgl": [
           {
            "colorbar": {
             "outlinewidth": 0,
             "ticks": ""
            },
            "colorscale": [
             [
              0,
              "#0d0887"
             ],
             [
              0.1111111111111111,
              "#46039f"
             ],
             [
              0.2222222222222222,
              "#7201a8"
             ],
             [
              0.3333333333333333,
              "#9c179e"
             ],
             [
              0.4444444444444444,
              "#bd3786"
             ],
             [
              0.5555555555555556,
              "#d8576b"
             ],
             [
              0.6666666666666666,
              "#ed7953"
             ],
             [
              0.7777777777777778,
              "#fb9f3a"
             ],
             [
              0.8888888888888888,
              "#fdca26"
             ],
             [
              1,
              "#f0f921"
             ]
            ],
            "type": "heatmapgl"
           }
          ],
          "histogram": [
           {
            "marker": {
             "pattern": {
              "fillmode": "overlay",
              "size": 10,
              "solidity": 0.2
             }
            },
            "type": "histogram"
           }
          ],
          "histogram2d": [
           {
            "colorbar": {
             "outlinewidth": 0,
             "ticks": ""
            },
            "colorscale": [
             [
              0,
              "#0d0887"
             ],
             [
              0.1111111111111111,
              "#46039f"
             ],
             [
              0.2222222222222222,
              "#7201a8"
             ],
             [
              0.3333333333333333,
              "#9c179e"
             ],
             [
              0.4444444444444444,
              "#bd3786"
             ],
             [
              0.5555555555555556,
              "#d8576b"
             ],
             [
              0.6666666666666666,
              "#ed7953"
             ],
             [
              0.7777777777777778,
              "#fb9f3a"
             ],
             [
              0.8888888888888888,
              "#fdca26"
             ],
             [
              1,
              "#f0f921"
             ]
            ],
            "type": "histogram2d"
           }
          ],
          "histogram2dcontour": [
           {
            "colorbar": {
             "outlinewidth": 0,
             "ticks": ""
            },
            "colorscale": [
             [
              0,
              "#0d0887"
             ],
             [
              0.1111111111111111,
              "#46039f"
             ],
             [
              0.2222222222222222,
              "#7201a8"
             ],
             [
              0.3333333333333333,
              "#9c179e"
             ],
             [
              0.4444444444444444,
              "#bd3786"
             ],
             [
              0.5555555555555556,
              "#d8576b"
             ],
             [
              0.6666666666666666,
              "#ed7953"
             ],
             [
              0.7777777777777778,
              "#fb9f3a"
             ],
             [
              0.8888888888888888,
              "#fdca26"
             ],
             [
              1,
              "#f0f921"
             ]
            ],
            "type": "histogram2dcontour"
           }
          ],
          "mesh3d": [
           {
            "colorbar": {
             "outlinewidth": 0,
             "ticks": ""
            },
            "type": "mesh3d"
           }
          ],
          "parcoords": [
           {
            "line": {
             "colorbar": {
              "outlinewidth": 0,
              "ticks": ""
             }
            },
            "type": "parcoords"
           }
          ],
          "pie": [
           {
            "automargin": true,
            "type": "pie"
           }
          ],
          "scatter": [
           {
            "fillpattern": {
             "fillmode": "overlay",
             "size": 10,
             "solidity": 0.2
            },
            "type": "scatter"
           }
          ],
          "scatter3d": [
           {
            "line": {
             "colorbar": {
              "outlinewidth": 0,
              "ticks": ""
             }
            },
            "marker": {
             "colorbar": {
              "outlinewidth": 0,
              "ticks": ""
             }
            },
            "type": "scatter3d"
           }
          ],
          "scattercarpet": [
           {
            "marker": {
             "colorbar": {
              "outlinewidth": 0,
              "ticks": ""
             }
            },
            "type": "scattercarpet"
           }
          ],
          "scattergeo": [
           {
            "marker": {
             "colorbar": {
              "outlinewidth": 0,
              "ticks": ""
             }
            },
            "type": "scattergeo"
           }
          ],
          "scattergl": [
           {
            "marker": {
             "colorbar": {
              "outlinewidth": 0,
              "ticks": ""
             }
            },
            "type": "scattergl"
           }
          ],
          "scattermapbox": [
           {
            "marker": {
             "colorbar": {
              "outlinewidth": 0,
              "ticks": ""
             }
            },
            "type": "scattermapbox"
           }
          ],
          "scatterpolar": [
           {
            "marker": {
             "colorbar": {
              "outlinewidth": 0,
              "ticks": ""
             }
            },
            "type": "scatterpolar"
           }
          ],
          "scatterpolargl": [
           {
            "marker": {
             "colorbar": {
              "outlinewidth": 0,
              "ticks": ""
             }
            },
            "type": "scatterpolargl"
           }
          ],
          "scatterternary": [
           {
            "marker": {
             "colorbar": {
              "outlinewidth": 0,
              "ticks": ""
             }
            },
            "type": "scatterternary"
           }
          ],
          "surface": [
           {
            "colorbar": {
             "outlinewidth": 0,
             "ticks": ""
            },
            "colorscale": [
             [
              0,
              "#0d0887"
             ],
             [
              0.1111111111111111,
              "#46039f"
             ],
             [
              0.2222222222222222,
              "#7201a8"
             ],
             [
              0.3333333333333333,
              "#9c179e"
             ],
             [
              0.4444444444444444,
              "#bd3786"
             ],
             [
              0.5555555555555556,
              "#d8576b"
             ],
             [
              0.6666666666666666,
              "#ed7953"
             ],
             [
              0.7777777777777778,
              "#fb9f3a"
             ],
             [
              0.8888888888888888,
              "#fdca26"
             ],
             [
              1,
              "#f0f921"
             ]
            ],
            "type": "surface"
           }
          ],
          "table": [
           {
            "cells": {
             "fill": {
              "color": "#EBF0F8"
             },
             "line": {
              "color": "white"
             }
            },
            "header": {
             "fill": {
              "color": "#C8D4E3"
             },
             "line": {
              "color": "white"
             }
            },
            "type": "table"
           }
          ]
         },
         "layout": {
          "annotationdefaults": {
           "arrowcolor": "#2a3f5f",
           "arrowhead": 0,
           "arrowwidth": 1
          },
          "autotypenumbers": "strict",
          "coloraxis": {
           "colorbar": {
            "outlinewidth": 0,
            "ticks": ""
           }
          },
          "colorscale": {
           "diverging": [
            [
             0,
             "#8e0152"
            ],
            [
             0.1,
             "#c51b7d"
            ],
            [
             0.2,
             "#de77ae"
            ],
            [
             0.3,
             "#f1b6da"
            ],
            [
             0.4,
             "#fde0ef"
            ],
            [
             0.5,
             "#f7f7f7"
            ],
            [
             0.6,
             "#e6f5d0"
            ],
            [
             0.7,
             "#b8e186"
            ],
            [
             0.8,
             "#7fbc41"
            ],
            [
             0.9,
             "#4d9221"
            ],
            [
             1,
             "#276419"
            ]
           ],
           "sequential": [
            [
             0,
             "#0d0887"
            ],
            [
             0.1111111111111111,
             "#46039f"
            ],
            [
             0.2222222222222222,
             "#7201a8"
            ],
            [
             0.3333333333333333,
             "#9c179e"
            ],
            [
             0.4444444444444444,
             "#bd3786"
            ],
            [
             0.5555555555555556,
             "#d8576b"
            ],
            [
             0.6666666666666666,
             "#ed7953"
            ],
            [
             0.7777777777777778,
             "#fb9f3a"
            ],
            [
             0.8888888888888888,
             "#fdca26"
            ],
            [
             1,
             "#f0f921"
            ]
           ],
           "sequentialminus": [
            [
             0,
             "#0d0887"
            ],
            [
             0.1111111111111111,
             "#46039f"
            ],
            [
             0.2222222222222222,
             "#7201a8"
            ],
            [
             0.3333333333333333,
             "#9c179e"
            ],
            [
             0.4444444444444444,
             "#bd3786"
            ],
            [
             0.5555555555555556,
             "#d8576b"
            ],
            [
             0.6666666666666666,
             "#ed7953"
            ],
            [
             0.7777777777777778,
             "#fb9f3a"
            ],
            [
             0.8888888888888888,
             "#fdca26"
            ],
            [
             1,
             "#f0f921"
            ]
           ]
          },
          "colorway": [
           "#636efa",
           "#EF553B",
           "#00cc96",
           "#ab63fa",
           "#FFA15A",
           "#19d3f3",
           "#FF6692",
           "#B6E880",
           "#FF97FF",
           "#FECB52"
          ],
          "font": {
           "color": "#2a3f5f"
          },
          "geo": {
           "bgcolor": "white",
           "lakecolor": "white",
           "landcolor": "#E5ECF6",
           "showlakes": true,
           "showland": true,
           "subunitcolor": "white"
          },
          "hoverlabel": {
           "align": "left"
          },
          "hovermode": "closest",
          "mapbox": {
           "style": "light"
          },
          "paper_bgcolor": "white",
          "plot_bgcolor": "#E5ECF6",
          "polar": {
           "angularaxis": {
            "gridcolor": "white",
            "linecolor": "white",
            "ticks": ""
           },
           "bgcolor": "#E5ECF6",
           "radialaxis": {
            "gridcolor": "white",
            "linecolor": "white",
            "ticks": ""
           }
          },
          "scene": {
           "xaxis": {
            "backgroundcolor": "#E5ECF6",
            "gridcolor": "white",
            "gridwidth": 2,
            "linecolor": "white",
            "showbackground": true,
            "ticks": "",
            "zerolinecolor": "white"
           },
           "yaxis": {
            "backgroundcolor": "#E5ECF6",
            "gridcolor": "white",
            "gridwidth": 2,
            "linecolor": "white",
            "showbackground": true,
            "ticks": "",
            "zerolinecolor": "white"
           },
           "zaxis": {
            "backgroundcolor": "#E5ECF6",
            "gridcolor": "white",
            "gridwidth": 2,
            "linecolor": "white",
            "showbackground": true,
            "ticks": "",
            "zerolinecolor": "white"
           }
          },
          "shapedefaults": {
           "line": {
            "color": "#2a3f5f"
           }
          },
          "ternary": {
           "aaxis": {
            "gridcolor": "white",
            "linecolor": "white",
            "ticks": ""
           },
           "baxis": {
            "gridcolor": "white",
            "linecolor": "white",
            "ticks": ""
           },
           "bgcolor": "#E5ECF6",
           "caxis": {
            "gridcolor": "white",
            "linecolor": "white",
            "ticks": ""
           }
          },
          "title": {
           "x": 0.05
          },
          "xaxis": {
           "automargin": true,
           "gridcolor": "white",
           "linecolor": "white",
           "ticks": "",
           "title": {
            "standoff": 15
           },
           "zerolinecolor": "white",
           "zerolinewidth": 2
          },
          "yaxis": {
           "automargin": true,
           "gridcolor": "white",
           "linecolor": "white",
           "ticks": "",
           "title": {
            "standoff": 15
           },
           "zerolinecolor": "white",
           "zerolinewidth": 2
          }
         }
        },
        "title": {
         "text": "Correlation between amount of fkre and Score"
        },
        "width": 800,
        "xaxis": {
         "anchor": "y",
         "domain": [
          0,
          1
         ],
         "title": {
          "text": "fkre"
         }
        },
        "yaxis": {
         "anchor": "x",
         "domain": [
          0,
          1
         ],
         "title": {
          "text": "Score"
         }
        }
       }
      }
     },
     "metadata": {},
     "output_type": "display_data"
    }
   ],
   "source": [
    "fkreCorrelation(df)"
   ]
  },
  {
   "cell_type": "code",
   "execution_count": 16,
   "metadata": {},
   "outputs": [
    {
     "name": "stdout",
     "output_type": "stream",
     "text": [
      "The Pearson correlation coefficient between Score and Nomen is: -0.614, p: 0.000.\n"
     ]
    },
    {
     "data": {
      "application/vnd.plotly.v1+json": {
       "config": {
        "plotlyServerURL": "https://plot.ly"
       },
       "data": [
        {
         "hovertemplate": "Nr=0<br>fkgl=%{x}<br>Score=%{y}<extra></extra>",
         "legendgroup": "0",
         "marker": {
          "color": "#636efa",
          "symbol": "circle"
         },
         "mode": "markers",
         "name": "0",
         "orientation": "h",
         "showlegend": true,
         "type": "scatter",
         "x": [
          11.152
         ],
         "xaxis": "x",
         "y": [
          0.31447
         ],
         "yaxis": "y"
        },
        {
         "hovertemplate": "Nr=1<br>fkgl=%{x}<br>Score=%{y}<extra></extra>",
         "legendgroup": "1",
         "marker": {
          "color": "#EF553B",
          "symbol": "circle"
         },
         "mode": "markers",
         "name": "1",
         "orientation": "h",
         "showlegend": true,
         "type": "scatter",
         "x": [
          10.858
         ],
         "xaxis": "x",
         "y": [
          0.30818
         ],
         "yaxis": "y"
        },
        {
         "hovertemplate": "Nr=2<br>fkgl=%{x}<br>Score=%{y}<extra></extra>",
         "legendgroup": "2",
         "marker": {
          "color": "#00cc96",
          "symbol": "circle"
         },
         "mode": "markers",
         "name": "2",
         "orientation": "h",
         "showlegend": true,
         "type": "scatter",
         "x": [
          6.311
         ],
         "xaxis": "x",
         "y": [
          0.84906
         ],
         "yaxis": "y"
        },
        {
         "hovertemplate": "Nr=3<br>fkgl=%{x}<br>Score=%{y}<extra></extra>",
         "legendgroup": "3",
         "marker": {
          "color": "#ab63fa",
          "symbol": "circle"
         },
         "mode": "markers",
         "name": "3",
         "orientation": "h",
         "showlegend": true,
         "type": "scatter",
         "x": [
          3.534
         ],
         "xaxis": "x",
         "y": [
          0.97484
         ],
         "yaxis": "y"
        },
        {
         "hovertemplate": "Nr=4<br>fkgl=%{x}<br>Score=%{y}<extra></extra>",
         "legendgroup": "4",
         "marker": {
          "color": "#FFA15A",
          "symbol": "circle"
         },
         "mode": "markers",
         "name": "4",
         "orientation": "h",
         "showlegend": true,
         "type": "scatter",
         "x": [
          1.912
         ],
         "xaxis": "x",
         "y": [
          0.2956
         ],
         "yaxis": "y"
        },
        {
         "hovertemplate": "Nr=5<br>fkgl=%{x}<br>Score=%{y}<extra></extra>",
         "legendgroup": "5",
         "marker": {
          "color": "#19d3f3",
          "symbol": "circle"
         },
         "mode": "markers",
         "name": "5",
         "orientation": "h",
         "showlegend": true,
         "type": "scatter",
         "x": [
          4.199
         ],
         "xaxis": "x",
         "y": [
          0.57233
         ],
         "yaxis": "y"
        },
        {
         "hovertemplate": "Nr=6<br>fkgl=%{x}<br>Score=%{y}<extra></extra>",
         "legendgroup": "6",
         "marker": {
          "color": "#FF6692",
          "symbol": "circle"
         },
         "mode": "markers",
         "name": "6",
         "orientation": "h",
         "showlegend": true,
         "type": "scatter",
         "x": [
          8.588
         ],
         "xaxis": "x",
         "y": [
          0.22013
         ],
         "yaxis": "y"
        },
        {
         "hovertemplate": "Nr=7<br>fkgl=%{x}<br>Score=%{y}<extra></extra>",
         "legendgroup": "7",
         "marker": {
          "color": "#B6E880",
          "symbol": "circle"
         },
         "mode": "markers",
         "name": "7",
         "orientation": "h",
         "showlegend": true,
         "type": "scatter",
         "x": [
          11.09
         ],
         "xaxis": "x",
         "y": [
          0.32075
         ],
         "yaxis": "y"
        },
        {
         "hovertemplate": "Nr=8<br>fkgl=%{x}<br>Score=%{y}<extra></extra>",
         "legendgroup": "8",
         "marker": {
          "color": "#FF97FF",
          "symbol": "circle"
         },
         "mode": "markers",
         "name": "8",
         "orientation": "h",
         "showlegend": true,
         "type": "scatter",
         "x": [
          1.344
         ],
         "xaxis": "x",
         "y": [
          0.1195
         ],
         "yaxis": "y"
        },
        {
         "hovertemplate": "Nr=9<br>fkgl=%{x}<br>Score=%{y}<extra></extra>",
         "legendgroup": "9",
         "marker": {
          "color": "#FECB52",
          "symbol": "circle"
         },
         "mode": "markers",
         "name": "9",
         "orientation": "h",
         "showlegend": true,
         "type": "scatter",
         "x": [
          9.995
         ],
         "xaxis": "x",
         "y": [
          0.66038
         ],
         "yaxis": "y"
        },
        {
         "hovertemplate": "Nr=10<br>fkgl=%{x}<br>Score=%{y}<extra></extra>",
         "legendgroup": "10",
         "marker": {
          "color": "#636efa",
          "symbol": "circle"
         },
         "mode": "markers",
         "name": "10",
         "orientation": "h",
         "showlegend": true,
         "type": "scatter",
         "x": [
          11.962
         ],
         "xaxis": "x",
         "y": [
          0.4717
         ],
         "yaxis": "y"
        },
        {
         "hovertemplate": "Nr=11<br>fkgl=%{x}<br>Score=%{y}<extra></extra>",
         "legendgroup": "11",
         "marker": {
          "color": "#EF553B",
          "symbol": "circle"
         },
         "mode": "markers",
         "name": "11",
         "orientation": "h",
         "showlegend": true,
         "type": "scatter",
         "x": [
          3.603
         ],
         "xaxis": "x",
         "y": [
          0.28302
         ],
         "yaxis": "y"
        },
        {
         "hovertemplate": "Nr=12<br>fkgl=%{x}<br>Score=%{y}<extra></extra>",
         "legendgroup": "12",
         "marker": {
          "color": "#00cc96",
          "symbol": "circle"
         },
         "mode": "markers",
         "name": "12",
         "orientation": "h",
         "showlegend": true,
         "type": "scatter",
         "x": [
          4.294
         ],
         "xaxis": "x",
         "y": [
          0.67925
         ],
         "yaxis": "y"
        },
        {
         "hovertemplate": "Nr=13<br>fkgl=%{x}<br>Score=%{y}<extra></extra>",
         "legendgroup": "13",
         "marker": {
          "color": "#ab63fa",
          "symbol": "circle"
         },
         "mode": "markers",
         "name": "13",
         "orientation": "h",
         "showlegend": true,
         "type": "scatter",
         "x": [
          3.095
         ],
         "xaxis": "x",
         "y": [
          0.9434
         ],
         "yaxis": "y"
        },
        {
         "hovertemplate": "Nr=14<br>fkgl=%{x}<br>Score=%{y}<extra></extra>",
         "legendgroup": "14",
         "marker": {
          "color": "#FFA15A",
          "symbol": "circle"
         },
         "mode": "markers",
         "name": "14",
         "orientation": "h",
         "showlegend": true,
         "type": "scatter",
         "x": [
          2.645
         ],
         "xaxis": "x",
         "y": [
          0.76101
         ],
         "yaxis": "y"
        },
        {
         "hovertemplate": "Nr=15<br>fkgl=%{x}<br>Score=%{y}<extra></extra>",
         "legendgroup": "15",
         "marker": {
          "color": "#19d3f3",
          "symbol": "circle"
         },
         "mode": "markers",
         "name": "15",
         "orientation": "h",
         "showlegend": true,
         "type": "scatter",
         "x": [
          15.023
         ],
         "xaxis": "x",
         "y": [
          0.01258
         ],
         "yaxis": "y"
        },
        {
         "hovertemplate": "Nr=16<br>fkgl=%{x}<br>Score=%{y}<extra></extra>",
         "legendgroup": "16",
         "marker": {
          "color": "#FF6692",
          "symbol": "circle"
         },
         "mode": "markers",
         "name": "16",
         "orientation": "h",
         "showlegend": true,
         "type": "scatter",
         "x": [
          13.04
         ],
         "xaxis": "x",
         "y": [
          0.09434
         ],
         "yaxis": "y"
        },
        {
         "hovertemplate": "Nr=17<br>fkgl=%{x}<br>Score=%{y}<extra></extra>",
         "legendgroup": "17",
         "marker": {
          "color": "#B6E880",
          "symbol": "circle"
         },
         "mode": "markers",
         "name": "17",
         "orientation": "h",
         "showlegend": true,
         "type": "scatter",
         "x": [
          3.676
         ],
         "xaxis": "x",
         "y": [
          0.78616
         ],
         "yaxis": "y"
        },
        {
         "hovertemplate": "Nr=18<br>fkgl=%{x}<br>Score=%{y}<extra></extra>",
         "legendgroup": "18",
         "marker": {
          "color": "#FF97FF",
          "symbol": "circle"
         },
         "mode": "markers",
         "name": "18",
         "orientation": "h",
         "showlegend": true,
         "type": "scatter",
         "x": [
          7.614
         ],
         "xaxis": "x",
         "y": [
          0.62264
         ],
         "yaxis": "y"
        },
        {
         "hovertemplate": "Nr=19<br>fkgl=%{x}<br>Score=%{y}<extra></extra>",
         "legendgroup": "19",
         "marker": {
          "color": "#FECB52",
          "symbol": "circle"
         },
         "mode": "markers",
         "name": "19",
         "orientation": "h",
         "showlegend": true,
         "type": "scatter",
         "x": [
          6.086
         ],
         "xaxis": "x",
         "y": [
          0.72956
         ],
         "yaxis": "y"
        },
        {
         "hovertemplate": "Nr=20<br>fkgl=%{x}<br>Score=%{y}<extra></extra>",
         "legendgroup": "20",
         "marker": {
          "color": "#636efa",
          "symbol": "circle"
         },
         "mode": "markers",
         "name": "20",
         "orientation": "h",
         "showlegend": true,
         "type": "scatter",
         "x": [
          16.261
         ],
         "xaxis": "x",
         "y": [
          0.12579
         ],
         "yaxis": "y"
        },
        {
         "hovertemplate": "Nr=21<br>fkgl=%{x}<br>Score=%{y}<extra></extra>",
         "legendgroup": "21",
         "marker": {
          "color": "#EF553B",
          "symbol": "circle"
         },
         "mode": "markers",
         "name": "21",
         "orientation": "h",
         "showlegend": true,
         "type": "scatter",
         "x": [
          4.4
         ],
         "xaxis": "x",
         "y": [
          0.5283
         ],
         "yaxis": "y"
        },
        {
         "hovertemplate": "Nr=22<br>fkgl=%{x}<br>Score=%{y}<extra></extra>",
         "legendgroup": "22",
         "marker": {
          "color": "#00cc96",
          "symbol": "circle"
         },
         "mode": "markers",
         "name": "22",
         "orientation": "h",
         "showlegend": true,
         "type": "scatter",
         "x": [
          13.023
         ],
         "xaxis": "x",
         "y": [
          0.19497
         ],
         "yaxis": "y"
        },
        {
         "hovertemplate": "Nr=23<br>fkgl=%{x}<br>Score=%{y}<extra></extra>",
         "legendgroup": "23",
         "marker": {
          "color": "#ab63fa",
          "symbol": "circle"
         },
         "mode": "markers",
         "name": "23",
         "orientation": "h",
         "showlegend": true,
         "type": "scatter",
         "x": [
          16.825
         ],
         "xaxis": "x",
         "y": [
          0.00629
         ],
         "yaxis": "y"
        },
        {
         "hovertemplate": "Nr=24<br>fkgl=%{x}<br>Score=%{y}<extra></extra>",
         "legendgroup": "24",
         "marker": {
          "color": "#FFA15A",
          "symbol": "circle"
         },
         "mode": "markers",
         "name": "24",
         "orientation": "h",
         "showlegend": true,
         "type": "scatter",
         "x": [
          16.564
         ],
         "xaxis": "x",
         "y": [
          0.40252
         ],
         "yaxis": "y"
        },
        {
         "hovertemplate": "Nr=25<br>fkgl=%{x}<br>Score=%{y}<extra></extra>",
         "legendgroup": "25",
         "marker": {
          "color": "#19d3f3",
          "symbol": "circle"
         },
         "mode": "markers",
         "name": "25",
         "orientation": "h",
         "showlegend": true,
         "type": "scatter",
         "x": [
          9.617
         ],
         "xaxis": "x",
         "y": [
          0.10692
         ],
         "yaxis": "y"
        },
        {
         "hovertemplate": "Nr=26<br>fkgl=%{x}<br>Score=%{y}<extra></extra>",
         "legendgroup": "26",
         "marker": {
          "color": "#FF6692",
          "symbol": "circle"
         },
         "mode": "markers",
         "name": "26",
         "orientation": "h",
         "showlegend": true,
         "type": "scatter",
         "x": [
          9.86
         ],
         "xaxis": "x",
         "y": [
          0.41509
         ],
         "yaxis": "y"
        },
        {
         "hovertemplate": "Nr=27<br>fkgl=%{x}<br>Score=%{y}<extra></extra>",
         "legendgroup": "27",
         "marker": {
          "color": "#B6E880",
          "symbol": "circle"
         },
         "mode": "markers",
         "name": "27",
         "orientation": "h",
         "showlegend": true,
         "type": "scatter",
         "x": [
          18.771
         ],
         "xaxis": "x",
         "y": [
          0.45912
         ],
         "yaxis": "y"
        },
        {
         "hovertemplate": "Nr=28<br>fkgl=%{x}<br>Score=%{y}<extra></extra>",
         "legendgroup": "28",
         "marker": {
          "color": "#FF97FF",
          "symbol": "circle"
         },
         "mode": "markers",
         "name": "28",
         "orientation": "h",
         "showlegend": true,
         "type": "scatter",
         "x": [
          4.241
         ],
         "xaxis": "x",
         "y": [
          0.86164
         ],
         "yaxis": "y"
        },
        {
         "hovertemplate": "Nr=29<br>fkgl=%{x}<br>Score=%{y}<extra></extra>",
         "legendgroup": "29",
         "marker": {
          "color": "#FECB52",
          "symbol": "circle"
         },
         "mode": "markers",
         "name": "29",
         "orientation": "h",
         "showlegend": true,
         "type": "scatter",
         "x": [
          12.298
         ],
         "xaxis": "x",
         "y": [
          0.80503
         ],
         "yaxis": "y"
        },
        {
         "hovertemplate": "Nr=30<br>fkgl=%{x}<br>Score=%{y}<extra></extra>",
         "legendgroup": "30",
         "marker": {
          "color": "#636efa",
          "symbol": "circle"
         },
         "mode": "markers",
         "name": "30",
         "orientation": "h",
         "showlegend": true,
         "type": "scatter",
         "x": [
          9.457
         ],
         "xaxis": "x",
         "y": [
          0.7673
         ],
         "yaxis": "y"
        },
        {
         "hovertemplate": "Nr=31<br>fkgl=%{x}<br>Score=%{y}<extra></extra>",
         "legendgroup": "31",
         "marker": {
          "color": "#EF553B",
          "symbol": "circle"
         },
         "mode": "markers",
         "name": "31",
         "orientation": "h",
         "showlegend": true,
         "type": "scatter",
         "x": [
          11.624
         ],
         "xaxis": "x",
         "y": [
          0.51572
         ],
         "yaxis": "y"
        },
        {
         "hovertemplate": "Nr=32<br>fkgl=%{x}<br>Score=%{y}<extra></extra>",
         "legendgroup": "32",
         "marker": {
          "color": "#00cc96",
          "symbol": "circle"
         },
         "mode": "markers",
         "name": "32",
         "orientation": "h",
         "showlegend": true,
         "type": "scatter",
         "x": [
          4.663
         ],
         "xaxis": "x",
         "y": [
          0.79874
         ],
         "yaxis": "y"
        },
        {
         "hovertemplate": "Nr=33<br>fkgl=%{x}<br>Score=%{y}<extra></extra>",
         "legendgroup": "33",
         "marker": {
          "color": "#ab63fa",
          "symbol": "circle"
         },
         "mode": "markers",
         "name": "33",
         "orientation": "h",
         "showlegend": true,
         "type": "scatter",
         "x": [
          14.79
         ],
         "xaxis": "x",
         "y": [
          0.0566
         ],
         "yaxis": "y"
        },
        {
         "hovertemplate": "Nr=34<br>fkgl=%{x}<br>Score=%{y}<extra></extra>",
         "legendgroup": "34",
         "marker": {
          "color": "#FFA15A",
          "symbol": "circle"
         },
         "mode": "markers",
         "name": "34",
         "orientation": "h",
         "showlegend": true,
         "type": "scatter",
         "x": [
          6.236
         ],
         "xaxis": "x",
         "y": [
          0.37107
         ],
         "yaxis": "y"
        },
        {
         "hovertemplate": "Nr=35<br>fkgl=%{x}<br>Score=%{y}<extra></extra>",
         "legendgroup": "35",
         "marker": {
          "color": "#19d3f3",
          "symbol": "circle"
         },
         "mode": "markers",
         "name": "35",
         "orientation": "h",
         "showlegend": true,
         "type": "scatter",
         "x": [
          18.44
         ],
         "xaxis": "x",
         "y": [
          0.02516
         ],
         "yaxis": "y"
        },
        {
         "hovertemplate": "Nr=36<br>fkgl=%{x}<br>Score=%{y}<extra></extra>",
         "legendgroup": "36",
         "marker": {
          "color": "#FF6692",
          "symbol": "circle"
         },
         "mode": "markers",
         "name": "36",
         "orientation": "h",
         "showlegend": true,
         "type": "scatter",
         "x": [
          5.933
         ],
         "xaxis": "x",
         "y": [
          0.39623
         ],
         "yaxis": "y"
        },
        {
         "hovertemplate": "Nr=37<br>fkgl=%{x}<br>Score=%{y}<extra></extra>",
         "legendgroup": "37",
         "marker": {
          "color": "#B6E880",
          "symbol": "circle"
         },
         "mode": "markers",
         "name": "37",
         "orientation": "h",
         "showlegend": true,
         "type": "scatter",
         "x": [
          13.829
         ],
         "xaxis": "x",
         "y": [
          0.03145
         ],
         "yaxis": "y"
        },
        {
         "hovertemplate": "Nr=38<br>fkgl=%{x}<br>Score=%{y}<extra></extra>",
         "legendgroup": "38",
         "marker": {
          "color": "#FF97FF",
          "symbol": "circle"
         },
         "mode": "markers",
         "name": "38",
         "orientation": "h",
         "showlegend": true,
         "type": "scatter",
         "x": [
          9.264
         ],
         "xaxis": "x",
         "y": [
          0.59748
         ],
         "yaxis": "y"
        },
        {
         "hovertemplate": "Nr=39<br>fkgl=%{x}<br>Score=%{y}<extra></extra>",
         "legendgroup": "39",
         "marker": {
          "color": "#FECB52",
          "symbol": "circle"
         },
         "mode": "markers",
         "name": "39",
         "orientation": "h",
         "showlegend": true,
         "type": "scatter",
         "x": [
          6.841
         ],
         "xaxis": "x",
         "y": [
          0.20755
         ],
         "yaxis": "y"
        },
        {
         "hovertemplate": "Nr=40<br>fkgl=%{x}<br>Score=%{y}<extra></extra>",
         "legendgroup": "40",
         "marker": {
          "color": "#636efa",
          "symbol": "circle"
         },
         "mode": "markers",
         "name": "40",
         "orientation": "h",
         "showlegend": true,
         "type": "scatter",
         "x": [
          10.69
         ],
         "xaxis": "x",
         "y": [
          0.61006
         ],
         "yaxis": "y"
        },
        {
         "hovertemplate": "Nr=41<br>fkgl=%{x}<br>Score=%{y}<extra></extra>",
         "legendgroup": "41",
         "marker": {
          "color": "#EF553B",
          "symbol": "circle"
         },
         "mode": "markers",
         "name": "41",
         "orientation": "h",
         "showlegend": true,
         "type": "scatter",
         "x": [
          1.865
         ],
         "xaxis": "x",
         "y": [
          0.56604
         ],
         "yaxis": "y"
        },
        {
         "hovertemplate": "Nr=42<br>fkgl=%{x}<br>Score=%{y}<extra></extra>",
         "legendgroup": "42",
         "marker": {
          "color": "#00cc96",
          "symbol": "circle"
         },
         "mode": "markers",
         "name": "42",
         "orientation": "h",
         "showlegend": true,
         "type": "scatter",
         "x": [
          12.421
         ],
         "xaxis": "x",
         "y": [
          0.38994
         ],
         "yaxis": "y"
        },
        {
         "hovertemplate": "Nr=43<br>fkgl=%{x}<br>Score=%{y}<extra></extra>",
         "legendgroup": "43",
         "marker": {
          "color": "#ab63fa",
          "symbol": "circle"
         },
         "mode": "markers",
         "name": "43",
         "orientation": "h",
         "showlegend": true,
         "type": "scatter",
         "x": [
          11.547
         ],
         "xaxis": "x",
         "y": [
          0.18239
         ],
         "yaxis": "y"
        },
        {
         "hovertemplate": "Nr=44<br>fkgl=%{x}<br>Score=%{y}<extra></extra>",
         "legendgroup": "44",
         "marker": {
          "color": "#FFA15A",
          "symbol": "circle"
         },
         "mode": "markers",
         "name": "44",
         "orientation": "h",
         "showlegend": true,
         "type": "scatter",
         "x": [
          13.873
         ],
         "xaxis": "x",
         "y": [
          0.24528
         ],
         "yaxis": "y"
        },
        {
         "hovertemplate": "Nr=45<br>fkgl=%{x}<br>Score=%{y}<extra></extra>",
         "legendgroup": "45",
         "marker": {
          "color": "#19d3f3",
          "symbol": "circle"
         },
         "mode": "markers",
         "name": "45",
         "orientation": "h",
         "showlegend": true,
         "type": "scatter",
         "x": [
          8.303
         ],
         "xaxis": "x",
         "y": [
          0.58491
         ],
         "yaxis": "y"
        },
        {
         "hovertemplate": "Nr=46<br>fkgl=%{x}<br>Score=%{y}<extra></extra>",
         "legendgroup": "46",
         "marker": {
          "color": "#FF6692",
          "symbol": "circle"
         },
         "mode": "markers",
         "name": "46",
         "orientation": "h",
         "showlegend": true,
         "type": "scatter",
         "x": [
          11.899
         ],
         "xaxis": "x",
         "y": [
          0.13836
         ],
         "yaxis": "y"
        },
        {
         "hovertemplate": "Nr=47<br>fkgl=%{x}<br>Score=%{y}<extra></extra>",
         "legendgroup": "47",
         "marker": {
          "color": "#B6E880",
          "symbol": "circle"
         },
         "mode": "markers",
         "name": "47",
         "orientation": "h",
         "showlegend": true,
         "type": "scatter",
         "x": [
          3.558
         ],
         "xaxis": "x",
         "y": [
          0.37736
         ],
         "yaxis": "y"
        },
        {
         "hovertemplate": "Nr=48<br>fkgl=%{x}<br>Score=%{y}<extra></extra>",
         "legendgroup": "48",
         "marker": {
          "color": "#FF97FF",
          "symbol": "circle"
         },
         "mode": "markers",
         "name": "48",
         "orientation": "h",
         "showlegend": true,
         "type": "scatter",
         "x": [
          9.736
         ],
         "xaxis": "x",
         "y": [
          0.42767
         ],
         "yaxis": "y"
        },
        {
         "hovertemplate": "Nr=49<br>fkgl=%{x}<br>Score=%{y}<extra></extra>",
         "legendgroup": "49",
         "marker": {
          "color": "#FECB52",
          "symbol": "circle"
         },
         "mode": "markers",
         "name": "49",
         "orientation": "h",
         "showlegend": true,
         "type": "scatter",
         "x": [
          11.726
         ],
         "xaxis": "x",
         "y": [
          0.55346
         ],
         "yaxis": "y"
        },
        {
         "hovertemplate": "Nr=50<br>fkgl=%{x}<br>Score=%{y}<extra></extra>",
         "legendgroup": "50",
         "marker": {
          "color": "#636efa",
          "symbol": "circle"
         },
         "mode": "markers",
         "name": "50",
         "orientation": "h",
         "showlegend": true,
         "type": "scatter",
         "x": [
          9.073
         ],
         "xaxis": "x",
         "y": [
          0.81761
         ],
         "yaxis": "y"
        },
        {
         "hovertemplate": "Nr=51<br>fkgl=%{x}<br>Score=%{y}<extra></extra>",
         "legendgroup": "51",
         "marker": {
          "color": "#EF553B",
          "symbol": "circle"
         },
         "mode": "markers",
         "name": "51",
         "orientation": "h",
         "showlegend": true,
         "type": "scatter",
         "x": [
          9.237
         ],
         "xaxis": "x",
         "y": [
          0.84277
         ],
         "yaxis": "y"
        },
        {
         "hovertemplate": "Nr=52<br>fkgl=%{x}<br>Score=%{y}<extra></extra>",
         "legendgroup": "52",
         "marker": {
          "color": "#00cc96",
          "symbol": "circle"
         },
         "mode": "markers",
         "name": "52",
         "orientation": "h",
         "showlegend": true,
         "type": "scatter",
         "x": [
          13.928
         ],
         "xaxis": "x",
         "y": [
          0.52201
         ],
         "yaxis": "y"
        },
        {
         "hovertemplate": "Nr=53<br>fkgl=%{x}<br>Score=%{y}<extra></extra>",
         "legendgroup": "53",
         "marker": {
          "color": "#ab63fa",
          "symbol": "circle"
         },
         "mode": "markers",
         "name": "53",
         "orientation": "h",
         "showlegend": true,
         "type": "scatter",
         "x": [
          9.736
         ],
         "xaxis": "x",
         "y": [
          0.66667
         ],
         "yaxis": "y"
        },
        {
         "hovertemplate": "Nr=54<br>fkgl=%{x}<br>Score=%{y}<extra></extra>",
         "legendgroup": "54",
         "marker": {
          "color": "#FFA15A",
          "symbol": "circle"
         },
         "mode": "markers",
         "name": "54",
         "orientation": "h",
         "showlegend": true,
         "type": "scatter",
         "x": [
          4.922
         ],
         "xaxis": "x",
         "y": [
          0.55975
         ],
         "yaxis": "y"
        },
        {
         "hovertemplate": "Nr=55<br>fkgl=%{x}<br>Score=%{y}<extra></extra>",
         "legendgroup": "55",
         "marker": {
          "color": "#19d3f3",
          "symbol": "circle"
         },
         "mode": "markers",
         "name": "55",
         "orientation": "h",
         "showlegend": true,
         "type": "scatter",
         "x": [
          9.831
         ],
         "xaxis": "x",
         "y": [
          0.1761
         ],
         "yaxis": "y"
        },
        {
         "hovertemplate": "Nr=56<br>fkgl=%{x}<br>Score=%{y}<extra></extra>",
         "legendgroup": "56",
         "marker": {
          "color": "#FF6692",
          "symbol": "circle"
         },
         "mode": "markers",
         "name": "56",
         "orientation": "h",
         "showlegend": true,
         "type": "scatter",
         "x": [
          10.21
         ],
         "xaxis": "x",
         "y": [
          0.49686
         ],
         "yaxis": "y"
        },
        {
         "hovertemplate": "Nr=57<br>fkgl=%{x}<br>Score=%{y}<extra></extra>",
         "legendgroup": "57",
         "marker": {
          "color": "#B6E880",
          "symbol": "circle"
         },
         "mode": "markers",
         "name": "57",
         "orientation": "h",
         "showlegend": true,
         "type": "scatter",
         "x": [
          9.209
         ],
         "xaxis": "x",
         "y": [
          0.69811
         ],
         "yaxis": "y"
        },
        {
         "hovertemplate": "Nr=58<br>fkgl=%{x}<br>Score=%{y}<extra></extra>",
         "legendgroup": "58",
         "marker": {
          "color": "#FF97FF",
          "symbol": "circle"
         },
         "mode": "markers",
         "name": "58",
         "orientation": "h",
         "showlegend": true,
         "type": "scatter",
         "x": [
          12.187
         ],
         "xaxis": "x",
         "y": [
          0.2327
         ],
         "yaxis": "y"
        },
        {
         "hovertemplate": "Nr=59<br>fkgl=%{x}<br>Score=%{y}<extra></extra>",
         "legendgroup": "59",
         "marker": {
          "color": "#FECB52",
          "symbol": "circle"
         },
         "mode": "markers",
         "name": "59",
         "orientation": "h",
         "showlegend": true,
         "type": "scatter",
         "x": [
          7.967
         ],
         "xaxis": "x",
         "y": [
          0.43396
         ],
         "yaxis": "y"
        },
        {
         "hovertemplate": "Nr=60<br>fkgl=%{x}<br>Score=%{y}<extra></extra>",
         "legendgroup": "60",
         "marker": {
          "color": "#636efa",
          "symbol": "circle"
         },
         "mode": "markers",
         "name": "60",
         "orientation": "h",
         "showlegend": true,
         "type": "scatter",
         "x": [
          9.659
         ],
         "xaxis": "x",
         "y": [
          0.61635
         ],
         "yaxis": "y"
        },
        {
         "hovertemplate": "Nr=61<br>fkgl=%{x}<br>Score=%{y}<extra></extra>",
         "legendgroup": "61",
         "marker": {
          "color": "#EF553B",
          "symbol": "circle"
         },
         "mode": "markers",
         "name": "61",
         "orientation": "h",
         "showlegend": true,
         "type": "scatter",
         "x": [
          9.797
         ],
         "xaxis": "x",
         "y": [
          0.69182
         ],
         "yaxis": "y"
        },
        {
         "hovertemplate": "Nr=62<br>fkgl=%{x}<br>Score=%{y}<extra></extra>",
         "legendgroup": "62",
         "marker": {
          "color": "#00cc96",
          "symbol": "circle"
         },
         "mode": "markers",
         "name": "62",
         "orientation": "h",
         "showlegend": true,
         "type": "scatter",
         "x": [
          13.389
         ],
         "xaxis": "x",
         "y": [
          0.25157
         ],
         "yaxis": "y"
        },
        {
         "hovertemplate": "Nr=63<br>fkgl=%{x}<br>Score=%{y}<extra></extra>",
         "legendgroup": "63",
         "marker": {
          "color": "#ab63fa",
          "symbol": "circle"
         },
         "mode": "markers",
         "name": "63",
         "orientation": "h",
         "showlegend": true,
         "type": "scatter",
         "x": [
          14.03
         ],
         "xaxis": "x",
         "y": [
          0.33333
         ],
         "yaxis": "y"
        },
        {
         "hovertemplate": "Nr=64<br>fkgl=%{x}<br>Score=%{y}<extra></extra>",
         "legendgroup": "64",
         "marker": {
          "color": "#FFA15A",
          "symbol": "circle"
         },
         "mode": "markers",
         "name": "64",
         "orientation": "h",
         "showlegend": true,
         "type": "scatter",
         "x": [
          10.501
         ],
         "xaxis": "x",
         "y": [
          0.50943
         ],
         "yaxis": "y"
        },
        {
         "hovertemplate": "Nr=65<br>fkgl=%{x}<br>Score=%{y}<extra></extra>",
         "legendgroup": "65",
         "marker": {
          "color": "#19d3f3",
          "symbol": "circle"
         },
         "mode": "markers",
         "name": "65",
         "orientation": "h",
         "showlegend": true,
         "type": "scatter",
         "x": [
          9.284
         ],
         "xaxis": "x",
         "y": [
          0.63522
         ],
         "yaxis": "y"
        },
        {
         "hovertemplate": "Nr=66<br>fkgl=%{x}<br>Score=%{y}<extra></extra>",
         "legendgroup": "66",
         "marker": {
          "color": "#FF6692",
          "symbol": "circle"
         },
         "mode": "markers",
         "name": "66",
         "orientation": "h",
         "showlegend": true,
         "type": "scatter",
         "x": [
          11.182
         ],
         "xaxis": "x",
         "y": [
          0.25786
         ],
         "yaxis": "y"
        },
        {
         "hovertemplate": "Nr=67<br>fkgl=%{x}<br>Score=%{y}<extra></extra>",
         "legendgroup": "67",
         "marker": {
          "color": "#B6E880",
          "symbol": "circle"
         },
         "mode": "markers",
         "name": "67",
         "orientation": "h",
         "showlegend": true,
         "type": "scatter",
         "x": [
          11.143
         ],
         "xaxis": "x",
         "y": [
          0.14465
         ],
         "yaxis": "y"
        },
        {
         "hovertemplate": "Nr=68<br>fkgl=%{x}<br>Score=%{y}<extra></extra>",
         "legendgroup": "68",
         "marker": {
          "color": "#FF97FF",
          "symbol": "circle"
         },
         "mode": "markers",
         "name": "68",
         "orientation": "h",
         "showlegend": true,
         "type": "scatter",
         "x": [
          10.578
         ],
         "xaxis": "x",
         "y": [
          0.36478
         ],
         "yaxis": "y"
        },
        {
         "hovertemplate": "Nr=69<br>fkgl=%{x}<br>Score=%{y}<extra></extra>",
         "legendgroup": "69",
         "marker": {
          "color": "#FECB52",
          "symbol": "circle"
         },
         "mode": "markers",
         "name": "69",
         "orientation": "h",
         "showlegend": true,
         "type": "scatter",
         "x": [
          11.342
         ],
         "xaxis": "x",
         "y": [
          0.08805
         ],
         "yaxis": "y"
        },
        {
         "hovertemplate": "Nr=70<br>fkgl=%{x}<br>Score=%{y}<extra></extra>",
         "legendgroup": "70",
         "marker": {
          "color": "#636efa",
          "symbol": "circle"
         },
         "mode": "markers",
         "name": "70",
         "orientation": "h",
         "showlegend": true,
         "type": "scatter",
         "x": [
          10.64
         ],
         "xaxis": "x",
         "y": [
          0.53459
         ],
         "yaxis": "y"
        },
        {
         "hovertemplate": "Nr=71<br>fkgl=%{x}<br>Score=%{y}<extra></extra>",
         "legendgroup": "71",
         "marker": {
          "color": "#EF553B",
          "symbol": "circle"
         },
         "mode": "markers",
         "name": "71",
         "orientation": "h",
         "showlegend": true,
         "type": "scatter",
         "x": [
          12.299
         ],
         "xaxis": "x",
         "y": [
          0.49057
         ],
         "yaxis": "y"
        },
        {
         "hovertemplate": "Nr=72<br>fkgl=%{x}<br>Score=%{y}<extra></extra>",
         "legendgroup": "72",
         "marker": {
          "color": "#00cc96",
          "symbol": "circle"
         },
         "mode": "markers",
         "name": "72",
         "orientation": "h",
         "showlegend": true,
         "type": "scatter",
         "x": [
          8.258
         ],
         "xaxis": "x",
         "y": [
          0.74214
         ],
         "yaxis": "y"
        },
        {
         "hovertemplate": "Nr=73<br>fkgl=%{x}<br>Score=%{y}<extra></extra>",
         "legendgroup": "73",
         "marker": {
          "color": "#ab63fa",
          "symbol": "circle"
         },
         "mode": "markers",
         "name": "73",
         "orientation": "h",
         "showlegend": true,
         "type": "scatter",
         "x": [
          9.073
         ],
         "xaxis": "x",
         "y": [
          0.59119
         ],
         "yaxis": "y"
        },
        {
         "hovertemplate": "Nr=74<br>fkgl=%{x}<br>Score=%{y}<extra></extra>",
         "legendgroup": "74",
         "marker": {
          "color": "#FFA15A",
          "symbol": "circle"
         },
         "mode": "markers",
         "name": "74",
         "orientation": "h",
         "showlegend": true,
         "type": "scatter",
         "x": [
          13.04
         ],
         "xaxis": "x",
         "y": [
          0.42138
         ],
         "yaxis": "y"
        },
        {
         "hovertemplate": "Nr=75<br>fkgl=%{x}<br>Score=%{y}<extra></extra>",
         "legendgroup": "75",
         "marker": {
          "color": "#19d3f3",
          "symbol": "circle"
         },
         "mode": "markers",
         "name": "75",
         "orientation": "h",
         "showlegend": true,
         "type": "scatter",
         "x": [
          12.25
         ],
         "xaxis": "x",
         "y": [
          0.15094
         ],
         "yaxis": "y"
        },
        {
         "hovertemplate": "Nr=76<br>fkgl=%{x}<br>Score=%{y}<extra></extra>",
         "legendgroup": "76",
         "marker": {
          "color": "#FF6692",
          "symbol": "circle"
         },
         "mode": "markers",
         "name": "76",
         "orientation": "h",
         "showlegend": true,
         "type": "scatter",
         "x": [
          10.368
         ],
         "xaxis": "x",
         "y": [
          0.3522
         ],
         "yaxis": "y"
        },
        {
         "hovertemplate": "Nr=77<br>fkgl=%{x}<br>Score=%{y}<extra></extra>",
         "legendgroup": "77",
         "marker": {
          "color": "#B6E880",
          "symbol": "circle"
         },
         "mode": "markers",
         "name": "77",
         "orientation": "h",
         "showlegend": true,
         "type": "scatter",
         "x": [
          9.284
         ],
         "xaxis": "x",
         "y": [
          0.27044
         ],
         "yaxis": "y"
        },
        {
         "hovertemplate": "Nr=78<br>fkgl=%{x}<br>Score=%{y}<extra></extra>",
         "legendgroup": "78",
         "marker": {
          "color": "#FF97FF",
          "symbol": "circle"
         },
         "mode": "markers",
         "name": "78",
         "orientation": "h",
         "showlegend": true,
         "type": "scatter",
         "x": [
          10.154
         ],
         "xaxis": "x",
         "y": [
          0.93711
         ],
         "yaxis": "y"
        },
        {
         "hovertemplate": "Nr=79<br>fkgl=%{x}<br>Score=%{y}<extra></extra>",
         "legendgroup": "79",
         "marker": {
          "color": "#FECB52",
          "symbol": "circle"
         },
         "mode": "markers",
         "name": "79",
         "orientation": "h",
         "showlegend": true,
         "type": "scatter",
         "x": [
          9.817
         ],
         "xaxis": "x",
         "y": [
          0.54088
         ],
         "yaxis": "y"
        },
        {
         "hovertemplate": "Nr=80<br>fkgl=%{x}<br>Score=%{y}<extra></extra>",
         "legendgroup": "80",
         "marker": {
          "color": "#636efa",
          "symbol": "circle"
         },
         "mode": "markers",
         "name": "80",
         "orientation": "h",
         "showlegend": true,
         "type": "scatter",
         "x": [
          9.823
         ],
         "xaxis": "x",
         "y": [
          0.06289
         ],
         "yaxis": "y"
        },
        {
         "hovertemplate": "Nr=81<br>fkgl=%{x}<br>Score=%{y}<extra></extra>",
         "legendgroup": "81",
         "marker": {
          "color": "#EF553B",
          "symbol": "circle"
         },
         "mode": "markers",
         "name": "81",
         "orientation": "h",
         "showlegend": true,
         "type": "scatter",
         "x": [
          16.062
         ],
         "xaxis": "x",
         "y": [
          0.04403
         ],
         "yaxis": "y"
        },
        {
         "hovertemplate": "Nr=82<br>fkgl=%{x}<br>Score=%{y}<extra></extra>",
         "legendgroup": "82",
         "marker": {
          "color": "#00cc96",
          "symbol": "circle"
         },
         "mode": "markers",
         "name": "82",
         "orientation": "h",
         "showlegend": true,
         "type": "scatter",
         "x": [
          14.748
         ],
         "xaxis": "x",
         "y": [
          0.05031
         ],
         "yaxis": "y"
        },
        {
         "hovertemplate": "Nr=83<br>fkgl=%{x}<br>Score=%{y}<extra></extra>",
         "legendgroup": "83",
         "marker": {
          "color": "#ab63fa",
          "symbol": "circle"
         },
         "mode": "markers",
         "name": "83",
         "orientation": "h",
         "showlegend": true,
         "type": "scatter",
         "x": [
          12.609
         ],
         "xaxis": "x",
         "y": [
          0.13208
         ],
         "yaxis": "y"
        },
        {
         "hovertemplate": "Nr=84<br>fkgl=%{x}<br>Score=%{y}<extra></extra>",
         "legendgroup": "84",
         "marker": {
          "color": "#FFA15A",
          "symbol": "circle"
         },
         "mode": "markers",
         "name": "84",
         "orientation": "h",
         "showlegend": true,
         "type": "scatter",
         "x": [
          4.823
         ],
         "xaxis": "x",
         "y": [
          0.7044
         ],
         "yaxis": "y"
        },
        {
         "hovertemplate": "Nr=85<br>fkgl=%{x}<br>Score=%{y}<extra></extra>",
         "legendgroup": "85",
         "marker": {
          "color": "#19d3f3",
          "symbol": "circle"
         },
         "mode": "markers",
         "name": "85",
         "orientation": "h",
         "showlegend": true,
         "type": "scatter",
         "x": [
          0.827
         ],
         "xaxis": "x",
         "y": [
          0.88679
         ],
         "yaxis": "y"
        },
        {
         "hovertemplate": "Nr=86<br>fkgl=%{x}<br>Score=%{y}<extra></extra>",
         "legendgroup": "86",
         "marker": {
          "color": "#FF6692",
          "symbol": "circle"
         },
         "mode": "markers",
         "name": "86",
         "orientation": "h",
         "showlegend": true,
         "type": "scatter",
         "x": [
          13.829
         ],
         "xaxis": "x",
         "y": [
          0.50314
         ],
         "yaxis": "y"
        },
        {
         "hovertemplate": "Nr=87<br>fkgl=%{x}<br>Score=%{y}<extra></extra>",
         "legendgroup": "87",
         "marker": {
          "color": "#B6E880",
          "symbol": "circle"
         },
         "mode": "markers",
         "name": "87",
         "orientation": "h",
         "showlegend": true,
         "type": "scatter",
         "x": [
          11.597
         ],
         "xaxis": "x",
         "y": [
          0.06918
         ],
         "yaxis": "y"
        },
        {
         "hovertemplate": "Nr=88<br>fkgl=%{x}<br>Score=%{y}<extra></extra>",
         "legendgroup": "88",
         "marker": {
          "color": "#FF97FF",
          "symbol": "circle"
         },
         "mode": "markers",
         "name": "88",
         "orientation": "h",
         "showlegend": true,
         "type": "scatter",
         "x": [
          15.591
         ],
         "xaxis": "x",
         "y": [
          0.20126
         ],
         "yaxis": "y"
        },
        {
         "hovertemplate": "Nr=89<br>fkgl=%{x}<br>Score=%{y}<extra></extra>",
         "legendgroup": "89",
         "marker": {
          "color": "#FECB52",
          "symbol": "circle"
         },
         "mode": "markers",
         "name": "89",
         "orientation": "h",
         "showlegend": true,
         "type": "scatter",
         "x": [
          4.154
         ],
         "xaxis": "x",
         "y": [
          0.40881
         ],
         "yaxis": "y"
        },
        {
         "hovertemplate": "Nr=90<br>fkgl=%{x}<br>Score=%{y}<extra></extra>",
         "legendgroup": "90",
         "marker": {
          "color": "#636efa",
          "symbol": "circle"
         },
         "mode": "markers",
         "name": "90",
         "orientation": "h",
         "showlegend": true,
         "type": "scatter",
         "x": [
          14.352
         ],
         "xaxis": "x",
         "y": [
          0.15723
         ],
         "yaxis": "y"
        },
        {
         "hovertemplate": "Nr=91<br>fkgl=%{x}<br>Score=%{y}<extra></extra>",
         "legendgroup": "91",
         "marker": {
          "color": "#EF553B",
          "symbol": "circle"
         },
         "mode": "markers",
         "name": "91",
         "orientation": "h",
         "showlegend": true,
         "type": "scatter",
         "x": [
          5.328
         ],
         "xaxis": "x",
         "y": [
          0.38365
         ],
         "yaxis": "y"
        },
        {
         "hovertemplate": "Nr=92<br>fkgl=%{x}<br>Score=%{y}<extra></extra>",
         "legendgroup": "92",
         "marker": {
          "color": "#00cc96",
          "symbol": "circle"
         },
         "mode": "markers",
         "name": "92",
         "orientation": "h",
         "showlegend": true,
         "type": "scatter",
         "x": [
          20.859
         ],
         "xaxis": "x",
         "y": [
          0.01887
         ],
         "yaxis": "y"
        },
        {
         "hovertemplate": "Nr=93<br>fkgl=%{x}<br>Score=%{y}<extra></extra>",
         "legendgroup": "93",
         "marker": {
          "color": "#ab63fa",
          "symbol": "circle"
         },
         "mode": "markers",
         "name": "93",
         "orientation": "h",
         "showlegend": true,
         "type": "scatter",
         "x": [
          2.857
         ],
         "xaxis": "x",
         "y": [
          0.90566
         ],
         "yaxis": "y"
        },
        {
         "hovertemplate": "Nr=94<br>fkgl=%{x}<br>Score=%{y}<extra></extra>",
         "legendgroup": "94",
         "marker": {
          "color": "#FFA15A",
          "symbol": "circle"
         },
         "mode": "markers",
         "name": "94",
         "orientation": "h",
         "showlegend": true,
         "type": "scatter",
         "x": [
          11.45
         ],
         "xaxis": "x",
         "y": [
          0.48428
         ],
         "yaxis": "y"
        },
        {
         "hovertemplate": "Nr=95<br>fkgl=%{x}<br>Score=%{y}<extra></extra>",
         "legendgroup": "95",
         "marker": {
          "color": "#19d3f3",
          "symbol": "circle"
         },
         "mode": "markers",
         "name": "95",
         "orientation": "h",
         "showlegend": true,
         "type": "scatter",
         "x": [
          14.329
         ],
         "xaxis": "x",
         "y": [
          0.23899
         ],
         "yaxis": "y"
        },
        {
         "hovertemplate": "Nr=96<br>fkgl=%{x}<br>Score=%{y}<extra></extra>",
         "legendgroup": "96",
         "marker": {
          "color": "#FF6692",
          "symbol": "circle"
         },
         "mode": "markers",
         "name": "96",
         "orientation": "h",
         "showlegend": true,
         "type": "scatter",
         "x": [
          8.619
         ],
         "xaxis": "x",
         "y": [
          0.60377
         ],
         "yaxis": "y"
        },
        {
         "hovertemplate": "Nr=97<br>fkgl=%{x}<br>Score=%{y}<extra></extra>",
         "legendgroup": "97",
         "marker": {
          "color": "#B6E880",
          "symbol": "circle"
         },
         "mode": "markers",
         "name": "97",
         "orientation": "h",
         "showlegend": true,
         "type": "scatter",
         "x": [
          8.009
         ],
         "xaxis": "x",
         "y": [
          0.65409
         ],
         "yaxis": "y"
        },
        {
         "hovertemplate": "Nr=98<br>fkgl=%{x}<br>Score=%{y}<extra></extra>",
         "legendgroup": "98",
         "marker": {
          "color": "#FF97FF",
          "symbol": "circle"
         },
         "mode": "markers",
         "name": "98",
         "orientation": "h",
         "showlegend": true,
         "type": "scatter",
         "x": [
          7.745
         ],
         "xaxis": "x",
         "y": [
          0.74843
         ],
         "yaxis": "y"
        },
        {
         "hovertemplate": "Nr=99<br>fkgl=%{x}<br>Score=%{y}<extra></extra>",
         "legendgroup": "99",
         "marker": {
          "color": "#FECB52",
          "symbol": "circle"
         },
         "mode": "markers",
         "name": "99",
         "orientation": "h",
         "showlegend": true,
         "type": "scatter",
         "x": [
          10.663
         ],
         "xaxis": "x",
         "y": [
          0.11321
         ],
         "yaxis": "y"
        },
        {
         "hovertemplate": "Nr=100<br>fkgl=%{x}<br>Score=%{y}<extra></extra>",
         "legendgroup": "100",
         "marker": {
          "color": "#636efa",
          "symbol": "circle"
         },
         "mode": "markers",
         "name": "100",
         "orientation": "h",
         "showlegend": true,
         "type": "scatter",
         "x": [
          4.01
         ],
         "xaxis": "x",
         "y": [
          0.72327
         ],
         "yaxis": "y"
        },
        {
         "hovertemplate": "Nr=101<br>fkgl=%{x}<br>Score=%{y}<extra></extra>",
         "legendgroup": "101",
         "marker": {
          "color": "#EF553B",
          "symbol": "circle"
         },
         "mode": "markers",
         "name": "101",
         "orientation": "h",
         "showlegend": true,
         "type": "scatter",
         "x": [
          14.711
         ],
         "xaxis": "x",
         "y": [
          0
         ],
         "yaxis": "y"
        },
        {
         "hovertemplate": "Nr=102<br>fkgl=%{x}<br>Score=%{y}<extra></extra>",
         "legendgroup": "102",
         "marker": {
          "color": "#00cc96",
          "symbol": "circle"
         },
         "mode": "markers",
         "name": "102",
         "orientation": "h",
         "showlegend": true,
         "type": "scatter",
         "x": [
          7.613
         ],
         "xaxis": "x",
         "y": [
          0.77358
         ],
         "yaxis": "y"
        },
        {
         "hovertemplate": "Nr=103<br>fkgl=%{x}<br>Score=%{y}<extra></extra>",
         "legendgroup": "103",
         "marker": {
          "color": "#ab63fa",
          "symbol": "circle"
         },
         "mode": "markers",
         "name": "103",
         "orientation": "h",
         "showlegend": true,
         "type": "scatter",
         "x": [
          9.786
         ],
         "xaxis": "x",
         "y": [
          0.27673
         ],
         "yaxis": "y"
        },
        {
         "hovertemplate": "Nr=104<br>fkgl=%{x}<br>Score=%{y}<extra></extra>",
         "legendgroup": "104",
         "marker": {
          "color": "#FFA15A",
          "symbol": "circle"
         },
         "mode": "markers",
         "name": "104",
         "orientation": "h",
         "showlegend": true,
         "type": "scatter",
         "x": [
          9.073
         ],
         "xaxis": "x",
         "y": [
          0.26415
         ],
         "yaxis": "y"
        },
        {
         "hovertemplate": "Nr=105<br>fkgl=%{x}<br>Score=%{y}<extra></extra>",
         "legendgroup": "105",
         "marker": {
          "color": "#19d3f3",
          "symbol": "circle"
         },
         "mode": "markers",
         "name": "105",
         "orientation": "h",
         "showlegend": true,
         "type": "scatter",
         "x": [
          7.614
         ],
         "xaxis": "x",
         "y": [
          0.16981
         ],
         "yaxis": "y"
        },
        {
         "hovertemplate": "Nr=106<br>fkgl=%{x}<br>Score=%{y}<extra></extra>",
         "legendgroup": "106",
         "marker": {
          "color": "#FF6692",
          "symbol": "circle"
         },
         "mode": "markers",
         "name": "106",
         "orientation": "h",
         "showlegend": true,
         "type": "scatter",
         "x": [
          8.008
         ],
         "xaxis": "x",
         "y": [
          0.22642
         ],
         "yaxis": "y"
        },
        {
         "hovertemplate": "Nr=107<br>fkgl=%{x}<br>Score=%{y}<extra></extra>",
         "legendgroup": "107",
         "marker": {
          "color": "#B6E880",
          "symbol": "circle"
         },
         "mode": "markers",
         "name": "107",
         "orientation": "h",
         "showlegend": true,
         "type": "scatter",
         "x": [
          3.653
         ],
         "xaxis": "x",
         "y": [
          0.71698
         ],
         "yaxis": "y"
        },
        {
         "hovertemplate": "Nr=108<br>fkgl=%{x}<br>Score=%{y}<extra></extra>",
         "legendgroup": "108",
         "marker": {
          "color": "#FF97FF",
          "symbol": "circle"
         },
         "mode": "markers",
         "name": "108",
         "orientation": "h",
         "showlegend": true,
         "type": "scatter",
         "x": [
          13.296
         ],
         "xaxis": "x",
         "y": [
          0.54717
         ],
         "yaxis": "y"
        },
        {
         "hovertemplate": "Nr=109<br>fkgl=%{x}<br>Score=%{y}<extra></extra>",
         "legendgroup": "109",
         "marker": {
          "color": "#FECB52",
          "symbol": "circle"
         },
         "mode": "markers",
         "name": "109",
         "orientation": "h",
         "showlegend": true,
         "type": "scatter",
         "x": [
          12.378
         ],
         "xaxis": "x",
         "y": [
          0.07547
         ],
         "yaxis": "y"
        },
        {
         "hovertemplate": "Nr=110<br>fkgl=%{x}<br>Score=%{y}<extra></extra>",
         "legendgroup": "110",
         "marker": {
          "color": "#636efa",
          "symbol": "circle"
         },
         "mode": "markers",
         "name": "110",
         "orientation": "h",
         "showlegend": true,
         "type": "scatter",
         "x": [
          14.284
         ],
         "xaxis": "x",
         "y": [
          0.33962
         ],
         "yaxis": "y"
        },
        {
         "hovertemplate": "Nr=111<br>fkgl=%{x}<br>Score=%{y}<extra></extra>",
         "legendgroup": "111",
         "marker": {
          "color": "#EF553B",
          "symbol": "circle"
         },
         "mode": "markers",
         "name": "111",
         "orientation": "h",
         "showlegend": true,
         "type": "scatter",
         "x": [
          6.841
         ],
         "xaxis": "x",
         "y": [
          0.08176
         ],
         "yaxis": "y"
        },
        {
         "hovertemplate": "Nr=112<br>fkgl=%{x}<br>Score=%{y}<extra></extra>",
         "legendgroup": "112",
         "marker": {
          "color": "#00cc96",
          "symbol": "circle"
         },
         "mode": "markers",
         "name": "112",
         "orientation": "h",
         "showlegend": true,
         "type": "scatter",
         "x": [
          3.372
         ],
         "xaxis": "x",
         "y": [
          0.30189
         ],
         "yaxis": "y"
        },
        {
         "hovertemplate": "Nr=113<br>fkgl=%{x}<br>Score=%{y}<extra></extra>",
         "legendgroup": "113",
         "marker": {
          "color": "#ab63fa",
          "symbol": "circle"
         },
         "mode": "markers",
         "name": "113",
         "orientation": "h",
         "showlegend": true,
         "type": "scatter",
         "x": [
          10.31
         ],
         "xaxis": "x",
         "y": [
          0.34591
         ],
         "yaxis": "y"
        },
        {
         "hovertemplate": "Nr=114<br>fkgl=%{x}<br>Score=%{y}<extra></extra>",
         "legendgroup": "114",
         "marker": {
          "color": "#FFA15A",
          "symbol": "circle"
         },
         "mode": "markers",
         "name": "114",
         "orientation": "h",
         "showlegend": true,
         "type": "scatter",
         "x": [
          12.187
         ],
         "xaxis": "x",
         "y": [
          0.18868
         ],
         "yaxis": "y"
        },
        {
         "hovertemplate": "Nr=115<br>fkgl=%{x}<br>Score=%{y}<extra></extra>",
         "legendgroup": "115",
         "marker": {
          "color": "#19d3f3",
          "symbol": "circle"
         },
         "mode": "markers",
         "name": "115",
         "orientation": "h",
         "showlegend": true,
         "type": "scatter",
         "x": [
          8.35
         ],
         "xaxis": "x",
         "y": [
          0.28931
         ],
         "yaxis": "y"
        },
        {
         "hovertemplate": "Nr=116<br>fkgl=%{x}<br>Score=%{y}<extra></extra>",
         "legendgroup": "116",
         "marker": {
          "color": "#FF6692",
          "symbol": "circle"
         },
         "mode": "markers",
         "name": "116",
         "orientation": "h",
         "showlegend": true,
         "type": "scatter",
         "x": [
          6.104
         ],
         "xaxis": "x",
         "y": [
          0.21384
         ],
         "yaxis": "y"
        },
        {
         "hovertemplate": "Nr=117<br>fkgl=%{x}<br>Score=%{y}<extra></extra>",
         "legendgroup": "117",
         "marker": {
          "color": "#B6E880",
          "symbol": "circle"
         },
         "mode": "markers",
         "name": "117",
         "orientation": "h",
         "showlegend": true,
         "type": "scatter",
         "x": [
          17.969
         ],
         "xaxis": "x",
         "y": [
          0.16352
         ],
         "yaxis": "y"
        },
        {
         "hovertemplate": "Nr=118<br>fkgl=%{x}<br>Score=%{y}<extra></extra>",
         "legendgroup": "118",
         "marker": {
          "color": "#FF97FF",
          "symbol": "circle"
         },
         "mode": "markers",
         "name": "118",
         "orientation": "h",
         "showlegend": true,
         "type": "scatter",
         "x": [
          9.08
         ],
         "xaxis": "x",
         "y": [
          0.62893
         ],
         "yaxis": "y"
        },
        {
         "hovertemplate": "Nr=119<br>fkgl=%{x}<br>Score=%{y}<extra></extra>",
         "legendgroup": "119",
         "marker": {
          "color": "#FECB52",
          "symbol": "circle"
         },
         "mode": "markers",
         "name": "119",
         "orientation": "h",
         "showlegend": true,
         "type": "scatter",
         "x": [
          10.673
         ],
         "xaxis": "x",
         "y": [
          0.03774
         ],
         "yaxis": "y"
        },
        {
         "hovertemplate": "Nr=120<br>fkgl=%{x}<br>Score=%{y}<extra></extra>",
         "legendgroup": "120",
         "marker": {
          "color": "#636efa",
          "symbol": "circle"
         },
         "mode": "markers",
         "name": "120",
         "orientation": "h",
         "showlegend": true,
         "type": "scatter",
         "x": [
          7.699
         ],
         "xaxis": "x",
         "y": [
          0.87421
         ],
         "yaxis": "y"
        },
        {
         "hovertemplate": "Nr=121<br>fkgl=%{x}<br>Score=%{y}<extra></extra>",
         "legendgroup": "121",
         "marker": {
          "color": "#EF553B",
          "symbol": "circle"
         },
         "mode": "markers",
         "name": "121",
         "orientation": "h",
         "showlegend": true,
         "type": "scatter",
         "x": [
          8.792
         ],
         "xaxis": "x",
         "y": [
          0.73585
         ],
         "yaxis": "y"
        },
        {
         "hovertemplate": "Nr=122<br>fkgl=%{x}<br>Score=%{y}<extra></extra>",
         "legendgroup": "122",
         "marker": {
          "color": "#00cc96",
          "symbol": "circle"
         },
         "mode": "markers",
         "name": "122",
         "orientation": "h",
         "showlegend": true,
         "type": "scatter",
         "x": [
          7.973
         ],
         "xaxis": "x",
         "y": [
          0.44025
         ],
         "yaxis": "y"
        },
        {
         "hovertemplate": "Nr=123<br>fkgl=%{x}<br>Score=%{y}<extra></extra>",
         "legendgroup": "123",
         "marker": {
          "color": "#ab63fa",
          "symbol": "circle"
         },
         "mode": "markers",
         "name": "123",
         "orientation": "h",
         "showlegend": true,
         "type": "scatter",
         "x": [
          8.028
         ],
         "xaxis": "x",
         "y": [
          0.32704
         ],
         "yaxis": "y"
        },
        {
         "hovertemplate": "Nr=124<br>fkgl=%{x}<br>Score=%{y}<extra></extra>",
         "legendgroup": "124",
         "marker": {
          "color": "#FFA15A",
          "symbol": "circle"
         },
         "mode": "markers",
         "name": "124",
         "orientation": "h",
         "showlegend": true,
         "type": "scatter",
         "x": [
          7.163
         ],
         "xaxis": "x",
         "y": [
          0.46541
         ],
         "yaxis": "y"
        },
        {
         "hovertemplate": "Nr=125<br>fkgl=%{x}<br>Score=%{y}<extra></extra>",
         "legendgroup": "125",
         "marker": {
          "color": "#19d3f3",
          "symbol": "circle"
         },
         "mode": "markers",
         "name": "125",
         "orientation": "h",
         "showlegend": true,
         "type": "scatter",
         "x": [
          4.988
         ],
         "xaxis": "x",
         "y": [
          0.57862
         ],
         "yaxis": "y"
        },
        {
         "hovertemplate": "Nr=126<br>fkgl=%{x}<br>Score=%{y}<extra></extra>",
         "legendgroup": "126",
         "marker": {
          "color": "#FF6692",
          "symbol": "circle"
         },
         "mode": "markers",
         "name": "126",
         "orientation": "h",
         "showlegend": true,
         "type": "scatter",
         "x": [
          7.177
         ],
         "xaxis": "x",
         "y": [
          0.8239
         ],
         "yaxis": "y"
        },
        {
         "hovertemplate": "Nr=127<br>fkgl=%{x}<br>Score=%{y}<extra></extra>",
         "legendgroup": "127",
         "marker": {
          "color": "#B6E880",
          "symbol": "circle"
         },
         "mode": "markers",
         "name": "127",
         "orientation": "h",
         "showlegend": true,
         "type": "scatter",
         "x": [
          9.362
         ],
         "xaxis": "x",
         "y": [
          0.96855
         ],
         "yaxis": "y"
        },
        {
         "hovertemplate": "Nr=128<br>fkgl=%{x}<br>Score=%{y}<extra></extra>",
         "legendgroup": "128",
         "marker": {
          "color": "#FF97FF",
          "symbol": "circle"
         },
         "mode": "markers",
         "name": "128",
         "orientation": "h",
         "showlegend": true,
         "type": "scatter",
         "x": [
          8.771
         ],
         "xaxis": "x",
         "y": [
          0.85535
         ],
         "yaxis": "y"
        },
        {
         "hovertemplate": "Nr=129<br>fkgl=%{x}<br>Score=%{y}<extra></extra>",
         "legendgroup": "129",
         "marker": {
          "color": "#FECB52",
          "symbol": "circle"
         },
         "mode": "markers",
         "name": "129",
         "orientation": "h",
         "showlegend": true,
         "type": "scatter",
         "x": [
          8.925
         ],
         "xaxis": "x",
         "y": [
          0.45283
         ],
         "yaxis": "y"
        },
        {
         "hovertemplate": "Nr=130<br>fkgl=%{x}<br>Score=%{y}<extra></extra>",
         "legendgroup": "130",
         "marker": {
          "color": "#636efa",
          "symbol": "circle"
         },
         "mode": "markers",
         "name": "130",
         "orientation": "h",
         "showlegend": true,
         "type": "scatter",
         "x": [
          7.771
         ],
         "xaxis": "x",
         "y": [
          0.91824
         ],
         "yaxis": "y"
        },
        {
         "hovertemplate": "Nr=131<br>fkgl=%{x}<br>Score=%{y}<extra></extra>",
         "legendgroup": "131",
         "marker": {
          "color": "#EF553B",
          "symbol": "circle"
         },
         "mode": "markers",
         "name": "131",
         "orientation": "h",
         "showlegend": true,
         "type": "scatter",
         "x": [
          10.775
         ],
         "xaxis": "x",
         "y": [
          0.47799
         ],
         "yaxis": "y"
        },
        {
         "hovertemplate": "Nr=132<br>fkgl=%{x}<br>Score=%{y}<extra></extra>",
         "legendgroup": "132",
         "marker": {
          "color": "#00cc96",
          "symbol": "circle"
         },
         "mode": "markers",
         "name": "132",
         "orientation": "h",
         "showlegend": true,
         "type": "scatter",
         "x": [
          9.503
         ],
         "xaxis": "x",
         "y": [
          0.67296
         ],
         "yaxis": "y"
        },
        {
         "hovertemplate": "Nr=133<br>fkgl=%{x}<br>Score=%{y}<extra></extra>",
         "legendgroup": "133",
         "marker": {
          "color": "#ab63fa",
          "symbol": "circle"
         },
         "mode": "markers",
         "name": "133",
         "orientation": "h",
         "showlegend": true,
         "type": "scatter",
         "x": [
          4.962
         ],
         "xaxis": "x",
         "y": [
          0.6478
         ],
         "yaxis": "y"
        },
        {
         "hovertemplate": "Nr=134<br>fkgl=%{x}<br>Score=%{y}<extra></extra>",
         "legendgroup": "134",
         "marker": {
          "color": "#FFA15A",
          "symbol": "circle"
         },
         "mode": "markers",
         "name": "134",
         "orientation": "h",
         "showlegend": true,
         "type": "scatter",
         "x": [
          1.757
         ],
         "xaxis": "x",
         "y": [
          0.83019
         ],
         "yaxis": "y"
        },
        {
         "hovertemplate": "Nr=135<br>fkgl=%{x}<br>Score=%{y}<extra></extra>",
         "legendgroup": "135",
         "marker": {
          "color": "#19d3f3",
          "symbol": "circle"
         },
         "mode": "markers",
         "name": "135",
         "orientation": "h",
         "showlegend": true,
         "type": "scatter",
         "x": [
          9.55
         ],
         "xaxis": "x",
         "y": [
          0.98742
         ],
         "yaxis": "y"
        },
        {
         "hovertemplate": "Nr=136<br>fkgl=%{x}<br>Score=%{y}<extra></extra>",
         "legendgroup": "136",
         "marker": {
          "color": "#FF6692",
          "symbol": "circle"
         },
         "mode": "markers",
         "name": "136",
         "orientation": "h",
         "showlegend": true,
         "type": "scatter",
         "x": [
          9.209
         ],
         "xaxis": "x",
         "y": [
          0.44654
         ],
         "yaxis": "y"
        },
        {
         "hovertemplate": "Nr=137<br>fkgl=%{x}<br>Score=%{y}<extra></extra>",
         "legendgroup": "137",
         "marker": {
          "color": "#B6E880",
          "symbol": "circle"
         },
         "mode": "markers",
         "name": "137",
         "orientation": "h",
         "showlegend": true,
         "type": "scatter",
         "x": [
          11.962
         ],
         "xaxis": "x",
         "y": [
          0.35849
         ],
         "yaxis": "y"
        },
        {
         "hovertemplate": "Nr=138<br>fkgl=%{x}<br>Score=%{y}<extra></extra>",
         "legendgroup": "138",
         "marker": {
          "color": "#FF97FF",
          "symbol": "circle"
         },
         "mode": "markers",
         "name": "138",
         "orientation": "h",
         "showlegend": true,
         "type": "scatter",
         "x": [
          4.911
         ],
         "xaxis": "x",
         "y": [
          0.93082
         ],
         "yaxis": "y"
        },
        {
         "hovertemplate": "Nr=139<br>fkgl=%{x}<br>Score=%{y}<extra></extra>",
         "legendgroup": "139",
         "marker": {
          "color": "#FECB52",
          "symbol": "circle"
         },
         "mode": "markers",
         "name": "139",
         "orientation": "h",
         "showlegend": true,
         "type": "scatter",
         "x": [
          7.57
         ],
         "xaxis": "x",
         "y": [
          0.75472
         ],
         "yaxis": "y"
        },
        {
         "hovertemplate": "Nr=140<br>fkgl=%{x}<br>Score=%{y}<extra></extra>",
         "legendgroup": "140",
         "marker": {
          "color": "#636efa",
          "symbol": "circle"
         },
         "mode": "markers",
         "name": "140",
         "orientation": "h",
         "showlegend": true,
         "type": "scatter",
         "x": [
          3.534
         ],
         "xaxis": "x",
         "y": [
          0.94969
         ],
         "yaxis": "y"
        },
        {
         "hovertemplate": "Nr=141<br>fkgl=%{x}<br>Score=%{y}<extra></extra>",
         "legendgroup": "141",
         "marker": {
          "color": "#EF553B",
          "symbol": "circle"
         },
         "mode": "markers",
         "name": "141",
         "orientation": "h",
         "showlegend": true,
         "type": "scatter",
         "x": [
          5.863
         ],
         "xaxis": "x",
         "y": [
          0.89308
         ],
         "yaxis": "y"
        },
        {
         "hovertemplate": "Nr=142<br>fkgl=%{x}<br>Score=%{y}<extra></extra>",
         "legendgroup": "142",
         "marker": {
          "color": "#00cc96",
          "symbol": "circle"
         },
         "mode": "markers",
         "name": "142",
         "orientation": "h",
         "showlegend": true,
         "type": "scatter",
         "x": [
          9.831
         ],
         "xaxis": "x",
         "y": [
          0.10063
         ],
         "yaxis": "y"
        },
        {
         "hovertemplate": "Nr=143<br>fkgl=%{x}<br>Score=%{y}<extra></extra>",
         "legendgroup": "143",
         "marker": {
          "color": "#ab63fa",
          "symbol": "circle"
         },
         "mode": "markers",
         "name": "143",
         "orientation": "h",
         "showlegend": true,
         "type": "scatter",
         "x": [
          -0.106
         ],
         "xaxis": "x",
         "y": [
          0.71069
         ],
         "yaxis": "y"
        },
        {
         "hovertemplate": "Nr=144<br>fkgl=%{x}<br>Score=%{y}<extra></extra>",
         "legendgroup": "144",
         "marker": {
          "color": "#FFA15A",
          "symbol": "circle"
         },
         "mode": "markers",
         "name": "144",
         "orientation": "h",
         "showlegend": true,
         "type": "scatter",
         "x": [
          6.78
         ],
         "xaxis": "x",
         "y": [
          0.81132
         ],
         "yaxis": "y"
        },
        {
         "hovertemplate": "Nr=145<br>fkgl=%{x}<br>Score=%{y}<extra></extra>",
         "legendgroup": "145",
         "marker": {
          "color": "#19d3f3",
          "symbol": "circle"
         },
         "mode": "markers",
         "name": "145",
         "orientation": "h",
         "showlegend": true,
         "type": "scatter",
         "x": [
          2.342
         ],
         "xaxis": "x",
         "y": [
          0.99371
         ],
         "yaxis": "y"
        },
        {
         "hovertemplate": "Nr=146<br>fkgl=%{x}<br>Score=%{y}<extra></extra>",
         "legendgroup": "146",
         "marker": {
          "color": "#FF6692",
          "symbol": "circle"
         },
         "mode": "markers",
         "name": "146",
         "orientation": "h",
         "showlegend": true,
         "type": "scatter",
         "x": [
          2.83
         ],
         "xaxis": "x",
         "y": [
          0.8805
         ],
         "yaxis": "y"
        },
        {
         "hovertemplate": "Nr=147<br>fkgl=%{x}<br>Score=%{y}<extra></extra>",
         "legendgroup": "147",
         "marker": {
          "color": "#B6E880",
          "symbol": "circle"
         },
         "mode": "markers",
         "name": "147",
         "orientation": "h",
         "showlegend": true,
         "type": "scatter",
         "x": [
          4.663
         ],
         "xaxis": "x",
         "y": [
          0.96226
         ],
         "yaxis": "y"
        },
        {
         "hovertemplate": "Nr=148<br>fkgl=%{x}<br>Score=%{y}<extra></extra>",
         "legendgroup": "148",
         "marker": {
          "color": "#FF97FF",
          "symbol": "circle"
         },
         "mode": "markers",
         "name": "148",
         "orientation": "h",
         "showlegend": true,
         "type": "scatter",
         "x": [
          6.935
         ],
         "xaxis": "x",
         "y": [
          0.79245
         ],
         "yaxis": "y"
        },
        {
         "hovertemplate": "Nr=149<br>fkgl=%{x}<br>Score=%{y}<extra></extra>",
         "legendgroup": "149",
         "marker": {
          "color": "#FECB52",
          "symbol": "circle"
         },
         "mode": "markers",
         "name": "149",
         "orientation": "h",
         "showlegend": true,
         "type": "scatter",
         "x": [
          4.962
         ],
         "xaxis": "x",
         "y": [
          0.89937
         ],
         "yaxis": "y"
        },
        {
         "hovertemplate": "Nr=150<br>fkgl=%{x}<br>Score=%{y}<extra></extra>",
         "legendgroup": "150",
         "marker": {
          "color": "#636efa",
          "symbol": "circle"
         },
         "mode": "markers",
         "name": "150",
         "orientation": "h",
         "showlegend": true,
         "type": "scatter",
         "x": [
          2.857
         ],
         "xaxis": "x",
         "y": [
          0.86792
         ],
         "yaxis": "y"
        },
        {
         "hovertemplate": "Nr=151<br>fkgl=%{x}<br>Score=%{y}<extra></extra>",
         "legendgroup": "151",
         "marker": {
          "color": "#EF553B",
          "symbol": "circle"
         },
         "mode": "markers",
         "name": "151",
         "orientation": "h",
         "showlegend": true,
         "type": "scatter",
         "x": [
          8.393
         ],
         "xaxis": "x",
         "y": [
          0.64151
         ],
         "yaxis": "y"
        },
        {
         "hovertemplate": "Nr=152<br>fkgl=%{x}<br>Score=%{y}<extra></extra>",
         "legendgroup": "152",
         "marker": {
          "color": "#00cc96",
          "symbol": "circle"
         },
         "mode": "markers",
         "name": "152",
         "orientation": "h",
         "showlegend": true,
         "type": "scatter",
         "x": [
          4.42
         ],
         "xaxis": "x",
         "y": [
          0.92453
         ],
         "yaxis": "y"
        },
        {
         "hovertemplate": "Nr=153<br>fkgl=%{x}<br>Score=%{y}<extra></extra>",
         "legendgroup": "153",
         "marker": {
          "color": "#ab63fa",
          "symbol": "circle"
         },
         "mode": "markers",
         "name": "153",
         "orientation": "h",
         "showlegend": true,
         "type": "scatter",
         "x": [
          -0.28
         ],
         "xaxis": "x",
         "y": [
          1
         ],
         "yaxis": "y"
        },
        {
         "hovertemplate": "Nr=154<br>fkgl=%{x}<br>Score=%{y}<extra></extra>",
         "legendgroup": "154",
         "marker": {
          "color": "#FFA15A",
          "symbol": "circle"
         },
         "mode": "markers",
         "name": "154",
         "orientation": "h",
         "showlegend": true,
         "type": "scatter",
         "x": [
          4.241
         ],
         "xaxis": "x",
         "y": [
          0.83648
         ],
         "yaxis": "y"
        },
        {
         "hovertemplate": "Nr=155<br>fkgl=%{x}<br>Score=%{y}<extra></extra>",
         "legendgroup": "155",
         "marker": {
          "color": "#19d3f3",
          "symbol": "circle"
         },
         "mode": "markers",
         "name": "155",
         "orientation": "h",
         "showlegend": true,
         "type": "scatter",
         "x": [
          4.241
         ],
         "xaxis": "x",
         "y": [
          0.68553
         ],
         "yaxis": "y"
        },
        {
         "hovertemplate": "Nr=156<br>fkgl=%{x}<br>Score=%{y}<extra></extra>",
         "legendgroup": "156",
         "marker": {
          "color": "#FF6692",
          "symbol": "circle"
         },
         "mode": "markers",
         "name": "156",
         "orientation": "h",
         "showlegend": true,
         "type": "scatter",
         "x": [
          5.18
         ],
         "xaxis": "x",
         "y": [
          0.77987
         ],
         "yaxis": "y"
        },
        {
         "hovertemplate": "Nr=157<br>fkgl=%{x}<br>Score=%{y}<extra></extra>",
         "legendgroup": "157",
         "marker": {
          "color": "#B6E880",
          "symbol": "circle"
         },
         "mode": "markers",
         "name": "157",
         "orientation": "h",
         "showlegend": true,
         "type": "scatter",
         "x": [
          5.4
         ],
         "xaxis": "x",
         "y": [
          0.95597
         ],
         "yaxis": "y"
        },
        {
         "hovertemplate": "Nr=158<br>fkgl=%{x}<br>Score=%{y}<extra></extra>",
         "legendgroup": "158",
         "marker": {
          "color": "#FF97FF",
          "symbol": "circle"
         },
         "mode": "markers",
         "name": "158",
         "orientation": "h",
         "showlegend": true,
         "type": "scatter",
         "x": [
          -0.535
         ],
         "xaxis": "x",
         "y": [
          0.98113
         ],
         "yaxis": "y"
        },
        {
         "hovertemplate": "Nr=159<br>fkgl=%{x}<br>Score=%{y}<extra></extra>",
         "legendgroup": "159",
         "marker": {
          "color": "#FECB52",
          "symbol": "circle"
         },
         "mode": "markers",
         "name": "159",
         "orientation": "h",
         "showlegend": true,
         "type": "scatter",
         "x": [
          5.4
         ],
         "xaxis": "x",
         "y": [
          0.91195
         ],
         "yaxis": "y"
        },
        {
         "hovertemplate": "<b>OLS trendline</b><br>Score = -0.0428671 * fkgl + 0.878396<br>R<sup>2</sup>=0.377320<br><br>fkgl=%{x}<br>Score=%{y} <b>(trend)</b><extra></extra>",
         "legendgroup": "Overall Trendline",
         "line": {
          "color": "#636efa"
         },
         "mode": "lines",
         "name": "Overall Trendline",
         "showlegend": true,
         "type": "scatter",
         "x": [
          -0.535,
          -0.28,
          -0.106,
          0.827,
          1.344,
          1.757,
          1.865,
          1.912,
          2.342,
          2.645,
          2.83,
          2.857,
          2.857,
          3.095,
          3.372,
          3.534,
          3.534,
          3.558,
          3.603,
          3.653,
          3.676,
          4.01,
          4.154,
          4.199,
          4.241,
          4.241,
          4.241,
          4.294,
          4.4,
          4.42,
          4.663,
          4.663,
          4.823,
          4.911,
          4.922,
          4.962,
          4.962,
          4.988,
          5.18,
          5.328,
          5.4,
          5.4,
          5.863,
          5.933,
          6.086,
          6.104,
          6.236,
          6.311,
          6.78,
          6.841,
          6.841,
          6.935,
          7.163,
          7.177,
          7.57,
          7.613,
          7.614,
          7.614,
          7.699,
          7.745,
          7.771,
          7.967,
          7.973,
          8.008,
          8.009,
          8.028,
          8.258,
          8.303,
          8.35,
          8.393,
          8.588,
          8.619,
          8.771,
          8.792,
          8.925,
          9.073,
          9.073,
          9.073,
          9.08,
          9.209,
          9.209,
          9.237,
          9.264,
          9.284,
          9.284,
          9.362,
          9.457,
          9.503,
          9.55,
          9.617,
          9.659,
          9.736,
          9.736,
          9.786,
          9.797,
          9.817,
          9.823,
          9.831,
          9.831,
          9.86,
          9.995,
          10.154,
          10.21,
          10.31,
          10.368,
          10.501,
          10.578,
          10.64,
          10.663,
          10.673,
          10.69,
          10.775,
          10.858,
          11.09,
          11.143,
          11.152,
          11.182,
          11.342,
          11.45,
          11.547,
          11.597,
          11.624,
          11.726,
          11.899,
          11.962,
          11.962,
          12.187,
          12.187,
          12.25,
          12.298,
          12.299,
          12.378,
          12.421,
          12.609,
          13.023,
          13.04,
          13.04,
          13.296,
          13.389,
          13.829,
          13.829,
          13.873,
          13.928,
          14.03,
          14.284,
          14.329,
          14.352,
          14.711,
          14.748,
          14.79,
          15.023,
          15.591,
          16.062,
          16.261,
          16.564,
          16.825,
          17.969,
          18.44,
          18.771,
          20.859
         ],
         "xaxis": "x",
         "y": [
          0.9013299477983966,
          0.8903988267320756,
          0.8829399441221153,
          0.8429449011618112,
          0.8207825890391132,
          0.8030784596258167,
          0.798448808350669,
          0.796434052703151,
          0.7780011818854331,
          0.7650124380301575,
          0.7570820168643951,
          0.7559246040456082,
          0.7559246040456082,
          0.7457222243837086,
          0.7338480262057834,
          0.7269035492930618,
          0.7269035492930618,
          0.7258747378985845,
          0.7239457165339396,
          0.7218023594621119,
          0.7208164152090712,
          0.7064987899692624,
          0.7003259216023988,
          0.6983969002377539,
          0.6965964802974187,
          0.6965964802974187,
          0.6965964802974187,
          0.6943245218012813,
          0.6897806048090067,
          0.6889232619802756,
          0.6785065466111933,
          0.6785065466111933,
          0.6716478039813447,
          0.6678754955349281,
          0.6674039569791259,
          0.6656892713216638,
          0.6656892713216638,
          0.6645747256443134,
          0.6563442344884952,
          0.6499998975558854,
          0.6469134633724535,
          0.6469134633724535,
          0.6270659768873295,
          0.6240652769867707,
          0.617506604346978,
          0.6167349958011201,
          0.6110765331314951,
          0.6078614975237535,
          0.5877568081900102,
          0.5851419125623805,
          0.5851419125623805,
          0.5811124012673444,
          0.5713386930198103,
          0.5707385530396986,
          0.553891766455133,
          0.5520484793733613,
          0.5520056122319248,
          0.5520056122319248,
          0.5483619052098179,
          0.5463900167037363,
          0.545275471026386,
          0.5368735113048215,
          0.5366163084562022,
          0.5351159585059229,
          0.5350730913644863,
          0.5342586156771918,
          0.5243991731467845,
          0.5224701517821396,
          0.5204553961346217,
          0.5186121090528499,
          0.510253016472722,
          0.5089241350881889,
          0.5024083295898327,
          0.5015081196196651,
          0.49580678980860354,
          0.4894624528759937,
          0.4894624528759937,
          0.4894624528759937,
          0.48916238288593783,
          0.4836325216406225,
          0.4836325216406225,
          0.482432241680399,
          0.4812748288616121,
          0.480417486032881,
          0.480417486032881,
          0.47707384900082983,
          0.47300147056435726,
          0.47102958205827583,
          0.4690148264107578,
          0.4661427279345088,
          0.46434230799417353,
          0.46104153810355897,
          0.46104153810355897,
          0.4588981810317313,
          0.4584266424759292,
          0.45756929964719817,
          0.4573120967985788,
          0.45696915966708646,
          0.45696915966708646,
          0.4557260125654264,
          0.44993894847149174,
          0.44312307298307974,
          0.4407225130626327,
          0.43643579891897744,
          0.43394950471565735,
          0.4282481749045958,
          0.4249474050139812,
          0.4222896422449149,
          0.42130369799187417,
          0.42087502657750864,
          0.4201462851730873,
          0.4165025781509802,
          0.41294460541174627,
          0.402999428598466,
          0.4007274701023286,
          0.40034166582939973,
          0.3990556515863031,
          0.39219690895645454,
          0.38756725768130684,
          0.38340914496196116,
          0.38126578789013355,
          0.38010837507134654,
          0.37573592664481814,
          0.3683199111762945,
          0.3656192812657916,
          0.3656192812657916,
          0.3559741744425672,
          0.3559741744425672,
          0.3532735445320643,
          0.3512159217431098,
          0.35117305460167325,
          0.3477865504281855,
          0.3459432633464137,
          0.3378842407563417,
          0.3201372442016087,
          0.31940850279718735,
          0.31940850279718735,
          0.3084345145894297,
          0.3044478704358302,
          0.28558632820374685,
          0.28558632820374685,
          0.2837001739805385,
          0.28134248120152805,
          0.27697003277499965,
          0.2660817788501151,
          0.2641527574854702,
          0.2631668132324295,
          0.24777750945670696,
          0.24619142522355453,
          0.24439100528321922,
          0.23440296132850236,
          0.21005442499254012,
          0.18986400137592352,
          0.1813334402300496,
          0.1683446963747739,
          0.1571563724598336,
          0.10811636265641666,
          0.08792593903980006,
          0.07373691522430104,
          -0.015769676095222063
         ],
         "yaxis": "y"
        }
       ],
       "layout": {
        "height": 400,
        "legend": {
         "title": {
          "text": "Nr"
         },
         "tracegroupgap": 0
        },
        "showlegend": false,
        "template": {
         "data": {
          "bar": [
           {
            "error_x": {
             "color": "#2a3f5f"
            },
            "error_y": {
             "color": "#2a3f5f"
            },
            "marker": {
             "line": {
              "color": "#E5ECF6",
              "width": 0.5
             },
             "pattern": {
              "fillmode": "overlay",
              "size": 10,
              "solidity": 0.2
             }
            },
            "type": "bar"
           }
          ],
          "barpolar": [
           {
            "marker": {
             "line": {
              "color": "#E5ECF6",
              "width": 0.5
             },
             "pattern": {
              "fillmode": "overlay",
              "size": 10,
              "solidity": 0.2
             }
            },
            "type": "barpolar"
           }
          ],
          "carpet": [
           {
            "aaxis": {
             "endlinecolor": "#2a3f5f",
             "gridcolor": "white",
             "linecolor": "white",
             "minorgridcolor": "white",
             "startlinecolor": "#2a3f5f"
            },
            "baxis": {
             "endlinecolor": "#2a3f5f",
             "gridcolor": "white",
             "linecolor": "white",
             "minorgridcolor": "white",
             "startlinecolor": "#2a3f5f"
            },
            "type": "carpet"
           }
          ],
          "choropleth": [
           {
            "colorbar": {
             "outlinewidth": 0,
             "ticks": ""
            },
            "type": "choropleth"
           }
          ],
          "contour": [
           {
            "colorbar": {
             "outlinewidth": 0,
             "ticks": ""
            },
            "colorscale": [
             [
              0,
              "#0d0887"
             ],
             [
              0.1111111111111111,
              "#46039f"
             ],
             [
              0.2222222222222222,
              "#7201a8"
             ],
             [
              0.3333333333333333,
              "#9c179e"
             ],
             [
              0.4444444444444444,
              "#bd3786"
             ],
             [
              0.5555555555555556,
              "#d8576b"
             ],
             [
              0.6666666666666666,
              "#ed7953"
             ],
             [
              0.7777777777777778,
              "#fb9f3a"
             ],
             [
              0.8888888888888888,
              "#fdca26"
             ],
             [
              1,
              "#f0f921"
             ]
            ],
            "type": "contour"
           }
          ],
          "contourcarpet": [
           {
            "colorbar": {
             "outlinewidth": 0,
             "ticks": ""
            },
            "type": "contourcarpet"
           }
          ],
          "heatmap": [
           {
            "colorbar": {
             "outlinewidth": 0,
             "ticks": ""
            },
            "colorscale": [
             [
              0,
              "#0d0887"
             ],
             [
              0.1111111111111111,
              "#46039f"
             ],
             [
              0.2222222222222222,
              "#7201a8"
             ],
             [
              0.3333333333333333,
              "#9c179e"
             ],
             [
              0.4444444444444444,
              "#bd3786"
             ],
             [
              0.5555555555555556,
              "#d8576b"
             ],
             [
              0.6666666666666666,
              "#ed7953"
             ],
             [
              0.7777777777777778,
              "#fb9f3a"
             ],
             [
              0.8888888888888888,
              "#fdca26"
             ],
             [
              1,
              "#f0f921"
             ]
            ],
            "type": "heatmap"
           }
          ],
          "heatmapgl": [
           {
            "colorbar": {
             "outlinewidth": 0,
             "ticks": ""
            },
            "colorscale": [
             [
              0,
              "#0d0887"
             ],
             [
              0.1111111111111111,
              "#46039f"
             ],
             [
              0.2222222222222222,
              "#7201a8"
             ],
             [
              0.3333333333333333,
              "#9c179e"
             ],
             [
              0.4444444444444444,
              "#bd3786"
             ],
             [
              0.5555555555555556,
              "#d8576b"
             ],
             [
              0.6666666666666666,
              "#ed7953"
             ],
             [
              0.7777777777777778,
              "#fb9f3a"
             ],
             [
              0.8888888888888888,
              "#fdca26"
             ],
             [
              1,
              "#f0f921"
             ]
            ],
            "type": "heatmapgl"
           }
          ],
          "histogram": [
           {
            "marker": {
             "pattern": {
              "fillmode": "overlay",
              "size": 10,
              "solidity": 0.2
             }
            },
            "type": "histogram"
           }
          ],
          "histogram2d": [
           {
            "colorbar": {
             "outlinewidth": 0,
             "ticks": ""
            },
            "colorscale": [
             [
              0,
              "#0d0887"
             ],
             [
              0.1111111111111111,
              "#46039f"
             ],
             [
              0.2222222222222222,
              "#7201a8"
             ],
             [
              0.3333333333333333,
              "#9c179e"
             ],
             [
              0.4444444444444444,
              "#bd3786"
             ],
             [
              0.5555555555555556,
              "#d8576b"
             ],
             [
              0.6666666666666666,
              "#ed7953"
             ],
             [
              0.7777777777777778,
              "#fb9f3a"
             ],
             [
              0.8888888888888888,
              "#fdca26"
             ],
             [
              1,
              "#f0f921"
             ]
            ],
            "type": "histogram2d"
           }
          ],
          "histogram2dcontour": [
           {
            "colorbar": {
             "outlinewidth": 0,
             "ticks": ""
            },
            "colorscale": [
             [
              0,
              "#0d0887"
             ],
             [
              0.1111111111111111,
              "#46039f"
             ],
             [
              0.2222222222222222,
              "#7201a8"
             ],
             [
              0.3333333333333333,
              "#9c179e"
             ],
             [
              0.4444444444444444,
              "#bd3786"
             ],
             [
              0.5555555555555556,
              "#d8576b"
             ],
             [
              0.6666666666666666,
              "#ed7953"
             ],
             [
              0.7777777777777778,
              "#fb9f3a"
             ],
             [
              0.8888888888888888,
              "#fdca26"
             ],
             [
              1,
              "#f0f921"
             ]
            ],
            "type": "histogram2dcontour"
           }
          ],
          "mesh3d": [
           {
            "colorbar": {
             "outlinewidth": 0,
             "ticks": ""
            },
            "type": "mesh3d"
           }
          ],
          "parcoords": [
           {
            "line": {
             "colorbar": {
              "outlinewidth": 0,
              "ticks": ""
             }
            },
            "type": "parcoords"
           }
          ],
          "pie": [
           {
            "automargin": true,
            "type": "pie"
           }
          ],
          "scatter": [
           {
            "fillpattern": {
             "fillmode": "overlay",
             "size": 10,
             "solidity": 0.2
            },
            "type": "scatter"
           }
          ],
          "scatter3d": [
           {
            "line": {
             "colorbar": {
              "outlinewidth": 0,
              "ticks": ""
             }
            },
            "marker": {
             "colorbar": {
              "outlinewidth": 0,
              "ticks": ""
             }
            },
            "type": "scatter3d"
           }
          ],
          "scattercarpet": [
           {
            "marker": {
             "colorbar": {
              "outlinewidth": 0,
              "ticks": ""
             }
            },
            "type": "scattercarpet"
           }
          ],
          "scattergeo": [
           {
            "marker": {
             "colorbar": {
              "outlinewidth": 0,
              "ticks": ""
             }
            },
            "type": "scattergeo"
           }
          ],
          "scattergl": [
           {
            "marker": {
             "colorbar": {
              "outlinewidth": 0,
              "ticks": ""
             }
            },
            "type": "scattergl"
           }
          ],
          "scattermapbox": [
           {
            "marker": {
             "colorbar": {
              "outlinewidth": 0,
              "ticks": ""
             }
            },
            "type": "scattermapbox"
           }
          ],
          "scatterpolar": [
           {
            "marker": {
             "colorbar": {
              "outlinewidth": 0,
              "ticks": ""
             }
            },
            "type": "scatterpolar"
           }
          ],
          "scatterpolargl": [
           {
            "marker": {
             "colorbar": {
              "outlinewidth": 0,
              "ticks": ""
             }
            },
            "type": "scatterpolargl"
           }
          ],
          "scatterternary": [
           {
            "marker": {
             "colorbar": {
              "outlinewidth": 0,
              "ticks": ""
             }
            },
            "type": "scatterternary"
           }
          ],
          "surface": [
           {
            "colorbar": {
             "outlinewidth": 0,
             "ticks": ""
            },
            "colorscale": [
             [
              0,
              "#0d0887"
             ],
             [
              0.1111111111111111,
              "#46039f"
             ],
             [
              0.2222222222222222,
              "#7201a8"
             ],
             [
              0.3333333333333333,
              "#9c179e"
             ],
             [
              0.4444444444444444,
              "#bd3786"
             ],
             [
              0.5555555555555556,
              "#d8576b"
             ],
             [
              0.6666666666666666,
              "#ed7953"
             ],
             [
              0.7777777777777778,
              "#fb9f3a"
             ],
             [
              0.8888888888888888,
              "#fdca26"
             ],
             [
              1,
              "#f0f921"
             ]
            ],
            "type": "surface"
           }
          ],
          "table": [
           {
            "cells": {
             "fill": {
              "color": "#EBF0F8"
             },
             "line": {
              "color": "white"
             }
            },
            "header": {
             "fill": {
              "color": "#C8D4E3"
             },
             "line": {
              "color": "white"
             }
            },
            "type": "table"
           }
          ]
         },
         "layout": {
          "annotationdefaults": {
           "arrowcolor": "#2a3f5f",
           "arrowhead": 0,
           "arrowwidth": 1
          },
          "autotypenumbers": "strict",
          "coloraxis": {
           "colorbar": {
            "outlinewidth": 0,
            "ticks": ""
           }
          },
          "colorscale": {
           "diverging": [
            [
             0,
             "#8e0152"
            ],
            [
             0.1,
             "#c51b7d"
            ],
            [
             0.2,
             "#de77ae"
            ],
            [
             0.3,
             "#f1b6da"
            ],
            [
             0.4,
             "#fde0ef"
            ],
            [
             0.5,
             "#f7f7f7"
            ],
            [
             0.6,
             "#e6f5d0"
            ],
            [
             0.7,
             "#b8e186"
            ],
            [
             0.8,
             "#7fbc41"
            ],
            [
             0.9,
             "#4d9221"
            ],
            [
             1,
             "#276419"
            ]
           ],
           "sequential": [
            [
             0,
             "#0d0887"
            ],
            [
             0.1111111111111111,
             "#46039f"
            ],
            [
             0.2222222222222222,
             "#7201a8"
            ],
            [
             0.3333333333333333,
             "#9c179e"
            ],
            [
             0.4444444444444444,
             "#bd3786"
            ],
            [
             0.5555555555555556,
             "#d8576b"
            ],
            [
             0.6666666666666666,
             "#ed7953"
            ],
            [
             0.7777777777777778,
             "#fb9f3a"
            ],
            [
             0.8888888888888888,
             "#fdca26"
            ],
            [
             1,
             "#f0f921"
            ]
           ],
           "sequentialminus": [
            [
             0,
             "#0d0887"
            ],
            [
             0.1111111111111111,
             "#46039f"
            ],
            [
             0.2222222222222222,
             "#7201a8"
            ],
            [
             0.3333333333333333,
             "#9c179e"
            ],
            [
             0.4444444444444444,
             "#bd3786"
            ],
            [
             0.5555555555555556,
             "#d8576b"
            ],
            [
             0.6666666666666666,
             "#ed7953"
            ],
            [
             0.7777777777777778,
             "#fb9f3a"
            ],
            [
             0.8888888888888888,
             "#fdca26"
            ],
            [
             1,
             "#f0f921"
            ]
           ]
          },
          "colorway": [
           "#636efa",
           "#EF553B",
           "#00cc96",
           "#ab63fa",
           "#FFA15A",
           "#19d3f3",
           "#FF6692",
           "#B6E880",
           "#FF97FF",
           "#FECB52"
          ],
          "font": {
           "color": "#2a3f5f"
          },
          "geo": {
           "bgcolor": "white",
           "lakecolor": "white",
           "landcolor": "#E5ECF6",
           "showlakes": true,
           "showland": true,
           "subunitcolor": "white"
          },
          "hoverlabel": {
           "align": "left"
          },
          "hovermode": "closest",
          "mapbox": {
           "style": "light"
          },
          "paper_bgcolor": "white",
          "plot_bgcolor": "#E5ECF6",
          "polar": {
           "angularaxis": {
            "gridcolor": "white",
            "linecolor": "white",
            "ticks": ""
           },
           "bgcolor": "#E5ECF6",
           "radialaxis": {
            "gridcolor": "white",
            "linecolor": "white",
            "ticks": ""
           }
          },
          "scene": {
           "xaxis": {
            "backgroundcolor": "#E5ECF6",
            "gridcolor": "white",
            "gridwidth": 2,
            "linecolor": "white",
            "showbackground": true,
            "ticks": "",
            "zerolinecolor": "white"
           },
           "yaxis": {
            "backgroundcolor": "#E5ECF6",
            "gridcolor": "white",
            "gridwidth": 2,
            "linecolor": "white",
            "showbackground": true,
            "ticks": "",
            "zerolinecolor": "white"
           },
           "zaxis": {
            "backgroundcolor": "#E5ECF6",
            "gridcolor": "white",
            "gridwidth": 2,
            "linecolor": "white",
            "showbackground": true,
            "ticks": "",
            "zerolinecolor": "white"
           }
          },
          "shapedefaults": {
           "line": {
            "color": "#2a3f5f"
           }
          },
          "ternary": {
           "aaxis": {
            "gridcolor": "white",
            "linecolor": "white",
            "ticks": ""
           },
           "baxis": {
            "gridcolor": "white",
            "linecolor": "white",
            "ticks": ""
           },
           "bgcolor": "#E5ECF6",
           "caxis": {
            "gridcolor": "white",
            "linecolor": "white",
            "ticks": ""
           }
          },
          "title": {
           "x": 0.05
          },
          "xaxis": {
           "automargin": true,
           "gridcolor": "white",
           "linecolor": "white",
           "ticks": "",
           "title": {
            "standoff": 15
           },
           "zerolinecolor": "white",
           "zerolinewidth": 2
          },
          "yaxis": {
           "automargin": true,
           "gridcolor": "white",
           "linecolor": "white",
           "ticks": "",
           "title": {
            "standoff": 15
           },
           "zerolinecolor": "white",
           "zerolinewidth": 2
          }
         }
        },
        "title": {
         "text": "Correlation between amount of fkgl and Score"
        },
        "width": 800,
        "xaxis": {
         "anchor": "y",
         "domain": [
          0,
          1
         ],
         "title": {
          "text": "fkgl"
         }
        },
        "yaxis": {
         "anchor": "x",
         "domain": [
          0,
          1
         ],
         "title": {
          "text": "Score"
         }
        }
       }
      }
     },
     "metadata": {},
     "output_type": "display_data"
    }
   ],
   "source": [
    "fkglCorrelation(df)"
   ]
  },
  {
   "cell_type": "code",
   "execution_count": 17,
   "metadata": {},
   "outputs": [
    {
     "name": "stdout",
     "output_type": "stream",
     "text": [
      "The Pearson correlation coefficient between Score and Nomen is: -0.571, p: 0.000.\n"
     ]
    },
    {
     "data": {
      "application/vnd.plotly.v1+json": {
       "config": {
        "plotlyServerURL": "https://plot.ly"
       },
       "data": [
        {
         "hovertemplate": "Nr=0<br>fogi=%{x}<br>Score=%{y}<extra></extra>",
         "legendgroup": "0",
         "marker": {
          "color": "#636efa",
          "symbol": "circle"
         },
         "mode": "markers",
         "name": "0",
         "orientation": "h",
         "showlegend": true,
         "type": "scatter",
         "x": [
          18
         ],
         "xaxis": "x",
         "y": [
          0.31447
         ],
         "yaxis": "y"
        },
        {
         "hovertemplate": "Nr=1<br>fogi=%{x}<br>Score=%{y}<extra></extra>",
         "legendgroup": "1",
         "marker": {
          "color": "#EF553B",
          "symbol": "circle"
         },
         "mode": "markers",
         "name": "1",
         "orientation": "h",
         "showlegend": true,
         "type": "scatter",
         "x": [
          21.835
         ],
         "xaxis": "x",
         "y": [
          0.30818
         ],
         "yaxis": "y"
        },
        {
         "hovertemplate": "Nr=2<br>fogi=%{x}<br>Score=%{y}<extra></extra>",
         "legendgroup": "2",
         "marker": {
          "color": "#00cc96",
          "symbol": "circle"
         },
         "mode": "markers",
         "name": "2",
         "orientation": "h",
         "showlegend": true,
         "type": "scatter",
         "x": [
          16.212
         ],
         "xaxis": "x",
         "y": [
          0.84906
         ],
         "yaxis": "y"
        },
        {
         "hovertemplate": "Nr=3<br>fogi=%{x}<br>Score=%{y}<extra></extra>",
         "legendgroup": "3",
         "marker": {
          "color": "#ab63fa",
          "symbol": "circle"
         },
         "mode": "markers",
         "name": "3",
         "orientation": "h",
         "showlegend": true,
         "type": "scatter",
         "x": [
          11.506
         ],
         "xaxis": "x",
         "y": [
          0.97484
         ],
         "yaxis": "y"
        },
        {
         "hovertemplate": "Nr=4<br>fogi=%{x}<br>Score=%{y}<extra></extra>",
         "legendgroup": "4",
         "marker": {
          "color": "#FFA15A",
          "symbol": "circle"
         },
         "mode": "markers",
         "name": "4",
         "orientation": "h",
         "showlegend": true,
         "type": "scatter",
         "x": [
          9.844
         ],
         "xaxis": "x",
         "y": [
          0.2956
         ],
         "yaxis": "y"
        },
        {
         "hovertemplate": "Nr=5<br>fogi=%{x}<br>Score=%{y}<extra></extra>",
         "legendgroup": "5",
         "marker": {
          "color": "#19d3f3",
          "symbol": "circle"
         },
         "mode": "markers",
         "name": "5",
         "orientation": "h",
         "showlegend": true,
         "type": "scatter",
         "x": [
          5.6
         ],
         "xaxis": "x",
         "y": [
          0.57233
         ],
         "yaxis": "y"
        },
        {
         "hovertemplate": "Nr=6<br>fogi=%{x}<br>Score=%{y}<extra></extra>",
         "legendgroup": "6",
         "marker": {
          "color": "#FF6692",
          "symbol": "circle"
         },
         "mode": "markers",
         "name": "6",
         "orientation": "h",
         "showlegend": true,
         "type": "scatter",
         "x": [
          18.126
         ],
         "xaxis": "x",
         "y": [
          0.22013
         ],
         "yaxis": "y"
        },
        {
         "hovertemplate": "Nr=7<br>fogi=%{x}<br>Score=%{y}<extra></extra>",
         "legendgroup": "7",
         "marker": {
          "color": "#B6E880",
          "symbol": "circle"
         },
         "mode": "markers",
         "name": "7",
         "orientation": "h",
         "showlegend": true,
         "type": "scatter",
         "x": [
          20
         ],
         "xaxis": "x",
         "y": [
          0.32075
         ],
         "yaxis": "y"
        },
        {
         "hovertemplate": "Nr=8<br>fogi=%{x}<br>Score=%{y}<extra></extra>",
         "legendgroup": "8",
         "marker": {
          "color": "#FF97FF",
          "symbol": "circle"
         },
         "mode": "markers",
         "name": "8",
         "orientation": "h",
         "showlegend": true,
         "type": "scatter",
         "x": [
          6.4
         ],
         "xaxis": "x",
         "y": [
          0.1195
         ],
         "yaxis": "y"
        },
        {
         "hovertemplate": "Nr=9<br>fogi=%{x}<br>Score=%{y}<extra></extra>",
         "legendgroup": "9",
         "marker": {
          "color": "#FECB52",
          "symbol": "circle"
         },
         "mode": "markers",
         "name": "9",
         "orientation": "h",
         "showlegend": true,
         "type": "scatter",
         "x": [
          14.6
         ],
         "xaxis": "x",
         "y": [
          0.66038
         ],
         "yaxis": "y"
        },
        {
         "hovertemplate": "Nr=10<br>fogi=%{x}<br>Score=%{y}<extra></extra>",
         "legendgroup": "10",
         "marker": {
          "color": "#636efa",
          "symbol": "circle"
         },
         "mode": "markers",
         "name": "10",
         "orientation": "h",
         "showlegend": true,
         "type": "scatter",
         "x": [
          14.6
         ],
         "xaxis": "x",
         "y": [
          0.4717
         ],
         "yaxis": "y"
        },
        {
         "hovertemplate": "Nr=11<br>fogi=%{x}<br>Score=%{y}<extra></extra>",
         "legendgroup": "11",
         "marker": {
          "color": "#EF553B",
          "symbol": "circle"
         },
         "mode": "markers",
         "name": "11",
         "orientation": "h",
         "showlegend": true,
         "type": "scatter",
         "x": [
          12.933
         ],
         "xaxis": "x",
         "y": [
          0.28302
         ],
         "yaxis": "y"
        },
        {
         "hovertemplate": "Nr=12<br>fogi=%{x}<br>Score=%{y}<extra></extra>",
         "legendgroup": "12",
         "marker": {
          "color": "#00cc96",
          "symbol": "circle"
         },
         "mode": "markers",
         "name": "12",
         "orientation": "h",
         "showlegend": true,
         "type": "scatter",
         "x": [
          11.4
         ],
         "xaxis": "x",
         "y": [
          0.67925
         ],
         "yaxis": "y"
        },
        {
         "hovertemplate": "Nr=13<br>fogi=%{x}<br>Score=%{y}<extra></extra>",
         "legendgroup": "13",
         "marker": {
          "color": "#ab63fa",
          "symbol": "circle"
         },
         "mode": "markers",
         "name": "13",
         "orientation": "h",
         "showlegend": true,
         "type": "scatter",
         "x": [
          8.277
         ],
         "xaxis": "x",
         "y": [
          0.9434
         ],
         "yaxis": "y"
        },
        {
         "hovertemplate": "Nr=14<br>fogi=%{x}<br>Score=%{y}<extra></extra>",
         "legendgroup": "14",
         "marker": {
          "color": "#FFA15A",
          "symbol": "circle"
         },
         "mode": "markers",
         "name": "14",
         "orientation": "h",
         "showlegend": true,
         "type": "scatter",
         "x": [
          8.036
         ],
         "xaxis": "x",
         "y": [
          0.76101
         ],
         "yaxis": "y"
        },
        {
         "hovertemplate": "Nr=15<br>fogi=%{x}<br>Score=%{y}<extra></extra>",
         "legendgroup": "15",
         "marker": {
          "color": "#19d3f3",
          "symbol": "circle"
         },
         "mode": "markers",
         "name": "15",
         "orientation": "h",
         "showlegend": true,
         "type": "scatter",
         "x": [
          24.188
         ],
         "xaxis": "x",
         "y": [
          0.01258
         ],
         "yaxis": "y"
        },
        {
         "hovertemplate": "Nr=16<br>fogi=%{x}<br>Score=%{y}<extra></extra>",
         "legendgroup": "16",
         "marker": {
          "color": "#FF6692",
          "symbol": "circle"
         },
         "mode": "markers",
         "name": "16",
         "orientation": "h",
         "showlegend": true,
         "type": "scatter",
         "x": [
          21.2
         ],
         "xaxis": "x",
         "y": [
          0.09434
         ],
         "yaxis": "y"
        },
        {
         "hovertemplate": "Nr=17<br>fogi=%{x}<br>Score=%{y}<extra></extra>",
         "legendgroup": "17",
         "marker": {
          "color": "#B6E880",
          "symbol": "circle"
         },
         "mode": "markers",
         "name": "17",
         "orientation": "h",
         "showlegend": true,
         "type": "scatter",
         "x": [
          9.914
         ],
         "xaxis": "x",
         "y": [
          0.78616
         ],
         "yaxis": "y"
        },
        {
         "hovertemplate": "Nr=18<br>fogi=%{x}<br>Score=%{y}<extra></extra>",
         "legendgroup": "18",
         "marker": {
          "color": "#FF97FF",
          "symbol": "circle"
         },
         "mode": "markers",
         "name": "18",
         "orientation": "h",
         "showlegend": true,
         "type": "scatter",
         "x": [
          12.281
         ],
         "xaxis": "x",
         "y": [
          0.62264
         ],
         "yaxis": "y"
        },
        {
         "hovertemplate": "Nr=19<br>fogi=%{x}<br>Score=%{y}<extra></extra>",
         "legendgroup": "19",
         "marker": {
          "color": "#FECB52",
          "symbol": "circle"
         },
         "mode": "markers",
         "name": "19",
         "orientation": "h",
         "showlegend": true,
         "type": "scatter",
         "x": [
          12.21
         ],
         "xaxis": "x",
         "y": [
          0.72956
         ],
         "yaxis": "y"
        },
        {
         "hovertemplate": "Nr=20<br>fogi=%{x}<br>Score=%{y}<extra></extra>",
         "legendgroup": "20",
         "marker": {
          "color": "#636efa",
          "symbol": "circle"
         },
         "mode": "markers",
         "name": "20",
         "orientation": "h",
         "showlegend": true,
         "type": "scatter",
         "x": [
          22.779
         ],
         "xaxis": "x",
         "y": [
          0.12579
         ],
         "yaxis": "y"
        },
        {
         "hovertemplate": "Nr=21<br>fogi=%{x}<br>Score=%{y}<extra></extra>",
         "legendgroup": "21",
         "marker": {
          "color": "#EF553B",
          "symbol": "circle"
         },
         "mode": "markers",
         "name": "21",
         "orientation": "h",
         "showlegend": true,
         "type": "scatter",
         "x": [
          10.305
         ],
         "xaxis": "x",
         "y": [
          0.5283
         ],
         "yaxis": "y"
        },
        {
         "hovertemplate": "Nr=22<br>fogi=%{x}<br>Score=%{y}<extra></extra>",
         "legendgroup": "22",
         "marker": {
          "color": "#00cc96",
          "symbol": "circle"
         },
         "mode": "markers",
         "name": "22",
         "orientation": "h",
         "showlegend": true,
         "type": "scatter",
         "x": [
          18.667
         ],
         "xaxis": "x",
         "y": [
          0.19497
         ],
         "yaxis": "y"
        },
        {
         "hovertemplate": "Nr=23<br>fogi=%{x}<br>Score=%{y}<extra></extra>",
         "legendgroup": "23",
         "marker": {
          "color": "#ab63fa",
          "symbol": "circle"
         },
         "mode": "markers",
         "name": "23",
         "orientation": "h",
         "showlegend": true,
         "type": "scatter",
         "x": [
          26
         ],
         "xaxis": "x",
         "y": [
          0.00629
         ],
         "yaxis": "y"
        },
        {
         "hovertemplate": "Nr=24<br>fogi=%{x}<br>Score=%{y}<extra></extra>",
         "legendgroup": "24",
         "marker": {
          "color": "#FFA15A",
          "symbol": "circle"
         },
         "mode": "markers",
         "name": "24",
         "orientation": "h",
         "showlegend": true,
         "type": "scatter",
         "x": [
          22.779
         ],
         "xaxis": "x",
         "y": [
          0.40252
         ],
         "yaxis": "y"
        },
        {
         "hovertemplate": "Nr=25<br>fogi=%{x}<br>Score=%{y}<extra></extra>",
         "legendgroup": "25",
         "marker": {
          "color": "#19d3f3",
          "symbol": "circle"
         },
         "mode": "markers",
         "name": "25",
         "orientation": "h",
         "showlegend": true,
         "type": "scatter",
         "x": [
          16.073
         ],
         "xaxis": "x",
         "y": [
          0.10692
         ],
         "yaxis": "y"
        },
        {
         "hovertemplate": "Nr=26<br>fogi=%{x}<br>Score=%{y}<extra></extra>",
         "legendgroup": "26",
         "marker": {
          "color": "#FF6692",
          "symbol": "circle"
         },
         "mode": "markers",
         "name": "26",
         "orientation": "h",
         "showlegend": true,
         "type": "scatter",
         "x": [
          15.143
         ],
         "xaxis": "x",
         "y": [
          0.41509
         ],
         "yaxis": "y"
        },
        {
         "hovertemplate": "Nr=27<br>fogi=%{x}<br>Score=%{y}<extra></extra>",
         "legendgroup": "27",
         "marker": {
          "color": "#B6E880",
          "symbol": "circle"
         },
         "mode": "markers",
         "name": "27",
         "orientation": "h",
         "showlegend": true,
         "type": "scatter",
         "x": [
          25.371
         ],
         "xaxis": "x",
         "y": [
          0.45912
         ],
         "yaxis": "y"
        },
        {
         "hovertemplate": "Nr=28<br>fogi=%{x}<br>Score=%{y}<extra></extra>",
         "legendgroup": "28",
         "marker": {
          "color": "#FF97FF",
          "symbol": "circle"
         },
         "mode": "markers",
         "name": "28",
         "orientation": "h",
         "showlegend": true,
         "type": "scatter",
         "x": [
          9.705
         ],
         "xaxis": "x",
         "y": [
          0.86164
         ],
         "yaxis": "y"
        },
        {
         "hovertemplate": "Nr=29<br>fogi=%{x}<br>Score=%{y}<extra></extra>",
         "legendgroup": "29",
         "marker": {
          "color": "#FECB52",
          "symbol": "circle"
         },
         "mode": "markers",
         "name": "29",
         "orientation": "h",
         "showlegend": true,
         "type": "scatter",
         "x": [
          20.473
         ],
         "xaxis": "x",
         "y": [
          0.80503
         ],
         "yaxis": "y"
        },
        {
         "hovertemplate": "Nr=30<br>fogi=%{x}<br>Score=%{y}<extra></extra>",
         "legendgroup": "30",
         "marker": {
          "color": "#636efa",
          "symbol": "circle"
         },
         "mode": "markers",
         "name": "30",
         "orientation": "h",
         "showlegend": true,
         "type": "scatter",
         "x": [
          14.114
         ],
         "xaxis": "x",
         "y": [
          0.7673
         ],
         "yaxis": "y"
        },
        {
         "hovertemplate": "Nr=31<br>fogi=%{x}<br>Score=%{y}<extra></extra>",
         "legendgroup": "31",
         "marker": {
          "color": "#EF553B",
          "symbol": "circle"
         },
         "mode": "markers",
         "name": "31",
         "orientation": "h",
         "showlegend": true,
         "type": "scatter",
         "x": [
          19.6
         ],
         "xaxis": "x",
         "y": [
          0.51572
         ],
         "yaxis": "y"
        },
        {
         "hovertemplate": "Nr=32<br>fogi=%{x}<br>Score=%{y}<extra></extra>",
         "legendgroup": "32",
         "marker": {
          "color": "#00cc96",
          "symbol": "circle"
         },
         "mode": "markers",
         "name": "32",
         "orientation": "h",
         "showlegend": true,
         "type": "scatter",
         "x": [
          11.4
         ],
         "xaxis": "x",
         "y": [
          0.79874
         ],
         "yaxis": "y"
        },
        {
         "hovertemplate": "Nr=33<br>fogi=%{x}<br>Score=%{y}<extra></extra>",
         "legendgroup": "33",
         "marker": {
          "color": "#ab63fa",
          "symbol": "circle"
         },
         "mode": "markers",
         "name": "33",
         "orientation": "h",
         "showlegend": true,
         "type": "scatter",
         "x": [
          21.278
         ],
         "xaxis": "x",
         "y": [
          0.0566
         ],
         "yaxis": "y"
        },
        {
         "hovertemplate": "Nr=34<br>fogi=%{x}<br>Score=%{y}<extra></extra>",
         "legendgroup": "34",
         "marker": {
          "color": "#FFA15A",
          "symbol": "circle"
         },
         "mode": "markers",
         "name": "34",
         "orientation": "h",
         "showlegend": true,
         "type": "scatter",
         "x": [
          10.877
         ],
         "xaxis": "x",
         "y": [
          0.37107
         ],
         "yaxis": "y"
        },
        {
         "hovertemplate": "Nr=35<br>fogi=%{x}<br>Score=%{y}<extra></extra>",
         "legendgroup": "35",
         "marker": {
          "color": "#19d3f3",
          "symbol": "circle"
         },
         "mode": "markers",
         "name": "35",
         "orientation": "h",
         "showlegend": true,
         "type": "scatter",
         "x": [
          27.712
         ],
         "xaxis": "x",
         "y": [
          0.02516
         ],
         "yaxis": "y"
        },
        {
         "hovertemplate": "Nr=36<br>fogi=%{x}<br>Score=%{y}<extra></extra>",
         "legendgroup": "36",
         "marker": {
          "color": "#FF6692",
          "symbol": "circle"
         },
         "mode": "markers",
         "name": "36",
         "orientation": "h",
         "showlegend": true,
         "type": "scatter",
         "x": [
          11.903
         ],
         "xaxis": "x",
         "y": [
          0.39623
         ],
         "yaxis": "y"
        },
        {
         "hovertemplate": "Nr=37<br>fogi=%{x}<br>Score=%{y}<extra></extra>",
         "legendgroup": "37",
         "marker": {
          "color": "#B6E880",
          "symbol": "circle"
         },
         "mode": "markers",
         "name": "37",
         "orientation": "h",
         "showlegend": true,
         "type": "scatter",
         "x": [
          22.368
         ],
         "xaxis": "x",
         "y": [
          0.03145
         ],
         "yaxis": "y"
        },
        {
         "hovertemplate": "Nr=38<br>fogi=%{x}<br>Score=%{y}<extra></extra>",
         "legendgroup": "38",
         "marker": {
          "color": "#FF97FF",
          "symbol": "circle"
         },
         "mode": "markers",
         "name": "38",
         "orientation": "h",
         "showlegend": true,
         "type": "scatter",
         "x": [
          16.4
         ],
         "xaxis": "x",
         "y": [
          0.59748
         ],
         "yaxis": "y"
        },
        {
         "hovertemplate": "Nr=39<br>fogi=%{x}<br>Score=%{y}<extra></extra>",
         "legendgroup": "39",
         "marker": {
          "color": "#FECB52",
          "symbol": "circle"
         },
         "mode": "markers",
         "name": "39",
         "orientation": "h",
         "showlegend": true,
         "type": "scatter",
         "x": [
          12.928
         ],
         "xaxis": "x",
         "y": [
          0.20755
         ],
         "yaxis": "y"
        },
        {
         "hovertemplate": "Nr=40<br>fogi=%{x}<br>Score=%{y}<extra></extra>",
         "legendgroup": "40",
         "marker": {
          "color": "#636efa",
          "symbol": "circle"
         },
         "mode": "markers",
         "name": "40",
         "orientation": "h",
         "showlegend": true,
         "type": "scatter",
         "x": [
          16.073
         ],
         "xaxis": "x",
         "y": [
          0.61006
         ],
         "yaxis": "y"
        },
        {
         "hovertemplate": "Nr=41<br>fogi=%{x}<br>Score=%{y}<extra></extra>",
         "legendgroup": "41",
         "marker": {
          "color": "#EF553B",
          "symbol": "circle"
         },
         "mode": "markers",
         "name": "41",
         "orientation": "h",
         "showlegend": true,
         "type": "scatter",
         "x": [
          8.559
         ],
         "xaxis": "x",
         "y": [
          0.56604
         ],
         "yaxis": "y"
        },
        {
         "hovertemplate": "Nr=42<br>fogi=%{x}<br>Score=%{y}<extra></extra>",
         "legendgroup": "42",
         "marker": {
          "color": "#00cc96",
          "symbol": "circle"
         },
         "mode": "markers",
         "name": "42",
         "orientation": "h",
         "showlegend": true,
         "type": "scatter",
         "x": [
          16.726
         ],
         "xaxis": "x",
         "y": [
          0.38994
         ],
         "yaxis": "y"
        },
        {
         "hovertemplate": "Nr=43<br>fogi=%{x}<br>Score=%{y}<extra></extra>",
         "legendgroup": "43",
         "marker": {
          "color": "#ab63fa",
          "symbol": "circle"
         },
         "mode": "markers",
         "name": "43",
         "orientation": "h",
         "showlegend": true,
         "type": "scatter",
         "x": [
          15.244
         ],
         "xaxis": "x",
         "y": [
          0.18239
         ],
         "yaxis": "y"
        },
        {
         "hovertemplate": "Nr=44<br>fogi=%{x}<br>Score=%{y}<extra></extra>",
         "legendgroup": "44",
         "marker": {
          "color": "#FFA15A",
          "symbol": "circle"
         },
         "mode": "markers",
         "name": "44",
         "orientation": "h",
         "showlegend": true,
         "type": "scatter",
         "x": [
          21.2
         ],
         "xaxis": "x",
         "y": [
          0.24528
         ],
         "yaxis": "y"
        },
        {
         "hovertemplate": "Nr=45<br>fogi=%{x}<br>Score=%{y}<extra></extra>",
         "legendgroup": "45",
         "marker": {
          "color": "#19d3f3",
          "symbol": "circle"
         },
         "mode": "markers",
         "name": "45",
         "orientation": "h",
         "showlegend": true,
         "type": "scatter",
         "x": [
          14.667
         ],
         "xaxis": "x",
         "y": [
          0.58491
         ],
         "yaxis": "y"
        },
        {
         "hovertemplate": "Nr=46<br>fogi=%{x}<br>Score=%{y}<extra></extra>",
         "legendgroup": "46",
         "marker": {
          "color": "#FF6692",
          "symbol": "circle"
         },
         "mode": "markers",
         "name": "46",
         "orientation": "h",
         "showlegend": true,
         "type": "scatter",
         "x": [
          18.306
         ],
         "xaxis": "x",
         "y": [
          0.13836
         ],
         "yaxis": "y"
        },
        {
         "hovertemplate": "Nr=47<br>fogi=%{x}<br>Score=%{y}<extra></extra>",
         "legendgroup": "47",
         "marker": {
          "color": "#B6E880",
          "symbol": "circle"
         },
         "mode": "markers",
         "name": "47",
         "orientation": "h",
         "showlegend": true,
         "type": "scatter",
         "x": [
          7.2
         ],
         "xaxis": "x",
         "y": [
          0.37736
         ],
         "yaxis": "y"
        },
        {
         "hovertemplate": "Nr=48<br>fogi=%{x}<br>Score=%{y}<extra></extra>",
         "legendgroup": "48",
         "marker": {
          "color": "#FF97FF",
          "symbol": "circle"
         },
         "mode": "markers",
         "name": "48",
         "orientation": "h",
         "showlegend": true,
         "type": "scatter",
         "x": [
          13.2
         ],
         "xaxis": "x",
         "y": [
          0.42767
         ],
         "yaxis": "y"
        },
        {
         "hovertemplate": "Nr=49<br>fogi=%{x}<br>Score=%{y}<extra></extra>",
         "legendgroup": "49",
         "marker": {
          "color": "#FECB52",
          "symbol": "circle"
         },
         "mode": "markers",
         "name": "49",
         "orientation": "h",
         "showlegend": true,
         "type": "scatter",
         "x": [
          17.561
         ],
         "xaxis": "x",
         "y": [
          0.55346
         ],
         "yaxis": "y"
        },
        {
         "hovertemplate": "Nr=50<br>fogi=%{x}<br>Score=%{y}<extra></extra>",
         "legendgroup": "50",
         "marker": {
          "color": "#636efa",
          "symbol": "circle"
         },
         "mode": "markers",
         "name": "50",
         "orientation": "h",
         "showlegend": true,
         "type": "scatter",
         "x": [
          13.477
         ],
         "xaxis": "x",
         "y": [
          0.81761
         ],
         "yaxis": "y"
        },
        {
         "hovertemplate": "Nr=51<br>fogi=%{x}<br>Score=%{y}<extra></extra>",
         "legendgroup": "51",
         "marker": {
          "color": "#EF553B",
          "symbol": "circle"
         },
         "mode": "markers",
         "name": "51",
         "orientation": "h",
         "showlegend": true,
         "type": "scatter",
         "x": [
          15.486
         ],
         "xaxis": "x",
         "y": [
          0.84277
         ],
         "yaxis": "y"
        },
        {
         "hovertemplate": "Nr=52<br>fogi=%{x}<br>Score=%{y}<extra></extra>",
         "legendgroup": "52",
         "marker": {
          "color": "#00cc96",
          "symbol": "circle"
         },
         "mode": "markers",
         "name": "52",
         "orientation": "h",
         "showlegend": true,
         "type": "scatter",
         "x": [
          17.933
         ],
         "xaxis": "x",
         "y": [
          0.52201
         ],
         "yaxis": "y"
        },
        {
         "hovertemplate": "Nr=53<br>fogi=%{x}<br>Score=%{y}<extra></extra>",
         "legendgroup": "53",
         "marker": {
          "color": "#ab63fa",
          "symbol": "circle"
         },
         "mode": "markers",
         "name": "53",
         "orientation": "h",
         "showlegend": true,
         "type": "scatter",
         "x": [
          18
         ],
         "xaxis": "x",
         "y": [
          0.66667
         ],
         "yaxis": "y"
        },
        {
         "hovertemplate": "Nr=54<br>fogi=%{x}<br>Score=%{y}<extra></extra>",
         "legendgroup": "54",
         "marker": {
          "color": "#FFA15A",
          "symbol": "circle"
         },
         "mode": "markers",
         "name": "54",
         "orientation": "h",
         "showlegend": true,
         "type": "scatter",
         "x": [
          10.329
         ],
         "xaxis": "x",
         "y": [
          0.55975
         ],
         "yaxis": "y"
        },
        {
         "hovertemplate": "Nr=55<br>fogi=%{x}<br>Score=%{y}<extra></extra>",
         "legendgroup": "55",
         "marker": {
          "color": "#19d3f3",
          "symbol": "circle"
         },
         "mode": "markers",
         "name": "55",
         "orientation": "h",
         "showlegend": true,
         "type": "scatter",
         "x": [
          11.811
         ],
         "xaxis": "x",
         "y": [
          0.1761
         ],
         "yaxis": "y"
        },
        {
         "hovertemplate": "Nr=56<br>fogi=%{x}<br>Score=%{y}<extra></extra>",
         "legendgroup": "56",
         "marker": {
          "color": "#FF6692",
          "symbol": "circle"
         },
         "mode": "markers",
         "name": "56",
         "orientation": "h",
         "showlegend": true,
         "type": "scatter",
         "x": [
          16.626
         ],
         "xaxis": "x",
         "y": [
          0.49686
         ],
         "yaxis": "y"
        },
        {
         "hovertemplate": "Nr=57<br>fogi=%{x}<br>Score=%{y}<extra></extra>",
         "legendgroup": "57",
         "marker": {
          "color": "#B6E880",
          "symbol": "circle"
         },
         "mode": "markers",
         "name": "57",
         "orientation": "h",
         "showlegend": true,
         "type": "scatter",
         "x": [
          13.916
         ],
         "xaxis": "x",
         "y": [
          0.69811
         ],
         "yaxis": "y"
        },
        {
         "hovertemplate": "Nr=58<br>fogi=%{x}<br>Score=%{y}<extra></extra>",
         "legendgroup": "58",
         "marker": {
          "color": "#FF97FF",
          "symbol": "circle"
         },
         "mode": "markers",
         "name": "58",
         "orientation": "h",
         "showlegend": true,
         "type": "scatter",
         "x": [
          18.343
         ],
         "xaxis": "x",
         "y": [
          0.2327
         ],
         "yaxis": "y"
        },
        {
         "hovertemplate": "Nr=59<br>fogi=%{x}<br>Score=%{y}<extra></extra>",
         "legendgroup": "59",
         "marker": {
          "color": "#FECB52",
          "symbol": "circle"
         },
         "mode": "markers",
         "name": "59",
         "orientation": "h",
         "showlegend": true,
         "type": "scatter",
         "x": [
          18.126
         ],
         "xaxis": "x",
         "y": [
          0.43396
         ],
         "yaxis": "y"
        },
        {
         "hovertemplate": "Nr=60<br>fogi=%{x}<br>Score=%{y}<extra></extra>",
         "legendgroup": "60",
         "marker": {
          "color": "#636efa",
          "symbol": "circle"
         },
         "mode": "markers",
         "name": "60",
         "orientation": "h",
         "showlegend": true,
         "type": "scatter",
         "x": [
          16.914
         ],
         "xaxis": "x",
         "y": [
          0.61635
         ],
         "yaxis": "y"
        },
        {
         "hovertemplate": "Nr=61<br>fogi=%{x}<br>Score=%{y}<extra></extra>",
         "legendgroup": "61",
         "marker": {
          "color": "#EF553B",
          "symbol": "circle"
         },
         "mode": "markers",
         "name": "61",
         "orientation": "h",
         "showlegend": true,
         "type": "scatter",
         "x": [
          16.157
         ],
         "xaxis": "x",
         "y": [
          0.69182
         ],
         "yaxis": "y"
        },
        {
         "hovertemplate": "Nr=62<br>fogi=%{x}<br>Score=%{y}<extra></extra>",
         "legendgroup": "62",
         "marker": {
          "color": "#00cc96",
          "symbol": "circle"
         },
         "mode": "markers",
         "name": "62",
         "orientation": "h",
         "showlegend": true,
         "type": "scatter",
         "x": [
          17.896
         ],
         "xaxis": "x",
         "y": [
          0.25157
         ],
         "yaxis": "y"
        },
        {
         "hovertemplate": "Nr=63<br>fogi=%{x}<br>Score=%{y}<extra></extra>",
         "legendgroup": "63",
         "marker": {
          "color": "#ab63fa",
          "symbol": "circle"
         },
         "mode": "markers",
         "name": "63",
         "orientation": "h",
         "showlegend": true,
         "type": "scatter",
         "x": [
          17.117
         ],
         "xaxis": "x",
         "y": [
          0.33333
         ],
         "yaxis": "y"
        },
        {
         "hovertemplate": "Nr=64<br>fogi=%{x}<br>Score=%{y}<extra></extra>",
         "legendgroup": "64",
         "marker": {
          "color": "#FFA15A",
          "symbol": "circle"
         },
         "mode": "markers",
         "name": "64",
         "orientation": "h",
         "showlegend": true,
         "type": "scatter",
         "x": [
          15.486
         ],
         "xaxis": "x",
         "y": [
          0.50943
         ],
         "yaxis": "y"
        },
        {
         "hovertemplate": "Nr=65<br>fogi=%{x}<br>Score=%{y}<extra></extra>",
         "legendgroup": "65",
         "marker": {
          "color": "#19d3f3",
          "symbol": "circle"
         },
         "mode": "markers",
         "name": "65",
         "orientation": "h",
         "showlegend": true,
         "type": "scatter",
         "x": [
          14.417
         ],
         "xaxis": "x",
         "y": [
          0.63522
         ],
         "yaxis": "y"
        },
        {
         "hovertemplate": "Nr=66<br>fogi=%{x}<br>Score=%{y}<extra></extra>",
         "legendgroup": "66",
         "marker": {
          "color": "#FF6692",
          "symbol": "circle"
         },
         "mode": "markers",
         "name": "66",
         "orientation": "h",
         "showlegend": true,
         "type": "scatter",
         "x": [
          17.117
         ],
         "xaxis": "x",
         "y": [
          0.25786
         ],
         "yaxis": "y"
        },
        {
         "hovertemplate": "Nr=67<br>fogi=%{x}<br>Score=%{y}<extra></extra>",
         "legendgroup": "67",
         "marker": {
          "color": "#B6E880",
          "symbol": "circle"
         },
         "mode": "markers",
         "name": "67",
         "orientation": "h",
         "showlegend": true,
         "type": "scatter",
         "x": [
          19.829
         ],
         "xaxis": "x",
         "y": [
          0.14465
         ],
         "yaxis": "y"
        },
        {
         "hovertemplate": "Nr=68<br>fogi=%{x}<br>Score=%{y}<extra></extra>",
         "legendgroup": "68",
         "marker": {
          "color": "#FF97FF",
          "symbol": "circle"
         },
         "mode": "markers",
         "name": "68",
         "orientation": "h",
         "showlegend": true,
         "type": "scatter",
         "x": [
          17.733
         ],
         "xaxis": "x",
         "y": [
          0.36478
         ],
         "yaxis": "y"
        },
        {
         "hovertemplate": "Nr=69<br>fogi=%{x}<br>Score=%{y}<extra></extra>",
         "legendgroup": "69",
         "marker": {
          "color": "#FECB52",
          "symbol": "circle"
         },
         "mode": "markers",
         "name": "69",
         "orientation": "h",
         "showlegend": true,
         "type": "scatter",
         "x": [
          19.631
         ],
         "xaxis": "x",
         "y": [
          0.08805
         ],
         "yaxis": "y"
        },
        {
         "hovertemplate": "Nr=70<br>fogi=%{x}<br>Score=%{y}<extra></extra>",
         "legendgroup": "70",
         "marker": {
          "color": "#636efa",
          "symbol": "circle"
         },
         "mode": "markers",
         "name": "70",
         "orientation": "h",
         "showlegend": true,
         "type": "scatter",
         "x": [
          19.124
         ],
         "xaxis": "x",
         "y": [
          0.53459
         ],
         "yaxis": "y"
        },
        {
         "hovertemplate": "Nr=71<br>fogi=%{x}<br>Score=%{y}<extra></extra>",
         "legendgroup": "71",
         "marker": {
          "color": "#EF553B",
          "symbol": "circle"
         },
         "mode": "markers",
         "name": "71",
         "orientation": "h",
         "showlegend": true,
         "type": "scatter",
         "x": [
          19.709
         ],
         "xaxis": "x",
         "y": [
          0.49057
         ],
         "yaxis": "y"
        },
        {
         "hovertemplate": "Nr=72<br>fogi=%{x}<br>Score=%{y}<extra></extra>",
         "legendgroup": "72",
         "marker": {
          "color": "#00cc96",
          "symbol": "circle"
         },
         "mode": "markers",
         "name": "72",
         "orientation": "h",
         "showlegend": true,
         "type": "scatter",
         "x": [
          10.939
         ],
         "xaxis": "x",
         "y": [
          0.74214
         ],
         "yaxis": "y"
        },
        {
         "hovertemplate": "Nr=73<br>fogi=%{x}<br>Score=%{y}<extra></extra>",
         "legendgroup": "73",
         "marker": {
          "color": "#ab63fa",
          "symbol": "circle"
         },
         "mode": "markers",
         "name": "73",
         "orientation": "h",
         "showlegend": true,
         "type": "scatter",
         "x": [
          15.015
         ],
         "xaxis": "x",
         "y": [
          0.59119
         ],
         "yaxis": "y"
        },
        {
         "hovertemplate": "Nr=74<br>fogi=%{x}<br>Score=%{y}<extra></extra>",
         "legendgroup": "74",
         "marker": {
          "color": "#FFA15A",
          "symbol": "circle"
         },
         "mode": "markers",
         "name": "74",
         "orientation": "h",
         "showlegend": true,
         "type": "scatter",
         "x": [
          22.8
         ],
         "xaxis": "x",
         "y": [
          0.42138
         ],
         "yaxis": "y"
        },
        {
         "hovertemplate": "Nr=75<br>fogi=%{x}<br>Score=%{y}<extra></extra>",
         "legendgroup": "75",
         "marker": {
          "color": "#19d3f3",
          "symbol": "circle"
         },
         "mode": "markers",
         "name": "75",
         "orientation": "h",
         "showlegend": true,
         "type": "scatter",
         "x": [
          18.092
         ],
         "xaxis": "x",
         "y": [
          0.15094
         ],
         "yaxis": "y"
        },
        {
         "hovertemplate": "Nr=76<br>fogi=%{x}<br>Score=%{y}<extra></extra>",
         "legendgroup": "76",
         "marker": {
          "color": "#FF6692",
          "symbol": "circle"
         },
         "mode": "markers",
         "name": "76",
         "orientation": "h",
         "showlegend": true,
         "type": "scatter",
         "x": [
          14.359
         ],
         "xaxis": "x",
         "y": [
          0.3522
         ],
         "yaxis": "y"
        },
        {
         "hovertemplate": "Nr=77<br>fogi=%{x}<br>Score=%{y}<extra></extra>",
         "legendgroup": "77",
         "marker": {
          "color": "#B6E880",
          "symbol": "circle"
         },
         "mode": "markers",
         "name": "77",
         "orientation": "h",
         "showlegend": true,
         "type": "scatter",
         "x": [
          14.417
         ],
         "xaxis": "x",
         "y": [
          0.27044
         ],
         "yaxis": "y"
        },
        {
         "hovertemplate": "Nr=78<br>fogi=%{x}<br>Score=%{y}<extra></extra>",
         "legendgroup": "78",
         "marker": {
          "color": "#FF97FF",
          "symbol": "circle"
         },
         "mode": "markers",
         "name": "78",
         "orientation": "h",
         "showlegend": true,
         "type": "scatter",
         "x": [
          14.255
         ],
         "xaxis": "x",
         "y": [
          0.93711
         ],
         "yaxis": "y"
        },
        {
         "hovertemplate": "Nr=79<br>fogi=%{x}<br>Score=%{y}<extra></extra>",
         "legendgroup": "79",
         "marker": {
          "color": "#FECB52",
          "symbol": "circle"
         },
         "mode": "markers",
         "name": "79",
         "orientation": "h",
         "showlegend": true,
         "type": "scatter",
         "x": [
          14.776
         ],
         "xaxis": "x",
         "y": [
          0.54088
         ],
         "yaxis": "y"
        },
        {
         "hovertemplate": "Nr=80<br>fogi=%{x}<br>Score=%{y}<extra></extra>",
         "legendgroup": "80",
         "marker": {
          "color": "#636efa",
          "symbol": "circle"
         },
         "mode": "markers",
         "name": "80",
         "orientation": "h",
         "showlegend": true,
         "type": "scatter",
         "x": [
          16.271
         ],
         "xaxis": "x",
         "y": [
          0.06289
         ],
         "yaxis": "y"
        },
        {
         "hovertemplate": "Nr=81<br>fogi=%{x}<br>Score=%{y}<extra></extra>",
         "legendgroup": "81",
         "marker": {
          "color": "#EF553B",
          "symbol": "circle"
         },
         "mode": "markers",
         "name": "81",
         "orientation": "h",
         "showlegend": true,
         "type": "scatter",
         "x": [
          20.205
         ],
         "xaxis": "x",
         "y": [
          0.04403
         ],
         "yaxis": "y"
        },
        {
         "hovertemplate": "Nr=82<br>fogi=%{x}<br>Score=%{y}<extra></extra>",
         "legendgroup": "82",
         "marker": {
          "color": "#00cc96",
          "symbol": "circle"
         },
         "mode": "markers",
         "name": "82",
         "orientation": "h",
         "showlegend": true,
         "type": "scatter",
         "x": [
          18.677
         ],
         "xaxis": "x",
         "y": [
          0.05031
         ],
         "yaxis": "y"
        },
        {
         "hovertemplate": "Nr=83<br>fogi=%{x}<br>Score=%{y}<extra></extra>",
         "legendgroup": "83",
         "marker": {
          "color": "#ab63fa",
          "symbol": "circle"
         },
         "mode": "markers",
         "name": "83",
         "orientation": "h",
         "showlegend": true,
         "type": "scatter",
         "x": [
          18.343
         ],
         "xaxis": "x",
         "y": [
          0.13208
         ],
         "yaxis": "y"
        },
        {
         "hovertemplate": "Nr=84<br>fogi=%{x}<br>Score=%{y}<extra></extra>",
         "legendgroup": "84",
         "marker": {
          "color": "#FFA15A",
          "symbol": "circle"
         },
         "mode": "markers",
         "name": "84",
         "orientation": "h",
         "showlegend": true,
         "type": "scatter",
         "x": [
          14.8
         ],
         "xaxis": "x",
         "y": [
          0.7044
         ],
         "yaxis": "y"
        },
        {
         "hovertemplate": "Nr=85<br>fogi=%{x}<br>Score=%{y}<extra></extra>",
         "legendgroup": "85",
         "marker": {
          "color": "#19d3f3",
          "symbol": "circle"
         },
         "mode": "markers",
         "name": "85",
         "orientation": "h",
         "showlegend": true,
         "type": "scatter",
         "x": [
          8.457
         ],
         "xaxis": "x",
         "y": [
          0.88679
         ],
         "yaxis": "y"
        },
        {
         "hovertemplate": "Nr=86<br>fogi=%{x}<br>Score=%{y}<extra></extra>",
         "legendgroup": "86",
         "marker": {
          "color": "#FF6692",
          "symbol": "circle"
         },
         "mode": "markers",
         "name": "86",
         "orientation": "h",
         "showlegend": true,
         "type": "scatter",
         "x": [
          21.286
         ],
         "xaxis": "x",
         "y": [
          0.50314
         ],
         "yaxis": "y"
        },
        {
         "hovertemplate": "Nr=87<br>fogi=%{x}<br>Score=%{y}<extra></extra>",
         "legendgroup": "87",
         "marker": {
          "color": "#B6E880",
          "symbol": "circle"
         },
         "mode": "markers",
         "name": "87",
         "orientation": "h",
         "showlegend": true,
         "type": "scatter",
         "x": [
          15.881
         ],
         "xaxis": "x",
         "y": [
          0.06918
         ],
         "yaxis": "y"
        },
        {
         "hovertemplate": "Nr=88<br>fogi=%{x}<br>Score=%{y}<extra></extra>",
         "legendgroup": "88",
         "marker": {
          "color": "#FF97FF",
          "symbol": "circle"
         },
         "mode": "markers",
         "name": "88",
         "orientation": "h",
         "showlegend": true,
         "type": "scatter",
         "x": [
          20.857
         ],
         "xaxis": "x",
         "y": [
          0.20126
         ],
         "yaxis": "y"
        },
        {
         "hovertemplate": "Nr=89<br>fogi=%{x}<br>Score=%{y}<extra></extra>",
         "legendgroup": "89",
         "marker": {
          "color": "#FECB52",
          "symbol": "circle"
         },
         "mode": "markers",
         "name": "89",
         "orientation": "h",
         "showlegend": true,
         "type": "scatter",
         "x": [
          12.678
         ],
         "xaxis": "x",
         "y": [
          0.40881
         ],
         "yaxis": "y"
        },
        {
         "hovertemplate": "Nr=90<br>fogi=%{x}<br>Score=%{y}<extra></extra>",
         "legendgroup": "90",
         "marker": {
          "color": "#636efa",
          "symbol": "circle"
         },
         "mode": "markers",
         "name": "90",
         "orientation": "h",
         "showlegend": true,
         "type": "scatter",
         "x": [
          19.991
         ],
         "xaxis": "x",
         "y": [
          0.15723
         ],
         "yaxis": "y"
        },
        {
         "hovertemplate": "Nr=91<br>fogi=%{x}<br>Score=%{y}<extra></extra>",
         "legendgroup": "91",
         "marker": {
          "color": "#EF553B",
          "symbol": "circle"
         },
         "mode": "markers",
         "name": "91",
         "orientation": "h",
         "showlegend": true,
         "type": "scatter",
         "x": [
          10.877
         ],
         "xaxis": "x",
         "y": [
          0.38365
         ],
         "yaxis": "y"
        },
        {
         "hovertemplate": "Nr=92<br>fogi=%{x}<br>Score=%{y}<extra></extra>",
         "legendgroup": "92",
         "marker": {
          "color": "#00cc96",
          "symbol": "circle"
         },
         "mode": "markers",
         "name": "92",
         "orientation": "h",
         "showlegend": true,
         "type": "scatter",
         "x": [
          26.947
         ],
         "xaxis": "x",
         "y": [
          0.01887
         ],
         "yaxis": "y"
        },
        {
         "hovertemplate": "Nr=93<br>fogi=%{x}<br>Score=%{y}<extra></extra>",
         "legendgroup": "93",
         "marker": {
          "color": "#ab63fa",
          "symbol": "circle"
         },
         "mode": "markers",
         "name": "93",
         "orientation": "h",
         "showlegend": true,
         "type": "scatter",
         "x": [
          11.467
         ],
         "xaxis": "x",
         "y": [
          0.90566
         ],
         "yaxis": "y"
        },
        {
         "hovertemplate": "Nr=94<br>fogi=%{x}<br>Score=%{y}<extra></extra>",
         "legendgroup": "94",
         "marker": {
          "color": "#FFA15A",
          "symbol": "circle"
         },
         "mode": "markers",
         "name": "94",
         "orientation": "h",
         "showlegend": true,
         "type": "scatter",
         "x": [
          16
         ],
         "xaxis": "x",
         "y": [
          0.48428
         ],
         "yaxis": "y"
        },
        {
         "hovertemplate": "Nr=95<br>fogi=%{x}<br>Score=%{y}<extra></extra>",
         "legendgroup": "95",
         "marker": {
          "color": "#19d3f3",
          "symbol": "circle"
         },
         "mode": "markers",
         "name": "95",
         "orientation": "h",
         "showlegend": true,
         "type": "scatter",
         "x": [
          17.129
         ],
         "xaxis": "x",
         "y": [
          0.23899
         ],
         "yaxis": "y"
        },
        {
         "hovertemplate": "Nr=96<br>fogi=%{x}<br>Score=%{y}<extra></extra>",
         "legendgroup": "96",
         "marker": {
          "color": "#FF6692",
          "symbol": "circle"
         },
         "mode": "markers",
         "name": "96",
         "orientation": "h",
         "showlegend": true,
         "type": "scatter",
         "x": [
          15.015
         ],
         "xaxis": "x",
         "y": [
          0.60377
         ],
         "yaxis": "y"
        },
        {
         "hovertemplate": "Nr=97<br>fogi=%{x}<br>Score=%{y}<extra></extra>",
         "legendgroup": "97",
         "marker": {
          "color": "#B6E880",
          "symbol": "circle"
         },
         "mode": "markers",
         "name": "97",
         "orientation": "h",
         "showlegend": true,
         "type": "scatter",
         "x": [
          18.945
         ],
         "xaxis": "x",
         "y": [
          0.65409
         ],
         "yaxis": "y"
        },
        {
         "hovertemplate": "Nr=98<br>fogi=%{x}<br>Score=%{y}<extra></extra>",
         "legendgroup": "98",
         "marker": {
          "color": "#FF97FF",
          "symbol": "circle"
         },
         "mode": "markers",
         "name": "98",
         "orientation": "h",
         "showlegend": true,
         "type": "scatter",
         "x": [
          14.417
         ],
         "xaxis": "x",
         "y": [
          0.74843
         ],
         "yaxis": "y"
        },
        {
         "hovertemplate": "Nr=99<br>fogi=%{x}<br>Score=%{y}<extra></extra>",
         "legendgroup": "99",
         "marker": {
          "color": "#FECB52",
          "symbol": "circle"
         },
         "mode": "markers",
         "name": "99",
         "orientation": "h",
         "showlegend": true,
         "type": "scatter",
         "x": [
          16
         ],
         "xaxis": "x",
         "y": [
          0.11321
         ],
         "yaxis": "y"
        },
        {
         "hovertemplate": "Nr=100<br>fogi=%{x}<br>Score=%{y}<extra></extra>",
         "legendgroup": "100",
         "marker": {
          "color": "#636efa",
          "symbol": "circle"
         },
         "mode": "markers",
         "name": "100",
         "orientation": "h",
         "showlegend": true,
         "type": "scatter",
         "x": [
          12
         ],
         "xaxis": "x",
         "y": [
          0.72327
         ],
         "yaxis": "y"
        },
        {
         "hovertemplate": "Nr=101<br>fogi=%{x}<br>Score=%{y}<extra></extra>",
         "legendgroup": "101",
         "marker": {
          "color": "#EF553B",
          "symbol": "circle"
         },
         "mode": "markers",
         "name": "101",
         "orientation": "h",
         "showlegend": true,
         "type": "scatter",
         "x": [
          21.236
         ],
         "xaxis": "x",
         "y": [
          0
         ],
         "yaxis": "y"
        },
        {
         "hovertemplate": "Nr=102<br>fogi=%{x}<br>Score=%{y}<extra></extra>",
         "legendgroup": "102",
         "marker": {
          "color": "#00cc96",
          "symbol": "circle"
         },
         "mode": "markers",
         "name": "102",
         "orientation": "h",
         "showlegend": true,
         "type": "scatter",
         "x": [
          11.4
         ],
         "xaxis": "x",
         "y": [
          0.77358
         ],
         "yaxis": "y"
        },
        {
         "hovertemplate": "Nr=103<br>fogi=%{x}<br>Score=%{y}<extra></extra>",
         "legendgroup": "103",
         "marker": {
          "color": "#ab63fa",
          "symbol": "circle"
         },
         "mode": "markers",
         "name": "103",
         "orientation": "h",
         "showlegend": true,
         "type": "scatter",
         "x": [
          18.311
         ],
         "xaxis": "x",
         "y": [
          0.27673
         ],
         "yaxis": "y"
        },
        {
         "hovertemplate": "Nr=104<br>fogi=%{x}<br>Score=%{y}<extra></extra>",
         "legendgroup": "104",
         "marker": {
          "color": "#FFA15A",
          "symbol": "circle"
         },
         "mode": "markers",
         "name": "104",
         "orientation": "h",
         "showlegend": true,
         "type": "scatter",
         "x": [
          15.015
         ],
         "xaxis": "x",
         "y": [
          0.26415
         ],
         "yaxis": "y"
        },
        {
         "hovertemplate": "Nr=105<br>fogi=%{x}<br>Score=%{y}<extra></extra>",
         "legendgroup": "105",
         "marker": {
          "color": "#19d3f3",
          "symbol": "circle"
         },
         "mode": "markers",
         "name": "105",
         "orientation": "h",
         "showlegend": true,
         "type": "scatter",
         "x": [
          13.763
         ],
         "xaxis": "x",
         "y": [
          0.16981
         ],
         "yaxis": "y"
        },
        {
         "hovertemplate": "Nr=106<br>fogi=%{x}<br>Score=%{y}<extra></extra>",
         "legendgroup": "106",
         "marker": {
          "color": "#FF6692",
          "symbol": "circle"
         },
         "mode": "markers",
         "name": "106",
         "orientation": "h",
         "showlegend": true,
         "type": "scatter",
         "x": [
          16.073
         ],
         "xaxis": "x",
         "y": [
          0.22642
         ],
         "yaxis": "y"
        },
        {
         "hovertemplate": "Nr=107<br>fogi=%{x}<br>Score=%{y}<extra></extra>",
         "legendgroup": "107",
         "marker": {
          "color": "#B6E880",
          "symbol": "circle"
         },
         "mode": "markers",
         "name": "107",
         "orientation": "h",
         "showlegend": true,
         "type": "scatter",
         "x": [
          12.489
         ],
         "xaxis": "x",
         "y": [
          0.71698
         ],
         "yaxis": "y"
        },
        {
         "hovertemplate": "Nr=108<br>fogi=%{x}<br>Score=%{y}<extra></extra>",
         "legendgroup": "108",
         "marker": {
          "color": "#FF97FF",
          "symbol": "circle"
         },
         "mode": "markers",
         "name": "108",
         "orientation": "h",
         "showlegend": true,
         "type": "scatter",
         "x": [
          22.652
         ],
         "xaxis": "x",
         "y": [
          0.54717
         ],
         "yaxis": "y"
        },
        {
         "hovertemplate": "Nr=109<br>fogi=%{x}<br>Score=%{y}<extra></extra>",
         "legendgroup": "109",
         "marker": {
          "color": "#FECB52",
          "symbol": "circle"
         },
         "mode": "markers",
         "name": "109",
         "orientation": "h",
         "showlegend": true,
         "type": "scatter",
         "x": [
          20.3
         ],
         "xaxis": "x",
         "y": [
          0.07547
         ],
         "yaxis": "y"
        },
        {
         "hovertemplate": "Nr=110<br>fogi=%{x}<br>Score=%{y}<extra></extra>",
         "legendgroup": "110",
         "marker": {
          "color": "#636efa",
          "symbol": "circle"
         },
         "mode": "markers",
         "name": "110",
         "orientation": "h",
         "showlegend": true,
         "type": "scatter",
         "x": [
          19.778
         ],
         "xaxis": "x",
         "y": [
          0.33962
         ],
         "yaxis": "y"
        },
        {
         "hovertemplate": "Nr=111<br>fogi=%{x}<br>Score=%{y}<extra></extra>",
         "legendgroup": "111",
         "marker": {
          "color": "#EF553B",
          "symbol": "circle"
         },
         "mode": "markers",
         "name": "111",
         "orientation": "h",
         "showlegend": true,
         "type": "scatter",
         "x": [
          10.877
         ],
         "xaxis": "x",
         "y": [
          0.08176
         ],
         "yaxis": "y"
        },
        {
         "hovertemplate": "Nr=112<br>fogi=%{x}<br>Score=%{y}<extra></extra>",
         "legendgroup": "112",
         "marker": {
          "color": "#00cc96",
          "symbol": "circle"
         },
         "mode": "markers",
         "name": "112",
         "orientation": "h",
         "showlegend": true,
         "type": "scatter",
         "x": [
          10.429
         ],
         "xaxis": "x",
         "y": [
          0.30189
         ],
         "yaxis": "y"
        },
        {
         "hovertemplate": "Nr=113<br>fogi=%{x}<br>Score=%{y}<extra></extra>",
         "legendgroup": "113",
         "marker": {
          "color": "#ab63fa",
          "symbol": "circle"
         },
         "mode": "markers",
         "name": "113",
         "orientation": "h",
         "showlegend": true,
         "type": "scatter",
         "x": [
          17.896
         ],
         "xaxis": "x",
         "y": [
          0.34591
         ],
         "yaxis": "y"
        },
        {
         "hovertemplate": "Nr=114<br>fogi=%{x}<br>Score=%{y}<extra></extra>",
         "legendgroup": "114",
         "marker": {
          "color": "#FFA15A",
          "symbol": "circle"
         },
         "mode": "markers",
         "name": "114",
         "orientation": "h",
         "showlegend": true,
         "type": "scatter",
         "x": [
          16.914
         ],
         "xaxis": "x",
         "y": [
          0.18868
         ],
         "yaxis": "y"
        },
        {
         "hovertemplate": "Nr=115<br>fogi=%{x}<br>Score=%{y}<extra></extra>",
         "legendgroup": "115",
         "marker": {
          "color": "#19d3f3",
          "symbol": "circle"
         },
         "mode": "markers",
         "name": "115",
         "orientation": "h",
         "showlegend": true,
         "type": "scatter",
         "x": [
          13.9
         ],
         "xaxis": "x",
         "y": [
          0.28931
         ],
         "yaxis": "y"
        },
        {
         "hovertemplate": "Nr=116<br>fogi=%{x}<br>Score=%{y}<extra></extra>",
         "legendgroup": "116",
         "marker": {
          "color": "#FF6692",
          "symbol": "circle"
         },
         "mode": "markers",
         "name": "116",
         "orientation": "h",
         "showlegend": true,
         "type": "scatter",
         "x": [
          12.863
         ],
         "xaxis": "x",
         "y": [
          0.21384
         ],
         "yaxis": "y"
        },
        {
         "hovertemplate": "Nr=117<br>fogi=%{x}<br>Score=%{y}<extra></extra>",
         "legendgroup": "117",
         "marker": {
          "color": "#B6E880",
          "symbol": "circle"
         },
         "mode": "markers",
         "name": "117",
         "orientation": "h",
         "showlegend": true,
         "type": "scatter",
         "x": [
          25.314
         ],
         "xaxis": "x",
         "y": [
          0.16352
         ],
         "yaxis": "y"
        },
        {
         "hovertemplate": "Nr=118<br>fogi=%{x}<br>Score=%{y}<extra></extra>",
         "legendgroup": "118",
         "marker": {
          "color": "#FF97FF",
          "symbol": "circle"
         },
         "mode": "markers",
         "name": "118",
         "orientation": "h",
         "showlegend": true,
         "type": "scatter",
         "x": [
          16.836
         ],
         "xaxis": "x",
         "y": [
          0.62893
         ],
         "yaxis": "y"
        },
        {
         "hovertemplate": "Nr=119<br>fogi=%{x}<br>Score=%{y}<extra></extra>",
         "legendgroup": "119",
         "marker": {
          "color": "#FECB52",
          "symbol": "circle"
         },
         "mode": "markers",
         "name": "119",
         "orientation": "h",
         "showlegend": true,
         "type": "scatter",
         "x": [
          16.726
         ],
         "xaxis": "x",
         "y": [
          0.03774
         ],
         "yaxis": "y"
        },
        {
         "hovertemplate": "Nr=120<br>fogi=%{x}<br>Score=%{y}<extra></extra>",
         "legendgroup": "120",
         "marker": {
          "color": "#636efa",
          "symbol": "circle"
         },
         "mode": "markers",
         "name": "120",
         "orientation": "h",
         "showlegend": true,
         "type": "scatter",
         "x": [
          16.212
         ],
         "xaxis": "x",
         "y": [
          0.87421
         ],
         "yaxis": "y"
        },
        {
         "hovertemplate": "Nr=121<br>fogi=%{x}<br>Score=%{y}<extra></extra>",
         "legendgroup": "121",
         "marker": {
          "color": "#EF553B",
          "symbol": "circle"
         },
         "mode": "markers",
         "name": "121",
         "orientation": "h",
         "showlegend": true,
         "type": "scatter",
         "x": [
          14.8
         ],
         "xaxis": "x",
         "y": [
          0.73585
         ],
         "yaxis": "y"
        },
        {
         "hovertemplate": "Nr=122<br>fogi=%{x}<br>Score=%{y}<extra></extra>",
         "legendgroup": "122",
         "marker": {
          "color": "#00cc96",
          "symbol": "circle"
         },
         "mode": "markers",
         "name": "122",
         "orientation": "h",
         "showlegend": true,
         "type": "scatter",
         "x": [
          16.914
         ],
         "xaxis": "x",
         "y": [
          0.44025
         ],
         "yaxis": "y"
        },
        {
         "hovertemplate": "Nr=123<br>fogi=%{x}<br>Score=%{y}<extra></extra>",
         "legendgroup": "123",
         "marker": {
          "color": "#ab63fa",
          "symbol": "circle"
         },
         "mode": "markers",
         "name": "123",
         "orientation": "h",
         "showlegend": true,
         "type": "scatter",
         "x": [
          12.933
         ],
         "xaxis": "x",
         "y": [
          0.32704
         ],
         "yaxis": "y"
        },
        {
         "hovertemplate": "Nr=124<br>fogi=%{x}<br>Score=%{y}<extra></extra>",
         "legendgroup": "124",
         "marker": {
          "color": "#FFA15A",
          "symbol": "circle"
         },
         "mode": "markers",
         "name": "124",
         "orientation": "h",
         "showlegend": true,
         "type": "scatter",
         "x": [
          13.867
         ],
         "xaxis": "x",
         "y": [
          0.46541
         ],
         "yaxis": "y"
        },
        {
         "hovertemplate": "Nr=125<br>fogi=%{x}<br>Score=%{y}<extra></extra>",
         "legendgroup": "125",
         "marker": {
          "color": "#19d3f3",
          "symbol": "circle"
         },
         "mode": "markers",
         "name": "125",
         "orientation": "h",
         "showlegend": true,
         "type": "scatter",
         "x": [
          11.938
         ],
         "xaxis": "x",
         "y": [
          0.57862
         ],
         "yaxis": "y"
        },
        {
         "hovertemplate": "Nr=126<br>fogi=%{x}<br>Score=%{y}<extra></extra>",
         "legendgroup": "126",
         "marker": {
          "color": "#FF6692",
          "symbol": "circle"
         },
         "mode": "markers",
         "name": "126",
         "orientation": "h",
         "showlegend": true,
         "type": "scatter",
         "x": [
          15.244
         ],
         "xaxis": "x",
         "y": [
          0.8239
         ],
         "yaxis": "y"
        },
        {
         "hovertemplate": "Nr=127<br>fogi=%{x}<br>Score=%{y}<extra></extra>",
         "legendgroup": "127",
         "marker": {
          "color": "#B6E880",
          "symbol": "circle"
         },
         "mode": "markers",
         "name": "127",
         "orientation": "h",
         "showlegend": true,
         "type": "scatter",
         "x": [
          13.763
         ],
         "xaxis": "x",
         "y": [
          0.96855
         ],
         "yaxis": "y"
        },
        {
         "hovertemplate": "Nr=128<br>fogi=%{x}<br>Score=%{y}<extra></extra>",
         "legendgroup": "128",
         "marker": {
          "color": "#FF97FF",
          "symbol": "circle"
         },
         "mode": "markers",
         "name": "128",
         "orientation": "h",
         "showlegend": true,
         "type": "scatter",
         "x": [
          14.417
         ],
         "xaxis": "x",
         "y": [
          0.85535
         ],
         "yaxis": "y"
        },
        {
         "hovertemplate": "Nr=129<br>fogi=%{x}<br>Score=%{y}<extra></extra>",
         "legendgroup": "129",
         "marker": {
          "color": "#FECB52",
          "symbol": "circle"
         },
         "mode": "markers",
         "name": "129",
         "orientation": "h",
         "showlegend": true,
         "type": "scatter",
         "x": [
          18.207
         ],
         "xaxis": "x",
         "y": [
          0.45283
         ],
         "yaxis": "y"
        },
        {
         "hovertemplate": "Nr=130<br>fogi=%{x}<br>Score=%{y}<extra></extra>",
         "legendgroup": "130",
         "marker": {
          "color": "#636efa",
          "symbol": "circle"
         },
         "mode": "markers",
         "name": "130",
         "orientation": "h",
         "showlegend": true,
         "type": "scatter",
         "x": [
          17.924
         ],
         "xaxis": "x",
         "y": [
          0.91824
         ],
         "yaxis": "y"
        },
        {
         "hovertemplate": "Nr=131<br>fogi=%{x}<br>Score=%{y}<extra></extra>",
         "legendgroup": "131",
         "marker": {
          "color": "#EF553B",
          "symbol": "circle"
         },
         "mode": "markers",
         "name": "131",
         "orientation": "h",
         "showlegend": true,
         "type": "scatter",
         "x": [
          17.117
         ],
         "xaxis": "x",
         "y": [
          0.47799
         ],
         "yaxis": "y"
        },
        {
         "hovertemplate": "Nr=132<br>fogi=%{x}<br>Score=%{y}<extra></extra>",
         "legendgroup": "132",
         "marker": {
          "color": "#00cc96",
          "symbol": "circle"
         },
         "mode": "markers",
         "name": "132",
         "orientation": "h",
         "showlegend": true,
         "type": "scatter",
         "x": [
          17.933
         ],
         "xaxis": "x",
         "y": [
          0.67296
         ],
         "yaxis": "y"
        },
        {
         "hovertemplate": "Nr=133<br>fogi=%{x}<br>Score=%{y}<extra></extra>",
         "legendgroup": "133",
         "marker": {
          "color": "#ab63fa",
          "symbol": "circle"
         },
         "mode": "markers",
         "name": "133",
         "orientation": "h",
         "showlegend": true,
         "type": "scatter",
         "x": [
          12.21
         ],
         "xaxis": "x",
         "y": [
          0.6478
         ],
         "yaxis": "y"
        },
        {
         "hovertemplate": "Nr=134<br>fogi=%{x}<br>Score=%{y}<extra></extra>",
         "legendgroup": "134",
         "marker": {
          "color": "#FFA15A",
          "symbol": "circle"
         },
         "mode": "markers",
         "name": "134",
         "orientation": "h",
         "showlegend": true,
         "type": "scatter",
         "x": [
          9.705
         ],
         "xaxis": "x",
         "y": [
          0.83019
         ],
         "yaxis": "y"
        },
        {
         "hovertemplate": "Nr=135<br>fogi=%{x}<br>Score=%{y}<extra></extra>",
         "legendgroup": "135",
         "marker": {
          "color": "#19d3f3",
          "symbol": "circle"
         },
         "mode": "markers",
         "name": "135",
         "orientation": "h",
         "showlegend": true,
         "type": "scatter",
         "x": [
          16
         ],
         "xaxis": "x",
         "y": [
          0.98742
         ],
         "yaxis": "y"
        },
        {
         "hovertemplate": "Nr=136<br>fogi=%{x}<br>Score=%{y}<extra></extra>",
         "legendgroup": "136",
         "marker": {
          "color": "#FF6692",
          "symbol": "circle"
         },
         "mode": "markers",
         "name": "136",
         "orientation": "h",
         "showlegend": true,
         "type": "scatter",
         "x": [
          13.916
         ],
         "xaxis": "x",
         "y": [
          0.44654
         ],
         "yaxis": "y"
        },
        {
         "hovertemplate": "Nr=137<br>fogi=%{x}<br>Score=%{y}<extra></extra>",
         "legendgroup": "137",
         "marker": {
          "color": "#B6E880",
          "symbol": "circle"
         },
         "mode": "markers",
         "name": "137",
         "orientation": "h",
         "showlegend": true,
         "type": "scatter",
         "x": [
          19.6
         ],
         "xaxis": "x",
         "y": [
          0.35849
         ],
         "yaxis": "y"
        },
        {
         "hovertemplate": "Nr=138<br>fogi=%{x}<br>Score=%{y}<extra></extra>",
         "legendgroup": "138",
         "marker": {
          "color": "#FF97FF",
          "symbol": "circle"
         },
         "mode": "markers",
         "name": "138",
         "orientation": "h",
         "showlegend": true,
         "type": "scatter",
         "x": [
          11.354
         ],
         "xaxis": "x",
         "y": [
          0.93082
         ],
         "yaxis": "y"
        },
        {
         "hovertemplate": "Nr=139<br>fogi=%{x}<br>Score=%{y}<extra></extra>",
         "legendgroup": "139",
         "marker": {
          "color": "#FECB52",
          "symbol": "circle"
         },
         "mode": "markers",
         "name": "139",
         "orientation": "h",
         "showlegend": true,
         "type": "scatter",
         "x": [
          14.171
         ],
         "xaxis": "x",
         "y": [
          0.75472
         ],
         "yaxis": "y"
        },
        {
         "hovertemplate": "Nr=140<br>fogi=%{x}<br>Score=%{y}<extra></extra>",
         "legendgroup": "140",
         "marker": {
          "color": "#636efa",
          "symbol": "circle"
         },
         "mode": "markers",
         "name": "140",
         "orientation": "h",
         "showlegend": true,
         "type": "scatter",
         "x": [
          9.153
         ],
         "xaxis": "x",
         "y": [
          0.94969
         ],
         "yaxis": "y"
        },
        {
         "hovertemplate": "Nr=141<br>fogi=%{x}<br>Score=%{y}<extra></extra>",
         "legendgroup": "141",
         "marker": {
          "color": "#EF553B",
          "symbol": "circle"
         },
         "mode": "markers",
         "name": "141",
         "orientation": "h",
         "showlegend": true,
         "type": "scatter",
         "x": [
          12.436
         ],
         "xaxis": "x",
         "y": [
          0.89308
         ],
         "yaxis": "y"
        },
        {
         "hovertemplate": "Nr=142<br>fogi=%{x}<br>Score=%{y}<extra></extra>",
         "legendgroup": "142",
         "marker": {
          "color": "#00cc96",
          "symbol": "circle"
         },
         "mode": "markers",
         "name": "142",
         "orientation": "h",
         "showlegend": true,
         "type": "scatter",
         "x": [
          20.232
         ],
         "xaxis": "x",
         "y": [
          0.10063
         ],
         "yaxis": "y"
        },
        {
         "hovertemplate": "Nr=143<br>fogi=%{x}<br>Score=%{y}<extra></extra>",
         "legendgroup": "143",
         "marker": {
          "color": "#ab63fa",
          "symbol": "circle"
         },
         "mode": "markers",
         "name": "143",
         "orientation": "h",
         "showlegend": true,
         "type": "scatter",
         "x": [
          7.6
         ],
         "xaxis": "x",
         "y": [
          0.71069
         ],
         "yaxis": "y"
        },
        {
         "hovertemplate": "Nr=144<br>fogi=%{x}<br>Score=%{y}<extra></extra>",
         "legendgroup": "144",
         "marker": {
          "color": "#FFA15A",
          "symbol": "circle"
         },
         "mode": "markers",
         "name": "144",
         "orientation": "h",
         "showlegend": true,
         "type": "scatter",
         "x": [
          14
         ],
         "xaxis": "x",
         "y": [
          0.81132
         ],
         "yaxis": "y"
        },
        {
         "hovertemplate": "Nr=145<br>fogi=%{x}<br>Score=%{y}<extra></extra>",
         "legendgroup": "145",
         "marker": {
          "color": "#19d3f3",
          "symbol": "circle"
         },
         "mode": "markers",
         "name": "145",
         "orientation": "h",
         "showlegend": true,
         "type": "scatter",
         "x": [
          8.044
         ],
         "xaxis": "x",
         "y": [
          0.99371
         ],
         "yaxis": "y"
        },
        {
         "hovertemplate": "Nr=146<br>fogi=%{x}<br>Score=%{y}<extra></extra>",
         "legendgroup": "146",
         "marker": {
          "color": "#FF6692",
          "symbol": "circle"
         },
         "mode": "markers",
         "name": "146",
         "orientation": "h",
         "showlegend": true,
         "type": "scatter",
         "x": [
          10
         ],
         "xaxis": "x",
         "y": [
          0.8805
         ],
         "yaxis": "y"
        },
        {
         "hovertemplate": "Nr=147<br>fogi=%{x}<br>Score=%{y}<extra></extra>",
         "legendgroup": "147",
         "marker": {
          "color": "#B6E880",
          "symbol": "circle"
         },
         "mode": "markers",
         "name": "147",
         "orientation": "h",
         "showlegend": true,
         "type": "scatter",
         "x": [
          8.9
         ],
         "xaxis": "x",
         "y": [
          0.96226
         ],
         "yaxis": "y"
        },
        {
         "hovertemplate": "Nr=148<br>fogi=%{x}<br>Score=%{y}<extra></extra>",
         "legendgroup": "148",
         "marker": {
          "color": "#FF97FF",
          "symbol": "circle"
         },
         "mode": "markers",
         "name": "148",
         "orientation": "h",
         "showlegend": true,
         "type": "scatter",
         "x": [
          12.436
         ],
         "xaxis": "x",
         "y": [
          0.79245
         ],
         "yaxis": "y"
        },
        {
         "hovertemplate": "Nr=149<br>fogi=%{x}<br>Score=%{y}<extra></extra>",
         "legendgroup": "149",
         "marker": {
          "color": "#FECB52",
          "symbol": "circle"
         },
         "mode": "markers",
         "name": "149",
         "orientation": "h",
         "showlegend": true,
         "type": "scatter",
         "x": [
          10.305
         ],
         "xaxis": "x",
         "y": [
          0.89937
         ],
         "yaxis": "y"
        },
        {
         "hovertemplate": "Nr=150<br>fogi=%{x}<br>Score=%{y}<extra></extra>",
         "legendgroup": "150",
         "marker": {
          "color": "#636efa",
          "symbol": "circle"
         },
         "mode": "markers",
         "name": "150",
         "orientation": "h",
         "showlegend": true,
         "type": "scatter",
         "x": [
          11.467
         ],
         "xaxis": "x",
         "y": [
          0.86792
         ],
         "yaxis": "y"
        },
        {
         "hovertemplate": "Nr=151<br>fogi=%{x}<br>Score=%{y}<extra></extra>",
         "legendgroup": "151",
         "marker": {
          "color": "#EF553B",
          "symbol": "circle"
         },
         "mode": "markers",
         "name": "151",
         "orientation": "h",
         "showlegend": true,
         "type": "scatter",
         "x": [
          18.565
         ],
         "xaxis": "x",
         "y": [
          0.64151
         ],
         "yaxis": "y"
        },
        {
         "hovertemplate": "Nr=152<br>fogi=%{x}<br>Score=%{y}<extra></extra>",
         "legendgroup": "152",
         "marker": {
          "color": "#00cc96",
          "symbol": "circle"
         },
         "mode": "markers",
         "name": "152",
         "orientation": "h",
         "showlegend": true,
         "type": "scatter",
         "x": [
          11.333
         ],
         "xaxis": "x",
         "y": [
          0.92453
         ],
         "yaxis": "y"
        },
        {
         "hovertemplate": "Nr=153<br>fogi=%{x}<br>Score=%{y}<extra></extra>",
         "legendgroup": "153",
         "marker": {
          "color": "#ab63fa",
          "symbol": "circle"
         },
         "mode": "markers",
         "name": "153",
         "orientation": "h",
         "showlegend": true,
         "type": "scatter",
         "x": [
          3.6
         ],
         "xaxis": "x",
         "y": [
          1
         ],
         "yaxis": "y"
        },
        {
         "hovertemplate": "Nr=154<br>fogi=%{x}<br>Score=%{y}<extra></extra>",
         "legendgroup": "154",
         "marker": {
          "color": "#FFA15A",
          "symbol": "circle"
         },
         "mode": "markers",
         "name": "154",
         "orientation": "h",
         "showlegend": true,
         "type": "scatter",
         "x": [
          11.811
         ],
         "xaxis": "x",
         "y": [
          0.83648
         ],
         "yaxis": "y"
        },
        {
         "hovertemplate": "Nr=155<br>fogi=%{x}<br>Score=%{y}<extra></extra>",
         "legendgroup": "155",
         "marker": {
          "color": "#19d3f3",
          "symbol": "circle"
         },
         "mode": "markers",
         "name": "155",
         "orientation": "h",
         "showlegend": true,
         "type": "scatter",
         "x": [
          9.705
         ],
         "xaxis": "x",
         "y": [
          0.68553
         ],
         "yaxis": "y"
        },
        {
         "hovertemplate": "Nr=156<br>fogi=%{x}<br>Score=%{y}<extra></extra>",
         "legendgroup": "156",
         "marker": {
          "color": "#FF6692",
          "symbol": "circle"
         },
         "mode": "markers",
         "name": "156",
         "orientation": "h",
         "showlegend": true,
         "type": "scatter",
         "x": [
          10.939
         ],
         "xaxis": "x",
         "y": [
          0.77987
         ],
         "yaxis": "y"
        },
        {
         "hovertemplate": "Nr=157<br>fogi=%{x}<br>Score=%{y}<extra></extra>",
         "legendgroup": "157",
         "marker": {
          "color": "#B6E880",
          "symbol": "circle"
         },
         "mode": "markers",
         "name": "157",
         "orientation": "h",
         "showlegend": true,
         "type": "scatter",
         "x": [
          8.9
         ],
         "xaxis": "x",
         "y": [
          0.95597
         ],
         "yaxis": "y"
        },
        {
         "hovertemplate": "Nr=158<br>fogi=%{x}<br>Score=%{y}<extra></extra>",
         "legendgroup": "158",
         "marker": {
          "color": "#FF97FF",
          "symbol": "circle"
         },
         "mode": "markers",
         "name": "158",
         "orientation": "h",
         "showlegend": true,
         "type": "scatter",
         "x": [
          8.277
         ],
         "xaxis": "x",
         "y": [
          0.98113
         ],
         "yaxis": "y"
        },
        {
         "hovertemplate": "Nr=159<br>fogi=%{x}<br>Score=%{y}<extra></extra>",
         "legendgroup": "159",
         "marker": {
          "color": "#FECB52",
          "symbol": "circle"
         },
         "mode": "markers",
         "name": "159",
         "orientation": "h",
         "showlegend": true,
         "type": "scatter",
         "x": [
          8.9
         ],
         "xaxis": "x",
         "y": [
          0.91195
         ],
         "yaxis": "y"
        },
        {
         "hovertemplate": "<b>OLS trendline</b><br>Score = -0.0367837 * fogi + 1.0622<br>R<sup>2</sup>=0.326262<br><br>fogi=%{x}<br>Score=%{y} <b>(trend)</b><extra></extra>",
         "legendgroup": "Overall Trendline",
         "line": {
          "color": "#636efa"
         },
         "mode": "lines",
         "name": "Overall Trendline",
         "showlegend": true,
         "type": "scatter",
         "x": [
          3.6,
          5.6,
          6.4,
          7.2,
          7.6,
          8.036,
          8.044,
          8.277,
          8.277,
          8.457,
          8.559,
          8.9,
          8.9,
          8.9,
          9.153,
          9.705,
          9.705,
          9.705,
          9.844,
          9.914,
          10,
          10.305,
          10.305,
          10.329,
          10.429,
          10.877,
          10.877,
          10.877,
          10.939,
          10.939,
          11.333,
          11.354,
          11.4,
          11.4,
          11.4,
          11.467,
          11.467,
          11.506,
          11.811,
          11.811,
          11.903,
          11.938,
          12,
          12.21,
          12.21,
          12.281,
          12.436,
          12.436,
          12.489,
          12.678,
          12.863,
          12.928,
          12.933,
          12.933,
          13.2,
          13.477,
          13.763,
          13.763,
          13.867,
          13.9,
          13.916,
          13.916,
          14,
          14.114,
          14.171,
          14.255,
          14.359,
          14.417,
          14.417,
          14.417,
          14.417,
          14.6,
          14.6,
          14.667,
          14.776,
          14.8,
          14.8,
          15.015,
          15.015,
          15.015,
          15.143,
          15.244,
          15.244,
          15.486,
          15.486,
          15.881,
          16,
          16,
          16,
          16.073,
          16.073,
          16.073,
          16.157,
          16.212,
          16.212,
          16.271,
          16.4,
          16.626,
          16.726,
          16.726,
          16.836,
          16.914,
          16.914,
          16.914,
          17.117,
          17.117,
          17.117,
          17.129,
          17.561,
          17.733,
          17.896,
          17.896,
          17.924,
          17.933,
          17.933,
          18,
          18,
          18.092,
          18.126,
          18.126,
          18.207,
          18.306,
          18.311,
          18.343,
          18.343,
          18.565,
          18.667,
          18.677,
          18.945,
          19.124,
          19.6,
          19.6,
          19.631,
          19.709,
          19.778,
          19.829,
          19.991,
          20,
          20.205,
          20.232,
          20.3,
          20.473,
          20.857,
          21.2,
          21.2,
          21.236,
          21.278,
          21.286,
          21.835,
          22.368,
          22.652,
          22.779,
          22.779,
          22.8,
          24.188,
          25.314,
          25.371,
          26,
          26.947,
          27.712
         ],
         "xaxis": "x",
         "y": [
          0.9297826986646531,
          0.856215201356526,
          0.826788202433275,
          0.7973612035100242,
          0.7826477040483988,
          0.766609989635227,
          0.7663157196459944,
          0.7577451062095977,
          0.7577451062095977,
          0.7511240314518661,
          0.7473720890891518,
          0.734828830798116,
          0.734828830798116,
          0.734828830798116,
          0.7255225423886379,
          0.7052179131315948,
          0.7052179131315948,
          0.7052179131315948,
          0.70010497206868,
          0.6975301096628955,
          0.694366707278646,
          0.6831476639391567,
          0.6831476639391567,
          0.6822648539714591,
          0.6785864791060527,
          0.6621073597090322,
          0.6621073597090322,
          0.6621073597090322,
          0.6598267672924802,
          0.6598267672924802,
          0.6453339703227792,
          0.6445615116010439,
          0.6428694591629569,
          0.6428694591629569,
          0.6428694591629569,
          0.6404049480031346,
          0.6404049480031346,
          0.6389703818056263,
          0.6277513384661368,
          0.6277513384661368,
          0.624367233589963,
          0.6230798023870707,
          0.6207992099705189,
          0.6130746227531654,
          0.6130746227531654,
          0.610462976598727,
          0.604761495557347,
          0.604761495557347,
          0.6028119568786816,
          0.5958598283830636,
          0.5890548348820619,
          0.5866638912195478,
          0.5864799724762775,
          0.5864799724762775,
          0.5766587115856425,
          0.5664696132084668,
          0.5559494610934047,
          0.5559494610934047,
          0.552123951233382,
          0.5509100875277979,
          0.5503215475493329,
          0.5503215475493329,
          0.5472317126623916,
          0.5430383653158283,
          0.5409416916425468,
          0.5378518567556053,
          0.5340263468955828,
          0.5318928894736471,
          0.5318928894736471,
          0.5318928894736471,
          0.5318928894736471,
          0.5251614634699534,
          0.5251614634699534,
          0.5226969523101311,
          0.5186875237068382,
          0.5178047137391407,
          0.5178047137391407,
          0.5098962077785171,
          0.5098962077785171,
          0.5098962077785171,
          0.5051878879507968,
          0.5014727293367365,
          0.5014727293367365,
          0.49257106216245305,
          0.49257106216245305,
          0.47804148144409797,
          0.4736642153542644,
          0.4736642153542644,
          0.4736642153542644,
          0.4709790017025177,
          0.4709790017025177,
          0.4709790017025177,
          0.46788916681557646,
          0.4658660606396029,
          0.4658660606396029,
          0.46369581946901317,
          0.458950715892639,
          0.4506375886968206,
          0.44695921383141424,
          0.44695921383141424,
          0.4429130014794673,
          0.44004386908445026,
          0.44004386908445026,
          0.44004386908445026,
          0.4325767681076753,
          0.4325767681076753,
          0.4325767681076753,
          0.4321353631238265,
          0.41624478370527107,
          0.4099179789367722,
          0.4039222279061597,
          0.4039222279061597,
          0.40289228294384605,
          0.4025612292059595,
          0.4025612292059595,
          0.4000967180461372,
          0.4000967180461372,
          0.3967126131699634,
          0.3954619657157251,
          0.3954619657157251,
          0.392482482074746,
          0.3888408909579937,
          0.3886569722147234,
          0.38747989225779333,
          0.38747989225779333,
          0.37931390005659116,
          0.3755619576938767,
          0.3751941202073361,
          0.36533607556804704,
          0.3587517845589697,
          0.3412427201996353,
          0.3412427201996353,
          0.3401024239913595,
          0.3372332915963425,
          0.3346952129392121,
          0.3328192417578548,
          0.3268602744758966,
          0.32652922073800994,
          0.31898855226392697,
          0.3179953910502672,
          0.3154940961417909,
          0.3091305076246379,
          0.2950055481414775,
          0.2823887223531336,
          0.2823887223531336,
          0.2810645074015873,
          0.27951958995811677,
          0.2792253199688841,
          0.25903104195780324,
          0.23942530392518735,
          0.2289787193074333,
          0.22430718322836718,
          0.22430718322836718,
          0.2235347245066318,
          0.17247888137479161,
          0.13106038039031598,
          0.1289637067170344,
          0.10582672881362831,
          0.0709925188382301,
          0.04285295111787146
         ],
         "yaxis": "y"
        }
       ],
       "layout": {
        "height": 400,
        "legend": {
         "title": {
          "text": "Nr"
         },
         "tracegroupgap": 0
        },
        "showlegend": false,
        "template": {
         "data": {
          "bar": [
           {
            "error_x": {
             "color": "#2a3f5f"
            },
            "error_y": {
             "color": "#2a3f5f"
            },
            "marker": {
             "line": {
              "color": "#E5ECF6",
              "width": 0.5
             },
             "pattern": {
              "fillmode": "overlay",
              "size": 10,
              "solidity": 0.2
             }
            },
            "type": "bar"
           }
          ],
          "barpolar": [
           {
            "marker": {
             "line": {
              "color": "#E5ECF6",
              "width": 0.5
             },
             "pattern": {
              "fillmode": "overlay",
              "size": 10,
              "solidity": 0.2
             }
            },
            "type": "barpolar"
           }
          ],
          "carpet": [
           {
            "aaxis": {
             "endlinecolor": "#2a3f5f",
             "gridcolor": "white",
             "linecolor": "white",
             "minorgridcolor": "white",
             "startlinecolor": "#2a3f5f"
            },
            "baxis": {
             "endlinecolor": "#2a3f5f",
             "gridcolor": "white",
             "linecolor": "white",
             "minorgridcolor": "white",
             "startlinecolor": "#2a3f5f"
            },
            "type": "carpet"
           }
          ],
          "choropleth": [
           {
            "colorbar": {
             "outlinewidth": 0,
             "ticks": ""
            },
            "type": "choropleth"
           }
          ],
          "contour": [
           {
            "colorbar": {
             "outlinewidth": 0,
             "ticks": ""
            },
            "colorscale": [
             [
              0,
              "#0d0887"
             ],
             [
              0.1111111111111111,
              "#46039f"
             ],
             [
              0.2222222222222222,
              "#7201a8"
             ],
             [
              0.3333333333333333,
              "#9c179e"
             ],
             [
              0.4444444444444444,
              "#bd3786"
             ],
             [
              0.5555555555555556,
              "#d8576b"
             ],
             [
              0.6666666666666666,
              "#ed7953"
             ],
             [
              0.7777777777777778,
              "#fb9f3a"
             ],
             [
              0.8888888888888888,
              "#fdca26"
             ],
             [
              1,
              "#f0f921"
             ]
            ],
            "type": "contour"
           }
          ],
          "contourcarpet": [
           {
            "colorbar": {
             "outlinewidth": 0,
             "ticks": ""
            },
            "type": "contourcarpet"
           }
          ],
          "heatmap": [
           {
            "colorbar": {
             "outlinewidth": 0,
             "ticks": ""
            },
            "colorscale": [
             [
              0,
              "#0d0887"
             ],
             [
              0.1111111111111111,
              "#46039f"
             ],
             [
              0.2222222222222222,
              "#7201a8"
             ],
             [
              0.3333333333333333,
              "#9c179e"
             ],
             [
              0.4444444444444444,
              "#bd3786"
             ],
             [
              0.5555555555555556,
              "#d8576b"
             ],
             [
              0.6666666666666666,
              "#ed7953"
             ],
             [
              0.7777777777777778,
              "#fb9f3a"
             ],
             [
              0.8888888888888888,
              "#fdca26"
             ],
             [
              1,
              "#f0f921"
             ]
            ],
            "type": "heatmap"
           }
          ],
          "heatmapgl": [
           {
            "colorbar": {
             "outlinewidth": 0,
             "ticks": ""
            },
            "colorscale": [
             [
              0,
              "#0d0887"
             ],
             [
              0.1111111111111111,
              "#46039f"
             ],
             [
              0.2222222222222222,
              "#7201a8"
             ],
             [
              0.3333333333333333,
              "#9c179e"
             ],
             [
              0.4444444444444444,
              "#bd3786"
             ],
             [
              0.5555555555555556,
              "#d8576b"
             ],
             [
              0.6666666666666666,
              "#ed7953"
             ],
             [
              0.7777777777777778,
              "#fb9f3a"
             ],
             [
              0.8888888888888888,
              "#fdca26"
             ],
             [
              1,
              "#f0f921"
             ]
            ],
            "type": "heatmapgl"
           }
          ],
          "histogram": [
           {
            "marker": {
             "pattern": {
              "fillmode": "overlay",
              "size": 10,
              "solidity": 0.2
             }
            },
            "type": "histogram"
           }
          ],
          "histogram2d": [
           {
            "colorbar": {
             "outlinewidth": 0,
             "ticks": ""
            },
            "colorscale": [
             [
              0,
              "#0d0887"
             ],
             [
              0.1111111111111111,
              "#46039f"
             ],
             [
              0.2222222222222222,
              "#7201a8"
             ],
             [
              0.3333333333333333,
              "#9c179e"
             ],
             [
              0.4444444444444444,
              "#bd3786"
             ],
             [
              0.5555555555555556,
              "#d8576b"
             ],
             [
              0.6666666666666666,
              "#ed7953"
             ],
             [
              0.7777777777777778,
              "#fb9f3a"
             ],
             [
              0.8888888888888888,
              "#fdca26"
             ],
             [
              1,
              "#f0f921"
             ]
            ],
            "type": "histogram2d"
           }
          ],
          "histogram2dcontour": [
           {
            "colorbar": {
             "outlinewidth": 0,
             "ticks": ""
            },
            "colorscale": [
             [
              0,
              "#0d0887"
             ],
             [
              0.1111111111111111,
              "#46039f"
             ],
             [
              0.2222222222222222,
              "#7201a8"
             ],
             [
              0.3333333333333333,
              "#9c179e"
             ],
             [
              0.4444444444444444,
              "#bd3786"
             ],
             [
              0.5555555555555556,
              "#d8576b"
             ],
             [
              0.6666666666666666,
              "#ed7953"
             ],
             [
              0.7777777777777778,
              "#fb9f3a"
             ],
             [
              0.8888888888888888,
              "#fdca26"
             ],
             [
              1,
              "#f0f921"
             ]
            ],
            "type": "histogram2dcontour"
           }
          ],
          "mesh3d": [
           {
            "colorbar": {
             "outlinewidth": 0,
             "ticks": ""
            },
            "type": "mesh3d"
           }
          ],
          "parcoords": [
           {
            "line": {
             "colorbar": {
              "outlinewidth": 0,
              "ticks": ""
             }
            },
            "type": "parcoords"
           }
          ],
          "pie": [
           {
            "automargin": true,
            "type": "pie"
           }
          ],
          "scatter": [
           {
            "fillpattern": {
             "fillmode": "overlay",
             "size": 10,
             "solidity": 0.2
            },
            "type": "scatter"
           }
          ],
          "scatter3d": [
           {
            "line": {
             "colorbar": {
              "outlinewidth": 0,
              "ticks": ""
             }
            },
            "marker": {
             "colorbar": {
              "outlinewidth": 0,
              "ticks": ""
             }
            },
            "type": "scatter3d"
           }
          ],
          "scattercarpet": [
           {
            "marker": {
             "colorbar": {
              "outlinewidth": 0,
              "ticks": ""
             }
            },
            "type": "scattercarpet"
           }
          ],
          "scattergeo": [
           {
            "marker": {
             "colorbar": {
              "outlinewidth": 0,
              "ticks": ""
             }
            },
            "type": "scattergeo"
           }
          ],
          "scattergl": [
           {
            "marker": {
             "colorbar": {
              "outlinewidth": 0,
              "ticks": ""
             }
            },
            "type": "scattergl"
           }
          ],
          "scattermapbox": [
           {
            "marker": {
             "colorbar": {
              "outlinewidth": 0,
              "ticks": ""
             }
            },
            "type": "scattermapbox"
           }
          ],
          "scatterpolar": [
           {
            "marker": {
             "colorbar": {
              "outlinewidth": 0,
              "ticks": ""
             }
            },
            "type": "scatterpolar"
           }
          ],
          "scatterpolargl": [
           {
            "marker": {
             "colorbar": {
              "outlinewidth": 0,
              "ticks": ""
             }
            },
            "type": "scatterpolargl"
           }
          ],
          "scatterternary": [
           {
            "marker": {
             "colorbar": {
              "outlinewidth": 0,
              "ticks": ""
             }
            },
            "type": "scatterternary"
           }
          ],
          "surface": [
           {
            "colorbar": {
             "outlinewidth": 0,
             "ticks": ""
            },
            "colorscale": [
             [
              0,
              "#0d0887"
             ],
             [
              0.1111111111111111,
              "#46039f"
             ],
             [
              0.2222222222222222,
              "#7201a8"
             ],
             [
              0.3333333333333333,
              "#9c179e"
             ],
             [
              0.4444444444444444,
              "#bd3786"
             ],
             [
              0.5555555555555556,
              "#d8576b"
             ],
             [
              0.6666666666666666,
              "#ed7953"
             ],
             [
              0.7777777777777778,
              "#fb9f3a"
             ],
             [
              0.8888888888888888,
              "#fdca26"
             ],
             [
              1,
              "#f0f921"
             ]
            ],
            "type": "surface"
           }
          ],
          "table": [
           {
            "cells": {
             "fill": {
              "color": "#EBF0F8"
             },
             "line": {
              "color": "white"
             }
            },
            "header": {
             "fill": {
              "color": "#C8D4E3"
             },
             "line": {
              "color": "white"
             }
            },
            "type": "table"
           }
          ]
         },
         "layout": {
          "annotationdefaults": {
           "arrowcolor": "#2a3f5f",
           "arrowhead": 0,
           "arrowwidth": 1
          },
          "autotypenumbers": "strict",
          "coloraxis": {
           "colorbar": {
            "outlinewidth": 0,
            "ticks": ""
           }
          },
          "colorscale": {
           "diverging": [
            [
             0,
             "#8e0152"
            ],
            [
             0.1,
             "#c51b7d"
            ],
            [
             0.2,
             "#de77ae"
            ],
            [
             0.3,
             "#f1b6da"
            ],
            [
             0.4,
             "#fde0ef"
            ],
            [
             0.5,
             "#f7f7f7"
            ],
            [
             0.6,
             "#e6f5d0"
            ],
            [
             0.7,
             "#b8e186"
            ],
            [
             0.8,
             "#7fbc41"
            ],
            [
             0.9,
             "#4d9221"
            ],
            [
             1,
             "#276419"
            ]
           ],
           "sequential": [
            [
             0,
             "#0d0887"
            ],
            [
             0.1111111111111111,
             "#46039f"
            ],
            [
             0.2222222222222222,
             "#7201a8"
            ],
            [
             0.3333333333333333,
             "#9c179e"
            ],
            [
             0.4444444444444444,
             "#bd3786"
            ],
            [
             0.5555555555555556,
             "#d8576b"
            ],
            [
             0.6666666666666666,
             "#ed7953"
            ],
            [
             0.7777777777777778,
             "#fb9f3a"
            ],
            [
             0.8888888888888888,
             "#fdca26"
            ],
            [
             1,
             "#f0f921"
            ]
           ],
           "sequentialminus": [
            [
             0,
             "#0d0887"
            ],
            [
             0.1111111111111111,
             "#46039f"
            ],
            [
             0.2222222222222222,
             "#7201a8"
            ],
            [
             0.3333333333333333,
             "#9c179e"
            ],
            [
             0.4444444444444444,
             "#bd3786"
            ],
            [
             0.5555555555555556,
             "#d8576b"
            ],
            [
             0.6666666666666666,
             "#ed7953"
            ],
            [
             0.7777777777777778,
             "#fb9f3a"
            ],
            [
             0.8888888888888888,
             "#fdca26"
            ],
            [
             1,
             "#f0f921"
            ]
           ]
          },
          "colorway": [
           "#636efa",
           "#EF553B",
           "#00cc96",
           "#ab63fa",
           "#FFA15A",
           "#19d3f3",
           "#FF6692",
           "#B6E880",
           "#FF97FF",
           "#FECB52"
          ],
          "font": {
           "color": "#2a3f5f"
          },
          "geo": {
           "bgcolor": "white",
           "lakecolor": "white",
           "landcolor": "#E5ECF6",
           "showlakes": true,
           "showland": true,
           "subunitcolor": "white"
          },
          "hoverlabel": {
           "align": "left"
          },
          "hovermode": "closest",
          "mapbox": {
           "style": "light"
          },
          "paper_bgcolor": "white",
          "plot_bgcolor": "#E5ECF6",
          "polar": {
           "angularaxis": {
            "gridcolor": "white",
            "linecolor": "white",
            "ticks": ""
           },
           "bgcolor": "#E5ECF6",
           "radialaxis": {
            "gridcolor": "white",
            "linecolor": "white",
            "ticks": ""
           }
          },
          "scene": {
           "xaxis": {
            "backgroundcolor": "#E5ECF6",
            "gridcolor": "white",
            "gridwidth": 2,
            "linecolor": "white",
            "showbackground": true,
            "ticks": "",
            "zerolinecolor": "white"
           },
           "yaxis": {
            "backgroundcolor": "#E5ECF6",
            "gridcolor": "white",
            "gridwidth": 2,
            "linecolor": "white",
            "showbackground": true,
            "ticks": "",
            "zerolinecolor": "white"
           },
           "zaxis": {
            "backgroundcolor": "#E5ECF6",
            "gridcolor": "white",
            "gridwidth": 2,
            "linecolor": "white",
            "showbackground": true,
            "ticks": "",
            "zerolinecolor": "white"
           }
          },
          "shapedefaults": {
           "line": {
            "color": "#2a3f5f"
           }
          },
          "ternary": {
           "aaxis": {
            "gridcolor": "white",
            "linecolor": "white",
            "ticks": ""
           },
           "baxis": {
            "gridcolor": "white",
            "linecolor": "white",
            "ticks": ""
           },
           "bgcolor": "#E5ECF6",
           "caxis": {
            "gridcolor": "white",
            "linecolor": "white",
            "ticks": ""
           }
          },
          "title": {
           "x": 0.05
          },
          "xaxis": {
           "automargin": true,
           "gridcolor": "white",
           "linecolor": "white",
           "ticks": "",
           "title": {
            "standoff": 15
           },
           "zerolinecolor": "white",
           "zerolinewidth": 2
          },
          "yaxis": {
           "automargin": true,
           "gridcolor": "white",
           "linecolor": "white",
           "ticks": "",
           "title": {
            "standoff": 15
           },
           "zerolinecolor": "white",
           "zerolinewidth": 2
          }
         }
        },
        "title": {
         "text": "Correlation between amount of fogi and Score"
        },
        "width": 800,
        "xaxis": {
         "anchor": "y",
         "domain": [
          0,
          1
         ],
         "title": {
          "text": "fogi"
         }
        },
        "yaxis": {
         "anchor": "x",
         "domain": [
          0,
          1
         ],
         "title": {
          "text": "Score"
         }
        }
       }
      }
     },
     "metadata": {},
     "output_type": "display_data"
    }
   ],
   "source": [
    "fogiCorrelation(df)"
   ]
  },
  {
   "cell_type": "code",
   "execution_count": 18,
   "metadata": {},
   "outputs": [
    {
     "name": "stdout",
     "output_type": "stream",
     "text": [
      "The Pearson correlation coefficient between Score and Nomen is: -0.351, p: 0.000.\n"
     ]
    },
    {
     "data": {
      "application/vnd.plotly.v1+json": {
       "config": {
        "plotlyServerURL": "https://plot.ly"
       },
       "data": [
        {
         "hovertemplate": "Nr=0<br>smog=%{x}<br>Score=%{y}<extra></extra>",
         "legendgroup": "0",
         "marker": {
          "color": "#636efa",
          "symbol": "circle"
         },
         "mode": "markers",
         "name": "0",
         "orientation": "h",
         "showlegend": true,
         "type": "scatter",
         "x": [
          5.713
         ],
         "xaxis": "x",
         "y": [
          0.31447
         ],
         "yaxis": "y"
        },
        {
         "hovertemplate": "Nr=1<br>smog=%{x}<br>Score=%{y}<extra></extra>",
         "legendgroup": "1",
         "marker": {
          "color": "#EF553B",
          "symbol": "circle"
         },
         "mode": "markers",
         "name": "1",
         "orientation": "h",
         "showlegend": true,
         "type": "scatter",
         "x": [
          0
         ],
         "xaxis": "x",
         "y": [
          0.30818
         ],
         "yaxis": "y"
        },
        {
         "hovertemplate": "Nr=2<br>smog=%{x}<br>Score=%{y}<extra></extra>",
         "legendgroup": "2",
         "marker": {
          "color": "#00cc96",
          "symbol": "circle"
         },
         "mode": "markers",
         "name": "2",
         "orientation": "h",
         "showlegend": true,
         "type": "scatter",
         "x": [
          5.713
         ],
         "xaxis": "x",
         "y": [
          0.84906
         ],
         "yaxis": "y"
        },
        {
         "hovertemplate": "Nr=3<br>smog=%{x}<br>Score=%{y}<extra></extra>",
         "legendgroup": "3",
         "marker": {
          "color": "#ab63fa",
          "symbol": "circle"
         },
         "mode": "markers",
         "name": "3",
         "orientation": "h",
         "showlegend": true,
         "type": "scatter",
         "x": [
          0
         ],
         "xaxis": "x",
         "y": [
          0.97484
         ],
         "yaxis": "y"
        },
        {
         "hovertemplate": "Nr=4<br>smog=%{x}<br>Score=%{y}<extra></extra>",
         "legendgroup": "4",
         "marker": {
          "color": "#FFA15A",
          "symbol": "circle"
         },
         "mode": "markers",
         "name": "4",
         "orientation": "h",
         "showlegend": true,
         "type": "scatter",
         "x": [
          0
         ],
         "xaxis": "x",
         "y": [
          0.2956
         ],
         "yaxis": "y"
        },
        {
         "hovertemplate": "Nr=5<br>smog=%{x}<br>Score=%{y}<extra></extra>",
         "legendgroup": "5",
         "marker": {
          "color": "#19d3f3",
          "symbol": "circle"
         },
         "mode": "markers",
         "name": "5",
         "orientation": "h",
         "showlegend": true,
         "type": "scatter",
         "x": [
          0
         ],
         "xaxis": "x",
         "y": [
          0.57233
         ],
         "yaxis": "y"
        },
        {
         "hovertemplate": "Nr=6<br>smog=%{x}<br>Score=%{y}<extra></extra>",
         "legendgroup": "6",
         "marker": {
          "color": "#FF6692",
          "symbol": "circle"
         },
         "mode": "markers",
         "name": "6",
         "orientation": "h",
         "showlegend": true,
         "type": "scatter",
         "x": [
          5.713
         ],
         "xaxis": "x",
         "y": [
          0.22013
         ],
         "yaxis": "y"
        },
        {
         "hovertemplate": "Nr=7<br>smog=%{x}<br>Score=%{y}<extra></extra>",
         "legendgroup": "7",
         "marker": {
          "color": "#B6E880",
          "symbol": "circle"
         },
         "mode": "markers",
         "name": "7",
         "orientation": "h",
         "showlegend": true,
         "type": "scatter",
         "x": [
          0
         ],
         "xaxis": "x",
         "y": [
          0.32075
         ],
         "yaxis": "y"
        },
        {
         "hovertemplate": "Nr=8<br>smog=%{x}<br>Score=%{y}<extra></extra>",
         "legendgroup": "8",
         "marker": {
          "color": "#FF97FF",
          "symbol": "circle"
         },
         "mode": "markers",
         "name": "8",
         "orientation": "h",
         "showlegend": true,
         "type": "scatter",
         "x": [
          0
         ],
         "xaxis": "x",
         "y": [
          0.1195
         ],
         "yaxis": "y"
        },
        {
         "hovertemplate": "Nr=9<br>smog=%{x}<br>Score=%{y}<extra></extra>",
         "legendgroup": "9",
         "marker": {
          "color": "#FECB52",
          "symbol": "circle"
         },
         "mode": "markers",
         "name": "9",
         "orientation": "h",
         "showlegend": true,
         "type": "scatter",
         "x": [
          5.713
         ],
         "xaxis": "x",
         "y": [
          0.66038
         ],
         "yaxis": "y"
        },
        {
         "hovertemplate": "Nr=10<br>smog=%{x}<br>Score=%{y}<extra></extra>",
         "legendgroup": "10",
         "marker": {
          "color": "#636efa",
          "symbol": "circle"
         },
         "mode": "markers",
         "name": "10",
         "orientation": "h",
         "showlegend": true,
         "type": "scatter",
         "x": [
          9.895
         ],
         "xaxis": "x",
         "y": [
          0.4717
         ],
         "yaxis": "y"
        },
        {
         "hovertemplate": "Nr=11<br>smog=%{x}<br>Score=%{y}<extra></extra>",
         "legendgroup": "11",
         "marker": {
          "color": "#EF553B",
          "symbol": "circle"
         },
         "mode": "markers",
         "name": "11",
         "orientation": "h",
         "showlegend": true,
         "type": "scatter",
         "x": [
          0
         ],
         "xaxis": "x",
         "y": [
          0.28302
         ],
         "yaxis": "y"
        },
        {
         "hovertemplate": "Nr=12<br>smog=%{x}<br>Score=%{y}<extra></extra>",
         "legendgroup": "12",
         "marker": {
          "color": "#00cc96",
          "symbol": "circle"
         },
         "mode": "markers",
         "name": "12",
         "orientation": "h",
         "showlegend": true,
         "type": "scatter",
         "x": [
          0
         ],
         "xaxis": "x",
         "y": [
          0.67925
         ],
         "yaxis": "y"
        },
        {
         "hovertemplate": "Nr=13<br>smog=%{x}<br>Score=%{y}<extra></extra>",
         "legendgroup": "13",
         "marker": {
          "color": "#ab63fa",
          "symbol": "circle"
         },
         "mode": "markers",
         "name": "13",
         "orientation": "h",
         "showlegend": true,
         "type": "scatter",
         "x": [
          0
         ],
         "xaxis": "x",
         "y": [
          0.9434
         ],
         "yaxis": "y"
        },
        {
         "hovertemplate": "Nr=14<br>smog=%{x}<br>Score=%{y}<extra></extra>",
         "legendgroup": "14",
         "marker": {
          "color": "#FFA15A",
          "symbol": "circle"
         },
         "mode": "markers",
         "name": "14",
         "orientation": "h",
         "showlegend": true,
         "type": "scatter",
         "x": [
          0
         ],
         "xaxis": "x",
         "y": [
          0.76101
         ],
         "yaxis": "y"
        },
        {
         "hovertemplate": "Nr=15<br>smog=%{x}<br>Score=%{y}<extra></extra>",
         "legendgroup": "15",
         "marker": {
          "color": "#19d3f3",
          "symbol": "circle"
         },
         "mode": "markers",
         "name": "15",
         "orientation": "h",
         "showlegend": true,
         "type": "scatter",
         "x": [
          5.713
         ],
         "xaxis": "x",
         "y": [
          0.01258
         ],
         "yaxis": "y"
        },
        {
         "hovertemplate": "Nr=16<br>smog=%{x}<br>Score=%{y}<extra></extra>",
         "legendgroup": "16",
         "marker": {
          "color": "#FF6692",
          "symbol": "circle"
         },
         "mode": "markers",
         "name": "16",
         "orientation": "h",
         "showlegend": true,
         "type": "scatter",
         "x": [
          5.713
         ],
         "xaxis": "x",
         "y": [
          0.09434
         ],
         "yaxis": "y"
        },
        {
         "hovertemplate": "Nr=17<br>smog=%{x}<br>Score=%{y}<extra></extra>",
         "legendgroup": "17",
         "marker": {
          "color": "#B6E880",
          "symbol": "circle"
         },
         "mode": "markers",
         "name": "17",
         "orientation": "h",
         "showlegend": true,
         "type": "scatter",
         "x": [
          5.713
         ],
         "xaxis": "x",
         "y": [
          0.78616
         ],
         "yaxis": "y"
        },
        {
         "hovertemplate": "Nr=18<br>smog=%{x}<br>Score=%{y}<extra></extra>",
         "legendgroup": "18",
         "marker": {
          "color": "#FF97FF",
          "symbol": "circle"
         },
         "mode": "markers",
         "name": "18",
         "orientation": "h",
         "showlegend": true,
         "type": "scatter",
         "x": [
          5.713
         ],
         "xaxis": "x",
         "y": [
          0.62264
         ],
         "yaxis": "y"
        },
        {
         "hovertemplate": "Nr=19<br>smog=%{x}<br>Score=%{y}<extra></extra>",
         "legendgroup": "19",
         "marker": {
          "color": "#FECB52",
          "symbol": "circle"
         },
         "mode": "markers",
         "name": "19",
         "orientation": "h",
         "showlegend": true,
         "type": "scatter",
         "x": [
          0
         ],
         "xaxis": "x",
         "y": [
          0.72956
         ],
         "yaxis": "y"
        },
        {
         "hovertemplate": "Nr=20<br>smog=%{x}<br>Score=%{y}<extra></extra>",
         "legendgroup": "20",
         "marker": {
          "color": "#636efa",
          "symbol": "circle"
         },
         "mode": "markers",
         "name": "20",
         "orientation": "h",
         "showlegend": true,
         "type": "scatter",
         "x": [
          8.079
         ],
         "xaxis": "x",
         "y": [
          0.12579
         ],
         "yaxis": "y"
        },
        {
         "hovertemplate": "Nr=21<br>smog=%{x}<br>Score=%{y}<extra></extra>",
         "legendgroup": "21",
         "marker": {
          "color": "#EF553B",
          "symbol": "circle"
         },
         "mode": "markers",
         "name": "21",
         "orientation": "h",
         "showlegend": true,
         "type": "scatter",
         "x": [
          5.713
         ],
         "xaxis": "x",
         "y": [
          0.5283
         ],
         "yaxis": "y"
        },
        {
         "hovertemplate": "Nr=22<br>smog=%{x}<br>Score=%{y}<extra></extra>",
         "legendgroup": "22",
         "marker": {
          "color": "#00cc96",
          "symbol": "circle"
         },
         "mode": "markers",
         "name": "22",
         "orientation": "h",
         "showlegend": true,
         "type": "scatter",
         "x": [
          9.895
         ],
         "xaxis": "x",
         "y": [
          0.19497
         ],
         "yaxis": "y"
        },
        {
         "hovertemplate": "Nr=23<br>smog=%{x}<br>Score=%{y}<extra></extra>",
         "legendgroup": "23",
         "marker": {
          "color": "#ab63fa",
          "symbol": "circle"
         },
         "mode": "markers",
         "name": "23",
         "orientation": "h",
         "showlegend": true,
         "type": "scatter",
         "x": [
          15.115
         ],
         "xaxis": "x",
         "y": [
          0.00629
         ],
         "yaxis": "y"
        },
        {
         "hovertemplate": "Nr=24<br>smog=%{x}<br>Score=%{y}<extra></extra>",
         "legendgroup": "24",
         "marker": {
          "color": "#FFA15A",
          "symbol": "circle"
         },
         "mode": "markers",
         "name": "24",
         "orientation": "h",
         "showlegend": true,
         "type": "scatter",
         "x": [
          11.425
         ],
         "xaxis": "x",
         "y": [
          0.40252
         ],
         "yaxis": "y"
        },
        {
         "hovertemplate": "Nr=25<br>smog=%{x}<br>Score=%{y}<extra></extra>",
         "legendgroup": "25",
         "marker": {
          "color": "#19d3f3",
          "symbol": "circle"
         },
         "mode": "markers",
         "name": "25",
         "orientation": "h",
         "showlegend": true,
         "type": "scatter",
         "x": [
          5.713
         ],
         "xaxis": "x",
         "y": [
          0.10692
         ],
         "yaxis": "y"
        },
        {
         "hovertemplate": "Nr=26<br>smog=%{x}<br>Score=%{y}<extra></extra>",
         "legendgroup": "26",
         "marker": {
          "color": "#FF6692",
          "symbol": "circle"
         },
         "mode": "markers",
         "name": "26",
         "orientation": "h",
         "showlegend": true,
         "type": "scatter",
         "x": [
          0
         ],
         "xaxis": "x",
         "y": [
          0.41509
         ],
         "yaxis": "y"
        },
        {
         "hovertemplate": "Nr=27<br>smog=%{x}<br>Score=%{y}<extra></extra>",
         "legendgroup": "27",
         "marker": {
          "color": "#B6E880",
          "symbol": "circle"
         },
         "mode": "markers",
         "name": "27",
         "orientation": "h",
         "showlegend": true,
         "type": "scatter",
         "x": [
          9.895
         ],
         "xaxis": "x",
         "y": [
          0.45912
         ],
         "yaxis": "y"
        },
        {
         "hovertemplate": "Nr=28<br>smog=%{x}<br>Score=%{y}<extra></extra>",
         "legendgroup": "28",
         "marker": {
          "color": "#FF97FF",
          "symbol": "circle"
         },
         "mode": "markers",
         "name": "28",
         "orientation": "h",
         "showlegend": true,
         "type": "scatter",
         "x": [
          0
         ],
         "xaxis": "x",
         "y": [
          0.86164
         ],
         "yaxis": "y"
        },
        {
         "hovertemplate": "Nr=29<br>smog=%{x}<br>Score=%{y}<extra></extra>",
         "legendgroup": "29",
         "marker": {
          "color": "#FECB52",
          "symbol": "circle"
         },
         "mode": "markers",
         "name": "29",
         "orientation": "h",
         "showlegend": true,
         "type": "scatter",
         "x": [
          5.713
         ],
         "xaxis": "x",
         "y": [
          0.80503
         ],
         "yaxis": "y"
        },
        {
         "hovertemplate": "Nr=30<br>smog=%{x}<br>Score=%{y}<extra></extra>",
         "legendgroup": "30",
         "marker": {
          "color": "#636efa",
          "symbol": "circle"
         },
         "mode": "markers",
         "name": "30",
         "orientation": "h",
         "showlegend": true,
         "type": "scatter",
         "x": [
          0
         ],
         "xaxis": "x",
         "y": [
          0.7673
         ],
         "yaxis": "y"
        },
        {
         "hovertemplate": "Nr=31<br>smog=%{x}<br>Score=%{y}<extra></extra>",
         "legendgroup": "31",
         "marker": {
          "color": "#EF553B",
          "symbol": "circle"
         },
         "mode": "markers",
         "name": "31",
         "orientation": "h",
         "showlegend": true,
         "type": "scatter",
         "x": [
          8.079
         ],
         "xaxis": "x",
         "y": [
          0.51572
         ],
         "yaxis": "y"
        },
        {
         "hovertemplate": "Nr=32<br>smog=%{x}<br>Score=%{y}<extra></extra>",
         "legendgroup": "32",
         "marker": {
          "color": "#00cc96",
          "symbol": "circle"
         },
         "mode": "markers",
         "name": "32",
         "orientation": "h",
         "showlegend": true,
         "type": "scatter",
         "x": [
          0
         ],
         "xaxis": "x",
         "y": [
          0.79874
         ],
         "yaxis": "y"
        },
        {
         "hovertemplate": "Nr=33<br>smog=%{x}<br>Score=%{y}<extra></extra>",
         "legendgroup": "33",
         "marker": {
          "color": "#ab63fa",
          "symbol": "circle"
         },
         "mode": "markers",
         "name": "33",
         "orientation": "h",
         "showlegend": true,
         "type": "scatter",
         "x": [
          9.895
         ],
         "xaxis": "x",
         "y": [
          0.0566
         ],
         "yaxis": "y"
        },
        {
         "hovertemplate": "Nr=34<br>smog=%{x}<br>Score=%{y}<extra></extra>",
         "legendgroup": "34",
         "marker": {
          "color": "#FFA15A",
          "symbol": "circle"
         },
         "mode": "markers",
         "name": "34",
         "orientation": "h",
         "showlegend": true,
         "type": "scatter",
         "x": [
          5.713
         ],
         "xaxis": "x",
         "y": [
          0.37107
         ],
         "yaxis": "y"
        },
        {
         "hovertemplate": "Nr=35<br>smog=%{x}<br>Score=%{y}<extra></extra>",
         "legendgroup": "35",
         "marker": {
          "color": "#19d3f3",
          "symbol": "circle"
         },
         "mode": "markers",
         "name": "35",
         "orientation": "h",
         "showlegend": true,
         "type": "scatter",
         "x": [
          8.079
         ],
         "xaxis": "x",
         "y": [
          0.02516
         ],
         "yaxis": "y"
        },
        {
         "hovertemplate": "Nr=36<br>smog=%{x}<br>Score=%{y}<extra></extra>",
         "legendgroup": "36",
         "marker": {
          "color": "#FF6692",
          "symbol": "circle"
         },
         "mode": "markers",
         "name": "36",
         "orientation": "h",
         "showlegend": true,
         "type": "scatter",
         "x": [
          4.04
         ],
         "xaxis": "x",
         "y": [
          0.39623
         ],
         "yaxis": "y"
        },
        {
         "hovertemplate": "Nr=37<br>smog=%{x}<br>Score=%{y}<extra></extra>",
         "legendgroup": "37",
         "marker": {
          "color": "#B6E880",
          "symbol": "circle"
         },
         "mode": "markers",
         "name": "37",
         "orientation": "h",
         "showlegend": true,
         "type": "scatter",
         "x": [
          0
         ],
         "xaxis": "x",
         "y": [
          0.03145
         ],
         "yaxis": "y"
        },
        {
         "hovertemplate": "Nr=38<br>smog=%{x}<br>Score=%{y}<extra></extra>",
         "legendgroup": "38",
         "marker": {
          "color": "#FF97FF",
          "symbol": "circle"
         },
         "mode": "markers",
         "name": "38",
         "orientation": "h",
         "showlegend": true,
         "type": "scatter",
         "x": [
          0
         ],
         "xaxis": "x",
         "y": [
          0.59748
         ],
         "yaxis": "y"
        },
        {
         "hovertemplate": "Nr=39<br>smog=%{x}<br>Score=%{y}<extra></extra>",
         "legendgroup": "39",
         "marker": {
          "color": "#FECB52",
          "symbol": "circle"
         },
         "mode": "markers",
         "name": "39",
         "orientation": "h",
         "showlegend": true,
         "type": "scatter",
         "x": [
          6.997
         ],
         "xaxis": "x",
         "y": [
          0.20755
         ],
         "yaxis": "y"
        },
        {
         "hovertemplate": "Nr=40<br>smog=%{x}<br>Score=%{y}<extra></extra>",
         "legendgroup": "40",
         "marker": {
          "color": "#636efa",
          "symbol": "circle"
         },
         "mode": "markers",
         "name": "40",
         "orientation": "h",
         "showlegend": true,
         "type": "scatter",
         "x": [
          8.079
         ],
         "xaxis": "x",
         "y": [
          0.61006
         ],
         "yaxis": "y"
        },
        {
         "hovertemplate": "Nr=41<br>smog=%{x}<br>Score=%{y}<extra></extra>",
         "legendgroup": "41",
         "marker": {
          "color": "#EF553B",
          "symbol": "circle"
         },
         "mode": "markers",
         "name": "41",
         "orientation": "h",
         "showlegend": true,
         "type": "scatter",
         "x": [
          0
         ],
         "xaxis": "x",
         "y": [
          0.56604
         ],
         "yaxis": "y"
        },
        {
         "hovertemplate": "Nr=42<br>smog=%{x}<br>Score=%{y}<extra></extra>",
         "legendgroup": "42",
         "marker": {
          "color": "#00cc96",
          "symbol": "circle"
         },
         "mode": "markers",
         "name": "42",
         "orientation": "h",
         "showlegend": true,
         "type": "scatter",
         "x": [
          5.713
         ],
         "xaxis": "x",
         "y": [
          0.38994
         ],
         "yaxis": "y"
        },
        {
         "hovertemplate": "Nr=43<br>smog=%{x}<br>Score=%{y}<extra></extra>",
         "legendgroup": "43",
         "marker": {
          "color": "#ab63fa",
          "symbol": "circle"
         },
         "mode": "markers",
         "name": "43",
         "orientation": "h",
         "showlegend": true,
         "type": "scatter",
         "x": [
          8.079
         ],
         "xaxis": "x",
         "y": [
          0.18239
         ],
         "yaxis": "y"
        },
        {
         "hovertemplate": "Nr=44<br>smog=%{x}<br>Score=%{y}<extra></extra>",
         "legendgroup": "44",
         "marker": {
          "color": "#FFA15A",
          "symbol": "circle"
         },
         "mode": "markers",
         "name": "44",
         "orientation": "h",
         "showlegend": true,
         "type": "scatter",
         "x": [
          8.079
         ],
         "xaxis": "x",
         "y": [
          0.24528
         ],
         "yaxis": "y"
        },
        {
         "hovertemplate": "Nr=45<br>smog=%{x}<br>Score=%{y}<extra></extra>",
         "legendgroup": "45",
         "marker": {
          "color": "#19d3f3",
          "symbol": "circle"
         },
         "mode": "markers",
         "name": "45",
         "orientation": "h",
         "showlegend": true,
         "type": "scatter",
         "x": [
          5.713
         ],
         "xaxis": "x",
         "y": [
          0.58491
         ],
         "yaxis": "y"
        },
        {
         "hovertemplate": "Nr=46<br>smog=%{x}<br>Score=%{y}<extra></extra>",
         "legendgroup": "46",
         "marker": {
          "color": "#FF6692",
          "symbol": "circle"
         },
         "mode": "markers",
         "name": "46",
         "orientation": "h",
         "showlegend": true,
         "type": "scatter",
         "x": [
          5.713
         ],
         "xaxis": "x",
         "y": [
          0.13836
         ],
         "yaxis": "y"
        },
        {
         "hovertemplate": "Nr=47<br>smog=%{x}<br>Score=%{y}<extra></extra>",
         "legendgroup": "47",
         "marker": {
          "color": "#B6E880",
          "symbol": "circle"
         },
         "mode": "markers",
         "name": "47",
         "orientation": "h",
         "showlegend": true,
         "type": "scatter",
         "x": [
          0
         ],
         "xaxis": "x",
         "y": [
          0.37736
         ],
         "yaxis": "y"
        },
        {
         "hovertemplate": "Nr=48<br>smog=%{x}<br>Score=%{y}<extra></extra>",
         "legendgroup": "48",
         "marker": {
          "color": "#FF97FF",
          "symbol": "circle"
         },
         "mode": "markers",
         "name": "48",
         "orientation": "h",
         "showlegend": true,
         "type": "scatter",
         "x": [
          5.713
         ],
         "xaxis": "x",
         "y": [
          0.42767
         ],
         "yaxis": "y"
        },
        {
         "hovertemplate": "Nr=49<br>smog=%{x}<br>Score=%{y}<extra></extra>",
         "legendgroup": "49",
         "marker": {
          "color": "#FECB52",
          "symbol": "circle"
         },
         "mode": "markers",
         "name": "49",
         "orientation": "h",
         "showlegend": true,
         "type": "scatter",
         "x": [
          8.079
         ],
         "xaxis": "x",
         "y": [
          0.55346
         ],
         "yaxis": "y"
        },
        {
         "hovertemplate": "Nr=50<br>smog=%{x}<br>Score=%{y}<extra></extra>",
         "legendgroup": "50",
         "marker": {
          "color": "#636efa",
          "symbol": "circle"
         },
         "mode": "markers",
         "name": "50",
         "orientation": "h",
         "showlegend": true,
         "type": "scatter",
         "x": [
          0
         ],
         "xaxis": "x",
         "y": [
          0.81761
         ],
         "yaxis": "y"
        },
        {
         "hovertemplate": "Nr=51<br>smog=%{x}<br>Score=%{y}<extra></extra>",
         "legendgroup": "51",
         "marker": {
          "color": "#EF553B",
          "symbol": "circle"
         },
         "mode": "markers",
         "name": "51",
         "orientation": "h",
         "showlegend": true,
         "type": "scatter",
         "x": [
          5.713
         ],
         "xaxis": "x",
         "y": [
          0.84277
         ],
         "yaxis": "y"
        },
        {
         "hovertemplate": "Nr=52<br>smog=%{x}<br>Score=%{y}<extra></extra>",
         "legendgroup": "52",
         "marker": {
          "color": "#00cc96",
          "symbol": "circle"
         },
         "mode": "markers",
         "name": "52",
         "orientation": "h",
         "showlegend": true,
         "type": "scatter",
         "x": [
          8.079
         ],
         "xaxis": "x",
         "y": [
          0.52201
         ],
         "yaxis": "y"
        },
        {
         "hovertemplate": "Nr=53<br>smog=%{x}<br>Score=%{y}<extra></extra>",
         "legendgroup": "53",
         "marker": {
          "color": "#ab63fa",
          "symbol": "circle"
         },
         "mode": "markers",
         "name": "53",
         "orientation": "h",
         "showlegend": true,
         "type": "scatter",
         "x": [
          8.079
         ],
         "xaxis": "x",
         "y": [
          0.66667
         ],
         "yaxis": "y"
        },
        {
         "hovertemplate": "Nr=54<br>smog=%{x}<br>Score=%{y}<extra></extra>",
         "legendgroup": "54",
         "marker": {
          "color": "#FFA15A",
          "symbol": "circle"
         },
         "mode": "markers",
         "name": "54",
         "orientation": "h",
         "showlegend": true,
         "type": "scatter",
         "x": [
          0
         ],
         "xaxis": "x",
         "y": [
          0.55975
         ],
         "yaxis": "y"
        },
        {
         "hovertemplate": "Nr=55<br>smog=%{x}<br>Score=%{y}<extra></extra>",
         "legendgroup": "55",
         "marker": {
          "color": "#19d3f3",
          "symbol": "circle"
         },
         "mode": "markers",
         "name": "55",
         "orientation": "h",
         "showlegend": true,
         "type": "scatter",
         "x": [
          5.713
         ],
         "xaxis": "x",
         "y": [
          0.1761
         ],
         "yaxis": "y"
        },
        {
         "hovertemplate": "Nr=56<br>smog=%{x}<br>Score=%{y}<extra></extra>",
         "legendgroup": "56",
         "marker": {
          "color": "#FF6692",
          "symbol": "circle"
         },
         "mode": "markers",
         "name": "56",
         "orientation": "h",
         "showlegend": true,
         "type": "scatter",
         "x": [
          0
         ],
         "xaxis": "x",
         "y": [
          0.49686
         ],
         "yaxis": "y"
        },
        {
         "hovertemplate": "Nr=57<br>smog=%{x}<br>Score=%{y}<extra></extra>",
         "legendgroup": "57",
         "marker": {
          "color": "#B6E880",
          "symbol": "circle"
         },
         "mode": "markers",
         "name": "57",
         "orientation": "h",
         "showlegend": true,
         "type": "scatter",
         "x": [
          8.079
         ],
         "xaxis": "x",
         "y": [
          0.69811
         ],
         "yaxis": "y"
        },
        {
         "hovertemplate": "Nr=58<br>smog=%{x}<br>Score=%{y}<extra></extra>",
         "legendgroup": "58",
         "marker": {
          "color": "#FF97FF",
          "symbol": "circle"
         },
         "mode": "markers",
         "name": "58",
         "orientation": "h",
         "showlegend": true,
         "type": "scatter",
         "x": [
          9.895
         ],
         "xaxis": "x",
         "y": [
          0.2327
         ],
         "yaxis": "y"
        },
        {
         "hovertemplate": "Nr=59<br>smog=%{x}<br>Score=%{y}<extra></extra>",
         "legendgroup": "59",
         "marker": {
          "color": "#FECB52",
          "symbol": "circle"
         },
         "mode": "markers",
         "name": "59",
         "orientation": "h",
         "showlegend": true,
         "type": "scatter",
         "x": [
          8.079
         ],
         "xaxis": "x",
         "y": [
          0.43396
         ],
         "yaxis": "y"
        },
        {
         "hovertemplate": "Nr=60<br>smog=%{x}<br>Score=%{y}<extra></extra>",
         "legendgroup": "60",
         "marker": {
          "color": "#636efa",
          "symbol": "circle"
         },
         "mode": "markers",
         "name": "60",
         "orientation": "h",
         "showlegend": true,
         "type": "scatter",
         "x": [
          9.895
         ],
         "xaxis": "x",
         "y": [
          0.61635
         ],
         "yaxis": "y"
        },
        {
         "hovertemplate": "Nr=61<br>smog=%{x}<br>Score=%{y}<extra></extra>",
         "legendgroup": "61",
         "marker": {
          "color": "#EF553B",
          "symbol": "circle"
         },
         "mode": "markers",
         "name": "61",
         "orientation": "h",
         "showlegend": true,
         "type": "scatter",
         "x": [
          5.713
         ],
         "xaxis": "x",
         "y": [
          0.69182
         ],
         "yaxis": "y"
        },
        {
         "hovertemplate": "Nr=62<br>smog=%{x}<br>Score=%{y}<extra></extra>",
         "legendgroup": "62",
         "marker": {
          "color": "#00cc96",
          "symbol": "circle"
         },
         "mode": "markers",
         "name": "62",
         "orientation": "h",
         "showlegend": true,
         "type": "scatter",
         "x": [
          9.895
         ],
         "xaxis": "x",
         "y": [
          0.25157
         ],
         "yaxis": "y"
        },
        {
         "hovertemplate": "Nr=63<br>smog=%{x}<br>Score=%{y}<extra></extra>",
         "legendgroup": "63",
         "marker": {
          "color": "#ab63fa",
          "symbol": "circle"
         },
         "mode": "markers",
         "name": "63",
         "orientation": "h",
         "showlegend": true,
         "type": "scatter",
         "x": [
          8.079
         ],
         "xaxis": "x",
         "y": [
          0.33333
         ],
         "yaxis": "y"
        },
        {
         "hovertemplate": "Nr=64<br>smog=%{x}<br>Score=%{y}<extra></extra>",
         "legendgroup": "64",
         "marker": {
          "color": "#FFA15A",
          "symbol": "circle"
         },
         "mode": "markers",
         "name": "64",
         "orientation": "h",
         "showlegend": true,
         "type": "scatter",
         "x": [
          5.713
         ],
         "xaxis": "x",
         "y": [
          0.50943
         ],
         "yaxis": "y"
        },
        {
         "hovertemplate": "Nr=65<br>smog=%{x}<br>Score=%{y}<extra></extra>",
         "legendgroup": "65",
         "marker": {
          "color": "#19d3f3",
          "symbol": "circle"
         },
         "mode": "markers",
         "name": "65",
         "orientation": "h",
         "showlegend": true,
         "type": "scatter",
         "x": [
          5.713
         ],
         "xaxis": "x",
         "y": [
          0.63522
         ],
         "yaxis": "y"
        },
        {
         "hovertemplate": "Nr=66<br>smog=%{x}<br>Score=%{y}<extra></extra>",
         "legendgroup": "66",
         "marker": {
          "color": "#FF6692",
          "symbol": "circle"
         },
         "mode": "markers",
         "name": "66",
         "orientation": "h",
         "showlegend": true,
         "type": "scatter",
         "x": [
          5.713
         ],
         "xaxis": "x",
         "y": [
          0.25786
         ],
         "yaxis": "y"
        },
        {
         "hovertemplate": "Nr=67<br>smog=%{x}<br>Score=%{y}<extra></extra>",
         "legendgroup": "67",
         "marker": {
          "color": "#B6E880",
          "symbol": "circle"
         },
         "mode": "markers",
         "name": "67",
         "orientation": "h",
         "showlegend": true,
         "type": "scatter",
         "x": [
          8.079
         ],
         "xaxis": "x",
         "y": [
          0.14465
         ],
         "yaxis": "y"
        },
        {
         "hovertemplate": "Nr=68<br>smog=%{x}<br>Score=%{y}<extra></extra>",
         "legendgroup": "68",
         "marker": {
          "color": "#FF97FF",
          "symbol": "circle"
         },
         "mode": "markers",
         "name": "68",
         "orientation": "h",
         "showlegend": true,
         "type": "scatter",
         "x": [
          8.079
         ],
         "xaxis": "x",
         "y": [
          0.36478
         ],
         "yaxis": "y"
        },
        {
         "hovertemplate": "Nr=69<br>smog=%{x}<br>Score=%{y}<extra></extra>",
         "legendgroup": "69",
         "marker": {
          "color": "#FECB52",
          "symbol": "circle"
         },
         "mode": "markers",
         "name": "69",
         "orientation": "h",
         "showlegend": true,
         "type": "scatter",
         "x": [
          9.895
         ],
         "xaxis": "x",
         "y": [
          0.08805
         ],
         "yaxis": "y"
        },
        {
         "hovertemplate": "Nr=70<br>smog=%{x}<br>Score=%{y}<extra></extra>",
         "legendgroup": "70",
         "marker": {
          "color": "#636efa",
          "symbol": "circle"
         },
         "mode": "markers",
         "name": "70",
         "orientation": "h",
         "showlegend": true,
         "type": "scatter",
         "x": [
          5.713
         ],
         "xaxis": "x",
         "y": [
          0.53459
         ],
         "yaxis": "y"
        },
        {
         "hovertemplate": "Nr=71<br>smog=%{x}<br>Score=%{y}<extra></extra>",
         "legendgroup": "71",
         "marker": {
          "color": "#EF553B",
          "symbol": "circle"
         },
         "mode": "markers",
         "name": "71",
         "orientation": "h",
         "showlegend": true,
         "type": "scatter",
         "x": [
          11.425
         ],
         "xaxis": "x",
         "y": [
          0.49057
         ],
         "yaxis": "y"
        },
        {
         "hovertemplate": "Nr=72<br>smog=%{x}<br>Score=%{y}<extra></extra>",
         "legendgroup": "72",
         "marker": {
          "color": "#00cc96",
          "symbol": "circle"
         },
         "mode": "markers",
         "name": "72",
         "orientation": "h",
         "showlegend": true,
         "type": "scatter",
         "x": [
          5.713
         ],
         "xaxis": "x",
         "y": [
          0.74214
         ],
         "yaxis": "y"
        },
        {
         "hovertemplate": "Nr=73<br>smog=%{x}<br>Score=%{y}<extra></extra>",
         "legendgroup": "73",
         "marker": {
          "color": "#ab63fa",
          "symbol": "circle"
         },
         "mode": "markers",
         "name": "73",
         "orientation": "h",
         "showlegend": true,
         "type": "scatter",
         "x": [
          0
         ],
         "xaxis": "x",
         "y": [
          0.59119
         ],
         "yaxis": "y"
        },
        {
         "hovertemplate": "Nr=74<br>smog=%{x}<br>Score=%{y}<extra></extra>",
         "legendgroup": "74",
         "marker": {
          "color": "#FFA15A",
          "symbol": "circle"
         },
         "mode": "markers",
         "name": "74",
         "orientation": "h",
         "showlegend": true,
         "type": "scatter",
         "x": [
          5.713
         ],
         "xaxis": "x",
         "y": [
          0.42138
         ],
         "yaxis": "y"
        },
        {
         "hovertemplate": "Nr=75<br>smog=%{x}<br>Score=%{y}<extra></extra>",
         "legendgroup": "75",
         "marker": {
          "color": "#19d3f3",
          "symbol": "circle"
         },
         "mode": "markers",
         "name": "75",
         "orientation": "h",
         "showlegend": true,
         "type": "scatter",
         "x": [
          5.713
         ],
         "xaxis": "x",
         "y": [
          0.15094
         ],
         "yaxis": "y"
        },
        {
         "hovertemplate": "Nr=76<br>smog=%{x}<br>Score=%{y}<extra></extra>",
         "legendgroup": "76",
         "marker": {
          "color": "#FF6692",
          "symbol": "circle"
         },
         "mode": "markers",
         "name": "76",
         "orientation": "h",
         "showlegend": true,
         "type": "scatter",
         "x": [
          0
         ],
         "xaxis": "x",
         "y": [
          0.3522
         ],
         "yaxis": "y"
        },
        {
         "hovertemplate": "Nr=77<br>smog=%{x}<br>Score=%{y}<extra></extra>",
         "legendgroup": "77",
         "marker": {
          "color": "#B6E880",
          "symbol": "circle"
         },
         "mode": "markers",
         "name": "77",
         "orientation": "h",
         "showlegend": true,
         "type": "scatter",
         "x": [
          9.895
         ],
         "xaxis": "x",
         "y": [
          0.27044
         ],
         "yaxis": "y"
        },
        {
         "hovertemplate": "Nr=78<br>smog=%{x}<br>Score=%{y}<extra></extra>",
         "legendgroup": "78",
         "marker": {
          "color": "#FF97FF",
          "symbol": "circle"
         },
         "mode": "markers",
         "name": "78",
         "orientation": "h",
         "showlegend": true,
         "type": "scatter",
         "x": [
          0
         ],
         "xaxis": "x",
         "y": [
          0.93711
         ],
         "yaxis": "y"
        },
        {
         "hovertemplate": "Nr=79<br>smog=%{x}<br>Score=%{y}<extra></extra>",
         "legendgroup": "79",
         "marker": {
          "color": "#FECB52",
          "symbol": "circle"
         },
         "mode": "markers",
         "name": "79",
         "orientation": "h",
         "showlegend": true,
         "type": "scatter",
         "x": [
          5.713
         ],
         "xaxis": "x",
         "y": [
          0.54088
         ],
         "yaxis": "y"
        },
        {
         "hovertemplate": "Nr=80<br>smog=%{x}<br>Score=%{y}<extra></extra>",
         "legendgroup": "80",
         "marker": {
          "color": "#636efa",
          "symbol": "circle"
         },
         "mode": "markers",
         "name": "80",
         "orientation": "h",
         "showlegend": true,
         "type": "scatter",
         "x": [
          0
         ],
         "xaxis": "x",
         "y": [
          0.06289
         ],
         "yaxis": "y"
        },
        {
         "hovertemplate": "Nr=81<br>smog=%{x}<br>Score=%{y}<extra></extra>",
         "legendgroup": "81",
         "marker": {
          "color": "#EF553B",
          "symbol": "circle"
         },
         "mode": "markers",
         "name": "81",
         "orientation": "h",
         "showlegend": true,
         "type": "scatter",
         "x": [
          5.713
         ],
         "xaxis": "x",
         "y": [
          0.04403
         ],
         "yaxis": "y"
        },
        {
         "hovertemplate": "Nr=82<br>smog=%{x}<br>Score=%{y}<extra></extra>",
         "legendgroup": "82",
         "marker": {
          "color": "#00cc96",
          "symbol": "circle"
         },
         "mode": "markers",
         "name": "82",
         "orientation": "h",
         "showlegend": true,
         "type": "scatter",
         "x": [
          0
         ],
         "xaxis": "x",
         "y": [
          0.05031
         ],
         "yaxis": "y"
        },
        {
         "hovertemplate": "Nr=83<br>smog=%{x}<br>Score=%{y}<extra></extra>",
         "legendgroup": "83",
         "marker": {
          "color": "#ab63fa",
          "symbol": "circle"
         },
         "mode": "markers",
         "name": "83",
         "orientation": "h",
         "showlegend": true,
         "type": "scatter",
         "x": [
          9.895
         ],
         "xaxis": "x",
         "y": [
          0.13208
         ],
         "yaxis": "y"
        },
        {
         "hovertemplate": "Nr=84<br>smog=%{x}<br>Score=%{y}<extra></extra>",
         "legendgroup": "84",
         "marker": {
          "color": "#FFA15A",
          "symbol": "circle"
         },
         "mode": "markers",
         "name": "84",
         "orientation": "h",
         "showlegend": true,
         "type": "scatter",
         "x": [
          0
         ],
         "xaxis": "x",
         "y": [
          0.7044
         ],
         "yaxis": "y"
        },
        {
         "hovertemplate": "Nr=85<br>smog=%{x}<br>Score=%{y}<extra></extra>",
         "legendgroup": "85",
         "marker": {
          "color": "#19d3f3",
          "symbol": "circle"
         },
         "mode": "markers",
         "name": "85",
         "orientation": "h",
         "showlegend": true,
         "type": "scatter",
         "x": [
          5.713
         ],
         "xaxis": "x",
         "y": [
          0.88679
         ],
         "yaxis": "y"
        },
        {
         "hovertemplate": "Nr=86<br>smog=%{x}<br>Score=%{y}<extra></extra>",
         "legendgroup": "86",
         "marker": {
          "color": "#FF6692",
          "symbol": "circle"
         },
         "mode": "markers",
         "name": "86",
         "orientation": "h",
         "showlegend": true,
         "type": "scatter",
         "x": [
          8.079
         ],
         "xaxis": "x",
         "y": [
          0.50314
         ],
         "yaxis": "y"
        },
        {
         "hovertemplate": "Nr=87<br>smog=%{x}<br>Score=%{y}<extra></extra>",
         "legendgroup": "87",
         "marker": {
          "color": "#B6E880",
          "symbol": "circle"
         },
         "mode": "markers",
         "name": "87",
         "orientation": "h",
         "showlegend": true,
         "type": "scatter",
         "x": [
          0
         ],
         "xaxis": "x",
         "y": [
          0.06918
         ],
         "yaxis": "y"
        },
        {
         "hovertemplate": "Nr=88<br>smog=%{x}<br>Score=%{y}<extra></extra>",
         "legendgroup": "88",
         "marker": {
          "color": "#FF97FF",
          "symbol": "circle"
         },
         "mode": "markers",
         "name": "88",
         "orientation": "h",
         "showlegend": true,
         "type": "scatter",
         "x": [
          5.713
         ],
         "xaxis": "x",
         "y": [
          0.20126
         ],
         "yaxis": "y"
        },
        {
         "hovertemplate": "Nr=89<br>smog=%{x}<br>Score=%{y}<extra></extra>",
         "legendgroup": "89",
         "marker": {
          "color": "#FECB52",
          "symbol": "circle"
         },
         "mode": "markers",
         "name": "89",
         "orientation": "h",
         "showlegend": true,
         "type": "scatter",
         "x": [
          5.713
         ],
         "xaxis": "x",
         "y": [
          0.40881
         ],
         "yaxis": "y"
        },
        {
         "hovertemplate": "Nr=90<br>smog=%{x}<br>Score=%{y}<extra></extra>",
         "legendgroup": "90",
         "marker": {
          "color": "#636efa",
          "symbol": "circle"
         },
         "mode": "markers",
         "name": "90",
         "orientation": "h",
         "showlegend": true,
         "type": "scatter",
         "x": [
          5.713
         ],
         "xaxis": "x",
         "y": [
          0.15723
         ],
         "yaxis": "y"
        },
        {
         "hovertemplate": "Nr=91<br>smog=%{x}<br>Score=%{y}<extra></extra>",
         "legendgroup": "91",
         "marker": {
          "color": "#EF553B",
          "symbol": "circle"
         },
         "mode": "markers",
         "name": "91",
         "orientation": "h",
         "showlegend": true,
         "type": "scatter",
         "x": [
          5.713
         ],
         "xaxis": "x",
         "y": [
          0.38365
         ],
         "yaxis": "y"
        },
        {
         "hovertemplate": "Nr=92<br>smog=%{x}<br>Score=%{y}<extra></extra>",
         "legendgroup": "92",
         "marker": {
          "color": "#00cc96",
          "symbol": "circle"
         },
         "mode": "markers",
         "name": "92",
         "orientation": "h",
         "showlegend": true,
         "type": "scatter",
         "x": [
          11.425
         ],
         "xaxis": "x",
         "y": [
          0.01887
         ],
         "yaxis": "y"
        },
        {
         "hovertemplate": "Nr=93<br>smog=%{x}<br>Score=%{y}<extra></extra>",
         "legendgroup": "93",
         "marker": {
          "color": "#ab63fa",
          "symbol": "circle"
         },
         "mode": "markers",
         "name": "93",
         "orientation": "h",
         "showlegend": true,
         "type": "scatter",
         "x": [
          0
         ],
         "xaxis": "x",
         "y": [
          0.90566
         ],
         "yaxis": "y"
        },
        {
         "hovertemplate": "Nr=94<br>smog=%{x}<br>Score=%{y}<extra></extra>",
         "legendgroup": "94",
         "marker": {
          "color": "#FFA15A",
          "symbol": "circle"
         },
         "mode": "markers",
         "name": "94",
         "orientation": "h",
         "showlegend": true,
         "type": "scatter",
         "x": [
          8.079
         ],
         "xaxis": "x",
         "y": [
          0.48428
         ],
         "yaxis": "y"
        },
        {
         "hovertemplate": "Nr=95<br>smog=%{x}<br>Score=%{y}<extra></extra>",
         "legendgroup": "95",
         "marker": {
          "color": "#19d3f3",
          "symbol": "circle"
         },
         "mode": "markers",
         "name": "95",
         "orientation": "h",
         "showlegend": true,
         "type": "scatter",
         "x": [
          5.713
         ],
         "xaxis": "x",
         "y": [
          0.23899
         ],
         "yaxis": "y"
        },
        {
         "hovertemplate": "Nr=96<br>smog=%{x}<br>Score=%{y}<extra></extra>",
         "legendgroup": "96",
         "marker": {
          "color": "#FF6692",
          "symbol": "circle"
         },
         "mode": "markers",
         "name": "96",
         "orientation": "h",
         "showlegend": true,
         "type": "scatter",
         "x": [
          5.713
         ],
         "xaxis": "x",
         "y": [
          0.60377
         ],
         "yaxis": "y"
        },
        {
         "hovertemplate": "Nr=97<br>smog=%{x}<br>Score=%{y}<extra></extra>",
         "legendgroup": "97",
         "marker": {
          "color": "#B6E880",
          "symbol": "circle"
         },
         "mode": "markers",
         "name": "97",
         "orientation": "h",
         "showlegend": true,
         "type": "scatter",
         "x": [
          8.079
         ],
         "xaxis": "x",
         "y": [
          0.65409
         ],
         "yaxis": "y"
        },
        {
         "hovertemplate": "Nr=98<br>smog=%{x}<br>Score=%{y}<extra></extra>",
         "legendgroup": "98",
         "marker": {
          "color": "#FF97FF",
          "symbol": "circle"
         },
         "mode": "markers",
         "name": "98",
         "orientation": "h",
         "showlegend": true,
         "type": "scatter",
         "x": [
          5.713
         ],
         "xaxis": "x",
         "y": [
          0.74843
         ],
         "yaxis": "y"
        },
        {
         "hovertemplate": "Nr=99<br>smog=%{x}<br>Score=%{y}<extra></extra>",
         "legendgroup": "99",
         "marker": {
          "color": "#FECB52",
          "symbol": "circle"
         },
         "mode": "markers",
         "name": "99",
         "orientation": "h",
         "showlegend": true,
         "type": "scatter",
         "x": [
          0
         ],
         "xaxis": "x",
         "y": [
          0.11321
         ],
         "yaxis": "y"
        },
        {
         "hovertemplate": "Nr=100<br>smog=%{x}<br>Score=%{y}<extra></extra>",
         "legendgroup": "100",
         "marker": {
          "color": "#636efa",
          "symbol": "circle"
         },
         "mode": "markers",
         "name": "100",
         "orientation": "h",
         "showlegend": true,
         "type": "scatter",
         "x": [
          0
         ],
         "xaxis": "x",
         "y": [
          0.72327
         ],
         "yaxis": "y"
        },
        {
         "hovertemplate": "Nr=101<br>smog=%{x}<br>Score=%{y}<extra></extra>",
         "legendgroup": "101",
         "marker": {
          "color": "#EF553B",
          "symbol": "circle"
         },
         "mode": "markers",
         "name": "101",
         "orientation": "h",
         "showlegend": true,
         "type": "scatter",
         "x": [
          5.713
         ],
         "xaxis": "x",
         "y": [
          0
         ],
         "yaxis": "y"
        },
        {
         "hovertemplate": "Nr=102<br>smog=%{x}<br>Score=%{y}<extra></extra>",
         "legendgroup": "102",
         "marker": {
          "color": "#00cc96",
          "symbol": "circle"
         },
         "mode": "markers",
         "name": "102",
         "orientation": "h",
         "showlegend": true,
         "type": "scatter",
         "x": [
          5.713
         ],
         "xaxis": "x",
         "y": [
          0.77358
         ],
         "yaxis": "y"
        },
        {
         "hovertemplate": "Nr=103<br>smog=%{x}<br>Score=%{y}<extra></extra>",
         "legendgroup": "103",
         "marker": {
          "color": "#ab63fa",
          "symbol": "circle"
         },
         "mode": "markers",
         "name": "103",
         "orientation": "h",
         "showlegend": true,
         "type": "scatter",
         "x": [
          5.713
         ],
         "xaxis": "x",
         "y": [
          0.27673
         ],
         "yaxis": "y"
        },
        {
         "hovertemplate": "Nr=104<br>smog=%{x}<br>Score=%{y}<extra></extra>",
         "legendgroup": "104",
         "marker": {
          "color": "#FFA15A",
          "symbol": "circle"
         },
         "mode": "markers",
         "name": "104",
         "orientation": "h",
         "showlegend": true,
         "type": "scatter",
         "x": [
          8.079
         ],
         "xaxis": "x",
         "y": [
          0.26415
         ],
         "yaxis": "y"
        },
        {
         "hovertemplate": "Nr=105<br>smog=%{x}<br>Score=%{y}<extra></extra>",
         "legendgroup": "105",
         "marker": {
          "color": "#19d3f3",
          "symbol": "circle"
         },
         "mode": "markers",
         "name": "105",
         "orientation": "h",
         "showlegend": true,
         "type": "scatter",
         "x": [
          5.713
         ],
         "xaxis": "x",
         "y": [
          0.16981
         ],
         "yaxis": "y"
        },
        {
         "hovertemplate": "Nr=106<br>smog=%{x}<br>Score=%{y}<extra></extra>",
         "legendgroup": "106",
         "marker": {
          "color": "#FF6692",
          "symbol": "circle"
         },
         "mode": "markers",
         "name": "106",
         "orientation": "h",
         "showlegend": true,
         "type": "scatter",
         "x": [
          5.713
         ],
         "xaxis": "x",
         "y": [
          0.22642
         ],
         "yaxis": "y"
        },
        {
         "hovertemplate": "Nr=107<br>smog=%{x}<br>Score=%{y}<extra></extra>",
         "legendgroup": "107",
         "marker": {
          "color": "#B6E880",
          "symbol": "circle"
         },
         "mode": "markers",
         "name": "107",
         "orientation": "h",
         "showlegend": true,
         "type": "scatter",
         "x": [
          0
         ],
         "xaxis": "x",
         "y": [
          0.71698
         ],
         "yaxis": "y"
        },
        {
         "hovertemplate": "Nr=108<br>smog=%{x}<br>Score=%{y}<extra></extra>",
         "legendgroup": "108",
         "marker": {
          "color": "#FF97FF",
          "symbol": "circle"
         },
         "mode": "markers",
         "name": "108",
         "orientation": "h",
         "showlegend": true,
         "type": "scatter",
         "x": [
          9.895
         ],
         "xaxis": "x",
         "y": [
          0.54717
         ],
         "yaxis": "y"
        },
        {
         "hovertemplate": "Nr=109<br>smog=%{x}<br>Score=%{y}<extra></extra>",
         "legendgroup": "109",
         "marker": {
          "color": "#FECB52",
          "symbol": "circle"
         },
         "mode": "markers",
         "name": "109",
         "orientation": "h",
         "showlegend": true,
         "type": "scatter",
         "x": [
          0
         ],
         "xaxis": "x",
         "y": [
          0.07547
         ],
         "yaxis": "y"
        },
        {
         "hovertemplate": "Nr=110<br>smog=%{x}<br>Score=%{y}<extra></extra>",
         "legendgroup": "110",
         "marker": {
          "color": "#636efa",
          "symbol": "circle"
         },
         "mode": "markers",
         "name": "110",
         "orientation": "h",
         "showlegend": true,
         "type": "scatter",
         "x": [
          5.713
         ],
         "xaxis": "x",
         "y": [
          0.33962
         ],
         "yaxis": "y"
        },
        {
         "hovertemplate": "Nr=111<br>smog=%{x}<br>Score=%{y}<extra></extra>",
         "legendgroup": "111",
         "marker": {
          "color": "#EF553B",
          "symbol": "circle"
         },
         "mode": "markers",
         "name": "111",
         "orientation": "h",
         "showlegend": true,
         "type": "scatter",
         "x": [
          4.04
         ],
         "xaxis": "x",
         "y": [
          0.08176
         ],
         "yaxis": "y"
        },
        {
         "hovertemplate": "Nr=112<br>smog=%{x}<br>Score=%{y}<extra></extra>",
         "legendgroup": "112",
         "marker": {
          "color": "#00cc96",
          "symbol": "circle"
         },
         "mode": "markers",
         "name": "112",
         "orientation": "h",
         "showlegend": true,
         "type": "scatter",
         "x": [
          4.04
         ],
         "xaxis": "x",
         "y": [
          0.30189
         ],
         "yaxis": "y"
        },
        {
         "hovertemplate": "Nr=113<br>smog=%{x}<br>Score=%{y}<extra></extra>",
         "legendgroup": "113",
         "marker": {
          "color": "#ab63fa",
          "symbol": "circle"
         },
         "mode": "markers",
         "name": "113",
         "orientation": "h",
         "showlegend": true,
         "type": "scatter",
         "x": [
          8.079
         ],
         "xaxis": "x",
         "y": [
          0.34591
         ],
         "yaxis": "y"
        },
        {
         "hovertemplate": "Nr=114<br>smog=%{x}<br>Score=%{y}<extra></extra>",
         "legendgroup": "114",
         "marker": {
          "color": "#FFA15A",
          "symbol": "circle"
         },
         "mode": "markers",
         "name": "114",
         "orientation": "h",
         "showlegend": true,
         "type": "scatter",
         "x": [
          8.079
         ],
         "xaxis": "x",
         "y": [
          0.18868
         ],
         "yaxis": "y"
        },
        {
         "hovertemplate": "Nr=115<br>smog=%{x}<br>Score=%{y}<extra></extra>",
         "legendgroup": "115",
         "marker": {
          "color": "#19d3f3",
          "symbol": "circle"
         },
         "mode": "markers",
         "name": "115",
         "orientation": "h",
         "showlegend": true,
         "type": "scatter",
         "x": [
          5.713
         ],
         "xaxis": "x",
         "y": [
          0.28931
         ],
         "yaxis": "y"
        },
        {
         "hovertemplate": "Nr=116<br>smog=%{x}<br>Score=%{y}<extra></extra>",
         "legendgroup": "116",
         "marker": {
          "color": "#FF6692",
          "symbol": "circle"
         },
         "mode": "markers",
         "name": "116",
         "orientation": "h",
         "showlegend": true,
         "type": "scatter",
         "x": [
          4.04
         ],
         "xaxis": "x",
         "y": [
          0.21384
         ],
         "yaxis": "y"
        },
        {
         "hovertemplate": "Nr=117<br>smog=%{x}<br>Score=%{y}<extra></extra>",
         "legendgroup": "117",
         "marker": {
          "color": "#B6E880",
          "symbol": "circle"
         },
         "mode": "markers",
         "name": "117",
         "orientation": "h",
         "showlegend": true,
         "type": "scatter",
         "x": [
          5.713
         ],
         "xaxis": "x",
         "y": [
          0.16352
         ],
         "yaxis": "y"
        },
        {
         "hovertemplate": "Nr=118<br>smog=%{x}<br>Score=%{y}<extra></extra>",
         "legendgroup": "118",
         "marker": {
          "color": "#FF97FF",
          "symbol": "circle"
         },
         "mode": "markers",
         "name": "118",
         "orientation": "h",
         "showlegend": true,
         "type": "scatter",
         "x": [
          0
         ],
         "xaxis": "x",
         "y": [
          0.62893
         ],
         "yaxis": "y"
        },
        {
         "hovertemplate": "Nr=119<br>smog=%{x}<br>Score=%{y}<extra></extra>",
         "legendgroup": "119",
         "marker": {
          "color": "#FECB52",
          "symbol": "circle"
         },
         "mode": "markers",
         "name": "119",
         "orientation": "h",
         "showlegend": true,
         "type": "scatter",
         "x": [
          5.713
         ],
         "xaxis": "x",
         "y": [
          0.03774
         ],
         "yaxis": "y"
        },
        {
         "hovertemplate": "Nr=120<br>smog=%{x}<br>Score=%{y}<extra></extra>",
         "legendgroup": "120",
         "marker": {
          "color": "#636efa",
          "symbol": "circle"
         },
         "mode": "markers",
         "name": "120",
         "orientation": "h",
         "showlegend": true,
         "type": "scatter",
         "x": [
          5.713
         ],
         "xaxis": "x",
         "y": [
          0.87421
         ],
         "yaxis": "y"
        },
        {
         "hovertemplate": "Nr=121<br>smog=%{x}<br>Score=%{y}<extra></extra>",
         "legendgroup": "121",
         "marker": {
          "color": "#EF553B",
          "symbol": "circle"
         },
         "mode": "markers",
         "name": "121",
         "orientation": "h",
         "showlegend": true,
         "type": "scatter",
         "x": [
          5.713
         ],
         "xaxis": "x",
         "y": [
          0.73585
         ],
         "yaxis": "y"
        },
        {
         "hovertemplate": "Nr=122<br>smog=%{x}<br>Score=%{y}<extra></extra>",
         "legendgroup": "122",
         "marker": {
          "color": "#00cc96",
          "symbol": "circle"
         },
         "mode": "markers",
         "name": "122",
         "orientation": "h",
         "showlegend": true,
         "type": "scatter",
         "x": [
          5.713
         ],
         "xaxis": "x",
         "y": [
          0.44025
         ],
         "yaxis": "y"
        },
        {
         "hovertemplate": "Nr=123<br>smog=%{x}<br>Score=%{y}<extra></extra>",
         "legendgroup": "123",
         "marker": {
          "color": "#ab63fa",
          "symbol": "circle"
         },
         "mode": "markers",
         "name": "123",
         "orientation": "h",
         "showlegend": true,
         "type": "scatter",
         "x": [
          0
         ],
         "xaxis": "x",
         "y": [
          0.32704
         ],
         "yaxis": "y"
        },
        {
         "hovertemplate": "Nr=124<br>smog=%{x}<br>Score=%{y}<extra></extra>",
         "legendgroup": "124",
         "marker": {
          "color": "#FFA15A",
          "symbol": "circle"
         },
         "mode": "markers",
         "name": "124",
         "orientation": "h",
         "showlegend": true,
         "type": "scatter",
         "x": [
          8.079
         ],
         "xaxis": "x",
         "y": [
          0.46541
         ],
         "yaxis": "y"
        },
        {
         "hovertemplate": "Nr=125<br>smog=%{x}<br>Score=%{y}<extra></extra>",
         "legendgroup": "125",
         "marker": {
          "color": "#19d3f3",
          "symbol": "circle"
         },
         "mode": "markers",
         "name": "125",
         "orientation": "h",
         "showlegend": true,
         "type": "scatter",
         "x": [
          0
         ],
         "xaxis": "x",
         "y": [
          0.57862
         ],
         "yaxis": "y"
        },
        {
         "hovertemplate": "Nr=126<br>smog=%{x}<br>Score=%{y}<extra></extra>",
         "legendgroup": "126",
         "marker": {
          "color": "#FF6692",
          "symbol": "circle"
         },
         "mode": "markers",
         "name": "126",
         "orientation": "h",
         "showlegend": true,
         "type": "scatter",
         "x": [
          0
         ],
         "xaxis": "x",
         "y": [
          0.8239
         ],
         "yaxis": "y"
        },
        {
         "hovertemplate": "Nr=127<br>smog=%{x}<br>Score=%{y}<extra></extra>",
         "legendgroup": "127",
         "marker": {
          "color": "#B6E880",
          "symbol": "circle"
         },
         "mode": "markers",
         "name": "127",
         "orientation": "h",
         "showlegend": true,
         "type": "scatter",
         "x": [
          0
         ],
         "xaxis": "x",
         "y": [
          0.96855
         ],
         "yaxis": "y"
        },
        {
         "hovertemplate": "Nr=128<br>smog=%{x}<br>Score=%{y}<extra></extra>",
         "legendgroup": "128",
         "marker": {
          "color": "#FF97FF",
          "symbol": "circle"
         },
         "mode": "markers",
         "name": "128",
         "orientation": "h",
         "showlegend": true,
         "type": "scatter",
         "x": [
          8.079
         ],
         "xaxis": "x",
         "y": [
          0.85535
         ],
         "yaxis": "y"
        },
        {
         "hovertemplate": "Nr=129<br>smog=%{x}<br>Score=%{y}<extra></extra>",
         "legendgroup": "129",
         "marker": {
          "color": "#FECB52",
          "symbol": "circle"
         },
         "mode": "markers",
         "name": "129",
         "orientation": "h",
         "showlegend": true,
         "type": "scatter",
         "x": [
          5.713
         ],
         "xaxis": "x",
         "y": [
          0.45283
         ],
         "yaxis": "y"
        },
        {
         "hovertemplate": "Nr=130<br>smog=%{x}<br>Score=%{y}<extra></extra>",
         "legendgroup": "130",
         "marker": {
          "color": "#636efa",
          "symbol": "circle"
         },
         "mode": "markers",
         "name": "130",
         "orientation": "h",
         "showlegend": true,
         "type": "scatter",
         "x": [
          0
         ],
         "xaxis": "x",
         "y": [
          0.91824
         ],
         "yaxis": "y"
        },
        {
         "hovertemplate": "Nr=131<br>smog=%{x}<br>Score=%{y}<extra></extra>",
         "legendgroup": "131",
         "marker": {
          "color": "#EF553B",
          "symbol": "circle"
         },
         "mode": "markers",
         "name": "131",
         "orientation": "h",
         "showlegend": true,
         "type": "scatter",
         "x": [
          8.079
         ],
         "xaxis": "x",
         "y": [
          0.47799
         ],
         "yaxis": "y"
        },
        {
         "hovertemplate": "Nr=132<br>smog=%{x}<br>Score=%{y}<extra></extra>",
         "legendgroup": "132",
         "marker": {
          "color": "#00cc96",
          "symbol": "circle"
         },
         "mode": "markers",
         "name": "132",
         "orientation": "h",
         "showlegend": true,
         "type": "scatter",
         "x": [
          8.079
         ],
         "xaxis": "x",
         "y": [
          0.67296
         ],
         "yaxis": "y"
        },
        {
         "hovertemplate": "Nr=133<br>smog=%{x}<br>Score=%{y}<extra></extra>",
         "legendgroup": "133",
         "marker": {
          "color": "#ab63fa",
          "symbol": "circle"
         },
         "mode": "markers",
         "name": "133",
         "orientation": "h",
         "showlegend": true,
         "type": "scatter",
         "x": [
          5.713
         ],
         "xaxis": "x",
         "y": [
          0.6478
         ],
         "yaxis": "y"
        },
        {
         "hovertemplate": "Nr=134<br>smog=%{x}<br>Score=%{y}<extra></extra>",
         "legendgroup": "134",
         "marker": {
          "color": "#FFA15A",
          "symbol": "circle"
         },
         "mode": "markers",
         "name": "134",
         "orientation": "h",
         "showlegend": true,
         "type": "scatter",
         "x": [
          0
         ],
         "xaxis": "x",
         "y": [
          0.83019
         ],
         "yaxis": "y"
        },
        {
         "hovertemplate": "Nr=135<br>smog=%{x}<br>Score=%{y}<extra></extra>",
         "legendgroup": "135",
         "marker": {
          "color": "#19d3f3",
          "symbol": "circle"
         },
         "mode": "markers",
         "name": "135",
         "orientation": "h",
         "showlegend": true,
         "type": "scatter",
         "x": [
          8.079
         ],
         "xaxis": "x",
         "y": [
          0.98742
         ],
         "yaxis": "y"
        },
        {
         "hovertemplate": "Nr=136<br>smog=%{x}<br>Score=%{y}<extra></extra>",
         "legendgroup": "136",
         "marker": {
          "color": "#FF6692",
          "symbol": "circle"
         },
         "mode": "markers",
         "name": "136",
         "orientation": "h",
         "showlegend": true,
         "type": "scatter",
         "x": [
          8.079
         ],
         "xaxis": "x",
         "y": [
          0.44654
         ],
         "yaxis": "y"
        },
        {
         "hovertemplate": "Nr=137<br>smog=%{x}<br>Score=%{y}<extra></extra>",
         "legendgroup": "137",
         "marker": {
          "color": "#B6E880",
          "symbol": "circle"
         },
         "mode": "markers",
         "name": "137",
         "orientation": "h",
         "showlegend": true,
         "type": "scatter",
         "x": [
          9.895
         ],
         "xaxis": "x",
         "y": [
          0.35849
         ],
         "yaxis": "y"
        },
        {
         "hovertemplate": "Nr=138<br>smog=%{x}<br>Score=%{y}<extra></extra>",
         "legendgroup": "138",
         "marker": {
          "color": "#FF97FF",
          "symbol": "circle"
         },
         "mode": "markers",
         "name": "138",
         "orientation": "h",
         "showlegend": true,
         "type": "scatter",
         "x": [
          0
         ],
         "xaxis": "x",
         "y": [
          0.93082
         ],
         "yaxis": "y"
        },
        {
         "hovertemplate": "Nr=139<br>smog=%{x}<br>Score=%{y}<extra></extra>",
         "legendgroup": "139",
         "marker": {
          "color": "#FECB52",
          "symbol": "circle"
         },
         "mode": "markers",
         "name": "139",
         "orientation": "h",
         "showlegend": true,
         "type": "scatter",
         "x": [
          5.713
         ],
         "xaxis": "x",
         "y": [
          0.75472
         ],
         "yaxis": "y"
        },
        {
         "hovertemplate": "Nr=140<br>smog=%{x}<br>Score=%{y}<extra></extra>",
         "legendgroup": "140",
         "marker": {
          "color": "#636efa",
          "symbol": "circle"
         },
         "mode": "markers",
         "name": "140",
         "orientation": "h",
         "showlegend": true,
         "type": "scatter",
         "x": [
          0
         ],
         "xaxis": "x",
         "y": [
          0.94969
         ],
         "yaxis": "y"
        },
        {
         "hovertemplate": "Nr=141<br>smog=%{x}<br>Score=%{y}<extra></extra>",
         "legendgroup": "141",
         "marker": {
          "color": "#EF553B",
          "symbol": "circle"
         },
         "mode": "markers",
         "name": "141",
         "orientation": "h",
         "showlegend": true,
         "type": "scatter",
         "x": [
          5.713
         ],
         "xaxis": "x",
         "y": [
          0.89308
         ],
         "yaxis": "y"
        },
        {
         "hovertemplate": "Nr=142<br>smog=%{x}<br>Score=%{y}<extra></extra>",
         "legendgroup": "142",
         "marker": {
          "color": "#00cc96",
          "symbol": "circle"
         },
         "mode": "markers",
         "name": "142",
         "orientation": "h",
         "showlegend": true,
         "type": "scatter",
         "x": [
          5.713
         ],
         "xaxis": "x",
         "y": [
          0.10063
         ],
         "yaxis": "y"
        },
        {
         "hovertemplate": "Nr=143<br>smog=%{x}<br>Score=%{y}<extra></extra>",
         "legendgroup": "143",
         "marker": {
          "color": "#ab63fa",
          "symbol": "circle"
         },
         "mode": "markers",
         "name": "143",
         "orientation": "h",
         "showlegend": true,
         "type": "scatter",
         "x": [
          0
         ],
         "xaxis": "x",
         "y": [
          0.71069
         ],
         "yaxis": "y"
        },
        {
         "hovertemplate": "Nr=144<br>smog=%{x}<br>Score=%{y}<extra></extra>",
         "legendgroup": "144",
         "marker": {
          "color": "#FFA15A",
          "symbol": "circle"
         },
         "mode": "markers",
         "name": "144",
         "orientation": "h",
         "showlegend": true,
         "type": "scatter",
         "x": [
          8.079
         ],
         "xaxis": "x",
         "y": [
          0.81132
         ],
         "yaxis": "y"
        },
        {
         "hovertemplate": "Nr=145<br>smog=%{x}<br>Score=%{y}<extra></extra>",
         "legendgroup": "145",
         "marker": {
          "color": "#19d3f3",
          "symbol": "circle"
         },
         "mode": "markers",
         "name": "145",
         "orientation": "h",
         "showlegend": true,
         "type": "scatter",
         "x": [
          0
         ],
         "xaxis": "x",
         "y": [
          0.99371
         ],
         "yaxis": "y"
        },
        {
         "hovertemplate": "Nr=146<br>smog=%{x}<br>Score=%{y}<extra></extra>",
         "legendgroup": "146",
         "marker": {
          "color": "#FF6692",
          "symbol": "circle"
         },
         "mode": "markers",
         "name": "146",
         "orientation": "h",
         "showlegend": true,
         "type": "scatter",
         "x": [
          0
         ],
         "xaxis": "x",
         "y": [
          0.8805
         ],
         "yaxis": "y"
        },
        {
         "hovertemplate": "Nr=147<br>smog=%{x}<br>Score=%{y}<extra></extra>",
         "legendgroup": "147",
         "marker": {
          "color": "#B6E880",
          "symbol": "circle"
         },
         "mode": "markers",
         "name": "147",
         "orientation": "h",
         "showlegend": true,
         "type": "scatter",
         "x": [
          0
         ],
         "xaxis": "x",
         "y": [
          0.96226
         ],
         "yaxis": "y"
        },
        {
         "hovertemplate": "Nr=148<br>smog=%{x}<br>Score=%{y}<extra></extra>",
         "legendgroup": "148",
         "marker": {
          "color": "#FF97FF",
          "symbol": "circle"
         },
         "mode": "markers",
         "name": "148",
         "orientation": "h",
         "showlegend": true,
         "type": "scatter",
         "x": [
          5.713
         ],
         "xaxis": "x",
         "y": [
          0.79245
         ],
         "yaxis": "y"
        },
        {
         "hovertemplate": "Nr=149<br>smog=%{x}<br>Score=%{y}<extra></extra>",
         "legendgroup": "149",
         "marker": {
          "color": "#FECB52",
          "symbol": "circle"
         },
         "mode": "markers",
         "name": "149",
         "orientation": "h",
         "showlegend": true,
         "type": "scatter",
         "x": [
          0
         ],
         "xaxis": "x",
         "y": [
          0.89937
         ],
         "yaxis": "y"
        },
        {
         "hovertemplate": "Nr=150<br>smog=%{x}<br>Score=%{y}<extra></extra>",
         "legendgroup": "150",
         "marker": {
          "color": "#636efa",
          "symbol": "circle"
         },
         "mode": "markers",
         "name": "150",
         "orientation": "h",
         "showlegend": true,
         "type": "scatter",
         "x": [
          0
         ],
         "xaxis": "x",
         "y": [
          0.86792
         ],
         "yaxis": "y"
        },
        {
         "hovertemplate": "Nr=151<br>smog=%{x}<br>Score=%{y}<extra></extra>",
         "legendgroup": "151",
         "marker": {
          "color": "#EF553B",
          "symbol": "circle"
         },
         "mode": "markers",
         "name": "151",
         "orientation": "h",
         "showlegend": true,
         "type": "scatter",
         "x": [
          8.079
         ],
         "xaxis": "x",
         "y": [
          0.64151
         ],
         "yaxis": "y"
        },
        {
         "hovertemplate": "Nr=152<br>smog=%{x}<br>Score=%{y}<extra></extra>",
         "legendgroup": "152",
         "marker": {
          "color": "#00cc96",
          "symbol": "circle"
         },
         "mode": "markers",
         "name": "152",
         "orientation": "h",
         "showlegend": true,
         "type": "scatter",
         "x": [
          0
         ],
         "xaxis": "x",
         "y": [
          0.92453
         ],
         "yaxis": "y"
        },
        {
         "hovertemplate": "Nr=153<br>smog=%{x}<br>Score=%{y}<extra></extra>",
         "legendgroup": "153",
         "marker": {
          "color": "#ab63fa",
          "symbol": "circle"
         },
         "mode": "markers",
         "name": "153",
         "orientation": "h",
         "showlegend": true,
         "type": "scatter",
         "x": [
          0
         ],
         "xaxis": "x",
         "y": [
          1
         ],
         "yaxis": "y"
        },
        {
         "hovertemplate": "Nr=154<br>smog=%{x}<br>Score=%{y}<extra></extra>",
         "legendgroup": "154",
         "marker": {
          "color": "#FFA15A",
          "symbol": "circle"
         },
         "mode": "markers",
         "name": "154",
         "orientation": "h",
         "showlegend": true,
         "type": "scatter",
         "x": [
          0
         ],
         "xaxis": "x",
         "y": [
          0.83648
         ],
         "yaxis": "y"
        },
        {
         "hovertemplate": "Nr=155<br>smog=%{x}<br>Score=%{y}<extra></extra>",
         "legendgroup": "155",
         "marker": {
          "color": "#19d3f3",
          "symbol": "circle"
         },
         "mode": "markers",
         "name": "155",
         "orientation": "h",
         "showlegend": true,
         "type": "scatter",
         "x": [
          0
         ],
         "xaxis": "x",
         "y": [
          0.68553
         ],
         "yaxis": "y"
        },
        {
         "hovertemplate": "Nr=156<br>smog=%{x}<br>Score=%{y}<extra></extra>",
         "legendgroup": "156",
         "marker": {
          "color": "#FF6692",
          "symbol": "circle"
         },
         "mode": "markers",
         "name": "156",
         "orientation": "h",
         "showlegend": true,
         "type": "scatter",
         "x": [
          5.713
         ],
         "xaxis": "x",
         "y": [
          0.77987
         ],
         "yaxis": "y"
        },
        {
         "hovertemplate": "Nr=157<br>smog=%{x}<br>Score=%{y}<extra></extra>",
         "legendgroup": "157",
         "marker": {
          "color": "#B6E880",
          "symbol": "circle"
         },
         "mode": "markers",
         "name": "157",
         "orientation": "h",
         "showlegend": true,
         "type": "scatter",
         "x": [
          5.713
         ],
         "xaxis": "x",
         "y": [
          0.95597
         ],
         "yaxis": "y"
        },
        {
         "hovertemplate": "Nr=158<br>smog=%{x}<br>Score=%{y}<extra></extra>",
         "legendgroup": "158",
         "marker": {
          "color": "#FF97FF",
          "symbol": "circle"
         },
         "mode": "markers",
         "name": "158",
         "orientation": "h",
         "showlegend": true,
         "type": "scatter",
         "x": [
          0
         ],
         "xaxis": "x",
         "y": [
          0.98113
         ],
         "yaxis": "y"
        },
        {
         "hovertemplate": "Nr=159<br>smog=%{x}<br>Score=%{y}<extra></extra>",
         "legendgroup": "159",
         "marker": {
          "color": "#FECB52",
          "symbol": "circle"
         },
         "mode": "markers",
         "name": "159",
         "orientation": "h",
         "showlegend": true,
         "type": "scatter",
         "x": [
          5.713
         ],
         "xaxis": "x",
         "y": [
          0.91195
         ],
         "yaxis": "y"
        },
        {
         "hovertemplate": "<b>OLS trendline</b><br>Score = -0.0278784 * smog + 0.629485<br>R<sup>2</sup>=0.123513<br><br>smog=%{x}<br>Score=%{y} <b>(trend)</b><extra></extra>",
         "legendgroup": "Overall Trendline",
         "line": {
          "color": "#636efa"
         },
         "mode": "lines",
         "name": "Overall Trendline",
         "showlegend": true,
         "type": "scatter",
         "x": [
          0,
          0,
          0,
          0,
          0,
          0,
          0,
          0,
          0,
          0,
          0,
          0,
          0,
          0,
          0,
          0,
          0,
          0,
          0,
          0,
          0,
          0,
          0,
          0,
          0,
          0,
          0,
          0,
          0,
          0,
          0,
          0,
          0,
          0,
          0,
          0,
          0,
          0,
          0,
          0,
          0,
          0,
          0,
          0,
          0,
          0,
          0,
          0,
          0,
          0,
          0,
          0,
          0,
          0,
          4.04,
          4.04,
          4.04,
          4.04,
          5.713,
          5.713,
          5.713,
          5.713,
          5.713,
          5.713,
          5.713,
          5.713,
          5.713,
          5.713,
          5.713,
          5.713,
          5.713,
          5.713,
          5.713,
          5.713,
          5.713,
          5.713,
          5.713,
          5.713,
          5.713,
          5.713,
          5.713,
          5.713,
          5.713,
          5.713,
          5.713,
          5.713,
          5.713,
          5.713,
          5.713,
          5.713,
          5.713,
          5.713,
          5.713,
          5.713,
          5.713,
          5.713,
          5.713,
          5.713,
          5.713,
          5.713,
          5.713,
          5.713,
          5.713,
          5.713,
          5.713,
          5.713,
          5.713,
          5.713,
          5.713,
          5.713,
          5.713,
          5.713,
          5.713,
          5.713,
          5.713,
          6.997,
          8.079,
          8.079,
          8.079,
          8.079,
          8.079,
          8.079,
          8.079,
          8.079,
          8.079,
          8.079,
          8.079,
          8.079,
          8.079,
          8.079,
          8.079,
          8.079,
          8.079,
          8.079,
          8.079,
          8.079,
          8.079,
          8.079,
          8.079,
          8.079,
          8.079,
          8.079,
          8.079,
          8.079,
          9.895,
          9.895,
          9.895,
          9.895,
          9.895,
          9.895,
          9.895,
          9.895,
          9.895,
          9.895,
          9.895,
          9.895,
          11.425,
          11.425,
          11.425,
          15.115
         ],
         "xaxis": "x",
         "y": [
          0.6294847340837587,
          0.6294847340837587,
          0.6294847340837587,
          0.6294847340837587,
          0.6294847340837587,
          0.6294847340837587,
          0.6294847340837587,
          0.6294847340837587,
          0.6294847340837587,
          0.6294847340837587,
          0.6294847340837587,
          0.6294847340837587,
          0.6294847340837587,
          0.6294847340837587,
          0.6294847340837587,
          0.6294847340837587,
          0.6294847340837587,
          0.6294847340837587,
          0.6294847340837587,
          0.6294847340837587,
          0.6294847340837587,
          0.6294847340837587,
          0.6294847340837587,
          0.6294847340837587,
          0.6294847340837587,
          0.6294847340837587,
          0.6294847340837587,
          0.6294847340837587,
          0.6294847340837587,
          0.6294847340837587,
          0.6294847340837587,
          0.6294847340837587,
          0.6294847340837587,
          0.6294847340837587,
          0.6294847340837587,
          0.6294847340837587,
          0.6294847340837587,
          0.6294847340837587,
          0.6294847340837587,
          0.6294847340837587,
          0.6294847340837587,
          0.6294847340837587,
          0.6294847340837587,
          0.6294847340837587,
          0.6294847340837587,
          0.6294847340837587,
          0.6294847340837587,
          0.6294847340837587,
          0.6294847340837587,
          0.6294847340837587,
          0.6294847340837587,
          0.6294847340837587,
          0.6294847340837587,
          0.6294847340837587,
          0.5168559802665214,
          0.5168559802665214,
          0.5168559802665214,
          0.5168559802665214,
          0.4702154096882445,
          0.4702154096882445,
          0.4702154096882445,
          0.4702154096882445,
          0.4702154096882445,
          0.4702154096882445,
          0.4702154096882445,
          0.4702154096882445,
          0.4702154096882445,
          0.4702154096882445,
          0.4702154096882445,
          0.4702154096882445,
          0.4702154096882445,
          0.4702154096882445,
          0.4702154096882445,
          0.4702154096882445,
          0.4702154096882445,
          0.4702154096882445,
          0.4702154096882445,
          0.4702154096882445,
          0.4702154096882445,
          0.4702154096882445,
          0.4702154096882445,
          0.4702154096882445,
          0.4702154096882445,
          0.4702154096882445,
          0.4702154096882445,
          0.4702154096882445,
          0.4702154096882445,
          0.4702154096882445,
          0.4702154096882445,
          0.4702154096882445,
          0.4702154096882445,
          0.4702154096882445,
          0.4702154096882445,
          0.4702154096882445,
          0.4702154096882445,
          0.4702154096882445,
          0.4702154096882445,
          0.4702154096882445,
          0.4702154096882445,
          0.4702154096882445,
          0.4702154096882445,
          0.4702154096882445,
          0.4702154096882445,
          0.4702154096882445,
          0.4702154096882445,
          0.4702154096882445,
          0.4702154096882445,
          0.4702154096882445,
          0.4702154096882445,
          0.4702154096882445,
          0.4702154096882445,
          0.4702154096882445,
          0.4702154096882445,
          0.4702154096882445,
          0.4702154096882445,
          0.4344195384255384,
          0.4042551048536941,
          0.4042551048536941,
          0.4042551048536941,
          0.4042551048536941,
          0.4042551048536941,
          0.4042551048536941,
          0.4042551048536941,
          0.4042551048536941,
          0.4042551048536941,
          0.4042551048536941,
          0.4042551048536941,
          0.4042551048536941,
          0.4042551048536941,
          0.4042551048536941,
          0.4042551048536941,
          0.4042551048536941,
          0.4042551048536941,
          0.4042551048536941,
          0.4042551048536941,
          0.4042551048536941,
          0.4042551048536941,
          0.4042551048536941,
          0.4042551048536941,
          0.4042551048536941,
          0.4042551048536941,
          0.4042551048536941,
          0.4042551048536941,
          0.4042551048536941,
          0.35362792244475766,
          0.35362792244475766,
          0.35362792244475766,
          0.35362792244475766,
          0.35362792244475766,
          0.35362792244475766,
          0.35362792244475766,
          0.35362792244475766,
          0.35362792244475766,
          0.35362792244475766,
          0.35362792244475766,
          0.35362792244475766,
          0.31097396369714053,
          0.31097396369714053,
          0.31097396369714053,
          0.20810265142347567
         ],
         "yaxis": "y"
        }
       ],
       "layout": {
        "height": 400,
        "legend": {
         "title": {
          "text": "Nr"
         },
         "tracegroupgap": 0
        },
        "showlegend": false,
        "template": {
         "data": {
          "bar": [
           {
            "error_x": {
             "color": "#2a3f5f"
            },
            "error_y": {
             "color": "#2a3f5f"
            },
            "marker": {
             "line": {
              "color": "#E5ECF6",
              "width": 0.5
             },
             "pattern": {
              "fillmode": "overlay",
              "size": 10,
              "solidity": 0.2
             }
            },
            "type": "bar"
           }
          ],
          "barpolar": [
           {
            "marker": {
             "line": {
              "color": "#E5ECF6",
              "width": 0.5
             },
             "pattern": {
              "fillmode": "overlay",
              "size": 10,
              "solidity": 0.2
             }
            },
            "type": "barpolar"
           }
          ],
          "carpet": [
           {
            "aaxis": {
             "endlinecolor": "#2a3f5f",
             "gridcolor": "white",
             "linecolor": "white",
             "minorgridcolor": "white",
             "startlinecolor": "#2a3f5f"
            },
            "baxis": {
             "endlinecolor": "#2a3f5f",
             "gridcolor": "white",
             "linecolor": "white",
             "minorgridcolor": "white",
             "startlinecolor": "#2a3f5f"
            },
            "type": "carpet"
           }
          ],
          "choropleth": [
           {
            "colorbar": {
             "outlinewidth": 0,
             "ticks": ""
            },
            "type": "choropleth"
           }
          ],
          "contour": [
           {
            "colorbar": {
             "outlinewidth": 0,
             "ticks": ""
            },
            "colorscale": [
             [
              0,
              "#0d0887"
             ],
             [
              0.1111111111111111,
              "#46039f"
             ],
             [
              0.2222222222222222,
              "#7201a8"
             ],
             [
              0.3333333333333333,
              "#9c179e"
             ],
             [
              0.4444444444444444,
              "#bd3786"
             ],
             [
              0.5555555555555556,
              "#d8576b"
             ],
             [
              0.6666666666666666,
              "#ed7953"
             ],
             [
              0.7777777777777778,
              "#fb9f3a"
             ],
             [
              0.8888888888888888,
              "#fdca26"
             ],
             [
              1,
              "#f0f921"
             ]
            ],
            "type": "contour"
           }
          ],
          "contourcarpet": [
           {
            "colorbar": {
             "outlinewidth": 0,
             "ticks": ""
            },
            "type": "contourcarpet"
           }
          ],
          "heatmap": [
           {
            "colorbar": {
             "outlinewidth": 0,
             "ticks": ""
            },
            "colorscale": [
             [
              0,
              "#0d0887"
             ],
             [
              0.1111111111111111,
              "#46039f"
             ],
             [
              0.2222222222222222,
              "#7201a8"
             ],
             [
              0.3333333333333333,
              "#9c179e"
             ],
             [
              0.4444444444444444,
              "#bd3786"
             ],
             [
              0.5555555555555556,
              "#d8576b"
             ],
             [
              0.6666666666666666,
              "#ed7953"
             ],
             [
              0.7777777777777778,
              "#fb9f3a"
             ],
             [
              0.8888888888888888,
              "#fdca26"
             ],
             [
              1,
              "#f0f921"
             ]
            ],
            "type": "heatmap"
           }
          ],
          "heatmapgl": [
           {
            "colorbar": {
             "outlinewidth": 0,
             "ticks": ""
            },
            "colorscale": [
             [
              0,
              "#0d0887"
             ],
             [
              0.1111111111111111,
              "#46039f"
             ],
             [
              0.2222222222222222,
              "#7201a8"
             ],
             [
              0.3333333333333333,
              "#9c179e"
             ],
             [
              0.4444444444444444,
              "#bd3786"
             ],
             [
              0.5555555555555556,
              "#d8576b"
             ],
             [
              0.6666666666666666,
              "#ed7953"
             ],
             [
              0.7777777777777778,
              "#fb9f3a"
             ],
             [
              0.8888888888888888,
              "#fdca26"
             ],
             [
              1,
              "#f0f921"
             ]
            ],
            "type": "heatmapgl"
           }
          ],
          "histogram": [
           {
            "marker": {
             "pattern": {
              "fillmode": "overlay",
              "size": 10,
              "solidity": 0.2
             }
            },
            "type": "histogram"
           }
          ],
          "histogram2d": [
           {
            "colorbar": {
             "outlinewidth": 0,
             "ticks": ""
            },
            "colorscale": [
             [
              0,
              "#0d0887"
             ],
             [
              0.1111111111111111,
              "#46039f"
             ],
             [
              0.2222222222222222,
              "#7201a8"
             ],
             [
              0.3333333333333333,
              "#9c179e"
             ],
             [
              0.4444444444444444,
              "#bd3786"
             ],
             [
              0.5555555555555556,
              "#d8576b"
             ],
             [
              0.6666666666666666,
              "#ed7953"
             ],
             [
              0.7777777777777778,
              "#fb9f3a"
             ],
             [
              0.8888888888888888,
              "#fdca26"
             ],
             [
              1,
              "#f0f921"
             ]
            ],
            "type": "histogram2d"
           }
          ],
          "histogram2dcontour": [
           {
            "colorbar": {
             "outlinewidth": 0,
             "ticks": ""
            },
            "colorscale": [
             [
              0,
              "#0d0887"
             ],
             [
              0.1111111111111111,
              "#46039f"
             ],
             [
              0.2222222222222222,
              "#7201a8"
             ],
             [
              0.3333333333333333,
              "#9c179e"
             ],
             [
              0.4444444444444444,
              "#bd3786"
             ],
             [
              0.5555555555555556,
              "#d8576b"
             ],
             [
              0.6666666666666666,
              "#ed7953"
             ],
             [
              0.7777777777777778,
              "#fb9f3a"
             ],
             [
              0.8888888888888888,
              "#fdca26"
             ],
             [
              1,
              "#f0f921"
             ]
            ],
            "type": "histogram2dcontour"
           }
          ],
          "mesh3d": [
           {
            "colorbar": {
             "outlinewidth": 0,
             "ticks": ""
            },
            "type": "mesh3d"
           }
          ],
          "parcoords": [
           {
            "line": {
             "colorbar": {
              "outlinewidth": 0,
              "ticks": ""
             }
            },
            "type": "parcoords"
           }
          ],
          "pie": [
           {
            "automargin": true,
            "type": "pie"
           }
          ],
          "scatter": [
           {
            "fillpattern": {
             "fillmode": "overlay",
             "size": 10,
             "solidity": 0.2
            },
            "type": "scatter"
           }
          ],
          "scatter3d": [
           {
            "line": {
             "colorbar": {
              "outlinewidth": 0,
              "ticks": ""
             }
            },
            "marker": {
             "colorbar": {
              "outlinewidth": 0,
              "ticks": ""
             }
            },
            "type": "scatter3d"
           }
          ],
          "scattercarpet": [
           {
            "marker": {
             "colorbar": {
              "outlinewidth": 0,
              "ticks": ""
             }
            },
            "type": "scattercarpet"
           }
          ],
          "scattergeo": [
           {
            "marker": {
             "colorbar": {
              "outlinewidth": 0,
              "ticks": ""
             }
            },
            "type": "scattergeo"
           }
          ],
          "scattergl": [
           {
            "marker": {
             "colorbar": {
              "outlinewidth": 0,
              "ticks": ""
             }
            },
            "type": "scattergl"
           }
          ],
          "scattermapbox": [
           {
            "marker": {
             "colorbar": {
              "outlinewidth": 0,
              "ticks": ""
             }
            },
            "type": "scattermapbox"
           }
          ],
          "scatterpolar": [
           {
            "marker": {
             "colorbar": {
              "outlinewidth": 0,
              "ticks": ""
             }
            },
            "type": "scatterpolar"
           }
          ],
          "scatterpolargl": [
           {
            "marker": {
             "colorbar": {
              "outlinewidth": 0,
              "ticks": ""
             }
            },
            "type": "scatterpolargl"
           }
          ],
          "scatterternary": [
           {
            "marker": {
             "colorbar": {
              "outlinewidth": 0,
              "ticks": ""
             }
            },
            "type": "scatterternary"
           }
          ],
          "surface": [
           {
            "colorbar": {
             "outlinewidth": 0,
             "ticks": ""
            },
            "colorscale": [
             [
              0,
              "#0d0887"
             ],
             [
              0.1111111111111111,
              "#46039f"
             ],
             [
              0.2222222222222222,
              "#7201a8"
             ],
             [
              0.3333333333333333,
              "#9c179e"
             ],
             [
              0.4444444444444444,
              "#bd3786"
             ],
             [
              0.5555555555555556,
              "#d8576b"
             ],
             [
              0.6666666666666666,
              "#ed7953"
             ],
             [
              0.7777777777777778,
              "#fb9f3a"
             ],
             [
              0.8888888888888888,
              "#fdca26"
             ],
             [
              1,
              "#f0f921"
             ]
            ],
            "type": "surface"
           }
          ],
          "table": [
           {
            "cells": {
             "fill": {
              "color": "#EBF0F8"
             },
             "line": {
              "color": "white"
             }
            },
            "header": {
             "fill": {
              "color": "#C8D4E3"
             },
             "line": {
              "color": "white"
             }
            },
            "type": "table"
           }
          ]
         },
         "layout": {
          "annotationdefaults": {
           "arrowcolor": "#2a3f5f",
           "arrowhead": 0,
           "arrowwidth": 1
          },
          "autotypenumbers": "strict",
          "coloraxis": {
           "colorbar": {
            "outlinewidth": 0,
            "ticks": ""
           }
          },
          "colorscale": {
           "diverging": [
            [
             0,
             "#8e0152"
            ],
            [
             0.1,
             "#c51b7d"
            ],
            [
             0.2,
             "#de77ae"
            ],
            [
             0.3,
             "#f1b6da"
            ],
            [
             0.4,
             "#fde0ef"
            ],
            [
             0.5,
             "#f7f7f7"
            ],
            [
             0.6,
             "#e6f5d0"
            ],
            [
             0.7,
             "#b8e186"
            ],
            [
             0.8,
             "#7fbc41"
            ],
            [
             0.9,
             "#4d9221"
            ],
            [
             1,
             "#276419"
            ]
           ],
           "sequential": [
            [
             0,
             "#0d0887"
            ],
            [
             0.1111111111111111,
             "#46039f"
            ],
            [
             0.2222222222222222,
             "#7201a8"
            ],
            [
             0.3333333333333333,
             "#9c179e"
            ],
            [
             0.4444444444444444,
             "#bd3786"
            ],
            [
             0.5555555555555556,
             "#d8576b"
            ],
            [
             0.6666666666666666,
             "#ed7953"
            ],
            [
             0.7777777777777778,
             "#fb9f3a"
            ],
            [
             0.8888888888888888,
             "#fdca26"
            ],
            [
             1,
             "#f0f921"
            ]
           ],
           "sequentialminus": [
            [
             0,
             "#0d0887"
            ],
            [
             0.1111111111111111,
             "#46039f"
            ],
            [
             0.2222222222222222,
             "#7201a8"
            ],
            [
             0.3333333333333333,
             "#9c179e"
            ],
            [
             0.4444444444444444,
             "#bd3786"
            ],
            [
             0.5555555555555556,
             "#d8576b"
            ],
            [
             0.6666666666666666,
             "#ed7953"
            ],
            [
             0.7777777777777778,
             "#fb9f3a"
            ],
            [
             0.8888888888888888,
             "#fdca26"
            ],
            [
             1,
             "#f0f921"
            ]
           ]
          },
          "colorway": [
           "#636efa",
           "#EF553B",
           "#00cc96",
           "#ab63fa",
           "#FFA15A",
           "#19d3f3",
           "#FF6692",
           "#B6E880",
           "#FF97FF",
           "#FECB52"
          ],
          "font": {
           "color": "#2a3f5f"
          },
          "geo": {
           "bgcolor": "white",
           "lakecolor": "white",
           "landcolor": "#E5ECF6",
           "showlakes": true,
           "showland": true,
           "subunitcolor": "white"
          },
          "hoverlabel": {
           "align": "left"
          },
          "hovermode": "closest",
          "mapbox": {
           "style": "light"
          },
          "paper_bgcolor": "white",
          "plot_bgcolor": "#E5ECF6",
          "polar": {
           "angularaxis": {
            "gridcolor": "white",
            "linecolor": "white",
            "ticks": ""
           },
           "bgcolor": "#E5ECF6",
           "radialaxis": {
            "gridcolor": "white",
            "linecolor": "white",
            "ticks": ""
           }
          },
          "scene": {
           "xaxis": {
            "backgroundcolor": "#E5ECF6",
            "gridcolor": "white",
            "gridwidth": 2,
            "linecolor": "white",
            "showbackground": true,
            "ticks": "",
            "zerolinecolor": "white"
           },
           "yaxis": {
            "backgroundcolor": "#E5ECF6",
            "gridcolor": "white",
            "gridwidth": 2,
            "linecolor": "white",
            "showbackground": true,
            "ticks": "",
            "zerolinecolor": "white"
           },
           "zaxis": {
            "backgroundcolor": "#E5ECF6",
            "gridcolor": "white",
            "gridwidth": 2,
            "linecolor": "white",
            "showbackground": true,
            "ticks": "",
            "zerolinecolor": "white"
           }
          },
          "shapedefaults": {
           "line": {
            "color": "#2a3f5f"
           }
          },
          "ternary": {
           "aaxis": {
            "gridcolor": "white",
            "linecolor": "white",
            "ticks": ""
           },
           "baxis": {
            "gridcolor": "white",
            "linecolor": "white",
            "ticks": ""
           },
           "bgcolor": "#E5ECF6",
           "caxis": {
            "gridcolor": "white",
            "linecolor": "white",
            "ticks": ""
           }
          },
          "title": {
           "x": 0.05
          },
          "xaxis": {
           "automargin": true,
           "gridcolor": "white",
           "linecolor": "white",
           "ticks": "",
           "title": {
            "standoff": 15
           },
           "zerolinecolor": "white",
           "zerolinewidth": 2
          },
          "yaxis": {
           "automargin": true,
           "gridcolor": "white",
           "linecolor": "white",
           "ticks": "",
           "title": {
            "standoff": 15
           },
           "zerolinecolor": "white",
           "zerolinewidth": 2
          }
         }
        },
        "title": {
         "text": "Correlation between amount of smog and Score"
        },
        "width": 800,
        "xaxis": {
         "anchor": "y",
         "domain": [
          0,
          1
         ],
         "title": {
          "text": "smog"
         }
        },
        "yaxis": {
         "anchor": "x",
         "domain": [
          0,
          1
         ],
         "title": {
          "text": "Score"
         }
        }
       }
      }
     },
     "metadata": {},
     "output_type": "display_data"
    }
   ],
   "source": [
    "smogCorrelation(df)"
   ]
  },
  {
   "cell_type": "code",
   "execution_count": 19,
   "metadata": {},
   "outputs": [
    {
     "name": "stdout",
     "output_type": "stream",
     "text": [
      "The Pearson correlation coefficient between Score and Nomen is: -0.313, p: 0.000.\n"
     ]
    },
    {
     "data": {
      "application/vnd.plotly.v1+json": {
       "config": {
        "plotlyServerURL": "https://plot.ly"
       },
       "data": [
        {
         "hovertemplate": "Nr=0<br>unique_nouns=%{x}<br>Score=%{y}<extra></extra>",
         "legendgroup": "0",
         "marker": {
          "color": "#636efa",
          "symbol": "circle"
         },
         "mode": "markers",
         "name": "0",
         "orientation": "h",
         "showlegend": true,
         "type": "scatter",
         "x": [
          2
         ],
         "xaxis": "x",
         "y": [
          0.31447
         ],
         "yaxis": "y"
        },
        {
         "hovertemplate": "Nr=1<br>unique_nouns=%{x}<br>Score=%{y}<extra></extra>",
         "legendgroup": "1",
         "marker": {
          "color": "#EF553B",
          "symbol": "circle"
         },
         "mode": "markers",
         "name": "1",
         "orientation": "h",
         "showlegend": true,
         "type": "scatter",
         "x": [
          7
         ],
         "xaxis": "x",
         "y": [
          0.30818
         ],
         "yaxis": "y"
        },
        {
         "hovertemplate": "Nr=2<br>unique_nouns=%{x}<br>Score=%{y}<extra></extra>",
         "legendgroup": "2",
         "marker": {
          "color": "#00cc96",
          "symbol": "circle"
         },
         "mode": "markers",
         "name": "2",
         "orientation": "h",
         "showlegend": true,
         "type": "scatter",
         "x": [
          2
         ],
         "xaxis": "x",
         "y": [
          0.84906
         ],
         "yaxis": "y"
        },
        {
         "hovertemplate": "Nr=3<br>unique_nouns=%{x}<br>Score=%{y}<extra></extra>",
         "legendgroup": "3",
         "marker": {
          "color": "#ab63fa",
          "symbol": "circle"
         },
         "mode": "markers",
         "name": "3",
         "orientation": "h",
         "showlegend": true,
         "type": "scatter",
         "x": [
          5
         ],
         "xaxis": "x",
         "y": [
          0.97484
         ],
         "yaxis": "y"
        },
        {
         "hovertemplate": "Nr=4<br>unique_nouns=%{x}<br>Score=%{y}<extra></extra>",
         "legendgroup": "4",
         "marker": {
          "color": "#FFA15A",
          "symbol": "circle"
         },
         "mode": "markers",
         "name": "4",
         "orientation": "h",
         "showlegend": true,
         "type": "scatter",
         "x": [
          4
         ],
         "xaxis": "x",
         "y": [
          0.2956
         ],
         "yaxis": "y"
        },
        {
         "hovertemplate": "Nr=5<br>unique_nouns=%{x}<br>Score=%{y}<extra></extra>",
         "legendgroup": "5",
         "marker": {
          "color": "#19d3f3",
          "symbol": "circle"
         },
         "mode": "markers",
         "name": "5",
         "orientation": "h",
         "showlegend": true,
         "type": "scatter",
         "x": [
          5
         ],
         "xaxis": "x",
         "y": [
          0.57233
         ],
         "yaxis": "y"
        },
        {
         "hovertemplate": "Nr=6<br>unique_nouns=%{x}<br>Score=%{y}<extra></extra>",
         "legendgroup": "6",
         "marker": {
          "color": "#FF6692",
          "symbol": "circle"
         },
         "mode": "markers",
         "name": "6",
         "orientation": "h",
         "showlegend": true,
         "type": "scatter",
         "x": [
          3
         ],
         "xaxis": "x",
         "y": [
          0.22013
         ],
         "yaxis": "y"
        },
        {
         "hovertemplate": "Nr=7<br>unique_nouns=%{x}<br>Score=%{y}<extra></extra>",
         "legendgroup": "7",
         "marker": {
          "color": "#B6E880",
          "symbol": "circle"
         },
         "mode": "markers",
         "name": "7",
         "orientation": "h",
         "showlegend": true,
         "type": "scatter",
         "x": [
          6
         ],
         "xaxis": "x",
         "y": [
          0.32075
         ],
         "yaxis": "y"
        },
        {
         "hovertemplate": "Nr=8<br>unique_nouns=%{x}<br>Score=%{y}<extra></extra>",
         "legendgroup": "8",
         "marker": {
          "color": "#FF97FF",
          "symbol": "circle"
         },
         "mode": "markers",
         "name": "8",
         "orientation": "h",
         "showlegend": true,
         "type": "scatter",
         "x": [
          2
         ],
         "xaxis": "x",
         "y": [
          0.1195
         ],
         "yaxis": "y"
        },
        {
         "hovertemplate": "Nr=9<br>unique_nouns=%{x}<br>Score=%{y}<extra></extra>",
         "legendgroup": "9",
         "marker": {
          "color": "#FECB52",
          "symbol": "circle"
         },
         "mode": "markers",
         "name": "9",
         "orientation": "h",
         "showlegend": true,
         "type": "scatter",
         "x": [
          6
         ],
         "xaxis": "x",
         "y": [
          0.66038
         ],
         "yaxis": "y"
        },
        {
         "hovertemplate": "Nr=10<br>unique_nouns=%{x}<br>Score=%{y}<extra></extra>",
         "legendgroup": "10",
         "marker": {
          "color": "#636efa",
          "symbol": "circle"
         },
         "mode": "markers",
         "name": "10",
         "orientation": "h",
         "showlegend": true,
         "type": "scatter",
         "x": [
          6
         ],
         "xaxis": "x",
         "y": [
          0.4717
         ],
         "yaxis": "y"
        },
        {
         "hovertemplate": "Nr=11<br>unique_nouns=%{x}<br>Score=%{y}<extra></extra>",
         "legendgroup": "11",
         "marker": {
          "color": "#EF553B",
          "symbol": "circle"
         },
         "mode": "markers",
         "name": "11",
         "orientation": "h",
         "showlegend": true,
         "type": "scatter",
         "x": [
          4
         ],
         "xaxis": "x",
         "y": [
          0.28302
         ],
         "yaxis": "y"
        },
        {
         "hovertemplate": "Nr=12<br>unique_nouns=%{x}<br>Score=%{y}<extra></extra>",
         "legendgroup": "12",
         "marker": {
          "color": "#00cc96",
          "symbol": "circle"
         },
         "mode": "markers",
         "name": "12",
         "orientation": "h",
         "showlegend": true,
         "type": "scatter",
         "x": [
          8
         ],
         "xaxis": "x",
         "y": [
          0.67925
         ],
         "yaxis": "y"
        },
        {
         "hovertemplate": "Nr=13<br>unique_nouns=%{x}<br>Score=%{y}<extra></extra>",
         "legendgroup": "13",
         "marker": {
          "color": "#ab63fa",
          "symbol": "circle"
         },
         "mode": "markers",
         "name": "13",
         "orientation": "h",
         "showlegend": true,
         "type": "scatter",
         "x": [
          2
         ],
         "xaxis": "x",
         "y": [
          0.9434
         ],
         "yaxis": "y"
        },
        {
         "hovertemplate": "Nr=14<br>unique_nouns=%{x}<br>Score=%{y}<extra></extra>",
         "legendgroup": "14",
         "marker": {
          "color": "#FFA15A",
          "symbol": "circle"
         },
         "mode": "markers",
         "name": "14",
         "orientation": "h",
         "showlegend": true,
         "type": "scatter",
         "x": [
          2
         ],
         "xaxis": "x",
         "y": [
          0.76101
         ],
         "yaxis": "y"
        },
        {
         "hovertemplate": "Nr=15<br>unique_nouns=%{x}<br>Score=%{y}<extra></extra>",
         "legendgroup": "15",
         "marker": {
          "color": "#19d3f3",
          "symbol": "circle"
         },
         "mode": "markers",
         "name": "15",
         "orientation": "h",
         "showlegend": true,
         "type": "scatter",
         "x": [
          5
         ],
         "xaxis": "x",
         "y": [
          0.01258
         ],
         "yaxis": "y"
        },
        {
         "hovertemplate": "Nr=16<br>unique_nouns=%{x}<br>Score=%{y}<extra></extra>",
         "legendgroup": "16",
         "marker": {
          "color": "#FF6692",
          "symbol": "circle"
         },
         "mode": "markers",
         "name": "16",
         "orientation": "h",
         "showlegend": true,
         "type": "scatter",
         "x": [
          7
         ],
         "xaxis": "x",
         "y": [
          0.09434
         ],
         "yaxis": "y"
        },
        {
         "hovertemplate": "Nr=17<br>unique_nouns=%{x}<br>Score=%{y}<extra></extra>",
         "legendgroup": "17",
         "marker": {
          "color": "#B6E880",
          "symbol": "circle"
         },
         "mode": "markers",
         "name": "17",
         "orientation": "h",
         "showlegend": true,
         "type": "scatter",
         "x": [
          1
         ],
         "xaxis": "x",
         "y": [
          0.78616
         ],
         "yaxis": "y"
        },
        {
         "hovertemplate": "Nr=18<br>unique_nouns=%{x}<br>Score=%{y}<extra></extra>",
         "legendgroup": "18",
         "marker": {
          "color": "#FF97FF",
          "symbol": "circle"
         },
         "mode": "markers",
         "name": "18",
         "orientation": "h",
         "showlegend": true,
         "type": "scatter",
         "x": [
          7
         ],
         "xaxis": "x",
         "y": [
          0.62264
         ],
         "yaxis": "y"
        },
        {
         "hovertemplate": "Nr=19<br>unique_nouns=%{x}<br>Score=%{y}<extra></extra>",
         "legendgroup": "19",
         "marker": {
          "color": "#FECB52",
          "symbol": "circle"
         },
         "mode": "markers",
         "name": "19",
         "orientation": "h",
         "showlegend": true,
         "type": "scatter",
         "x": [
          4
         ],
         "xaxis": "x",
         "y": [
          0.72956
         ],
         "yaxis": "y"
        },
        {
         "hovertemplate": "Nr=20<br>unique_nouns=%{x}<br>Score=%{y}<extra></extra>",
         "legendgroup": "20",
         "marker": {
          "color": "#636efa",
          "symbol": "circle"
         },
         "mode": "markers",
         "name": "20",
         "orientation": "h",
         "showlegend": true,
         "type": "scatter",
         "x": [
          3
         ],
         "xaxis": "x",
         "y": [
          0.12579
         ],
         "yaxis": "y"
        },
        {
         "hovertemplate": "Nr=21<br>unique_nouns=%{x}<br>Score=%{y}<extra></extra>",
         "legendgroup": "21",
         "marker": {
          "color": "#EF553B",
          "symbol": "circle"
         },
         "mode": "markers",
         "name": "21",
         "orientation": "h",
         "showlegend": true,
         "type": "scatter",
         "x": [
          4
         ],
         "xaxis": "x",
         "y": [
          0.5283
         ],
         "yaxis": "y"
        },
        {
         "hovertemplate": "Nr=22<br>unique_nouns=%{x}<br>Score=%{y}<extra></extra>",
         "legendgroup": "22",
         "marker": {
          "color": "#00cc96",
          "symbol": "circle"
         },
         "mode": "markers",
         "name": "22",
         "orientation": "h",
         "showlegend": true,
         "type": "scatter",
         "x": [
          8
         ],
         "xaxis": "x",
         "y": [
          0.19497
         ],
         "yaxis": "y"
        },
        {
         "hovertemplate": "Nr=23<br>unique_nouns=%{x}<br>Score=%{y}<extra></extra>",
         "legendgroup": "23",
         "marker": {
          "color": "#ab63fa",
          "symbol": "circle"
         },
         "mode": "markers",
         "name": "23",
         "orientation": "h",
         "showlegend": true,
         "type": "scatter",
         "x": [
          5
         ],
         "xaxis": "x",
         "y": [
          0.00629
         ],
         "yaxis": "y"
        },
        {
         "hovertemplate": "Nr=24<br>unique_nouns=%{x}<br>Score=%{y}<extra></extra>",
         "legendgroup": "24",
         "marker": {
          "color": "#FFA15A",
          "symbol": "circle"
         },
         "mode": "markers",
         "name": "24",
         "orientation": "h",
         "showlegend": true,
         "type": "scatter",
         "x": [
          8
         ],
         "xaxis": "x",
         "y": [
          0.40252
         ],
         "yaxis": "y"
        },
        {
         "hovertemplate": "Nr=25<br>unique_nouns=%{x}<br>Score=%{y}<extra></extra>",
         "legendgroup": "25",
         "marker": {
          "color": "#19d3f3",
          "symbol": "circle"
         },
         "mode": "markers",
         "name": "25",
         "orientation": "h",
         "showlegend": true,
         "type": "scatter",
         "x": [
          12
         ],
         "xaxis": "x",
         "y": [
          0.10692
         ],
         "yaxis": "y"
        },
        {
         "hovertemplate": "Nr=26<br>unique_nouns=%{x}<br>Score=%{y}<extra></extra>",
         "legendgroup": "26",
         "marker": {
          "color": "#FF6692",
          "symbol": "circle"
         },
         "mode": "markers",
         "name": "26",
         "orientation": "h",
         "showlegend": true,
         "type": "scatter",
         "x": [
          7
         ],
         "xaxis": "x",
         "y": [
          0.41509
         ],
         "yaxis": "y"
        },
        {
         "hovertemplate": "Nr=27<br>unique_nouns=%{x}<br>Score=%{y}<extra></extra>",
         "legendgroup": "27",
         "marker": {
          "color": "#B6E880",
          "symbol": "circle"
         },
         "mode": "markers",
         "name": "27",
         "orientation": "h",
         "showlegend": true,
         "type": "scatter",
         "x": [
          7
         ],
         "xaxis": "x",
         "y": [
          0.45912
         ],
         "yaxis": "y"
        },
        {
         "hovertemplate": "Nr=28<br>unique_nouns=%{x}<br>Score=%{y}<extra></extra>",
         "legendgroup": "28",
         "marker": {
          "color": "#FF97FF",
          "symbol": "circle"
         },
         "mode": "markers",
         "name": "28",
         "orientation": "h",
         "showlegend": true,
         "type": "scatter",
         "x": [
          4
         ],
         "xaxis": "x",
         "y": [
          0.86164
         ],
         "yaxis": "y"
        },
        {
         "hovertemplate": "Nr=29<br>unique_nouns=%{x}<br>Score=%{y}<extra></extra>",
         "legendgroup": "29",
         "marker": {
          "color": "#FECB52",
          "symbol": "circle"
         },
         "mode": "markers",
         "name": "29",
         "orientation": "h",
         "showlegend": true,
         "type": "scatter",
         "x": [
          5
         ],
         "xaxis": "x",
         "y": [
          0.80503
         ],
         "yaxis": "y"
        },
        {
         "hovertemplate": "Nr=30<br>unique_nouns=%{x}<br>Score=%{y}<extra></extra>",
         "legendgroup": "30",
         "marker": {
          "color": "#636efa",
          "symbol": "circle"
         },
         "mode": "markers",
         "name": "30",
         "orientation": "h",
         "showlegend": true,
         "type": "scatter",
         "x": [
          6
         ],
         "xaxis": "x",
         "y": [
          0.7673
         ],
         "yaxis": "y"
        },
        {
         "hovertemplate": "Nr=31<br>unique_nouns=%{x}<br>Score=%{y}<extra></extra>",
         "legendgroup": "31",
         "marker": {
          "color": "#EF553B",
          "symbol": "circle"
         },
         "mode": "markers",
         "name": "31",
         "orientation": "h",
         "showlegend": true,
         "type": "scatter",
         "x": [
          3
         ],
         "xaxis": "x",
         "y": [
          0.51572
         ],
         "yaxis": "y"
        },
        {
         "hovertemplate": "Nr=32<br>unique_nouns=%{x}<br>Score=%{y}<extra></extra>",
         "legendgroup": "32",
         "marker": {
          "color": "#00cc96",
          "symbol": "circle"
         },
         "mode": "markers",
         "name": "32",
         "orientation": "h",
         "showlegend": true,
         "type": "scatter",
         "x": [
          3
         ],
         "xaxis": "x",
         "y": [
          0.79874
         ],
         "yaxis": "y"
        },
        {
         "hovertemplate": "Nr=33<br>unique_nouns=%{x}<br>Score=%{y}<extra></extra>",
         "legendgroup": "33",
         "marker": {
          "color": "#ab63fa",
          "symbol": "circle"
         },
         "mode": "markers",
         "name": "33",
         "orientation": "h",
         "showlegend": true,
         "type": "scatter",
         "x": [
          9
         ],
         "xaxis": "x",
         "y": [
          0.0566
         ],
         "yaxis": "y"
        },
        {
         "hovertemplate": "Nr=34<br>unique_nouns=%{x}<br>Score=%{y}<extra></extra>",
         "legendgroup": "34",
         "marker": {
          "color": "#FFA15A",
          "symbol": "circle"
         },
         "mode": "markers",
         "name": "34",
         "orientation": "h",
         "showlegend": true,
         "type": "scatter",
         "x": [
          8
         ],
         "xaxis": "x",
         "y": [
          0.37107
         ],
         "yaxis": "y"
        },
        {
         "hovertemplate": "Nr=35<br>unique_nouns=%{x}<br>Score=%{y}<extra></extra>",
         "legendgroup": "35",
         "marker": {
          "color": "#19d3f3",
          "symbol": "circle"
         },
         "mode": "markers",
         "name": "35",
         "orientation": "h",
         "showlegend": true,
         "type": "scatter",
         "x": [
          12
         ],
         "xaxis": "x",
         "y": [
          0.02516
         ],
         "yaxis": "y"
        },
        {
         "hovertemplate": "Nr=36<br>unique_nouns=%{x}<br>Score=%{y}<extra></extra>",
         "legendgroup": "36",
         "marker": {
          "color": "#FF6692",
          "symbol": "circle"
         },
         "mode": "markers",
         "name": "36",
         "orientation": "h",
         "showlegend": true,
         "type": "scatter",
         "x": [
          3
         ],
         "xaxis": "x",
         "y": [
          0.39623
         ],
         "yaxis": "y"
        },
        {
         "hovertemplate": "Nr=37<br>unique_nouns=%{x}<br>Score=%{y}<extra></extra>",
         "legendgroup": "37",
         "marker": {
          "color": "#B6E880",
          "symbol": "circle"
         },
         "mode": "markers",
         "name": "37",
         "orientation": "h",
         "showlegend": true,
         "type": "scatter",
         "x": [
          10
         ],
         "xaxis": "x",
         "y": [
          0.03145
         ],
         "yaxis": "y"
        },
        {
         "hovertemplate": "Nr=38<br>unique_nouns=%{x}<br>Score=%{y}<extra></extra>",
         "legendgroup": "38",
         "marker": {
          "color": "#FF97FF",
          "symbol": "circle"
         },
         "mode": "markers",
         "name": "38",
         "orientation": "h",
         "showlegend": true,
         "type": "scatter",
         "x": [
          6
         ],
         "xaxis": "x",
         "y": [
          0.59748
         ],
         "yaxis": "y"
        },
        {
         "hovertemplate": "Nr=39<br>unique_nouns=%{x}<br>Score=%{y}<extra></extra>",
         "legendgroup": "39",
         "marker": {
          "color": "#FECB52",
          "symbol": "circle"
         },
         "mode": "markers",
         "name": "39",
         "orientation": "h",
         "showlegend": true,
         "type": "scatter",
         "x": [
          3
         ],
         "xaxis": "x",
         "y": [
          0.20755
         ],
         "yaxis": "y"
        },
        {
         "hovertemplate": "Nr=40<br>unique_nouns=%{x}<br>Score=%{y}<extra></extra>",
         "legendgroup": "40",
         "marker": {
          "color": "#636efa",
          "symbol": "circle"
         },
         "mode": "markers",
         "name": "40",
         "orientation": "h",
         "showlegend": true,
         "type": "scatter",
         "x": [
          5
         ],
         "xaxis": "x",
         "y": [
          0.61006
         ],
         "yaxis": "y"
        },
        {
         "hovertemplate": "Nr=41<br>unique_nouns=%{x}<br>Score=%{y}<extra></extra>",
         "legendgroup": "41",
         "marker": {
          "color": "#EF553B",
          "symbol": "circle"
         },
         "mode": "markers",
         "name": "41",
         "orientation": "h",
         "showlegend": true,
         "type": "scatter",
         "x": [
          3
         ],
         "xaxis": "x",
         "y": [
          0.56604
         ],
         "yaxis": "y"
        },
        {
         "hovertemplate": "Nr=42<br>unique_nouns=%{x}<br>Score=%{y}<extra></extra>",
         "legendgroup": "42",
         "marker": {
          "color": "#00cc96",
          "symbol": "circle"
         },
         "mode": "markers",
         "name": "42",
         "orientation": "h",
         "showlegend": true,
         "type": "scatter",
         "x": [
          8
         ],
         "xaxis": "x",
         "y": [
          0.38994
         ],
         "yaxis": "y"
        },
        {
         "hovertemplate": "Nr=43<br>unique_nouns=%{x}<br>Score=%{y}<extra></extra>",
         "legendgroup": "43",
         "marker": {
          "color": "#ab63fa",
          "symbol": "circle"
         },
         "mode": "markers",
         "name": "43",
         "orientation": "h",
         "showlegend": true,
         "type": "scatter",
         "x": [
          5
         ],
         "xaxis": "x",
         "y": [
          0.18239
         ],
         "yaxis": "y"
        },
        {
         "hovertemplate": "Nr=44<br>unique_nouns=%{x}<br>Score=%{y}<extra></extra>",
         "legendgroup": "44",
         "marker": {
          "color": "#FFA15A",
          "symbol": "circle"
         },
         "mode": "markers",
         "name": "44",
         "orientation": "h",
         "showlegend": true,
         "type": "scatter",
         "x": [
          7
         ],
         "xaxis": "x",
         "y": [
          0.24528
         ],
         "yaxis": "y"
        },
        {
         "hovertemplate": "Nr=45<br>unique_nouns=%{x}<br>Score=%{y}<extra></extra>",
         "legendgroup": "45",
         "marker": {
          "color": "#19d3f3",
          "symbol": "circle"
         },
         "mode": "markers",
         "name": "45",
         "orientation": "h",
         "showlegend": true,
         "type": "scatter",
         "x": [
          5
         ],
         "xaxis": "x",
         "y": [
          0.58491
         ],
         "yaxis": "y"
        },
        {
         "hovertemplate": "Nr=46<br>unique_nouns=%{x}<br>Score=%{y}<extra></extra>",
         "legendgroup": "46",
         "marker": {
          "color": "#FF6692",
          "symbol": "circle"
         },
         "mode": "markers",
         "name": "46",
         "orientation": "h",
         "showlegend": true,
         "type": "scatter",
         "x": [
          5
         ],
         "xaxis": "x",
         "y": [
          0.13836
         ],
         "yaxis": "y"
        },
        {
         "hovertemplate": "Nr=47<br>unique_nouns=%{x}<br>Score=%{y}<extra></extra>",
         "legendgroup": "47",
         "marker": {
          "color": "#B6E880",
          "symbol": "circle"
         },
         "mode": "markers",
         "name": "47",
         "orientation": "h",
         "showlegend": true,
         "type": "scatter",
         "x": [
          6
         ],
         "xaxis": "x",
         "y": [
          0.37736
         ],
         "yaxis": "y"
        },
        {
         "hovertemplate": "Nr=48<br>unique_nouns=%{x}<br>Score=%{y}<extra></extra>",
         "legendgroup": "48",
         "marker": {
          "color": "#FF97FF",
          "symbol": "circle"
         },
         "mode": "markers",
         "name": "48",
         "orientation": "h",
         "showlegend": true,
         "type": "scatter",
         "x": [
          7
         ],
         "xaxis": "x",
         "y": [
          0.42767
         ],
         "yaxis": "y"
        },
        {
         "hovertemplate": "Nr=49<br>unique_nouns=%{x}<br>Score=%{y}<extra></extra>",
         "legendgroup": "49",
         "marker": {
          "color": "#FECB52",
          "symbol": "circle"
         },
         "mode": "markers",
         "name": "49",
         "orientation": "h",
         "showlegend": true,
         "type": "scatter",
         "x": [
          7
         ],
         "xaxis": "x",
         "y": [
          0.55346
         ],
         "yaxis": "y"
        },
        {
         "hovertemplate": "Nr=50<br>unique_nouns=%{x}<br>Score=%{y}<extra></extra>",
         "legendgroup": "50",
         "marker": {
          "color": "#636efa",
          "symbol": "circle"
         },
         "mode": "markers",
         "name": "50",
         "orientation": "h",
         "showlegend": true,
         "type": "scatter",
         "x": [
          5
         ],
         "xaxis": "x",
         "y": [
          0.81761
         ],
         "yaxis": "y"
        },
        {
         "hovertemplate": "Nr=51<br>unique_nouns=%{x}<br>Score=%{y}<extra></extra>",
         "legendgroup": "51",
         "marker": {
          "color": "#EF553B",
          "symbol": "circle"
         },
         "mode": "markers",
         "name": "51",
         "orientation": "h",
         "showlegend": true,
         "type": "scatter",
         "x": [
          5
         ],
         "xaxis": "x",
         "y": [
          0.84277
         ],
         "yaxis": "y"
        },
        {
         "hovertemplate": "Nr=52<br>unique_nouns=%{x}<br>Score=%{y}<extra></extra>",
         "legendgroup": "52",
         "marker": {
          "color": "#00cc96",
          "symbol": "circle"
         },
         "mode": "markers",
         "name": "52",
         "orientation": "h",
         "showlegend": true,
         "type": "scatter",
         "x": [
          7
         ],
         "xaxis": "x",
         "y": [
          0.52201
         ],
         "yaxis": "y"
        },
        {
         "hovertemplate": "Nr=53<br>unique_nouns=%{x}<br>Score=%{y}<extra></extra>",
         "legendgroup": "53",
         "marker": {
          "color": "#ab63fa",
          "symbol": "circle"
         },
         "mode": "markers",
         "name": "53",
         "orientation": "h",
         "showlegend": true,
         "type": "scatter",
         "x": [
          5
         ],
         "xaxis": "x",
         "y": [
          0.66667
         ],
         "yaxis": "y"
        },
        {
         "hovertemplate": "Nr=54<br>unique_nouns=%{x}<br>Score=%{y}<extra></extra>",
         "legendgroup": "54",
         "marker": {
          "color": "#FFA15A",
          "symbol": "circle"
         },
         "mode": "markers",
         "name": "54",
         "orientation": "h",
         "showlegend": true,
         "type": "scatter",
         "x": [
          8
         ],
         "xaxis": "x",
         "y": [
          0.55975
         ],
         "yaxis": "y"
        },
        {
         "hovertemplate": "Nr=55<br>unique_nouns=%{x}<br>Score=%{y}<extra></extra>",
         "legendgroup": "55",
         "marker": {
          "color": "#19d3f3",
          "symbol": "circle"
         },
         "mode": "markers",
         "name": "55",
         "orientation": "h",
         "showlegend": true,
         "type": "scatter",
         "x": [
          1
         ],
         "xaxis": "x",
         "y": [
          0.1761
         ],
         "yaxis": "y"
        },
        {
         "hovertemplate": "Nr=56<br>unique_nouns=%{x}<br>Score=%{y}<extra></extra>",
         "legendgroup": "56",
         "marker": {
          "color": "#FF6692",
          "symbol": "circle"
         },
         "mode": "markers",
         "name": "56",
         "orientation": "h",
         "showlegend": true,
         "type": "scatter",
         "x": [
          9
         ],
         "xaxis": "x",
         "y": [
          0.49686
         ],
         "yaxis": "y"
        },
        {
         "hovertemplate": "Nr=57<br>unique_nouns=%{x}<br>Score=%{y}<extra></extra>",
         "legendgroup": "57",
         "marker": {
          "color": "#B6E880",
          "symbol": "circle"
         },
         "mode": "markers",
         "name": "57",
         "orientation": "h",
         "showlegend": true,
         "type": "scatter",
         "x": [
          5
         ],
         "xaxis": "x",
         "y": [
          0.69811
         ],
         "yaxis": "y"
        },
        {
         "hovertemplate": "Nr=58<br>unique_nouns=%{x}<br>Score=%{y}<extra></extra>",
         "legendgroup": "58",
         "marker": {
          "color": "#FF97FF",
          "symbol": "circle"
         },
         "mode": "markers",
         "name": "58",
         "orientation": "h",
         "showlegend": true,
         "type": "scatter",
         "x": [
          3
         ],
         "xaxis": "x",
         "y": [
          0.2327
         ],
         "yaxis": "y"
        },
        {
         "hovertemplate": "Nr=59<br>unique_nouns=%{x}<br>Score=%{y}<extra></extra>",
         "legendgroup": "59",
         "marker": {
          "color": "#FECB52",
          "symbol": "circle"
         },
         "mode": "markers",
         "name": "59",
         "orientation": "h",
         "showlegend": true,
         "type": "scatter",
         "x": [
          4
         ],
         "xaxis": "x",
         "y": [
          0.43396
         ],
         "yaxis": "y"
        },
        {
         "hovertemplate": "Nr=60<br>unique_nouns=%{x}<br>Score=%{y}<extra></extra>",
         "legendgroup": "60",
         "marker": {
          "color": "#636efa",
          "symbol": "circle"
         },
         "mode": "markers",
         "name": "60",
         "orientation": "h",
         "showlegend": true,
         "type": "scatter",
         "x": [
          3
         ],
         "xaxis": "x",
         "y": [
          0.61635
         ],
         "yaxis": "y"
        },
        {
         "hovertemplate": "Nr=61<br>unique_nouns=%{x}<br>Score=%{y}<extra></extra>",
         "legendgroup": "61",
         "marker": {
          "color": "#EF553B",
          "symbol": "circle"
         },
         "mode": "markers",
         "name": "61",
         "orientation": "h",
         "showlegend": true,
         "type": "scatter",
         "x": [
          5
         ],
         "xaxis": "x",
         "y": [
          0.69182
         ],
         "yaxis": "y"
        },
        {
         "hovertemplate": "Nr=62<br>unique_nouns=%{x}<br>Score=%{y}<extra></extra>",
         "legendgroup": "62",
         "marker": {
          "color": "#00cc96",
          "symbol": "circle"
         },
         "mode": "markers",
         "name": "62",
         "orientation": "h",
         "showlegend": true,
         "type": "scatter",
         "x": [
          2
         ],
         "xaxis": "x",
         "y": [
          0.25157
         ],
         "yaxis": "y"
        },
        {
         "hovertemplate": "Nr=63<br>unique_nouns=%{x}<br>Score=%{y}<extra></extra>",
         "legendgroup": "63",
         "marker": {
          "color": "#ab63fa",
          "symbol": "circle"
         },
         "mode": "markers",
         "name": "63",
         "orientation": "h",
         "showlegend": true,
         "type": "scatter",
         "x": [
          6
         ],
         "xaxis": "x",
         "y": [
          0.33333
         ],
         "yaxis": "y"
        },
        {
         "hovertemplate": "Nr=64<br>unique_nouns=%{x}<br>Score=%{y}<extra></extra>",
         "legendgroup": "64",
         "marker": {
          "color": "#FFA15A",
          "symbol": "circle"
         },
         "mode": "markers",
         "name": "64",
         "orientation": "h",
         "showlegend": true,
         "type": "scatter",
         "x": [
          4
         ],
         "xaxis": "x",
         "y": [
          0.50943
         ],
         "yaxis": "y"
        },
        {
         "hovertemplate": "Nr=65<br>unique_nouns=%{x}<br>Score=%{y}<extra></extra>",
         "legendgroup": "65",
         "marker": {
          "color": "#19d3f3",
          "symbol": "circle"
         },
         "mode": "markers",
         "name": "65",
         "orientation": "h",
         "showlegend": true,
         "type": "scatter",
         "x": [
          2
         ],
         "xaxis": "x",
         "y": [
          0.63522
         ],
         "yaxis": "y"
        },
        {
         "hovertemplate": "Nr=66<br>unique_nouns=%{x}<br>Score=%{y}<extra></extra>",
         "legendgroup": "66",
         "marker": {
          "color": "#FF6692",
          "symbol": "circle"
         },
         "mode": "markers",
         "name": "66",
         "orientation": "h",
         "showlegend": true,
         "type": "scatter",
         "x": [
          7
         ],
         "xaxis": "x",
         "y": [
          0.25786
         ],
         "yaxis": "y"
        },
        {
         "hovertemplate": "Nr=67<br>unique_nouns=%{x}<br>Score=%{y}<extra></extra>",
         "legendgroup": "67",
         "marker": {
          "color": "#B6E880",
          "symbol": "circle"
         },
         "mode": "markers",
         "name": "67",
         "orientation": "h",
         "showlegend": true,
         "type": "scatter",
         "x": [
          5
         ],
         "xaxis": "x",
         "y": [
          0.14465
         ],
         "yaxis": "y"
        },
        {
         "hovertemplate": "Nr=68<br>unique_nouns=%{x}<br>Score=%{y}<extra></extra>",
         "legendgroup": "68",
         "marker": {
          "color": "#FF97FF",
          "symbol": "circle"
         },
         "mode": "markers",
         "name": "68",
         "orientation": "h",
         "showlegend": true,
         "type": "scatter",
         "x": [
          5
         ],
         "xaxis": "x",
         "y": [
          0.36478
         ],
         "yaxis": "y"
        },
        {
         "hovertemplate": "Nr=69<br>unique_nouns=%{x}<br>Score=%{y}<extra></extra>",
         "legendgroup": "69",
         "marker": {
          "color": "#FECB52",
          "symbol": "circle"
         },
         "mode": "markers",
         "name": "69",
         "orientation": "h",
         "showlegend": true,
         "type": "scatter",
         "x": [
          2
         ],
         "xaxis": "x",
         "y": [
          0.08805
         ],
         "yaxis": "y"
        },
        {
         "hovertemplate": "Nr=70<br>unique_nouns=%{x}<br>Score=%{y}<extra></extra>",
         "legendgroup": "70",
         "marker": {
          "color": "#636efa",
          "symbol": "circle"
         },
         "mode": "markers",
         "name": "70",
         "orientation": "h",
         "showlegend": true,
         "type": "scatter",
         "x": [
          8
         ],
         "xaxis": "x",
         "y": [
          0.53459
         ],
         "yaxis": "y"
        },
        {
         "hovertemplate": "Nr=71<br>unique_nouns=%{x}<br>Score=%{y}<extra></extra>",
         "legendgroup": "71",
         "marker": {
          "color": "#EF553B",
          "symbol": "circle"
         },
         "mode": "markers",
         "name": "71",
         "orientation": "h",
         "showlegend": true,
         "type": "scatter",
         "x": [
          7
         ],
         "xaxis": "x",
         "y": [
          0.49057
         ],
         "yaxis": "y"
        },
        {
         "hovertemplate": "Nr=72<br>unique_nouns=%{x}<br>Score=%{y}<extra></extra>",
         "legendgroup": "72",
         "marker": {
          "color": "#00cc96",
          "symbol": "circle"
         },
         "mode": "markers",
         "name": "72",
         "orientation": "h",
         "showlegend": true,
         "type": "scatter",
         "x": [
          3
         ],
         "xaxis": "x",
         "y": [
          0.74214
         ],
         "yaxis": "y"
        },
        {
         "hovertemplate": "Nr=73<br>unique_nouns=%{x}<br>Score=%{y}<extra></extra>",
         "legendgroup": "73",
         "marker": {
          "color": "#ab63fa",
          "symbol": "circle"
         },
         "mode": "markers",
         "name": "73",
         "orientation": "h",
         "showlegend": true,
         "type": "scatter",
         "x": [
          4
         ],
         "xaxis": "x",
         "y": [
          0.59119
         ],
         "yaxis": "y"
        },
        {
         "hovertemplate": "Nr=74<br>unique_nouns=%{x}<br>Score=%{y}<extra></extra>",
         "legendgroup": "74",
         "marker": {
          "color": "#FFA15A",
          "symbol": "circle"
         },
         "mode": "markers",
         "name": "74",
         "orientation": "h",
         "showlegend": true,
         "type": "scatter",
         "x": [
          6
         ],
         "xaxis": "x",
         "y": [
          0.42138
         ],
         "yaxis": "y"
        },
        {
         "hovertemplate": "Nr=75<br>unique_nouns=%{x}<br>Score=%{y}<extra></extra>",
         "legendgroup": "75",
         "marker": {
          "color": "#19d3f3",
          "symbol": "circle"
         },
         "mode": "markers",
         "name": "75",
         "orientation": "h",
         "showlegend": true,
         "type": "scatter",
         "x": [
          5
         ],
         "xaxis": "x",
         "y": [
          0.15094
         ],
         "yaxis": "y"
        },
        {
         "hovertemplate": "Nr=76<br>unique_nouns=%{x}<br>Score=%{y}<extra></extra>",
         "legendgroup": "76",
         "marker": {
          "color": "#FF6692",
          "symbol": "circle"
         },
         "mode": "markers",
         "name": "76",
         "orientation": "h",
         "showlegend": true,
         "type": "scatter",
         "x": [
          5
         ],
         "xaxis": "x",
         "y": [
          0.3522
         ],
         "yaxis": "y"
        },
        {
         "hovertemplate": "Nr=77<br>unique_nouns=%{x}<br>Score=%{y}<extra></extra>",
         "legendgroup": "77",
         "marker": {
          "color": "#B6E880",
          "symbol": "circle"
         },
         "mode": "markers",
         "name": "77",
         "orientation": "h",
         "showlegend": true,
         "type": "scatter",
         "x": [
          5
         ],
         "xaxis": "x",
         "y": [
          0.27044
         ],
         "yaxis": "y"
        },
        {
         "hovertemplate": "Nr=78<br>unique_nouns=%{x}<br>Score=%{y}<extra></extra>",
         "legendgroup": "78",
         "marker": {
          "color": "#FF97FF",
          "symbol": "circle"
         },
         "mode": "markers",
         "name": "78",
         "orientation": "h",
         "showlegend": true,
         "type": "scatter",
         "x": [
          7
         ],
         "xaxis": "x",
         "y": [
          0.93711
         ],
         "yaxis": "y"
        },
        {
         "hovertemplate": "Nr=79<br>unique_nouns=%{x}<br>Score=%{y}<extra></extra>",
         "legendgroup": "79",
         "marker": {
          "color": "#FECB52",
          "symbol": "circle"
         },
         "mode": "markers",
         "name": "79",
         "orientation": "h",
         "showlegend": true,
         "type": "scatter",
         "x": [
          3
         ],
         "xaxis": "x",
         "y": [
          0.54088
         ],
         "yaxis": "y"
        },
        {
         "hovertemplate": "Nr=80<br>unique_nouns=%{x}<br>Score=%{y}<extra></extra>",
         "legendgroup": "80",
         "marker": {
          "color": "#636efa",
          "symbol": "circle"
         },
         "mode": "markers",
         "name": "80",
         "orientation": "h",
         "showlegend": true,
         "type": "scatter",
         "x": [
          5
         ],
         "xaxis": "x",
         "y": [
          0.06289
         ],
         "yaxis": "y"
        },
        {
         "hovertemplate": "Nr=81<br>unique_nouns=%{x}<br>Score=%{y}<extra></extra>",
         "legendgroup": "81",
         "marker": {
          "color": "#EF553B",
          "symbol": "circle"
         },
         "mode": "markers",
         "name": "81",
         "orientation": "h",
         "showlegend": true,
         "type": "scatter",
         "x": [
          5
         ],
         "xaxis": "x",
         "y": [
          0.04403
         ],
         "yaxis": "y"
        },
        {
         "hovertemplate": "Nr=82<br>unique_nouns=%{x}<br>Score=%{y}<extra></extra>",
         "legendgroup": "82",
         "marker": {
          "color": "#00cc96",
          "symbol": "circle"
         },
         "mode": "markers",
         "name": "82",
         "orientation": "h",
         "showlegend": true,
         "type": "scatter",
         "x": [
          4
         ],
         "xaxis": "x",
         "y": [
          0.05031
         ],
         "yaxis": "y"
        },
        {
         "hovertemplate": "Nr=83<br>unique_nouns=%{x}<br>Score=%{y}<extra></extra>",
         "legendgroup": "83",
         "marker": {
          "color": "#ab63fa",
          "symbol": "circle"
         },
         "mode": "markers",
         "name": "83",
         "orientation": "h",
         "showlegend": true,
         "type": "scatter",
         "x": [
          3
         ],
         "xaxis": "x",
         "y": [
          0.13208
         ],
         "yaxis": "y"
        },
        {
         "hovertemplate": "Nr=84<br>unique_nouns=%{x}<br>Score=%{y}<extra></extra>",
         "legendgroup": "84",
         "marker": {
          "color": "#FFA15A",
          "symbol": "circle"
         },
         "mode": "markers",
         "name": "84",
         "orientation": "h",
         "showlegend": true,
         "type": "scatter",
         "x": [
          2
         ],
         "xaxis": "x",
         "y": [
          0.7044
         ],
         "yaxis": "y"
        },
        {
         "hovertemplate": "Nr=85<br>unique_nouns=%{x}<br>Score=%{y}<extra></extra>",
         "legendgroup": "85",
         "marker": {
          "color": "#19d3f3",
          "symbol": "circle"
         },
         "mode": "markers",
         "name": "85",
         "orientation": "h",
         "showlegend": true,
         "type": "scatter",
         "x": [
          1
         ],
         "xaxis": "x",
         "y": [
          0.88679
         ],
         "yaxis": "y"
        },
        {
         "hovertemplate": "Nr=86<br>unique_nouns=%{x}<br>Score=%{y}<extra></extra>",
         "legendgroup": "86",
         "marker": {
          "color": "#FF6692",
          "symbol": "circle"
         },
         "mode": "markers",
         "name": "86",
         "orientation": "h",
         "showlegend": true,
         "type": "scatter",
         "x": [
          7
         ],
         "xaxis": "x",
         "y": [
          0.50314
         ],
         "yaxis": "y"
        },
        {
         "hovertemplate": "Nr=87<br>unique_nouns=%{x}<br>Score=%{y}<extra></extra>",
         "legendgroup": "87",
         "marker": {
          "color": "#B6E880",
          "symbol": "circle"
         },
         "mode": "markers",
         "name": "87",
         "orientation": "h",
         "showlegend": true,
         "type": "scatter",
         "x": [
          4
         ],
         "xaxis": "x",
         "y": [
          0.06918
         ],
         "yaxis": "y"
        },
        {
         "hovertemplate": "Nr=88<br>unique_nouns=%{x}<br>Score=%{y}<extra></extra>",
         "legendgroup": "88",
         "marker": {
          "color": "#FF97FF",
          "symbol": "circle"
         },
         "mode": "markers",
         "name": "88",
         "orientation": "h",
         "showlegend": true,
         "type": "scatter",
         "x": [
          5
         ],
         "xaxis": "x",
         "y": [
          0.20126
         ],
         "yaxis": "y"
        },
        {
         "hovertemplate": "Nr=89<br>unique_nouns=%{x}<br>Score=%{y}<extra></extra>",
         "legendgroup": "89",
         "marker": {
          "color": "#FECB52",
          "symbol": "circle"
         },
         "mode": "markers",
         "name": "89",
         "orientation": "h",
         "showlegend": true,
         "type": "scatter",
         "x": [
          5
         ],
         "xaxis": "x",
         "y": [
          0.40881
         ],
         "yaxis": "y"
        },
        {
         "hovertemplate": "Nr=90<br>unique_nouns=%{x}<br>Score=%{y}<extra></extra>",
         "legendgroup": "90",
         "marker": {
          "color": "#636efa",
          "symbol": "circle"
         },
         "mode": "markers",
         "name": "90",
         "orientation": "h",
         "showlegend": true,
         "type": "scatter",
         "x": [
          7
         ],
         "xaxis": "x",
         "y": [
          0.15723
         ],
         "yaxis": "y"
        },
        {
         "hovertemplate": "Nr=91<br>unique_nouns=%{x}<br>Score=%{y}<extra></extra>",
         "legendgroup": "91",
         "marker": {
          "color": "#EF553B",
          "symbol": "circle"
         },
         "mode": "markers",
         "name": "91",
         "orientation": "h",
         "showlegend": true,
         "type": "scatter",
         "x": [
          8
         ],
         "xaxis": "x",
         "y": [
          0.38365
         ],
         "yaxis": "y"
        },
        {
         "hovertemplate": "Nr=92<br>unique_nouns=%{x}<br>Score=%{y}<extra></extra>",
         "legendgroup": "92",
         "marker": {
          "color": "#00cc96",
          "symbol": "circle"
         },
         "mode": "markers",
         "name": "92",
         "orientation": "h",
         "showlegend": true,
         "type": "scatter",
         "x": [
          10
         ],
         "xaxis": "x",
         "y": [
          0.01887
         ],
         "yaxis": "y"
        },
        {
         "hovertemplate": "Nr=93<br>unique_nouns=%{x}<br>Score=%{y}<extra></extra>",
         "legendgroup": "93",
         "marker": {
          "color": "#ab63fa",
          "symbol": "circle"
         },
         "mode": "markers",
         "name": "93",
         "orientation": "h",
         "showlegend": true,
         "type": "scatter",
         "x": [
          1
         ],
         "xaxis": "x",
         "y": [
          0.90566
         ],
         "yaxis": "y"
        },
        {
         "hovertemplate": "Nr=94<br>unique_nouns=%{x}<br>Score=%{y}<extra></extra>",
         "legendgroup": "94",
         "marker": {
          "color": "#FFA15A",
          "symbol": "circle"
         },
         "mode": "markers",
         "name": "94",
         "orientation": "h",
         "showlegend": true,
         "type": "scatter",
         "x": [
          2
         ],
         "xaxis": "x",
         "y": [
          0.48428
         ],
         "yaxis": "y"
        },
        {
         "hovertemplate": "Nr=95<br>unique_nouns=%{x}<br>Score=%{y}<extra></extra>",
         "legendgroup": "95",
         "marker": {
          "color": "#19d3f3",
          "symbol": "circle"
         },
         "mode": "markers",
         "name": "95",
         "orientation": "h",
         "showlegend": true,
         "type": "scatter",
         "x": [
          5
         ],
         "xaxis": "x",
         "y": [
          0.23899
         ],
         "yaxis": "y"
        },
        {
         "hovertemplate": "Nr=96<br>unique_nouns=%{x}<br>Score=%{y}<extra></extra>",
         "legendgroup": "96",
         "marker": {
          "color": "#FF6692",
          "symbol": "circle"
         },
         "mode": "markers",
         "name": "96",
         "orientation": "h",
         "showlegend": true,
         "type": "scatter",
         "x": [
          4
         ],
         "xaxis": "x",
         "y": [
          0.60377
         ],
         "yaxis": "y"
        },
        {
         "hovertemplate": "Nr=97<br>unique_nouns=%{x}<br>Score=%{y}<extra></extra>",
         "legendgroup": "97",
         "marker": {
          "color": "#B6E880",
          "symbol": "circle"
         },
         "mode": "markers",
         "name": "97",
         "orientation": "h",
         "showlegend": true,
         "type": "scatter",
         "x": [
          2
         ],
         "xaxis": "x",
         "y": [
          0.65409
         ],
         "yaxis": "y"
        },
        {
         "hovertemplate": "Nr=98<br>unique_nouns=%{x}<br>Score=%{y}<extra></extra>",
         "legendgroup": "98",
         "marker": {
          "color": "#FF97FF",
          "symbol": "circle"
         },
         "mode": "markers",
         "name": "98",
         "orientation": "h",
         "showlegend": true,
         "type": "scatter",
         "x": [
          5
         ],
         "xaxis": "x",
         "y": [
          0.74843
         ],
         "yaxis": "y"
        },
        {
         "hovertemplate": "Nr=99<br>unique_nouns=%{x}<br>Score=%{y}<extra></extra>",
         "legendgroup": "99",
         "marker": {
          "color": "#FECB52",
          "symbol": "circle"
         },
         "mode": "markers",
         "name": "99",
         "orientation": "h",
         "showlegend": true,
         "type": "scatter",
         "x": [
          4
         ],
         "xaxis": "x",
         "y": [
          0.11321
         ],
         "yaxis": "y"
        },
        {
         "hovertemplate": "Nr=100<br>unique_nouns=%{x}<br>Score=%{y}<extra></extra>",
         "legendgroup": "100",
         "marker": {
          "color": "#636efa",
          "symbol": "circle"
         },
         "mode": "markers",
         "name": "100",
         "orientation": "h",
         "showlegend": true,
         "type": "scatter",
         "x": [
          1
         ],
         "xaxis": "x",
         "y": [
          0.72327
         ],
         "yaxis": "y"
        },
        {
         "hovertemplate": "Nr=101<br>unique_nouns=%{x}<br>Score=%{y}<extra></extra>",
         "legendgroup": "101",
         "marker": {
          "color": "#EF553B",
          "symbol": "circle"
         },
         "mode": "markers",
         "name": "101",
         "orientation": "h",
         "showlegend": true,
         "type": "scatter",
         "x": [
          4
         ],
         "xaxis": "x",
         "y": [
          0
         ],
         "yaxis": "y"
        },
        {
         "hovertemplate": "Nr=102<br>unique_nouns=%{x}<br>Score=%{y}<extra></extra>",
         "legendgroup": "102",
         "marker": {
          "color": "#00cc96",
          "symbol": "circle"
         },
         "mode": "markers",
         "name": "102",
         "orientation": "h",
         "showlegend": true,
         "type": "scatter",
         "x": [
          3
         ],
         "xaxis": "x",
         "y": [
          0.77358
         ],
         "yaxis": "y"
        },
        {
         "hovertemplate": "Nr=103<br>unique_nouns=%{x}<br>Score=%{y}<extra></extra>",
         "legendgroup": "103",
         "marker": {
          "color": "#ab63fa",
          "symbol": "circle"
         },
         "mode": "markers",
         "name": "103",
         "orientation": "h",
         "showlegend": true,
         "type": "scatter",
         "x": [
          2
         ],
         "xaxis": "x",
         "y": [
          0.27673
         ],
         "yaxis": "y"
        },
        {
         "hovertemplate": "Nr=104<br>unique_nouns=%{x}<br>Score=%{y}<extra></extra>",
         "legendgroup": "104",
         "marker": {
          "color": "#FFA15A",
          "symbol": "circle"
         },
         "mode": "markers",
         "name": "104",
         "orientation": "h",
         "showlegend": true,
         "type": "scatter",
         "x": [
          3
         ],
         "xaxis": "x",
         "y": [
          0.26415
         ],
         "yaxis": "y"
        },
        {
         "hovertemplate": "Nr=105<br>unique_nouns=%{x}<br>Score=%{y}<extra></extra>",
         "legendgroup": "105",
         "marker": {
          "color": "#19d3f3",
          "symbol": "circle"
         },
         "mode": "markers",
         "name": "105",
         "orientation": "h",
         "showlegend": true,
         "type": "scatter",
         "x": [
          2
         ],
         "xaxis": "x",
         "y": [
          0.16981
         ],
         "yaxis": "y"
        },
        {
         "hovertemplate": "Nr=106<br>unique_nouns=%{x}<br>Score=%{y}<extra></extra>",
         "legendgroup": "106",
         "marker": {
          "color": "#FF6692",
          "symbol": "circle"
         },
         "mode": "markers",
         "name": "106",
         "orientation": "h",
         "showlegend": true,
         "type": "scatter",
         "x": [
          3
         ],
         "xaxis": "x",
         "y": [
          0.22642
         ],
         "yaxis": "y"
        },
        {
         "hovertemplate": "Nr=107<br>unique_nouns=%{x}<br>Score=%{y}<extra></extra>",
         "legendgroup": "107",
         "marker": {
          "color": "#B6E880",
          "symbol": "circle"
         },
         "mode": "markers",
         "name": "107",
         "orientation": "h",
         "showlegend": true,
         "type": "scatter",
         "x": [
          3
         ],
         "xaxis": "x",
         "y": [
          0.71698
         ],
         "yaxis": "y"
        },
        {
         "hovertemplate": "Nr=108<br>unique_nouns=%{x}<br>Score=%{y}<extra></extra>",
         "legendgroup": "108",
         "marker": {
          "color": "#FF97FF",
          "symbol": "circle"
         },
         "mode": "markers",
         "name": "108",
         "orientation": "h",
         "showlegend": true,
         "type": "scatter",
         "x": [
          6
         ],
         "xaxis": "x",
         "y": [
          0.54717
         ],
         "yaxis": "y"
        },
        {
         "hovertemplate": "Nr=109<br>unique_nouns=%{x}<br>Score=%{y}<extra></extra>",
         "legendgroup": "109",
         "marker": {
          "color": "#FECB52",
          "symbol": "circle"
         },
         "mode": "markers",
         "name": "109",
         "orientation": "h",
         "showlegend": true,
         "type": "scatter",
         "x": [
          7
         ],
         "xaxis": "x",
         "y": [
          0.07547
         ],
         "yaxis": "y"
        },
        {
         "hovertemplate": "Nr=110<br>unique_nouns=%{x}<br>Score=%{y}<extra></extra>",
         "legendgroup": "110",
         "marker": {
          "color": "#636efa",
          "symbol": "circle"
         },
         "mode": "markers",
         "name": "110",
         "orientation": "h",
         "showlegend": true,
         "type": "scatter",
         "x": [
          7
         ],
         "xaxis": "x",
         "y": [
          0.33962
         ],
         "yaxis": "y"
        },
        {
         "hovertemplate": "Nr=111<br>unique_nouns=%{x}<br>Score=%{y}<extra></extra>",
         "legendgroup": "111",
         "marker": {
          "color": "#EF553B",
          "symbol": "circle"
         },
         "mode": "markers",
         "name": "111",
         "orientation": "h",
         "showlegend": true,
         "type": "scatter",
         "x": [
          7
         ],
         "xaxis": "x",
         "y": [
          0.08176
         ],
         "yaxis": "y"
        },
        {
         "hovertemplate": "Nr=112<br>unique_nouns=%{x}<br>Score=%{y}<extra></extra>",
         "legendgroup": "112",
         "marker": {
          "color": "#00cc96",
          "symbol": "circle"
         },
         "mode": "markers",
         "name": "112",
         "orientation": "h",
         "showlegend": true,
         "type": "scatter",
         "x": [
          3
         ],
         "xaxis": "x",
         "y": [
          0.30189
         ],
         "yaxis": "y"
        },
        {
         "hovertemplate": "Nr=113<br>unique_nouns=%{x}<br>Score=%{y}<extra></extra>",
         "legendgroup": "113",
         "marker": {
          "color": "#ab63fa",
          "symbol": "circle"
         },
         "mode": "markers",
         "name": "113",
         "orientation": "h",
         "showlegend": true,
         "type": "scatter",
         "x": [
          2
         ],
         "xaxis": "x",
         "y": [
          0.34591
         ],
         "yaxis": "y"
        },
        {
         "hovertemplate": "Nr=114<br>unique_nouns=%{x}<br>Score=%{y}<extra></extra>",
         "legendgroup": "114",
         "marker": {
          "color": "#FFA15A",
          "symbol": "circle"
         },
         "mode": "markers",
         "name": "114",
         "orientation": "h",
         "showlegend": true,
         "type": "scatter",
         "x": [
          8
         ],
         "xaxis": "x",
         "y": [
          0.18868
         ],
         "yaxis": "y"
        },
        {
         "hovertemplate": "Nr=115<br>unique_nouns=%{x}<br>Score=%{y}<extra></extra>",
         "legendgroup": "115",
         "marker": {
          "color": "#19d3f3",
          "symbol": "circle"
         },
         "mode": "markers",
         "name": "115",
         "orientation": "h",
         "showlegend": true,
         "type": "scatter",
         "x": [
          3
         ],
         "xaxis": "x",
         "y": [
          0.28931
         ],
         "yaxis": "y"
        },
        {
         "hovertemplate": "Nr=116<br>unique_nouns=%{x}<br>Score=%{y}<extra></extra>",
         "legendgroup": "116",
         "marker": {
          "color": "#FF6692",
          "symbol": "circle"
         },
         "mode": "markers",
         "name": "116",
         "orientation": "h",
         "showlegend": true,
         "type": "scatter",
         "x": [
          6
         ],
         "xaxis": "x",
         "y": [
          0.21384
         ],
         "yaxis": "y"
        },
        {
         "hovertemplate": "Nr=117<br>unique_nouns=%{x}<br>Score=%{y}<extra></extra>",
         "legendgroup": "117",
         "marker": {
          "color": "#B6E880",
          "symbol": "circle"
         },
         "mode": "markers",
         "name": "117",
         "orientation": "h",
         "showlegend": true,
         "type": "scatter",
         "x": [
          7
         ],
         "xaxis": "x",
         "y": [
          0.16352
         ],
         "yaxis": "y"
        },
        {
         "hovertemplate": "Nr=118<br>unique_nouns=%{x}<br>Score=%{y}<extra></extra>",
         "legendgroup": "118",
         "marker": {
          "color": "#FF97FF",
          "symbol": "circle"
         },
         "mode": "markers",
         "name": "118",
         "orientation": "h",
         "showlegend": true,
         "type": "scatter",
         "x": [
          5
         ],
         "xaxis": "x",
         "y": [
          0.62893
         ],
         "yaxis": "y"
        },
        {
         "hovertemplate": "Nr=119<br>unique_nouns=%{x}<br>Score=%{y}<extra></extra>",
         "legendgroup": "119",
         "marker": {
          "color": "#FECB52",
          "symbol": "circle"
         },
         "mode": "markers",
         "name": "119",
         "orientation": "h",
         "showlegend": true,
         "type": "scatter",
         "x": [
          2
         ],
         "xaxis": "x",
         "y": [
          0.03774
         ],
         "yaxis": "y"
        },
        {
         "hovertemplate": "Nr=120<br>unique_nouns=%{x}<br>Score=%{y}<extra></extra>",
         "legendgroup": "120",
         "marker": {
          "color": "#636efa",
          "symbol": "circle"
         },
         "mode": "markers",
         "name": "120",
         "orientation": "h",
         "showlegend": true,
         "type": "scatter",
         "x": [
          1
         ],
         "xaxis": "x",
         "y": [
          0.87421
         ],
         "yaxis": "y"
        },
        {
         "hovertemplate": "Nr=121<br>unique_nouns=%{x}<br>Score=%{y}<extra></extra>",
         "legendgroup": "121",
         "marker": {
          "color": "#EF553B",
          "symbol": "circle"
         },
         "mode": "markers",
         "name": "121",
         "orientation": "h",
         "showlegend": true,
         "type": "scatter",
         "x": [
          6
         ],
         "xaxis": "x",
         "y": [
          0.73585
         ],
         "yaxis": "y"
        },
        {
         "hovertemplate": "Nr=122<br>unique_nouns=%{x}<br>Score=%{y}<extra></extra>",
         "legendgroup": "122",
         "marker": {
          "color": "#00cc96",
          "symbol": "circle"
         },
         "mode": "markers",
         "name": "122",
         "orientation": "h",
         "showlegend": true,
         "type": "scatter",
         "x": [
          3
         ],
         "xaxis": "x",
         "y": [
          0.44025
         ],
         "yaxis": "y"
        },
        {
         "hovertemplate": "Nr=123<br>unique_nouns=%{x}<br>Score=%{y}<extra></extra>",
         "legendgroup": "123",
         "marker": {
          "color": "#ab63fa",
          "symbol": "circle"
         },
         "mode": "markers",
         "name": "123",
         "orientation": "h",
         "showlegend": true,
         "type": "scatter",
         "x": [
          2
         ],
         "xaxis": "x",
         "y": [
          0.32704
         ],
         "yaxis": "y"
        },
        {
         "hovertemplate": "Nr=124<br>unique_nouns=%{x}<br>Score=%{y}<extra></extra>",
         "legendgroup": "124",
         "marker": {
          "color": "#FFA15A",
          "symbol": "circle"
         },
         "mode": "markers",
         "name": "124",
         "orientation": "h",
         "showlegend": true,
         "type": "scatter",
         "x": [
          1
         ],
         "xaxis": "x",
         "y": [
          0.46541
         ],
         "yaxis": "y"
        },
        {
         "hovertemplate": "Nr=125<br>unique_nouns=%{x}<br>Score=%{y}<extra></extra>",
         "legendgroup": "125",
         "marker": {
          "color": "#19d3f3",
          "symbol": "circle"
         },
         "mode": "markers",
         "name": "125",
         "orientation": "h",
         "showlegend": true,
         "type": "scatter",
         "x": [
          3
         ],
         "xaxis": "x",
         "y": [
          0.57862
         ],
         "yaxis": "y"
        },
        {
         "hovertemplate": "Nr=126<br>unique_nouns=%{x}<br>Score=%{y}<extra></extra>",
         "legendgroup": "126",
         "marker": {
          "color": "#FF6692",
          "symbol": "circle"
         },
         "mode": "markers",
         "name": "126",
         "orientation": "h",
         "showlegend": true,
         "type": "scatter",
         "x": [
          6
         ],
         "xaxis": "x",
         "y": [
          0.8239
         ],
         "yaxis": "y"
        },
        {
         "hovertemplate": "Nr=127<br>unique_nouns=%{x}<br>Score=%{y}<extra></extra>",
         "legendgroup": "127",
         "marker": {
          "color": "#B6E880",
          "symbol": "circle"
         },
         "mode": "markers",
         "name": "127",
         "orientation": "h",
         "showlegend": true,
         "type": "scatter",
         "x": [
          4
         ],
         "xaxis": "x",
         "y": [
          0.96855
         ],
         "yaxis": "y"
        },
        {
         "hovertemplate": "Nr=128<br>unique_nouns=%{x}<br>Score=%{y}<extra></extra>",
         "legendgroup": "128",
         "marker": {
          "color": "#FF97FF",
          "symbol": "circle"
         },
         "mode": "markers",
         "name": "128",
         "orientation": "h",
         "showlegend": true,
         "type": "scatter",
         "x": [
          2
         ],
         "xaxis": "x",
         "y": [
          0.85535
         ],
         "yaxis": "y"
        },
        {
         "hovertemplate": "Nr=129<br>unique_nouns=%{x}<br>Score=%{y}<extra></extra>",
         "legendgroup": "129",
         "marker": {
          "color": "#FECB52",
          "symbol": "circle"
         },
         "mode": "markers",
         "name": "129",
         "orientation": "h",
         "showlegend": true,
         "type": "scatter",
         "x": [
          5
         ],
         "xaxis": "x",
         "y": [
          0.45283
         ],
         "yaxis": "y"
        },
        {
         "hovertemplate": "Nr=130<br>unique_nouns=%{x}<br>Score=%{y}<extra></extra>",
         "legendgroup": "130",
         "marker": {
          "color": "#636efa",
          "symbol": "circle"
         },
         "mode": "markers",
         "name": "130",
         "orientation": "h",
         "showlegend": true,
         "type": "scatter",
         "x": [
          8
         ],
         "xaxis": "x",
         "y": [
          0.91824
         ],
         "yaxis": "y"
        },
        {
         "hovertemplate": "Nr=131<br>unique_nouns=%{x}<br>Score=%{y}<extra></extra>",
         "legendgroup": "131",
         "marker": {
          "color": "#EF553B",
          "symbol": "circle"
         },
         "mode": "markers",
         "name": "131",
         "orientation": "h",
         "showlegend": true,
         "type": "scatter",
         "x": [
          2
         ],
         "xaxis": "x",
         "y": [
          0.47799
         ],
         "yaxis": "y"
        },
        {
         "hovertemplate": "Nr=132<br>unique_nouns=%{x}<br>Score=%{y}<extra></extra>",
         "legendgroup": "132",
         "marker": {
          "color": "#00cc96",
          "symbol": "circle"
         },
         "mode": "markers",
         "name": "132",
         "orientation": "h",
         "showlegend": true,
         "type": "scatter",
         "x": [
          5
         ],
         "xaxis": "x",
         "y": [
          0.67296
         ],
         "yaxis": "y"
        },
        {
         "hovertemplate": "Nr=133<br>unique_nouns=%{x}<br>Score=%{y}<extra></extra>",
         "legendgroup": "133",
         "marker": {
          "color": "#ab63fa",
          "symbol": "circle"
         },
         "mode": "markers",
         "name": "133",
         "orientation": "h",
         "showlegend": true,
         "type": "scatter",
         "x": [
          5
         ],
         "xaxis": "x",
         "y": [
          0.6478
         ],
         "yaxis": "y"
        },
        {
         "hovertemplate": "Nr=134<br>unique_nouns=%{x}<br>Score=%{y}<extra></extra>",
         "legendgroup": "134",
         "marker": {
          "color": "#FFA15A",
          "symbol": "circle"
         },
         "mode": "markers",
         "name": "134",
         "orientation": "h",
         "showlegend": true,
         "type": "scatter",
         "x": [
          3
         ],
         "xaxis": "x",
         "y": [
          0.83019
         ],
         "yaxis": "y"
        },
        {
         "hovertemplate": "Nr=135<br>unique_nouns=%{x}<br>Score=%{y}<extra></extra>",
         "legendgroup": "135",
         "marker": {
          "color": "#19d3f3",
          "symbol": "circle"
         },
         "mode": "markers",
         "name": "135",
         "orientation": "h",
         "showlegend": true,
         "type": "scatter",
         "x": [
          1
         ],
         "xaxis": "x",
         "y": [
          0.98742
         ],
         "yaxis": "y"
        },
        {
         "hovertemplate": "Nr=136<br>unique_nouns=%{x}<br>Score=%{y}<extra></extra>",
         "legendgroup": "136",
         "marker": {
          "color": "#FF6692",
          "symbol": "circle"
         },
         "mode": "markers",
         "name": "136",
         "orientation": "h",
         "showlegend": true,
         "type": "scatter",
         "x": [
          1
         ],
         "xaxis": "x",
         "y": [
          0.44654
         ],
         "yaxis": "y"
        },
        {
         "hovertemplate": "Nr=137<br>unique_nouns=%{x}<br>Score=%{y}<extra></extra>",
         "legendgroup": "137",
         "marker": {
          "color": "#B6E880",
          "symbol": "circle"
         },
         "mode": "markers",
         "name": "137",
         "orientation": "h",
         "showlegend": true,
         "type": "scatter",
         "x": [
          7
         ],
         "xaxis": "x",
         "y": [
          0.35849
         ],
         "yaxis": "y"
        },
        {
         "hovertemplate": "Nr=138<br>unique_nouns=%{x}<br>Score=%{y}<extra></extra>",
         "legendgroup": "138",
         "marker": {
          "color": "#FF97FF",
          "symbol": "circle"
         },
         "mode": "markers",
         "name": "138",
         "orientation": "h",
         "showlegend": true,
         "type": "scatter",
         "x": [
          3
         ],
         "xaxis": "x",
         "y": [
          0.93082
         ],
         "yaxis": "y"
        },
        {
         "hovertemplate": "Nr=139<br>unique_nouns=%{x}<br>Score=%{y}<extra></extra>",
         "legendgroup": "139",
         "marker": {
          "color": "#FECB52",
          "symbol": "circle"
         },
         "mode": "markers",
         "name": "139",
         "orientation": "h",
         "showlegend": true,
         "type": "scatter",
         "x": [
          2
         ],
         "xaxis": "x",
         "y": [
          0.75472
         ],
         "yaxis": "y"
        },
        {
         "hovertemplate": "Nr=140<br>unique_nouns=%{x}<br>Score=%{y}<extra></extra>",
         "legendgroup": "140",
         "marker": {
          "color": "#636efa",
          "symbol": "circle"
         },
         "mode": "markers",
         "name": "140",
         "orientation": "h",
         "showlegend": true,
         "type": "scatter",
         "x": [
          4
         ],
         "xaxis": "x",
         "y": [
          0.94969
         ],
         "yaxis": "y"
        },
        {
         "hovertemplate": "Nr=141<br>unique_nouns=%{x}<br>Score=%{y}<extra></extra>",
         "legendgroup": "141",
         "marker": {
          "color": "#EF553B",
          "symbol": "circle"
         },
         "mode": "markers",
         "name": "141",
         "orientation": "h",
         "showlegend": true,
         "type": "scatter",
         "x": [
          3
         ],
         "xaxis": "x",
         "y": [
          0.89308
         ],
         "yaxis": "y"
        },
        {
         "hovertemplate": "Nr=142<br>unique_nouns=%{x}<br>Score=%{y}<extra></extra>",
         "legendgroup": "142",
         "marker": {
          "color": "#00cc96",
          "symbol": "circle"
         },
         "mode": "markers",
         "name": "142",
         "orientation": "h",
         "showlegend": true,
         "type": "scatter",
         "x": [
          4
         ],
         "xaxis": "x",
         "y": [
          0.10063
         ],
         "yaxis": "y"
        },
        {
         "hovertemplate": "Nr=143<br>unique_nouns=%{x}<br>Score=%{y}<extra></extra>",
         "legendgroup": "143",
         "marker": {
          "color": "#ab63fa",
          "symbol": "circle"
         },
         "mode": "markers",
         "name": "143",
         "orientation": "h",
         "showlegend": true,
         "type": "scatter",
         "x": [
          1
         ],
         "xaxis": "x",
         "y": [
          0.71069
         ],
         "yaxis": "y"
        },
        {
         "hovertemplate": "Nr=144<br>unique_nouns=%{x}<br>Score=%{y}<extra></extra>",
         "legendgroup": "144",
         "marker": {
          "color": "#FFA15A",
          "symbol": "circle"
         },
         "mode": "markers",
         "name": "144",
         "orientation": "h",
         "showlegend": true,
         "type": "scatter",
         "x": [
          4
         ],
         "xaxis": "x",
         "y": [
          0.81132
         ],
         "yaxis": "y"
        },
        {
         "hovertemplate": "Nr=145<br>unique_nouns=%{x}<br>Score=%{y}<extra></extra>",
         "legendgroup": "145",
         "marker": {
          "color": "#19d3f3",
          "symbol": "circle"
         },
         "mode": "markers",
         "name": "145",
         "orientation": "h",
         "showlegend": true,
         "type": "scatter",
         "x": [
          1
         ],
         "xaxis": "x",
         "y": [
          0.99371
         ],
         "yaxis": "y"
        },
        {
         "hovertemplate": "Nr=146<br>unique_nouns=%{x}<br>Score=%{y}<extra></extra>",
         "legendgroup": "146",
         "marker": {
          "color": "#FF6692",
          "symbol": "circle"
         },
         "mode": "markers",
         "name": "146",
         "orientation": "h",
         "showlegend": true,
         "type": "scatter",
         "x": [
          4
         ],
         "xaxis": "x",
         "y": [
          0.8805
         ],
         "yaxis": "y"
        },
        {
         "hovertemplate": "Nr=147<br>unique_nouns=%{x}<br>Score=%{y}<extra></extra>",
         "legendgroup": "147",
         "marker": {
          "color": "#B6E880",
          "symbol": "circle"
         },
         "mode": "markers",
         "name": "147",
         "orientation": "h",
         "showlegend": true,
         "type": "scatter",
         "x": [
          2
         ],
         "xaxis": "x",
         "y": [
          0.96226
         ],
         "yaxis": "y"
        },
        {
         "hovertemplate": "Nr=148<br>unique_nouns=%{x}<br>Score=%{y}<extra></extra>",
         "legendgroup": "148",
         "marker": {
          "color": "#FF97FF",
          "symbol": "circle"
         },
         "mode": "markers",
         "name": "148",
         "orientation": "h",
         "showlegend": true,
         "type": "scatter",
         "x": [
          8
         ],
         "xaxis": "x",
         "y": [
          0.79245
         ],
         "yaxis": "y"
        },
        {
         "hovertemplate": "Nr=149<br>unique_nouns=%{x}<br>Score=%{y}<extra></extra>",
         "legendgroup": "149",
         "marker": {
          "color": "#FECB52",
          "symbol": "circle"
         },
         "mode": "markers",
         "name": "149",
         "orientation": "h",
         "showlegend": true,
         "type": "scatter",
         "x": [
          3
         ],
         "xaxis": "x",
         "y": [
          0.89937
         ],
         "yaxis": "y"
        },
        {
         "hovertemplate": "Nr=150<br>unique_nouns=%{x}<br>Score=%{y}<extra></extra>",
         "legendgroup": "150",
         "marker": {
          "color": "#636efa",
          "symbol": "circle"
         },
         "mode": "markers",
         "name": "150",
         "orientation": "h",
         "showlegend": true,
         "type": "scatter",
         "x": [
          3
         ],
         "xaxis": "x",
         "y": [
          0.86792
         ],
         "yaxis": "y"
        },
        {
         "hovertemplate": "Nr=151<br>unique_nouns=%{x}<br>Score=%{y}<extra></extra>",
         "legendgroup": "151",
         "marker": {
          "color": "#EF553B",
          "symbol": "circle"
         },
         "mode": "markers",
         "name": "151",
         "orientation": "h",
         "showlegend": true,
         "type": "scatter",
         "x": [
          7
         ],
         "xaxis": "x",
         "y": [
          0.64151
         ],
         "yaxis": "y"
        },
        {
         "hovertemplate": "Nr=152<br>unique_nouns=%{x}<br>Score=%{y}<extra></extra>",
         "legendgroup": "152",
         "marker": {
          "color": "#00cc96",
          "symbol": "circle"
         },
         "mode": "markers",
         "name": "152",
         "orientation": "h",
         "showlegend": true,
         "type": "scatter",
         "x": [
          4
         ],
         "xaxis": "x",
         "y": [
          0.92453
         ],
         "yaxis": "y"
        },
        {
         "hovertemplate": "Nr=153<br>unique_nouns=%{x}<br>Score=%{y}<extra></extra>",
         "legendgroup": "153",
         "marker": {
          "color": "#ab63fa",
          "symbol": "circle"
         },
         "mode": "markers",
         "name": "153",
         "orientation": "h",
         "showlegend": true,
         "type": "scatter",
         "x": [
          2
         ],
         "xaxis": "x",
         "y": [
          1
         ],
         "yaxis": "y"
        },
        {
         "hovertemplate": "Nr=154<br>unique_nouns=%{x}<br>Score=%{y}<extra></extra>",
         "legendgroup": "154",
         "marker": {
          "color": "#FFA15A",
          "symbol": "circle"
         },
         "mode": "markers",
         "name": "154",
         "orientation": "h",
         "showlegend": true,
         "type": "scatter",
         "x": [
          2
         ],
         "xaxis": "x",
         "y": [
          0.83648
         ],
         "yaxis": "y"
        },
        {
         "hovertemplate": "Nr=155<br>unique_nouns=%{x}<br>Score=%{y}<extra></extra>",
         "legendgroup": "155",
         "marker": {
          "color": "#19d3f3",
          "symbol": "circle"
         },
         "mode": "markers",
         "name": "155",
         "orientation": "h",
         "showlegend": true,
         "type": "scatter",
         "x": [
          2
         ],
         "xaxis": "x",
         "y": [
          0.68553
         ],
         "yaxis": "y"
        },
        {
         "hovertemplate": "Nr=156<br>unique_nouns=%{x}<br>Score=%{y}<extra></extra>",
         "legendgroup": "156",
         "marker": {
          "color": "#FF6692",
          "symbol": "circle"
         },
         "mode": "markers",
         "name": "156",
         "orientation": "h",
         "showlegend": true,
         "type": "scatter",
         "x": [
          6
         ],
         "xaxis": "x",
         "y": [
          0.77987
         ],
         "yaxis": "y"
        },
        {
         "hovertemplate": "Nr=157<br>unique_nouns=%{x}<br>Score=%{y}<extra></extra>",
         "legendgroup": "157",
         "marker": {
          "color": "#B6E880",
          "symbol": "circle"
         },
         "mode": "markers",
         "name": "157",
         "orientation": "h",
         "showlegend": true,
         "type": "scatter",
         "x": [
          4
         ],
         "xaxis": "x",
         "y": [
          0.95597
         ],
         "yaxis": "y"
        },
        {
         "hovertemplate": "Nr=158<br>unique_nouns=%{x}<br>Score=%{y}<extra></extra>",
         "legendgroup": "158",
         "marker": {
          "color": "#FF97FF",
          "symbol": "circle"
         },
         "mode": "markers",
         "name": "158",
         "orientation": "h",
         "showlegend": true,
         "type": "scatter",
         "x": [
          2
         ],
         "xaxis": "x",
         "y": [
          0.98113
         ],
         "yaxis": "y"
        },
        {
         "hovertemplate": "Nr=159<br>unique_nouns=%{x}<br>Score=%{y}<extra></extra>",
         "legendgroup": "159",
         "marker": {
          "color": "#FECB52",
          "symbol": "circle"
         },
         "mode": "markers",
         "name": "159",
         "orientation": "h",
         "showlegend": true,
         "type": "scatter",
         "x": [
          4
         ],
         "xaxis": "x",
         "y": [
          0.91195
         ],
         "yaxis": "y"
        },
        {
         "hovertemplate": "<b>OLS trendline</b><br>Score = -0.0393612 * unique_nouns + 0.679832<br>R<sup>2</sup>=0.098143<br><br>unique_nouns=%{x}<br>Score=%{y} <b>(trend)</b><extra></extra>",
         "legendgroup": "Overall Trendline",
         "line": {
          "color": "#636efa"
         },
         "mode": "lines",
         "name": "Overall Trendline",
         "showlegend": true,
         "type": "scatter",
         "x": [
          1,
          1,
          1,
          1,
          1,
          1,
          1,
          1,
          1,
          1,
          1,
          2,
          2,
          2,
          2,
          2,
          2,
          2,
          2,
          2,
          2,
          2,
          2,
          2,
          2,
          2,
          2,
          2,
          2,
          2,
          2,
          2,
          2,
          2,
          2,
          3,
          3,
          3,
          3,
          3,
          3,
          3,
          3,
          3,
          3,
          3,
          3,
          3,
          3,
          3,
          3,
          3,
          3,
          3,
          3,
          3,
          3,
          3,
          3,
          3,
          4,
          4,
          4,
          4,
          4,
          4,
          4,
          4,
          4,
          4,
          4,
          4,
          4,
          4,
          4,
          4,
          4,
          4,
          4,
          4,
          4,
          5,
          5,
          5,
          5,
          5,
          5,
          5,
          5,
          5,
          5,
          5,
          5,
          5,
          5,
          5,
          5,
          5,
          5,
          5,
          5,
          5,
          5,
          5,
          5,
          5,
          5,
          5,
          5,
          5,
          6,
          6,
          6,
          6,
          6,
          6,
          6,
          6,
          6,
          6,
          6,
          6,
          6,
          7,
          7,
          7,
          7,
          7,
          7,
          7,
          7,
          7,
          7,
          7,
          7,
          7,
          7,
          7,
          7,
          7,
          7,
          7,
          7,
          8,
          8,
          8,
          8,
          8,
          8,
          8,
          8,
          8,
          8,
          8,
          9,
          9,
          10,
          10,
          12,
          12
         ],
         "xaxis": "x",
         "y": [
          0.6404704064630697,
          0.6404704064630697,
          0.6404704064630697,
          0.6404704064630697,
          0.6404704064630697,
          0.6404704064630697,
          0.6404704064630697,
          0.6404704064630697,
          0.6404704064630697,
          0.6404704064630697,
          0.6404704064630697,
          0.6011091717273584,
          0.6011091717273584,
          0.6011091717273584,
          0.6011091717273584,
          0.6011091717273584,
          0.6011091717273584,
          0.6011091717273584,
          0.6011091717273584,
          0.6011091717273584,
          0.6011091717273584,
          0.6011091717273584,
          0.6011091717273584,
          0.6011091717273584,
          0.6011091717273584,
          0.6011091717273584,
          0.6011091717273584,
          0.6011091717273584,
          0.6011091717273584,
          0.6011091717273584,
          0.6011091717273584,
          0.6011091717273584,
          0.6011091717273584,
          0.6011091717273584,
          0.6011091717273584,
          0.5617479369916472,
          0.5617479369916472,
          0.5617479369916472,
          0.5617479369916472,
          0.5617479369916472,
          0.5617479369916472,
          0.5617479369916472,
          0.5617479369916472,
          0.5617479369916472,
          0.5617479369916472,
          0.5617479369916472,
          0.5617479369916472,
          0.5617479369916472,
          0.5617479369916472,
          0.5617479369916472,
          0.5617479369916472,
          0.5617479369916472,
          0.5617479369916472,
          0.5617479369916472,
          0.5617479369916472,
          0.5617479369916472,
          0.5617479369916472,
          0.5617479369916472,
          0.5617479369916472,
          0.5617479369916472,
          0.5223867022559359,
          0.5223867022559359,
          0.5223867022559359,
          0.5223867022559359,
          0.5223867022559359,
          0.5223867022559359,
          0.5223867022559359,
          0.5223867022559359,
          0.5223867022559359,
          0.5223867022559359,
          0.5223867022559359,
          0.5223867022559359,
          0.5223867022559359,
          0.5223867022559359,
          0.5223867022559359,
          0.5223867022559359,
          0.5223867022559359,
          0.5223867022559359,
          0.5223867022559359,
          0.5223867022559359,
          0.5223867022559359,
          0.4830254675202246,
          0.4830254675202246,
          0.4830254675202246,
          0.4830254675202246,
          0.4830254675202246,
          0.4830254675202246,
          0.4830254675202246,
          0.4830254675202246,
          0.4830254675202246,
          0.4830254675202246,
          0.4830254675202246,
          0.4830254675202246,
          0.4830254675202246,
          0.4830254675202246,
          0.4830254675202246,
          0.4830254675202246,
          0.4830254675202246,
          0.4830254675202246,
          0.4830254675202246,
          0.4830254675202246,
          0.4830254675202246,
          0.4830254675202246,
          0.4830254675202246,
          0.4830254675202246,
          0.4830254675202246,
          0.4830254675202246,
          0.4830254675202246,
          0.4830254675202246,
          0.4830254675202246,
          0.4436642327845134,
          0.4436642327845134,
          0.4436642327845134,
          0.4436642327845134,
          0.4436642327845134,
          0.4436642327845134,
          0.4436642327845134,
          0.4436642327845134,
          0.4436642327845134,
          0.4436642327845134,
          0.4436642327845134,
          0.4436642327845134,
          0.4436642327845134,
          0.4043029980488021,
          0.4043029980488021,
          0.4043029980488021,
          0.4043029980488021,
          0.4043029980488021,
          0.4043029980488021,
          0.4043029980488021,
          0.4043029980488021,
          0.4043029980488021,
          0.4043029980488021,
          0.4043029980488021,
          0.4043029980488021,
          0.4043029980488021,
          0.4043029980488021,
          0.4043029980488021,
          0.4043029980488021,
          0.4043029980488021,
          0.4043029980488021,
          0.4043029980488021,
          0.4043029980488021,
          0.3649417633130908,
          0.3649417633130908,
          0.3649417633130908,
          0.3649417633130908,
          0.3649417633130908,
          0.3649417633130908,
          0.3649417633130908,
          0.3649417633130908,
          0.3649417633130908,
          0.3649417633130908,
          0.3649417633130908,
          0.3255805285773795,
          0.3255805285773795,
          0.2862192938416682,
          0.2862192938416682,
          0.2074968243702457,
          0.2074968243702457
         ],
         "yaxis": "y"
        }
       ],
       "layout": {
        "height": 400,
        "legend": {
         "title": {
          "text": "Nr"
         },
         "tracegroupgap": 0
        },
        "showlegend": false,
        "template": {
         "data": {
          "bar": [
           {
            "error_x": {
             "color": "#2a3f5f"
            },
            "error_y": {
             "color": "#2a3f5f"
            },
            "marker": {
             "line": {
              "color": "#E5ECF6",
              "width": 0.5
             },
             "pattern": {
              "fillmode": "overlay",
              "size": 10,
              "solidity": 0.2
             }
            },
            "type": "bar"
           }
          ],
          "barpolar": [
           {
            "marker": {
             "line": {
              "color": "#E5ECF6",
              "width": 0.5
             },
             "pattern": {
              "fillmode": "overlay",
              "size": 10,
              "solidity": 0.2
             }
            },
            "type": "barpolar"
           }
          ],
          "carpet": [
           {
            "aaxis": {
             "endlinecolor": "#2a3f5f",
             "gridcolor": "white",
             "linecolor": "white",
             "minorgridcolor": "white",
             "startlinecolor": "#2a3f5f"
            },
            "baxis": {
             "endlinecolor": "#2a3f5f",
             "gridcolor": "white",
             "linecolor": "white",
             "minorgridcolor": "white",
             "startlinecolor": "#2a3f5f"
            },
            "type": "carpet"
           }
          ],
          "choropleth": [
           {
            "colorbar": {
             "outlinewidth": 0,
             "ticks": ""
            },
            "type": "choropleth"
           }
          ],
          "contour": [
           {
            "colorbar": {
             "outlinewidth": 0,
             "ticks": ""
            },
            "colorscale": [
             [
              0,
              "#0d0887"
             ],
             [
              0.1111111111111111,
              "#46039f"
             ],
             [
              0.2222222222222222,
              "#7201a8"
             ],
             [
              0.3333333333333333,
              "#9c179e"
             ],
             [
              0.4444444444444444,
              "#bd3786"
             ],
             [
              0.5555555555555556,
              "#d8576b"
             ],
             [
              0.6666666666666666,
              "#ed7953"
             ],
             [
              0.7777777777777778,
              "#fb9f3a"
             ],
             [
              0.8888888888888888,
              "#fdca26"
             ],
             [
              1,
              "#f0f921"
             ]
            ],
            "type": "contour"
           }
          ],
          "contourcarpet": [
           {
            "colorbar": {
             "outlinewidth": 0,
             "ticks": ""
            },
            "type": "contourcarpet"
           }
          ],
          "heatmap": [
           {
            "colorbar": {
             "outlinewidth": 0,
             "ticks": ""
            },
            "colorscale": [
             [
              0,
              "#0d0887"
             ],
             [
              0.1111111111111111,
              "#46039f"
             ],
             [
              0.2222222222222222,
              "#7201a8"
             ],
             [
              0.3333333333333333,
              "#9c179e"
             ],
             [
              0.4444444444444444,
              "#bd3786"
             ],
             [
              0.5555555555555556,
              "#d8576b"
             ],
             [
              0.6666666666666666,
              "#ed7953"
             ],
             [
              0.7777777777777778,
              "#fb9f3a"
             ],
             [
              0.8888888888888888,
              "#fdca26"
             ],
             [
              1,
              "#f0f921"
             ]
            ],
            "type": "heatmap"
           }
          ],
          "heatmapgl": [
           {
            "colorbar": {
             "outlinewidth": 0,
             "ticks": ""
            },
            "colorscale": [
             [
              0,
              "#0d0887"
             ],
             [
              0.1111111111111111,
              "#46039f"
             ],
             [
              0.2222222222222222,
              "#7201a8"
             ],
             [
              0.3333333333333333,
              "#9c179e"
             ],
             [
              0.4444444444444444,
              "#bd3786"
             ],
             [
              0.5555555555555556,
              "#d8576b"
             ],
             [
              0.6666666666666666,
              "#ed7953"
             ],
             [
              0.7777777777777778,
              "#fb9f3a"
             ],
             [
              0.8888888888888888,
              "#fdca26"
             ],
             [
              1,
              "#f0f921"
             ]
            ],
            "type": "heatmapgl"
           }
          ],
          "histogram": [
           {
            "marker": {
             "pattern": {
              "fillmode": "overlay",
              "size": 10,
              "solidity": 0.2
             }
            },
            "type": "histogram"
           }
          ],
          "histogram2d": [
           {
            "colorbar": {
             "outlinewidth": 0,
             "ticks": ""
            },
            "colorscale": [
             [
              0,
              "#0d0887"
             ],
             [
              0.1111111111111111,
              "#46039f"
             ],
             [
              0.2222222222222222,
              "#7201a8"
             ],
             [
              0.3333333333333333,
              "#9c179e"
             ],
             [
              0.4444444444444444,
              "#bd3786"
             ],
             [
              0.5555555555555556,
              "#d8576b"
             ],
             [
              0.6666666666666666,
              "#ed7953"
             ],
             [
              0.7777777777777778,
              "#fb9f3a"
             ],
             [
              0.8888888888888888,
              "#fdca26"
             ],
             [
              1,
              "#f0f921"
             ]
            ],
            "type": "histogram2d"
           }
          ],
          "histogram2dcontour": [
           {
            "colorbar": {
             "outlinewidth": 0,
             "ticks": ""
            },
            "colorscale": [
             [
              0,
              "#0d0887"
             ],
             [
              0.1111111111111111,
              "#46039f"
             ],
             [
              0.2222222222222222,
              "#7201a8"
             ],
             [
              0.3333333333333333,
              "#9c179e"
             ],
             [
              0.4444444444444444,
              "#bd3786"
             ],
             [
              0.5555555555555556,
              "#d8576b"
             ],
             [
              0.6666666666666666,
              "#ed7953"
             ],
             [
              0.7777777777777778,
              "#fb9f3a"
             ],
             [
              0.8888888888888888,
              "#fdca26"
             ],
             [
              1,
              "#f0f921"
             ]
            ],
            "type": "histogram2dcontour"
           }
          ],
          "mesh3d": [
           {
            "colorbar": {
             "outlinewidth": 0,
             "ticks": ""
            },
            "type": "mesh3d"
           }
          ],
          "parcoords": [
           {
            "line": {
             "colorbar": {
              "outlinewidth": 0,
              "ticks": ""
             }
            },
            "type": "parcoords"
           }
          ],
          "pie": [
           {
            "automargin": true,
            "type": "pie"
           }
          ],
          "scatter": [
           {
            "fillpattern": {
             "fillmode": "overlay",
             "size": 10,
             "solidity": 0.2
            },
            "type": "scatter"
           }
          ],
          "scatter3d": [
           {
            "line": {
             "colorbar": {
              "outlinewidth": 0,
              "ticks": ""
             }
            },
            "marker": {
             "colorbar": {
              "outlinewidth": 0,
              "ticks": ""
             }
            },
            "type": "scatter3d"
           }
          ],
          "scattercarpet": [
           {
            "marker": {
             "colorbar": {
              "outlinewidth": 0,
              "ticks": ""
             }
            },
            "type": "scattercarpet"
           }
          ],
          "scattergeo": [
           {
            "marker": {
             "colorbar": {
              "outlinewidth": 0,
              "ticks": ""
             }
            },
            "type": "scattergeo"
           }
          ],
          "scattergl": [
           {
            "marker": {
             "colorbar": {
              "outlinewidth": 0,
              "ticks": ""
             }
            },
            "type": "scattergl"
           }
          ],
          "scattermapbox": [
           {
            "marker": {
             "colorbar": {
              "outlinewidth": 0,
              "ticks": ""
             }
            },
            "type": "scattermapbox"
           }
          ],
          "scatterpolar": [
           {
            "marker": {
             "colorbar": {
              "outlinewidth": 0,
              "ticks": ""
             }
            },
            "type": "scatterpolar"
           }
          ],
          "scatterpolargl": [
           {
            "marker": {
             "colorbar": {
              "outlinewidth": 0,
              "ticks": ""
             }
            },
            "type": "scatterpolargl"
           }
          ],
          "scatterternary": [
           {
            "marker": {
             "colorbar": {
              "outlinewidth": 0,
              "ticks": ""
             }
            },
            "type": "scatterternary"
           }
          ],
          "surface": [
           {
            "colorbar": {
             "outlinewidth": 0,
             "ticks": ""
            },
            "colorscale": [
             [
              0,
              "#0d0887"
             ],
             [
              0.1111111111111111,
              "#46039f"
             ],
             [
              0.2222222222222222,
              "#7201a8"
             ],
             [
              0.3333333333333333,
              "#9c179e"
             ],
             [
              0.4444444444444444,
              "#bd3786"
             ],
             [
              0.5555555555555556,
              "#d8576b"
             ],
             [
              0.6666666666666666,
              "#ed7953"
             ],
             [
              0.7777777777777778,
              "#fb9f3a"
             ],
             [
              0.8888888888888888,
              "#fdca26"
             ],
             [
              1,
              "#f0f921"
             ]
            ],
            "type": "surface"
           }
          ],
          "table": [
           {
            "cells": {
             "fill": {
              "color": "#EBF0F8"
             },
             "line": {
              "color": "white"
             }
            },
            "header": {
             "fill": {
              "color": "#C8D4E3"
             },
             "line": {
              "color": "white"
             }
            },
            "type": "table"
           }
          ]
         },
         "layout": {
          "annotationdefaults": {
           "arrowcolor": "#2a3f5f",
           "arrowhead": 0,
           "arrowwidth": 1
          },
          "autotypenumbers": "strict",
          "coloraxis": {
           "colorbar": {
            "outlinewidth": 0,
            "ticks": ""
           }
          },
          "colorscale": {
           "diverging": [
            [
             0,
             "#8e0152"
            ],
            [
             0.1,
             "#c51b7d"
            ],
            [
             0.2,
             "#de77ae"
            ],
            [
             0.3,
             "#f1b6da"
            ],
            [
             0.4,
             "#fde0ef"
            ],
            [
             0.5,
             "#f7f7f7"
            ],
            [
             0.6,
             "#e6f5d0"
            ],
            [
             0.7,
             "#b8e186"
            ],
            [
             0.8,
             "#7fbc41"
            ],
            [
             0.9,
             "#4d9221"
            ],
            [
             1,
             "#276419"
            ]
           ],
           "sequential": [
            [
             0,
             "#0d0887"
            ],
            [
             0.1111111111111111,
             "#46039f"
            ],
            [
             0.2222222222222222,
             "#7201a8"
            ],
            [
             0.3333333333333333,
             "#9c179e"
            ],
            [
             0.4444444444444444,
             "#bd3786"
            ],
            [
             0.5555555555555556,
             "#d8576b"
            ],
            [
             0.6666666666666666,
             "#ed7953"
            ],
            [
             0.7777777777777778,
             "#fb9f3a"
            ],
            [
             0.8888888888888888,
             "#fdca26"
            ],
            [
             1,
             "#f0f921"
            ]
           ],
           "sequentialminus": [
            [
             0,
             "#0d0887"
            ],
            [
             0.1111111111111111,
             "#46039f"
            ],
            [
             0.2222222222222222,
             "#7201a8"
            ],
            [
             0.3333333333333333,
             "#9c179e"
            ],
            [
             0.4444444444444444,
             "#bd3786"
            ],
            [
             0.5555555555555556,
             "#d8576b"
            ],
            [
             0.6666666666666666,
             "#ed7953"
            ],
            [
             0.7777777777777778,
             "#fb9f3a"
            ],
            [
             0.8888888888888888,
             "#fdca26"
            ],
            [
             1,
             "#f0f921"
            ]
           ]
          },
          "colorway": [
           "#636efa",
           "#EF553B",
           "#00cc96",
           "#ab63fa",
           "#FFA15A",
           "#19d3f3",
           "#FF6692",
           "#B6E880",
           "#FF97FF",
           "#FECB52"
          ],
          "font": {
           "color": "#2a3f5f"
          },
          "geo": {
           "bgcolor": "white",
           "lakecolor": "white",
           "landcolor": "#E5ECF6",
           "showlakes": true,
           "showland": true,
           "subunitcolor": "white"
          },
          "hoverlabel": {
           "align": "left"
          },
          "hovermode": "closest",
          "mapbox": {
           "style": "light"
          },
          "paper_bgcolor": "white",
          "plot_bgcolor": "#E5ECF6",
          "polar": {
           "angularaxis": {
            "gridcolor": "white",
            "linecolor": "white",
            "ticks": ""
           },
           "bgcolor": "#E5ECF6",
           "radialaxis": {
            "gridcolor": "white",
            "linecolor": "white",
            "ticks": ""
           }
          },
          "scene": {
           "xaxis": {
            "backgroundcolor": "#E5ECF6",
            "gridcolor": "white",
            "gridwidth": 2,
            "linecolor": "white",
            "showbackground": true,
            "ticks": "",
            "zerolinecolor": "white"
           },
           "yaxis": {
            "backgroundcolor": "#E5ECF6",
            "gridcolor": "white",
            "gridwidth": 2,
            "linecolor": "white",
            "showbackground": true,
            "ticks": "",
            "zerolinecolor": "white"
           },
           "zaxis": {
            "backgroundcolor": "#E5ECF6",
            "gridcolor": "white",
            "gridwidth": 2,
            "linecolor": "white",
            "showbackground": true,
            "ticks": "",
            "zerolinecolor": "white"
           }
          },
          "shapedefaults": {
           "line": {
            "color": "#2a3f5f"
           }
          },
          "ternary": {
           "aaxis": {
            "gridcolor": "white",
            "linecolor": "white",
            "ticks": ""
           },
           "baxis": {
            "gridcolor": "white",
            "linecolor": "white",
            "ticks": ""
           },
           "bgcolor": "#E5ECF6",
           "caxis": {
            "gridcolor": "white",
            "linecolor": "white",
            "ticks": ""
           }
          },
          "title": {
           "x": 0.05
          },
          "xaxis": {
           "automargin": true,
           "gridcolor": "white",
           "linecolor": "white",
           "ticks": "",
           "title": {
            "standoff": 15
           },
           "zerolinecolor": "white",
           "zerolinewidth": 2
          },
          "yaxis": {
           "automargin": true,
           "gridcolor": "white",
           "linecolor": "white",
           "ticks": "",
           "title": {
            "standoff": 15
           },
           "zerolinecolor": "white",
           "zerolinewidth": 2
          }
         }
        },
        "title": {
         "text": "Correlation between amount of nouns and Score"
        },
        "width": 800,
        "xaxis": {
         "anchor": "y",
         "domain": [
          0,
          1
         ],
         "title": {
          "text": "unique_nouns"
         }
        },
        "yaxis": {
         "anchor": "x",
         "domain": [
          0,
          1
         ],
         "title": {
          "text": "Score"
         }
        }
       }
      }
     },
     "metadata": {},
     "output_type": "display_data"
    }
   ],
   "source": [
    "nomCorrelation(df)"
   ]
  },
  {
   "cell_type": "code",
   "execution_count": 20,
   "metadata": {},
   "outputs": [
    {
     "name": "stdout",
     "output_type": "stream",
     "text": [
      "The Pearson correlation coefficient between Score and Nomen is: -0.389, p: 0.000.\n"
     ]
    },
    {
     "data": {
      "application/vnd.plotly.v1+json": {
       "config": {
        "plotlyServerURL": "https://plot.ly"
       },
       "data": [
        {
         "hovertemplate": "Nr=0<br>unique_verbs=%{x}<br>Score=%{y}<extra></extra>",
         "legendgroup": "0",
         "marker": {
          "color": "#636efa",
          "symbol": "circle"
         },
         "mode": "markers",
         "name": "0",
         "orientation": "h",
         "showlegend": true,
         "type": "scatter",
         "x": [
          1
         ],
         "xaxis": "x",
         "y": [
          0.31447
         ],
         "yaxis": "y"
        },
        {
         "hovertemplate": "Nr=1<br>unique_verbs=%{x}<br>Score=%{y}<extra></extra>",
         "legendgroup": "1",
         "marker": {
          "color": "#EF553B",
          "symbol": "circle"
         },
         "mode": "markers",
         "name": "1",
         "orientation": "h",
         "showlegend": true,
         "type": "scatter",
         "x": [
          2
         ],
         "xaxis": "x",
         "y": [
          0.30818
         ],
         "yaxis": "y"
        },
        {
         "hovertemplate": "Nr=2<br>unique_verbs=%{x}<br>Score=%{y}<extra></extra>",
         "legendgroup": "2",
         "marker": {
          "color": "#00cc96",
          "symbol": "circle"
         },
         "mode": "markers",
         "name": "2",
         "orientation": "h",
         "showlegend": true,
         "type": "scatter",
         "x": [
          2
         ],
         "xaxis": "x",
         "y": [
          0.84906
         ],
         "yaxis": "y"
        },
        {
         "hovertemplate": "Nr=3<br>unique_verbs=%{x}<br>Score=%{y}<extra></extra>",
         "legendgroup": "3",
         "marker": {
          "color": "#ab63fa",
          "symbol": "circle"
         },
         "mode": "markers",
         "name": "3",
         "orientation": "h",
         "showlegend": true,
         "type": "scatter",
         "x": [
          2
         ],
         "xaxis": "x",
         "y": [
          0.97484
         ],
         "yaxis": "y"
        },
        {
         "hovertemplate": "Nr=4<br>unique_verbs=%{x}<br>Score=%{y}<extra></extra>",
         "legendgroup": "4",
         "marker": {
          "color": "#FFA15A",
          "symbol": "circle"
         },
         "mode": "markers",
         "name": "4",
         "orientation": "h",
         "showlegend": true,
         "type": "scatter",
         "x": [
          4
         ],
         "xaxis": "x",
         "y": [
          0.2956
         ],
         "yaxis": "y"
        },
        {
         "hovertemplate": "Nr=5<br>unique_verbs=%{x}<br>Score=%{y}<extra></extra>",
         "legendgroup": "5",
         "marker": {
          "color": "#19d3f3",
          "symbol": "circle"
         },
         "mode": "markers",
         "name": "5",
         "orientation": "h",
         "showlegend": true,
         "type": "scatter",
         "x": [
          2
         ],
         "xaxis": "x",
         "y": [
          0.57233
         ],
         "yaxis": "y"
        },
        {
         "hovertemplate": "Nr=6<br>unique_verbs=%{x}<br>Score=%{y}<extra></extra>",
         "legendgroup": "6",
         "marker": {
          "color": "#FF6692",
          "symbol": "circle"
         },
         "mode": "markers",
         "name": "6",
         "orientation": "h",
         "showlegend": true,
         "type": "scatter",
         "x": [
          1
         ],
         "xaxis": "x",
         "y": [
          0.22013
         ],
         "yaxis": "y"
        },
        {
         "hovertemplate": "Nr=7<br>unique_verbs=%{x}<br>Score=%{y}<extra></extra>",
         "legendgroup": "7",
         "marker": {
          "color": "#B6E880",
          "symbol": "circle"
         },
         "mode": "markers",
         "name": "7",
         "orientation": "h",
         "showlegend": true,
         "type": "scatter",
         "x": [
          1
         ],
         "xaxis": "x",
         "y": [
          0.32075
         ],
         "yaxis": "y"
        },
        {
         "hovertemplate": "Nr=8<br>unique_verbs=%{x}<br>Score=%{y}<extra></extra>",
         "legendgroup": "8",
         "marker": {
          "color": "#FF97FF",
          "symbol": "circle"
         },
         "mode": "markers",
         "name": "8",
         "orientation": "h",
         "showlegend": true,
         "type": "scatter",
         "x": [
          2
         ],
         "xaxis": "x",
         "y": [
          0.1195
         ],
         "yaxis": "y"
        },
        {
         "hovertemplate": "Nr=9<br>unique_verbs=%{x}<br>Score=%{y}<extra></extra>",
         "legendgroup": "9",
         "marker": {
          "color": "#FECB52",
          "symbol": "circle"
         },
         "mode": "markers",
         "name": "9",
         "orientation": "h",
         "showlegend": true,
         "type": "scatter",
         "x": [
          4
         ],
         "xaxis": "x",
         "y": [
          0.66038
         ],
         "yaxis": "y"
        },
        {
         "hovertemplate": "Nr=10<br>unique_verbs=%{x}<br>Score=%{y}<extra></extra>",
         "legendgroup": "10",
         "marker": {
          "color": "#636efa",
          "symbol": "circle"
         },
         "mode": "markers",
         "name": "10",
         "orientation": "h",
         "showlegend": true,
         "type": "scatter",
         "x": [
          3
         ],
         "xaxis": "x",
         "y": [
          0.4717
         ],
         "yaxis": "y"
        },
        {
         "hovertemplate": "Nr=11<br>unique_verbs=%{x}<br>Score=%{y}<extra></extra>",
         "legendgroup": "11",
         "marker": {
          "color": "#EF553B",
          "symbol": "circle"
         },
         "mode": "markers",
         "name": "11",
         "orientation": "h",
         "showlegend": true,
         "type": "scatter",
         "x": [
          3
         ],
         "xaxis": "x",
         "y": [
          0.28302
         ],
         "yaxis": "y"
        },
        {
         "hovertemplate": "Nr=12<br>unique_verbs=%{x}<br>Score=%{y}<extra></extra>",
         "legendgroup": "12",
         "marker": {
          "color": "#00cc96",
          "symbol": "circle"
         },
         "mode": "markers",
         "name": "12",
         "orientation": "h",
         "showlegend": true,
         "type": "scatter",
         "x": [
          2
         ],
         "xaxis": "x",
         "y": [
          0.67925
         ],
         "yaxis": "y"
        },
        {
         "hovertemplate": "Nr=13<br>unique_verbs=%{x}<br>Score=%{y}<extra></extra>",
         "legendgroup": "13",
         "marker": {
          "color": "#ab63fa",
          "symbol": "circle"
         },
         "mode": "markers",
         "name": "13",
         "orientation": "h",
         "showlegend": true,
         "type": "scatter",
         "x": [
          1
         ],
         "xaxis": "x",
         "y": [
          0.9434
         ],
         "yaxis": "y"
        },
        {
         "hovertemplate": "Nr=14<br>unique_verbs=%{x}<br>Score=%{y}<extra></extra>",
         "legendgroup": "14",
         "marker": {
          "color": "#FFA15A",
          "symbol": "circle"
         },
         "mode": "markers",
         "name": "14",
         "orientation": "h",
         "showlegend": true,
         "type": "scatter",
         "x": [
          1
         ],
         "xaxis": "x",
         "y": [
          0.76101
         ],
         "yaxis": "y"
        },
        {
         "hovertemplate": "Nr=15<br>unique_verbs=%{x}<br>Score=%{y}<extra></extra>",
         "legendgroup": "15",
         "marker": {
          "color": "#19d3f3",
          "symbol": "circle"
         },
         "mode": "markers",
         "name": "15",
         "orientation": "h",
         "showlegend": true,
         "type": "scatter",
         "x": [
          4
         ],
         "xaxis": "x",
         "y": [
          0.01258
         ],
         "yaxis": "y"
        },
        {
         "hovertemplate": "Nr=16<br>unique_verbs=%{x}<br>Score=%{y}<extra></extra>",
         "legendgroup": "16",
         "marker": {
          "color": "#FF6692",
          "symbol": "circle"
         },
         "mode": "markers",
         "name": "16",
         "orientation": "h",
         "showlegend": true,
         "type": "scatter",
         "x": [
          2
         ],
         "xaxis": "x",
         "y": [
          0.09434
         ],
         "yaxis": "y"
        },
        {
         "hovertemplate": "Nr=17<br>unique_verbs=%{x}<br>Score=%{y}<extra></extra>",
         "legendgroup": "17",
         "marker": {
          "color": "#B6E880",
          "symbol": "circle"
         },
         "mode": "markers",
         "name": "17",
         "orientation": "h",
         "showlegend": true,
         "type": "scatter",
         "x": [
          2
         ],
         "xaxis": "x",
         "y": [
          0.78616
         ],
         "yaxis": "y"
        },
        {
         "hovertemplate": "Nr=18<br>unique_verbs=%{x}<br>Score=%{y}<extra></extra>",
         "legendgroup": "18",
         "marker": {
          "color": "#FF97FF",
          "symbol": "circle"
         },
         "mode": "markers",
         "name": "18",
         "orientation": "h",
         "showlegend": true,
         "type": "scatter",
         "x": [
          3
         ],
         "xaxis": "x",
         "y": [
          0.62264
         ],
         "yaxis": "y"
        },
        {
         "hovertemplate": "Nr=19<br>unique_verbs=%{x}<br>Score=%{y}<extra></extra>",
         "legendgroup": "19",
         "marker": {
          "color": "#FECB52",
          "symbol": "circle"
         },
         "mode": "markers",
         "name": "19",
         "orientation": "h",
         "showlegend": true,
         "type": "scatter",
         "x": [
          1
         ],
         "xaxis": "x",
         "y": [
          0.72956
         ],
         "yaxis": "y"
        },
        {
         "hovertemplate": "Nr=20<br>unique_verbs=%{x}<br>Score=%{y}<extra></extra>",
         "legendgroup": "20",
         "marker": {
          "color": "#636efa",
          "symbol": "circle"
         },
         "mode": "markers",
         "name": "20",
         "orientation": "h",
         "showlegend": true,
         "type": "scatter",
         "x": [
          1
         ],
         "xaxis": "x",
         "y": [
          0.12579
         ],
         "yaxis": "y"
        },
        {
         "hovertemplate": "Nr=21<br>unique_verbs=%{x}<br>Score=%{y}<extra></extra>",
         "legendgroup": "21",
         "marker": {
          "color": "#EF553B",
          "symbol": "circle"
         },
         "mode": "markers",
         "name": "21",
         "orientation": "h",
         "showlegend": true,
         "type": "scatter",
         "x": [
          3
         ],
         "xaxis": "x",
         "y": [
          0.5283
         ],
         "yaxis": "y"
        },
        {
         "hovertemplate": "Nr=22<br>unique_verbs=%{x}<br>Score=%{y}<extra></extra>",
         "legendgroup": "22",
         "marker": {
          "color": "#00cc96",
          "symbol": "circle"
         },
         "mode": "markers",
         "name": "22",
         "orientation": "h",
         "showlegend": true,
         "type": "scatter",
         "x": [
          2
         ],
         "xaxis": "x",
         "y": [
          0.19497
         ],
         "yaxis": "y"
        },
        {
         "hovertemplate": "Nr=23<br>unique_verbs=%{x}<br>Score=%{y}<extra></extra>",
         "legendgroup": "23",
         "marker": {
          "color": "#ab63fa",
          "symbol": "circle"
         },
         "mode": "markers",
         "name": "23",
         "orientation": "h",
         "showlegend": true,
         "type": "scatter",
         "x": [
          0
         ],
         "xaxis": "x",
         "y": [
          0.00629
         ],
         "yaxis": "y"
        },
        {
         "hovertemplate": "Nr=24<br>unique_verbs=%{x}<br>Score=%{y}<extra></extra>",
         "legendgroup": "24",
         "marker": {
          "color": "#FFA15A",
          "symbol": "circle"
         },
         "mode": "markers",
         "name": "24",
         "orientation": "h",
         "showlegend": true,
         "type": "scatter",
         "x": [
          3
         ],
         "xaxis": "x",
         "y": [
          0.40252
         ],
         "yaxis": "y"
        },
        {
         "hovertemplate": "Nr=25<br>unique_verbs=%{x}<br>Score=%{y}<extra></extra>",
         "legendgroup": "25",
         "marker": {
          "color": "#19d3f3",
          "symbol": "circle"
         },
         "mode": "markers",
         "name": "25",
         "orientation": "h",
         "showlegend": true,
         "type": "scatter",
         "x": [
          2
         ],
         "xaxis": "x",
         "y": [
          0.10692
         ],
         "yaxis": "y"
        },
        {
         "hovertemplate": "Nr=26<br>unique_verbs=%{x}<br>Score=%{y}<extra></extra>",
         "legendgroup": "26",
         "marker": {
          "color": "#FF6692",
          "symbol": "circle"
         },
         "mode": "markers",
         "name": "26",
         "orientation": "h",
         "showlegend": true,
         "type": "scatter",
         "x": [
          3
         ],
         "xaxis": "x",
         "y": [
          0.41509
         ],
         "yaxis": "y"
        },
        {
         "hovertemplate": "Nr=27<br>unique_verbs=%{x}<br>Score=%{y}<extra></extra>",
         "legendgroup": "27",
         "marker": {
          "color": "#B6E880",
          "symbol": "circle"
         },
         "mode": "markers",
         "name": "27",
         "orientation": "h",
         "showlegend": true,
         "type": "scatter",
         "x": [
          4
         ],
         "xaxis": "x",
         "y": [
          0.45912
         ],
         "yaxis": "y"
        },
        {
         "hovertemplate": "Nr=28<br>unique_verbs=%{x}<br>Score=%{y}<extra></extra>",
         "legendgroup": "28",
         "marker": {
          "color": "#FF97FF",
          "symbol": "circle"
         },
         "mode": "markers",
         "name": "28",
         "orientation": "h",
         "showlegend": true,
         "type": "scatter",
         "x": [
          1
         ],
         "xaxis": "x",
         "y": [
          0.86164
         ],
         "yaxis": "y"
        },
        {
         "hovertemplate": "Nr=29<br>unique_verbs=%{x}<br>Score=%{y}<extra></extra>",
         "legendgroup": "29",
         "marker": {
          "color": "#FECB52",
          "symbol": "circle"
         },
         "mode": "markers",
         "name": "29",
         "orientation": "h",
         "showlegend": true,
         "type": "scatter",
         "x": [
          0
         ],
         "xaxis": "x",
         "y": [
          0.80503
         ],
         "yaxis": "y"
        },
        {
         "hovertemplate": "Nr=30<br>unique_verbs=%{x}<br>Score=%{y}<extra></extra>",
         "legendgroup": "30",
         "marker": {
          "color": "#636efa",
          "symbol": "circle"
         },
         "mode": "markers",
         "name": "30",
         "orientation": "h",
         "showlegend": true,
         "type": "scatter",
         "x": [
          2
         ],
         "xaxis": "x",
         "y": [
          0.7673
         ],
         "yaxis": "y"
        },
        {
         "hovertemplate": "Nr=31<br>unique_verbs=%{x}<br>Score=%{y}<extra></extra>",
         "legendgroup": "31",
         "marker": {
          "color": "#EF553B",
          "symbol": "circle"
         },
         "mode": "markers",
         "name": "31",
         "orientation": "h",
         "showlegend": true,
         "type": "scatter",
         "x": [
          1
         ],
         "xaxis": "x",
         "y": [
          0.51572
         ],
         "yaxis": "y"
        },
        {
         "hovertemplate": "Nr=32<br>unique_verbs=%{x}<br>Score=%{y}<extra></extra>",
         "legendgroup": "32",
         "marker": {
          "color": "#00cc96",
          "symbol": "circle"
         },
         "mode": "markers",
         "name": "32",
         "orientation": "h",
         "showlegend": true,
         "type": "scatter",
         "x": [
          3
         ],
         "xaxis": "x",
         "y": [
          0.79874
         ],
         "yaxis": "y"
        },
        {
         "hovertemplate": "Nr=33<br>unique_verbs=%{x}<br>Score=%{y}<extra></extra>",
         "legendgroup": "33",
         "marker": {
          "color": "#ab63fa",
          "symbol": "circle"
         },
         "mode": "markers",
         "name": "33",
         "orientation": "h",
         "showlegend": true,
         "type": "scatter",
         "x": [
          3
         ],
         "xaxis": "x",
         "y": [
          0.0566
         ],
         "yaxis": "y"
        },
        {
         "hovertemplate": "Nr=34<br>unique_verbs=%{x}<br>Score=%{y}<extra></extra>",
         "legendgroup": "34",
         "marker": {
          "color": "#FFA15A",
          "symbol": "circle"
         },
         "mode": "markers",
         "name": "34",
         "orientation": "h",
         "showlegend": true,
         "type": "scatter",
         "x": [
          2
         ],
         "xaxis": "x",
         "y": [
          0.37107
         ],
         "yaxis": "y"
        },
        {
         "hovertemplate": "Nr=35<br>unique_verbs=%{x}<br>Score=%{y}<extra></extra>",
         "legendgroup": "35",
         "marker": {
          "color": "#19d3f3",
          "symbol": "circle"
         },
         "mode": "markers",
         "name": "35",
         "orientation": "h",
         "showlegend": true,
         "type": "scatter",
         "x": [
          4
         ],
         "xaxis": "x",
         "y": [
          0.02516
         ],
         "yaxis": "y"
        },
        {
         "hovertemplate": "Nr=36<br>unique_verbs=%{x}<br>Score=%{y}<extra></extra>",
         "legendgroup": "36",
         "marker": {
          "color": "#FF6692",
          "symbol": "circle"
         },
         "mode": "markers",
         "name": "36",
         "orientation": "h",
         "showlegend": true,
         "type": "scatter",
         "x": [
          6
         ],
         "xaxis": "x",
         "y": [
          0.39623
         ],
         "yaxis": "y"
        },
        {
         "hovertemplate": "Nr=37<br>unique_verbs=%{x}<br>Score=%{y}<extra></extra>",
         "legendgroup": "37",
         "marker": {
          "color": "#B6E880",
          "symbol": "circle"
         },
         "mode": "markers",
         "name": "37",
         "orientation": "h",
         "showlegend": true,
         "type": "scatter",
         "x": [
          1
         ],
         "xaxis": "x",
         "y": [
          0.03145
         ],
         "yaxis": "y"
        },
        {
         "hovertemplate": "Nr=38<br>unique_verbs=%{x}<br>Score=%{y}<extra></extra>",
         "legendgroup": "38",
         "marker": {
          "color": "#FF97FF",
          "symbol": "circle"
         },
         "mode": "markers",
         "name": "38",
         "orientation": "h",
         "showlegend": true,
         "type": "scatter",
         "x": [
          2
         ],
         "xaxis": "x",
         "y": [
          0.59748
         ],
         "yaxis": "y"
        },
        {
         "hovertemplate": "Nr=39<br>unique_verbs=%{x}<br>Score=%{y}<extra></extra>",
         "legendgroup": "39",
         "marker": {
          "color": "#FECB52",
          "symbol": "circle"
         },
         "mode": "markers",
         "name": "39",
         "orientation": "h",
         "showlegend": true,
         "type": "scatter",
         "x": [
          4
         ],
         "xaxis": "x",
         "y": [
          0.20755
         ],
         "yaxis": "y"
        },
        {
         "hovertemplate": "Nr=40<br>unique_verbs=%{x}<br>Score=%{y}<extra></extra>",
         "legendgroup": "40",
         "marker": {
          "color": "#636efa",
          "symbol": "circle"
         },
         "mode": "markers",
         "name": "40",
         "orientation": "h",
         "showlegend": true,
         "type": "scatter",
         "x": [
          2
         ],
         "xaxis": "x",
         "y": [
          0.61006
         ],
         "yaxis": "y"
        },
        {
         "hovertemplate": "Nr=41<br>unique_verbs=%{x}<br>Score=%{y}<extra></extra>",
         "legendgroup": "41",
         "marker": {
          "color": "#EF553B",
          "symbol": "circle"
         },
         "mode": "markers",
         "name": "41",
         "orientation": "h",
         "showlegend": true,
         "type": "scatter",
         "x": [
          2
         ],
         "xaxis": "x",
         "y": [
          0.56604
         ],
         "yaxis": "y"
        },
        {
         "hovertemplate": "Nr=42<br>unique_verbs=%{x}<br>Score=%{y}<extra></extra>",
         "legendgroup": "42",
         "marker": {
          "color": "#00cc96",
          "symbol": "circle"
         },
         "mode": "markers",
         "name": "42",
         "orientation": "h",
         "showlegend": true,
         "type": "scatter",
         "x": [
          5
         ],
         "xaxis": "x",
         "y": [
          0.38994
         ],
         "yaxis": "y"
        },
        {
         "hovertemplate": "Nr=43<br>unique_verbs=%{x}<br>Score=%{y}<extra></extra>",
         "legendgroup": "43",
         "marker": {
          "color": "#ab63fa",
          "symbol": "circle"
         },
         "mode": "markers",
         "name": "43",
         "orientation": "h",
         "showlegend": true,
         "type": "scatter",
         "x": [
          5
         ],
         "xaxis": "x",
         "y": [
          0.18239
         ],
         "yaxis": "y"
        },
        {
         "hovertemplate": "Nr=44<br>unique_verbs=%{x}<br>Score=%{y}<extra></extra>",
         "legendgroup": "44",
         "marker": {
          "color": "#FFA15A",
          "symbol": "circle"
         },
         "mode": "markers",
         "name": "44",
         "orientation": "h",
         "showlegend": true,
         "type": "scatter",
         "x": [
          3
         ],
         "xaxis": "x",
         "y": [
          0.24528
         ],
         "yaxis": "y"
        },
        {
         "hovertemplate": "Nr=45<br>unique_verbs=%{x}<br>Score=%{y}<extra></extra>",
         "legendgroup": "45",
         "marker": {
          "color": "#19d3f3",
          "symbol": "circle"
         },
         "mode": "markers",
         "name": "45",
         "orientation": "h",
         "showlegend": true,
         "type": "scatter",
         "x": [
          3
         ],
         "xaxis": "x",
         "y": [
          0.58491
         ],
         "yaxis": "y"
        },
        {
         "hovertemplate": "Nr=46<br>unique_verbs=%{x}<br>Score=%{y}<extra></extra>",
         "legendgroup": "46",
         "marker": {
          "color": "#FF6692",
          "symbol": "circle"
         },
         "mode": "markers",
         "name": "46",
         "orientation": "h",
         "showlegend": true,
         "type": "scatter",
         "x": [
          6
         ],
         "xaxis": "x",
         "y": [
          0.13836
         ],
         "yaxis": "y"
        },
        {
         "hovertemplate": "Nr=47<br>unique_verbs=%{x}<br>Score=%{y}<extra></extra>",
         "legendgroup": "47",
         "marker": {
          "color": "#B6E880",
          "symbol": "circle"
         },
         "mode": "markers",
         "name": "47",
         "orientation": "h",
         "showlegend": true,
         "type": "scatter",
         "x": [
          3
         ],
         "xaxis": "x",
         "y": [
          0.37736
         ],
         "yaxis": "y"
        },
        {
         "hovertemplate": "Nr=48<br>unique_verbs=%{x}<br>Score=%{y}<extra></extra>",
         "legendgroup": "48",
         "marker": {
          "color": "#FF97FF",
          "symbol": "circle"
         },
         "mode": "markers",
         "name": "48",
         "orientation": "h",
         "showlegend": true,
         "type": "scatter",
         "x": [
          1
         ],
         "xaxis": "x",
         "y": [
          0.42767
         ],
         "yaxis": "y"
        },
        {
         "hovertemplate": "Nr=49<br>unique_verbs=%{x}<br>Score=%{y}<extra></extra>",
         "legendgroup": "49",
         "marker": {
          "color": "#FECB52",
          "symbol": "circle"
         },
         "mode": "markers",
         "name": "49",
         "orientation": "h",
         "showlegend": true,
         "type": "scatter",
         "x": [
          4
         ],
         "xaxis": "x",
         "y": [
          0.55346
         ],
         "yaxis": "y"
        },
        {
         "hovertemplate": "Nr=50<br>unique_verbs=%{x}<br>Score=%{y}<extra></extra>",
         "legendgroup": "50",
         "marker": {
          "color": "#636efa",
          "symbol": "circle"
         },
         "mode": "markers",
         "name": "50",
         "orientation": "h",
         "showlegend": true,
         "type": "scatter",
         "x": [
          2
         ],
         "xaxis": "x",
         "y": [
          0.81761
         ],
         "yaxis": "y"
        },
        {
         "hovertemplate": "Nr=51<br>unique_verbs=%{x}<br>Score=%{y}<extra></extra>",
         "legendgroup": "51",
         "marker": {
          "color": "#EF553B",
          "symbol": "circle"
         },
         "mode": "markers",
         "name": "51",
         "orientation": "h",
         "showlegend": true,
         "type": "scatter",
         "x": [
          4
         ],
         "xaxis": "x",
         "y": [
          0.84277
         ],
         "yaxis": "y"
        },
        {
         "hovertemplate": "Nr=52<br>unique_verbs=%{x}<br>Score=%{y}<extra></extra>",
         "legendgroup": "52",
         "marker": {
          "color": "#00cc96",
          "symbol": "circle"
         },
         "mode": "markers",
         "name": "52",
         "orientation": "h",
         "showlegend": true,
         "type": "scatter",
         "x": [
          2
         ],
         "xaxis": "x",
         "y": [
          0.52201
         ],
         "yaxis": "y"
        },
        {
         "hovertemplate": "Nr=53<br>unique_verbs=%{x}<br>Score=%{y}<extra></extra>",
         "legendgroup": "53",
         "marker": {
          "color": "#ab63fa",
          "symbol": "circle"
         },
         "mode": "markers",
         "name": "53",
         "orientation": "h",
         "showlegend": true,
         "type": "scatter",
         "x": [
          4
         ],
         "xaxis": "x",
         "y": [
          0.66667
         ],
         "yaxis": "y"
        },
        {
         "hovertemplate": "Nr=54<br>unique_verbs=%{x}<br>Score=%{y}<extra></extra>",
         "legendgroup": "54",
         "marker": {
          "color": "#FFA15A",
          "symbol": "circle"
         },
         "mode": "markers",
         "name": "54",
         "orientation": "h",
         "showlegend": true,
         "type": "scatter",
         "x": [
          4
         ],
         "xaxis": "x",
         "y": [
          0.55975
         ],
         "yaxis": "y"
        },
        {
         "hovertemplate": "Nr=55<br>unique_verbs=%{x}<br>Score=%{y}<extra></extra>",
         "legendgroup": "55",
         "marker": {
          "color": "#19d3f3",
          "symbol": "circle"
         },
         "mode": "markers",
         "name": "55",
         "orientation": "h",
         "showlegend": true,
         "type": "scatter",
         "x": [
          1
         ],
         "xaxis": "x",
         "y": [
          0.1761
         ],
         "yaxis": "y"
        },
        {
         "hovertemplate": "Nr=56<br>unique_verbs=%{x}<br>Score=%{y}<extra></extra>",
         "legendgroup": "56",
         "marker": {
          "color": "#FF6692",
          "symbol": "circle"
         },
         "mode": "markers",
         "name": "56",
         "orientation": "h",
         "showlegend": true,
         "type": "scatter",
         "x": [
          3
         ],
         "xaxis": "x",
         "y": [
          0.49686
         ],
         "yaxis": "y"
        },
        {
         "hovertemplate": "Nr=57<br>unique_verbs=%{x}<br>Score=%{y}<extra></extra>",
         "legendgroup": "57",
         "marker": {
          "color": "#B6E880",
          "symbol": "circle"
         },
         "mode": "markers",
         "name": "57",
         "orientation": "h",
         "showlegend": true,
         "type": "scatter",
         "x": [
          3
         ],
         "xaxis": "x",
         "y": [
          0.69811
         ],
         "yaxis": "y"
        },
        {
         "hovertemplate": "Nr=58<br>unique_verbs=%{x}<br>Score=%{y}<extra></extra>",
         "legendgroup": "58",
         "marker": {
          "color": "#FF97FF",
          "symbol": "circle"
         },
         "mode": "markers",
         "name": "58",
         "orientation": "h",
         "showlegend": true,
         "type": "scatter",
         "x": [
          2
         ],
         "xaxis": "x",
         "y": [
          0.2327
         ],
         "yaxis": "y"
        },
        {
         "hovertemplate": "Nr=59<br>unique_verbs=%{x}<br>Score=%{y}<extra></extra>",
         "legendgroup": "59",
         "marker": {
          "color": "#FECB52",
          "symbol": "circle"
         },
         "mode": "markers",
         "name": "59",
         "orientation": "h",
         "showlegend": true,
         "type": "scatter",
         "x": [
          3
         ],
         "xaxis": "x",
         "y": [
          0.43396
         ],
         "yaxis": "y"
        },
        {
         "hovertemplate": "Nr=60<br>unique_verbs=%{x}<br>Score=%{y}<extra></extra>",
         "legendgroup": "60",
         "marker": {
          "color": "#636efa",
          "symbol": "circle"
         },
         "mode": "markers",
         "name": "60",
         "orientation": "h",
         "showlegend": true,
         "type": "scatter",
         "x": [
          4
         ],
         "xaxis": "x",
         "y": [
          0.61635
         ],
         "yaxis": "y"
        },
        {
         "hovertemplate": "Nr=61<br>unique_verbs=%{x}<br>Score=%{y}<extra></extra>",
         "legendgroup": "61",
         "marker": {
          "color": "#EF553B",
          "symbol": "circle"
         },
         "mode": "markers",
         "name": "61",
         "orientation": "h",
         "showlegend": true,
         "type": "scatter",
         "x": [
          2
         ],
         "xaxis": "x",
         "y": [
          0.69182
         ],
         "yaxis": "y"
        },
        {
         "hovertemplate": "Nr=62<br>unique_verbs=%{x}<br>Score=%{y}<extra></extra>",
         "legendgroup": "62",
         "marker": {
          "color": "#00cc96",
          "symbol": "circle"
         },
         "mode": "markers",
         "name": "62",
         "orientation": "h",
         "showlegend": true,
         "type": "scatter",
         "x": [
          3
         ],
         "xaxis": "x",
         "y": [
          0.25157
         ],
         "yaxis": "y"
        },
        {
         "hovertemplate": "Nr=63<br>unique_verbs=%{x}<br>Score=%{y}<extra></extra>",
         "legendgroup": "63",
         "marker": {
          "color": "#ab63fa",
          "symbol": "circle"
         },
         "mode": "markers",
         "name": "63",
         "orientation": "h",
         "showlegend": true,
         "type": "scatter",
         "x": [
          2
         ],
         "xaxis": "x",
         "y": [
          0.33333
         ],
         "yaxis": "y"
        },
        {
         "hovertemplate": "Nr=64<br>unique_verbs=%{x}<br>Score=%{y}<extra></extra>",
         "legendgroup": "64",
         "marker": {
          "color": "#FFA15A",
          "symbol": "circle"
         },
         "mode": "markers",
         "name": "64",
         "orientation": "h",
         "showlegend": true,
         "type": "scatter",
         "x": [
          3
         ],
         "xaxis": "x",
         "y": [
          0.50943
         ],
         "yaxis": "y"
        },
        {
         "hovertemplate": "Nr=65<br>unique_verbs=%{x}<br>Score=%{y}<extra></extra>",
         "legendgroup": "65",
         "marker": {
          "color": "#19d3f3",
          "symbol": "circle"
         },
         "mode": "markers",
         "name": "65",
         "orientation": "h",
         "showlegend": true,
         "type": "scatter",
         "x": [
          1
         ],
         "xaxis": "x",
         "y": [
          0.63522
         ],
         "yaxis": "y"
        },
        {
         "hovertemplate": "Nr=66<br>unique_verbs=%{x}<br>Score=%{y}<extra></extra>",
         "legendgroup": "66",
         "marker": {
          "color": "#FF6692",
          "symbol": "circle"
         },
         "mode": "markers",
         "name": "66",
         "orientation": "h",
         "showlegend": true,
         "type": "scatter",
         "x": [
          2
         ],
         "xaxis": "x",
         "y": [
          0.25786
         ],
         "yaxis": "y"
        },
        {
         "hovertemplate": "Nr=67<br>unique_verbs=%{x}<br>Score=%{y}<extra></extra>",
         "legendgroup": "67",
         "marker": {
          "color": "#B6E880",
          "symbol": "circle"
         },
         "mode": "markers",
         "name": "67",
         "orientation": "h",
         "showlegend": true,
         "type": "scatter",
         "x": [
          4
         ],
         "xaxis": "x",
         "y": [
          0.14465
         ],
         "yaxis": "y"
        },
        {
         "hovertemplate": "Nr=68<br>unique_verbs=%{x}<br>Score=%{y}<extra></extra>",
         "legendgroup": "68",
         "marker": {
          "color": "#FF97FF",
          "symbol": "circle"
         },
         "mode": "markers",
         "name": "68",
         "orientation": "h",
         "showlegend": true,
         "type": "scatter",
         "x": [
          2
         ],
         "xaxis": "x",
         "y": [
          0.36478
         ],
         "yaxis": "y"
        },
        {
         "hovertemplate": "Nr=69<br>unique_verbs=%{x}<br>Score=%{y}<extra></extra>",
         "legendgroup": "69",
         "marker": {
          "color": "#FECB52",
          "symbol": "circle"
         },
         "mode": "markers",
         "name": "69",
         "orientation": "h",
         "showlegend": true,
         "type": "scatter",
         "x": [
          3
         ],
         "xaxis": "x",
         "y": [
          0.08805
         ],
         "yaxis": "y"
        },
        {
         "hovertemplate": "Nr=70<br>unique_verbs=%{x}<br>Score=%{y}<extra></extra>",
         "legendgroup": "70",
         "marker": {
          "color": "#636efa",
          "symbol": "circle"
         },
         "mode": "markers",
         "name": "70",
         "orientation": "h",
         "showlegend": true,
         "type": "scatter",
         "x": [
          3
         ],
         "xaxis": "x",
         "y": [
          0.53459
         ],
         "yaxis": "y"
        },
        {
         "hovertemplate": "Nr=71<br>unique_verbs=%{x}<br>Score=%{y}<extra></extra>",
         "legendgroup": "71",
         "marker": {
          "color": "#EF553B",
          "symbol": "circle"
         },
         "mode": "markers",
         "name": "71",
         "orientation": "h",
         "showlegend": true,
         "type": "scatter",
         "x": [
          1
         ],
         "xaxis": "x",
         "y": [
          0.49057
         ],
         "yaxis": "y"
        },
        {
         "hovertemplate": "Nr=72<br>unique_verbs=%{x}<br>Score=%{y}<extra></extra>",
         "legendgroup": "72",
         "marker": {
          "color": "#00cc96",
          "symbol": "circle"
         },
         "mode": "markers",
         "name": "72",
         "orientation": "h",
         "showlegend": true,
         "type": "scatter",
         "x": [
          2
         ],
         "xaxis": "x",
         "y": [
          0.74214
         ],
         "yaxis": "y"
        },
        {
         "hovertemplate": "Nr=73<br>unique_verbs=%{x}<br>Score=%{y}<extra></extra>",
         "legendgroup": "73",
         "marker": {
          "color": "#ab63fa",
          "symbol": "circle"
         },
         "mode": "markers",
         "name": "73",
         "orientation": "h",
         "showlegend": true,
         "type": "scatter",
         "x": [
          3
         ],
         "xaxis": "x",
         "y": [
          0.59119
         ],
         "yaxis": "y"
        },
        {
         "hovertemplate": "Nr=74<br>unique_verbs=%{x}<br>Score=%{y}<extra></extra>",
         "legendgroup": "74",
         "marker": {
          "color": "#FFA15A",
          "symbol": "circle"
         },
         "mode": "markers",
         "name": "74",
         "orientation": "h",
         "showlegend": true,
         "type": "scatter",
         "x": [
          5
         ],
         "xaxis": "x",
         "y": [
          0.42138
         ],
         "yaxis": "y"
        },
        {
         "hovertemplate": "Nr=75<br>unique_verbs=%{x}<br>Score=%{y}<extra></extra>",
         "legendgroup": "75",
         "marker": {
          "color": "#19d3f3",
          "symbol": "circle"
         },
         "mode": "markers",
         "name": "75",
         "orientation": "h",
         "showlegend": true,
         "type": "scatter",
         "x": [
          2
         ],
         "xaxis": "x",
         "y": [
          0.15094
         ],
         "yaxis": "y"
        },
        {
         "hovertemplate": "Nr=76<br>unique_verbs=%{x}<br>Score=%{y}<extra></extra>",
         "legendgroup": "76",
         "marker": {
          "color": "#FF6692",
          "symbol": "circle"
         },
         "mode": "markers",
         "name": "76",
         "orientation": "h",
         "showlegend": true,
         "type": "scatter",
         "x": [
          1
         ],
         "xaxis": "x",
         "y": [
          0.3522
         ],
         "yaxis": "y"
        },
        {
         "hovertemplate": "Nr=77<br>unique_verbs=%{x}<br>Score=%{y}<extra></extra>",
         "legendgroup": "77",
         "marker": {
          "color": "#B6E880",
          "symbol": "circle"
         },
         "mode": "markers",
         "name": "77",
         "orientation": "h",
         "showlegend": true,
         "type": "scatter",
         "x": [
          2
         ],
         "xaxis": "x",
         "y": [
          0.27044
         ],
         "yaxis": "y"
        },
        {
         "hovertemplate": "Nr=78<br>unique_verbs=%{x}<br>Score=%{y}<extra></extra>",
         "legendgroup": "78",
         "marker": {
          "color": "#FF97FF",
          "symbol": "circle"
         },
         "mode": "markers",
         "name": "78",
         "orientation": "h",
         "showlegend": true,
         "type": "scatter",
         "x": [
          3
         ],
         "xaxis": "x",
         "y": [
          0.93711
         ],
         "yaxis": "y"
        },
        {
         "hovertemplate": "Nr=79<br>unique_verbs=%{x}<br>Score=%{y}<extra></extra>",
         "legendgroup": "79",
         "marker": {
          "color": "#FECB52",
          "symbol": "circle"
         },
         "mode": "markers",
         "name": "79",
         "orientation": "h",
         "showlegend": true,
         "type": "scatter",
         "x": [
          6
         ],
         "xaxis": "x",
         "y": [
          0.54088
         ],
         "yaxis": "y"
        },
        {
         "hovertemplate": "Nr=80<br>unique_verbs=%{x}<br>Score=%{y}<extra></extra>",
         "legendgroup": "80",
         "marker": {
          "color": "#636efa",
          "symbol": "circle"
         },
         "mode": "markers",
         "name": "80",
         "orientation": "h",
         "showlegend": true,
         "type": "scatter",
         "x": [
          1
         ],
         "xaxis": "x",
         "y": [
          0.06289
         ],
         "yaxis": "y"
        },
        {
         "hovertemplate": "Nr=81<br>unique_verbs=%{x}<br>Score=%{y}<extra></extra>",
         "legendgroup": "81",
         "marker": {
          "color": "#EF553B",
          "symbol": "circle"
         },
         "mode": "markers",
         "name": "81",
         "orientation": "h",
         "showlegend": true,
         "type": "scatter",
         "x": [
          2
         ],
         "xaxis": "x",
         "y": [
          0.04403
         ],
         "yaxis": "y"
        },
        {
         "hovertemplate": "Nr=82<br>unique_verbs=%{x}<br>Score=%{y}<extra></extra>",
         "legendgroup": "82",
         "marker": {
          "color": "#00cc96",
          "symbol": "circle"
         },
         "mode": "markers",
         "name": "82",
         "orientation": "h",
         "showlegend": true,
         "type": "scatter",
         "x": [
          4
         ],
         "xaxis": "x",
         "y": [
          0.05031
         ],
         "yaxis": "y"
        },
        {
         "hovertemplate": "Nr=83<br>unique_verbs=%{x}<br>Score=%{y}<extra></extra>",
         "legendgroup": "83",
         "marker": {
          "color": "#ab63fa",
          "symbol": "circle"
         },
         "mode": "markers",
         "name": "83",
         "orientation": "h",
         "showlegend": true,
         "type": "scatter",
         "x": [
          4
         ],
         "xaxis": "x",
         "y": [
          0.13208
         ],
         "yaxis": "y"
        },
        {
         "hovertemplate": "Nr=84<br>unique_verbs=%{x}<br>Score=%{y}<extra></extra>",
         "legendgroup": "84",
         "marker": {
          "color": "#FFA15A",
          "symbol": "circle"
         },
         "mode": "markers",
         "name": "84",
         "orientation": "h",
         "showlegend": true,
         "type": "scatter",
         "x": [
          2
         ],
         "xaxis": "x",
         "y": [
          0.7044
         ],
         "yaxis": "y"
        },
        {
         "hovertemplate": "Nr=85<br>unique_verbs=%{x}<br>Score=%{y}<extra></extra>",
         "legendgroup": "85",
         "marker": {
          "color": "#19d3f3",
          "symbol": "circle"
         },
         "mode": "markers",
         "name": "85",
         "orientation": "h",
         "showlegend": true,
         "type": "scatter",
         "x": [
          0
         ],
         "xaxis": "x",
         "y": [
          0.88679
         ],
         "yaxis": "y"
        },
        {
         "hovertemplate": "Nr=86<br>unique_verbs=%{x}<br>Score=%{y}<extra></extra>",
         "legendgroup": "86",
         "marker": {
          "color": "#FF6692",
          "symbol": "circle"
         },
         "mode": "markers",
         "name": "86",
         "orientation": "h",
         "showlegend": true,
         "type": "scatter",
         "x": [
          1
         ],
         "xaxis": "x",
         "y": [
          0.50314
         ],
         "yaxis": "y"
        },
        {
         "hovertemplate": "Nr=87<br>unique_verbs=%{x}<br>Score=%{y}<extra></extra>",
         "legendgroup": "87",
         "marker": {
          "color": "#B6E880",
          "symbol": "circle"
         },
         "mode": "markers",
         "name": "87",
         "orientation": "h",
         "showlegend": true,
         "type": "scatter",
         "x": [
          1
         ],
         "xaxis": "x",
         "y": [
          0.06918
         ],
         "yaxis": "y"
        },
        {
         "hovertemplate": "Nr=88<br>unique_verbs=%{x}<br>Score=%{y}<extra></extra>",
         "legendgroup": "88",
         "marker": {
          "color": "#FF97FF",
          "symbol": "circle"
         },
         "mode": "markers",
         "name": "88",
         "orientation": "h",
         "showlegend": true,
         "type": "scatter",
         "x": [
          3
         ],
         "xaxis": "x",
         "y": [
          0.20126
         ],
         "yaxis": "y"
        },
        {
         "hovertemplate": "Nr=89<br>unique_verbs=%{x}<br>Score=%{y}<extra></extra>",
         "legendgroup": "89",
         "marker": {
          "color": "#FECB52",
          "symbol": "circle"
         },
         "mode": "markers",
         "name": "89",
         "orientation": "h",
         "showlegend": true,
         "type": "scatter",
         "x": [
          1
         ],
         "xaxis": "x",
         "y": [
          0.40881
         ],
         "yaxis": "y"
        },
        {
         "hovertemplate": "Nr=90<br>unique_verbs=%{x}<br>Score=%{y}<extra></extra>",
         "legendgroup": "90",
         "marker": {
          "color": "#636efa",
          "symbol": "circle"
         },
         "mode": "markers",
         "name": "90",
         "orientation": "h",
         "showlegend": true,
         "type": "scatter",
         "x": [
          3
         ],
         "xaxis": "x",
         "y": [
          0.15723
         ],
         "yaxis": "y"
        },
        {
         "hovertemplate": "Nr=91<br>unique_verbs=%{x}<br>Score=%{y}<extra></extra>",
         "legendgroup": "91",
         "marker": {
          "color": "#EF553B",
          "symbol": "circle"
         },
         "mode": "markers",
         "name": "91",
         "orientation": "h",
         "showlegend": true,
         "type": "scatter",
         "x": [
          5
         ],
         "xaxis": "x",
         "y": [
          0.38365
         ],
         "yaxis": "y"
        },
        {
         "hovertemplate": "Nr=92<br>unique_verbs=%{x}<br>Score=%{y}<extra></extra>",
         "legendgroup": "92",
         "marker": {
          "color": "#00cc96",
          "symbol": "circle"
         },
         "mode": "markers",
         "name": "92",
         "orientation": "h",
         "showlegend": true,
         "type": "scatter",
         "x": [
          4
         ],
         "xaxis": "x",
         "y": [
          0.01887
         ],
         "yaxis": "y"
        },
        {
         "hovertemplate": "Nr=93<br>unique_verbs=%{x}<br>Score=%{y}<extra></extra>",
         "legendgroup": "93",
         "marker": {
          "color": "#ab63fa",
          "symbol": "circle"
         },
         "mode": "markers",
         "name": "93",
         "orientation": "h",
         "showlegend": true,
         "type": "scatter",
         "x": [
          1
         ],
         "xaxis": "x",
         "y": [
          0.90566
         ],
         "yaxis": "y"
        },
        {
         "hovertemplate": "Nr=94<br>unique_verbs=%{x}<br>Score=%{y}<extra></extra>",
         "legendgroup": "94",
         "marker": {
          "color": "#FFA15A",
          "symbol": "circle"
         },
         "mode": "markers",
         "name": "94",
         "orientation": "h",
         "showlegend": true,
         "type": "scatter",
         "x": [
          3
         ],
         "xaxis": "x",
         "y": [
          0.48428
         ],
         "yaxis": "y"
        },
        {
         "hovertemplate": "Nr=95<br>unique_verbs=%{x}<br>Score=%{y}<extra></extra>",
         "legendgroup": "95",
         "marker": {
          "color": "#19d3f3",
          "symbol": "circle"
         },
         "mode": "markers",
         "name": "95",
         "orientation": "h",
         "showlegend": true,
         "type": "scatter",
         "x": [
          2
         ],
         "xaxis": "x",
         "y": [
          0.23899
         ],
         "yaxis": "y"
        },
        {
         "hovertemplate": "Nr=96<br>unique_verbs=%{x}<br>Score=%{y}<extra></extra>",
         "legendgroup": "96",
         "marker": {
          "color": "#FF6692",
          "symbol": "circle"
         },
         "mode": "markers",
         "name": "96",
         "orientation": "h",
         "showlegend": true,
         "type": "scatter",
         "x": [
          3
         ],
         "xaxis": "x",
         "y": [
          0.60377
         ],
         "yaxis": "y"
        },
        {
         "hovertemplate": "Nr=97<br>unique_verbs=%{x}<br>Score=%{y}<extra></extra>",
         "legendgroup": "97",
         "marker": {
          "color": "#B6E880",
          "symbol": "circle"
         },
         "mode": "markers",
         "name": "97",
         "orientation": "h",
         "showlegend": true,
         "type": "scatter",
         "x": [
          1
         ],
         "xaxis": "x",
         "y": [
          0.65409
         ],
         "yaxis": "y"
        },
        {
         "hovertemplate": "Nr=98<br>unique_verbs=%{x}<br>Score=%{y}<extra></extra>",
         "legendgroup": "98",
         "marker": {
          "color": "#FF97FF",
          "symbol": "circle"
         },
         "mode": "markers",
         "name": "98",
         "orientation": "h",
         "showlegend": true,
         "type": "scatter",
         "x": [
          0
         ],
         "xaxis": "x",
         "y": [
          0.74843
         ],
         "yaxis": "y"
        },
        {
         "hovertemplate": "Nr=99<br>unique_verbs=%{x}<br>Score=%{y}<extra></extra>",
         "legendgroup": "99",
         "marker": {
          "color": "#FECB52",
          "symbol": "circle"
         },
         "mode": "markers",
         "name": "99",
         "orientation": "h",
         "showlegend": true,
         "type": "scatter",
         "x": [
          2
         ],
         "xaxis": "x",
         "y": [
          0.11321
         ],
         "yaxis": "y"
        },
        {
         "hovertemplate": "Nr=100<br>unique_verbs=%{x}<br>Score=%{y}<extra></extra>",
         "legendgroup": "100",
         "marker": {
          "color": "#636efa",
          "symbol": "circle"
         },
         "mode": "markers",
         "name": "100",
         "orientation": "h",
         "showlegend": true,
         "type": "scatter",
         "x": [
          2
         ],
         "xaxis": "x",
         "y": [
          0.72327
         ],
         "yaxis": "y"
        },
        {
         "hovertemplate": "Nr=101<br>unique_verbs=%{x}<br>Score=%{y}<extra></extra>",
         "legendgroup": "101",
         "marker": {
          "color": "#EF553B",
          "symbol": "circle"
         },
         "mode": "markers",
         "name": "101",
         "orientation": "h",
         "showlegend": true,
         "type": "scatter",
         "x": [
          6
         ],
         "xaxis": "x",
         "y": [
          0
         ],
         "yaxis": "y"
        },
        {
         "hovertemplate": "Nr=102<br>unique_verbs=%{x}<br>Score=%{y}<extra></extra>",
         "legendgroup": "102",
         "marker": {
          "color": "#00cc96",
          "symbol": "circle"
         },
         "mode": "markers",
         "name": "102",
         "orientation": "h",
         "showlegend": true,
         "type": "scatter",
         "x": [
          1
         ],
         "xaxis": "x",
         "y": [
          0.77358
         ],
         "yaxis": "y"
        },
        {
         "hovertemplate": "Nr=103<br>unique_verbs=%{x}<br>Score=%{y}<extra></extra>",
         "legendgroup": "103",
         "marker": {
          "color": "#ab63fa",
          "symbol": "circle"
         },
         "mode": "markers",
         "name": "103",
         "orientation": "h",
         "showlegend": true,
         "type": "scatter",
         "x": [
          2
         ],
         "xaxis": "x",
         "y": [
          0.27673
         ],
         "yaxis": "y"
        },
        {
         "hovertemplate": "Nr=104<br>unique_verbs=%{x}<br>Score=%{y}<extra></extra>",
         "legendgroup": "104",
         "marker": {
          "color": "#FFA15A",
          "symbol": "circle"
         },
         "mode": "markers",
         "name": "104",
         "orientation": "h",
         "showlegend": true,
         "type": "scatter",
         "x": [
          2
         ],
         "xaxis": "x",
         "y": [
          0.26415
         ],
         "yaxis": "y"
        },
        {
         "hovertemplate": "Nr=105<br>unique_verbs=%{x}<br>Score=%{y}<extra></extra>",
         "legendgroup": "105",
         "marker": {
          "color": "#19d3f3",
          "symbol": "circle"
         },
         "mode": "markers",
         "name": "105",
         "orientation": "h",
         "showlegend": true,
         "type": "scatter",
         "x": [
          3
         ],
         "xaxis": "x",
         "y": [
          0.16981
         ],
         "yaxis": "y"
        },
        {
         "hovertemplate": "Nr=106<br>unique_verbs=%{x}<br>Score=%{y}<extra></extra>",
         "legendgroup": "106",
         "marker": {
          "color": "#FF6692",
          "symbol": "circle"
         },
         "mode": "markers",
         "name": "106",
         "orientation": "h",
         "showlegend": true,
         "type": "scatter",
         "x": [
          0
         ],
         "xaxis": "x",
         "y": [
          0.22642
         ],
         "yaxis": "y"
        },
        {
         "hovertemplate": "Nr=107<br>unique_verbs=%{x}<br>Score=%{y}<extra></extra>",
         "legendgroup": "107",
         "marker": {
          "color": "#B6E880",
          "symbol": "circle"
         },
         "mode": "markers",
         "name": "107",
         "orientation": "h",
         "showlegend": true,
         "type": "scatter",
         "x": [
          0
         ],
         "xaxis": "x",
         "y": [
          0.71698
         ],
         "yaxis": "y"
        },
        {
         "hovertemplate": "Nr=108<br>unique_verbs=%{x}<br>Score=%{y}<extra></extra>",
         "legendgroup": "108",
         "marker": {
          "color": "#FF97FF",
          "symbol": "circle"
         },
         "mode": "markers",
         "name": "108",
         "orientation": "h",
         "showlegend": true,
         "type": "scatter",
         "x": [
          1
         ],
         "xaxis": "x",
         "y": [
          0.54717
         ],
         "yaxis": "y"
        },
        {
         "hovertemplate": "Nr=109<br>unique_verbs=%{x}<br>Score=%{y}<extra></extra>",
         "legendgroup": "109",
         "marker": {
          "color": "#FECB52",
          "symbol": "circle"
         },
         "mode": "markers",
         "name": "109",
         "orientation": "h",
         "showlegend": true,
         "type": "scatter",
         "x": [
          4
         ],
         "xaxis": "x",
         "y": [
          0.07547
         ],
         "yaxis": "y"
        },
        {
         "hovertemplate": "Nr=110<br>unique_verbs=%{x}<br>Score=%{y}<extra></extra>",
         "legendgroup": "110",
         "marker": {
          "color": "#636efa",
          "symbol": "circle"
         },
         "mode": "markers",
         "name": "110",
         "orientation": "h",
         "showlegend": true,
         "type": "scatter",
         "x": [
          4
         ],
         "xaxis": "x",
         "y": [
          0.33962
         ],
         "yaxis": "y"
        },
        {
         "hovertemplate": "Nr=111<br>unique_verbs=%{x}<br>Score=%{y}<extra></extra>",
         "legendgroup": "111",
         "marker": {
          "color": "#EF553B",
          "symbol": "circle"
         },
         "mode": "markers",
         "name": "111",
         "orientation": "h",
         "showlegend": true,
         "type": "scatter",
         "x": [
          3
         ],
         "xaxis": "x",
         "y": [
          0.08176
         ],
         "yaxis": "y"
        },
        {
         "hovertemplate": "Nr=112<br>unique_verbs=%{x}<br>Score=%{y}<extra></extra>",
         "legendgroup": "112",
         "marker": {
          "color": "#00cc96",
          "symbol": "circle"
         },
         "mode": "markers",
         "name": "112",
         "orientation": "h",
         "showlegend": true,
         "type": "scatter",
         "x": [
          6
         ],
         "xaxis": "x",
         "y": [
          0.30189
         ],
         "yaxis": "y"
        },
        {
         "hovertemplate": "Nr=113<br>unique_verbs=%{x}<br>Score=%{y}<extra></extra>",
         "legendgroup": "113",
         "marker": {
          "color": "#ab63fa",
          "symbol": "circle"
         },
         "mode": "markers",
         "name": "113",
         "orientation": "h",
         "showlegend": true,
         "type": "scatter",
         "x": [
          1
         ],
         "xaxis": "x",
         "y": [
          0.34591
         ],
         "yaxis": "y"
        },
        {
         "hovertemplate": "Nr=114<br>unique_verbs=%{x}<br>Score=%{y}<extra></extra>",
         "legendgroup": "114",
         "marker": {
          "color": "#FFA15A",
          "symbol": "circle"
         },
         "mode": "markers",
         "name": "114",
         "orientation": "h",
         "showlegend": true,
         "type": "scatter",
         "x": [
          2
         ],
         "xaxis": "x",
         "y": [
          0.18868
         ],
         "yaxis": "y"
        },
        {
         "hovertemplate": "Nr=115<br>unique_verbs=%{x}<br>Score=%{y}<extra></extra>",
         "legendgroup": "115",
         "marker": {
          "color": "#19d3f3",
          "symbol": "circle"
         },
         "mode": "markers",
         "name": "115",
         "orientation": "h",
         "showlegend": true,
         "type": "scatter",
         "x": [
          2
         ],
         "xaxis": "x",
         "y": [
          0.28931
         ],
         "yaxis": "y"
        },
        {
         "hovertemplate": "Nr=116<br>unique_verbs=%{x}<br>Score=%{y}<extra></extra>",
         "legendgroup": "116",
         "marker": {
          "color": "#FF6692",
          "symbol": "circle"
         },
         "mode": "markers",
         "name": "116",
         "orientation": "h",
         "showlegend": true,
         "type": "scatter",
         "x": [
          3
         ],
         "xaxis": "x",
         "y": [
          0.21384
         ],
         "yaxis": "y"
        },
        {
         "hovertemplate": "Nr=117<br>unique_verbs=%{x}<br>Score=%{y}<extra></extra>",
         "legendgroup": "117",
         "marker": {
          "color": "#B6E880",
          "symbol": "circle"
         },
         "mode": "markers",
         "name": "117",
         "orientation": "h",
         "showlegend": true,
         "type": "scatter",
         "x": [
          3
         ],
         "xaxis": "x",
         "y": [
          0.16352
         ],
         "yaxis": "y"
        },
        {
         "hovertemplate": "Nr=118<br>unique_verbs=%{x}<br>Score=%{y}<extra></extra>",
         "legendgroup": "118",
         "marker": {
          "color": "#FF97FF",
          "symbol": "circle"
         },
         "mode": "markers",
         "name": "118",
         "orientation": "h",
         "showlegend": true,
         "type": "scatter",
         "x": [
          3
         ],
         "xaxis": "x",
         "y": [
          0.62893
         ],
         "yaxis": "y"
        },
        {
         "hovertemplate": "Nr=119<br>unique_verbs=%{x}<br>Score=%{y}<extra></extra>",
         "legendgroup": "119",
         "marker": {
          "color": "#FECB52",
          "symbol": "circle"
         },
         "mode": "markers",
         "name": "119",
         "orientation": "h",
         "showlegend": true,
         "type": "scatter",
         "x": [
          2
         ],
         "xaxis": "x",
         "y": [
          0.03774
         ],
         "yaxis": "y"
        },
        {
         "hovertemplate": "Nr=120<br>unique_verbs=%{x}<br>Score=%{y}<extra></extra>",
         "legendgroup": "120",
         "marker": {
          "color": "#636efa",
          "symbol": "circle"
         },
         "mode": "markers",
         "name": "120",
         "orientation": "h",
         "showlegend": true,
         "type": "scatter",
         "x": [
          1
         ],
         "xaxis": "x",
         "y": [
          0.87421
         ],
         "yaxis": "y"
        },
        {
         "hovertemplate": "Nr=121<br>unique_verbs=%{x}<br>Score=%{y}<extra></extra>",
         "legendgroup": "121",
         "marker": {
          "color": "#EF553B",
          "symbol": "circle"
         },
         "mode": "markers",
         "name": "121",
         "orientation": "h",
         "showlegend": true,
         "type": "scatter",
         "x": [
          1
         ],
         "xaxis": "x",
         "y": [
          0.73585
         ],
         "yaxis": "y"
        },
        {
         "hovertemplate": "Nr=122<br>unique_verbs=%{x}<br>Score=%{y}<extra></extra>",
         "legendgroup": "122",
         "marker": {
          "color": "#00cc96",
          "symbol": "circle"
         },
         "mode": "markers",
         "name": "122",
         "orientation": "h",
         "showlegend": true,
         "type": "scatter",
         "x": [
          2
         ],
         "xaxis": "x",
         "y": [
          0.44025
         ],
         "yaxis": "y"
        },
        {
         "hovertemplate": "Nr=123<br>unique_verbs=%{x}<br>Score=%{y}<extra></extra>",
         "legendgroup": "123",
         "marker": {
          "color": "#ab63fa",
          "symbol": "circle"
         },
         "mode": "markers",
         "name": "123",
         "orientation": "h",
         "showlegend": true,
         "type": "scatter",
         "x": [
          2
         ],
         "xaxis": "x",
         "y": [
          0.32704
         ],
         "yaxis": "y"
        },
        {
         "hovertemplate": "Nr=124<br>unique_verbs=%{x}<br>Score=%{y}<extra></extra>",
         "legendgroup": "124",
         "marker": {
          "color": "#FFA15A",
          "symbol": "circle"
         },
         "mode": "markers",
         "name": "124",
         "orientation": "h",
         "showlegend": true,
         "type": "scatter",
         "x": [
          3
         ],
         "xaxis": "x",
         "y": [
          0.46541
         ],
         "yaxis": "y"
        },
        {
         "hovertemplate": "Nr=125<br>unique_verbs=%{x}<br>Score=%{y}<extra></extra>",
         "legendgroup": "125",
         "marker": {
          "color": "#19d3f3",
          "symbol": "circle"
         },
         "mode": "markers",
         "name": "125",
         "orientation": "h",
         "showlegend": true,
         "type": "scatter",
         "x": [
          1
         ],
         "xaxis": "x",
         "y": [
          0.57862
         ],
         "yaxis": "y"
        },
        {
         "hovertemplate": "Nr=126<br>unique_verbs=%{x}<br>Score=%{y}<extra></extra>",
         "legendgroup": "126",
         "marker": {
          "color": "#FF6692",
          "symbol": "circle"
         },
         "mode": "markers",
         "name": "126",
         "orientation": "h",
         "showlegend": true,
         "type": "scatter",
         "x": [
          2
         ],
         "xaxis": "x",
         "y": [
          0.8239
         ],
         "yaxis": "y"
        },
        {
         "hovertemplate": "Nr=127<br>unique_verbs=%{x}<br>Score=%{y}<extra></extra>",
         "legendgroup": "127",
         "marker": {
          "color": "#B6E880",
          "symbol": "circle"
         },
         "mode": "markers",
         "name": "127",
         "orientation": "h",
         "showlegend": true,
         "type": "scatter",
         "x": [
          1
         ],
         "xaxis": "x",
         "y": [
          0.96855
         ],
         "yaxis": "y"
        },
        {
         "hovertemplate": "Nr=128<br>unique_verbs=%{x}<br>Score=%{y}<extra></extra>",
         "legendgroup": "128",
         "marker": {
          "color": "#FF97FF",
          "symbol": "circle"
         },
         "mode": "markers",
         "name": "128",
         "orientation": "h",
         "showlegend": true,
         "type": "scatter",
         "x": [
          0
         ],
         "xaxis": "x",
         "y": [
          0.85535
         ],
         "yaxis": "y"
        },
        {
         "hovertemplate": "Nr=129<br>unique_verbs=%{x}<br>Score=%{y}<extra></extra>",
         "legendgroup": "129",
         "marker": {
          "color": "#FECB52",
          "symbol": "circle"
         },
         "mode": "markers",
         "name": "129",
         "orientation": "h",
         "showlegend": true,
         "type": "scatter",
         "x": [
          1
         ],
         "xaxis": "x",
         "y": [
          0.45283
         ],
         "yaxis": "y"
        },
        {
         "hovertemplate": "Nr=130<br>unique_verbs=%{x}<br>Score=%{y}<extra></extra>",
         "legendgroup": "130",
         "marker": {
          "color": "#636efa",
          "symbol": "circle"
         },
         "mode": "markers",
         "name": "130",
         "orientation": "h",
         "showlegend": true,
         "type": "scatter",
         "x": [
          0
         ],
         "xaxis": "x",
         "y": [
          0.91824
         ],
         "yaxis": "y"
        },
        {
         "hovertemplate": "Nr=131<br>unique_verbs=%{x}<br>Score=%{y}<extra></extra>",
         "legendgroup": "131",
         "marker": {
          "color": "#EF553B",
          "symbol": "circle"
         },
         "mode": "markers",
         "name": "131",
         "orientation": "h",
         "showlegend": true,
         "type": "scatter",
         "x": [
          3
         ],
         "xaxis": "x",
         "y": [
          0.47799
         ],
         "yaxis": "y"
        },
        {
         "hovertemplate": "Nr=132<br>unique_verbs=%{x}<br>Score=%{y}<extra></extra>",
         "legendgroup": "132",
         "marker": {
          "color": "#00cc96",
          "symbol": "circle"
         },
         "mode": "markers",
         "name": "132",
         "orientation": "h",
         "showlegend": true,
         "type": "scatter",
         "x": [
          2
         ],
         "xaxis": "x",
         "y": [
          0.67296
         ],
         "yaxis": "y"
        },
        {
         "hovertemplate": "Nr=133<br>unique_verbs=%{x}<br>Score=%{y}<extra></extra>",
         "legendgroup": "133",
         "marker": {
          "color": "#ab63fa",
          "symbol": "circle"
         },
         "mode": "markers",
         "name": "133",
         "orientation": "h",
         "showlegend": true,
         "type": "scatter",
         "x": [
          0
         ],
         "xaxis": "x",
         "y": [
          0.6478
         ],
         "yaxis": "y"
        },
        {
         "hovertemplate": "Nr=134<br>unique_verbs=%{x}<br>Score=%{y}<extra></extra>",
         "legendgroup": "134",
         "marker": {
          "color": "#FFA15A",
          "symbol": "circle"
         },
         "mode": "markers",
         "name": "134",
         "orientation": "h",
         "showlegend": true,
         "type": "scatter",
         "x": [
          1
         ],
         "xaxis": "x",
         "y": [
          0.83019
         ],
         "yaxis": "y"
        },
        {
         "hovertemplate": "Nr=135<br>unique_verbs=%{x}<br>Score=%{y}<extra></extra>",
         "legendgroup": "135",
         "marker": {
          "color": "#19d3f3",
          "symbol": "circle"
         },
         "mode": "markers",
         "name": "135",
         "orientation": "h",
         "showlegend": true,
         "type": "scatter",
         "x": [
          1
         ],
         "xaxis": "x",
         "y": [
          0.98742
         ],
         "yaxis": "y"
        },
        {
         "hovertemplate": "Nr=136<br>unique_verbs=%{x}<br>Score=%{y}<extra></extra>",
         "legendgroup": "136",
         "marker": {
          "color": "#FF6692",
          "symbol": "circle"
         },
         "mode": "markers",
         "name": "136",
         "orientation": "h",
         "showlegend": true,
         "type": "scatter",
         "x": [
          1
         ],
         "xaxis": "x",
         "y": [
          0.44654
         ],
         "yaxis": "y"
        },
        {
         "hovertemplate": "Nr=137<br>unique_verbs=%{x}<br>Score=%{y}<extra></extra>",
         "legendgroup": "137",
         "marker": {
          "color": "#B6E880",
          "symbol": "circle"
         },
         "mode": "markers",
         "name": "137",
         "orientation": "h",
         "showlegend": true,
         "type": "scatter",
         "x": [
          2
         ],
         "xaxis": "x",
         "y": [
          0.35849
         ],
         "yaxis": "y"
        },
        {
         "hovertemplate": "Nr=138<br>unique_verbs=%{x}<br>Score=%{y}<extra></extra>",
         "legendgroup": "138",
         "marker": {
          "color": "#FF97FF",
          "symbol": "circle"
         },
         "mode": "markers",
         "name": "138",
         "orientation": "h",
         "showlegend": true,
         "type": "scatter",
         "x": [
          1
         ],
         "xaxis": "x",
         "y": [
          0.93082
         ],
         "yaxis": "y"
        },
        {
         "hovertemplate": "Nr=139<br>unique_verbs=%{x}<br>Score=%{y}<extra></extra>",
         "legendgroup": "139",
         "marker": {
          "color": "#FECB52",
          "symbol": "circle"
         },
         "mode": "markers",
         "name": "139",
         "orientation": "h",
         "showlegend": true,
         "type": "scatter",
         "x": [
          0
         ],
         "xaxis": "x",
         "y": [
          0.75472
         ],
         "yaxis": "y"
        },
        {
         "hovertemplate": "Nr=140<br>unique_verbs=%{x}<br>Score=%{y}<extra></extra>",
         "legendgroup": "140",
         "marker": {
          "color": "#636efa",
          "symbol": "circle"
         },
         "mode": "markers",
         "name": "140",
         "orientation": "h",
         "showlegend": true,
         "type": "scatter",
         "x": [
          2
         ],
         "xaxis": "x",
         "y": [
          0.94969
         ],
         "yaxis": "y"
        },
        {
         "hovertemplate": "Nr=141<br>unique_verbs=%{x}<br>Score=%{y}<extra></extra>",
         "legendgroup": "141",
         "marker": {
          "color": "#EF553B",
          "symbol": "circle"
         },
         "mode": "markers",
         "name": "141",
         "orientation": "h",
         "showlegend": true,
         "type": "scatter",
         "x": [
          1
         ],
         "xaxis": "x",
         "y": [
          0.89308
         ],
         "yaxis": "y"
        },
        {
         "hovertemplate": "Nr=142<br>unique_verbs=%{x}<br>Score=%{y}<extra></extra>",
         "legendgroup": "142",
         "marker": {
          "color": "#00cc96",
          "symbol": "circle"
         },
         "mode": "markers",
         "name": "142",
         "orientation": "h",
         "showlegend": true,
         "type": "scatter",
         "x": [
          2
         ],
         "xaxis": "x",
         "y": [
          0.10063
         ],
         "yaxis": "y"
        },
        {
         "hovertemplate": "Nr=143<br>unique_verbs=%{x}<br>Score=%{y}<extra></extra>",
         "legendgroup": "143",
         "marker": {
          "color": "#ab63fa",
          "symbol": "circle"
         },
         "mode": "markers",
         "name": "143",
         "orientation": "h",
         "showlegend": true,
         "type": "scatter",
         "x": [
          1
         ],
         "xaxis": "x",
         "y": [
          0.71069
         ],
         "yaxis": "y"
        },
        {
         "hovertemplate": "Nr=144<br>unique_verbs=%{x}<br>Score=%{y}<extra></extra>",
         "legendgroup": "144",
         "marker": {
          "color": "#FFA15A",
          "symbol": "circle"
         },
         "mode": "markers",
         "name": "144",
         "orientation": "h",
         "showlegend": true,
         "type": "scatter",
         "x": [
          1
         ],
         "xaxis": "x",
         "y": [
          0.81132
         ],
         "yaxis": "y"
        },
        {
         "hovertemplate": "Nr=145<br>unique_verbs=%{x}<br>Score=%{y}<extra></extra>",
         "legendgroup": "145",
         "marker": {
          "color": "#19d3f3",
          "symbol": "circle"
         },
         "mode": "markers",
         "name": "145",
         "orientation": "h",
         "showlegend": true,
         "type": "scatter",
         "x": [
          1
         ],
         "xaxis": "x",
         "y": [
          0.99371
         ],
         "yaxis": "y"
        },
        {
         "hovertemplate": "Nr=146<br>unique_verbs=%{x}<br>Score=%{y}<extra></extra>",
         "legendgroup": "146",
         "marker": {
          "color": "#FF6692",
          "symbol": "circle"
         },
         "mode": "markers",
         "name": "146",
         "orientation": "h",
         "showlegend": true,
         "type": "scatter",
         "x": [
          2
         ],
         "xaxis": "x",
         "y": [
          0.8805
         ],
         "yaxis": "y"
        },
        {
         "hovertemplate": "Nr=147<br>unique_verbs=%{x}<br>Score=%{y}<extra></extra>",
         "legendgroup": "147",
         "marker": {
          "color": "#B6E880",
          "symbol": "circle"
         },
         "mode": "markers",
         "name": "147",
         "orientation": "h",
         "showlegend": true,
         "type": "scatter",
         "x": [
          1
         ],
         "xaxis": "x",
         "y": [
          0.96226
         ],
         "yaxis": "y"
        },
        {
         "hovertemplate": "Nr=148<br>unique_verbs=%{x}<br>Score=%{y}<extra></extra>",
         "legendgroup": "148",
         "marker": {
          "color": "#FF97FF",
          "symbol": "circle"
         },
         "mode": "markers",
         "name": "148",
         "orientation": "h",
         "showlegend": true,
         "type": "scatter",
         "x": [
          0
         ],
         "xaxis": "x",
         "y": [
          0.79245
         ],
         "yaxis": "y"
        },
        {
         "hovertemplate": "Nr=149<br>unique_verbs=%{x}<br>Score=%{y}<extra></extra>",
         "legendgroup": "149",
         "marker": {
          "color": "#FECB52",
          "symbol": "circle"
         },
         "mode": "markers",
         "name": "149",
         "orientation": "h",
         "showlegend": true,
         "type": "scatter",
         "x": [
          1
         ],
         "xaxis": "x",
         "y": [
          0.89937
         ],
         "yaxis": "y"
        },
        {
         "hovertemplate": "Nr=150<br>unique_verbs=%{x}<br>Score=%{y}<extra></extra>",
         "legendgroup": "150",
         "marker": {
          "color": "#636efa",
          "symbol": "circle"
         },
         "mode": "markers",
         "name": "150",
         "orientation": "h",
         "showlegend": true,
         "type": "scatter",
         "x": [
          1
         ],
         "xaxis": "x",
         "y": [
          0.86792
         ],
         "yaxis": "y"
        },
        {
         "hovertemplate": "Nr=151<br>unique_verbs=%{x}<br>Score=%{y}<extra></extra>",
         "legendgroup": "151",
         "marker": {
          "color": "#EF553B",
          "symbol": "circle"
         },
         "mode": "markers",
         "name": "151",
         "orientation": "h",
         "showlegend": true,
         "type": "scatter",
         "x": [
          1
         ],
         "xaxis": "x",
         "y": [
          0.64151
         ],
         "yaxis": "y"
        },
        {
         "hovertemplate": "Nr=152<br>unique_verbs=%{x}<br>Score=%{y}<extra></extra>",
         "legendgroup": "152",
         "marker": {
          "color": "#00cc96",
          "symbol": "circle"
         },
         "mode": "markers",
         "name": "152",
         "orientation": "h",
         "showlegend": true,
         "type": "scatter",
         "x": [
          0
         ],
         "xaxis": "x",
         "y": [
          0.92453
         ],
         "yaxis": "y"
        },
        {
         "hovertemplate": "Nr=153<br>unique_verbs=%{x}<br>Score=%{y}<extra></extra>",
         "legendgroup": "153",
         "marker": {
          "color": "#ab63fa",
          "symbol": "circle"
         },
         "mode": "markers",
         "name": "153",
         "orientation": "h",
         "showlegend": true,
         "type": "scatter",
         "x": [
          1
         ],
         "xaxis": "x",
         "y": [
          1
         ],
         "yaxis": "y"
        },
        {
         "hovertemplate": "Nr=154<br>unique_verbs=%{x}<br>Score=%{y}<extra></extra>",
         "legendgroup": "154",
         "marker": {
          "color": "#FFA15A",
          "symbol": "circle"
         },
         "mode": "markers",
         "name": "154",
         "orientation": "h",
         "showlegend": true,
         "type": "scatter",
         "x": [
          2
         ],
         "xaxis": "x",
         "y": [
          0.83648
         ],
         "yaxis": "y"
        },
        {
         "hovertemplate": "Nr=155<br>unique_verbs=%{x}<br>Score=%{y}<extra></extra>",
         "legendgroup": "155",
         "marker": {
          "color": "#19d3f3",
          "symbol": "circle"
         },
         "mode": "markers",
         "name": "155",
         "orientation": "h",
         "showlegend": true,
         "type": "scatter",
         "x": [
          0
         ],
         "xaxis": "x",
         "y": [
          0.68553
         ],
         "yaxis": "y"
        },
        {
         "hovertemplate": "Nr=156<br>unique_verbs=%{x}<br>Score=%{y}<extra></extra>",
         "legendgroup": "156",
         "marker": {
          "color": "#FF6692",
          "symbol": "circle"
         },
         "mode": "markers",
         "name": "156",
         "orientation": "h",
         "showlegend": true,
         "type": "scatter",
         "x": [
          1
         ],
         "xaxis": "x",
         "y": [
          0.77987
         ],
         "yaxis": "y"
        },
        {
         "hovertemplate": "Nr=157<br>unique_verbs=%{x}<br>Score=%{y}<extra></extra>",
         "legendgroup": "157",
         "marker": {
          "color": "#B6E880",
          "symbol": "circle"
         },
         "mode": "markers",
         "name": "157",
         "orientation": "h",
         "showlegend": true,
         "type": "scatter",
         "x": [
          2
         ],
         "xaxis": "x",
         "y": [
          0.95597
         ],
         "yaxis": "y"
        },
        {
         "hovertemplate": "Nr=158<br>unique_verbs=%{x}<br>Score=%{y}<extra></extra>",
         "legendgroup": "158",
         "marker": {
          "color": "#FF97FF",
          "symbol": "circle"
         },
         "mode": "markers",
         "name": "158",
         "orientation": "h",
         "showlegend": true,
         "type": "scatter",
         "x": [
          1
         ],
         "xaxis": "x",
         "y": [
          0.98113
         ],
         "yaxis": "y"
        },
        {
         "hovertemplate": "Nr=159<br>unique_verbs=%{x}<br>Score=%{y}<extra></extra>",
         "legendgroup": "159",
         "marker": {
          "color": "#FECB52",
          "symbol": "circle"
         },
         "mode": "markers",
         "name": "159",
         "orientation": "h",
         "showlegend": true,
         "type": "scatter",
         "x": [
          2
         ],
         "xaxis": "x",
         "y": [
          0.91195
         ],
         "yaxis": "y"
        },
        {
         "hovertemplate": "<b>OLS trendline</b><br>Score = -0.0816528 * unique_verbs + 0.677085<br>R<sup>2</sup>=0.151330<br><br>unique_verbs=%{x}<br>Score=%{y} <b>(trend)</b><extra></extra>",
         "legendgroup": "Overall Trendline",
         "line": {
          "color": "#636efa"
         },
         "mode": "lines",
         "name": "Overall Trendline",
         "showlegend": true,
         "type": "scatter",
         "x": [
          0,
          0,
          0,
          0,
          0,
          0,
          0,
          0,
          0,
          0,
          0,
          0,
          0,
          1,
          1,
          1,
          1,
          1,
          1,
          1,
          1,
          1,
          1,
          1,
          1,
          1,
          1,
          1,
          1,
          1,
          1,
          1,
          1,
          1,
          1,
          1,
          1,
          1,
          1,
          1,
          1,
          1,
          1,
          1,
          1,
          1,
          1,
          1,
          1,
          1,
          1,
          1,
          1,
          1,
          1,
          1,
          1,
          2,
          2,
          2,
          2,
          2,
          2,
          2,
          2,
          2,
          2,
          2,
          2,
          2,
          2,
          2,
          2,
          2,
          2,
          2,
          2,
          2,
          2,
          2,
          2,
          2,
          2,
          2,
          2,
          2,
          2,
          2,
          2,
          2,
          2,
          2,
          2,
          2,
          2,
          2,
          2,
          2,
          2,
          2,
          2,
          2,
          2,
          3,
          3,
          3,
          3,
          3,
          3,
          3,
          3,
          3,
          3,
          3,
          3,
          3,
          3,
          3,
          3,
          3,
          3,
          3,
          3,
          3,
          3,
          3,
          3,
          3,
          3,
          3,
          3,
          3,
          3,
          3,
          4,
          4,
          4,
          4,
          4,
          4,
          4,
          4,
          4,
          4,
          4,
          4,
          4,
          4,
          4,
          4,
          4,
          5,
          5,
          5,
          5,
          6,
          6,
          6,
          6,
          6
         ],
         "xaxis": "x",
         "y": [
          0.6770845083722543,
          0.6770845083722543,
          0.6770845083722543,
          0.6770845083722543,
          0.6770845083722543,
          0.6770845083722543,
          0.6770845083722543,
          0.6770845083722543,
          0.6770845083722543,
          0.6770845083722543,
          0.6770845083722543,
          0.6770845083722543,
          0.6770845083722543,
          0.5954317091227996,
          0.5954317091227996,
          0.5954317091227996,
          0.5954317091227996,
          0.5954317091227996,
          0.5954317091227996,
          0.5954317091227996,
          0.5954317091227996,
          0.5954317091227996,
          0.5954317091227996,
          0.5954317091227996,
          0.5954317091227996,
          0.5954317091227996,
          0.5954317091227996,
          0.5954317091227996,
          0.5954317091227996,
          0.5954317091227996,
          0.5954317091227996,
          0.5954317091227996,
          0.5954317091227996,
          0.5954317091227996,
          0.5954317091227996,
          0.5954317091227996,
          0.5954317091227996,
          0.5954317091227996,
          0.5954317091227996,
          0.5954317091227996,
          0.5954317091227996,
          0.5954317091227996,
          0.5954317091227996,
          0.5954317091227996,
          0.5954317091227996,
          0.5954317091227996,
          0.5954317091227996,
          0.5954317091227996,
          0.5954317091227996,
          0.5954317091227996,
          0.5954317091227996,
          0.5954317091227996,
          0.5954317091227996,
          0.5954317091227996,
          0.5954317091227996,
          0.5954317091227996,
          0.5954317091227996,
          0.5137789098733451,
          0.5137789098733451,
          0.5137789098733451,
          0.5137789098733451,
          0.5137789098733451,
          0.5137789098733451,
          0.5137789098733451,
          0.5137789098733451,
          0.5137789098733451,
          0.5137789098733451,
          0.5137789098733451,
          0.5137789098733451,
          0.5137789098733451,
          0.5137789098733451,
          0.5137789098733451,
          0.5137789098733451,
          0.5137789098733451,
          0.5137789098733451,
          0.5137789098733451,
          0.5137789098733451,
          0.5137789098733451,
          0.5137789098733451,
          0.5137789098733451,
          0.5137789098733451,
          0.5137789098733451,
          0.5137789098733451,
          0.5137789098733451,
          0.5137789098733451,
          0.5137789098733451,
          0.5137789098733451,
          0.5137789098733451,
          0.5137789098733451,
          0.5137789098733451,
          0.5137789098733451,
          0.5137789098733451,
          0.5137789098733451,
          0.5137789098733451,
          0.5137789098733451,
          0.5137789098733451,
          0.5137789098733451,
          0.5137789098733451,
          0.5137789098733451,
          0.5137789098733451,
          0.5137789098733451,
          0.5137789098733451,
          0.5137789098733451,
          0.4321261106238904,
          0.4321261106238904,
          0.4321261106238904,
          0.4321261106238904,
          0.4321261106238904,
          0.4321261106238904,
          0.4321261106238904,
          0.4321261106238904,
          0.4321261106238904,
          0.4321261106238904,
          0.4321261106238904,
          0.4321261106238904,
          0.4321261106238904,
          0.4321261106238904,
          0.4321261106238904,
          0.4321261106238904,
          0.4321261106238904,
          0.4321261106238904,
          0.4321261106238904,
          0.4321261106238904,
          0.4321261106238904,
          0.4321261106238904,
          0.4321261106238904,
          0.4321261106238904,
          0.4321261106238904,
          0.4321261106238904,
          0.4321261106238904,
          0.4321261106238904,
          0.4321261106238904,
          0.4321261106238904,
          0.4321261106238904,
          0.35047331137443577,
          0.35047331137443577,
          0.35047331137443577,
          0.35047331137443577,
          0.35047331137443577,
          0.35047331137443577,
          0.35047331137443577,
          0.35047331137443577,
          0.35047331137443577,
          0.35047331137443577,
          0.35047331137443577,
          0.35047331137443577,
          0.35047331137443577,
          0.35047331137443577,
          0.35047331137443577,
          0.35047331137443577,
          0.35047331137443577,
          0.26882051212498115,
          0.26882051212498115,
          0.26882051212498115,
          0.26882051212498115,
          0.18716771287552647,
          0.18716771287552647,
          0.18716771287552647,
          0.18716771287552647,
          0.18716771287552647
         ],
         "yaxis": "y"
        }
       ],
       "layout": {
        "height": 400,
        "legend": {
         "title": {
          "text": "Nr"
         },
         "tracegroupgap": 0
        },
        "showlegend": false,
        "template": {
         "data": {
          "bar": [
           {
            "error_x": {
             "color": "#2a3f5f"
            },
            "error_y": {
             "color": "#2a3f5f"
            },
            "marker": {
             "line": {
              "color": "#E5ECF6",
              "width": 0.5
             },
             "pattern": {
              "fillmode": "overlay",
              "size": 10,
              "solidity": 0.2
             }
            },
            "type": "bar"
           }
          ],
          "barpolar": [
           {
            "marker": {
             "line": {
              "color": "#E5ECF6",
              "width": 0.5
             },
             "pattern": {
              "fillmode": "overlay",
              "size": 10,
              "solidity": 0.2
             }
            },
            "type": "barpolar"
           }
          ],
          "carpet": [
           {
            "aaxis": {
             "endlinecolor": "#2a3f5f",
             "gridcolor": "white",
             "linecolor": "white",
             "minorgridcolor": "white",
             "startlinecolor": "#2a3f5f"
            },
            "baxis": {
             "endlinecolor": "#2a3f5f",
             "gridcolor": "white",
             "linecolor": "white",
             "minorgridcolor": "white",
             "startlinecolor": "#2a3f5f"
            },
            "type": "carpet"
           }
          ],
          "choropleth": [
           {
            "colorbar": {
             "outlinewidth": 0,
             "ticks": ""
            },
            "type": "choropleth"
           }
          ],
          "contour": [
           {
            "colorbar": {
             "outlinewidth": 0,
             "ticks": ""
            },
            "colorscale": [
             [
              0,
              "#0d0887"
             ],
             [
              0.1111111111111111,
              "#46039f"
             ],
             [
              0.2222222222222222,
              "#7201a8"
             ],
             [
              0.3333333333333333,
              "#9c179e"
             ],
             [
              0.4444444444444444,
              "#bd3786"
             ],
             [
              0.5555555555555556,
              "#d8576b"
             ],
             [
              0.6666666666666666,
              "#ed7953"
             ],
             [
              0.7777777777777778,
              "#fb9f3a"
             ],
             [
              0.8888888888888888,
              "#fdca26"
             ],
             [
              1,
              "#f0f921"
             ]
            ],
            "type": "contour"
           }
          ],
          "contourcarpet": [
           {
            "colorbar": {
             "outlinewidth": 0,
             "ticks": ""
            },
            "type": "contourcarpet"
           }
          ],
          "heatmap": [
           {
            "colorbar": {
             "outlinewidth": 0,
             "ticks": ""
            },
            "colorscale": [
             [
              0,
              "#0d0887"
             ],
             [
              0.1111111111111111,
              "#46039f"
             ],
             [
              0.2222222222222222,
              "#7201a8"
             ],
             [
              0.3333333333333333,
              "#9c179e"
             ],
             [
              0.4444444444444444,
              "#bd3786"
             ],
             [
              0.5555555555555556,
              "#d8576b"
             ],
             [
              0.6666666666666666,
              "#ed7953"
             ],
             [
              0.7777777777777778,
              "#fb9f3a"
             ],
             [
              0.8888888888888888,
              "#fdca26"
             ],
             [
              1,
              "#f0f921"
             ]
            ],
            "type": "heatmap"
           }
          ],
          "heatmapgl": [
           {
            "colorbar": {
             "outlinewidth": 0,
             "ticks": ""
            },
            "colorscale": [
             [
              0,
              "#0d0887"
             ],
             [
              0.1111111111111111,
              "#46039f"
             ],
             [
              0.2222222222222222,
              "#7201a8"
             ],
             [
              0.3333333333333333,
              "#9c179e"
             ],
             [
              0.4444444444444444,
              "#bd3786"
             ],
             [
              0.5555555555555556,
              "#d8576b"
             ],
             [
              0.6666666666666666,
              "#ed7953"
             ],
             [
              0.7777777777777778,
              "#fb9f3a"
             ],
             [
              0.8888888888888888,
              "#fdca26"
             ],
             [
              1,
              "#f0f921"
             ]
            ],
            "type": "heatmapgl"
           }
          ],
          "histogram": [
           {
            "marker": {
             "pattern": {
              "fillmode": "overlay",
              "size": 10,
              "solidity": 0.2
             }
            },
            "type": "histogram"
           }
          ],
          "histogram2d": [
           {
            "colorbar": {
             "outlinewidth": 0,
             "ticks": ""
            },
            "colorscale": [
             [
              0,
              "#0d0887"
             ],
             [
              0.1111111111111111,
              "#46039f"
             ],
             [
              0.2222222222222222,
              "#7201a8"
             ],
             [
              0.3333333333333333,
              "#9c179e"
             ],
             [
              0.4444444444444444,
              "#bd3786"
             ],
             [
              0.5555555555555556,
              "#d8576b"
             ],
             [
              0.6666666666666666,
              "#ed7953"
             ],
             [
              0.7777777777777778,
              "#fb9f3a"
             ],
             [
              0.8888888888888888,
              "#fdca26"
             ],
             [
              1,
              "#f0f921"
             ]
            ],
            "type": "histogram2d"
           }
          ],
          "histogram2dcontour": [
           {
            "colorbar": {
             "outlinewidth": 0,
             "ticks": ""
            },
            "colorscale": [
             [
              0,
              "#0d0887"
             ],
             [
              0.1111111111111111,
              "#46039f"
             ],
             [
              0.2222222222222222,
              "#7201a8"
             ],
             [
              0.3333333333333333,
              "#9c179e"
             ],
             [
              0.4444444444444444,
              "#bd3786"
             ],
             [
              0.5555555555555556,
              "#d8576b"
             ],
             [
              0.6666666666666666,
              "#ed7953"
             ],
             [
              0.7777777777777778,
              "#fb9f3a"
             ],
             [
              0.8888888888888888,
              "#fdca26"
             ],
             [
              1,
              "#f0f921"
             ]
            ],
            "type": "histogram2dcontour"
           }
          ],
          "mesh3d": [
           {
            "colorbar": {
             "outlinewidth": 0,
             "ticks": ""
            },
            "type": "mesh3d"
           }
          ],
          "parcoords": [
           {
            "line": {
             "colorbar": {
              "outlinewidth": 0,
              "ticks": ""
             }
            },
            "type": "parcoords"
           }
          ],
          "pie": [
           {
            "automargin": true,
            "type": "pie"
           }
          ],
          "scatter": [
           {
            "fillpattern": {
             "fillmode": "overlay",
             "size": 10,
             "solidity": 0.2
            },
            "type": "scatter"
           }
          ],
          "scatter3d": [
           {
            "line": {
             "colorbar": {
              "outlinewidth": 0,
              "ticks": ""
             }
            },
            "marker": {
             "colorbar": {
              "outlinewidth": 0,
              "ticks": ""
             }
            },
            "type": "scatter3d"
           }
          ],
          "scattercarpet": [
           {
            "marker": {
             "colorbar": {
              "outlinewidth": 0,
              "ticks": ""
             }
            },
            "type": "scattercarpet"
           }
          ],
          "scattergeo": [
           {
            "marker": {
             "colorbar": {
              "outlinewidth": 0,
              "ticks": ""
             }
            },
            "type": "scattergeo"
           }
          ],
          "scattergl": [
           {
            "marker": {
             "colorbar": {
              "outlinewidth": 0,
              "ticks": ""
             }
            },
            "type": "scattergl"
           }
          ],
          "scattermapbox": [
           {
            "marker": {
             "colorbar": {
              "outlinewidth": 0,
              "ticks": ""
             }
            },
            "type": "scattermapbox"
           }
          ],
          "scatterpolar": [
           {
            "marker": {
             "colorbar": {
              "outlinewidth": 0,
              "ticks": ""
             }
            },
            "type": "scatterpolar"
           }
          ],
          "scatterpolargl": [
           {
            "marker": {
             "colorbar": {
              "outlinewidth": 0,
              "ticks": ""
             }
            },
            "type": "scatterpolargl"
           }
          ],
          "scatterternary": [
           {
            "marker": {
             "colorbar": {
              "outlinewidth": 0,
              "ticks": ""
             }
            },
            "type": "scatterternary"
           }
          ],
          "surface": [
           {
            "colorbar": {
             "outlinewidth": 0,
             "ticks": ""
            },
            "colorscale": [
             [
              0,
              "#0d0887"
             ],
             [
              0.1111111111111111,
              "#46039f"
             ],
             [
              0.2222222222222222,
              "#7201a8"
             ],
             [
              0.3333333333333333,
              "#9c179e"
             ],
             [
              0.4444444444444444,
              "#bd3786"
             ],
             [
              0.5555555555555556,
              "#d8576b"
             ],
             [
              0.6666666666666666,
              "#ed7953"
             ],
             [
              0.7777777777777778,
              "#fb9f3a"
             ],
             [
              0.8888888888888888,
              "#fdca26"
             ],
             [
              1,
              "#f0f921"
             ]
            ],
            "type": "surface"
           }
          ],
          "table": [
           {
            "cells": {
             "fill": {
              "color": "#EBF0F8"
             },
             "line": {
              "color": "white"
             }
            },
            "header": {
             "fill": {
              "color": "#C8D4E3"
             },
             "line": {
              "color": "white"
             }
            },
            "type": "table"
           }
          ]
         },
         "layout": {
          "annotationdefaults": {
           "arrowcolor": "#2a3f5f",
           "arrowhead": 0,
           "arrowwidth": 1
          },
          "autotypenumbers": "strict",
          "coloraxis": {
           "colorbar": {
            "outlinewidth": 0,
            "ticks": ""
           }
          },
          "colorscale": {
           "diverging": [
            [
             0,
             "#8e0152"
            ],
            [
             0.1,
             "#c51b7d"
            ],
            [
             0.2,
             "#de77ae"
            ],
            [
             0.3,
             "#f1b6da"
            ],
            [
             0.4,
             "#fde0ef"
            ],
            [
             0.5,
             "#f7f7f7"
            ],
            [
             0.6,
             "#e6f5d0"
            ],
            [
             0.7,
             "#b8e186"
            ],
            [
             0.8,
             "#7fbc41"
            ],
            [
             0.9,
             "#4d9221"
            ],
            [
             1,
             "#276419"
            ]
           ],
           "sequential": [
            [
             0,
             "#0d0887"
            ],
            [
             0.1111111111111111,
             "#46039f"
            ],
            [
             0.2222222222222222,
             "#7201a8"
            ],
            [
             0.3333333333333333,
             "#9c179e"
            ],
            [
             0.4444444444444444,
             "#bd3786"
            ],
            [
             0.5555555555555556,
             "#d8576b"
            ],
            [
             0.6666666666666666,
             "#ed7953"
            ],
            [
             0.7777777777777778,
             "#fb9f3a"
            ],
            [
             0.8888888888888888,
             "#fdca26"
            ],
            [
             1,
             "#f0f921"
            ]
           ],
           "sequentialminus": [
            [
             0,
             "#0d0887"
            ],
            [
             0.1111111111111111,
             "#46039f"
            ],
            [
             0.2222222222222222,
             "#7201a8"
            ],
            [
             0.3333333333333333,
             "#9c179e"
            ],
            [
             0.4444444444444444,
             "#bd3786"
            ],
            [
             0.5555555555555556,
             "#d8576b"
            ],
            [
             0.6666666666666666,
             "#ed7953"
            ],
            [
             0.7777777777777778,
             "#fb9f3a"
            ],
            [
             0.8888888888888888,
             "#fdca26"
            ],
            [
             1,
             "#f0f921"
            ]
           ]
          },
          "colorway": [
           "#636efa",
           "#EF553B",
           "#00cc96",
           "#ab63fa",
           "#FFA15A",
           "#19d3f3",
           "#FF6692",
           "#B6E880",
           "#FF97FF",
           "#FECB52"
          ],
          "font": {
           "color": "#2a3f5f"
          },
          "geo": {
           "bgcolor": "white",
           "lakecolor": "white",
           "landcolor": "#E5ECF6",
           "showlakes": true,
           "showland": true,
           "subunitcolor": "white"
          },
          "hoverlabel": {
           "align": "left"
          },
          "hovermode": "closest",
          "mapbox": {
           "style": "light"
          },
          "paper_bgcolor": "white",
          "plot_bgcolor": "#E5ECF6",
          "polar": {
           "angularaxis": {
            "gridcolor": "white",
            "linecolor": "white",
            "ticks": ""
           },
           "bgcolor": "#E5ECF6",
           "radialaxis": {
            "gridcolor": "white",
            "linecolor": "white",
            "ticks": ""
           }
          },
          "scene": {
           "xaxis": {
            "backgroundcolor": "#E5ECF6",
            "gridcolor": "white",
            "gridwidth": 2,
            "linecolor": "white",
            "showbackground": true,
            "ticks": "",
            "zerolinecolor": "white"
           },
           "yaxis": {
            "backgroundcolor": "#E5ECF6",
            "gridcolor": "white",
            "gridwidth": 2,
            "linecolor": "white",
            "showbackground": true,
            "ticks": "",
            "zerolinecolor": "white"
           },
           "zaxis": {
            "backgroundcolor": "#E5ECF6",
            "gridcolor": "white",
            "gridwidth": 2,
            "linecolor": "white",
            "showbackground": true,
            "ticks": "",
            "zerolinecolor": "white"
           }
          },
          "shapedefaults": {
           "line": {
            "color": "#2a3f5f"
           }
          },
          "ternary": {
           "aaxis": {
            "gridcolor": "white",
            "linecolor": "white",
            "ticks": ""
           },
           "baxis": {
            "gridcolor": "white",
            "linecolor": "white",
            "ticks": ""
           },
           "bgcolor": "#E5ECF6",
           "caxis": {
            "gridcolor": "white",
            "linecolor": "white",
            "ticks": ""
           }
          },
          "title": {
           "x": 0.05
          },
          "xaxis": {
           "automargin": true,
           "gridcolor": "white",
           "linecolor": "white",
           "ticks": "",
           "title": {
            "standoff": 15
           },
           "zerolinecolor": "white",
           "zerolinewidth": 2
          },
          "yaxis": {
           "automargin": true,
           "gridcolor": "white",
           "linecolor": "white",
           "ticks": "",
           "title": {
            "standoff": 15
           },
           "zerolinecolor": "white",
           "zerolinewidth": 2
          }
         }
        },
        "title": {
         "text": "Correlation between amount of verbs and Score"
        },
        "width": 800,
        "xaxis": {
         "anchor": "y",
         "domain": [
          0,
          1
         ],
         "title": {
          "text": "unique_verbs"
         }
        },
        "yaxis": {
         "anchor": "x",
         "domain": [
          0,
          1
         ],
         "title": {
          "text": "Score"
         }
        }
       }
      }
     },
     "metadata": {},
     "output_type": "display_data"
    }
   ],
   "source": [
    "verbCorrelation(df)"
   ]
  },
  {
   "cell_type": "code",
   "execution_count": 22,
   "metadata": {},
   "outputs": [
    {
     "name": "stdout",
     "output_type": "stream",
     "text": [
      "The Pearson correlation coefficient between Score and Nomen is: -0.632, p: 0.000.\n"
     ]
    },
    {
     "data": {
      "application/vnd.plotly.v1+json": {
       "config": {
        "plotlyServerURL": "https://plot.ly"
       },
       "data": [
        {
         "hovertemplate": "Nr=0<br>t_bry=%{x}<br>Score=%{y}<extra></extra>",
         "legendgroup": "0",
         "marker": {
          "color": "#636efa",
          "symbol": "circle"
         },
         "mode": "markers",
         "name": "0",
         "orientation": "h",
         "showlegend": true,
         "type": "scatter",
         "x": [
          82.8
         ],
         "xaxis": "x",
         "y": [
          0.31447
         ],
         "yaxis": "y"
        },
        {
         "hovertemplate": "Nr=1<br>t_bry=%{x}<br>Score=%{y}<extra></extra>",
         "legendgroup": "1",
         "marker": {
          "color": "#EF553B",
          "symbol": "circle"
         },
         "mode": "markers",
         "name": "1",
         "orientation": "h",
         "showlegend": true,
         "type": "scatter",
         "x": [
          103.967
         ],
         "xaxis": "x",
         "y": [
          0.30818
         ],
         "yaxis": "y"
        },
        {
         "hovertemplate": "Nr=2<br>t_bry=%{x}<br>Score=%{y}<extra></extra>",
         "legendgroup": "2",
         "marker": {
          "color": "#00cc96",
          "symbol": "circle"
         },
         "mode": "markers",
         "name": "2",
         "orientation": "h",
         "showlegend": true,
         "type": "scatter",
         "x": [
          27.7
         ],
         "xaxis": "x",
         "y": [
          0.84906
         ],
         "yaxis": "y"
        },
        {
         "hovertemplate": "Nr=3<br>t_bry=%{x}<br>Score=%{y}<extra></extra>",
         "legendgroup": "3",
         "marker": {
          "color": "#ab63fa",
          "symbol": "circle"
         },
         "mode": "markers",
         "name": "3",
         "orientation": "h",
         "showlegend": true,
         "type": "scatter",
         "x": [
          48.967
         ],
         "xaxis": "x",
         "y": [
          0.97484
         ],
         "yaxis": "y"
        },
        {
         "hovertemplate": "Nr=4<br>t_bry=%{x}<br>Score=%{y}<extra></extra>",
         "legendgroup": "4",
         "marker": {
          "color": "#FFA15A",
          "symbol": "circle"
         },
         "mode": "markers",
         "name": "4",
         "orientation": "h",
         "showlegend": true,
         "type": "scatter",
         "x": [
          76.41
         ],
         "xaxis": "x",
         "y": [
          0.2956
         ],
         "yaxis": "y"
        },
        {
         "hovertemplate": "Nr=5<br>t_bry=%{x}<br>Score=%{y}<extra></extra>",
         "legendgroup": "5",
         "marker": {
          "color": "#19d3f3",
          "symbol": "circle"
         },
         "mode": "markers",
         "name": "5",
         "orientation": "h",
         "showlegend": true,
         "type": "scatter",
         "x": [
          44.182
         ],
         "xaxis": "x",
         "y": [
          0.57233
         ],
         "yaxis": "y"
        },
        {
         "hovertemplate": "Nr=6<br>t_bry=%{x}<br>Score=%{y}<extra></extra>",
         "legendgroup": "6",
         "marker": {
          "color": "#FF6692",
          "symbol": "circle"
         },
         "mode": "markers",
         "name": "6",
         "orientation": "h",
         "showlegend": true,
         "type": "scatter",
         "x": [
          54.619
         ],
         "xaxis": "x",
         "y": [
          0.22013
         ],
         "yaxis": "y"
        },
        {
         "hovertemplate": "Nr=7<br>t_bry=%{x}<br>Score=%{y}<extra></extra>",
         "legendgroup": "7",
         "marker": {
          "color": "#B6E880",
          "symbol": "circle"
         },
         "mode": "markers",
         "name": "7",
         "orientation": "h",
         "showlegend": true,
         "type": "scatter",
         "x": [
          89.667
         ],
         "xaxis": "x",
         "y": [
          0.32075
         ],
         "yaxis": "y"
        },
        {
         "hovertemplate": "Nr=8<br>t_bry=%{x}<br>Score=%{y}<extra></extra>",
         "legendgroup": "8",
         "marker": {
          "color": "#FF97FF",
          "symbol": "circle"
         },
         "mode": "markers",
         "name": "8",
         "orientation": "h",
         "showlegend": true,
         "type": "scatter",
         "x": [
          72.948
         ],
         "xaxis": "x",
         "y": [
          0.1195
         ],
         "yaxis": "y"
        },
        {
         "hovertemplate": "Nr=9<br>t_bry=%{x}<br>Score=%{y}<extra></extra>",
         "legendgroup": "9",
         "marker": {
          "color": "#FECB52",
          "symbol": "circle"
         },
         "mode": "markers",
         "name": "9",
         "orientation": "h",
         "showlegend": true,
         "type": "scatter",
         "x": [
          95.452
         ],
         "xaxis": "x",
         "y": [
          0.66038
         ],
         "yaxis": "y"
        },
        {
         "hovertemplate": "Nr=10<br>t_bry=%{x}<br>Score=%{y}<extra></extra>",
         "legendgroup": "10",
         "marker": {
          "color": "#636efa",
          "symbol": "circle"
         },
         "mode": "markers",
         "name": "10",
         "orientation": "h",
         "showlegend": true,
         "type": "scatter",
         "x": [
          91.167
         ],
         "xaxis": "x",
         "y": [
          0.4717
         ],
         "yaxis": "y"
        },
        {
         "hovertemplate": "Nr=11<br>t_bry=%{x}<br>Score=%{y}<extra></extra>",
         "legendgroup": "11",
         "marker": {
          "color": "#EF553B",
          "symbol": "circle"
         },
         "mode": "markers",
         "name": "11",
         "orientation": "h",
         "showlegend": true,
         "type": "scatter",
         "x": [
          84.083
         ],
         "xaxis": "x",
         "y": [
          0.28302
         ],
         "yaxis": "y"
        },
        {
         "hovertemplate": "Nr=12<br>t_bry=%{x}<br>Score=%{y}<extra></extra>",
         "legendgroup": "12",
         "marker": {
          "color": "#00cc96",
          "symbol": "circle"
         },
         "mode": "markers",
         "name": "12",
         "orientation": "h",
         "showlegend": true,
         "type": "scatter",
         "x": [
          115.25
         ],
         "xaxis": "x",
         "y": [
          0.67925
         ],
         "yaxis": "y"
        },
        {
         "hovertemplate": "Nr=13<br>t_bry=%{x}<br>Score=%{y}<extra></extra>",
         "legendgroup": "13",
         "marker": {
          "color": "#ab63fa",
          "symbol": "circle"
         },
         "mode": "markers",
         "name": "13",
         "orientation": "h",
         "showlegend": true,
         "type": "scatter",
         "x": [
          44.167
         ],
         "xaxis": "x",
         "y": [
          0.9434
         ],
         "yaxis": "y"
        },
        {
         "hovertemplate": "Nr=14<br>t_bry=%{x}<br>Score=%{y}<extra></extra>",
         "legendgroup": "14",
         "marker": {
          "color": "#FFA15A",
          "symbol": "circle"
         },
         "mode": "markers",
         "name": "14",
         "orientation": "h",
         "showlegend": true,
         "type": "scatter",
         "x": [
          38.333
         ],
         "xaxis": "x",
         "y": [
          0.76101
         ],
         "yaxis": "y"
        },
        {
         "hovertemplate": "Nr=15<br>t_bry=%{x}<br>Score=%{y}<extra></extra>",
         "legendgroup": "15",
         "marker": {
          "color": "#19d3f3",
          "symbol": "circle"
         },
         "mode": "markers",
         "name": "15",
         "orientation": "h",
         "showlegend": true,
         "type": "scatter",
         "x": [
          144.833
         ],
         "xaxis": "x",
         "y": [
          0.01258
         ],
         "yaxis": "y"
        },
        {
         "hovertemplate": "Nr=16<br>t_bry=%{x}<br>Score=%{y}<extra></extra>",
         "legendgroup": "16",
         "marker": {
          "color": "#FF6692",
          "symbol": "circle"
         },
         "mode": "markers",
         "name": "16",
         "orientation": "h",
         "showlegend": true,
         "type": "scatter",
         "x": [
          99.4
         ],
         "xaxis": "x",
         "y": [
          0.09434
         ],
         "yaxis": "y"
        },
        {
         "hovertemplate": "Nr=17<br>t_bry=%{x}<br>Score=%{y}<extra></extra>",
         "legendgroup": "17",
         "marker": {
          "color": "#B6E880",
          "symbol": "circle"
         },
         "mode": "markers",
         "name": "17",
         "orientation": "h",
         "showlegend": true,
         "type": "scatter",
         "x": [
          46.667
         ],
         "xaxis": "x",
         "y": [
          0.78616
         ],
         "yaxis": "y"
        },
        {
         "hovertemplate": "Nr=18<br>t_bry=%{x}<br>Score=%{y}<extra></extra>",
         "legendgroup": "18",
         "marker": {
          "color": "#FF97FF",
          "symbol": "circle"
         },
         "mode": "markers",
         "name": "18",
         "orientation": "h",
         "showlegend": true,
         "type": "scatter",
         "x": [
          88.443
         ],
         "xaxis": "x",
         "y": [
          0.62264
         ],
         "yaxis": "y"
        },
        {
         "hovertemplate": "Nr=19<br>t_bry=%{x}<br>Score=%{y}<extra></extra>",
         "legendgroup": "19",
         "marker": {
          "color": "#FECB52",
          "symbol": "circle"
         },
         "mode": "markers",
         "name": "19",
         "orientation": "h",
         "showlegend": true,
         "type": "scatter",
         "x": [
          65.417
         ],
         "xaxis": "x",
         "y": [
          0.72956
         ],
         "yaxis": "y"
        },
        {
         "hovertemplate": "Nr=20<br>t_bry=%{x}<br>Score=%{y}<extra></extra>",
         "legendgroup": "20",
         "marker": {
          "color": "#636efa",
          "symbol": "circle"
         },
         "mode": "markers",
         "name": "20",
         "orientation": "h",
         "showlegend": true,
         "type": "scatter",
         "x": [
          60.314
         ],
         "xaxis": "x",
         "y": [
          0.12579
         ],
         "yaxis": "y"
        },
        {
         "hovertemplate": "Nr=21<br>t_bry=%{x}<br>Score=%{y}<extra></extra>",
         "legendgroup": "21",
         "marker": {
          "color": "#EF553B",
          "symbol": "circle"
         },
         "mode": "markers",
         "name": "21",
         "orientation": "h",
         "showlegend": true,
         "type": "scatter",
         "x": [
          73
         ],
         "xaxis": "x",
         "y": [
          0.5283
         ],
         "yaxis": "y"
        },
        {
         "hovertemplate": "Nr=22<br>t_bry=%{x}<br>Score=%{y}<extra></extra>",
         "legendgroup": "22",
         "marker": {
          "color": "#00cc96",
          "symbol": "circle"
         },
         "mode": "markers",
         "name": "22",
         "orientation": "h",
         "showlegend": true,
         "type": "scatter",
         "x": [
          159.948
         ],
         "xaxis": "x",
         "y": [
          0.19497
         ],
         "yaxis": "y"
        },
        {
         "hovertemplate": "Nr=23<br>t_bry=%{x}<br>Score=%{y}<extra></extra>",
         "legendgroup": "23",
         "marker": {
          "color": "#ab63fa",
          "symbol": "circle"
         },
         "mode": "markers",
         "name": "23",
         "orientation": "h",
         "showlegend": true,
         "type": "scatter",
         "x": [
          113.271
         ],
         "xaxis": "x",
         "y": [
          0.00629
         ],
         "yaxis": "y"
        },
        {
         "hovertemplate": "Nr=24<br>t_bry=%{x}<br>Score=%{y}<extra></extra>",
         "legendgroup": "24",
         "marker": {
          "color": "#FFA15A",
          "symbol": "circle"
         },
         "mode": "markers",
         "name": "24",
         "orientation": "h",
         "showlegend": true,
         "type": "scatter",
         "x": [
          176.7
         ],
         "xaxis": "x",
         "y": [
          0.40252
         ],
         "yaxis": "y"
        },
        {
         "hovertemplate": "Nr=25<br>t_bry=%{x}<br>Score=%{y}<extra></extra>",
         "legendgroup": "25",
         "marker": {
          "color": "#19d3f3",
          "symbol": "circle"
         },
         "mode": "markers",
         "name": "25",
         "orientation": "h",
         "showlegend": true,
         "type": "scatter",
         "x": [
          203.2
         ],
         "xaxis": "x",
         "y": [
          0.10692
         ],
         "yaxis": "y"
        },
        {
         "hovertemplate": "Nr=26<br>t_bry=%{x}<br>Score=%{y}<extra></extra>",
         "legendgroup": "26",
         "marker": {
          "color": "#FF6692",
          "symbol": "circle"
         },
         "mode": "markers",
         "name": "26",
         "orientation": "h",
         "showlegend": true,
         "type": "scatter",
         "x": [
          140.4
         ],
         "xaxis": "x",
         "y": [
          0.41509
         ],
         "yaxis": "y"
        },
        {
         "hovertemplate": "Nr=27<br>t_bry=%{x}<br>Score=%{y}<extra></extra>",
         "legendgroup": "27",
         "marker": {
          "color": "#B6E880",
          "symbol": "circle"
         },
         "mode": "markers",
         "name": "27",
         "orientation": "h",
         "showlegend": true,
         "type": "scatter",
         "x": [
          187.786
         ],
         "xaxis": "x",
         "y": [
          0.45912
         ],
         "yaxis": "y"
        },
        {
         "hovertemplate": "Nr=28<br>t_bry=%{x}<br>Score=%{y}<extra></extra>",
         "legendgroup": "28",
         "marker": {
          "color": "#FF97FF",
          "symbol": "circle"
         },
         "mode": "markers",
         "name": "28",
         "orientation": "h",
         "showlegend": true,
         "type": "scatter",
         "x": [
          84.619
         ],
         "xaxis": "x",
         "y": [
          0.86164
         ],
         "yaxis": "y"
        },
        {
         "hovertemplate": "Nr=29<br>t_bry=%{x}<br>Score=%{y}<extra></extra>",
         "legendgroup": "29",
         "marker": {
          "color": "#FECB52",
          "symbol": "circle"
         },
         "mode": "markers",
         "name": "29",
         "orientation": "h",
         "showlegend": true,
         "type": "scatter",
         "x": [
          98.397
         ],
         "xaxis": "x",
         "y": [
          0.80503
         ],
         "yaxis": "y"
        },
        {
         "hovertemplate": "Nr=30<br>t_bry=%{x}<br>Score=%{y}<extra></extra>",
         "legendgroup": "30",
         "marker": {
          "color": "#636efa",
          "symbol": "circle"
         },
         "mode": "markers",
         "name": "30",
         "orientation": "h",
         "showlegend": true,
         "type": "scatter",
         "x": [
          70
         ],
         "xaxis": "x",
         "y": [
          0.7673
         ],
         "yaxis": "y"
        },
        {
         "hovertemplate": "Nr=31<br>t_bry=%{x}<br>Score=%{y}<extra></extra>",
         "legendgroup": "31",
         "marker": {
          "color": "#EF553B",
          "symbol": "circle"
         },
         "mode": "markers",
         "name": "31",
         "orientation": "h",
         "showlegend": true,
         "type": "scatter",
         "x": [
          106.978
         ],
         "xaxis": "x",
         "y": [
          0.51572
         ],
         "yaxis": "y"
        },
        {
         "hovertemplate": "Nr=32<br>t_bry=%{x}<br>Score=%{y}<extra></extra>",
         "legendgroup": "32",
         "marker": {
          "color": "#00cc96",
          "symbol": "circle"
         },
         "mode": "markers",
         "name": "32",
         "orientation": "h",
         "showlegend": true,
         "type": "scatter",
         "x": [
          61.833
         ],
         "xaxis": "x",
         "y": [
          0.79874
         ],
         "yaxis": "y"
        },
        {
         "hovertemplate": "Nr=33<br>t_bry=%{x}<br>Score=%{y}<extra></extra>",
         "legendgroup": "33",
         "marker": {
          "color": "#ab63fa",
          "symbol": "circle"
         },
         "mode": "markers",
         "name": "33",
         "orientation": "h",
         "showlegend": true,
         "type": "scatter",
         "x": [
          152.798
         ],
         "xaxis": "x",
         "y": [
          0.0566
         ],
         "yaxis": "y"
        },
        {
         "hovertemplate": "Nr=34<br>t_bry=%{x}<br>Score=%{y}<extra></extra>",
         "legendgroup": "34",
         "marker": {
          "color": "#FFA15A",
          "symbol": "circle"
         },
         "mode": "markers",
         "name": "34",
         "orientation": "h",
         "showlegend": true,
         "type": "scatter",
         "x": [
          170.531
         ],
         "xaxis": "x",
         "y": [
          0.37107
         ],
         "yaxis": "y"
        },
        {
         "hovertemplate": "Nr=35<br>t_bry=%{x}<br>Score=%{y}<extra></extra>",
         "legendgroup": "35",
         "marker": {
          "color": "#19d3f3",
          "symbol": "circle"
         },
         "mode": "markers",
         "name": "35",
         "orientation": "h",
         "showlegend": true,
         "type": "scatter",
         "x": [
          227.589
         ],
         "xaxis": "x",
         "y": [
          0.02516
         ],
         "yaxis": "y"
        },
        {
         "hovertemplate": "Nr=36<br>t_bry=%{x}<br>Score=%{y}<extra></extra>",
         "legendgroup": "36",
         "marker": {
          "color": "#FF6692",
          "symbol": "circle"
         },
         "mode": "markers",
         "name": "36",
         "orientation": "h",
         "showlegend": true,
         "type": "scatter",
         "x": [
          122.298
         ],
         "xaxis": "x",
         "y": [
          0.39623
         ],
         "yaxis": "y"
        },
        {
         "hovertemplate": "Nr=37<br>t_bry=%{x}<br>Score=%{y}<extra></extra>",
         "legendgroup": "37",
         "marker": {
          "color": "#B6E880",
          "symbol": "circle"
         },
         "mode": "markers",
         "name": "37",
         "orientation": "h",
         "showlegend": true,
         "type": "scatter",
         "x": [
          115.833
         ],
         "xaxis": "x",
         "y": [
          0.03145
         ],
         "yaxis": "y"
        },
        {
         "hovertemplate": "Nr=38<br>t_bry=%{x}<br>Score=%{y}<extra></extra>",
         "legendgroup": "38",
         "marker": {
          "color": "#FF97FF",
          "symbol": "circle"
         },
         "mode": "markers",
         "name": "38",
         "orientation": "h",
         "showlegend": true,
         "type": "scatter",
         "x": [
          116.036
         ],
         "xaxis": "x",
         "y": [
          0.59748
         ],
         "yaxis": "y"
        },
        {
         "hovertemplate": "Nr=39<br>t_bry=%{x}<br>Score=%{y}<extra></extra>",
         "legendgroup": "39",
         "marker": {
          "color": "#FECB52",
          "symbol": "circle"
         },
         "mode": "markers",
         "name": "39",
         "orientation": "h",
         "showlegend": true,
         "type": "scatter",
         "x": [
          84.119
         ],
         "xaxis": "x",
         "y": [
          0.20755
         ],
         "yaxis": "y"
        },
        {
         "hovertemplate": "Nr=40<br>t_bry=%{x}<br>Score=%{y}<extra></extra>",
         "legendgroup": "40",
         "marker": {
          "color": "#636efa",
          "symbol": "circle"
         },
         "mode": "markers",
         "name": "40",
         "orientation": "h",
         "showlegend": true,
         "type": "scatter",
         "x": [
          63.833
         ],
         "xaxis": "x",
         "y": [
          0.61006
         ],
         "yaxis": "y"
        },
        {
         "hovertemplate": "Nr=41<br>t_bry=%{x}<br>Score=%{y}<extra></extra>",
         "legendgroup": "41",
         "marker": {
          "color": "#EF553B",
          "symbol": "circle"
         },
         "mode": "markers",
         "name": "41",
         "orientation": "h",
         "showlegend": true,
         "type": "scatter",
         "x": [
          63.321
         ],
         "xaxis": "x",
         "y": [
          0.56604
         ],
         "yaxis": "y"
        },
        {
         "hovertemplate": "Nr=42<br>t_bry=%{x}<br>Score=%{y}<extra></extra>",
         "legendgroup": "42",
         "marker": {
          "color": "#00cc96",
          "symbol": "circle"
         },
         "mode": "markers",
         "name": "42",
         "orientation": "h",
         "showlegend": true,
         "type": "scatter",
         "x": [
          123.2
         ],
         "xaxis": "x",
         "y": [
          0.38994
         ],
         "yaxis": "y"
        },
        {
         "hovertemplate": "Nr=43<br>t_bry=%{x}<br>Score=%{y}<extra></extra>",
         "legendgroup": "43",
         "marker": {
          "color": "#ab63fa",
          "symbol": "circle"
         },
         "mode": "markers",
         "name": "43",
         "orientation": "h",
         "showlegend": true,
         "type": "scatter",
         "x": [
          104.264
         ],
         "xaxis": "x",
         "y": [
          0.18239
         ],
         "yaxis": "y"
        },
        {
         "hovertemplate": "Nr=44<br>t_bry=%{x}<br>Score=%{y}<extra></extra>",
         "legendgroup": "44",
         "marker": {
          "color": "#FFA15A",
          "symbol": "circle"
         },
         "mode": "markers",
         "name": "44",
         "orientation": "h",
         "showlegend": true,
         "type": "scatter",
         "x": [
          111.627
         ],
         "xaxis": "x",
         "y": [
          0.24528
         ],
         "yaxis": "y"
        },
        {
         "hovertemplate": "Nr=45<br>t_bry=%{x}<br>Score=%{y}<extra></extra>",
         "legendgroup": "45",
         "marker": {
          "color": "#19d3f3",
          "symbol": "circle"
         },
         "mode": "markers",
         "name": "45",
         "orientation": "h",
         "showlegend": true,
         "type": "scatter",
         "x": [
          94.069
         ],
         "xaxis": "x",
         "y": [
          0.58491
         ],
         "yaxis": "y"
        },
        {
         "hovertemplate": "Nr=46<br>t_bry=%{x}<br>Score=%{y}<extra></extra>",
         "legendgroup": "46",
         "marker": {
          "color": "#FF6692",
          "symbol": "circle"
         },
         "mode": "markers",
         "name": "46",
         "orientation": "h",
         "showlegend": true,
         "type": "scatter",
         "x": [
          145.007
         ],
         "xaxis": "x",
         "y": [
          0.13836
         ],
         "yaxis": "y"
        },
        {
         "hovertemplate": "Nr=47<br>t_bry=%{x}<br>Score=%{y}<extra></extra>",
         "legendgroup": "47",
         "marker": {
          "color": "#B6E880",
          "symbol": "circle"
         },
         "mode": "markers",
         "name": "47",
         "orientation": "h",
         "showlegend": true,
         "type": "scatter",
         "x": [
          122.229
         ],
         "xaxis": "x",
         "y": [
          0.37736
         ],
         "yaxis": "y"
        },
        {
         "hovertemplate": "Nr=48<br>t_bry=%{x}<br>Score=%{y}<extra></extra>",
         "legendgroup": "48",
         "marker": {
          "color": "#FF97FF",
          "symbol": "circle"
         },
         "mode": "markers",
         "name": "48",
         "orientation": "h",
         "showlegend": true,
         "type": "scatter",
         "x": [
          94.076
         ],
         "xaxis": "x",
         "y": [
          0.42767
         ],
         "yaxis": "y"
        },
        {
         "hovertemplate": "Nr=49<br>t_bry=%{x}<br>Score=%{y}<extra></extra>",
         "legendgroup": "49",
         "marker": {
          "color": "#FECB52",
          "symbol": "circle"
         },
         "mode": "markers",
         "name": "49",
         "orientation": "h",
         "showlegend": true,
         "type": "scatter",
         "x": [
          118.95
         ],
         "xaxis": "x",
         "y": [
          0.55346
         ],
         "yaxis": "y"
        },
        {
         "hovertemplate": "Nr=50<br>t_bry=%{x}<br>Score=%{y}<extra></extra>",
         "legendgroup": "50",
         "marker": {
          "color": "#636efa",
          "symbol": "circle"
         },
         "mode": "markers",
         "name": "50",
         "orientation": "h",
         "showlegend": true,
         "type": "scatter",
         "x": [
          105.917
         ],
         "xaxis": "x",
         "y": [
          0.81761
         ],
         "yaxis": "y"
        },
        {
         "hovertemplate": "Nr=51<br>t_bry=%{x}<br>Score=%{y}<extra></extra>",
         "legendgroup": "51",
         "marker": {
          "color": "#EF553B",
          "symbol": "circle"
         },
         "mode": "markers",
         "name": "51",
         "orientation": "h",
         "showlegend": true,
         "type": "scatter",
         "x": [
          110.238
         ],
         "xaxis": "x",
         "y": [
          0.84277
         ],
         "yaxis": "y"
        },
        {
         "hovertemplate": "Nr=52<br>t_bry=%{x}<br>Score=%{y}<extra></extra>",
         "legendgroup": "52",
         "marker": {
          "color": "#00cc96",
          "symbol": "circle"
         },
         "mode": "markers",
         "name": "52",
         "orientation": "h",
         "showlegend": true,
         "type": "scatter",
         "x": [
          78.2
         ],
         "xaxis": "x",
         "y": [
          0.52201
         ],
         "yaxis": "y"
        },
        {
         "hovertemplate": "Nr=53<br>t_bry=%{x}<br>Score=%{y}<extra></extra>",
         "legendgroup": "53",
         "marker": {
          "color": "#ab63fa",
          "symbol": "circle"
         },
         "mode": "markers",
         "name": "53",
         "orientation": "h",
         "showlegend": true,
         "type": "scatter",
         "x": [
          111.109
         ],
         "xaxis": "x",
         "y": [
          0.66667
         ],
         "yaxis": "y"
        },
        {
         "hovertemplate": "Nr=54<br>t_bry=%{x}<br>Score=%{y}<extra></extra>",
         "legendgroup": "54",
         "marker": {
          "color": "#FFA15A",
          "symbol": "circle"
         },
         "mode": "markers",
         "name": "54",
         "orientation": "h",
         "showlegend": true,
         "type": "scatter",
         "x": [
          116.048
         ],
         "xaxis": "x",
         "y": [
          0.55975
         ],
         "yaxis": "y"
        },
        {
         "hovertemplate": "Nr=55<br>t_bry=%{x}<br>Score=%{y}<extra></extra>",
         "legendgroup": "55",
         "marker": {
          "color": "#19d3f3",
          "symbol": "circle"
         },
         "mode": "markers",
         "name": "55",
         "orientation": "h",
         "showlegend": true,
         "type": "scatter",
         "x": [
          38.667
         ],
         "xaxis": "x",
         "y": [
          0.1761
         ],
         "yaxis": "y"
        },
        {
         "hovertemplate": "Nr=56<br>t_bry=%{x}<br>Score=%{y}<extra></extra>",
         "legendgroup": "56",
         "marker": {
          "color": "#FF6692",
          "symbol": "circle"
         },
         "mode": "markers",
         "name": "56",
         "orientation": "h",
         "showlegend": true,
         "type": "scatter",
         "x": [
          144.842
         ],
         "xaxis": "x",
         "y": [
          0.49686
         ],
         "yaxis": "y"
        },
        {
         "hovertemplate": "Nr=57<br>t_bry=%{x}<br>Score=%{y}<extra></extra>",
         "legendgroup": "57",
         "marker": {
          "color": "#B6E880",
          "symbol": "circle"
         },
         "mode": "markers",
         "name": "57",
         "orientation": "h",
         "showlegend": true,
         "type": "scatter",
         "x": [
          62.333
         ],
         "xaxis": "x",
         "y": [
          0.69811
         ],
         "yaxis": "y"
        },
        {
         "hovertemplate": "Nr=58<br>t_bry=%{x}<br>Score=%{y}<extra></extra>",
         "legendgroup": "58",
         "marker": {
          "color": "#FF97FF",
          "symbol": "circle"
         },
         "mode": "markers",
         "name": "58",
         "orientation": "h",
         "showlegend": true,
         "type": "scatter",
         "x": [
          70.167
         ],
         "xaxis": "x",
         "y": [
          0.2327
         ],
         "yaxis": "y"
        },
        {
         "hovertemplate": "Nr=59<br>t_bry=%{x}<br>Score=%{y}<extra></extra>",
         "legendgroup": "59",
         "marker": {
          "color": "#FECB52",
          "symbol": "circle"
         },
         "mode": "markers",
         "name": "59",
         "orientation": "h",
         "showlegend": true,
         "type": "scatter",
         "x": [
          75.321
         ],
         "xaxis": "x",
         "y": [
          0.43396
         ],
         "yaxis": "y"
        },
        {
         "hovertemplate": "Nr=60<br>t_bry=%{x}<br>Score=%{y}<extra></extra>",
         "legendgroup": "60",
         "marker": {
          "color": "#636efa",
          "symbol": "circle"
         },
         "mode": "markers",
         "name": "60",
         "orientation": "h",
         "showlegend": true,
         "type": "scatter",
         "x": [
          124.607
         ],
         "xaxis": "x",
         "y": [
          0.61635
         ],
         "yaxis": "y"
        },
        {
         "hovertemplate": "Nr=61<br>t_bry=%{x}<br>Score=%{y}<extra></extra>",
         "legendgroup": "61",
         "marker": {
          "color": "#EF553B",
          "symbol": "circle"
         },
         "mode": "markers",
         "name": "61",
         "orientation": "h",
         "showlegend": true,
         "type": "scatter",
         "x": [
          105.216
         ],
         "xaxis": "x",
         "y": [
          0.69182
         ],
         "yaxis": "y"
        },
        {
         "hovertemplate": "Nr=62<br>t_bry=%{x}<br>Score=%{y}<extra></extra>",
         "legendgroup": "62",
         "marker": {
          "color": "#00cc96",
          "symbol": "circle"
         },
         "mode": "markers",
         "name": "62",
         "orientation": "h",
         "showlegend": true,
         "type": "scatter",
         "x": [
          69
         ],
         "xaxis": "x",
         "y": [
          0.25157
         ],
         "yaxis": "y"
        },
        {
         "hovertemplate": "Nr=63<br>t_bry=%{x}<br>Score=%{y}<extra></extra>",
         "legendgroup": "63",
         "marker": {
          "color": "#ab63fa",
          "symbol": "circle"
         },
         "mode": "markers",
         "name": "63",
         "orientation": "h",
         "showlegend": true,
         "type": "scatter",
         "x": [
          124.73
         ],
         "xaxis": "x",
         "y": [
          0.33333
         ],
         "yaxis": "y"
        },
        {
         "hovertemplate": "Nr=64<br>t_bry=%{x}<br>Score=%{y}<extra></extra>",
         "legendgroup": "64",
         "marker": {
          "color": "#FFA15A",
          "symbol": "circle"
         },
         "mode": "markers",
         "name": "64",
         "orientation": "h",
         "showlegend": true,
         "type": "scatter",
         "x": [
          63.967
         ],
         "xaxis": "x",
         "y": [
          0.50943
         ],
         "yaxis": "y"
        },
        {
         "hovertemplate": "Nr=65<br>t_bry=%{x}<br>Score=%{y}<extra></extra>",
         "legendgroup": "65",
         "marker": {
          "color": "#19d3f3",
          "symbol": "circle"
         },
         "mode": "markers",
         "name": "65",
         "orientation": "h",
         "showlegend": true,
         "type": "scatter",
         "x": [
          45.8
         ],
         "xaxis": "x",
         "y": [
          0.63522
         ],
         "yaxis": "y"
        },
        {
         "hovertemplate": "Nr=66<br>t_bry=%{x}<br>Score=%{y}<extra></extra>",
         "legendgroup": "66",
         "marker": {
          "color": "#FF6692",
          "symbol": "circle"
         },
         "mode": "markers",
         "name": "66",
         "orientation": "h",
         "showlegend": true,
         "type": "scatter",
         "x": [
          120.433
         ],
         "xaxis": "x",
         "y": [
          0.25786
         ],
         "yaxis": "y"
        },
        {
         "hovertemplate": "Nr=67<br>t_bry=%{x}<br>Score=%{y}<extra></extra>",
         "legendgroup": "67",
         "marker": {
          "color": "#B6E880",
          "symbol": "circle"
         },
         "mode": "markers",
         "name": "67",
         "orientation": "h",
         "showlegend": true,
         "type": "scatter",
         "x": [
          96.214
         ],
         "xaxis": "x",
         "y": [
          0.14465
         ],
         "yaxis": "y"
        },
        {
         "hovertemplate": "Nr=68<br>t_bry=%{x}<br>Score=%{y}<extra></extra>",
         "legendgroup": "68",
         "marker": {
          "color": "#FF97FF",
          "symbol": "circle"
         },
         "mode": "markers",
         "name": "68",
         "orientation": "h",
         "showlegend": true,
         "type": "scatter",
         "x": [
          119.856
         ],
         "xaxis": "x",
         "y": [
          0.36478
         ],
         "yaxis": "y"
        },
        {
         "hovertemplate": "Nr=69<br>t_bry=%{x}<br>Score=%{y}<extra></extra>",
         "legendgroup": "69",
         "marker": {
          "color": "#FECB52",
          "symbol": "circle"
         },
         "mode": "markers",
         "name": "69",
         "orientation": "h",
         "showlegend": true,
         "type": "scatter",
         "x": [
          98.778
         ],
         "xaxis": "x",
         "y": [
          0.08805
         ],
         "yaxis": "y"
        },
        {
         "hovertemplate": "Nr=70<br>t_bry=%{x}<br>Score=%{y}<extra></extra>",
         "legendgroup": "70",
         "marker": {
          "color": "#636efa",
          "symbol": "circle"
         },
         "mode": "markers",
         "name": "70",
         "orientation": "h",
         "showlegend": true,
         "type": "scatter",
         "x": [
          103.348
         ],
         "xaxis": "x",
         "y": [
          0.53459
         ],
         "yaxis": "y"
        },
        {
         "hovertemplate": "Nr=71<br>t_bry=%{x}<br>Score=%{y}<extra></extra>",
         "legendgroup": "71",
         "marker": {
          "color": "#EF553B",
          "symbol": "circle"
         },
         "mode": "markers",
         "name": "71",
         "orientation": "h",
         "showlegend": true,
         "type": "scatter",
         "x": [
          82.155
         ],
         "xaxis": "x",
         "y": [
          0.49057
         ],
         "yaxis": "y"
        },
        {
         "hovertemplate": "Nr=72<br>t_bry=%{x}<br>Score=%{y}<extra></extra>",
         "legendgroup": "72",
         "marker": {
          "color": "#00cc96",
          "symbol": "circle"
         },
         "mode": "markers",
         "name": "72",
         "orientation": "h",
         "showlegend": true,
         "type": "scatter",
         "x": [
          82.988
         ],
         "xaxis": "x",
         "y": [
          0.74214
         ],
         "yaxis": "y"
        },
        {
         "hovertemplate": "Nr=73<br>t_bry=%{x}<br>Score=%{y}<extra></extra>",
         "legendgroup": "73",
         "marker": {
          "color": "#ab63fa",
          "symbol": "circle"
         },
         "mode": "markers",
         "name": "73",
         "orientation": "h",
         "showlegend": true,
         "type": "scatter",
         "x": [
          114.778
         ],
         "xaxis": "x",
         "y": [
          0.59119
         ],
         "yaxis": "y"
        },
        {
         "hovertemplate": "Nr=74<br>t_bry=%{x}<br>Score=%{y}<extra></extra>",
         "legendgroup": "74",
         "marker": {
          "color": "#FFA15A",
          "symbol": "circle"
         },
         "mode": "markers",
         "name": "74",
         "orientation": "h",
         "showlegend": true,
         "type": "scatter",
         "x": [
          114.159
         ],
         "xaxis": "x",
         "y": [
          0.42138
         ],
         "yaxis": "y"
        },
        {
         "hovertemplate": "Nr=75<br>t_bry=%{x}<br>Score=%{y}<extra></extra>",
         "legendgroup": "75",
         "marker": {
          "color": "#19d3f3",
          "symbol": "circle"
         },
         "mode": "markers",
         "name": "75",
         "orientation": "h",
         "showlegend": true,
         "type": "scatter",
         "x": [
          106.581
         ],
         "xaxis": "x",
         "y": [
          0.15094
         ],
         "yaxis": "y"
        },
        {
         "hovertemplate": "Nr=76<br>t_bry=%{x}<br>Score=%{y}<extra></extra>",
         "legendgroup": "76",
         "marker": {
          "color": "#FF6692",
          "symbol": "circle"
         },
         "mode": "markers",
         "name": "76",
         "orientation": "h",
         "showlegend": true,
         "type": "scatter",
         "x": [
          78.814
         ],
         "xaxis": "x",
         "y": [
          0.3522
         ],
         "yaxis": "y"
        },
        {
         "hovertemplate": "Nr=77<br>t_bry=%{x}<br>Score=%{y}<extra></extra>",
         "legendgroup": "77",
         "marker": {
          "color": "#B6E880",
          "symbol": "circle"
         },
         "mode": "markers",
         "name": "77",
         "orientation": "h",
         "showlegend": true,
         "type": "scatter",
         "x": [
          106.578
         ],
         "xaxis": "x",
         "y": [
          0.27044
         ],
         "yaxis": "y"
        },
        {
         "hovertemplate": "Nr=78<br>t_bry=%{x}<br>Score=%{y}<extra></extra>",
         "legendgroup": "78",
         "marker": {
          "color": "#FF97FF",
          "symbol": "circle"
         },
         "mode": "markers",
         "name": "78",
         "orientation": "h",
         "showlegend": true,
         "type": "scatter",
         "x": [
          72.333
         ],
         "xaxis": "x",
         "y": [
          0.93711
         ],
         "yaxis": "y"
        },
        {
         "hovertemplate": "Nr=79<br>t_bry=%{x}<br>Score=%{y}<extra></extra>",
         "legendgroup": "79",
         "marker": {
          "color": "#FECB52",
          "symbol": "circle"
         },
         "mode": "markers",
         "name": "79",
         "orientation": "h",
         "showlegend": true,
         "type": "scatter",
         "x": [
          164.523
         ],
         "xaxis": "x",
         "y": [
          0.54088
         ],
         "yaxis": "y"
        },
        {
         "hovertemplate": "Nr=80<br>t_bry=%{x}<br>Score=%{y}<extra></extra>",
         "legendgroup": "80",
         "marker": {
          "color": "#636efa",
          "symbol": "circle"
         },
         "mode": "markers",
         "name": "80",
         "orientation": "h",
         "showlegend": true,
         "type": "scatter",
         "x": [
          95.661
         ],
         "xaxis": "x",
         "y": [
          0.06289
         ],
         "yaxis": "y"
        },
        {
         "hovertemplate": "Nr=81<br>t_bry=%{x}<br>Score=%{y}<extra></extra>",
         "legendgroup": "81",
         "marker": {
          "color": "#EF553B",
          "symbol": "circle"
         },
         "mode": "markers",
         "name": "81",
         "orientation": "h",
         "showlegend": true,
         "type": "scatter",
         "x": [
          167.667
         ],
         "xaxis": "x",
         "y": [
          0.04403
         ],
         "yaxis": "y"
        },
        {
         "hovertemplate": "Nr=82<br>t_bry=%{x}<br>Score=%{y}<extra></extra>",
         "legendgroup": "82",
         "marker": {
          "color": "#00cc96",
          "symbol": "circle"
         },
         "mode": "markers",
         "name": "82",
         "orientation": "h",
         "showlegend": true,
         "type": "scatter",
         "x": [
          165.795
         ],
         "xaxis": "x",
         "y": [
          0.05031
         ],
         "yaxis": "y"
        },
        {
         "hovertemplate": "Nr=83<br>t_bry=%{x}<br>Score=%{y}<extra></extra>",
         "legendgroup": "83",
         "marker": {
          "color": "#ab63fa",
          "symbol": "circle"
         },
         "mode": "markers",
         "name": "83",
         "orientation": "h",
         "showlegend": true,
         "type": "scatter",
         "x": [
          147.814
         ],
         "xaxis": "x",
         "y": [
          0.13208
         ],
         "yaxis": "y"
        },
        {
         "hovertemplate": "Nr=84<br>t_bry=%{x}<br>Score=%{y}<extra></extra>",
         "legendgroup": "84",
         "marker": {
          "color": "#FFA15A",
          "symbol": "circle"
         },
         "mode": "markers",
         "name": "84",
         "orientation": "h",
         "showlegend": true,
         "type": "scatter",
         "x": [
          50
         ],
         "xaxis": "x",
         "y": [
          0.7044
         ],
         "yaxis": "y"
        },
        {
         "hovertemplate": "Nr=85<br>t_bry=%{x}<br>Score=%{y}<extra></extra>",
         "legendgroup": "85",
         "marker": {
          "color": "#19d3f3",
          "symbol": "circle"
         },
         "mode": "markers",
         "name": "85",
         "orientation": "h",
         "showlegend": true,
         "type": "scatter",
         "x": [
          43.783
         ],
         "xaxis": "x",
         "y": [
          0.88679
         ],
         "yaxis": "y"
        },
        {
         "hovertemplate": "Nr=86<br>t_bry=%{x}<br>Score=%{y}<extra></extra>",
         "legendgroup": "86",
         "marker": {
          "color": "#FF6692",
          "symbol": "circle"
         },
         "mode": "markers",
         "name": "86",
         "orientation": "h",
         "showlegend": true,
         "type": "scatter",
         "x": [
          125.283
         ],
         "xaxis": "x",
         "y": [
          0.50314
         ],
         "yaxis": "y"
        },
        {
         "hovertemplate": "Nr=87<br>t_bry=%{x}<br>Score=%{y}<extra></extra>",
         "legendgroup": "87",
         "marker": {
          "color": "#B6E880",
          "symbol": "circle"
         },
         "mode": "markers",
         "name": "87",
         "orientation": "h",
         "showlegend": true,
         "type": "scatter",
         "x": [
          146.611
         ],
         "xaxis": "x",
         "y": [
          0.06918
         ],
         "yaxis": "y"
        },
        {
         "hovertemplate": "Nr=88<br>t_bry=%{x}<br>Score=%{y}<extra></extra>",
         "legendgroup": "88",
         "marker": {
          "color": "#FF97FF",
          "symbol": "circle"
         },
         "mode": "markers",
         "name": "88",
         "orientation": "h",
         "showlegend": true,
         "type": "scatter",
         "x": [
          160.167
         ],
         "xaxis": "x",
         "y": [
          0.20126
         ],
         "yaxis": "y"
        },
        {
         "hovertemplate": "Nr=89<br>t_bry=%{x}<br>Score=%{y}<extra></extra>",
         "legendgroup": "89",
         "marker": {
          "color": "#FECB52",
          "symbol": "circle"
         },
         "mode": "markers",
         "name": "89",
         "orientation": "h",
         "showlegend": true,
         "type": "scatter",
         "x": [
          75
         ],
         "xaxis": "x",
         "y": [
          0.40881
         ],
         "yaxis": "y"
        },
        {
         "hovertemplate": "Nr=90<br>t_bry=%{x}<br>Score=%{y}<extra></extra>",
         "legendgroup": "90",
         "marker": {
          "color": "#636efa",
          "symbol": "circle"
         },
         "mode": "markers",
         "name": "90",
         "orientation": "h",
         "showlegend": true,
         "type": "scatter",
         "x": [
          181.564
         ],
         "xaxis": "x",
         "y": [
          0.15723
         ],
         "yaxis": "y"
        },
        {
         "hovertemplate": "Nr=91<br>t_bry=%{x}<br>Score=%{y}<extra></extra>",
         "legendgroup": "91",
         "marker": {
          "color": "#EF553B",
          "symbol": "circle"
         },
         "mode": "markers",
         "name": "91",
         "orientation": "h",
         "showlegend": true,
         "type": "scatter",
         "x": [
          163.348
         ],
         "xaxis": "x",
         "y": [
          0.38365
         ],
         "yaxis": "y"
        },
        {
         "hovertemplate": "Nr=92<br>t_bry=%{x}<br>Score=%{y}<extra></extra>",
         "legendgroup": "92",
         "marker": {
          "color": "#00cc96",
          "symbol": "circle"
         },
         "mode": "markers",
         "name": "92",
         "orientation": "h",
         "showlegend": true,
         "type": "scatter",
         "x": [
          198.844
         ],
         "xaxis": "x",
         "y": [
          0.01887
         ],
         "yaxis": "y"
        },
        {
         "hovertemplate": "Nr=93<br>t_bry=%{x}<br>Score=%{y}<extra></extra>",
         "legendgroup": "93",
         "marker": {
          "color": "#ab63fa",
          "symbol": "circle"
         },
         "mode": "markers",
         "name": "93",
         "orientation": "h",
         "showlegend": true,
         "type": "scatter",
         "x": [
          31.5
         ],
         "xaxis": "x",
         "y": [
          0.90566
         ],
         "yaxis": "y"
        },
        {
         "hovertemplate": "Nr=94<br>t_bry=%{x}<br>Score=%{y}<extra></extra>",
         "legendgroup": "94",
         "marker": {
          "color": "#FFA15A",
          "symbol": "circle"
         },
         "mode": "markers",
         "name": "94",
         "orientation": "h",
         "showlegend": true,
         "type": "scatter",
         "x": [
          111.571
         ],
         "xaxis": "x",
         "y": [
          0.48428
         ],
         "yaxis": "y"
        },
        {
         "hovertemplate": "Nr=95<br>t_bry=%{x}<br>Score=%{y}<extra></extra>",
         "legendgroup": "95",
         "marker": {
          "color": "#19d3f3",
          "symbol": "circle"
         },
         "mode": "markers",
         "name": "95",
         "orientation": "h",
         "showlegend": true,
         "type": "scatter",
         "x": [
          157.883
         ],
         "xaxis": "x",
         "y": [
          0.23899
         ],
         "yaxis": "y"
        },
        {
         "hovertemplate": "Nr=96<br>t_bry=%{x}<br>Score=%{y}<extra></extra>",
         "legendgroup": "96",
         "marker": {
          "color": "#FF6692",
          "symbol": "circle"
         },
         "mode": "markers",
         "name": "96",
         "orientation": "h",
         "showlegend": true,
         "type": "scatter",
         "x": [
          105.417
         ],
         "xaxis": "x",
         "y": [
          0.60377
         ],
         "yaxis": "y"
        },
        {
         "hovertemplate": "Nr=97<br>t_bry=%{x}<br>Score=%{y}<extra></extra>",
         "legendgroup": "97",
         "marker": {
          "color": "#B6E880",
          "symbol": "circle"
         },
         "mode": "markers",
         "name": "97",
         "orientation": "h",
         "showlegend": true,
         "type": "scatter",
         "x": [
          50.286
         ],
         "xaxis": "x",
         "y": [
          0.65409
         ],
         "yaxis": "y"
        },
        {
         "hovertemplate": "Nr=98<br>t_bry=%{x}<br>Score=%{y}<extra></extra>",
         "legendgroup": "98",
         "marker": {
          "color": "#FF97FF",
          "symbol": "circle"
         },
         "mode": "markers",
         "name": "98",
         "orientation": "h",
         "showlegend": true,
         "type": "scatter",
         "x": [
          94.529
         ],
         "xaxis": "x",
         "y": [
          0.74843
         ],
         "yaxis": "y"
        },
        {
         "hovertemplate": "Nr=99<br>t_bry=%{x}<br>Score=%{y}<extra></extra>",
         "legendgroup": "99",
         "marker": {
          "color": "#FECB52",
          "symbol": "circle"
         },
         "mode": "markers",
         "name": "99",
         "orientation": "h",
         "showlegend": true,
         "type": "scatter",
         "x": [
          121.533
         ],
         "xaxis": "x",
         "y": [
          0.11321
         ],
         "yaxis": "y"
        },
        {
         "hovertemplate": "Nr=100<br>t_bry=%{x}<br>Score=%{y}<extra></extra>",
         "legendgroup": "100",
         "marker": {
          "color": "#636efa",
          "symbol": "circle"
         },
         "mode": "markers",
         "name": "100",
         "orientation": "h",
         "showlegend": true,
         "type": "scatter",
         "x": [
          72.448
         ],
         "xaxis": "x",
         "y": [
          0.72327
         ],
         "yaxis": "y"
        },
        {
         "hovertemplate": "Nr=101<br>t_bry=%{x}<br>Score=%{y}<extra></extra>",
         "legendgroup": "101",
         "marker": {
          "color": "#EF553B",
          "symbol": "circle"
         },
         "mode": "markers",
         "name": "101",
         "orientation": "h",
         "showlegend": true,
         "type": "scatter",
         "x": [
          199.616
         ],
         "xaxis": "x",
         "y": [
          0
         ],
         "yaxis": "y"
        },
        {
         "hovertemplate": "Nr=102<br>t_bry=%{x}<br>Score=%{y}<extra></extra>",
         "legendgroup": "102",
         "marker": {
          "color": "#00cc96",
          "symbol": "circle"
         },
         "mode": "markers",
         "name": "102",
         "orientation": "h",
         "showlegend": true,
         "type": "scatter",
         "x": [
          56.633
         ],
         "xaxis": "x",
         "y": [
          0.77358
         ],
         "yaxis": "y"
        },
        {
         "hovertemplate": "Nr=103<br>t_bry=%{x}<br>Score=%{y}<extra></extra>",
         "legendgroup": "103",
         "marker": {
          "color": "#ab63fa",
          "symbol": "circle"
         },
         "mode": "markers",
         "name": "103",
         "orientation": "h",
         "showlegend": true,
         "type": "scatter",
         "x": [
          60.333
         ],
         "xaxis": "x",
         "y": [
          0.27673
         ],
         "yaxis": "y"
        },
        {
         "hovertemplate": "Nr=104<br>t_bry=%{x}<br>Score=%{y}<extra></extra>",
         "legendgroup": "104",
         "marker": {
          "color": "#FFA15A",
          "symbol": "circle"
         },
         "mode": "markers",
         "name": "104",
         "orientation": "h",
         "showlegend": true,
         "type": "scatter",
         "x": [
          93.314
         ],
         "xaxis": "x",
         "y": [
          0.26415
         ],
         "yaxis": "y"
        },
        {
         "hovertemplate": "Nr=105<br>t_bry=%{x}<br>Score=%{y}<extra></extra>",
         "legendgroup": "105",
         "marker": {
          "color": "#19d3f3",
          "symbol": "circle"
         },
         "mode": "markers",
         "name": "105",
         "orientation": "h",
         "showlegend": true,
         "type": "scatter",
         "x": [
          126.844
         ],
         "xaxis": "x",
         "y": [
          0.16981
         ],
         "yaxis": "y"
        },
        {
         "hovertemplate": "Nr=106<br>t_bry=%{x}<br>Score=%{y}<extra></extra>",
         "legendgroup": "106",
         "marker": {
          "color": "#FF6692",
          "symbol": "circle"
         },
         "mode": "markers",
         "name": "106",
         "orientation": "h",
         "showlegend": true,
         "type": "scatter",
         "x": [
          77.583
         ],
         "xaxis": "x",
         "y": [
          0.22642
         ],
         "yaxis": "y"
        },
        {
         "hovertemplate": "Nr=107<br>t_bry=%{x}<br>Score=%{y}<extra></extra>",
         "legendgroup": "107",
         "marker": {
          "color": "#B6E880",
          "symbol": "circle"
         },
         "mode": "markers",
         "name": "107",
         "orientation": "h",
         "showlegend": true,
         "type": "scatter",
         "x": [
          43.5
         ],
         "xaxis": "x",
         "y": [
          0.71698
         ],
         "yaxis": "y"
        },
        {
         "hovertemplate": "Nr=108<br>t_bry=%{x}<br>Score=%{y}<extra></extra>",
         "legendgroup": "108",
         "marker": {
          "color": "#FF97FF",
          "symbol": "circle"
         },
         "mode": "markers",
         "name": "108",
         "orientation": "h",
         "showlegend": true,
         "type": "scatter",
         "x": [
          142.081
         ],
         "xaxis": "x",
         "y": [
          0.54717
         ],
         "yaxis": "y"
        },
        {
         "hovertemplate": "Nr=109<br>t_bry=%{x}<br>Score=%{y}<extra></extra>",
         "legendgroup": "109",
         "marker": {
          "color": "#FECB52",
          "symbol": "circle"
         },
         "mode": "markers",
         "name": "109",
         "orientation": "h",
         "showlegend": true,
         "type": "scatter",
         "x": [
          132.767
         ],
         "xaxis": "x",
         "y": [
          0.07547
         ],
         "yaxis": "y"
        },
        {
         "hovertemplate": "Nr=110<br>t_bry=%{x}<br>Score=%{y}<extra></extra>",
         "legendgroup": "110",
         "marker": {
          "color": "#636efa",
          "symbol": "circle"
         },
         "mode": "markers",
         "name": "110",
         "orientation": "h",
         "showlegend": true,
         "type": "scatter",
         "x": [
          161.679
         ],
         "xaxis": "x",
         "y": [
          0.33962
         ],
         "yaxis": "y"
        },
        {
         "hovertemplate": "Nr=111<br>t_bry=%{x}<br>Score=%{y}<extra></extra>",
         "legendgroup": "111",
         "marker": {
          "color": "#EF553B",
          "symbol": "circle"
         },
         "mode": "markers",
         "name": "111",
         "orientation": "h",
         "showlegend": true,
         "type": "scatter",
         "x": [
          175.229
         ],
         "xaxis": "x",
         "y": [
          0.08176
         ],
         "yaxis": "y"
        },
        {
         "hovertemplate": "Nr=112<br>t_bry=%{x}<br>Score=%{y}<extra></extra>",
         "legendgroup": "112",
         "marker": {
          "color": "#00cc96",
          "symbol": "circle"
         },
         "mode": "markers",
         "name": "112",
         "orientation": "h",
         "showlegend": true,
         "type": "scatter",
         "x": [
          153.307
         ],
         "xaxis": "x",
         "y": [
          0.30189
         ],
         "yaxis": "y"
        },
        {
         "hovertemplate": "Nr=113<br>t_bry=%{x}<br>Score=%{y}<extra></extra>",
         "legendgroup": "113",
         "marker": {
          "color": "#ab63fa",
          "symbol": "circle"
         },
         "mode": "markers",
         "name": "113",
         "orientation": "h",
         "showlegend": true,
         "type": "scatter",
         "x": [
          92
         ],
         "xaxis": "x",
         "y": [
          0.34591
         ],
         "yaxis": "y"
        },
        {
         "hovertemplate": "Nr=114<br>t_bry=%{x}<br>Score=%{y}<extra></extra>",
         "legendgroup": "114",
         "marker": {
          "color": "#FFA15A",
          "symbol": "circle"
         },
         "mode": "markers",
         "name": "114",
         "orientation": "h",
         "showlegend": true,
         "type": "scatter",
         "x": [
          128.611
         ],
         "xaxis": "x",
         "y": [
          0.18868
         ],
         "yaxis": "y"
        },
        {
         "hovertemplate": "Nr=115<br>t_bry=%{x}<br>Score=%{y}<extra></extra>",
         "legendgroup": "115",
         "marker": {
          "color": "#19d3f3",
          "symbol": "circle"
         },
         "mode": "markers",
         "name": "115",
         "orientation": "h",
         "showlegend": true,
         "type": "scatter",
         "x": [
          81.917
         ],
         "xaxis": "x",
         "y": [
          0.28931
         ],
         "yaxis": "y"
        },
        {
         "hovertemplate": "Nr=116<br>t_bry=%{x}<br>Score=%{y}<extra></extra>",
         "legendgroup": "116",
         "marker": {
          "color": "#FF6692",
          "symbol": "circle"
         },
         "mode": "markers",
         "name": "116",
         "orientation": "h",
         "showlegend": true,
         "type": "scatter",
         "x": [
          166.405
         ],
         "xaxis": "x",
         "y": [
          0.21384
         ],
         "yaxis": "y"
        },
        {
         "hovertemplate": "Nr=117<br>t_bry=%{x}<br>Score=%{y}<extra></extra>",
         "legendgroup": "117",
         "marker": {
          "color": "#B6E880",
          "symbol": "circle"
         },
         "mode": "markers",
         "name": "117",
         "orientation": "h",
         "showlegend": true,
         "type": "scatter",
         "x": [
          162.4
         ],
         "xaxis": "x",
         "y": [
          0.16352
         ],
         "yaxis": "y"
        },
        {
         "hovertemplate": "Nr=118<br>t_bry=%{x}<br>Score=%{y}<extra></extra>",
         "legendgroup": "118",
         "marker": {
          "color": "#FF97FF",
          "symbol": "circle"
         },
         "mode": "markers",
         "name": "118",
         "orientation": "h",
         "showlegend": true,
         "type": "scatter",
         "x": [
          111.933
         ],
         "xaxis": "x",
         "y": [
          0.62893
         ],
         "yaxis": "y"
        },
        {
         "hovertemplate": "Nr=119<br>t_bry=%{x}<br>Score=%{y}<extra></extra>",
         "legendgroup": "119",
         "marker": {
          "color": "#FECB52",
          "symbol": "circle"
         },
         "mode": "markers",
         "name": "119",
         "orientation": "h",
         "showlegend": true,
         "type": "scatter",
         "x": [
          116
         ],
         "xaxis": "x",
         "y": [
          0.03774
         ],
         "yaxis": "y"
        },
        {
         "hovertemplate": "Nr=120<br>t_bry=%{x}<br>Score=%{y}<extra></extra>",
         "legendgroup": "120",
         "marker": {
          "color": "#636efa",
          "symbol": "circle"
         },
         "mode": "markers",
         "name": "120",
         "orientation": "h",
         "showlegend": true,
         "type": "scatter",
         "x": [
          54
         ],
         "xaxis": "x",
         "y": [
          0.87421
         ],
         "yaxis": "y"
        },
        {
         "hovertemplate": "Nr=121<br>t_bry=%{x}<br>Score=%{y}<extra></extra>",
         "legendgroup": "121",
         "marker": {
          "color": "#EF553B",
          "symbol": "circle"
         },
         "mode": "markers",
         "name": "121",
         "orientation": "h",
         "showlegend": true,
         "type": "scatter",
         "x": [
          77.786
         ],
         "xaxis": "x",
         "y": [
          0.73585
         ],
         "yaxis": "y"
        },
        {
         "hovertemplate": "Nr=122<br>t_bry=%{x}<br>Score=%{y}<extra></extra>",
         "legendgroup": "122",
         "marker": {
          "color": "#00cc96",
          "symbol": "circle"
         },
         "mode": "markers",
         "name": "122",
         "orientation": "h",
         "showlegend": true,
         "type": "scatter",
         "x": [
          73.119
         ],
         "xaxis": "x",
         "y": [
          0.44025
         ],
         "yaxis": "y"
        },
        {
         "hovertemplate": "Nr=123<br>t_bry=%{x}<br>Score=%{y}<extra></extra>",
         "legendgroup": "123",
         "marker": {
          "color": "#ab63fa",
          "symbol": "circle"
         },
         "mode": "markers",
         "name": "123",
         "orientation": "h",
         "showlegend": true,
         "type": "scatter",
         "x": [
          61.036
         ],
         "xaxis": "x",
         "y": [
          0.32704
         ],
         "yaxis": "y"
        },
        {
         "hovertemplate": "Nr=124<br>t_bry=%{x}<br>Score=%{y}<extra></extra>",
         "legendgroup": "124",
         "marker": {
          "color": "#FFA15A",
          "symbol": "circle"
         },
         "mode": "markers",
         "name": "124",
         "orientation": "h",
         "showlegend": true,
         "type": "scatter",
         "x": [
          50.542
         ],
         "xaxis": "x",
         "y": [
          0.46541
         ],
         "yaxis": "y"
        },
        {
         "hovertemplate": "Nr=125<br>t_bry=%{x}<br>Score=%{y}<extra></extra>",
         "legendgroup": "125",
         "marker": {
          "color": "#19d3f3",
          "symbol": "circle"
         },
         "mode": "markers",
         "name": "125",
         "orientation": "h",
         "showlegend": true,
         "type": "scatter",
         "x": [
          55.125
         ],
         "xaxis": "x",
         "y": [
          0.57862
         ],
         "yaxis": "y"
        },
        {
         "hovertemplate": "Nr=126<br>t_bry=%{x}<br>Score=%{y}<extra></extra>",
         "legendgroup": "126",
         "marker": {
          "color": "#FF6692",
          "symbol": "circle"
         },
         "mode": "markers",
         "name": "126",
         "orientation": "h",
         "showlegend": true,
         "type": "scatter",
         "x": [
          77.91
         ],
         "xaxis": "x",
         "y": [
          0.8239
         ],
         "yaxis": "y"
        },
        {
         "hovertemplate": "Nr=127<br>t_bry=%{x}<br>Score=%{y}<extra></extra>",
         "legendgroup": "127",
         "marker": {
          "color": "#B6E880",
          "symbol": "circle"
         },
         "mode": "markers",
         "name": "127",
         "orientation": "h",
         "showlegend": true,
         "type": "scatter",
         "x": [
          81.767
         ],
         "xaxis": "x",
         "y": [
          0.96855
         ],
         "yaxis": "y"
        },
        {
         "hovertemplate": "Nr=128<br>t_bry=%{x}<br>Score=%{y}<extra></extra>",
         "legendgroup": "128",
         "marker": {
          "color": "#FF97FF",
          "symbol": "circle"
         },
         "mode": "markers",
         "name": "128",
         "orientation": "h",
         "showlegend": true,
         "type": "scatter",
         "x": [
          37.667
         ],
         "xaxis": "x",
         "y": [
          0.85535
         ],
         "yaxis": "y"
        },
        {
         "hovertemplate": "Nr=129<br>t_bry=%{x}<br>Score=%{y}<extra></extra>",
         "legendgroup": "129",
         "marker": {
          "color": "#FECB52",
          "symbol": "circle"
         },
         "mode": "markers",
         "name": "129",
         "orientation": "h",
         "showlegend": true,
         "type": "scatter",
         "x": [
          82.155
         ],
         "xaxis": "x",
         "y": [
          0.45283
         ],
         "yaxis": "y"
        },
        {
         "hovertemplate": "Nr=130<br>t_bry=%{x}<br>Score=%{y}<extra></extra>",
         "legendgroup": "130",
         "marker": {
          "color": "#636efa",
          "symbol": "circle"
         },
         "mode": "markers",
         "name": "130",
         "orientation": "h",
         "showlegend": true,
         "type": "scatter",
         "x": [
          80.7
         ],
         "xaxis": "x",
         "y": [
          0.91824
         ],
         "yaxis": "y"
        },
        {
         "hovertemplate": "Nr=131<br>t_bry=%{x}<br>Score=%{y}<extra></extra>",
         "legendgroup": "131",
         "marker": {
          "color": "#EF553B",
          "symbol": "circle"
         },
         "mode": "markers",
         "name": "131",
         "orientation": "h",
         "showlegend": true,
         "type": "scatter",
         "x": [
          72.556
         ],
         "xaxis": "x",
         "y": [
          0.47799
         ],
         "yaxis": "y"
        },
        {
         "hovertemplate": "Nr=132<br>t_bry=%{x}<br>Score=%{y}<extra></extra>",
         "legendgroup": "132",
         "marker": {
          "color": "#00cc96",
          "symbol": "circle"
         },
         "mode": "markers",
         "name": "132",
         "orientation": "h",
         "showlegend": true,
         "type": "scatter",
         "x": [
          90.557
         ],
         "xaxis": "x",
         "y": [
          0.67296
         ],
         "yaxis": "y"
        },
        {
         "hovertemplate": "Nr=133<br>t_bry=%{x}<br>Score=%{y}<extra></extra>",
         "legendgroup": "133",
         "marker": {
          "color": "#ab63fa",
          "symbol": "circle"
         },
         "mode": "markers",
         "name": "133",
         "orientation": "h",
         "showlegend": true,
         "type": "scatter",
         "x": [
          60
         ],
         "xaxis": "x",
         "y": [
          0.6478
         ],
         "yaxis": "y"
        },
        {
         "hovertemplate": "Nr=134<br>t_bry=%{x}<br>Score=%{y}<extra></extra>",
         "legendgroup": "134",
         "marker": {
          "color": "#FFA15A",
          "symbol": "circle"
         },
         "mode": "markers",
         "name": "134",
         "orientation": "h",
         "showlegend": true,
         "type": "scatter",
         "x": [
          37.988
         ],
         "xaxis": "x",
         "y": [
          0.83019
         ],
         "yaxis": "y"
        },
        {
         "hovertemplate": "Nr=135<br>t_bry=%{x}<br>Score=%{y}<extra></extra>",
         "legendgroup": "135",
         "marker": {
          "color": "#19d3f3",
          "symbol": "circle"
         },
         "mode": "markers",
         "name": "135",
         "orientation": "h",
         "showlegend": true,
         "type": "scatter",
         "x": [
          24
         ],
         "xaxis": "x",
         "y": [
          0.98742
         ],
         "yaxis": "y"
        },
        {
         "hovertemplate": "Nr=136<br>t_bry=%{x}<br>Score=%{y}<extra></extra>",
         "legendgroup": "136",
         "marker": {
          "color": "#FF6692",
          "symbol": "circle"
         },
         "mode": "markers",
         "name": "136",
         "orientation": "h",
         "showlegend": true,
         "type": "scatter",
         "x": [
          24.833
         ],
         "xaxis": "x",
         "y": [
          0.44654
         ],
         "yaxis": "y"
        },
        {
         "hovertemplate": "Nr=137<br>t_bry=%{x}<br>Score=%{y}<extra></extra>",
         "legendgroup": "137",
         "marker": {
          "color": "#B6E880",
          "symbol": "circle"
         },
         "mode": "markers",
         "name": "137",
         "orientation": "h",
         "showlegend": true,
         "type": "scatter",
         "x": [
          74.167
         ],
         "xaxis": "x",
         "y": [
          0.35849
         ],
         "yaxis": "y"
        },
        {
         "hovertemplate": "Nr=138<br>t_bry=%{x}<br>Score=%{y}<extra></extra>",
         "legendgroup": "138",
         "marker": {
          "color": "#FF97FF",
          "symbol": "circle"
         },
         "mode": "markers",
         "name": "138",
         "orientation": "h",
         "showlegend": true,
         "type": "scatter",
         "x": [
          53.095
         ],
         "xaxis": "x",
         "y": [
          0.93082
         ],
         "yaxis": "y"
        },
        {
         "hovertemplate": "Nr=139<br>t_bry=%{x}<br>Score=%{y}<extra></extra>",
         "legendgroup": "139",
         "marker": {
          "color": "#FECB52",
          "symbol": "circle"
         },
         "mode": "markers",
         "name": "139",
         "orientation": "h",
         "showlegend": true,
         "type": "scatter",
         "x": [
          43.619
         ],
         "xaxis": "x",
         "y": [
          0.75472
         ],
         "yaxis": "y"
        },
        {
         "hovertemplate": "Nr=140<br>t_bry=%{x}<br>Score=%{y}<extra></extra>",
         "legendgroup": "140",
         "marker": {
          "color": "#636efa",
          "symbol": "circle"
         },
         "mode": "markers",
         "name": "140",
         "orientation": "h",
         "showlegend": true,
         "type": "scatter",
         "x": [
          60.4
         ],
         "xaxis": "x",
         "y": [
          0.94969
         ],
         "yaxis": "y"
        },
        {
         "hovertemplate": "Nr=141<br>t_bry=%{x}<br>Score=%{y}<extra></extra>",
         "legendgroup": "141",
         "marker": {
          "color": "#EF553B",
          "symbol": "circle"
         },
         "mode": "markers",
         "name": "141",
         "orientation": "h",
         "showlegend": true,
         "type": "scatter",
         "x": [
          41.708
         ],
         "xaxis": "x",
         "y": [
          0.89308
         ],
         "yaxis": "y"
        },
        {
         "hovertemplate": "Nr=142<br>t_bry=%{x}<br>Score=%{y}<extra></extra>",
         "legendgroup": "142",
         "marker": {
          "color": "#00cc96",
          "symbol": "circle"
         },
         "mode": "markers",
         "name": "142",
         "orientation": "h",
         "showlegend": true,
         "type": "scatter",
         "x": [
          53
         ],
         "xaxis": "x",
         "y": [
          0.10063
         ],
         "yaxis": "y"
        },
        {
         "hovertemplate": "Nr=143<br>t_bry=%{x}<br>Score=%{y}<extra></extra>",
         "legendgroup": "143",
         "marker": {
          "color": "#ab63fa",
          "symbol": "circle"
         },
         "mode": "markers",
         "name": "143",
         "orientation": "h",
         "showlegend": true,
         "type": "scatter",
         "x": [
          26.429
         ],
         "xaxis": "x",
         "y": [
          0.71069
         ],
         "yaxis": "y"
        },
        {
         "hovertemplate": "Nr=144<br>t_bry=%{x}<br>Score=%{y}<extra></extra>",
         "legendgroup": "144",
         "marker": {
          "color": "#FFA15A",
          "symbol": "circle"
         },
         "mode": "markers",
         "name": "144",
         "orientation": "h",
         "showlegend": true,
         "type": "scatter",
         "x": [
          48.192
         ],
         "xaxis": "x",
         "y": [
          0.81132
         ],
         "yaxis": "y"
        },
        {
         "hovertemplate": "Nr=145<br>t_bry=%{x}<br>Score=%{y}<extra></extra>",
         "legendgroup": "145",
         "marker": {
          "color": "#19d3f3",
          "symbol": "circle"
         },
         "mode": "markers",
         "name": "145",
         "orientation": "h",
         "showlegend": true,
         "type": "scatter",
         "x": [
          26.333
         ],
         "xaxis": "x",
         "y": [
          0.99371
         ],
         "yaxis": "y"
        },
        {
         "hovertemplate": "Nr=146<br>t_bry=%{x}<br>Score=%{y}<extra></extra>",
         "legendgroup": "146",
         "marker": {
          "color": "#FF6692",
          "symbol": "circle"
         },
         "mode": "markers",
         "name": "146",
         "orientation": "h",
         "showlegend": true,
         "type": "scatter",
         "x": [
          67.714
         ],
         "xaxis": "x",
         "y": [
          0.8805
         ],
         "yaxis": "y"
        },
        {
         "hovertemplate": "Nr=147<br>t_bry=%{x}<br>Score=%{y}<extra></extra>",
         "legendgroup": "147",
         "marker": {
          "color": "#B6E880",
          "symbol": "circle"
         },
         "mode": "markers",
         "name": "147",
         "orientation": "h",
         "showlegend": true,
         "type": "scatter",
         "x": [
          36.5
         ],
         "xaxis": "x",
         "y": [
          0.96226
         ],
         "yaxis": "y"
        },
        {
         "hovertemplate": "Nr=148<br>t_bry=%{x}<br>Score=%{y}<extra></extra>",
         "legendgroup": "148",
         "marker": {
          "color": "#FF97FF",
          "symbol": "circle"
         },
         "mode": "markers",
         "name": "148",
         "orientation": "h",
         "showlegend": true,
         "type": "scatter",
         "x": [
          63.648
         ],
         "xaxis": "x",
         "y": [
          0.79245
         ],
         "yaxis": "y"
        },
        {
         "hovertemplate": "Nr=149<br>t_bry=%{x}<br>Score=%{y}<extra></extra>",
         "legendgroup": "149",
         "marker": {
          "color": "#FECB52",
          "symbol": "circle"
         },
         "mode": "markers",
         "name": "149",
         "orientation": "h",
         "showlegend": true,
         "type": "scatter",
         "x": [
          46.972
         ],
         "xaxis": "x",
         "y": [
          0.89937
         ],
         "yaxis": "y"
        },
        {
         "hovertemplate": "Nr=150<br>t_bry=%{x}<br>Score=%{y}<extra></extra>",
         "legendgroup": "150",
         "marker": {
          "color": "#636efa",
          "symbol": "circle"
         },
         "mode": "markers",
         "name": "150",
         "orientation": "h",
         "showlegend": true,
         "type": "scatter",
         "x": [
          46.944
         ],
         "xaxis": "x",
         "y": [
          0.86792
         ],
         "yaxis": "y"
        },
        {
         "hovertemplate": "Nr=151<br>t_bry=%{x}<br>Score=%{y}<extra></extra>",
         "legendgroup": "151",
         "marker": {
          "color": "#EF553B",
          "symbol": "circle"
         },
         "mode": "markers",
         "name": "151",
         "orientation": "h",
         "showlegend": true,
         "type": "scatter",
         "x": [
          40.5
         ],
         "xaxis": "x",
         "y": [
          0.64151
         ],
         "yaxis": "y"
        },
        {
         "hovertemplate": "Nr=152<br>t_bry=%{x}<br>Score=%{y}<extra></extra>",
         "legendgroup": "152",
         "marker": {
          "color": "#00cc96",
          "symbol": "circle"
         },
         "mode": "markers",
         "name": "152",
         "orientation": "h",
         "showlegend": true,
         "type": "scatter",
         "x": [
          39
         ],
         "xaxis": "x",
         "y": [
          0.92453
         ],
         "yaxis": "y"
        },
        {
         "hovertemplate": "Nr=153<br>t_bry=%{x}<br>Score=%{y}<extra></extra>",
         "legendgroup": "153",
         "marker": {
          "color": "#ab63fa",
          "symbol": "circle"
         },
         "mode": "markers",
         "name": "153",
         "orientation": "h",
         "showlegend": true,
         "type": "scatter",
         "x": [
          23.667
         ],
         "xaxis": "x",
         "y": [
          1
         ],
         "yaxis": "y"
        },
        {
         "hovertemplate": "Nr=154<br>t_bry=%{x}<br>Score=%{y}<extra></extra>",
         "legendgroup": "154",
         "marker": {
          "color": "#FFA15A",
          "symbol": "circle"
         },
         "mode": "markers",
         "name": "154",
         "orientation": "h",
         "showlegend": true,
         "type": "scatter",
         "x": [
          44.286
         ],
         "xaxis": "x",
         "y": [
          0.83648
         ],
         "yaxis": "y"
        },
        {
         "hovertemplate": "Nr=155<br>t_bry=%{x}<br>Score=%{y}<extra></extra>",
         "legendgroup": "155",
         "marker": {
          "color": "#19d3f3",
          "symbol": "circle"
         },
         "mode": "markers",
         "name": "155",
         "orientation": "h",
         "showlegend": true,
         "type": "scatter",
         "x": [
          35.667
         ],
         "xaxis": "x",
         "y": [
          0.68553
         ],
         "yaxis": "y"
        },
        {
         "hovertemplate": "Nr=156<br>t_bry=%{x}<br>Score=%{y}<extra></extra>",
         "legendgroup": "156",
         "marker": {
          "color": "#FF6692",
          "symbol": "circle"
         },
         "mode": "markers",
         "name": "156",
         "orientation": "h",
         "showlegend": true,
         "type": "scatter",
         "x": [
          83.333
         ],
         "xaxis": "x",
         "y": [
          0.77987
         ],
         "yaxis": "y"
        },
        {
         "hovertemplate": "Nr=157<br>t_bry=%{x}<br>Score=%{y}<extra></extra>",
         "legendgroup": "157",
         "marker": {
          "color": "#B6E880",
          "symbol": "circle"
         },
         "mode": "markers",
         "name": "157",
         "orientation": "h",
         "showlegend": true,
         "type": "scatter",
         "x": [
          66.25
         ],
         "xaxis": "x",
         "y": [
          0.95597
         ],
         "yaxis": "y"
        },
        {
         "hovertemplate": "Nr=158<br>t_bry=%{x}<br>Score=%{y}<extra></extra>",
         "legendgroup": "158",
         "marker": {
          "color": "#FF97FF",
          "symbol": "circle"
         },
         "mode": "markers",
         "name": "158",
         "orientation": "h",
         "showlegend": true,
         "type": "scatter",
         "x": [
          40.971
         ],
         "xaxis": "x",
         "y": [
          0.98113
         ],
         "yaxis": "y"
        },
        {
         "hovertemplate": "Nr=159<br>t_bry=%{x}<br>Score=%{y}<extra></extra>",
         "legendgroup": "159",
         "marker": {
          "color": "#FECB52",
          "symbol": "circle"
         },
         "mode": "markers",
         "name": "159",
         "orientation": "h",
         "showlegend": true,
         "type": "scatter",
         "x": [
          57.2
         ],
         "xaxis": "x",
         "y": [
          0.91195
         ],
         "yaxis": "y"
        },
        {
         "hovertemplate": "<b>OLS trendline</b><br>Score = -0.00418657 * t_bry + 0.889838<br>R<sup>2</sup>=0.399734<br><br>t_bry=%{x}<br>Score=%{y} <b>(trend)</b><extra></extra>",
         "legendgroup": "Overall Trendline",
         "line": {
          "color": "#636efa"
         },
         "mode": "lines",
         "name": "Overall Trendline",
         "showlegend": true,
         "type": "scatter",
         "x": [
          23.667,
          24,
          24.833,
          26.333,
          26.429,
          27.7,
          31.5,
          35.667,
          36.5,
          37.667,
          37.988,
          38.333,
          38.667,
          39,
          40.5,
          40.971,
          41.708,
          43.5,
          43.619,
          43.783,
          44.167,
          44.182,
          44.286,
          45.8,
          46.667,
          46.944,
          46.972,
          48.192,
          48.967,
          50,
          50.286,
          50.542,
          53,
          53.095,
          54,
          54.619,
          55.125,
          56.633,
          57.2,
          60,
          60.314,
          60.333,
          60.4,
          61.036,
          61.833,
          62.333,
          63.321,
          63.648,
          63.833,
          63.967,
          65.417,
          66.25,
          67.714,
          69,
          70,
          70.167,
          72.333,
          72.448,
          72.556,
          72.948,
          73,
          73.119,
          74.167,
          75,
          75.321,
          76.41,
          77.583,
          77.786,
          77.91,
          78.2,
          78.814,
          80.7,
          81.767,
          81.917,
          82.155,
          82.155,
          82.8,
          82.988,
          83.333,
          84.083,
          84.119,
          84.619,
          88.443,
          89.667,
          90.557,
          91.167,
          92,
          93.314,
          94.069,
          94.076,
          94.529,
          95.452,
          95.661,
          96.214,
          98.397,
          98.778,
          99.4,
          103.348,
          103.967,
          104.264,
          105.216,
          105.417,
          105.917,
          106.578,
          106.581,
          106.978,
          110.238,
          111.109,
          111.571,
          111.627,
          111.933,
          113.271,
          114.159,
          114.778,
          115.25,
          115.833,
          116,
          116.036,
          116.048,
          118.95,
          119.856,
          120.433,
          121.533,
          122.229,
          122.298,
          123.2,
          124.607,
          124.73,
          125.283,
          126.844,
          128.611,
          132.767,
          140.4,
          142.081,
          144.833,
          144.842,
          145.007,
          146.611,
          147.814,
          152.798,
          153.307,
          157.883,
          159.948,
          160.167,
          161.679,
          162.4,
          163.348,
          164.523,
          165.795,
          166.405,
          167.667,
          170.531,
          175.229,
          176.7,
          181.564,
          187.786,
          198.844,
          199.616,
          203.2,
          227.589
         ],
         "xaxis": "x",
         "y": [
          0.7907540054756165,
          0.7893598770875287,
          0.7858724628314413,
          0.7795926052274423,
          0.7791906943407864,
          0.7738695616643313,
          0.7579605890675338,
          0.7405151446436248,
          0.7370277303875373,
          0.7321420011716262,
          0.7307981116443704,
          0.7293537443954506,
          0.7279554294356269,
          0.7265613010475391,
          0.7202814434435402,
          0.7183095681558844,
          0.715224064786453,
          0.7077217282355422,
          0.7072235261989583,
          0.7065369284342544,
          0.7049292848876307,
          0.7048664863115907,
          0.7044310828510467,
          0.6980926132427439,
          0.6944628555476324,
          0.6933031751767607,
          0.6931859511681526,
          0.6880783336502335,
          0.684833740554834,
          0.6805090119515467,
          0.6793116524350509,
          0.6782398900706351,
          0.6679492967435489,
          0.667551572428629,
          0.6637627250075495,
          0.6611712371029659,
          0.6590528318045503,
          0.6527394816266634,
          0.6503656954523518,
          0.6386432945915537,
          0.6373287110664498,
          0.6372491662034658,
          0.636968665897154,
          0.6343060062730583,
          0.630969308599467,
          0.6288760227314674,
          0.6247396898563,
          0.6233706808986281,
          0.6225961651274683,
          0.6220351645148444,
          0.6159646354976454,
          0.612477221241558,
          0.606348080220055,
          0.6009641489675599,
          0.5967775772315607,
          0.5960784197516487,
          0.5870103053714743,
          0.5865288496218344,
          0.5860766998743464,
          0.5844355637538348,
          0.5842178620235627,
          0.5837196599869787,
          0.5793321328076515,
          0.575844718551564,
          0.5745008290243083,
          0.569941652403805,
          0.5650308037574778,
          0.5641809296950699,
          0.5636617947998062,
          0.5624476889963663,
          0.5598771339504628,
          0.551981259656368,
          0.5475141876140568,
          0.5468862018536569,
          0.5458897977804891,
          0.5458897977804891,
          0.5431894590107695,
          0.5424023835244016,
          0.5409580162754819,
          0.5378180874734824,
          0.5376673708909865,
          0.5355740850229868,
          0.5195646347045254,
          0.5144402708996623,
          0.5107142220546228,
          0.5081604132956633,
          0.504672999039576,
          0.49917184377847285,
          0.4960109821177933,
          0.49598167611564137,
          0.4940851591192337,
          0.4902209534069063,
          0.4893459599140824,
          0.4870307857440748,
          0.4778914996443883,
          0.47629641581297255,
          0.473692368193181,
          0.45716378297945576,
          0.4545722950748722,
          0.45332888326928045,
          0.4493432669766091,
          0.4485017660576732,
          0.44640848018967355,
          0.443641156272178,
          0.44362859655697,
          0.4419665275777783,
          0.42831830371842056,
          0.42467179973636515,
          0.4227376035943335,
          0.42250315557711754,
          0.4212220646259017,
          0.41562043164313467,
          0.4119027559415672,
          0.4093112680369837,
          0.40733520617759206,
          0.40489443485550447,
          0.4041952773755926,
          0.4040445607930966,
          0.4039943219322646,
          0.3918448907543946,
          0.3880518567615793,
          0.3856362048699076,
          0.38103097596030844,
          0.37811712203205283,
          0.37782824858226893,
          0.3740519608763976,
          0.3681614544438465,
          0.3676465061203186,
          0.365331331950311,
          0.3587960934704161,
          0.3513984212129053,
          0.3339990290780922,
          0.3020429270172095,
          0.2950052999289947,
          0.2834838545115246,
          0.28344617536590055,
          0.2827553910294607,
          0.2760401299649179,
          0.27100368416651066,
          0.2501378106342901,
          0.24800684562066655,
          0.22884909335673354,
          0.22020382272189498,
          0.21928696351171117,
          0.21295686704688022,
          0.20993834882522477,
          0.20596947881949734,
          0.20105025702969825,
          0.19572493778150712,
          0.19317112902254752,
          0.18788767549171637,
          0.17589733403981433,
          0.15622882002408967,
          0.1500703730004347,
          0.12970688807653408,
          0.10365803873514634,
          0.057362928478466135,
          0.05413089509827451,
          0.0391262219964531,
          -0.06298007607283396
         ],
         "yaxis": "y"
        }
       ],
       "layout": {
        "height": 400,
        "legend": {
         "title": {
          "text": "Nr"
         },
         "tracegroupgap": 0
        },
        "showlegend": false,
        "template": {
         "data": {
          "bar": [
           {
            "error_x": {
             "color": "#2a3f5f"
            },
            "error_y": {
             "color": "#2a3f5f"
            },
            "marker": {
             "line": {
              "color": "#E5ECF6",
              "width": 0.5
             },
             "pattern": {
              "fillmode": "overlay",
              "size": 10,
              "solidity": 0.2
             }
            },
            "type": "bar"
           }
          ],
          "barpolar": [
           {
            "marker": {
             "line": {
              "color": "#E5ECF6",
              "width": 0.5
             },
             "pattern": {
              "fillmode": "overlay",
              "size": 10,
              "solidity": 0.2
             }
            },
            "type": "barpolar"
           }
          ],
          "carpet": [
           {
            "aaxis": {
             "endlinecolor": "#2a3f5f",
             "gridcolor": "white",
             "linecolor": "white",
             "minorgridcolor": "white",
             "startlinecolor": "#2a3f5f"
            },
            "baxis": {
             "endlinecolor": "#2a3f5f",
             "gridcolor": "white",
             "linecolor": "white",
             "minorgridcolor": "white",
             "startlinecolor": "#2a3f5f"
            },
            "type": "carpet"
           }
          ],
          "choropleth": [
           {
            "colorbar": {
             "outlinewidth": 0,
             "ticks": ""
            },
            "type": "choropleth"
           }
          ],
          "contour": [
           {
            "colorbar": {
             "outlinewidth": 0,
             "ticks": ""
            },
            "colorscale": [
             [
              0,
              "#0d0887"
             ],
             [
              0.1111111111111111,
              "#46039f"
             ],
             [
              0.2222222222222222,
              "#7201a8"
             ],
             [
              0.3333333333333333,
              "#9c179e"
             ],
             [
              0.4444444444444444,
              "#bd3786"
             ],
             [
              0.5555555555555556,
              "#d8576b"
             ],
             [
              0.6666666666666666,
              "#ed7953"
             ],
             [
              0.7777777777777778,
              "#fb9f3a"
             ],
             [
              0.8888888888888888,
              "#fdca26"
             ],
             [
              1,
              "#f0f921"
             ]
            ],
            "type": "contour"
           }
          ],
          "contourcarpet": [
           {
            "colorbar": {
             "outlinewidth": 0,
             "ticks": ""
            },
            "type": "contourcarpet"
           }
          ],
          "heatmap": [
           {
            "colorbar": {
             "outlinewidth": 0,
             "ticks": ""
            },
            "colorscale": [
             [
              0,
              "#0d0887"
             ],
             [
              0.1111111111111111,
              "#46039f"
             ],
             [
              0.2222222222222222,
              "#7201a8"
             ],
             [
              0.3333333333333333,
              "#9c179e"
             ],
             [
              0.4444444444444444,
              "#bd3786"
             ],
             [
              0.5555555555555556,
              "#d8576b"
             ],
             [
              0.6666666666666666,
              "#ed7953"
             ],
             [
              0.7777777777777778,
              "#fb9f3a"
             ],
             [
              0.8888888888888888,
              "#fdca26"
             ],
             [
              1,
              "#f0f921"
             ]
            ],
            "type": "heatmap"
           }
          ],
          "heatmapgl": [
           {
            "colorbar": {
             "outlinewidth": 0,
             "ticks": ""
            },
            "colorscale": [
             [
              0,
              "#0d0887"
             ],
             [
              0.1111111111111111,
              "#46039f"
             ],
             [
              0.2222222222222222,
              "#7201a8"
             ],
             [
              0.3333333333333333,
              "#9c179e"
             ],
             [
              0.4444444444444444,
              "#bd3786"
             ],
             [
              0.5555555555555556,
              "#d8576b"
             ],
             [
              0.6666666666666666,
              "#ed7953"
             ],
             [
              0.7777777777777778,
              "#fb9f3a"
             ],
             [
              0.8888888888888888,
              "#fdca26"
             ],
             [
              1,
              "#f0f921"
             ]
            ],
            "type": "heatmapgl"
           }
          ],
          "histogram": [
           {
            "marker": {
             "pattern": {
              "fillmode": "overlay",
              "size": 10,
              "solidity": 0.2
             }
            },
            "type": "histogram"
           }
          ],
          "histogram2d": [
           {
            "colorbar": {
             "outlinewidth": 0,
             "ticks": ""
            },
            "colorscale": [
             [
              0,
              "#0d0887"
             ],
             [
              0.1111111111111111,
              "#46039f"
             ],
             [
              0.2222222222222222,
              "#7201a8"
             ],
             [
              0.3333333333333333,
              "#9c179e"
             ],
             [
              0.4444444444444444,
              "#bd3786"
             ],
             [
              0.5555555555555556,
              "#d8576b"
             ],
             [
              0.6666666666666666,
              "#ed7953"
             ],
             [
              0.7777777777777778,
              "#fb9f3a"
             ],
             [
              0.8888888888888888,
              "#fdca26"
             ],
             [
              1,
              "#f0f921"
             ]
            ],
            "type": "histogram2d"
           }
          ],
          "histogram2dcontour": [
           {
            "colorbar": {
             "outlinewidth": 0,
             "ticks": ""
            },
            "colorscale": [
             [
              0,
              "#0d0887"
             ],
             [
              0.1111111111111111,
              "#46039f"
             ],
             [
              0.2222222222222222,
              "#7201a8"
             ],
             [
              0.3333333333333333,
              "#9c179e"
             ],
             [
              0.4444444444444444,
              "#bd3786"
             ],
             [
              0.5555555555555556,
              "#d8576b"
             ],
             [
              0.6666666666666666,
              "#ed7953"
             ],
             [
              0.7777777777777778,
              "#fb9f3a"
             ],
             [
              0.8888888888888888,
              "#fdca26"
             ],
             [
              1,
              "#f0f921"
             ]
            ],
            "type": "histogram2dcontour"
           }
          ],
          "mesh3d": [
           {
            "colorbar": {
             "outlinewidth": 0,
             "ticks": ""
            },
            "type": "mesh3d"
           }
          ],
          "parcoords": [
           {
            "line": {
             "colorbar": {
              "outlinewidth": 0,
              "ticks": ""
             }
            },
            "type": "parcoords"
           }
          ],
          "pie": [
           {
            "automargin": true,
            "type": "pie"
           }
          ],
          "scatter": [
           {
            "fillpattern": {
             "fillmode": "overlay",
             "size": 10,
             "solidity": 0.2
            },
            "type": "scatter"
           }
          ],
          "scatter3d": [
           {
            "line": {
             "colorbar": {
              "outlinewidth": 0,
              "ticks": ""
             }
            },
            "marker": {
             "colorbar": {
              "outlinewidth": 0,
              "ticks": ""
             }
            },
            "type": "scatter3d"
           }
          ],
          "scattercarpet": [
           {
            "marker": {
             "colorbar": {
              "outlinewidth": 0,
              "ticks": ""
             }
            },
            "type": "scattercarpet"
           }
          ],
          "scattergeo": [
           {
            "marker": {
             "colorbar": {
              "outlinewidth": 0,
              "ticks": ""
             }
            },
            "type": "scattergeo"
           }
          ],
          "scattergl": [
           {
            "marker": {
             "colorbar": {
              "outlinewidth": 0,
              "ticks": ""
             }
            },
            "type": "scattergl"
           }
          ],
          "scattermapbox": [
           {
            "marker": {
             "colorbar": {
              "outlinewidth": 0,
              "ticks": ""
             }
            },
            "type": "scattermapbox"
           }
          ],
          "scatterpolar": [
           {
            "marker": {
             "colorbar": {
              "outlinewidth": 0,
              "ticks": ""
             }
            },
            "type": "scatterpolar"
           }
          ],
          "scatterpolargl": [
           {
            "marker": {
             "colorbar": {
              "outlinewidth": 0,
              "ticks": ""
             }
            },
            "type": "scatterpolargl"
           }
          ],
          "scatterternary": [
           {
            "marker": {
             "colorbar": {
              "outlinewidth": 0,
              "ticks": ""
             }
            },
            "type": "scatterternary"
           }
          ],
          "surface": [
           {
            "colorbar": {
             "outlinewidth": 0,
             "ticks": ""
            },
            "colorscale": [
             [
              0,
              "#0d0887"
             ],
             [
              0.1111111111111111,
              "#46039f"
             ],
             [
              0.2222222222222222,
              "#7201a8"
             ],
             [
              0.3333333333333333,
              "#9c179e"
             ],
             [
              0.4444444444444444,
              "#bd3786"
             ],
             [
              0.5555555555555556,
              "#d8576b"
             ],
             [
              0.6666666666666666,
              "#ed7953"
             ],
             [
              0.7777777777777778,
              "#fb9f3a"
             ],
             [
              0.8888888888888888,
              "#fdca26"
             ],
             [
              1,
              "#f0f921"
             ]
            ],
            "type": "surface"
           }
          ],
          "table": [
           {
            "cells": {
             "fill": {
              "color": "#EBF0F8"
             },
             "line": {
              "color": "white"
             }
            },
            "header": {
             "fill": {
              "color": "#C8D4E3"
             },
             "line": {
              "color": "white"
             }
            },
            "type": "table"
           }
          ]
         },
         "layout": {
          "annotationdefaults": {
           "arrowcolor": "#2a3f5f",
           "arrowhead": 0,
           "arrowwidth": 1
          },
          "autotypenumbers": "strict",
          "coloraxis": {
           "colorbar": {
            "outlinewidth": 0,
            "ticks": ""
           }
          },
          "colorscale": {
           "diverging": [
            [
             0,
             "#8e0152"
            ],
            [
             0.1,
             "#c51b7d"
            ],
            [
             0.2,
             "#de77ae"
            ],
            [
             0.3,
             "#f1b6da"
            ],
            [
             0.4,
             "#fde0ef"
            ],
            [
             0.5,
             "#f7f7f7"
            ],
            [
             0.6,
             "#e6f5d0"
            ],
            [
             0.7,
             "#b8e186"
            ],
            [
             0.8,
             "#7fbc41"
            ],
            [
             0.9,
             "#4d9221"
            ],
            [
             1,
             "#276419"
            ]
           ],
           "sequential": [
            [
             0,
             "#0d0887"
            ],
            [
             0.1111111111111111,
             "#46039f"
            ],
            [
             0.2222222222222222,
             "#7201a8"
            ],
            [
             0.3333333333333333,
             "#9c179e"
            ],
            [
             0.4444444444444444,
             "#bd3786"
            ],
            [
             0.5555555555555556,
             "#d8576b"
            ],
            [
             0.6666666666666666,
             "#ed7953"
            ],
            [
             0.7777777777777778,
             "#fb9f3a"
            ],
            [
             0.8888888888888888,
             "#fdca26"
            ],
            [
             1,
             "#f0f921"
            ]
           ],
           "sequentialminus": [
            [
             0,
             "#0d0887"
            ],
            [
             0.1111111111111111,
             "#46039f"
            ],
            [
             0.2222222222222222,
             "#7201a8"
            ],
            [
             0.3333333333333333,
             "#9c179e"
            ],
            [
             0.4444444444444444,
             "#bd3786"
            ],
            [
             0.5555555555555556,
             "#d8576b"
            ],
            [
             0.6666666666666666,
             "#ed7953"
            ],
            [
             0.7777777777777778,
             "#fb9f3a"
            ],
            [
             0.8888888888888888,
             "#fdca26"
            ],
            [
             1,
             "#f0f921"
            ]
           ]
          },
          "colorway": [
           "#636efa",
           "#EF553B",
           "#00cc96",
           "#ab63fa",
           "#FFA15A",
           "#19d3f3",
           "#FF6692",
           "#B6E880",
           "#FF97FF",
           "#FECB52"
          ],
          "font": {
           "color": "#2a3f5f"
          },
          "geo": {
           "bgcolor": "white",
           "lakecolor": "white",
           "landcolor": "#E5ECF6",
           "showlakes": true,
           "showland": true,
           "subunitcolor": "white"
          },
          "hoverlabel": {
           "align": "left"
          },
          "hovermode": "closest",
          "mapbox": {
           "style": "light"
          },
          "paper_bgcolor": "white",
          "plot_bgcolor": "#E5ECF6",
          "polar": {
           "angularaxis": {
            "gridcolor": "white",
            "linecolor": "white",
            "ticks": ""
           },
           "bgcolor": "#E5ECF6",
           "radialaxis": {
            "gridcolor": "white",
            "linecolor": "white",
            "ticks": ""
           }
          },
          "scene": {
           "xaxis": {
            "backgroundcolor": "#E5ECF6",
            "gridcolor": "white",
            "gridwidth": 2,
            "linecolor": "white",
            "showbackground": true,
            "ticks": "",
            "zerolinecolor": "white"
           },
           "yaxis": {
            "backgroundcolor": "#E5ECF6",
            "gridcolor": "white",
            "gridwidth": 2,
            "linecolor": "white",
            "showbackground": true,
            "ticks": "",
            "zerolinecolor": "white"
           },
           "zaxis": {
            "backgroundcolor": "#E5ECF6",
            "gridcolor": "white",
            "gridwidth": 2,
            "linecolor": "white",
            "showbackground": true,
            "ticks": "",
            "zerolinecolor": "white"
           }
          },
          "shapedefaults": {
           "line": {
            "color": "#2a3f5f"
           }
          },
          "ternary": {
           "aaxis": {
            "gridcolor": "white",
            "linecolor": "white",
            "ticks": ""
           },
           "baxis": {
            "gridcolor": "white",
            "linecolor": "white",
            "ticks": ""
           },
           "bgcolor": "#E5ECF6",
           "caxis": {
            "gridcolor": "white",
            "linecolor": "white",
            "ticks": ""
           }
          },
          "title": {
           "x": 0.05
          },
          "xaxis": {
           "automargin": true,
           "gridcolor": "white",
           "linecolor": "white",
           "ticks": "",
           "title": {
            "standoff": 15
           },
           "zerolinecolor": "white",
           "zerolinewidth": 2
          },
          "yaxis": {
           "automargin": true,
           "gridcolor": "white",
           "linecolor": "white",
           "ticks": "",
           "title": {
            "standoff": 15
           },
           "zerolinecolor": "white",
           "zerolinewidth": 2
          }
         }
        },
        "title": {
         "text": "Correlation between amount of smog and Score"
        },
        "width": 800,
        "xaxis": {
         "anchor": "y",
         "domain": [
          0,
          1
         ],
         "title": {
          "text": "t_bry"
         }
        },
        "yaxis": {
         "anchor": "x",
         "domain": [
          0,
          1
         ],
         "title": {
          "text": "Score"
         }
        }
       }
      }
     },
     "metadata": {},
     "output_type": "display_data"
    }
   ],
   "source": [
    "aoaCorrelation(df)"
   ]
  },
  {
   "cell_type": "code",
   "execution_count": 25,
   "metadata": {},
   "outputs": [
    {
     "name": "stdout",
     "output_type": "stream",
     "text": [
      "The Pearson correlation coefficient between Score and Nomen is: -0.640, p: 0.000.\n"
     ]
    },
    {
     "data": {
      "application/vnd.plotly.v1+json": {
       "config": {
        "plotlyServerURL": "https://plot.ly"
       },
       "data": [
        {
         "hovertemplate": "Nr=0<br>t_kup=%{x}<br>Score=%{y}<extra></extra>",
         "legendgroup": "0",
         "marker": {
          "color": "#636efa",
          "symbol": "circle"
         },
         "mode": "markers",
         "name": "0",
         "orientation": "h",
         "showlegend": true,
         "type": "scatter",
         "x": [
          112.04
         ],
         "xaxis": "x",
         "y": [
          0.31447
         ],
         "yaxis": "y"
        },
        {
         "hovertemplate": "Nr=1<br>t_kup=%{x}<br>Score=%{y}<extra></extra>",
         "legendgroup": "1",
         "marker": {
          "color": "#EF553B",
          "symbol": "circle"
         },
         "mode": "markers",
         "name": "1",
         "orientation": "h",
         "showlegend": true,
         "type": "scatter",
         "x": [
          129.49
         ],
         "xaxis": "x",
         "y": [
          0.30818
         ],
         "yaxis": "y"
        },
        {
         "hovertemplate": "Nr=2<br>t_kup=%{x}<br>Score=%{y}<extra></extra>",
         "legendgroup": "2",
         "marker": {
          "color": "#00cc96",
          "symbol": "circle"
         },
         "mode": "markers",
         "name": "2",
         "orientation": "h",
         "showlegend": true,
         "type": "scatter",
         "x": [
          32.81
         ],
         "xaxis": "x",
         "y": [
          0.84906
         ],
         "yaxis": "y"
        },
        {
         "hovertemplate": "Nr=3<br>t_kup=%{x}<br>Score=%{y}<extra></extra>",
         "legendgroup": "3",
         "marker": {
          "color": "#ab63fa",
          "symbol": "circle"
         },
         "mode": "markers",
         "name": "3",
         "orientation": "h",
         "showlegend": true,
         "type": "scatter",
         "x": [
          52.92
         ],
         "xaxis": "x",
         "y": [
          0.97484
         ],
         "yaxis": "y"
        },
        {
         "hovertemplate": "Nr=4<br>t_kup=%{x}<br>Score=%{y}<extra></extra>",
         "legendgroup": "4",
         "marker": {
          "color": "#FFA15A",
          "symbol": "circle"
         },
         "mode": "markers",
         "name": "4",
         "orientation": "h",
         "showlegend": true,
         "type": "scatter",
         "x": [
          101.73
         ],
         "xaxis": "x",
         "y": [
          0.2956
         ],
         "yaxis": "y"
        },
        {
         "hovertemplate": "Nr=5<br>t_kup=%{x}<br>Score=%{y}<extra></extra>",
         "legendgroup": "5",
         "marker": {
          "color": "#19d3f3",
          "symbol": "circle"
         },
         "mode": "markers",
         "name": "5",
         "orientation": "h",
         "showlegend": true,
         "type": "scatter",
         "x": [
          55.59
         ],
         "xaxis": "x",
         "y": [
          0.57233
         ],
         "yaxis": "y"
        },
        {
         "hovertemplate": "Nr=6<br>t_kup=%{x}<br>Score=%{y}<extra></extra>",
         "legendgroup": "6",
         "marker": {
          "color": "#FF6692",
          "symbol": "circle"
         },
         "mode": "markers",
         "name": "6",
         "orientation": "h",
         "showlegend": true,
         "type": "scatter",
         "x": [
          85.88
         ],
         "xaxis": "x",
         "y": [
          0.22013
         ],
         "yaxis": "y"
        },
        {
         "hovertemplate": "Nr=7<br>t_kup=%{x}<br>Score=%{y}<extra></extra>",
         "legendgroup": "7",
         "marker": {
          "color": "#B6E880",
          "symbol": "circle"
         },
         "mode": "markers",
         "name": "7",
         "orientation": "h",
         "showlegend": true,
         "type": "scatter",
         "x": [
          121.11
         ],
         "xaxis": "x",
         "y": [
          0.32075
         ],
         "yaxis": "y"
        },
        {
         "hovertemplate": "Nr=8<br>t_kup=%{x}<br>Score=%{y}<extra></extra>",
         "legendgroup": "8",
         "marker": {
          "color": "#FF97FF",
          "symbol": "circle"
         },
         "mode": "markers",
         "name": "8",
         "orientation": "h",
         "showlegend": true,
         "type": "scatter",
         "x": [
          78.64
         ],
         "xaxis": "x",
         "y": [
          0.1195
         ],
         "yaxis": "y"
        },
        {
         "hovertemplate": "Nr=9<br>t_kup=%{x}<br>Score=%{y}<extra></extra>",
         "legendgroup": "9",
         "marker": {
          "color": "#FECB52",
          "symbol": "circle"
         },
         "mode": "markers",
         "name": "9",
         "orientation": "h",
         "showlegend": true,
         "type": "scatter",
         "x": [
          117.81
         ],
         "xaxis": "x",
         "y": [
          0.66038
         ],
         "yaxis": "y"
        },
        {
         "hovertemplate": "Nr=10<br>t_kup=%{x}<br>Score=%{y}<extra></extra>",
         "legendgroup": "10",
         "marker": {
          "color": "#636efa",
          "symbol": "circle"
         },
         "mode": "markers",
         "name": "10",
         "orientation": "h",
         "showlegend": true,
         "type": "scatter",
         "x": [
          118.42
         ],
         "xaxis": "x",
         "y": [
          0.4717
         ],
         "yaxis": "y"
        },
        {
         "hovertemplate": "Nr=11<br>t_kup=%{x}<br>Score=%{y}<extra></extra>",
         "legendgroup": "11",
         "marker": {
          "color": "#EF553B",
          "symbol": "circle"
         },
         "mode": "markers",
         "name": "11",
         "orientation": "h",
         "showlegend": true,
         "type": "scatter",
         "x": [
          80.26
         ],
         "xaxis": "x",
         "y": [
          0.28302
         ],
         "yaxis": "y"
        },
        {
         "hovertemplate": "Nr=12<br>t_kup=%{x}<br>Score=%{y}<extra></extra>",
         "legendgroup": "12",
         "marker": {
          "color": "#00cc96",
          "symbol": "circle"
         },
         "mode": "markers",
         "name": "12",
         "orientation": "h",
         "showlegend": true,
         "type": "scatter",
         "x": [
          142.39
         ],
         "xaxis": "x",
         "y": [
          0.67925
         ],
         "yaxis": "y"
        },
        {
         "hovertemplate": "Nr=13<br>t_kup=%{x}<br>Score=%{y}<extra></extra>",
         "legendgroup": "13",
         "marker": {
          "color": "#ab63fa",
          "symbol": "circle"
         },
         "mode": "markers",
         "name": "13",
         "orientation": "h",
         "showlegend": true,
         "type": "scatter",
         "x": [
          61.18
         ],
         "xaxis": "x",
         "y": [
          0.9434
         ],
         "yaxis": "y"
        },
        {
         "hovertemplate": "Nr=14<br>t_kup=%{x}<br>Score=%{y}<extra></extra>",
         "legendgroup": "14",
         "marker": {
          "color": "#FFA15A",
          "symbol": "circle"
         },
         "mode": "markers",
         "name": "14",
         "orientation": "h",
         "showlegend": true,
         "type": "scatter",
         "x": [
          39.53
         ],
         "xaxis": "x",
         "y": [
          0.76101
         ],
         "yaxis": "y"
        },
        {
         "hovertemplate": "Nr=15<br>t_kup=%{x}<br>Score=%{y}<extra></extra>",
         "legendgroup": "15",
         "marker": {
          "color": "#19d3f3",
          "symbol": "circle"
         },
         "mode": "markers",
         "name": "15",
         "orientation": "h",
         "showlegend": true,
         "type": "scatter",
         "x": [
          177.47
         ],
         "xaxis": "x",
         "y": [
          0.01258
         ],
         "yaxis": "y"
        },
        {
         "hovertemplate": "Nr=16<br>t_kup=%{x}<br>Score=%{y}<extra></extra>",
         "legendgroup": "16",
         "marker": {
          "color": "#FF6692",
          "symbol": "circle"
         },
         "mode": "markers",
         "name": "16",
         "orientation": "h",
         "showlegend": true,
         "type": "scatter",
         "x": [
          131.77
         ],
         "xaxis": "x",
         "y": [
          0.09434
         ],
         "yaxis": "y"
        },
        {
         "hovertemplate": "Nr=17<br>t_kup=%{x}<br>Score=%{y}<extra></extra>",
         "legendgroup": "17",
         "marker": {
          "color": "#B6E880",
          "symbol": "circle"
         },
         "mode": "markers",
         "name": "17",
         "orientation": "h",
         "showlegend": true,
         "type": "scatter",
         "x": [
          61.58
         ],
         "xaxis": "x",
         "y": [
          0.78616
         ],
         "yaxis": "y"
        },
        {
         "hovertemplate": "Nr=18<br>t_kup=%{x}<br>Score=%{y}<extra></extra>",
         "legendgroup": "18",
         "marker": {
          "color": "#FF97FF",
          "symbol": "circle"
         },
         "mode": "markers",
         "name": "18",
         "orientation": "h",
         "showlegend": true,
         "type": "scatter",
         "x": [
          104.76
         ],
         "xaxis": "x",
         "y": [
          0.62264
         ],
         "yaxis": "y"
        },
        {
         "hovertemplate": "Nr=19<br>t_kup=%{x}<br>Score=%{y}<extra></extra>",
         "legendgroup": "19",
         "marker": {
          "color": "#FECB52",
          "symbol": "circle"
         },
         "mode": "markers",
         "name": "19",
         "orientation": "h",
         "showlegend": true,
         "type": "scatter",
         "x": [
          72.07
         ],
         "xaxis": "x",
         "y": [
          0.72956
         ],
         "yaxis": "y"
        },
        {
         "hovertemplate": "Nr=20<br>t_kup=%{x}<br>Score=%{y}<extra></extra>",
         "legendgroup": "20",
         "marker": {
          "color": "#636efa",
          "symbol": "circle"
         },
         "mode": "markers",
         "name": "20",
         "orientation": "h",
         "showlegend": true,
         "type": "scatter",
         "x": [
          77.18
         ],
         "xaxis": "x",
         "y": [
          0.12579
         ],
         "yaxis": "y"
        },
        {
         "hovertemplate": "Nr=21<br>t_kup=%{x}<br>Score=%{y}<extra></extra>",
         "legendgroup": "21",
         "marker": {
          "color": "#EF553B",
          "symbol": "circle"
         },
         "mode": "markers",
         "name": "21",
         "orientation": "h",
         "showlegend": true,
         "type": "scatter",
         "x": [
          77.28
         ],
         "xaxis": "x",
         "y": [
          0.5283
         ],
         "yaxis": "y"
        },
        {
         "hovertemplate": "Nr=22<br>t_kup=%{x}<br>Score=%{y}<extra></extra>",
         "legendgroup": "22",
         "marker": {
          "color": "#00cc96",
          "symbol": "circle"
         },
         "mode": "markers",
         "name": "22",
         "orientation": "h",
         "showlegend": true,
         "type": "scatter",
         "x": [
          183.4
         ],
         "xaxis": "x",
         "y": [
          0.19497
         ],
         "yaxis": "y"
        },
        {
         "hovertemplate": "Nr=23<br>t_kup=%{x}<br>Score=%{y}<extra></extra>",
         "legendgroup": "23",
         "marker": {
          "color": "#ab63fa",
          "symbol": "circle"
         },
         "mode": "markers",
         "name": "23",
         "orientation": "h",
         "showlegend": true,
         "type": "scatter",
         "x": [
          138.68
         ],
         "xaxis": "x",
         "y": [
          0.00629
         ],
         "yaxis": "y"
        },
        {
         "hovertemplate": "Nr=24<br>t_kup=%{x}<br>Score=%{y}<extra></extra>",
         "legendgroup": "24",
         "marker": {
          "color": "#FFA15A",
          "symbol": "circle"
         },
         "mode": "markers",
         "name": "24",
         "orientation": "h",
         "showlegend": true,
         "type": "scatter",
         "x": [
          191.93
         ],
         "xaxis": "x",
         "y": [
          0.40252
         ],
         "yaxis": "y"
        },
        {
         "hovertemplate": "Nr=25<br>t_kup=%{x}<br>Score=%{y}<extra></extra>",
         "legendgroup": "25",
         "marker": {
          "color": "#19d3f3",
          "symbol": "circle"
         },
         "mode": "markers",
         "name": "25",
         "orientation": "h",
         "showlegend": true,
         "type": "scatter",
         "x": [
          204.93
         ],
         "xaxis": "x",
         "y": [
          0.10692
         ],
         "yaxis": "y"
        },
        {
         "hovertemplate": "Nr=26<br>t_kup=%{x}<br>Score=%{y}<extra></extra>",
         "legendgroup": "26",
         "marker": {
          "color": "#FF6692",
          "symbol": "circle"
         },
         "mode": "markers",
         "name": "26",
         "orientation": "h",
         "showlegend": true,
         "type": "scatter",
         "x": [
          156.25
         ],
         "xaxis": "x",
         "y": [
          0.41509
         ],
         "yaxis": "y"
        },
        {
         "hovertemplate": "Nr=27<br>t_kup=%{x}<br>Score=%{y}<extra></extra>",
         "legendgroup": "27",
         "marker": {
          "color": "#B6E880",
          "symbol": "circle"
         },
         "mode": "markers",
         "name": "27",
         "orientation": "h",
         "showlegend": true,
         "type": "scatter",
         "x": [
          222.36
         ],
         "xaxis": "x",
         "y": [
          0.45912
         ],
         "yaxis": "y"
        },
        {
         "hovertemplate": "Nr=28<br>t_kup=%{x}<br>Score=%{y}<extra></extra>",
         "legendgroup": "28",
         "marker": {
          "color": "#FF97FF",
          "symbol": "circle"
         },
         "mode": "markers",
         "name": "28",
         "orientation": "h",
         "showlegend": true,
         "type": "scatter",
         "x": [
          74.02
         ],
         "xaxis": "x",
         "y": [
          0.86164
         ],
         "yaxis": "y"
        },
        {
         "hovertemplate": "Nr=29<br>t_kup=%{x}<br>Score=%{y}<extra></extra>",
         "legendgroup": "29",
         "marker": {
          "color": "#FECB52",
          "symbol": "circle"
         },
         "mode": "markers",
         "name": "29",
         "orientation": "h",
         "showlegend": true,
         "type": "scatter",
         "x": [
          123.26
         ],
         "xaxis": "x",
         "y": [
          0.80503
         ],
         "yaxis": "y"
        },
        {
         "hovertemplate": "Nr=30<br>t_kup=%{x}<br>Score=%{y}<extra></extra>",
         "legendgroup": "30",
         "marker": {
          "color": "#636efa",
          "symbol": "circle"
         },
         "mode": "markers",
         "name": "30",
         "orientation": "h",
         "showlegend": true,
         "type": "scatter",
         "x": [
          104.45
         ],
         "xaxis": "x",
         "y": [
          0.7673
         ],
         "yaxis": "y"
        },
        {
         "hovertemplate": "Nr=31<br>t_kup=%{x}<br>Score=%{y}<extra></extra>",
         "legendgroup": "31",
         "marker": {
          "color": "#EF553B",
          "symbol": "circle"
         },
         "mode": "markers",
         "name": "31",
         "orientation": "h",
         "showlegend": true,
         "type": "scatter",
         "x": [
          141.72
         ],
         "xaxis": "x",
         "y": [
          0.51572
         ],
         "yaxis": "y"
        },
        {
         "hovertemplate": "Nr=32<br>t_kup=%{x}<br>Score=%{y}<extra></extra>",
         "legendgroup": "32",
         "marker": {
          "color": "#00cc96",
          "symbol": "circle"
         },
         "mode": "markers",
         "name": "32",
         "orientation": "h",
         "showlegend": true,
         "type": "scatter",
         "x": [
          93.69
         ],
         "xaxis": "x",
         "y": [
          0.79874
         ],
         "yaxis": "y"
        },
        {
         "hovertemplate": "Nr=33<br>t_kup=%{x}<br>Score=%{y}<extra></extra>",
         "legendgroup": "33",
         "marker": {
          "color": "#ab63fa",
          "symbol": "circle"
         },
         "mode": "markers",
         "name": "33",
         "orientation": "h",
         "showlegend": true,
         "type": "scatter",
         "x": [
          160.36
         ],
         "xaxis": "x",
         "y": [
          0.0566
         ],
         "yaxis": "y"
        },
        {
         "hovertemplate": "Nr=34<br>t_kup=%{x}<br>Score=%{y}<extra></extra>",
         "legendgroup": "34",
         "marker": {
          "color": "#FFA15A",
          "symbol": "circle"
         },
         "mode": "markers",
         "name": "34",
         "orientation": "h",
         "showlegend": true,
         "type": "scatter",
         "x": [
          177.16
         ],
         "xaxis": "x",
         "y": [
          0.37107
         ],
         "yaxis": "y"
        },
        {
         "hovertemplate": "Nr=35<br>t_kup=%{x}<br>Score=%{y}<extra></extra>",
         "legendgroup": "35",
         "marker": {
          "color": "#19d3f3",
          "symbol": "circle"
         },
         "mode": "markers",
         "name": "35",
         "orientation": "h",
         "showlegend": true,
         "type": "scatter",
         "x": [
          227.6
         ],
         "xaxis": "x",
         "y": [
          0.02516
         ],
         "yaxis": "y"
        },
        {
         "hovertemplate": "Nr=36<br>t_kup=%{x}<br>Score=%{y}<extra></extra>",
         "legendgroup": "36",
         "marker": {
          "color": "#FF6692",
          "symbol": "circle"
         },
         "mode": "markers",
         "name": "36",
         "orientation": "h",
         "showlegend": true,
         "type": "scatter",
         "x": [
          131.01
         ],
         "xaxis": "x",
         "y": [
          0.39623
         ],
         "yaxis": "y"
        },
        {
         "hovertemplate": "Nr=37<br>t_kup=%{x}<br>Score=%{y}<extra></extra>",
         "legendgroup": "37",
         "marker": {
          "color": "#B6E880",
          "symbol": "circle"
         },
         "mode": "markers",
         "name": "37",
         "orientation": "h",
         "showlegend": true,
         "type": "scatter",
         "x": [
          168.69
         ],
         "xaxis": "x",
         "y": [
          0.03145
         ],
         "yaxis": "y"
        },
        {
         "hovertemplate": "Nr=38<br>t_kup=%{x}<br>Score=%{y}<extra></extra>",
         "legendgroup": "38",
         "marker": {
          "color": "#FF97FF",
          "symbol": "circle"
         },
         "mode": "markers",
         "name": "38",
         "orientation": "h",
         "showlegend": true,
         "type": "scatter",
         "x": [
          145.12
         ],
         "xaxis": "x",
         "y": [
          0.59748
         ],
         "yaxis": "y"
        },
        {
         "hovertemplate": "Nr=39<br>t_kup=%{x}<br>Score=%{y}<extra></extra>",
         "legendgroup": "39",
         "marker": {
          "color": "#FECB52",
          "symbol": "circle"
         },
         "mode": "markers",
         "name": "39",
         "orientation": "h",
         "showlegend": true,
         "type": "scatter",
         "x": [
          98.74
         ],
         "xaxis": "x",
         "y": [
          0.20755
         ],
         "yaxis": "y"
        },
        {
         "hovertemplate": "Nr=40<br>t_kup=%{x}<br>Score=%{y}<extra></extra>",
         "legendgroup": "40",
         "marker": {
          "color": "#636efa",
          "symbol": "circle"
         },
         "mode": "markers",
         "name": "40",
         "orientation": "h",
         "showlegend": true,
         "type": "scatter",
         "x": [
          101.84
         ],
         "xaxis": "x",
         "y": [
          0.61006
         ],
         "yaxis": "y"
        },
        {
         "hovertemplate": "Nr=41<br>t_kup=%{x}<br>Score=%{y}<extra></extra>",
         "legendgroup": "41",
         "marker": {
          "color": "#EF553B",
          "symbol": "circle"
         },
         "mode": "markers",
         "name": "41",
         "orientation": "h",
         "showlegend": true,
         "type": "scatter",
         "x": [
          67.74
         ],
         "xaxis": "x",
         "y": [
          0.56604
         ],
         "yaxis": "y"
        },
        {
         "hovertemplate": "Nr=42<br>t_kup=%{x}<br>Score=%{y}<extra></extra>",
         "legendgroup": "42",
         "marker": {
          "color": "#00cc96",
          "symbol": "circle"
         },
         "mode": "markers",
         "name": "42",
         "orientation": "h",
         "showlegend": true,
         "type": "scatter",
         "x": [
          140.96
         ],
         "xaxis": "x",
         "y": [
          0.38994
         ],
         "yaxis": "y"
        },
        {
         "hovertemplate": "Nr=43<br>t_kup=%{x}<br>Score=%{y}<extra></extra>",
         "legendgroup": "43",
         "marker": {
          "color": "#ab63fa",
          "symbol": "circle"
         },
         "mode": "markers",
         "name": "43",
         "orientation": "h",
         "showlegend": true,
         "type": "scatter",
         "x": [
          121.96
         ],
         "xaxis": "x",
         "y": [
          0.18239
         ],
         "yaxis": "y"
        },
        {
         "hovertemplate": "Nr=44<br>t_kup=%{x}<br>Score=%{y}<extra></extra>",
         "legendgroup": "44",
         "marker": {
          "color": "#FFA15A",
          "symbol": "circle"
         },
         "mode": "markers",
         "name": "44",
         "orientation": "h",
         "showlegend": true,
         "type": "scatter",
         "x": [
          139.79
         ],
         "xaxis": "x",
         "y": [
          0.24528
         ],
         "yaxis": "y"
        },
        {
         "hovertemplate": "Nr=45<br>t_kup=%{x}<br>Score=%{y}<extra></extra>",
         "legendgroup": "45",
         "marker": {
          "color": "#19d3f3",
          "symbol": "circle"
         },
         "mode": "markers",
         "name": "45",
         "orientation": "h",
         "showlegend": true,
         "type": "scatter",
         "x": [
          117.81
         ],
         "xaxis": "x",
         "y": [
          0.58491
         ],
         "yaxis": "y"
        },
        {
         "hovertemplate": "Nr=46<br>t_kup=%{x}<br>Score=%{y}<extra></extra>",
         "legendgroup": "46",
         "marker": {
          "color": "#FF6692",
          "symbol": "circle"
         },
         "mode": "markers",
         "name": "46",
         "orientation": "h",
         "showlegend": true,
         "type": "scatter",
         "x": [
          169.49
         ],
         "xaxis": "x",
         "y": [
          0.13836
         ],
         "yaxis": "y"
        },
        {
         "hovertemplate": "Nr=47<br>t_kup=%{x}<br>Score=%{y}<extra></extra>",
         "legendgroup": "47",
         "marker": {
          "color": "#B6E880",
          "symbol": "circle"
         },
         "mode": "markers",
         "name": "47",
         "orientation": "h",
         "showlegend": true,
         "type": "scatter",
         "x": [
          131.86
         ],
         "xaxis": "x",
         "y": [
          0.37736
         ],
         "yaxis": "y"
        },
        {
         "hovertemplate": "Nr=48<br>t_kup=%{x}<br>Score=%{y}<extra></extra>",
         "legendgroup": "48",
         "marker": {
          "color": "#FF97FF",
          "symbol": "circle"
         },
         "mode": "markers",
         "name": "48",
         "orientation": "h",
         "showlegend": true,
         "type": "scatter",
         "x": [
          109.29
         ],
         "xaxis": "x",
         "y": [
          0.42767
         ],
         "yaxis": "y"
        },
        {
         "hovertemplate": "Nr=49<br>t_kup=%{x}<br>Score=%{y}<extra></extra>",
         "legendgroup": "49",
         "marker": {
          "color": "#FECB52",
          "symbol": "circle"
         },
         "mode": "markers",
         "name": "49",
         "orientation": "h",
         "showlegend": true,
         "type": "scatter",
         "x": [
          137.52
         ],
         "xaxis": "x",
         "y": [
          0.55346
         ],
         "yaxis": "y"
        },
        {
         "hovertemplate": "Nr=50<br>t_kup=%{x}<br>Score=%{y}<extra></extra>",
         "legendgroup": "50",
         "marker": {
          "color": "#636efa",
          "symbol": "circle"
         },
         "mode": "markers",
         "name": "50",
         "orientation": "h",
         "showlegend": true,
         "type": "scatter",
         "x": [
          111.02
         ],
         "xaxis": "x",
         "y": [
          0.81761
         ],
         "yaxis": "y"
        },
        {
         "hovertemplate": "Nr=51<br>t_kup=%{x}<br>Score=%{y}<extra></extra>",
         "legendgroup": "51",
         "marker": {
          "color": "#EF553B",
          "symbol": "circle"
         },
         "mode": "markers",
         "name": "51",
         "orientation": "h",
         "showlegend": true,
         "type": "scatter",
         "x": [
          136.71
         ],
         "xaxis": "x",
         "y": [
          0.84277
         ],
         "yaxis": "y"
        },
        {
         "hovertemplate": "Nr=52<br>t_kup=%{x}<br>Score=%{y}<extra></extra>",
         "legendgroup": "52",
         "marker": {
          "color": "#00cc96",
          "symbol": "circle"
         },
         "mode": "markers",
         "name": "52",
         "orientation": "h",
         "showlegend": true,
         "type": "scatter",
         "x": [
          97.35
         ],
         "xaxis": "x",
         "y": [
          0.52201
         ],
         "yaxis": "y"
        },
        {
         "hovertemplate": "Nr=53<br>t_kup=%{x}<br>Score=%{y}<extra></extra>",
         "legendgroup": "53",
         "marker": {
          "color": "#ab63fa",
          "symbol": "circle"
         },
         "mode": "markers",
         "name": "53",
         "orientation": "h",
         "showlegend": true,
         "type": "scatter",
         "x": [
          114.07
         ],
         "xaxis": "x",
         "y": [
          0.66667
         ],
         "yaxis": "y"
        },
        {
         "hovertemplate": "Nr=54<br>t_kup=%{x}<br>Score=%{y}<extra></extra>",
         "legendgroup": "54",
         "marker": {
          "color": "#FFA15A",
          "symbol": "circle"
         },
         "mode": "markers",
         "name": "54",
         "orientation": "h",
         "showlegend": true,
         "type": "scatter",
         "x": [
          136.63
         ],
         "xaxis": "x",
         "y": [
          0.55975
         ],
         "yaxis": "y"
        },
        {
         "hovertemplate": "Nr=55<br>t_kup=%{x}<br>Score=%{y}<extra></extra>",
         "legendgroup": "55",
         "marker": {
          "color": "#19d3f3",
          "symbol": "circle"
         },
         "mode": "markers",
         "name": "55",
         "orientation": "h",
         "showlegend": true,
         "type": "scatter",
         "x": [
          43.6
         ],
         "xaxis": "x",
         "y": [
          0.1761
         ],
         "yaxis": "y"
        },
        {
         "hovertemplate": "Nr=56<br>t_kup=%{x}<br>Score=%{y}<extra></extra>",
         "legendgroup": "56",
         "marker": {
          "color": "#FF6692",
          "symbol": "circle"
         },
         "mode": "markers",
         "name": "56",
         "orientation": "h",
         "showlegend": true,
         "type": "scatter",
         "x": [
          162.19
         ],
         "xaxis": "x",
         "y": [
          0.49686
         ],
         "yaxis": "y"
        },
        {
         "hovertemplate": "Nr=57<br>t_kup=%{x}<br>Score=%{y}<extra></extra>",
         "legendgroup": "57",
         "marker": {
          "color": "#B6E880",
          "symbol": "circle"
         },
         "mode": "markers",
         "name": "57",
         "orientation": "h",
         "showlegend": true,
         "type": "scatter",
         "x": [
          87.29
         ],
         "xaxis": "x",
         "y": [
          0.69811
         ],
         "yaxis": "y"
        },
        {
         "hovertemplate": "Nr=58<br>t_kup=%{x}<br>Score=%{y}<extra></extra>",
         "legendgroup": "58",
         "marker": {
          "color": "#FF97FF",
          "symbol": "circle"
         },
         "mode": "markers",
         "name": "58",
         "orientation": "h",
         "showlegend": true,
         "type": "scatter",
         "x": [
          82.32
         ],
         "xaxis": "x",
         "y": [
          0.2327
         ],
         "yaxis": "y"
        },
        {
         "hovertemplate": "Nr=59<br>t_kup=%{x}<br>Score=%{y}<extra></extra>",
         "legendgroup": "59",
         "marker": {
          "color": "#FECB52",
          "symbol": "circle"
         },
         "mode": "markers",
         "name": "59",
         "orientation": "h",
         "showlegend": true,
         "type": "scatter",
         "x": [
          91.25
         ],
         "xaxis": "x",
         "y": [
          0.43396
         ],
         "yaxis": "y"
        },
        {
         "hovertemplate": "Nr=60<br>t_kup=%{x}<br>Score=%{y}<extra></extra>",
         "legendgroup": "60",
         "marker": {
          "color": "#636efa",
          "symbol": "circle"
         },
         "mode": "markers",
         "name": "60",
         "orientation": "h",
         "showlegend": true,
         "type": "scatter",
         "x": [
          144.98
         ],
         "xaxis": "x",
         "y": [
          0.61635
         ],
         "yaxis": "y"
        },
        {
         "hovertemplate": "Nr=61<br>t_kup=%{x}<br>Score=%{y}<extra></extra>",
         "legendgroup": "61",
         "marker": {
          "color": "#EF553B",
          "symbol": "circle"
         },
         "mode": "markers",
         "name": "61",
         "orientation": "h",
         "showlegend": true,
         "type": "scatter",
         "x": [
          121.8
         ],
         "xaxis": "x",
         "y": [
          0.69182
         ],
         "yaxis": "y"
        },
        {
         "hovertemplate": "Nr=62<br>t_kup=%{x}<br>Score=%{y}<extra></extra>",
         "legendgroup": "62",
         "marker": {
          "color": "#00cc96",
          "symbol": "circle"
         },
         "mode": "markers",
         "name": "62",
         "orientation": "h",
         "showlegend": true,
         "type": "scatter",
         "x": [
          92.3
         ],
         "xaxis": "x",
         "y": [
          0.25157
         ],
         "yaxis": "y"
        },
        {
         "hovertemplate": "Nr=63<br>t_kup=%{x}<br>Score=%{y}<extra></extra>",
         "legendgroup": "63",
         "marker": {
          "color": "#ab63fa",
          "symbol": "circle"
         },
         "mode": "markers",
         "name": "63",
         "orientation": "h",
         "showlegend": true,
         "type": "scatter",
         "x": [
          163.37
         ],
         "xaxis": "x",
         "y": [
          0.33333
         ],
         "yaxis": "y"
        },
        {
         "hovertemplate": "Nr=64<br>t_kup=%{x}<br>Score=%{y}<extra></extra>",
         "legendgroup": "64",
         "marker": {
          "color": "#FFA15A",
          "symbol": "circle"
         },
         "mode": "markers",
         "name": "64",
         "orientation": "h",
         "showlegend": true,
         "type": "scatter",
         "x": [
          81.62
         ],
         "xaxis": "x",
         "y": [
          0.50943
         ],
         "yaxis": "y"
        },
        {
         "hovertemplate": "Nr=65<br>t_kup=%{x}<br>Score=%{y}<extra></extra>",
         "legendgroup": "65",
         "marker": {
          "color": "#19d3f3",
          "symbol": "circle"
         },
         "mode": "markers",
         "name": "65",
         "orientation": "h",
         "showlegend": true,
         "type": "scatter",
         "x": [
          54.24
         ],
         "xaxis": "x",
         "y": [
          0.63522
         ],
         "yaxis": "y"
        },
        {
         "hovertemplate": "Nr=66<br>t_kup=%{x}<br>Score=%{y}<extra></extra>",
         "legendgroup": "66",
         "marker": {
          "color": "#FF6692",
          "symbol": "circle"
         },
         "mode": "markers",
         "name": "66",
         "orientation": "h",
         "showlegend": true,
         "type": "scatter",
         "x": [
          141.66
         ],
         "xaxis": "x",
         "y": [
          0.25786
         ],
         "yaxis": "y"
        },
        {
         "hovertemplate": "Nr=67<br>t_kup=%{x}<br>Score=%{y}<extra></extra>",
         "legendgroup": "67",
         "marker": {
          "color": "#B6E880",
          "symbol": "circle"
         },
         "mode": "markers",
         "name": "67",
         "orientation": "h",
         "showlegend": true,
         "type": "scatter",
         "x": [
          115.75
         ],
         "xaxis": "x",
         "y": [
          0.14465
         ],
         "yaxis": "y"
        },
        {
         "hovertemplate": "Nr=68<br>t_kup=%{x}<br>Score=%{y}<extra></extra>",
         "legendgroup": "68",
         "marker": {
          "color": "#FF97FF",
          "symbol": "circle"
         },
         "mode": "markers",
         "name": "68",
         "orientation": "h",
         "showlegend": true,
         "type": "scatter",
         "x": [
          127.9
         ],
         "xaxis": "x",
         "y": [
          0.36478
         ],
         "yaxis": "y"
        },
        {
         "hovertemplate": "Nr=69<br>t_kup=%{x}<br>Score=%{y}<extra></extra>",
         "legendgroup": "69",
         "marker": {
          "color": "#FECB52",
          "symbol": "circle"
         },
         "mode": "markers",
         "name": "69",
         "orientation": "h",
         "showlegend": true,
         "type": "scatter",
         "x": [
          109.29
         ],
         "xaxis": "x",
         "y": [
          0.08805
         ],
         "yaxis": "y"
        },
        {
         "hovertemplate": "Nr=70<br>t_kup=%{x}<br>Score=%{y}<extra></extra>",
         "legendgroup": "70",
         "marker": {
          "color": "#636efa",
          "symbol": "circle"
         },
         "mode": "markers",
         "name": "70",
         "orientation": "h",
         "showlegend": true,
         "type": "scatter",
         "x": [
          121.41
         ],
         "xaxis": "x",
         "y": [
          0.53459
         ],
         "yaxis": "y"
        },
        {
         "hovertemplate": "Nr=71<br>t_kup=%{x}<br>Score=%{y}<extra></extra>",
         "legendgroup": "71",
         "marker": {
          "color": "#EF553B",
          "symbol": "circle"
         },
         "mode": "markers",
         "name": "71",
         "orientation": "h",
         "showlegend": true,
         "type": "scatter",
         "x": [
          118.51
         ],
         "xaxis": "x",
         "y": [
          0.49057
         ],
         "yaxis": "y"
        },
        {
         "hovertemplate": "Nr=72<br>t_kup=%{x}<br>Score=%{y}<extra></extra>",
         "legendgroup": "72",
         "marker": {
          "color": "#00cc96",
          "symbol": "circle"
         },
         "mode": "markers",
         "name": "72",
         "orientation": "h",
         "showlegend": true,
         "type": "scatter",
         "x": [
          97.49
         ],
         "xaxis": "x",
         "y": [
          0.74214
         ],
         "yaxis": "y"
        },
        {
         "hovertemplate": "Nr=73<br>t_kup=%{x}<br>Score=%{y}<extra></extra>",
         "legendgroup": "73",
         "marker": {
          "color": "#ab63fa",
          "symbol": "circle"
         },
         "mode": "markers",
         "name": "73",
         "orientation": "h",
         "showlegend": true,
         "type": "scatter",
         "x": [
          120.38
         ],
         "xaxis": "x",
         "y": [
          0.59119
         ],
         "yaxis": "y"
        },
        {
         "hovertemplate": "Nr=74<br>t_kup=%{x}<br>Score=%{y}<extra></extra>",
         "legendgroup": "74",
         "marker": {
          "color": "#FFA15A",
          "symbol": "circle"
         },
         "mode": "markers",
         "name": "74",
         "orientation": "h",
         "showlegend": true,
         "type": "scatter",
         "x": [
          146.38
         ],
         "xaxis": "x",
         "y": [
          0.42138
         ],
         "yaxis": "y"
        },
        {
         "hovertemplate": "Nr=75<br>t_kup=%{x}<br>Score=%{y}<extra></extra>",
         "legendgroup": "75",
         "marker": {
          "color": "#19d3f3",
          "symbol": "circle"
         },
         "mode": "markers",
         "name": "75",
         "orientation": "h",
         "showlegend": true,
         "type": "scatter",
         "x": [
          118.23
         ],
         "xaxis": "x",
         "y": [
          0.15094
         ],
         "yaxis": "y"
        },
        {
         "hovertemplate": "Nr=76<br>t_kup=%{x}<br>Score=%{y}<extra></extra>",
         "legendgroup": "76",
         "marker": {
          "color": "#FF6692",
          "symbol": "circle"
         },
         "mode": "markers",
         "name": "76",
         "orientation": "h",
         "showlegend": true,
         "type": "scatter",
         "x": [
          101.61
         ],
         "xaxis": "x",
         "y": [
          0.3522
         ],
         "yaxis": "y"
        },
        {
         "hovertemplate": "Nr=77<br>t_kup=%{x}<br>Score=%{y}<extra></extra>",
         "legendgroup": "77",
         "marker": {
          "color": "#B6E880",
          "symbol": "circle"
         },
         "mode": "markers",
         "name": "77",
         "orientation": "h",
         "showlegend": true,
         "type": "scatter",
         "x": [
          116.66
         ],
         "xaxis": "x",
         "y": [
          0.27044
         ],
         "yaxis": "y"
        },
        {
         "hovertemplate": "Nr=78<br>t_kup=%{x}<br>Score=%{y}<extra></extra>",
         "legendgroup": "78",
         "marker": {
          "color": "#FF97FF",
          "symbol": "circle"
         },
         "mode": "markers",
         "name": "78",
         "orientation": "h",
         "showlegend": true,
         "type": "scatter",
         "x": [
          103.43
         ],
         "xaxis": "x",
         "y": [
          0.93711
         ],
         "yaxis": "y"
        },
        {
         "hovertemplate": "Nr=79<br>t_kup=%{x}<br>Score=%{y}<extra></extra>",
         "legendgroup": "79",
         "marker": {
          "color": "#FECB52",
          "symbol": "circle"
         },
         "mode": "markers",
         "name": "79",
         "orientation": "h",
         "showlegend": true,
         "type": "scatter",
         "x": [
          155.06
         ],
         "xaxis": "x",
         "y": [
          0.54088
         ],
         "yaxis": "y"
        },
        {
         "hovertemplate": "Nr=80<br>t_kup=%{x}<br>Score=%{y}<extra></extra>",
         "legendgroup": "80",
         "marker": {
          "color": "#636efa",
          "symbol": "circle"
         },
         "mode": "markers",
         "name": "80",
         "orientation": "h",
         "showlegend": true,
         "type": "scatter",
         "x": [
          119.29
         ],
         "xaxis": "x",
         "y": [
          0.06289
         ],
         "yaxis": "y"
        },
        {
         "hovertemplate": "Nr=81<br>t_kup=%{x}<br>Score=%{y}<extra></extra>",
         "legendgroup": "81",
         "marker": {
          "color": "#EF553B",
          "symbol": "circle"
         },
         "mode": "markers",
         "name": "81",
         "orientation": "h",
         "showlegend": true,
         "type": "scatter",
         "x": [
          195.74
         ],
         "xaxis": "x",
         "y": [
          0.04403
         ],
         "yaxis": "y"
        },
        {
         "hovertemplate": "Nr=82<br>t_kup=%{x}<br>Score=%{y}<extra></extra>",
         "legendgroup": "82",
         "marker": {
          "color": "#00cc96",
          "symbol": "circle"
         },
         "mode": "markers",
         "name": "82",
         "orientation": "h",
         "showlegend": true,
         "type": "scatter",
         "x": [
          191.51
         ],
         "xaxis": "x",
         "y": [
          0.05031
         ],
         "yaxis": "y"
        },
        {
         "hovertemplate": "Nr=83<br>t_kup=%{x}<br>Score=%{y}<extra></extra>",
         "legendgroup": "83",
         "marker": {
          "color": "#ab63fa",
          "symbol": "circle"
         },
         "mode": "markers",
         "name": "83",
         "orientation": "h",
         "showlegend": true,
         "type": "scatter",
         "x": [
          144.7
         ],
         "xaxis": "x",
         "y": [
          0.13208
         ],
         "yaxis": "y"
        },
        {
         "hovertemplate": "Nr=84<br>t_kup=%{x}<br>Score=%{y}<extra></extra>",
         "legendgroup": "84",
         "marker": {
          "color": "#FFA15A",
          "symbol": "circle"
         },
         "mode": "markers",
         "name": "84",
         "orientation": "h",
         "showlegend": true,
         "type": "scatter",
         "x": [
          63.75
         ],
         "xaxis": "x",
         "y": [
          0.7044
         ],
         "yaxis": "y"
        },
        {
         "hovertemplate": "Nr=85<br>t_kup=%{x}<br>Score=%{y}<extra></extra>",
         "legendgroup": "85",
         "marker": {
          "color": "#19d3f3",
          "symbol": "circle"
         },
         "mode": "markers",
         "name": "85",
         "orientation": "h",
         "showlegend": true,
         "type": "scatter",
         "x": [
          52.41
         ],
         "xaxis": "x",
         "y": [
          0.88679
         ],
         "yaxis": "y"
        },
        {
         "hovertemplate": "Nr=86<br>t_kup=%{x}<br>Score=%{y}<extra></extra>",
         "legendgroup": "86",
         "marker": {
          "color": "#FF6692",
          "symbol": "circle"
         },
         "mode": "markers",
         "name": "86",
         "orientation": "h",
         "showlegend": true,
         "type": "scatter",
         "x": [
          149.65
         ],
         "xaxis": "x",
         "y": [
          0.50314
         ],
         "yaxis": "y"
        },
        {
         "hovertemplate": "Nr=87<br>t_kup=%{x}<br>Score=%{y}<extra></extra>",
         "legendgroup": "87",
         "marker": {
          "color": "#B6E880",
          "symbol": "circle"
         },
         "mode": "markers",
         "name": "87",
         "orientation": "h",
         "showlegend": true,
         "type": "scatter",
         "x": [
          152.54
         ],
         "xaxis": "x",
         "y": [
          0.06918
         ],
         "yaxis": "y"
        },
        {
         "hovertemplate": "Nr=88<br>t_kup=%{x}<br>Score=%{y}<extra></extra>",
         "legendgroup": "88",
         "marker": {
          "color": "#FF97FF",
          "symbol": "circle"
         },
         "mode": "markers",
         "name": "88",
         "orientation": "h",
         "showlegend": true,
         "type": "scatter",
         "x": [
          182.94
         ],
         "xaxis": "x",
         "y": [
          0.20126
         ],
         "yaxis": "y"
        },
        {
         "hovertemplate": "Nr=89<br>t_kup=%{x}<br>Score=%{y}<extra></extra>",
         "legendgroup": "89",
         "marker": {
          "color": "#FECB52",
          "symbol": "circle"
         },
         "mode": "markers",
         "name": "89",
         "orientation": "h",
         "showlegend": true,
         "type": "scatter",
         "x": [
          108.79
         ],
         "xaxis": "x",
         "y": [
          0.40881
         ],
         "yaxis": "y"
        },
        {
         "hovertemplate": "Nr=90<br>t_kup=%{x}<br>Score=%{y}<extra></extra>",
         "legendgroup": "90",
         "marker": {
          "color": "#636efa",
          "symbol": "circle"
         },
         "mode": "markers",
         "name": "90",
         "orientation": "h",
         "showlegend": true,
         "type": "scatter",
         "x": [
          196.8
         ],
         "xaxis": "x",
         "y": [
          0.15723
         ],
         "yaxis": "y"
        },
        {
         "hovertemplate": "Nr=91<br>t_kup=%{x}<br>Score=%{y}<extra></extra>",
         "legendgroup": "91",
         "marker": {
          "color": "#EF553B",
          "symbol": "circle"
         },
         "mode": "markers",
         "name": "91",
         "orientation": "h",
         "showlegend": true,
         "type": "scatter",
         "x": [
          159.77
         ],
         "xaxis": "x",
         "y": [
          0.38365
         ],
         "yaxis": "y"
        },
        {
         "hovertemplate": "Nr=92<br>t_kup=%{x}<br>Score=%{y}<extra></extra>",
         "legendgroup": "92",
         "marker": {
          "color": "#00cc96",
          "symbol": "circle"
         },
         "mode": "markers",
         "name": "92",
         "orientation": "h",
         "showlegend": true,
         "type": "scatter",
         "x": [
          228.7
         ],
         "xaxis": "x",
         "y": [
          0.01887
         ],
         "yaxis": "y"
        },
        {
         "hovertemplate": "Nr=93<br>t_kup=%{x}<br>Score=%{y}<extra></extra>",
         "legendgroup": "93",
         "marker": {
          "color": "#ab63fa",
          "symbol": "circle"
         },
         "mode": "markers",
         "name": "93",
         "orientation": "h",
         "showlegend": true,
         "type": "scatter",
         "x": [
          36.58
         ],
         "xaxis": "x",
         "y": [
          0.90566
         ],
         "yaxis": "y"
        },
        {
         "hovertemplate": "Nr=94<br>t_kup=%{x}<br>Score=%{y}<extra></extra>",
         "legendgroup": "94",
         "marker": {
          "color": "#FFA15A",
          "symbol": "circle"
         },
         "mode": "markers",
         "name": "94",
         "orientation": "h",
         "showlegend": true,
         "type": "scatter",
         "x": [
          122.18
         ],
         "xaxis": "x",
         "y": [
          0.48428
         ],
         "yaxis": "y"
        },
        {
         "hovertemplate": "Nr=95<br>t_kup=%{x}<br>Score=%{y}<extra></extra>",
         "legendgroup": "95",
         "marker": {
          "color": "#19d3f3",
          "symbol": "circle"
         },
         "mode": "markers",
         "name": "95",
         "orientation": "h",
         "showlegend": true,
         "type": "scatter",
         "x": [
          178.04
         ],
         "xaxis": "x",
         "y": [
          0.23899
         ],
         "yaxis": "y"
        },
        {
         "hovertemplate": "Nr=96<br>t_kup=%{x}<br>Score=%{y}<extra></extra>",
         "legendgroup": "96",
         "marker": {
          "color": "#FF6692",
          "symbol": "circle"
         },
         "mode": "markers",
         "name": "96",
         "orientation": "h",
         "showlegend": true,
         "type": "scatter",
         "x": [
          114.06
         ],
         "xaxis": "x",
         "y": [
          0.60377
         ],
         "yaxis": "y"
        },
        {
         "hovertemplate": "Nr=97<br>t_kup=%{x}<br>Score=%{y}<extra></extra>",
         "legendgroup": "97",
         "marker": {
          "color": "#B6E880",
          "symbol": "circle"
         },
         "mode": "markers",
         "name": "97",
         "orientation": "h",
         "showlegend": true,
         "type": "scatter",
         "x": [
          66.62
         ],
         "xaxis": "x",
         "y": [
          0.65409
         ],
         "yaxis": "y"
        },
        {
         "hovertemplate": "Nr=98<br>t_kup=%{x}<br>Score=%{y}<extra></extra>",
         "legendgroup": "98",
         "marker": {
          "color": "#FF97FF",
          "symbol": "circle"
         },
         "mode": "markers",
         "name": "98",
         "orientation": "h",
         "showlegend": true,
         "type": "scatter",
         "x": [
          105.51
         ],
         "xaxis": "x",
         "y": [
          0.74843
         ],
         "yaxis": "y"
        },
        {
         "hovertemplate": "Nr=99<br>t_kup=%{x}<br>Score=%{y}<extra></extra>",
         "legendgroup": "99",
         "marker": {
          "color": "#FECB52",
          "symbol": "circle"
         },
         "mode": "markers",
         "name": "99",
         "orientation": "h",
         "showlegend": true,
         "type": "scatter",
         "x": [
          124.58
         ],
         "xaxis": "x",
         "y": [
          0.11321
         ],
         "yaxis": "y"
        },
        {
         "hovertemplate": "Nr=100<br>t_kup=%{x}<br>Score=%{y}<extra></extra>",
         "legendgroup": "100",
         "marker": {
          "color": "#636efa",
          "symbol": "circle"
         },
         "mode": "markers",
         "name": "100",
         "orientation": "h",
         "showlegend": true,
         "type": "scatter",
         "x": [
          69.71
         ],
         "xaxis": "x",
         "y": [
          0.72327
         ],
         "yaxis": "y"
        },
        {
         "hovertemplate": "Nr=101<br>t_kup=%{x}<br>Score=%{y}<extra></extra>",
         "legendgroup": "101",
         "marker": {
          "color": "#EF553B",
          "symbol": "circle"
         },
         "mode": "markers",
         "name": "101",
         "orientation": "h",
         "showlegend": true,
         "type": "scatter",
         "x": [
          223.59
         ],
         "xaxis": "x",
         "y": [
          0
         ],
         "yaxis": "y"
        },
        {
         "hovertemplate": "Nr=102<br>t_kup=%{x}<br>Score=%{y}<extra></extra>",
         "legendgroup": "102",
         "marker": {
          "color": "#00cc96",
          "symbol": "circle"
         },
         "mode": "markers",
         "name": "102",
         "orientation": "h",
         "showlegend": true,
         "type": "scatter",
         "x": [
          76.48
         ],
         "xaxis": "x",
         "y": [
          0.77358
         ],
         "yaxis": "y"
        },
        {
         "hovertemplate": "Nr=103<br>t_kup=%{x}<br>Score=%{y}<extra></extra>",
         "legendgroup": "103",
         "marker": {
          "color": "#ab63fa",
          "symbol": "circle"
         },
         "mode": "markers",
         "name": "103",
         "orientation": "h",
         "showlegend": true,
         "type": "scatter",
         "x": [
          95.29
         ],
         "xaxis": "x",
         "y": [
          0.27673
         ],
         "yaxis": "y"
        },
        {
         "hovertemplate": "Nr=104<br>t_kup=%{x}<br>Score=%{y}<extra></extra>",
         "legendgroup": "104",
         "marker": {
          "color": "#FFA15A",
          "symbol": "circle"
         },
         "mode": "markers",
         "name": "104",
         "orientation": "h",
         "showlegend": true,
         "type": "scatter",
         "x": [
          116.07
         ],
         "xaxis": "x",
         "y": [
          0.26415
         ],
         "yaxis": "y"
        },
        {
         "hovertemplate": "Nr=105<br>t_kup=%{x}<br>Score=%{y}<extra></extra>",
         "legendgroup": "105",
         "marker": {
          "color": "#19d3f3",
          "symbol": "circle"
         },
         "mode": "markers",
         "name": "105",
         "orientation": "h",
         "showlegend": true,
         "type": "scatter",
         "x": [
          130.77
         ],
         "xaxis": "x",
         "y": [
          0.16981
         ],
         "yaxis": "y"
        },
        {
         "hovertemplate": "Nr=106<br>t_kup=%{x}<br>Score=%{y}<extra></extra>",
         "legendgroup": "106",
         "marker": {
          "color": "#FF6692",
          "symbol": "circle"
         },
         "mode": "markers",
         "name": "106",
         "orientation": "h",
         "showlegend": true,
         "type": "scatter",
         "x": [
          101.68
         ],
         "xaxis": "x",
         "y": [
          0.22642
         ],
         "yaxis": "y"
        },
        {
         "hovertemplate": "Nr=107<br>t_kup=%{x}<br>Score=%{y}<extra></extra>",
         "legendgroup": "107",
         "marker": {
          "color": "#B6E880",
          "symbol": "circle"
         },
         "mode": "markers",
         "name": "107",
         "orientation": "h",
         "showlegend": true,
         "type": "scatter",
         "x": [
          51.15
         ],
         "xaxis": "x",
         "y": [
          0.71698
         ],
         "yaxis": "y"
        },
        {
         "hovertemplate": "Nr=108<br>t_kup=%{x}<br>Score=%{y}<extra></extra>",
         "legendgroup": "108",
         "marker": {
          "color": "#FF97FF",
          "symbol": "circle"
         },
         "mode": "markers",
         "name": "108",
         "orientation": "h",
         "showlegend": true,
         "type": "scatter",
         "x": [
          152.81
         ],
         "xaxis": "x",
         "y": [
          0.54717
         ],
         "yaxis": "y"
        },
        {
         "hovertemplate": "Nr=109<br>t_kup=%{x}<br>Score=%{y}<extra></extra>",
         "legendgroup": "109",
         "marker": {
          "color": "#FECB52",
          "symbol": "circle"
         },
         "mode": "markers",
         "name": "109",
         "orientation": "h",
         "showlegend": true,
         "type": "scatter",
         "x": [
          163.8
         ],
         "xaxis": "x",
         "y": [
          0.07547
         ],
         "yaxis": "y"
        },
        {
         "hovertemplate": "Nr=110<br>t_kup=%{x}<br>Score=%{y}<extra></extra>",
         "legendgroup": "110",
         "marker": {
          "color": "#636efa",
          "symbol": "circle"
         },
         "mode": "markers",
         "name": "110",
         "orientation": "h",
         "showlegend": true,
         "type": "scatter",
         "x": [
          186.31
         ],
         "xaxis": "x",
         "y": [
          0.33962
         ],
         "yaxis": "y"
        },
        {
         "hovertemplate": "Nr=111<br>t_kup=%{x}<br>Score=%{y}<extra></extra>",
         "legendgroup": "111",
         "marker": {
          "color": "#EF553B",
          "symbol": "circle"
         },
         "mode": "markers",
         "name": "111",
         "orientation": "h",
         "showlegend": true,
         "type": "scatter",
         "x": [
          192.65
         ],
         "xaxis": "x",
         "y": [
          0.08176
         ],
         "yaxis": "y"
        },
        {
         "hovertemplate": "Nr=112<br>t_kup=%{x}<br>Score=%{y}<extra></extra>",
         "legendgroup": "112",
         "marker": {
          "color": "#00cc96",
          "symbol": "circle"
         },
         "mode": "markers",
         "name": "112",
         "orientation": "h",
         "showlegend": true,
         "type": "scatter",
         "x": [
          135.27
         ],
         "xaxis": "x",
         "y": [
          0.30189
         ],
         "yaxis": "y"
        },
        {
         "hovertemplate": "Nr=113<br>t_kup=%{x}<br>Score=%{y}<extra></extra>",
         "legendgroup": "113",
         "marker": {
          "color": "#ab63fa",
          "symbol": "circle"
         },
         "mode": "markers",
         "name": "113",
         "orientation": "h",
         "showlegend": true,
         "type": "scatter",
         "x": [
          105.18
         ],
         "xaxis": "x",
         "y": [
          0.34591
         ],
         "yaxis": "y"
        },
        {
         "hovertemplate": "Nr=114<br>t_kup=%{x}<br>Score=%{y}<extra></extra>",
         "legendgroup": "114",
         "marker": {
          "color": "#FFA15A",
          "symbol": "circle"
         },
         "mode": "markers",
         "name": "114",
         "orientation": "h",
         "showlegend": true,
         "type": "scatter",
         "x": [
          157
         ],
         "xaxis": "x",
         "y": [
          0.18868
         ],
         "yaxis": "y"
        },
        {
         "hovertemplate": "Nr=115<br>t_kup=%{x}<br>Score=%{y}<extra></extra>",
         "legendgroup": "115",
         "marker": {
          "color": "#19d3f3",
          "symbol": "circle"
         },
         "mode": "markers",
         "name": "115",
         "orientation": "h",
         "showlegend": true,
         "type": "scatter",
         "x": [
          80.33
         ],
         "xaxis": "x",
         "y": [
          0.28931
         ],
         "yaxis": "y"
        },
        {
         "hovertemplate": "Nr=116<br>t_kup=%{x}<br>Score=%{y}<extra></extra>",
         "legendgroup": "116",
         "marker": {
          "color": "#FF6692",
          "symbol": "circle"
         },
         "mode": "markers",
         "name": "116",
         "orientation": "h",
         "showlegend": true,
         "type": "scatter",
         "x": [
          208.77
         ],
         "xaxis": "x",
         "y": [
          0.21384
         ],
         "yaxis": "y"
        },
        {
         "hovertemplate": "Nr=117<br>t_kup=%{x}<br>Score=%{y}<extra></extra>",
         "legendgroup": "117",
         "marker": {
          "color": "#B6E880",
          "symbol": "circle"
         },
         "mode": "markers",
         "name": "117",
         "orientation": "h",
         "showlegend": true,
         "type": "scatter",
         "x": [
          200.68
         ],
         "xaxis": "x",
         "y": [
          0.16352
         ],
         "yaxis": "y"
        },
        {
         "hovertemplate": "Nr=118<br>t_kup=%{x}<br>Score=%{y}<extra></extra>",
         "legendgroup": "118",
         "marker": {
          "color": "#FF97FF",
          "symbol": "circle"
         },
         "mode": "markers",
         "name": "118",
         "orientation": "h",
         "showlegend": true,
         "type": "scatter",
         "x": [
          137.12
         ],
         "xaxis": "x",
         "y": [
          0.62893
         ],
         "yaxis": "y"
        },
        {
         "hovertemplate": "Nr=119<br>t_kup=%{x}<br>Score=%{y}<extra></extra>",
         "legendgroup": "119",
         "marker": {
          "color": "#FECB52",
          "symbol": "circle"
         },
         "mode": "markers",
         "name": "119",
         "orientation": "h",
         "showlegend": true,
         "type": "scatter",
         "x": [
          121.62
         ],
         "xaxis": "x",
         "y": [
          0.03774
         ],
         "yaxis": "y"
        },
        {
         "hovertemplate": "Nr=120<br>t_kup=%{x}<br>Score=%{y}<extra></extra>",
         "legendgroup": "120",
         "marker": {
          "color": "#636efa",
          "symbol": "circle"
         },
         "mode": "markers",
         "name": "120",
         "orientation": "h",
         "showlegend": true,
         "type": "scatter",
         "x": [
          35.09
         ],
         "xaxis": "x",
         "y": [
          0.87421
         ],
         "yaxis": "y"
        },
        {
         "hovertemplate": "Nr=121<br>t_kup=%{x}<br>Score=%{y}<extra></extra>",
         "legendgroup": "121",
         "marker": {
          "color": "#EF553B",
          "symbol": "circle"
         },
         "mode": "markers",
         "name": "121",
         "orientation": "h",
         "showlegend": true,
         "type": "scatter",
         "x": [
          109.65
         ],
         "xaxis": "x",
         "y": [
          0.73585
         ],
         "yaxis": "y"
        },
        {
         "hovertemplate": "Nr=122<br>t_kup=%{x}<br>Score=%{y}<extra></extra>",
         "legendgroup": "122",
         "marker": {
          "color": "#00cc96",
          "symbol": "circle"
         },
         "mode": "markers",
         "name": "122",
         "orientation": "h",
         "showlegend": true,
         "type": "scatter",
         "x": [
          90.6
         ],
         "xaxis": "x",
         "y": [
          0.44025
         ],
         "yaxis": "y"
        },
        {
         "hovertemplate": "Nr=123<br>t_kup=%{x}<br>Score=%{y}<extra></extra>",
         "legendgroup": "123",
         "marker": {
          "color": "#ab63fa",
          "symbol": "circle"
         },
         "mode": "markers",
         "name": "123",
         "orientation": "h",
         "showlegend": true,
         "type": "scatter",
         "x": [
          81.37
         ],
         "xaxis": "x",
         "y": [
          0.32704
         ],
         "yaxis": "y"
        },
        {
         "hovertemplate": "Nr=124<br>t_kup=%{x}<br>Score=%{y}<extra></extra>",
         "legendgroup": "124",
         "marker": {
          "color": "#FFA15A",
          "symbol": "circle"
         },
         "mode": "markers",
         "name": "124",
         "orientation": "h",
         "showlegend": true,
         "type": "scatter",
         "x": [
          48.73
         ],
         "xaxis": "x",
         "y": [
          0.46541
         ],
         "yaxis": "y"
        },
        {
         "hovertemplate": "Nr=125<br>t_kup=%{x}<br>Score=%{y}<extra></extra>",
         "legendgroup": "125",
         "marker": {
          "color": "#19d3f3",
          "symbol": "circle"
         },
         "mode": "markers",
         "name": "125",
         "orientation": "h",
         "showlegend": true,
         "type": "scatter",
         "x": [
          66.38
         ],
         "xaxis": "x",
         "y": [
          0.57862
         ],
         "yaxis": "y"
        },
        {
         "hovertemplate": "Nr=126<br>t_kup=%{x}<br>Score=%{y}<extra></extra>",
         "legendgroup": "126",
         "marker": {
          "color": "#FF6692",
          "symbol": "circle"
         },
         "mode": "markers",
         "name": "126",
         "orientation": "h",
         "showlegend": true,
         "type": "scatter",
         "x": [
          100.26
         ],
         "xaxis": "x",
         "y": [
          0.8239
         ],
         "yaxis": "y"
        },
        {
         "hovertemplate": "Nr=127<br>t_kup=%{x}<br>Score=%{y}<extra></extra>",
         "legendgroup": "127",
         "marker": {
          "color": "#B6E880",
          "symbol": "circle"
         },
         "mode": "markers",
         "name": "127",
         "orientation": "h",
         "showlegend": true,
         "type": "scatter",
         "x": [
          100.27
         ],
         "xaxis": "x",
         "y": [
          0.96855
         ],
         "yaxis": "y"
        },
        {
         "hovertemplate": "Nr=128<br>t_kup=%{x}<br>Score=%{y}<extra></extra>",
         "legendgroup": "128",
         "marker": {
          "color": "#FF97FF",
          "symbol": "circle"
         },
         "mode": "markers",
         "name": "128",
         "orientation": "h",
         "showlegend": true,
         "type": "scatter",
         "x": [
          57.6
         ],
         "xaxis": "x",
         "y": [
          0.85535
         ],
         "yaxis": "y"
        },
        {
         "hovertemplate": "Nr=129<br>t_kup=%{x}<br>Score=%{y}<extra></extra>",
         "legendgroup": "129",
         "marker": {
          "color": "#FECB52",
          "symbol": "circle"
         },
         "mode": "markers",
         "name": "129",
         "orientation": "h",
         "showlegend": true,
         "type": "scatter",
         "x": [
          118.46
         ],
         "xaxis": "x",
         "y": [
          0.45283
         ],
         "yaxis": "y"
        },
        {
         "hovertemplate": "Nr=130<br>t_kup=%{x}<br>Score=%{y}<extra></extra>",
         "legendgroup": "130",
         "marker": {
          "color": "#636efa",
          "symbol": "circle"
         },
         "mode": "markers",
         "name": "130",
         "orientation": "h",
         "showlegend": true,
         "type": "scatter",
         "x": [
          103.06
         ],
         "xaxis": "x",
         "y": [
          0.91824
         ],
         "yaxis": "y"
        },
        {
         "hovertemplate": "Nr=131<br>t_kup=%{x}<br>Score=%{y}<extra></extra>",
         "legendgroup": "131",
         "marker": {
          "color": "#EF553B",
          "symbol": "circle"
         },
         "mode": "markers",
         "name": "131",
         "orientation": "h",
         "showlegend": true,
         "type": "scatter",
         "x": [
          65.78
         ],
         "xaxis": "x",
         "y": [
          0.47799
         ],
         "yaxis": "y"
        },
        {
         "hovertemplate": "Nr=132<br>t_kup=%{x}<br>Score=%{y}<extra></extra>",
         "legendgroup": "132",
         "marker": {
          "color": "#00cc96",
          "symbol": "circle"
         },
         "mode": "markers",
         "name": "132",
         "orientation": "h",
         "showlegend": true,
         "type": "scatter",
         "x": [
          107.24
         ],
         "xaxis": "x",
         "y": [
          0.67296
         ],
         "yaxis": "y"
        },
        {
         "hovertemplate": "Nr=133<br>t_kup=%{x}<br>Score=%{y}<extra></extra>",
         "legendgroup": "133",
         "marker": {
          "color": "#ab63fa",
          "symbol": "circle"
         },
         "mode": "markers",
         "name": "133",
         "orientation": "h",
         "showlegend": true,
         "type": "scatter",
         "x": [
          83.59
         ],
         "xaxis": "x",
         "y": [
          0.6478
         ],
         "yaxis": "y"
        },
        {
         "hovertemplate": "Nr=134<br>t_kup=%{x}<br>Score=%{y}<extra></extra>",
         "legendgroup": "134",
         "marker": {
          "color": "#FFA15A",
          "symbol": "circle"
         },
         "mode": "markers",
         "name": "134",
         "orientation": "h",
         "showlegend": true,
         "type": "scatter",
         "x": [
          48.46
         ],
         "xaxis": "x",
         "y": [
          0.83019
         ],
         "yaxis": "y"
        },
        {
         "hovertemplate": "Nr=135<br>t_kup=%{x}<br>Score=%{y}<extra></extra>",
         "legendgroup": "135",
         "marker": {
          "color": "#19d3f3",
          "symbol": "circle"
         },
         "mode": "markers",
         "name": "135",
         "orientation": "h",
         "showlegend": true,
         "type": "scatter",
         "x": [
          34.74
         ],
         "xaxis": "x",
         "y": [
          0.98742
         ],
         "yaxis": "y"
        },
        {
         "hovertemplate": "Nr=136<br>t_kup=%{x}<br>Score=%{y}<extra></extra>",
         "legendgroup": "136",
         "marker": {
          "color": "#FF6692",
          "symbol": "circle"
         },
         "mode": "markers",
         "name": "136",
         "orientation": "h",
         "showlegend": true,
         "type": "scatter",
         "x": [
          35.48
         ],
         "xaxis": "x",
         "y": [
          0.44654
         ],
         "yaxis": "y"
        },
        {
         "hovertemplate": "Nr=137<br>t_kup=%{x}<br>Score=%{y}<extra></extra>",
         "legendgroup": "137",
         "marker": {
          "color": "#B6E880",
          "symbol": "circle"
         },
         "mode": "markers",
         "name": "137",
         "orientation": "h",
         "showlegend": true,
         "type": "scatter",
         "x": [
          124.42
         ],
         "xaxis": "x",
         "y": [
          0.35849
         ],
         "yaxis": "y"
        },
        {
         "hovertemplate": "Nr=138<br>t_kup=%{x}<br>Score=%{y}<extra></extra>",
         "legendgroup": "138",
         "marker": {
          "color": "#FF97FF",
          "symbol": "circle"
         },
         "mode": "markers",
         "name": "138",
         "orientation": "h",
         "showlegend": true,
         "type": "scatter",
         "x": [
          60.54
         ],
         "xaxis": "x",
         "y": [
          0.93082
         ],
         "yaxis": "y"
        },
        {
         "hovertemplate": "Nr=139<br>t_kup=%{x}<br>Score=%{y}<extra></extra>",
         "legendgroup": "139",
         "marker": {
          "color": "#FECB52",
          "symbol": "circle"
         },
         "mode": "markers",
         "name": "139",
         "orientation": "h",
         "showlegend": true,
         "type": "scatter",
         "x": [
          57.91
         ],
         "xaxis": "x",
         "y": [
          0.75472
         ],
         "yaxis": "y"
        },
        {
         "hovertemplate": "Nr=140<br>t_kup=%{x}<br>Score=%{y}<extra></extra>",
         "legendgroup": "140",
         "marker": {
          "color": "#636efa",
          "symbol": "circle"
         },
         "mode": "markers",
         "name": "140",
         "orientation": "h",
         "showlegend": true,
         "type": "scatter",
         "x": [
          72.04
         ],
         "xaxis": "x",
         "y": [
          0.94969
         ],
         "yaxis": "y"
        },
        {
         "hovertemplate": "Nr=141<br>t_kup=%{x}<br>Score=%{y}<extra></extra>",
         "legendgroup": "141",
         "marker": {
          "color": "#EF553B",
          "symbol": "circle"
         },
         "mode": "markers",
         "name": "141",
         "orientation": "h",
         "showlegend": true,
         "type": "scatter",
         "x": [
          68.48
         ],
         "xaxis": "x",
         "y": [
          0.89308
         ],
         "yaxis": "y"
        },
        {
         "hovertemplate": "Nr=142<br>t_kup=%{x}<br>Score=%{y}<extra></extra>",
         "legendgroup": "142",
         "marker": {
          "color": "#00cc96",
          "symbol": "circle"
         },
         "mode": "markers",
         "name": "142",
         "orientation": "h",
         "showlegend": true,
         "type": "scatter",
         "x": [
          79.54
         ],
         "xaxis": "x",
         "y": [
          0.10063
         ],
         "yaxis": "y"
        },
        {
         "hovertemplate": "Nr=143<br>t_kup=%{x}<br>Score=%{y}<extra></extra>",
         "legendgroup": "143",
         "marker": {
          "color": "#ab63fa",
          "symbol": "circle"
         },
         "mode": "markers",
         "name": "143",
         "orientation": "h",
         "showlegend": true,
         "type": "scatter",
         "x": [
          24.32
         ],
         "xaxis": "x",
         "y": [
          0.71069
         ],
         "yaxis": "y"
        },
        {
         "hovertemplate": "Nr=144<br>t_kup=%{x}<br>Score=%{y}<extra></extra>",
         "legendgroup": "144",
         "marker": {
          "color": "#FFA15A",
          "symbol": "circle"
         },
         "mode": "markers",
         "name": "144",
         "orientation": "h",
         "showlegend": true,
         "type": "scatter",
         "x": [
          57.9
         ],
         "xaxis": "x",
         "y": [
          0.81132
         ],
         "yaxis": "y"
        },
        {
         "hovertemplate": "Nr=145<br>t_kup=%{x}<br>Score=%{y}<extra></extra>",
         "legendgroup": "145",
         "marker": {
          "color": "#19d3f3",
          "symbol": "circle"
         },
         "mode": "markers",
         "name": "145",
         "orientation": "h",
         "showlegend": true,
         "type": "scatter",
         "x": [
          29.79
         ],
         "xaxis": "x",
         "y": [
          0.99371
         ],
         "yaxis": "y"
        },
        {
         "hovertemplate": "Nr=146<br>t_kup=%{x}<br>Score=%{y}<extra></extra>",
         "legendgroup": "146",
         "marker": {
          "color": "#FF6692",
          "symbol": "circle"
         },
         "mode": "markers",
         "name": "146",
         "orientation": "h",
         "showlegend": true,
         "type": "scatter",
         "x": [
          76.83
         ],
         "xaxis": "x",
         "y": [
          0.8805
         ],
         "yaxis": "y"
        },
        {
         "hovertemplate": "Nr=147<br>t_kup=%{x}<br>Score=%{y}<extra></extra>",
         "legendgroup": "147",
         "marker": {
          "color": "#B6E880",
          "symbol": "circle"
         },
         "mode": "markers",
         "name": "147",
         "orientation": "h",
         "showlegend": true,
         "type": "scatter",
         "x": [
          51.39
         ],
         "xaxis": "x",
         "y": [
          0.96226
         ],
         "yaxis": "y"
        },
        {
         "hovertemplate": "Nr=148<br>t_kup=%{x}<br>Score=%{y}<extra></extra>",
         "legendgroup": "148",
         "marker": {
          "color": "#FF97FF",
          "symbol": "circle"
         },
         "mode": "markers",
         "name": "148",
         "orientation": "h",
         "showlegend": true,
         "type": "scatter",
         "x": [
          111.23
         ],
         "xaxis": "x",
         "y": [
          0.79245
         ],
         "yaxis": "y"
        },
        {
         "hovertemplate": "Nr=149<br>t_kup=%{x}<br>Score=%{y}<extra></extra>",
         "legendgroup": "149",
         "marker": {
          "color": "#FECB52",
          "symbol": "circle"
         },
         "mode": "markers",
         "name": "149",
         "orientation": "h",
         "showlegend": true,
         "type": "scatter",
         "x": [
          59.3
         ],
         "xaxis": "x",
         "y": [
          0.89937
         ],
         "yaxis": "y"
        },
        {
         "hovertemplate": "Nr=150<br>t_kup=%{x}<br>Score=%{y}<extra></extra>",
         "legendgroup": "150",
         "marker": {
          "color": "#636efa",
          "symbol": "circle"
         },
         "mode": "markers",
         "name": "150",
         "orientation": "h",
         "showlegend": true,
         "type": "scatter",
         "x": [
          55.49
         ],
         "xaxis": "x",
         "y": [
          0.86792
         ],
         "yaxis": "y"
        },
        {
         "hovertemplate": "Nr=151<br>t_kup=%{x}<br>Score=%{y}<extra></extra>",
         "legendgroup": "151",
         "marker": {
          "color": "#EF553B",
          "symbol": "circle"
         },
         "mode": "markers",
         "name": "151",
         "orientation": "h",
         "showlegend": true,
         "type": "scatter",
         "x": [
          72.27
         ],
         "xaxis": "x",
         "y": [
          0.64151
         ],
         "yaxis": "y"
        },
        {
         "hovertemplate": "Nr=152<br>t_kup=%{x}<br>Score=%{y}<extra></extra>",
         "legendgroup": "152",
         "marker": {
          "color": "#00cc96",
          "symbol": "circle"
         },
         "mode": "markers",
         "name": "152",
         "orientation": "h",
         "showlegend": true,
         "type": "scatter",
         "x": [
          57
         ],
         "xaxis": "x",
         "y": [
          0.92453
         ],
         "yaxis": "y"
        },
        {
         "hovertemplate": "Nr=153<br>t_kup=%{x}<br>Score=%{y}<extra></extra>",
         "legendgroup": "153",
         "marker": {
          "color": "#ab63fa",
          "symbol": "circle"
         },
         "mode": "markers",
         "name": "153",
         "orientation": "h",
         "showlegend": true,
         "type": "scatter",
         "x": [
          34.22
         ],
         "xaxis": "x",
         "y": [
          1
         ],
         "yaxis": "y"
        },
        {
         "hovertemplate": "Nr=154<br>t_kup=%{x}<br>Score=%{y}<extra></extra>",
         "legendgroup": "154",
         "marker": {
          "color": "#FFA15A",
          "symbol": "circle"
         },
         "mode": "markers",
         "name": "154",
         "orientation": "h",
         "showlegend": true,
         "type": "scatter",
         "x": [
          77.24
         ],
         "xaxis": "x",
         "y": [
          0.83648
         ],
         "yaxis": "y"
        },
        {
         "hovertemplate": "Nr=155<br>t_kup=%{x}<br>Score=%{y}<extra></extra>",
         "legendgroup": "155",
         "marker": {
          "color": "#19d3f3",
          "symbol": "circle"
         },
         "mode": "markers",
         "name": "155",
         "orientation": "h",
         "showlegend": true,
         "type": "scatter",
         "x": [
          47.53
         ],
         "xaxis": "x",
         "y": [
          0.68553
         ],
         "yaxis": "y"
        },
        {
         "hovertemplate": "Nr=156<br>t_kup=%{x}<br>Score=%{y}<extra></extra>",
         "legendgroup": "156",
         "marker": {
          "color": "#FF6692",
          "symbol": "circle"
         },
         "mode": "markers",
         "name": "156",
         "orientation": "h",
         "showlegend": true,
         "type": "scatter",
         "x": [
          89.09
         ],
         "xaxis": "x",
         "y": [
          0.77987
         ],
         "yaxis": "y"
        },
        {
         "hovertemplate": "Nr=157<br>t_kup=%{x}<br>Score=%{y}<extra></extra>",
         "legendgroup": "157",
         "marker": {
          "color": "#B6E880",
          "symbol": "circle"
         },
         "mode": "markers",
         "name": "157",
         "orientation": "h",
         "showlegend": true,
         "type": "scatter",
         "x": [
          86.02
         ],
         "xaxis": "x",
         "y": [
          0.95597
         ],
         "yaxis": "y"
        },
        {
         "hovertemplate": "Nr=158<br>t_kup=%{x}<br>Score=%{y}<extra></extra>",
         "legendgroup": "158",
         "marker": {
          "color": "#FF97FF",
          "symbol": "circle"
         },
         "mode": "markers",
         "name": "158",
         "orientation": "h",
         "showlegend": true,
         "type": "scatter",
         "x": [
          46.84
         ],
         "xaxis": "x",
         "y": [
          0.98113
         ],
         "yaxis": "y"
        },
        {
         "hovertemplate": "Nr=159<br>t_kup=%{x}<br>Score=%{y}<extra></extra>",
         "legendgroup": "159",
         "marker": {
          "color": "#FECB52",
          "symbol": "circle"
         },
         "mode": "markers",
         "name": "159",
         "orientation": "h",
         "showlegend": true,
         "type": "scatter",
         "x": [
          72.63
         ],
         "xaxis": "x",
         "y": [
          0.91195
         ],
         "yaxis": "y"
        },
        {
         "hovertemplate": "<b>OLS trendline</b><br>Score = -0.00397728 * t_kup + 0.938178<br>R<sup>2</sup>=0.409436<br><br>t_kup=%{x}<br>Score=%{y} <b>(trend)</b><extra></extra>",
         "legendgroup": "Overall Trendline",
         "line": {
          "color": "#636efa"
         },
         "mode": "lines",
         "name": "Overall Trendline",
         "showlegend": true,
         "type": "scatter",
         "x": [
          24.32,
          29.79,
          32.81,
          34.22,
          34.74,
          35.09,
          35.48,
          36.58,
          39.53,
          43.6,
          46.84,
          47.53,
          48.46,
          48.73,
          51.15,
          51.39,
          52.41,
          52.92,
          54.24,
          55.49,
          55.59,
          57,
          57.6,
          57.9,
          57.91,
          59.3,
          60.54,
          61.18,
          61.58,
          63.75,
          65.78,
          66.38,
          66.62,
          67.74,
          68.48,
          69.71,
          72.04,
          72.07,
          72.27,
          72.63,
          74.02,
          76.48,
          76.83,
          77.18,
          77.24,
          77.28,
          78.64,
          79.54,
          80.26,
          80.33,
          81.37,
          81.62,
          82.32,
          83.59,
          85.88,
          86.02,
          87.29,
          89.09,
          90.6,
          91.25,
          92.3,
          93.69,
          95.29,
          97.35,
          97.49,
          98.74,
          100.26,
          100.27,
          101.61,
          101.68,
          101.73,
          101.84,
          103.06,
          103.43,
          104.45,
          104.76,
          105.18,
          105.51,
          107.24,
          108.79,
          109.29,
          109.29,
          109.65,
          111.02,
          111.23,
          112.04,
          114.06,
          114.07,
          115.75,
          116.07,
          116.66,
          117.81,
          117.81,
          118.23,
          118.42,
          118.46,
          118.51,
          119.29,
          120.38,
          121.11,
          121.41,
          121.62,
          121.8,
          121.96,
          122.18,
          123.26,
          124.42,
          124.58,
          127.9,
          129.49,
          130.77,
          131.01,
          131.77,
          131.86,
          135.27,
          136.63,
          136.71,
          137.12,
          137.52,
          138.68,
          139.79,
          140.96,
          141.66,
          141.72,
          142.39,
          144.7,
          144.98,
          145.12,
          146.38,
          149.65,
          152.54,
          152.81,
          155.06,
          156.25,
          157,
          159.77,
          160.36,
          162.19,
          163.37,
          163.8,
          168.69,
          169.49,
          177.16,
          177.47,
          178.04,
          182.94,
          183.4,
          186.31,
          191.51,
          191.93,
          192.65,
          195.74,
          196.8,
          200.68,
          204.93,
          208.77,
          222.36,
          223.59,
          227.6,
          228.7
         ],
         "xaxis": "x",
         "y": [
          0.8414505575729794,
          0.8196948628549983,
          0.8076834920966247,
          0.8020755342259934,
          0.8000073511815052,
          0.7986153049015613,
          0.7970641676181952,
          0.7926891650240857,
          0.7809562035217009,
          0.7647686939234957,
          0.7518823226463003,
          0.7491380028372678,
          0.7454391370077026,
          0.744365272734603,
          0.734740267027562,
          0.7337857210070289,
          0.7297289004197638,
          0.7277004901261311,
          0.7224504870131997,
          0.717478893156257,
          0.7170811656477016,
          0.7114732077770702,
          0.7090868427257377,
          0.7078936602000716,
          0.707853887449216,
          0.7023254750802957,
          0.6973936539742086,
          0.694848197919454,
          0.6932572878852323,
          0.6846266009495798,
          0.676552732525905,
          0.6741663674745726,
          0.6732118214540395,
          0.6687572733582189,
          0.6658140897949087,
          0.6609220414396773,
          0.6516549904903362,
          0.6515356722377694,
          0.6507402172206587,
          0.6493083981898592,
          0.643779985820939,
          0.6339958891104758,
          0.6326038428305318,
          0.6312117965505879,
          0.6309731600454547,
          0.6308140690420325,
          0.6254049749256788,
          0.6218254273486801,
          0.6189617892870811,
          0.6186833800310924,
          0.6145470139421161,
          0.6135526951707275,
          0.6107686026108397,
          0.6057174632521858,
          0.5966095033062669,
          0.5960526847942893,
          0.5910015454356355,
          0.5838424502816382,
          0.5778367649024514,
          0.5752515360968412,
          0.5710753972570094,
          0.5655469848880892,
          0.5591833447512025,
          0.550990158074961,
          0.5504333395629835,
          0.5454617457060408,
          0.5394162875759985,
          0.5393765148251429,
          0.5340469662105004,
          0.5337685569545116,
          0.5335696932002338,
          0.5331321929408229,
          0.528279917336447,
          0.5268083255547918,
          0.5227515049675266,
          0.5215185496910049,
          0.519848094155072,
          0.5185355933768392,
          0.5116549074788306,
          0.5054901310962217,
          0.5035014935534446,
          0.5035014935534446,
          0.5020696745226452,
          0.49662080765543604,
          0.49578557988746963,
          0.4925639870681708,
          0.4845298913953514,
          0.4844901186444959,
          0.47780829650076495,
          0.4765355684733876,
          0.4741889761729107,
          0.4696151098245234,
          0.4696151098245234,
          0.46794465428859067,
          0.4671889720223354,
          0.4670298810189133,
          0.46683101726463555,
          0.4637287426979033,
          0.45939351285464936,
          0.4564901020421948,
          0.45529691951652856,
          0.45446169174856216,
          0.4537457822331625,
          0.4531094182194738,
          0.45223441770065187,
          0.4479389606082534,
          0.4433253215090106,
          0.44268895749532194,
          0.4294844042112822,
          0.4231605368252511,
          0.4180696247157418,
          0.4171150786952089,
          0.4140923496301877,
          0.41373439487248787,
          0.4001718868307482,
          0.39476279271439463,
          0.3944446107075503,
          0.39281392792247316,
          0.3912230178882514,
          0.3866093787890087,
          0.38219460344404366,
          0.3775411915939453,
          0.3747570990340574,
          0.37451846252892407,
          0.3718536882216029,
          0.3626661827739729,
          0.3615525457500177,
          0.3609957272380401,
          0.35598436063024186,
          0.34297867110047986,
          0.3314843461032284,
          0.3304104818301288,
          0.321461612887632,
          0.3167286555358225,
          0.31374569922165696,
          0.30272864723467197,
          0.300382054934195,
          0.293103641527631,
          0.2884104569266771,
          0.28670022863988887,
          0.2672513534715292,
          0.2640695334030858,
          0.2335638334968857,
          0.2323308782203639,
          0.23006383142159803,
          0.2105751835023828,
          0.20874563696302784,
          0.1971717664640653,
          0.17648993601918384,
          0.17481948048325102,
          0.17195584242165207,
          0.15966606240728987,
          0.1554501508166024,
          0.14001832348465237,
          0.12311490437104733,
          0.10784216804251945,
          0.0537909996298388,
          0.048898951274607194,
          0.03295007818153517,
          0.02857507558742567
         ],
         "yaxis": "y"
        }
       ],
       "layout": {
        "height": 400,
        "legend": {
         "title": {
          "text": "Nr"
         },
         "tracegroupgap": 0
        },
        "showlegend": false,
        "template": {
         "data": {
          "bar": [
           {
            "error_x": {
             "color": "#2a3f5f"
            },
            "error_y": {
             "color": "#2a3f5f"
            },
            "marker": {
             "line": {
              "color": "#E5ECF6",
              "width": 0.5
             },
             "pattern": {
              "fillmode": "overlay",
              "size": 10,
              "solidity": 0.2
             }
            },
            "type": "bar"
           }
          ],
          "barpolar": [
           {
            "marker": {
             "line": {
              "color": "#E5ECF6",
              "width": 0.5
             },
             "pattern": {
              "fillmode": "overlay",
              "size": 10,
              "solidity": 0.2
             }
            },
            "type": "barpolar"
           }
          ],
          "carpet": [
           {
            "aaxis": {
             "endlinecolor": "#2a3f5f",
             "gridcolor": "white",
             "linecolor": "white",
             "minorgridcolor": "white",
             "startlinecolor": "#2a3f5f"
            },
            "baxis": {
             "endlinecolor": "#2a3f5f",
             "gridcolor": "white",
             "linecolor": "white",
             "minorgridcolor": "white",
             "startlinecolor": "#2a3f5f"
            },
            "type": "carpet"
           }
          ],
          "choropleth": [
           {
            "colorbar": {
             "outlinewidth": 0,
             "ticks": ""
            },
            "type": "choropleth"
           }
          ],
          "contour": [
           {
            "colorbar": {
             "outlinewidth": 0,
             "ticks": ""
            },
            "colorscale": [
             [
              0,
              "#0d0887"
             ],
             [
              0.1111111111111111,
              "#46039f"
             ],
             [
              0.2222222222222222,
              "#7201a8"
             ],
             [
              0.3333333333333333,
              "#9c179e"
             ],
             [
              0.4444444444444444,
              "#bd3786"
             ],
             [
              0.5555555555555556,
              "#d8576b"
             ],
             [
              0.6666666666666666,
              "#ed7953"
             ],
             [
              0.7777777777777778,
              "#fb9f3a"
             ],
             [
              0.8888888888888888,
              "#fdca26"
             ],
             [
              1,
              "#f0f921"
             ]
            ],
            "type": "contour"
           }
          ],
          "contourcarpet": [
           {
            "colorbar": {
             "outlinewidth": 0,
             "ticks": ""
            },
            "type": "contourcarpet"
           }
          ],
          "heatmap": [
           {
            "colorbar": {
             "outlinewidth": 0,
             "ticks": ""
            },
            "colorscale": [
             [
              0,
              "#0d0887"
             ],
             [
              0.1111111111111111,
              "#46039f"
             ],
             [
              0.2222222222222222,
              "#7201a8"
             ],
             [
              0.3333333333333333,
              "#9c179e"
             ],
             [
              0.4444444444444444,
              "#bd3786"
             ],
             [
              0.5555555555555556,
              "#d8576b"
             ],
             [
              0.6666666666666666,
              "#ed7953"
             ],
             [
              0.7777777777777778,
              "#fb9f3a"
             ],
             [
              0.8888888888888888,
              "#fdca26"
             ],
             [
              1,
              "#f0f921"
             ]
            ],
            "type": "heatmap"
           }
          ],
          "heatmapgl": [
           {
            "colorbar": {
             "outlinewidth": 0,
             "ticks": ""
            },
            "colorscale": [
             [
              0,
              "#0d0887"
             ],
             [
              0.1111111111111111,
              "#46039f"
             ],
             [
              0.2222222222222222,
              "#7201a8"
             ],
             [
              0.3333333333333333,
              "#9c179e"
             ],
             [
              0.4444444444444444,
              "#bd3786"
             ],
             [
              0.5555555555555556,
              "#d8576b"
             ],
             [
              0.6666666666666666,
              "#ed7953"
             ],
             [
              0.7777777777777778,
              "#fb9f3a"
             ],
             [
              0.8888888888888888,
              "#fdca26"
             ],
             [
              1,
              "#f0f921"
             ]
            ],
            "type": "heatmapgl"
           }
          ],
          "histogram": [
           {
            "marker": {
             "pattern": {
              "fillmode": "overlay",
              "size": 10,
              "solidity": 0.2
             }
            },
            "type": "histogram"
           }
          ],
          "histogram2d": [
           {
            "colorbar": {
             "outlinewidth": 0,
             "ticks": ""
            },
            "colorscale": [
             [
              0,
              "#0d0887"
             ],
             [
              0.1111111111111111,
              "#46039f"
             ],
             [
              0.2222222222222222,
              "#7201a8"
             ],
             [
              0.3333333333333333,
              "#9c179e"
             ],
             [
              0.4444444444444444,
              "#bd3786"
             ],
             [
              0.5555555555555556,
              "#d8576b"
             ],
             [
              0.6666666666666666,
              "#ed7953"
             ],
             [
              0.7777777777777778,
              "#fb9f3a"
             ],
             [
              0.8888888888888888,
              "#fdca26"
             ],
             [
              1,
              "#f0f921"
             ]
            ],
            "type": "histogram2d"
           }
          ],
          "histogram2dcontour": [
           {
            "colorbar": {
             "outlinewidth": 0,
             "ticks": ""
            },
            "colorscale": [
             [
              0,
              "#0d0887"
             ],
             [
              0.1111111111111111,
              "#46039f"
             ],
             [
              0.2222222222222222,
              "#7201a8"
             ],
             [
              0.3333333333333333,
              "#9c179e"
             ],
             [
              0.4444444444444444,
              "#bd3786"
             ],
             [
              0.5555555555555556,
              "#d8576b"
             ],
             [
              0.6666666666666666,
              "#ed7953"
             ],
             [
              0.7777777777777778,
              "#fb9f3a"
             ],
             [
              0.8888888888888888,
              "#fdca26"
             ],
             [
              1,
              "#f0f921"
             ]
            ],
            "type": "histogram2dcontour"
           }
          ],
          "mesh3d": [
           {
            "colorbar": {
             "outlinewidth": 0,
             "ticks": ""
            },
            "type": "mesh3d"
           }
          ],
          "parcoords": [
           {
            "line": {
             "colorbar": {
              "outlinewidth": 0,
              "ticks": ""
             }
            },
            "type": "parcoords"
           }
          ],
          "pie": [
           {
            "automargin": true,
            "type": "pie"
           }
          ],
          "scatter": [
           {
            "fillpattern": {
             "fillmode": "overlay",
             "size": 10,
             "solidity": 0.2
            },
            "type": "scatter"
           }
          ],
          "scatter3d": [
           {
            "line": {
             "colorbar": {
              "outlinewidth": 0,
              "ticks": ""
             }
            },
            "marker": {
             "colorbar": {
              "outlinewidth": 0,
              "ticks": ""
             }
            },
            "type": "scatter3d"
           }
          ],
          "scattercarpet": [
           {
            "marker": {
             "colorbar": {
              "outlinewidth": 0,
              "ticks": ""
             }
            },
            "type": "scattercarpet"
           }
          ],
          "scattergeo": [
           {
            "marker": {
             "colorbar": {
              "outlinewidth": 0,
              "ticks": ""
             }
            },
            "type": "scattergeo"
           }
          ],
          "scattergl": [
           {
            "marker": {
             "colorbar": {
              "outlinewidth": 0,
              "ticks": ""
             }
            },
            "type": "scattergl"
           }
          ],
          "scattermapbox": [
           {
            "marker": {
             "colorbar": {
              "outlinewidth": 0,
              "ticks": ""
             }
            },
            "type": "scattermapbox"
           }
          ],
          "scatterpolar": [
           {
            "marker": {
             "colorbar": {
              "outlinewidth": 0,
              "ticks": ""
             }
            },
            "type": "scatterpolar"
           }
          ],
          "scatterpolargl": [
           {
            "marker": {
             "colorbar": {
              "outlinewidth": 0,
              "ticks": ""
             }
            },
            "type": "scatterpolargl"
           }
          ],
          "scatterternary": [
           {
            "marker": {
             "colorbar": {
              "outlinewidth": 0,
              "ticks": ""
             }
            },
            "type": "scatterternary"
           }
          ],
          "surface": [
           {
            "colorbar": {
             "outlinewidth": 0,
             "ticks": ""
            },
            "colorscale": [
             [
              0,
              "#0d0887"
             ],
             [
              0.1111111111111111,
              "#46039f"
             ],
             [
              0.2222222222222222,
              "#7201a8"
             ],
             [
              0.3333333333333333,
              "#9c179e"
             ],
             [
              0.4444444444444444,
              "#bd3786"
             ],
             [
              0.5555555555555556,
              "#d8576b"
             ],
             [
              0.6666666666666666,
              "#ed7953"
             ],
             [
              0.7777777777777778,
              "#fb9f3a"
             ],
             [
              0.8888888888888888,
              "#fdca26"
             ],
             [
              1,
              "#f0f921"
             ]
            ],
            "type": "surface"
           }
          ],
          "table": [
           {
            "cells": {
             "fill": {
              "color": "#EBF0F8"
             },
             "line": {
              "color": "white"
             }
            },
            "header": {
             "fill": {
              "color": "#C8D4E3"
             },
             "line": {
              "color": "white"
             }
            },
            "type": "table"
           }
          ]
         },
         "layout": {
          "annotationdefaults": {
           "arrowcolor": "#2a3f5f",
           "arrowhead": 0,
           "arrowwidth": 1
          },
          "autotypenumbers": "strict",
          "coloraxis": {
           "colorbar": {
            "outlinewidth": 0,
            "ticks": ""
           }
          },
          "colorscale": {
           "diverging": [
            [
             0,
             "#8e0152"
            ],
            [
             0.1,
             "#c51b7d"
            ],
            [
             0.2,
             "#de77ae"
            ],
            [
             0.3,
             "#f1b6da"
            ],
            [
             0.4,
             "#fde0ef"
            ],
            [
             0.5,
             "#f7f7f7"
            ],
            [
             0.6,
             "#e6f5d0"
            ],
            [
             0.7,
             "#b8e186"
            ],
            [
             0.8,
             "#7fbc41"
            ],
            [
             0.9,
             "#4d9221"
            ],
            [
             1,
             "#276419"
            ]
           ],
           "sequential": [
            [
             0,
             "#0d0887"
            ],
            [
             0.1111111111111111,
             "#46039f"
            ],
            [
             0.2222222222222222,
             "#7201a8"
            ],
            [
             0.3333333333333333,
             "#9c179e"
            ],
            [
             0.4444444444444444,
             "#bd3786"
            ],
            [
             0.5555555555555556,
             "#d8576b"
            ],
            [
             0.6666666666666666,
             "#ed7953"
            ],
            [
             0.7777777777777778,
             "#fb9f3a"
            ],
            [
             0.8888888888888888,
             "#fdca26"
            ],
            [
             1,
             "#f0f921"
            ]
           ],
           "sequentialminus": [
            [
             0,
             "#0d0887"
            ],
            [
             0.1111111111111111,
             "#46039f"
            ],
            [
             0.2222222222222222,
             "#7201a8"
            ],
            [
             0.3333333333333333,
             "#9c179e"
            ],
            [
             0.4444444444444444,
             "#bd3786"
            ],
            [
             0.5555555555555556,
             "#d8576b"
            ],
            [
             0.6666666666666666,
             "#ed7953"
            ],
            [
             0.7777777777777778,
             "#fb9f3a"
            ],
            [
             0.8888888888888888,
             "#fdca26"
            ],
            [
             1,
             "#f0f921"
            ]
           ]
          },
          "colorway": [
           "#636efa",
           "#EF553B",
           "#00cc96",
           "#ab63fa",
           "#FFA15A",
           "#19d3f3",
           "#FF6692",
           "#B6E880",
           "#FF97FF",
           "#FECB52"
          ],
          "font": {
           "color": "#2a3f5f"
          },
          "geo": {
           "bgcolor": "white",
           "lakecolor": "white",
           "landcolor": "#E5ECF6",
           "showlakes": true,
           "showland": true,
           "subunitcolor": "white"
          },
          "hoverlabel": {
           "align": "left"
          },
          "hovermode": "closest",
          "mapbox": {
           "style": "light"
          },
          "paper_bgcolor": "white",
          "plot_bgcolor": "#E5ECF6",
          "polar": {
           "angularaxis": {
            "gridcolor": "white",
            "linecolor": "white",
            "ticks": ""
           },
           "bgcolor": "#E5ECF6",
           "radialaxis": {
            "gridcolor": "white",
            "linecolor": "white",
            "ticks": ""
           }
          },
          "scene": {
           "xaxis": {
            "backgroundcolor": "#E5ECF6",
            "gridcolor": "white",
            "gridwidth": 2,
            "linecolor": "white",
            "showbackground": true,
            "ticks": "",
            "zerolinecolor": "white"
           },
           "yaxis": {
            "backgroundcolor": "#E5ECF6",
            "gridcolor": "white",
            "gridwidth": 2,
            "linecolor": "white",
            "showbackground": true,
            "ticks": "",
            "zerolinecolor": "white"
           },
           "zaxis": {
            "backgroundcolor": "#E5ECF6",
            "gridcolor": "white",
            "gridwidth": 2,
            "linecolor": "white",
            "showbackground": true,
            "ticks": "",
            "zerolinecolor": "white"
           }
          },
          "shapedefaults": {
           "line": {
            "color": "#2a3f5f"
           }
          },
          "ternary": {
           "aaxis": {
            "gridcolor": "white",
            "linecolor": "white",
            "ticks": ""
           },
           "baxis": {
            "gridcolor": "white",
            "linecolor": "white",
            "ticks": ""
           },
           "bgcolor": "#E5ECF6",
           "caxis": {
            "gridcolor": "white",
            "linecolor": "white",
            "ticks": ""
           }
          },
          "title": {
           "x": 0.05
          },
          "xaxis": {
           "automargin": true,
           "gridcolor": "white",
           "linecolor": "white",
           "ticks": "",
           "title": {
            "standoff": 15
           },
           "zerolinecolor": "white",
           "zerolinewidth": 2
          },
          "yaxis": {
           "automargin": true,
           "gridcolor": "white",
           "linecolor": "white",
           "ticks": "",
           "title": {
            "standoff": 15
           },
           "zerolinecolor": "white",
           "zerolinewidth": 2
          }
         }
        },
        "title": {
         "text": "Correlation between amount of smog and Score"
        },
        "width": 800,
        "xaxis": {
         "anchor": "y",
         "domain": [
          0,
          1
         ],
         "title": {
          "text": "t_kup"
         }
        },
        "yaxis": {
         "anchor": "x",
         "domain": [
          0,
          1
         ],
         "title": {
          "text": "Score"
         }
        }
       }
      }
     },
     "metadata": {},
     "output_type": "display_data"
    }
   ],
   "source": [
    "aoaCorrelation2(df)"
   ]
  }
 ],
 "metadata": {
  "kernelspec": {
   "display_name": "iry",
   "language": "python",
   "name": "python3"
  },
  "language_info": {
   "codemirror_mode": {
    "name": "ipython",
    "version": 3
   },
   "file_extension": ".py",
   "mimetype": "text/x-python",
   "name": "python",
   "nbconvert_exporter": "python",
   "pygments_lexer": "ipython3",
   "version": "3.12.3"
  }
 },
 "nbformat": 4,
 "nbformat_minor": 2
}
